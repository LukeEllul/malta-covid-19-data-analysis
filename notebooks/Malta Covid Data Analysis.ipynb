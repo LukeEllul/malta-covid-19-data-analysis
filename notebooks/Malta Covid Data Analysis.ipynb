{
 "cells": [
  {
   "attachments": {},
   "cell_type": "markdown",
   "metadata": {},
   "source": [
    "# Malta Covid-19 Data Analysys"
   ]
  },
  {
   "attachments": {},
   "cell_type": "markdown",
   "metadata": {},
   "source": [
    "## Import Libraries"
   ]
  },
  {
   "cell_type": "code",
   "execution_count": 151,
   "metadata": {},
   "outputs": [],
   "source": [
    "import pandas as pd\n",
    "import numpy as np\n",
    "import calendar\n",
    "from functools import reduce\n",
    "import plotly.express as px\n",
    "import plotly.graph_objects as go\n",
    "from plotly.subplots import make_subplots\n",
    "import plotly.figure_factory as ff"
   ]
  },
  {
   "attachments": {},
   "cell_type": "markdown",
   "metadata": {},
   "source": [
    "## Load Datasets"
   ]
  },
  {
   "cell_type": "code",
   "execution_count": 199,
   "metadata": {},
   "outputs": [],
   "source": [
    "cases = pd.read_csv('../data/raw/COVID-19 Malta - Aggregate Data Set.csv')\n",
    "tests = pd.read_csv('../data/raw/COVID-19 Malta - COVID Tests.csv')\n",
    "vaccines = pd.read_csv('../data/raw/COVID-19 Malta - Vaccination Data.csv')\n",
    "hospitalized = pd.read_csv('../data/raw/COVID-19 EU - Daily Hospitalized.csv')"
   ]
  },
  {
   "attachments": {},
   "cell_type": "markdown",
   "metadata": {},
   "source": [
    "## Group Covid Cases Dataset"
   ]
  },
  {
   "cell_type": "code",
   "execution_count": 172,
   "metadata": {},
   "outputs": [
    {
     "data": {
      "text/html": [
       "<div>\n",
       "<style scoped>\n",
       "    .dataframe tbody tr th:only-of-type {\n",
       "        vertical-align: middle;\n",
       "    }\n",
       "\n",
       "    .dataframe tbody tr th {\n",
       "        vertical-align: top;\n",
       "    }\n",
       "\n",
       "    .dataframe thead th {\n",
       "        text-align: right;\n",
       "    }\n",
       "</style>\n",
       "<table border=\"1\" class=\"dataframe\">\n",
       "  <thead>\n",
       "    <tr style=\"text-align: right;\">\n",
       "      <th></th>\n",
       "      <th>Date</th>\n",
       "      <th>Year</th>\n",
       "      <th>Month</th>\n",
       "      <th>New Cases</th>\n",
       "      <th>Total Cases</th>\n",
       "      <th>Total Recovered</th>\n",
       "      <th>New Recovered</th>\n",
       "      <th>Total Deaths</th>\n",
       "      <th>New Deaths</th>\n",
       "      <th>Active Cases</th>\n",
       "    </tr>\n",
       "  </thead>\n",
       "  <tbody>\n",
       "    <tr>\n",
       "      <th>0</th>\n",
       "      <td>03/2020</td>\n",
       "      <td>2020</td>\n",
       "      <td>Mar</td>\n",
       "      <td>169</td>\n",
       "      <td>169</td>\n",
       "      <td>2</td>\n",
       "      <td>2</td>\n",
       "      <td>0</td>\n",
       "      <td>0</td>\n",
       "      <td>167</td>\n",
       "    </tr>\n",
       "    <tr>\n",
       "      <th>1</th>\n",
       "      <td>04/2020</td>\n",
       "      <td>2020</td>\n",
       "      <td>Apr</td>\n",
       "      <td>296</td>\n",
       "      <td>465</td>\n",
       "      <td>351</td>\n",
       "      <td>349</td>\n",
       "      <td>4</td>\n",
       "      <td>4</td>\n",
       "      <td>110</td>\n",
       "    </tr>\n",
       "    <tr>\n",
       "      <th>2</th>\n",
       "      <td>05/2020</td>\n",
       "      <td>2020</td>\n",
       "      <td>May</td>\n",
       "      <td>153</td>\n",
       "      <td>618</td>\n",
       "      <td>534</td>\n",
       "      <td>183</td>\n",
       "      <td>9</td>\n",
       "      <td>5</td>\n",
       "      <td>75</td>\n",
       "    </tr>\n",
       "    <tr>\n",
       "      <th>3</th>\n",
       "      <td>06/2020</td>\n",
       "      <td>2020</td>\n",
       "      <td>Jun</td>\n",
       "      <td>52</td>\n",
       "      <td>670</td>\n",
       "      <td>640</td>\n",
       "      <td>106</td>\n",
       "      <td>9</td>\n",
       "      <td>0</td>\n",
       "      <td>21</td>\n",
       "    </tr>\n",
       "    <tr>\n",
       "      <th>4</th>\n",
       "      <td>07/2020</td>\n",
       "      <td>2020</td>\n",
       "      <td>Jul</td>\n",
       "      <td>154</td>\n",
       "      <td>824</td>\n",
       "      <td>665</td>\n",
       "      <td>25</td>\n",
       "      <td>9</td>\n",
       "      <td>0</td>\n",
       "      <td>150</td>\n",
       "    </tr>\n",
       "    <tr>\n",
       "      <th>5</th>\n",
       "      <td>08/2020</td>\n",
       "      <td>2020</td>\n",
       "      <td>Aug</td>\n",
       "      <td>1164</td>\n",
       "      <td>1883</td>\n",
       "      <td>1400</td>\n",
       "      <td>735</td>\n",
       "      <td>12</td>\n",
       "      <td>3</td>\n",
       "      <td>471</td>\n",
       "    </tr>\n",
       "    <tr>\n",
       "      <th>6</th>\n",
       "      <td>09/2020</td>\n",
       "      <td>2020</td>\n",
       "      <td>Sep</td>\n",
       "      <td>1175</td>\n",
       "      <td>3058</td>\n",
       "      <td>2562</td>\n",
       "      <td>1162</td>\n",
       "      <td>34</td>\n",
       "      <td>22</td>\n",
       "      <td>462</td>\n",
       "    </tr>\n",
       "    <tr>\n",
       "      <th>7</th>\n",
       "      <td>10/2020</td>\n",
       "      <td>2020</td>\n",
       "      <td>Oct</td>\n",
       "      <td>2984</td>\n",
       "      <td>6042</td>\n",
       "      <td>4155</td>\n",
       "      <td>1593</td>\n",
       "      <td>62</td>\n",
       "      <td>28</td>\n",
       "      <td>1825</td>\n",
       "    </tr>\n",
       "    <tr>\n",
       "      <th>8</th>\n",
       "      <td>11/2020</td>\n",
       "      <td>2020</td>\n",
       "      <td>Nov</td>\n",
       "      <td>3831</td>\n",
       "      <td>9873</td>\n",
       "      <td>7665</td>\n",
       "      <td>3510</td>\n",
       "      <td>137</td>\n",
       "      <td>75</td>\n",
       "      <td>2071</td>\n",
       "    </tr>\n",
       "    <tr>\n",
       "      <th>9</th>\n",
       "      <td>12/2020</td>\n",
       "      <td>2020</td>\n",
       "      <td>Dec</td>\n",
       "      <td>2901</td>\n",
       "      <td>12774</td>\n",
       "      <td>11121</td>\n",
       "      <td>3456</td>\n",
       "      <td>219</td>\n",
       "      <td>82</td>\n",
       "      <td>1434</td>\n",
       "    </tr>\n",
       "    <tr>\n",
       "      <th>10</th>\n",
       "      <td>01/2021</td>\n",
       "      <td>2021</td>\n",
       "      <td>Jan</td>\n",
       "      <td>5129</td>\n",
       "      <td>17903</td>\n",
       "      <td>14960</td>\n",
       "      <td>3839</td>\n",
       "      <td>267</td>\n",
       "      <td>48</td>\n",
       "      <td>2676</td>\n",
       "    </tr>\n",
       "    <tr>\n",
       "      <th>11</th>\n",
       "      <td>02/2021</td>\n",
       "      <td>2021</td>\n",
       "      <td>Feb</td>\n",
       "      <td>4579</td>\n",
       "      <td>22482</td>\n",
       "      <td>19447</td>\n",
       "      <td>4487</td>\n",
       "      <td>315</td>\n",
       "      <td>48</td>\n",
       "      <td>2720</td>\n",
       "    </tr>\n",
       "    <tr>\n",
       "      <th>12</th>\n",
       "      <td>03/2021</td>\n",
       "      <td>2021</td>\n",
       "      <td>Mar</td>\n",
       "      <td>6551</td>\n",
       "      <td>29033</td>\n",
       "      <td>27805</td>\n",
       "      <td>8358</td>\n",
       "      <td>392</td>\n",
       "      <td>77</td>\n",
       "      <td>836</td>\n",
       "    </tr>\n",
       "    <tr>\n",
       "      <th>13</th>\n",
       "      <td>04/2021</td>\n",
       "      <td>2021</td>\n",
       "      <td>Apr</td>\n",
       "      <td>1259</td>\n",
       "      <td>30292</td>\n",
       "      <td>29548</td>\n",
       "      <td>1743</td>\n",
       "      <td>413</td>\n",
       "      <td>21</td>\n",
       "      <td>331</td>\n",
       "    </tr>\n",
       "    <tr>\n",
       "      <th>14</th>\n",
       "      <td>05/2021</td>\n",
       "      <td>2021</td>\n",
       "      <td>May</td>\n",
       "      <td>243</td>\n",
       "      <td>30535</td>\n",
       "      <td>30050</td>\n",
       "      <td>502</td>\n",
       "      <td>419</td>\n",
       "      <td>6</td>\n",
       "      <td>66</td>\n",
       "    </tr>\n",
       "    <tr>\n",
       "      <th>15</th>\n",
       "      <td>06/2021</td>\n",
       "      <td>2021</td>\n",
       "      <td>Jun</td>\n",
       "      <td>88</td>\n",
       "      <td>30623</td>\n",
       "      <td>30158</td>\n",
       "      <td>108</td>\n",
       "      <td>420</td>\n",
       "      <td>1</td>\n",
       "      <td>45</td>\n",
       "    </tr>\n",
       "    <tr>\n",
       "      <th>16</th>\n",
       "      <td>07/2021</td>\n",
       "      <td>2021</td>\n",
       "      <td>Jul</td>\n",
       "      <td>3672</td>\n",
       "      <td>34295</td>\n",
       "      <td>31629</td>\n",
       "      <td>1471</td>\n",
       "      <td>423</td>\n",
       "      <td>3</td>\n",
       "      <td>1847</td>\n",
       "    </tr>\n",
       "    <tr>\n",
       "      <th>17</th>\n",
       "      <td>08/2021</td>\n",
       "      <td>2021</td>\n",
       "      <td>Aug</td>\n",
       "      <td>1876</td>\n",
       "      <td>36171</td>\n",
       "      <td>34678</td>\n",
       "      <td>3049</td>\n",
       "      <td>441</td>\n",
       "      <td>18</td>\n",
       "      <td>656</td>\n",
       "    </tr>\n",
       "    <tr>\n",
       "      <th>18</th>\n",
       "      <td>09/2021</td>\n",
       "      <td>2021</td>\n",
       "      <td>Sep</td>\n",
       "      <td>978</td>\n",
       "      <td>37149</td>\n",
       "      <td>35968</td>\n",
       "      <td>1290</td>\n",
       "      <td>457</td>\n",
       "      <td>16</td>\n",
       "      <td>328</td>\n",
       "    </tr>\n",
       "    <tr>\n",
       "      <th>19</th>\n",
       "      <td>10/2021</td>\n",
       "      <td>2021</td>\n",
       "      <td>Oct</td>\n",
       "      <td>506</td>\n",
       "      <td>37655</td>\n",
       "      <td>36583</td>\n",
       "      <td>615</td>\n",
       "      <td>461</td>\n",
       "      <td>4</td>\n",
       "      <td>215</td>\n",
       "    </tr>\n",
       "    <tr>\n",
       "      <th>20</th>\n",
       "      <td>11/2021</td>\n",
       "      <td>2021</td>\n",
       "      <td>Nov</td>\n",
       "      <td>1782</td>\n",
       "      <td>39437</td>\n",
       "      <td>37385</td>\n",
       "      <td>802</td>\n",
       "      <td>468</td>\n",
       "      <td>7</td>\n",
       "      <td>1188</td>\n",
       "    </tr>\n",
       "    <tr>\n",
       "      <th>21</th>\n",
       "      <td>12/2021</td>\n",
       "      <td>2021</td>\n",
       "      <td>Dec</td>\n",
       "      <td>13033</td>\n",
       "      <td>52470</td>\n",
       "      <td>40156</td>\n",
       "      <td>2771</td>\n",
       "      <td>477</td>\n",
       "      <td>9</td>\n",
       "      <td>11441</td>\n",
       "    </tr>\n",
       "    <tr>\n",
       "      <th>22</th>\n",
       "      <td>01/2022</td>\n",
       "      <td>2022</td>\n",
       "      <td>Jan</td>\n",
       "      <td>15244</td>\n",
       "      <td>67714</td>\n",
       "      <td>63796</td>\n",
       "      <td>23640</td>\n",
       "      <td>550</td>\n",
       "      <td>73</td>\n",
       "      <td>2972</td>\n",
       "    </tr>\n",
       "    <tr>\n",
       "      <th>23</th>\n",
       "      <td>02/2022</td>\n",
       "      <td>2022</td>\n",
       "      <td>Feb</td>\n",
       "      <td>3558</td>\n",
       "      <td>71272</td>\n",
       "      <td>69579</td>\n",
       "      <td>5783</td>\n",
       "      <td>605</td>\n",
       "      <td>55</td>\n",
       "      <td>692</td>\n",
       "    </tr>\n",
       "    <tr>\n",
       "      <th>24</th>\n",
       "      <td>03/2022</td>\n",
       "      <td>2022</td>\n",
       "      <td>Mar</td>\n",
       "      <td>8267</td>\n",
       "      <td>79539</td>\n",
       "      <td>72865</td>\n",
       "      <td>3286</td>\n",
       "      <td>638</td>\n",
       "      <td>33</td>\n",
       "      <td>5640</td>\n",
       "    </tr>\n",
       "    <tr>\n",
       "      <th>25</th>\n",
       "      <td>04/2022</td>\n",
       "      <td>2022</td>\n",
       "      <td>Apr</td>\n",
       "      <td>12202</td>\n",
       "      <td>91741</td>\n",
       "      <td>87119</td>\n",
       "      <td>14254</td>\n",
       "      <td>698</td>\n",
       "      <td>60</td>\n",
       "      <td>3528</td>\n",
       "    </tr>\n",
       "    <tr>\n",
       "      <th>26</th>\n",
       "      <td>05/2022</td>\n",
       "      <td>2022</td>\n",
       "      <td>May</td>\n",
       "      <td>3001</td>\n",
       "      <td>94742</td>\n",
       "      <td>92215</td>\n",
       "      <td>5096</td>\n",
       "      <td>721</td>\n",
       "      <td>23</td>\n",
       "      <td>1410</td>\n",
       "    </tr>\n",
       "    <tr>\n",
       "      <th>27</th>\n",
       "      <td>06/2022</td>\n",
       "      <td>2022</td>\n",
       "      <td>Jun</td>\n",
       "      <td>8390</td>\n",
       "      <td>103132</td>\n",
       "      <td>95764</td>\n",
       "      <td>3549</td>\n",
       "      <td>741</td>\n",
       "      <td>20</td>\n",
       "      <td>6231</td>\n",
       "    </tr>\n",
       "    <tr>\n",
       "      <th>28</th>\n",
       "      <td>07/2022</td>\n",
       "      <td>2022</td>\n",
       "      <td>Jul</td>\n",
       "      <td>9696</td>\n",
       "      <td>112828</td>\n",
       "      <td>109863</td>\n",
       "      <td>14099</td>\n",
       "      <td>794</td>\n",
       "      <td>53</td>\n",
       "      <td>1775</td>\n",
       "    </tr>\n",
       "    <tr>\n",
       "      <th>29</th>\n",
       "      <td>08/2022</td>\n",
       "      <td>2022</td>\n",
       "      <td>Aug</td>\n",
       "      <td>1222</td>\n",
       "      <td>114050</td>\n",
       "      <td>112726</td>\n",
       "      <td>2863</td>\n",
       "      <td>801</td>\n",
       "      <td>7</td>\n",
       "      <td>127</td>\n",
       "    </tr>\n",
       "    <tr>\n",
       "      <th>30</th>\n",
       "      <td>09/2022</td>\n",
       "      <td>2022</td>\n",
       "      <td>Sep</td>\n",
       "      <td>642</td>\n",
       "      <td>114692</td>\n",
       "      <td>113215</td>\n",
       "      <td>489</td>\n",
       "      <td>806</td>\n",
       "      <td>5</td>\n",
       "      <td>275</td>\n",
       "    </tr>\n",
       "    <tr>\n",
       "      <th>31</th>\n",
       "      <td>10/2022</td>\n",
       "      <td>2022</td>\n",
       "      <td>Oct</td>\n",
       "      <td>657</td>\n",
       "      <td>115349</td>\n",
       "      <td>113809</td>\n",
       "      <td>594</td>\n",
       "      <td>808</td>\n",
       "      <td>2</td>\n",
       "      <td>336</td>\n",
       "    </tr>\n",
       "    <tr>\n",
       "      <th>32</th>\n",
       "      <td>11/2022</td>\n",
       "      <td>2022</td>\n",
       "      <td>Nov</td>\n",
       "      <td>490</td>\n",
       "      <td>115839</td>\n",
       "      <td>114444</td>\n",
       "      <td>635</td>\n",
       "      <td>809</td>\n",
       "      <td>1</td>\n",
       "      <td>190</td>\n",
       "    </tr>\n",
       "    <tr>\n",
       "      <th>33</th>\n",
       "      <td>12/2022</td>\n",
       "      <td>2022</td>\n",
       "      <td>Dec</td>\n",
       "      <td>545</td>\n",
       "      <td>116384</td>\n",
       "      <td>114889</td>\n",
       "      <td>445</td>\n",
       "      <td>815</td>\n",
       "      <td>6</td>\n",
       "      <td>284</td>\n",
       "    </tr>\n",
       "    <tr>\n",
       "      <th>34</th>\n",
       "      <td>01/2023</td>\n",
       "      <td>2023</td>\n",
       "      <td>Jan</td>\n",
       "      <td>379</td>\n",
       "      <td>116763</td>\n",
       "      <td>115118</td>\n",
       "      <td>229</td>\n",
       "      <td>822</td>\n",
       "      <td>7</td>\n",
       "      <td>427</td>\n",
       "    </tr>\n",
       "  </tbody>\n",
       "</table>\n",
       "</div>"
      ],
      "text/plain": [
       "       Date  Year Month  New Cases  Total Cases  Total Recovered  \\\n",
       "0   03/2020  2020   Mar        169          169                2   \n",
       "1   04/2020  2020   Apr        296          465              351   \n",
       "2   05/2020  2020   May        153          618              534   \n",
       "3   06/2020  2020   Jun         52          670              640   \n",
       "4   07/2020  2020   Jul        154          824              665   \n",
       "5   08/2020  2020   Aug       1164         1883             1400   \n",
       "6   09/2020  2020   Sep       1175         3058             2562   \n",
       "7   10/2020  2020   Oct       2984         6042             4155   \n",
       "8   11/2020  2020   Nov       3831         9873             7665   \n",
       "9   12/2020  2020   Dec       2901        12774            11121   \n",
       "10  01/2021  2021   Jan       5129        17903            14960   \n",
       "11  02/2021  2021   Feb       4579        22482            19447   \n",
       "12  03/2021  2021   Mar       6551        29033            27805   \n",
       "13  04/2021  2021   Apr       1259        30292            29548   \n",
       "14  05/2021  2021   May        243        30535            30050   \n",
       "15  06/2021  2021   Jun         88        30623            30158   \n",
       "16  07/2021  2021   Jul       3672        34295            31629   \n",
       "17  08/2021  2021   Aug       1876        36171            34678   \n",
       "18  09/2021  2021   Sep        978        37149            35968   \n",
       "19  10/2021  2021   Oct        506        37655            36583   \n",
       "20  11/2021  2021   Nov       1782        39437            37385   \n",
       "21  12/2021  2021   Dec      13033        52470            40156   \n",
       "22  01/2022  2022   Jan      15244        67714            63796   \n",
       "23  02/2022  2022   Feb       3558        71272            69579   \n",
       "24  03/2022  2022   Mar       8267        79539            72865   \n",
       "25  04/2022  2022   Apr      12202        91741            87119   \n",
       "26  05/2022  2022   May       3001        94742            92215   \n",
       "27  06/2022  2022   Jun       8390       103132            95764   \n",
       "28  07/2022  2022   Jul       9696       112828           109863   \n",
       "29  08/2022  2022   Aug       1222       114050           112726   \n",
       "30  09/2022  2022   Sep        642       114692           113215   \n",
       "31  10/2022  2022   Oct        657       115349           113809   \n",
       "32  11/2022  2022   Nov        490       115839           114444   \n",
       "33  12/2022  2022   Dec        545       116384           114889   \n",
       "34  01/2023  2023   Jan        379       116763           115118   \n",
       "\n",
       "    New Recovered  Total Deaths  New Deaths  Active Cases  \n",
       "0               2             0           0           167  \n",
       "1             349             4           4           110  \n",
       "2             183             9           5            75  \n",
       "3             106             9           0            21  \n",
       "4              25             9           0           150  \n",
       "5             735            12           3           471  \n",
       "6            1162            34          22           462  \n",
       "7            1593            62          28          1825  \n",
       "8            3510           137          75          2071  \n",
       "9            3456           219          82          1434  \n",
       "10           3839           267          48          2676  \n",
       "11           4487           315          48          2720  \n",
       "12           8358           392          77           836  \n",
       "13           1743           413          21           331  \n",
       "14            502           419           6            66  \n",
       "15            108           420           1            45  \n",
       "16           1471           423           3          1847  \n",
       "17           3049           441          18           656  \n",
       "18           1290           457          16           328  \n",
       "19            615           461           4           215  \n",
       "20            802           468           7          1188  \n",
       "21           2771           477           9         11441  \n",
       "22          23640           550          73          2972  \n",
       "23           5783           605          55           692  \n",
       "24           3286           638          33          5640  \n",
       "25          14254           698          60          3528  \n",
       "26           5096           721          23          1410  \n",
       "27           3549           741          20          6231  \n",
       "28          14099           794          53          1775  \n",
       "29           2863           801           7           127  \n",
       "30            489           806           5           275  \n",
       "31            594           808           2           336  \n",
       "32            635           809           1           190  \n",
       "33            445           815           6           284  \n",
       "34            229           822           7           427  "
      ]
     },
     "execution_count": 172,
     "metadata": {},
     "output_type": "execute_result"
    }
   ],
   "source": [
    "cases_df = pd.DataFrame()\n",
    "cases_df['Date'] = pd.to_datetime(cases['Date'], format='%d/%m/%Y')\n",
    "cases_df = cases.groupby(cases_df.Date.dt.to_period('M')).agg({\n",
    "    'New Cases': 'sum',\n",
    "    'Total Cases': 'last',\n",
    "    'Recovered': 'last',\n",
    "    'Deaths': 'last',\n",
    "    'Active Cases': 'last'\n",
    "})\n",
    "\n",
    "cases_df.insert(0, 'Date', cases_df.index.strftime('%m/%Y'))\n",
    "cases_df.insert(1, 'Year', cases_df.index.year)\n",
    "cases_df.insert(2, 'Month', cases_df.index.month)\n",
    "\n",
    "cases_df = cases_df.reset_index(drop=True)\n",
    "\n",
    "cases_df['Month'] = cases_df['Month'].apply(lambda x: calendar.month_abbr[x])\n",
    "\n",
    "def get_diff(row, column):\n",
    "    if row.name == 0:\n",
    "        return row[column]\n",
    "    return row[column] - cases_df.iloc[row.name - 1][column]\n",
    "\n",
    "cases_df.insert(6, 'New Recovered', cases_df.apply(get_diff, axis=1, column='Recovered'))\n",
    "cases_df.insert(8, 'New Deaths', cases_df.apply(get_diff, axis=1, column='Deaths'))\n",
    "\n",
    "cases_df.rename(columns={\n",
    "    'Recovered': 'Total Recovered',\n",
    "    'Deaths': 'Total Deaths'\n",
    "}, inplace=True)\n",
    "\n",
    "cases_df"
   ]
  },
  {
   "attachments": {},
   "cell_type": "markdown",
   "metadata": {},
   "source": [
    "## Group Tests Dataset"
   ]
  },
  {
   "cell_type": "code",
   "execution_count": 246,
   "metadata": {},
   "outputs": [
    {
     "data": {
      "text/html": [
       "<div>\n",
       "<style scoped>\n",
       "    .dataframe tbody tr th:only-of-type {\n",
       "        vertical-align: middle;\n",
       "    }\n",
       "\n",
       "    .dataframe tbody tr th {\n",
       "        vertical-align: top;\n",
       "    }\n",
       "\n",
       "    .dataframe thead th {\n",
       "        text-align: right;\n",
       "    }\n",
       "</style>\n",
       "<table border=\"1\" class=\"dataframe\">\n",
       "  <thead>\n",
       "    <tr style=\"text-align: right;\">\n",
       "      <th></th>\n",
       "      <th>Date</th>\n",
       "      <th>New Tests</th>\n",
       "      <th>Total Tests</th>\n",
       "    </tr>\n",
       "  </thead>\n",
       "  <tbody>\n",
       "    <tr>\n",
       "      <th>0</th>\n",
       "      <td>07/2020</td>\n",
       "      <td>14927</td>\n",
       "      <td>128747</td>\n",
       "    </tr>\n",
       "    <tr>\n",
       "      <th>1</th>\n",
       "      <td>08/2020</td>\n",
       "      <td>63762</td>\n",
       "      <td>192509</td>\n",
       "    </tr>\n",
       "    <tr>\n",
       "      <th>2</th>\n",
       "      <td>09/2020</td>\n",
       "      <td>64048</td>\n",
       "      <td>256557</td>\n",
       "    </tr>\n",
       "    <tr>\n",
       "      <th>3</th>\n",
       "      <td>10/2020</td>\n",
       "      <td>83176</td>\n",
       "      <td>339733</td>\n",
       "    </tr>\n",
       "    <tr>\n",
       "      <th>4</th>\n",
       "      <td>11/2020</td>\n",
       "      <td>91049</td>\n",
       "      <td>430782</td>\n",
       "    </tr>\n",
       "    <tr>\n",
       "      <th>5</th>\n",
       "      <td>12/2020</td>\n",
       "      <td>86754</td>\n",
       "      <td>517536</td>\n",
       "    </tr>\n",
       "    <tr>\n",
       "      <th>6</th>\n",
       "      <td>01/2021</td>\n",
       "      <td>98081</td>\n",
       "      <td>615617</td>\n",
       "    </tr>\n",
       "    <tr>\n",
       "      <th>7</th>\n",
       "      <td>02/2021</td>\n",
       "      <td>86493</td>\n",
       "      <td>702110</td>\n",
       "    </tr>\n",
       "    <tr>\n",
       "      <th>8</th>\n",
       "      <td>03/2021</td>\n",
       "      <td>108992</td>\n",
       "      <td>811102</td>\n",
       "    </tr>\n",
       "    <tr>\n",
       "      <th>9</th>\n",
       "      <td>04/2021</td>\n",
       "      <td>57961</td>\n",
       "      <td>869063</td>\n",
       "    </tr>\n",
       "    <tr>\n",
       "      <th>10</th>\n",
       "      <td>05/2021</td>\n",
       "      <td>59727</td>\n",
       "      <td>928790</td>\n",
       "    </tr>\n",
       "    <tr>\n",
       "      <th>11</th>\n",
       "      <td>06/2021</td>\n",
       "      <td>59367</td>\n",
       "      <td>988157</td>\n",
       "    </tr>\n",
       "    <tr>\n",
       "      <th>12</th>\n",
       "      <td>07/2021</td>\n",
       "      <td>105887</td>\n",
       "      <td>1094044</td>\n",
       "    </tr>\n",
       "    <tr>\n",
       "      <th>13</th>\n",
       "      <td>08/2021</td>\n",
       "      <td>100314</td>\n",
       "      <td>1194358</td>\n",
       "    </tr>\n",
       "    <tr>\n",
       "      <th>14</th>\n",
       "      <td>09/2021</td>\n",
       "      <td>94229</td>\n",
       "      <td>1288587</td>\n",
       "    </tr>\n",
       "    <tr>\n",
       "      <th>15</th>\n",
       "      <td>10/2021</td>\n",
       "      <td>55812</td>\n",
       "      <td>1344399</td>\n",
       "    </tr>\n",
       "    <tr>\n",
       "      <th>16</th>\n",
       "      <td>11/2021</td>\n",
       "      <td>64527</td>\n",
       "      <td>1408926</td>\n",
       "    </tr>\n",
       "    <tr>\n",
       "      <th>17</th>\n",
       "      <td>12/2021</td>\n",
       "      <td>146468</td>\n",
       "      <td>1555394</td>\n",
       "    </tr>\n",
       "    <tr>\n",
       "      <th>18</th>\n",
       "      <td>01/2022</td>\n",
       "      <td>133597</td>\n",
       "      <td>1688991</td>\n",
       "    </tr>\n",
       "    <tr>\n",
       "      <th>19</th>\n",
       "      <td>02/2022</td>\n",
       "      <td>52098</td>\n",
       "      <td>1741089</td>\n",
       "    </tr>\n",
       "    <tr>\n",
       "      <th>20</th>\n",
       "      <td>03/2022</td>\n",
       "      <td>66809</td>\n",
       "      <td>1807898</td>\n",
       "    </tr>\n",
       "    <tr>\n",
       "      <th>21</th>\n",
       "      <td>04/2022</td>\n",
       "      <td>76825</td>\n",
       "      <td>1884723</td>\n",
       "    </tr>\n",
       "    <tr>\n",
       "      <th>22</th>\n",
       "      <td>05/2022</td>\n",
       "      <td>41100</td>\n",
       "      <td>1925823</td>\n",
       "    </tr>\n",
       "    <tr>\n",
       "      <th>23</th>\n",
       "      <td>06/2022</td>\n",
       "      <td>41640</td>\n",
       "      <td>1967463</td>\n",
       "    </tr>\n",
       "    <tr>\n",
       "      <th>24</th>\n",
       "      <td>07/2022</td>\n",
       "      <td>52637</td>\n",
       "      <td>2020100</td>\n",
       "    </tr>\n",
       "    <tr>\n",
       "      <th>25</th>\n",
       "      <td>08/2022</td>\n",
       "      <td>24619</td>\n",
       "      <td>2044719</td>\n",
       "    </tr>\n",
       "    <tr>\n",
       "      <th>26</th>\n",
       "      <td>09/2022</td>\n",
       "      <td>17245</td>\n",
       "      <td>2061964</td>\n",
       "    </tr>\n",
       "    <tr>\n",
       "      <th>27</th>\n",
       "      <td>10/2022</td>\n",
       "      <td>15946</td>\n",
       "      <td>2077910</td>\n",
       "    </tr>\n",
       "    <tr>\n",
       "      <th>28</th>\n",
       "      <td>11/2022</td>\n",
       "      <td>12848</td>\n",
       "      <td>2090758</td>\n",
       "    </tr>\n",
       "    <tr>\n",
       "      <th>29</th>\n",
       "      <td>12/2022</td>\n",
       "      <td>9092</td>\n",
       "      <td>2099850</td>\n",
       "    </tr>\n",
       "    <tr>\n",
       "      <th>30</th>\n",
       "      <td>01/2023</td>\n",
       "      <td>4413</td>\n",
       "      <td>2103903</td>\n",
       "    </tr>\n",
       "  </tbody>\n",
       "</table>\n",
       "</div>"
      ],
      "text/plain": [
       "       Date New Tests Total Tests\n",
       "0   07/2020     14927      128747\n",
       "1   08/2020     63762      192509\n",
       "2   09/2020     64048      256557\n",
       "3   10/2020     83176      339733\n",
       "4   11/2020     91049      430782\n",
       "5   12/2020     86754      517536\n",
       "6   01/2021     98081      615617\n",
       "7   02/2021     86493      702110\n",
       "8   03/2021    108992      811102\n",
       "9   04/2021     57961      869063\n",
       "10  05/2021     59727      928790\n",
       "11  06/2021     59367      988157\n",
       "12  07/2021    105887     1094044\n",
       "13  08/2021    100314     1194358\n",
       "14  09/2021     94229     1288587\n",
       "15  10/2021     55812     1344399\n",
       "16  11/2021     64527     1408926\n",
       "17  12/2021    146468     1555394\n",
       "18  01/2022    133597     1688991\n",
       "19  02/2022     52098     1741089\n",
       "20  03/2022     66809     1807898\n",
       "21  04/2022     76825     1884723\n",
       "22  05/2022     41100     1925823\n",
       "23  06/2022     41640     1967463\n",
       "24  07/2022     52637     2020100\n",
       "25  08/2022     24619     2044719\n",
       "26  09/2022     17245     2061964\n",
       "27  10/2022     15946     2077910\n",
       "28  11/2022     12848     2090758\n",
       "29  12/2022      9092     2099850\n",
       "30  01/2023      4413     2103903"
      ]
     },
     "execution_count": 246,
     "metadata": {},
     "output_type": "execute_result"
    }
   ],
   "source": [
    "tests_df = pd.DataFrame({\n",
    "    'Date': tests['Publication date'],\n",
    "    'Tests in prev day': tests['NAA and rapid antigen tests in previous day'],\n",
    "    'Total Tests': tests['Total NAA and rapid antigen tests']\n",
    "})\n",
    "tests_df = tests_df.apply(\n",
    "    lambda row: \n",
    "        row if row.name == len(tests_df.index) - 1 \n",
    "            else [\n",
    "                row['Date'], \n",
    "                tests_df.iloc[row.name + 1]['Tests in prev day'], \n",
    "                tests_df.iloc[row.name + 1]['Total Tests']], \n",
    "    axis=1, \n",
    "    result_type='broadcast'\n",
    ")\n",
    "tests_df = tests_df.rename(columns={\n",
    "    'Tests in prev day': 'New Tests'\n",
    "})\n",
    "\n",
    "positivity_rate = (cases['New Cases'] / tests_df['New Tests']) * 100\n",
    "positivity_rate = positivity_rate.astype(np.float64)\n",
    "\n",
    "tests_df['Date'] = pd.to_datetime(tests_df['Date'], format='%d/%m/%Y')\n",
    "tests_df = tests_df.groupby(tests_df.Date.dt.to_period('M')).agg({\n",
    "    'New Tests': 'sum',\n",
    "    'Total Tests': 'last'\n",
    "})\n",
    "tests_df.insert(0, 'Date', tests_df.index.strftime('%m/%Y'))\n",
    "tests_df = tests_df.reset_index(drop=True)\n",
    "tests_df"
   ]
  },
  {
   "attachments": {},
   "cell_type": "markdown",
   "metadata": {},
   "source": [
    "## Group Vaccines Dataset"
   ]
  },
  {
   "cell_type": "code",
   "execution_count": 174,
   "metadata": {},
   "outputs": [
    {
     "data": {
      "text/html": [
       "<div>\n",
       "<style scoped>\n",
       "    .dataframe tbody tr th:only-of-type {\n",
       "        vertical-align: middle;\n",
       "    }\n",
       "\n",
       "    .dataframe tbody tr th {\n",
       "        vertical-align: top;\n",
       "    }\n",
       "\n",
       "    .dataframe thead th {\n",
       "        text-align: right;\n",
       "    }\n",
       "</style>\n",
       "<table border=\"1\" class=\"dataframe\">\n",
       "  <thead>\n",
       "    <tr style=\"text-align: right;\">\n",
       "      <th></th>\n",
       "      <th>Date</th>\n",
       "      <th>Total Vaccination Doses</th>\n",
       "      <th>New Vaccination Doses</th>\n",
       "      <th>Total Primary Vaccination</th>\n",
       "      <th>New Primary Vaccination</th>\n",
       "      <th>Total Received one dose</th>\n",
       "      <th>New Received one dose</th>\n",
       "      <th>Total Booster doses</th>\n",
       "      <th>New Booster doses</th>\n",
       "      <th>Total 2nd Booster doses</th>\n",
       "      <th>New 2nd Booster doses</th>\n",
       "      <th>Total Omicron booster doses</th>\n",
       "      <th>New Omicron booster doses</th>\n",
       "    </tr>\n",
       "  </thead>\n",
       "  <tbody>\n",
       "    <tr>\n",
       "      <th>0</th>\n",
       "      <td>01/2021</td>\n",
       "      <td>27759</td>\n",
       "      <td>27759</td>\n",
       "      <td>3948</td>\n",
       "      <td>3948</td>\n",
       "      <td>23811</td>\n",
       "      <td>23811</td>\n",
       "      <td>0</td>\n",
       "      <td>0</td>\n",
       "      <td>0</td>\n",
       "      <td>0</td>\n",
       "      <td>0</td>\n",
       "      <td>0</td>\n",
       "    </tr>\n",
       "    <tr>\n",
       "      <th>1</th>\n",
       "      <td>02/2021</td>\n",
       "      <td>79624</td>\n",
       "      <td>51865</td>\n",
       "      <td>28048</td>\n",
       "      <td>24100</td>\n",
       "      <td>51576</td>\n",
       "      <td>27765</td>\n",
       "      <td>0</td>\n",
       "      <td>0</td>\n",
       "      <td>0</td>\n",
       "      <td>0</td>\n",
       "      <td>0</td>\n",
       "      <td>0</td>\n",
       "    </tr>\n",
       "    <tr>\n",
       "      <th>2</th>\n",
       "      <td>03/2021</td>\n",
       "      <td>197383</td>\n",
       "      <td>117759</td>\n",
       "      <td>54578</td>\n",
       "      <td>26530</td>\n",
       "      <td>142805</td>\n",
       "      <td>91229</td>\n",
       "      <td>0</td>\n",
       "      <td>0</td>\n",
       "      <td>0</td>\n",
       "      <td>0</td>\n",
       "      <td>0</td>\n",
       "      <td>0</td>\n",
       "    </tr>\n",
       "    <tr>\n",
       "      <th>3</th>\n",
       "      <td>04/2021</td>\n",
       "      <td>335848</td>\n",
       "      <td>138465</td>\n",
       "      <td>107038</td>\n",
       "      <td>52460</td>\n",
       "      <td>228810</td>\n",
       "      <td>86005</td>\n",
       "      <td>0</td>\n",
       "      <td>0</td>\n",
       "      <td>0</td>\n",
       "      <td>0</td>\n",
       "      <td>0</td>\n",
       "      <td>0</td>\n",
       "    </tr>\n",
       "    <tr>\n",
       "      <th>4</th>\n",
       "      <td>05/2021</td>\n",
       "      <td>519994</td>\n",
       "      <td>184146</td>\n",
       "      <td>210486</td>\n",
       "      <td>103448</td>\n",
       "      <td>318743</td>\n",
       "      <td>89933</td>\n",
       "      <td>0</td>\n",
       "      <td>0</td>\n",
       "      <td>0</td>\n",
       "      <td>0</td>\n",
       "      <td>0</td>\n",
       "      <td>0</td>\n",
       "    </tr>\n",
       "    <tr>\n",
       "      <th>5</th>\n",
       "      <td>06/2021</td>\n",
       "      <td>670759</td>\n",
       "      <td>150765</td>\n",
       "      <td>325891</td>\n",
       "      <td>115405</td>\n",
       "      <td>359169</td>\n",
       "      <td>40426</td>\n",
       "      <td>0</td>\n",
       "      <td>0</td>\n",
       "      <td>0</td>\n",
       "      <td>0</td>\n",
       "      <td>0</td>\n",
       "      <td>0</td>\n",
       "    </tr>\n",
       "    <tr>\n",
       "      <th>6</th>\n",
       "      <td>07/2021</td>\n",
       "      <td>759818</td>\n",
       "      <td>89059</td>\n",
       "      <td>382255</td>\n",
       "      <td>56364</td>\n",
       "      <td>399690</td>\n",
       "      <td>40521</td>\n",
       "      <td>0</td>\n",
       "      <td>0</td>\n",
       "      <td>0</td>\n",
       "      <td>0</td>\n",
       "      <td>0</td>\n",
       "      <td>0</td>\n",
       "    </tr>\n",
       "    <tr>\n",
       "      <th>7</th>\n",
       "      <td>08/2021</td>\n",
       "      <td>797017</td>\n",
       "      <td>37199</td>\n",
       "      <td>412767</td>\n",
       "      <td>30512</td>\n",
       "      <td>413985</td>\n",
       "      <td>14295</td>\n",
       "      <td>0</td>\n",
       "      <td>0</td>\n",
       "      <td>0</td>\n",
       "      <td>0</td>\n",
       "      <td>0</td>\n",
       "      <td>0</td>\n",
       "    </tr>\n",
       "    <tr>\n",
       "      <th>8</th>\n",
       "      <td>09/2021</td>\n",
       "      <td>824327</td>\n",
       "      <td>27310</td>\n",
       "      <td>421713</td>\n",
       "      <td>8946</td>\n",
       "      <td>421602</td>\n",
       "      <td>7617</td>\n",
       "      <td>12071</td>\n",
       "      <td>12071</td>\n",
       "      <td>0</td>\n",
       "      <td>0</td>\n",
       "      <td>0</td>\n",
       "      <td>0</td>\n",
       "    </tr>\n",
       "    <tr>\n",
       "      <th>9</th>\n",
       "      <td>10/2021</td>\n",
       "      <td>879909</td>\n",
       "      <td>55582</td>\n",
       "      <td>428333</td>\n",
       "      <td>6620</td>\n",
       "      <td>430283</td>\n",
       "      <td>8681</td>\n",
       "      <td>52915</td>\n",
       "      <td>40844</td>\n",
       "      <td>0</td>\n",
       "      <td>0</td>\n",
       "      <td>0</td>\n",
       "      <td>0</td>\n",
       "    </tr>\n",
       "    <tr>\n",
       "      <th>10</th>\n",
       "      <td>11/2021</td>\n",
       "      <td>959906</td>\n",
       "      <td>79997</td>\n",
       "      <td>432343</td>\n",
       "      <td>4010</td>\n",
       "      <td>435775</td>\n",
       "      <td>5492</td>\n",
       "      <td>123944</td>\n",
       "      <td>71029</td>\n",
       "      <td>0</td>\n",
       "      <td>0</td>\n",
       "      <td>0</td>\n",
       "      <td>0</td>\n",
       "    </tr>\n",
       "    <tr>\n",
       "      <th>11</th>\n",
       "      <td>12/2021</td>\n",
       "      <td>1072274</td>\n",
       "      <td>112368</td>\n",
       "      <td>435874</td>\n",
       "      <td>3531</td>\n",
       "      <td>444615</td>\n",
       "      <td>8840</td>\n",
       "      <td>224190</td>\n",
       "      <td>100246</td>\n",
       "      <td>0</td>\n",
       "      <td>0</td>\n",
       "      <td>0</td>\n",
       "      <td>0</td>\n",
       "    </tr>\n",
       "    <tr>\n",
       "      <th>12</th>\n",
       "      <td>01/2022</td>\n",
       "      <td>1213371</td>\n",
       "      <td>141097</td>\n",
       "      <td>451231</td>\n",
       "      <td>15357</td>\n",
       "      <td>464435</td>\n",
       "      <td>19820</td>\n",
       "      <td>331055</td>\n",
       "      <td>106865</td>\n",
       "      <td>0</td>\n",
       "      <td>0</td>\n",
       "      <td>0</td>\n",
       "      <td>0</td>\n",
       "    </tr>\n",
       "    <tr>\n",
       "      <th>13</th>\n",
       "      <td>02/2022</td>\n",
       "      <td>1242888</td>\n",
       "      <td>29517</td>\n",
       "      <td>463183</td>\n",
       "      <td>11952</td>\n",
       "      <td>470596</td>\n",
       "      <td>6161</td>\n",
       "      <td>343111</td>\n",
       "      <td>12056</td>\n",
       "      <td>0</td>\n",
       "      <td>0</td>\n",
       "      <td>0</td>\n",
       "      <td>0</td>\n",
       "    </tr>\n",
       "    <tr>\n",
       "      <th>14</th>\n",
       "      <td>03/2022</td>\n",
       "      <td>1256770</td>\n",
       "      <td>13882</td>\n",
       "      <td>466493</td>\n",
       "      <td>3310</td>\n",
       "      <td>473845</td>\n",
       "      <td>3249</td>\n",
       "      <td>350709</td>\n",
       "      <td>7598</td>\n",
       "      <td>0</td>\n",
       "      <td>0</td>\n",
       "      <td>0</td>\n",
       "      <td>0</td>\n",
       "    </tr>\n",
       "    <tr>\n",
       "      <th>15</th>\n",
       "      <td>04/2022</td>\n",
       "      <td>1276869</td>\n",
       "      <td>20099</td>\n",
       "      <td>468311</td>\n",
       "      <td>1818</td>\n",
       "      <td>475475</td>\n",
       "      <td>1630</td>\n",
       "      <td>354786</td>\n",
       "      <td>4077</td>\n",
       "      <td>12660</td>\n",
       "      <td>12660</td>\n",
       "      <td>0</td>\n",
       "      <td>0</td>\n",
       "    </tr>\n",
       "    <tr>\n",
       "      <th>16</th>\n",
       "      <td>05/2022</td>\n",
       "      <td>1300807</td>\n",
       "      <td>23938</td>\n",
       "      <td>469209</td>\n",
       "      <td>898</td>\n",
       "      <td>476351</td>\n",
       "      <td>876</td>\n",
       "      <td>356886</td>\n",
       "      <td>2100</td>\n",
       "      <td>32724</td>\n",
       "      <td>20064</td>\n",
       "      <td>0</td>\n",
       "      <td>0</td>\n",
       "    </tr>\n",
       "    <tr>\n",
       "      <th>17</th>\n",
       "      <td>06/2022</td>\n",
       "      <td>1317273</td>\n",
       "      <td>16466</td>\n",
       "      <td>469802</td>\n",
       "      <td>593</td>\n",
       "      <td>476888</td>\n",
       "      <td>537</td>\n",
       "      <td>358379</td>\n",
       "      <td>1493</td>\n",
       "      <td>46567</td>\n",
       "      <td>13843</td>\n",
       "      <td>0</td>\n",
       "      <td>0</td>\n",
       "    </tr>\n",
       "    <tr>\n",
       "      <th>18</th>\n",
       "      <td>07/2022</td>\n",
       "      <td>1329764</td>\n",
       "      <td>12491</td>\n",
       "      <td>470272</td>\n",
       "      <td>470</td>\n",
       "      <td>477390</td>\n",
       "      <td>502</td>\n",
       "      <td>359452</td>\n",
       "      <td>1073</td>\n",
       "      <td>57013</td>\n",
       "      <td>10446</td>\n",
       "      <td>0</td>\n",
       "      <td>0</td>\n",
       "    </tr>\n",
       "    <tr>\n",
       "      <th>19</th>\n",
       "      <td>08/2022</td>\n",
       "      <td>1334248</td>\n",
       "      <td>4484</td>\n",
       "      <td>470585</td>\n",
       "      <td>313</td>\n",
       "      <td>477686</td>\n",
       "      <td>296</td>\n",
       "      <td>359945</td>\n",
       "      <td>493</td>\n",
       "      <td>60395</td>\n",
       "      <td>3382</td>\n",
       "      <td>0</td>\n",
       "      <td>0</td>\n",
       "    </tr>\n",
       "    <tr>\n",
       "      <th>20</th>\n",
       "      <td>09/2022</td>\n",
       "      <td>1335388</td>\n",
       "      <td>1140</td>\n",
       "      <td>470845</td>\n",
       "      <td>260</td>\n",
       "      <td>477966</td>\n",
       "      <td>280</td>\n",
       "      <td>360286</td>\n",
       "      <td>341</td>\n",
       "      <td>60654</td>\n",
       "      <td>259</td>\n",
       "      <td>0</td>\n",
       "      <td>0</td>\n",
       "    </tr>\n",
       "    <tr>\n",
       "      <th>21</th>\n",
       "      <td>10/2022</td>\n",
       "      <td>1343194</td>\n",
       "      <td>7806</td>\n",
       "      <td>471085</td>\n",
       "      <td>240</td>\n",
       "      <td>478271</td>\n",
       "      <td>305</td>\n",
       "      <td>360805</td>\n",
       "      <td>519</td>\n",
       "      <td>67396</td>\n",
       "      <td>6742</td>\n",
       "      <td>0</td>\n",
       "      <td>0</td>\n",
       "    </tr>\n",
       "    <tr>\n",
       "      <th>22</th>\n",
       "      <td>11/2022</td>\n",
       "      <td>1372894</td>\n",
       "      <td>29700</td>\n",
       "      <td>471220</td>\n",
       "      <td>135</td>\n",
       "      <td>478417</td>\n",
       "      <td>146</td>\n",
       "      <td>361240</td>\n",
       "      <td>435</td>\n",
       "      <td>73771</td>\n",
       "      <td>6375</td>\n",
       "      <td>22627</td>\n",
       "      <td>5609</td>\n",
       "    </tr>\n",
       "    <tr>\n",
       "      <th>23</th>\n",
       "      <td>12/2022</td>\n",
       "      <td>1376966</td>\n",
       "      <td>4072</td>\n",
       "      <td>471326</td>\n",
       "      <td>106</td>\n",
       "      <td>478553</td>\n",
       "      <td>136</td>\n",
       "      <td>361432</td>\n",
       "      <td>192</td>\n",
       "      <td>75213</td>\n",
       "      <td>1442</td>\n",
       "      <td>24823</td>\n",
       "      <td>2178</td>\n",
       "    </tr>\n",
       "    <tr>\n",
       "      <th>24</th>\n",
       "      <td>01/2023</td>\n",
       "      <td>1378095</td>\n",
       "      <td>1129</td>\n",
       "      <td>471350</td>\n",
       "      <td>24</td>\n",
       "      <td>478593</td>\n",
       "      <td>40</td>\n",
       "      <td>361498</td>\n",
       "      <td>66</td>\n",
       "      <td>75646</td>\n",
       "      <td>433</td>\n",
       "      <td>25389</td>\n",
       "      <td>566</td>\n",
       "    </tr>\n",
       "  </tbody>\n",
       "</table>\n",
       "</div>"
      ],
      "text/plain": [
       "       Date  Total Vaccination Doses  New Vaccination Doses  \\\n",
       "0   01/2021                    27759                  27759   \n",
       "1   02/2021                    79624                  51865   \n",
       "2   03/2021                   197383                 117759   \n",
       "3   04/2021                   335848                 138465   \n",
       "4   05/2021                   519994                 184146   \n",
       "5   06/2021                   670759                 150765   \n",
       "6   07/2021                   759818                  89059   \n",
       "7   08/2021                   797017                  37199   \n",
       "8   09/2021                   824327                  27310   \n",
       "9   10/2021                   879909                  55582   \n",
       "10  11/2021                   959906                  79997   \n",
       "11  12/2021                  1072274                 112368   \n",
       "12  01/2022                  1213371                 141097   \n",
       "13  02/2022                  1242888                  29517   \n",
       "14  03/2022                  1256770                  13882   \n",
       "15  04/2022                  1276869                  20099   \n",
       "16  05/2022                  1300807                  23938   \n",
       "17  06/2022                  1317273                  16466   \n",
       "18  07/2022                  1329764                  12491   \n",
       "19  08/2022                  1334248                   4484   \n",
       "20  09/2022                  1335388                   1140   \n",
       "21  10/2022                  1343194                   7806   \n",
       "22  11/2022                  1372894                  29700   \n",
       "23  12/2022                  1376966                   4072   \n",
       "24  01/2023                  1378095                   1129   \n",
       "\n",
       "    Total Primary Vaccination  New Primary Vaccination  \\\n",
       "0                        3948                     3948   \n",
       "1                       28048                    24100   \n",
       "2                       54578                    26530   \n",
       "3                      107038                    52460   \n",
       "4                      210486                   103448   \n",
       "5                      325891                   115405   \n",
       "6                      382255                    56364   \n",
       "7                      412767                    30512   \n",
       "8                      421713                     8946   \n",
       "9                      428333                     6620   \n",
       "10                     432343                     4010   \n",
       "11                     435874                     3531   \n",
       "12                     451231                    15357   \n",
       "13                     463183                    11952   \n",
       "14                     466493                     3310   \n",
       "15                     468311                     1818   \n",
       "16                     469209                      898   \n",
       "17                     469802                      593   \n",
       "18                     470272                      470   \n",
       "19                     470585                      313   \n",
       "20                     470845                      260   \n",
       "21                     471085                      240   \n",
       "22                     471220                      135   \n",
       "23                     471326                      106   \n",
       "24                     471350                       24   \n",
       "\n",
       "    Total Received one dose  New Received one dose  Total Booster doses  \\\n",
       "0                     23811                  23811                    0   \n",
       "1                     51576                  27765                    0   \n",
       "2                    142805                  91229                    0   \n",
       "3                    228810                  86005                    0   \n",
       "4                    318743                  89933                    0   \n",
       "5                    359169                  40426                    0   \n",
       "6                    399690                  40521                    0   \n",
       "7                    413985                  14295                    0   \n",
       "8                    421602                   7617                12071   \n",
       "9                    430283                   8681                52915   \n",
       "10                   435775                   5492               123944   \n",
       "11                   444615                   8840               224190   \n",
       "12                   464435                  19820               331055   \n",
       "13                   470596                   6161               343111   \n",
       "14                   473845                   3249               350709   \n",
       "15                   475475                   1630               354786   \n",
       "16                   476351                    876               356886   \n",
       "17                   476888                    537               358379   \n",
       "18                   477390                    502               359452   \n",
       "19                   477686                    296               359945   \n",
       "20                   477966                    280               360286   \n",
       "21                   478271                    305               360805   \n",
       "22                   478417                    146               361240   \n",
       "23                   478553                    136               361432   \n",
       "24                   478593                     40               361498   \n",
       "\n",
       "    New Booster doses  Total 2nd Booster doses  New 2nd Booster doses  \\\n",
       "0                   0                        0                      0   \n",
       "1                   0                        0                      0   \n",
       "2                   0                        0                      0   \n",
       "3                   0                        0                      0   \n",
       "4                   0                        0                      0   \n",
       "5                   0                        0                      0   \n",
       "6                   0                        0                      0   \n",
       "7                   0                        0                      0   \n",
       "8               12071                        0                      0   \n",
       "9               40844                        0                      0   \n",
       "10              71029                        0                      0   \n",
       "11             100246                        0                      0   \n",
       "12             106865                        0                      0   \n",
       "13              12056                        0                      0   \n",
       "14               7598                        0                      0   \n",
       "15               4077                    12660                  12660   \n",
       "16               2100                    32724                  20064   \n",
       "17               1493                    46567                  13843   \n",
       "18               1073                    57013                  10446   \n",
       "19                493                    60395                   3382   \n",
       "20                341                    60654                    259   \n",
       "21                519                    67396                   6742   \n",
       "22                435                    73771                   6375   \n",
       "23                192                    75213                   1442   \n",
       "24                 66                    75646                    433   \n",
       "\n",
       "    Total Omicron booster doses  New Omicron booster doses  \n",
       "0                             0                          0  \n",
       "1                             0                          0  \n",
       "2                             0                          0  \n",
       "3                             0                          0  \n",
       "4                             0                          0  \n",
       "5                             0                          0  \n",
       "6                             0                          0  \n",
       "7                             0                          0  \n",
       "8                             0                          0  \n",
       "9                             0                          0  \n",
       "10                            0                          0  \n",
       "11                            0                          0  \n",
       "12                            0                          0  \n",
       "13                            0                          0  \n",
       "14                            0                          0  \n",
       "15                            0                          0  \n",
       "16                            0                          0  \n",
       "17                            0                          0  \n",
       "18                            0                          0  \n",
       "19                            0                          0  \n",
       "20                            0                          0  \n",
       "21                            0                          0  \n",
       "22                        22627                       5609  \n",
       "23                        24823                       2178  \n",
       "24                        25389                        566  "
      ]
     },
     "execution_count": 174,
     "metadata": {},
     "output_type": "execute_result"
    }
   ],
   "source": [
    "vaccines_df = vaccines.rename(columns={\n",
    "    'Date of Vaccination': 'Date',\n",
    "    'Primary Vaccination': 'Total Primary Vaccination',\n",
    "    'Received one dose': 'Total Received one dose'\n",
    "})\n",
    "vaccines_df['Date'] = pd.to_datetime(vaccines_df['Date'], format='%d/%m/%Y')\n",
    "vaccines_df = vaccines_df.groupby(vaccines_df.Date.dt.to_period('M')).agg({\n",
    "    'Total Vaccination Doses': 'last',\n",
    "    'Total Primary Vaccination': 'last',\n",
    "    'Total Received one dose': 'last',\n",
    "    'Total Booster doses': 'last',\n",
    "    'Total 2nd Booster doses': 'last',\n",
    "    'Omicron booster doses': 'sum',\n",
    "    'Total Omicron booster doses': 'last'\n",
    "})\n",
    "vaccines_df = vaccines_df.replace({np.nan: 0})\n",
    "vaccines_df = vaccines_df.astype(np.int64)\n",
    "\n",
    "vaccines_df.insert(0, 'Date', vaccines_df.index.strftime('%m/%Y'))\n",
    "vaccines_df = vaccines_df.reset_index(drop=True)\n",
    "\n",
    "def get_diff(row, column):\n",
    "    if row.name == 0:\n",
    "        return row[column]\n",
    "    return row[column] - vaccines_df.iloc[row.name - 1][column]\n",
    "\n",
    "vaccines_df.insert(2, 'New Vaccination Doses', vaccines_df.apply(get_diff, axis=1, column='Total Vaccination Doses'))\n",
    "vaccines_df.insert(4, 'New Primary Vaccination', vaccines_df.apply(get_diff, axis=1, column='Total Primary Vaccination'))\n",
    "vaccines_df.insert(6, 'New Received one dose', vaccines_df.apply(get_diff, axis=1, column='Total Received one dose'))\n",
    "vaccines_df.insert(8, 'New Booster doses', vaccines_df.apply(get_diff, axis=1, column='Total Booster doses'))\n",
    "vaccines_df.insert(10, 'New 2nd Booster doses', vaccines_df.apply(get_diff, axis=1, column='Total 2nd Booster doses'))\n",
    "\n",
    "vaccines_df.insert(13, 'New Omicron booster doses', vaccines_df['Omicron booster doses'])\n",
    "vaccines_df = vaccines_df.drop(columns=['Omicron booster doses'])\n",
    "\n",
    "vaccines_df"
   ]
  },
  {
   "attachments": {},
   "cell_type": "markdown",
   "metadata": {},
   "source": [
    "## Hospital Dataset"
   ]
  },
  {
   "cell_type": "code",
   "execution_count": 175,
   "metadata": {},
   "outputs": [],
   "source": [
    "malta_hospitalized = hospitalized.loc[hospitalized['country'] == 'Malta'].drop(columns=['year_week', 'source', 'url', 'country'])\n",
    "malta_hospitalized = malta_hospitalized.rename(columns={'date': 'Date'})\n",
    "malta_hospitalized['value'] = malta_hospitalized['value'].astype(np.int64)\n",
    "malta_hospitalized['Date'] = pd.to_datetime(malta_hospitalized['Date'], format='%Y-%m-%d')"
   ]
  },
  {
   "attachments": {},
   "cell_type": "markdown",
   "metadata": {},
   "source": [
    "### Group Hosptialized Data"
   ]
  },
  {
   "cell_type": "code",
   "execution_count": 176,
   "metadata": {},
   "outputs": [
    {
     "data": {
      "text/html": [
       "<div>\n",
       "<style scoped>\n",
       "    .dataframe tbody tr th:only-of-type {\n",
       "        vertical-align: middle;\n",
       "    }\n",
       "\n",
       "    .dataframe tbody tr th {\n",
       "        vertical-align: top;\n",
       "    }\n",
       "\n",
       "    .dataframe thead th {\n",
       "        text-align: right;\n",
       "    }\n",
       "</style>\n",
       "<table border=\"1\" class=\"dataframe\">\n",
       "  <thead>\n",
       "    <tr style=\"text-align: right;\">\n",
       "      <th></th>\n",
       "      <th>Date</th>\n",
       "      <th>Hospitalized</th>\n",
       "    </tr>\n",
       "  </thead>\n",
       "  <tbody>\n",
       "    <tr>\n",
       "      <th>0</th>\n",
       "      <td>03/2020</td>\n",
       "      <td>9</td>\n",
       "    </tr>\n",
       "    <tr>\n",
       "      <th>1</th>\n",
       "      <td>04/2020</td>\n",
       "      <td>4</td>\n",
       "    </tr>\n",
       "    <tr>\n",
       "      <th>2</th>\n",
       "      <td>05/2020</td>\n",
       "      <td>3</td>\n",
       "    </tr>\n",
       "    <tr>\n",
       "      <th>3</th>\n",
       "      <td>06/2020</td>\n",
       "      <td>0</td>\n",
       "    </tr>\n",
       "    <tr>\n",
       "      <th>4</th>\n",
       "      <td>07/2020</td>\n",
       "      <td>1</td>\n",
       "    </tr>\n",
       "    <tr>\n",
       "      <th>5</th>\n",
       "      <td>08/2020</td>\n",
       "      <td>7</td>\n",
       "    </tr>\n",
       "    <tr>\n",
       "      <th>6</th>\n",
       "      <td>09/2020</td>\n",
       "      <td>22</td>\n",
       "    </tr>\n",
       "    <tr>\n",
       "      <th>7</th>\n",
       "      <td>10/2020</td>\n",
       "      <td>53</td>\n",
       "    </tr>\n",
       "    <tr>\n",
       "      <th>8</th>\n",
       "      <td>11/2020</td>\n",
       "      <td>80</td>\n",
       "    </tr>\n",
       "    <tr>\n",
       "      <th>9</th>\n",
       "      <td>12/2020</td>\n",
       "      <td>66</td>\n",
       "    </tr>\n",
       "    <tr>\n",
       "      <th>10</th>\n",
       "      <td>01/2021</td>\n",
       "      <td>63</td>\n",
       "    </tr>\n",
       "    <tr>\n",
       "      <th>11</th>\n",
       "      <td>02/2021</td>\n",
       "      <td>80</td>\n",
       "    </tr>\n",
       "    <tr>\n",
       "      <th>12</th>\n",
       "      <td>03/2021</td>\n",
       "      <td>68</td>\n",
       "    </tr>\n",
       "    <tr>\n",
       "      <th>13</th>\n",
       "      <td>04/2021</td>\n",
       "      <td>36</td>\n",
       "    </tr>\n",
       "    <tr>\n",
       "      <th>14</th>\n",
       "      <td>05/2021</td>\n",
       "      <td>3</td>\n",
       "    </tr>\n",
       "    <tr>\n",
       "      <th>15</th>\n",
       "      <td>06/2021</td>\n",
       "      <td>3</td>\n",
       "    </tr>\n",
       "    <tr>\n",
       "      <th>16</th>\n",
       "      <td>07/2021</td>\n",
       "      <td>30</td>\n",
       "    </tr>\n",
       "    <tr>\n",
       "      <th>17</th>\n",
       "      <td>08/2021</td>\n",
       "      <td>31</td>\n",
       "    </tr>\n",
       "    <tr>\n",
       "      <th>18</th>\n",
       "      <td>09/2021</td>\n",
       "      <td>11</td>\n",
       "    </tr>\n",
       "    <tr>\n",
       "      <th>19</th>\n",
       "      <td>10/2021</td>\n",
       "      <td>13</td>\n",
       "    </tr>\n",
       "    <tr>\n",
       "      <th>20</th>\n",
       "      <td>11/2021</td>\n",
       "      <td>23</td>\n",
       "    </tr>\n",
       "    <tr>\n",
       "      <th>21</th>\n",
       "      <td>12/2021</td>\n",
       "      <td>94</td>\n",
       "    </tr>\n",
       "    <tr>\n",
       "      <th>22</th>\n",
       "      <td>01/2022</td>\n",
       "      <td>100</td>\n",
       "    </tr>\n",
       "    <tr>\n",
       "      <th>23</th>\n",
       "      <td>02/2022</td>\n",
       "      <td>36</td>\n",
       "    </tr>\n",
       "    <tr>\n",
       "      <th>24</th>\n",
       "      <td>03/2022</td>\n",
       "      <td>77</td>\n",
       "    </tr>\n",
       "  </tbody>\n",
       "</table>\n",
       "</div>"
      ],
      "text/plain": [
       "       Date  Hospitalized\n",
       "0   03/2020             9\n",
       "1   04/2020             4\n",
       "2   05/2020             3\n",
       "3   06/2020             0\n",
       "4   07/2020             1\n",
       "5   08/2020             7\n",
       "6   09/2020            22\n",
       "7   10/2020            53\n",
       "8   11/2020            80\n",
       "9   12/2020            66\n",
       "10  01/2021            63\n",
       "11  02/2021            80\n",
       "12  03/2021            68\n",
       "13  04/2021            36\n",
       "14  05/2021             3\n",
       "15  06/2021             3\n",
       "16  07/2021            30\n",
       "17  08/2021            31\n",
       "18  09/2021            11\n",
       "19  10/2021            13\n",
       "20  11/2021            23\n",
       "21  12/2021            94\n",
       "22  01/2022           100\n",
       "23  02/2022            36\n",
       "24  03/2022            77"
      ]
     },
     "execution_count": 176,
     "metadata": {},
     "output_type": "execute_result"
    }
   ],
   "source": [
    "hospitalized_df = malta_hospitalized.loc[malta_hospitalized['indicator'] == 'Daily hospital occupancy'].drop(columns=['indicator'])\n",
    "hospitalized_df = hospitalized_df.rename(columns={'value': 'Hospitalized'})\n",
    "hospitalized_df = hospitalized_df.reset_index(drop=True)\n",
    "\n",
    "hospitalized_df = hospitalized_df.groupby(hospitalized_df.Date.dt.to_period('M')).agg({\n",
    "    'Hospitalized': 'last'\n",
    "})\n",
    "hospitalized_df.insert(0, 'Date', hospitalized_df.index.strftime('%m/%Y'))\n",
    "hospitalized_df = hospitalized_df.reset_index(drop=True)\n",
    "hospitalized_df"
   ]
  },
  {
   "attachments": {},
   "cell_type": "markdown",
   "metadata": {},
   "source": [
    "### Group ICU Data"
   ]
  },
  {
   "cell_type": "code",
   "execution_count": 177,
   "metadata": {},
   "outputs": [
    {
     "data": {
      "text/html": [
       "<div>\n",
       "<style scoped>\n",
       "    .dataframe tbody tr th:only-of-type {\n",
       "        vertical-align: middle;\n",
       "    }\n",
       "\n",
       "    .dataframe tbody tr th {\n",
       "        vertical-align: top;\n",
       "    }\n",
       "\n",
       "    .dataframe thead th {\n",
       "        text-align: right;\n",
       "    }\n",
       "</style>\n",
       "<table border=\"1\" class=\"dataframe\">\n",
       "  <thead>\n",
       "    <tr style=\"text-align: right;\">\n",
       "      <th></th>\n",
       "      <th>Date</th>\n",
       "      <th>ICU</th>\n",
       "    </tr>\n",
       "  </thead>\n",
       "  <tbody>\n",
       "    <tr>\n",
       "      <th>0</th>\n",
       "      <td>03/2020</td>\n",
       "      <td>4</td>\n",
       "    </tr>\n",
       "    <tr>\n",
       "      <th>1</th>\n",
       "      <td>04/2020</td>\n",
       "      <td>1</td>\n",
       "    </tr>\n",
       "    <tr>\n",
       "      <th>2</th>\n",
       "      <td>05/2020</td>\n",
       "      <td>2</td>\n",
       "    </tr>\n",
       "    <tr>\n",
       "      <th>3</th>\n",
       "      <td>06/2020</td>\n",
       "      <td>0</td>\n",
       "    </tr>\n",
       "    <tr>\n",
       "      <th>4</th>\n",
       "      <td>07/2020</td>\n",
       "      <td>0</td>\n",
       "    </tr>\n",
       "    <tr>\n",
       "      <th>5</th>\n",
       "      <td>08/2020</td>\n",
       "      <td>0</td>\n",
       "    </tr>\n",
       "    <tr>\n",
       "      <th>6</th>\n",
       "      <td>09/2020</td>\n",
       "      <td>5</td>\n",
       "    </tr>\n",
       "    <tr>\n",
       "      <th>7</th>\n",
       "      <td>10/2020</td>\n",
       "      <td>7</td>\n",
       "    </tr>\n",
       "    <tr>\n",
       "      <th>8</th>\n",
       "      <td>11/2020</td>\n",
       "      <td>17</td>\n",
       "    </tr>\n",
       "    <tr>\n",
       "      <th>9</th>\n",
       "      <td>12/2020</td>\n",
       "      <td>10</td>\n",
       "    </tr>\n",
       "    <tr>\n",
       "      <th>10</th>\n",
       "      <td>01/2021</td>\n",
       "      <td>10</td>\n",
       "    </tr>\n",
       "    <tr>\n",
       "      <th>11</th>\n",
       "      <td>02/2021</td>\n",
       "      <td>11</td>\n",
       "    </tr>\n",
       "    <tr>\n",
       "      <th>12</th>\n",
       "      <td>03/2021</td>\n",
       "      <td>2</td>\n",
       "    </tr>\n",
       "    <tr>\n",
       "      <th>13</th>\n",
       "      <td>04/2021</td>\n",
       "      <td>3</td>\n",
       "    </tr>\n",
       "    <tr>\n",
       "      <th>14</th>\n",
       "      <td>05/2021</td>\n",
       "      <td>0</td>\n",
       "    </tr>\n",
       "    <tr>\n",
       "      <th>15</th>\n",
       "      <td>06/2021</td>\n",
       "      <td>0</td>\n",
       "    </tr>\n",
       "    <tr>\n",
       "      <th>16</th>\n",
       "      <td>07/2021</td>\n",
       "      <td>1</td>\n",
       "    </tr>\n",
       "    <tr>\n",
       "      <th>17</th>\n",
       "      <td>08/2021</td>\n",
       "      <td>2</td>\n",
       "    </tr>\n",
       "    <tr>\n",
       "      <th>18</th>\n",
       "      <td>09/2021</td>\n",
       "      <td>1</td>\n",
       "    </tr>\n",
       "    <tr>\n",
       "      <th>19</th>\n",
       "      <td>10/2021</td>\n",
       "      <td>0</td>\n",
       "    </tr>\n",
       "    <tr>\n",
       "      <th>20</th>\n",
       "      <td>11/2021</td>\n",
       "      <td>0</td>\n",
       "    </tr>\n",
       "    <tr>\n",
       "      <th>21</th>\n",
       "      <td>12/2021</td>\n",
       "      <td>4</td>\n",
       "    </tr>\n",
       "    <tr>\n",
       "      <th>22</th>\n",
       "      <td>01/2022</td>\n",
       "      <td>0</td>\n",
       "    </tr>\n",
       "    <tr>\n",
       "      <th>23</th>\n",
       "      <td>02/2022</td>\n",
       "      <td>0</td>\n",
       "    </tr>\n",
       "    <tr>\n",
       "      <th>24</th>\n",
       "      <td>03/2022</td>\n",
       "      <td>3</td>\n",
       "    </tr>\n",
       "    <tr>\n",
       "      <th>25</th>\n",
       "      <td>04/2022</td>\n",
       "      <td>0</td>\n",
       "    </tr>\n",
       "    <tr>\n",
       "      <th>26</th>\n",
       "      <td>05/2022</td>\n",
       "      <td>1</td>\n",
       "    </tr>\n",
       "    <tr>\n",
       "      <th>27</th>\n",
       "      <td>06/2022</td>\n",
       "      <td>2</td>\n",
       "    </tr>\n",
       "    <tr>\n",
       "      <th>28</th>\n",
       "      <td>07/2022</td>\n",
       "      <td>3</td>\n",
       "    </tr>\n",
       "    <tr>\n",
       "      <th>29</th>\n",
       "      <td>08/2022</td>\n",
       "      <td>1</td>\n",
       "    </tr>\n",
       "    <tr>\n",
       "      <th>30</th>\n",
       "      <td>09/2022</td>\n",
       "      <td>0</td>\n",
       "    </tr>\n",
       "    <tr>\n",
       "      <th>31</th>\n",
       "      <td>10/2022</td>\n",
       "      <td>1</td>\n",
       "    </tr>\n",
       "    <tr>\n",
       "      <th>32</th>\n",
       "      <td>11/2022</td>\n",
       "      <td>1</td>\n",
       "    </tr>\n",
       "    <tr>\n",
       "      <th>33</th>\n",
       "      <td>12/2022</td>\n",
       "      <td>1</td>\n",
       "    </tr>\n",
       "    <tr>\n",
       "      <th>34</th>\n",
       "      <td>01/2023</td>\n",
       "      <td>0</td>\n",
       "    </tr>\n",
       "  </tbody>\n",
       "</table>\n",
       "</div>"
      ],
      "text/plain": [
       "       Date  ICU\n",
       "0   03/2020    4\n",
       "1   04/2020    1\n",
       "2   05/2020    2\n",
       "3   06/2020    0\n",
       "4   07/2020    0\n",
       "5   08/2020    0\n",
       "6   09/2020    5\n",
       "7   10/2020    7\n",
       "8   11/2020   17\n",
       "9   12/2020   10\n",
       "10  01/2021   10\n",
       "11  02/2021   11\n",
       "12  03/2021    2\n",
       "13  04/2021    3\n",
       "14  05/2021    0\n",
       "15  06/2021    0\n",
       "16  07/2021    1\n",
       "17  08/2021    2\n",
       "18  09/2021    1\n",
       "19  10/2021    0\n",
       "20  11/2021    0\n",
       "21  12/2021    4\n",
       "22  01/2022    0\n",
       "23  02/2022    0\n",
       "24  03/2022    3\n",
       "25  04/2022    0\n",
       "26  05/2022    1\n",
       "27  06/2022    2\n",
       "28  07/2022    3\n",
       "29  08/2022    1\n",
       "30  09/2022    0\n",
       "31  10/2022    1\n",
       "32  11/2022    1\n",
       "33  12/2022    1\n",
       "34  01/2023    0"
      ]
     },
     "execution_count": 177,
     "metadata": {},
     "output_type": "execute_result"
    }
   ],
   "source": [
    "icu_df = malta_hospitalized.loc[malta_hospitalized['indicator'] == 'Daily ICU occupancy'].drop(columns=['indicator'])\n",
    "icu_df = icu_df.rename(columns={'value': 'ICU'})\n",
    "icu_df = icu_df.reset_index(drop=True)\n",
    "\n",
    "icu_df = icu_df.groupby(icu_df.Date.dt.to_period('M')).agg({\n",
    "    'ICU': 'last'\n",
    "})\n",
    "icu_df.insert(0, 'Date', icu_df.index.strftime('%m/%Y'))\n",
    "icu_df = icu_df.reset_index(drop=True)\n",
    "icu_df"
   ]
  },
  {
   "attachments": {},
   "cell_type": "markdown",
   "metadata": {},
   "source": [
    "## Combine Data"
   ]
  },
  {
   "cell_type": "code",
   "execution_count": 178,
   "metadata": {},
   "outputs": [
    {
     "data": {
      "text/html": [
       "<div>\n",
       "<style scoped>\n",
       "    .dataframe tbody tr th:only-of-type {\n",
       "        vertical-align: middle;\n",
       "    }\n",
       "\n",
       "    .dataframe tbody tr th {\n",
       "        vertical-align: top;\n",
       "    }\n",
       "\n",
       "    .dataframe thead th {\n",
       "        text-align: right;\n",
       "    }\n",
       "</style>\n",
       "<table border=\"1\" class=\"dataframe\">\n",
       "  <thead>\n",
       "    <tr style=\"text-align: right;\">\n",
       "      <th></th>\n",
       "      <th>Date</th>\n",
       "      <th>Year</th>\n",
       "      <th>Month</th>\n",
       "      <th>Positivity Rate</th>\n",
       "      <th>New Cases</th>\n",
       "      <th>Total Cases</th>\n",
       "      <th>Total Recovered</th>\n",
       "      <th>New Recovered</th>\n",
       "      <th>Total Deaths</th>\n",
       "      <th>New Deaths</th>\n",
       "      <th>...</th>\n",
       "      <th>Total Received one dose</th>\n",
       "      <th>New Received one dose</th>\n",
       "      <th>Total Booster doses</th>\n",
       "      <th>New Booster doses</th>\n",
       "      <th>Total 2nd Booster doses</th>\n",
       "      <th>New 2nd Booster doses</th>\n",
       "      <th>Total Omicron booster doses</th>\n",
       "      <th>New Omicron booster doses</th>\n",
       "      <th>Hospitalized</th>\n",
       "      <th>ICU</th>\n",
       "    </tr>\n",
       "  </thead>\n",
       "  <tbody>\n",
       "    <tr>\n",
       "      <th>0</th>\n",
       "      <td>03/2020</td>\n",
       "      <td>2020</td>\n",
       "      <td>Mar</td>\n",
       "      <td>NaN</td>\n",
       "      <td>169</td>\n",
       "      <td>169</td>\n",
       "      <td>2</td>\n",
       "      <td>2</td>\n",
       "      <td>0</td>\n",
       "      <td>0</td>\n",
       "      <td>...</td>\n",
       "      <td>NaN</td>\n",
       "      <td>NaN</td>\n",
       "      <td>NaN</td>\n",
       "      <td>NaN</td>\n",
       "      <td>NaN</td>\n",
       "      <td>NaN</td>\n",
       "      <td>NaN</td>\n",
       "      <td>NaN</td>\n",
       "      <td>9.0</td>\n",
       "      <td>4</td>\n",
       "    </tr>\n",
       "    <tr>\n",
       "      <th>1</th>\n",
       "      <td>04/2020</td>\n",
       "      <td>2020</td>\n",
       "      <td>Apr</td>\n",
       "      <td>NaN</td>\n",
       "      <td>296</td>\n",
       "      <td>465</td>\n",
       "      <td>351</td>\n",
       "      <td>349</td>\n",
       "      <td>4</td>\n",
       "      <td>4</td>\n",
       "      <td>...</td>\n",
       "      <td>NaN</td>\n",
       "      <td>NaN</td>\n",
       "      <td>NaN</td>\n",
       "      <td>NaN</td>\n",
       "      <td>NaN</td>\n",
       "      <td>NaN</td>\n",
       "      <td>NaN</td>\n",
       "      <td>NaN</td>\n",
       "      <td>4.0</td>\n",
       "      <td>1</td>\n",
       "    </tr>\n",
       "    <tr>\n",
       "      <th>2</th>\n",
       "      <td>05/2020</td>\n",
       "      <td>2020</td>\n",
       "      <td>May</td>\n",
       "      <td>NaN</td>\n",
       "      <td>153</td>\n",
       "      <td>618</td>\n",
       "      <td>534</td>\n",
       "      <td>183</td>\n",
       "      <td>9</td>\n",
       "      <td>5</td>\n",
       "      <td>...</td>\n",
       "      <td>NaN</td>\n",
       "      <td>NaN</td>\n",
       "      <td>NaN</td>\n",
       "      <td>NaN</td>\n",
       "      <td>NaN</td>\n",
       "      <td>NaN</td>\n",
       "      <td>NaN</td>\n",
       "      <td>NaN</td>\n",
       "      <td>3.0</td>\n",
       "      <td>2</td>\n",
       "    </tr>\n",
       "    <tr>\n",
       "      <th>3</th>\n",
       "      <td>06/2020</td>\n",
       "      <td>2020</td>\n",
       "      <td>Jun</td>\n",
       "      <td>NaN</td>\n",
       "      <td>52</td>\n",
       "      <td>670</td>\n",
       "      <td>640</td>\n",
       "      <td>106</td>\n",
       "      <td>9</td>\n",
       "      <td>0</td>\n",
       "      <td>...</td>\n",
       "      <td>NaN</td>\n",
       "      <td>NaN</td>\n",
       "      <td>NaN</td>\n",
       "      <td>NaN</td>\n",
       "      <td>NaN</td>\n",
       "      <td>NaN</td>\n",
       "      <td>NaN</td>\n",
       "      <td>NaN</td>\n",
       "      <td>0.0</td>\n",
       "      <td>0</td>\n",
       "    </tr>\n",
       "    <tr>\n",
       "      <th>4</th>\n",
       "      <td>07/2020</td>\n",
       "      <td>2020</td>\n",
       "      <td>Jul</td>\n",
       "      <td>1.031688</td>\n",
       "      <td>154</td>\n",
       "      <td>824</td>\n",
       "      <td>665</td>\n",
       "      <td>25</td>\n",
       "      <td>9</td>\n",
       "      <td>0</td>\n",
       "      <td>...</td>\n",
       "      <td>NaN</td>\n",
       "      <td>NaN</td>\n",
       "      <td>NaN</td>\n",
       "      <td>NaN</td>\n",
       "      <td>NaN</td>\n",
       "      <td>NaN</td>\n",
       "      <td>NaN</td>\n",
       "      <td>NaN</td>\n",
       "      <td>1.0</td>\n",
       "      <td>0</td>\n",
       "    </tr>\n",
       "    <tr>\n",
       "      <th>5</th>\n",
       "      <td>08/2020</td>\n",
       "      <td>2020</td>\n",
       "      <td>Aug</td>\n",
       "      <td>1.825539</td>\n",
       "      <td>1164</td>\n",
       "      <td>1883</td>\n",
       "      <td>1400</td>\n",
       "      <td>735</td>\n",
       "      <td>12</td>\n",
       "      <td>3</td>\n",
       "      <td>...</td>\n",
       "      <td>NaN</td>\n",
       "      <td>NaN</td>\n",
       "      <td>NaN</td>\n",
       "      <td>NaN</td>\n",
       "      <td>NaN</td>\n",
       "      <td>NaN</td>\n",
       "      <td>NaN</td>\n",
       "      <td>NaN</td>\n",
       "      <td>7.0</td>\n",
       "      <td>0</td>\n",
       "    </tr>\n",
       "    <tr>\n",
       "      <th>6</th>\n",
       "      <td>09/2020</td>\n",
       "      <td>2020</td>\n",
       "      <td>Sep</td>\n",
       "      <td>1.834562</td>\n",
       "      <td>1175</td>\n",
       "      <td>3058</td>\n",
       "      <td>2562</td>\n",
       "      <td>1162</td>\n",
       "      <td>34</td>\n",
       "      <td>22</td>\n",
       "      <td>...</td>\n",
       "      <td>NaN</td>\n",
       "      <td>NaN</td>\n",
       "      <td>NaN</td>\n",
       "      <td>NaN</td>\n",
       "      <td>NaN</td>\n",
       "      <td>NaN</td>\n",
       "      <td>NaN</td>\n",
       "      <td>NaN</td>\n",
       "      <td>22.0</td>\n",
       "      <td>5</td>\n",
       "    </tr>\n",
       "    <tr>\n",
       "      <th>7</th>\n",
       "      <td>10/2020</td>\n",
       "      <td>2020</td>\n",
       "      <td>Oct</td>\n",
       "      <td>3.587573</td>\n",
       "      <td>2984</td>\n",
       "      <td>6042</td>\n",
       "      <td>4155</td>\n",
       "      <td>1593</td>\n",
       "      <td>62</td>\n",
       "      <td>28</td>\n",
       "      <td>...</td>\n",
       "      <td>NaN</td>\n",
       "      <td>NaN</td>\n",
       "      <td>NaN</td>\n",
       "      <td>NaN</td>\n",
       "      <td>NaN</td>\n",
       "      <td>NaN</td>\n",
       "      <td>NaN</td>\n",
       "      <td>NaN</td>\n",
       "      <td>53.0</td>\n",
       "      <td>7</td>\n",
       "    </tr>\n",
       "    <tr>\n",
       "      <th>8</th>\n",
       "      <td>11/2020</td>\n",
       "      <td>2020</td>\n",
       "      <td>Nov</td>\n",
       "      <td>4.207624</td>\n",
       "      <td>3831</td>\n",
       "      <td>9873</td>\n",
       "      <td>7665</td>\n",
       "      <td>3510</td>\n",
       "      <td>137</td>\n",
       "      <td>75</td>\n",
       "      <td>...</td>\n",
       "      <td>NaN</td>\n",
       "      <td>NaN</td>\n",
       "      <td>NaN</td>\n",
       "      <td>NaN</td>\n",
       "      <td>NaN</td>\n",
       "      <td>NaN</td>\n",
       "      <td>NaN</td>\n",
       "      <td>NaN</td>\n",
       "      <td>80.0</td>\n",
       "      <td>17</td>\n",
       "    </tr>\n",
       "    <tr>\n",
       "      <th>9</th>\n",
       "      <td>12/2020</td>\n",
       "      <td>2020</td>\n",
       "      <td>Dec</td>\n",
       "      <td>3.343938</td>\n",
       "      <td>2901</td>\n",
       "      <td>12774</td>\n",
       "      <td>11121</td>\n",
       "      <td>3456</td>\n",
       "      <td>219</td>\n",
       "      <td>82</td>\n",
       "      <td>...</td>\n",
       "      <td>NaN</td>\n",
       "      <td>NaN</td>\n",
       "      <td>NaN</td>\n",
       "      <td>NaN</td>\n",
       "      <td>NaN</td>\n",
       "      <td>NaN</td>\n",
       "      <td>NaN</td>\n",
       "      <td>NaN</td>\n",
       "      <td>66.0</td>\n",
       "      <td>10</td>\n",
       "    </tr>\n",
       "    <tr>\n",
       "      <th>10</th>\n",
       "      <td>01/2021</td>\n",
       "      <td>2021</td>\n",
       "      <td>Jan</td>\n",
       "      <td>5.229351</td>\n",
       "      <td>5129</td>\n",
       "      <td>17903</td>\n",
       "      <td>14960</td>\n",
       "      <td>3839</td>\n",
       "      <td>267</td>\n",
       "      <td>48</td>\n",
       "      <td>...</td>\n",
       "      <td>23811.0</td>\n",
       "      <td>23811.0</td>\n",
       "      <td>0.0</td>\n",
       "      <td>0.0</td>\n",
       "      <td>0.0</td>\n",
       "      <td>0.0</td>\n",
       "      <td>0.0</td>\n",
       "      <td>0.0</td>\n",
       "      <td>63.0</td>\n",
       "      <td>10</td>\n",
       "    </tr>\n",
       "    <tr>\n",
       "      <th>11</th>\n",
       "      <td>02/2021</td>\n",
       "      <td>2021</td>\n",
       "      <td>Feb</td>\n",
       "      <td>5.29407</td>\n",
       "      <td>4579</td>\n",
       "      <td>22482</td>\n",
       "      <td>19447</td>\n",
       "      <td>4487</td>\n",
       "      <td>315</td>\n",
       "      <td>48</td>\n",
       "      <td>...</td>\n",
       "      <td>51576.0</td>\n",
       "      <td>27765.0</td>\n",
       "      <td>0.0</td>\n",
       "      <td>0.0</td>\n",
       "      <td>0.0</td>\n",
       "      <td>0.0</td>\n",
       "      <td>0.0</td>\n",
       "      <td>0.0</td>\n",
       "      <td>80.0</td>\n",
       "      <td>11</td>\n",
       "    </tr>\n",
       "    <tr>\n",
       "      <th>12</th>\n",
       "      <td>03/2021</td>\n",
       "      <td>2021</td>\n",
       "      <td>Mar</td>\n",
       "      <td>6.010533</td>\n",
       "      <td>6551</td>\n",
       "      <td>29033</td>\n",
       "      <td>27805</td>\n",
       "      <td>8358</td>\n",
       "      <td>392</td>\n",
       "      <td>77</td>\n",
       "      <td>...</td>\n",
       "      <td>142805.0</td>\n",
       "      <td>91229.0</td>\n",
       "      <td>0.0</td>\n",
       "      <td>0.0</td>\n",
       "      <td>0.0</td>\n",
       "      <td>0.0</td>\n",
       "      <td>0.0</td>\n",
       "      <td>0.0</td>\n",
       "      <td>68.0</td>\n",
       "      <td>2</td>\n",
       "    </tr>\n",
       "    <tr>\n",
       "      <th>13</th>\n",
       "      <td>04/2021</td>\n",
       "      <td>2021</td>\n",
       "      <td>Apr</td>\n",
       "      <td>2.17215</td>\n",
       "      <td>1259</td>\n",
       "      <td>30292</td>\n",
       "      <td>29548</td>\n",
       "      <td>1743</td>\n",
       "      <td>413</td>\n",
       "      <td>21</td>\n",
       "      <td>...</td>\n",
       "      <td>228810.0</td>\n",
       "      <td>86005.0</td>\n",
       "      <td>0.0</td>\n",
       "      <td>0.0</td>\n",
       "      <td>0.0</td>\n",
       "      <td>0.0</td>\n",
       "      <td>0.0</td>\n",
       "      <td>0.0</td>\n",
       "      <td>36.0</td>\n",
       "      <td>3</td>\n",
       "    </tr>\n",
       "    <tr>\n",
       "      <th>14</th>\n",
       "      <td>05/2021</td>\n",
       "      <td>2021</td>\n",
       "      <td>May</td>\n",
       "      <td>0.406851</td>\n",
       "      <td>243</td>\n",
       "      <td>30535</td>\n",
       "      <td>30050</td>\n",
       "      <td>502</td>\n",
       "      <td>419</td>\n",
       "      <td>6</td>\n",
       "      <td>...</td>\n",
       "      <td>318743.0</td>\n",
       "      <td>89933.0</td>\n",
       "      <td>0.0</td>\n",
       "      <td>0.0</td>\n",
       "      <td>0.0</td>\n",
       "      <td>0.0</td>\n",
       "      <td>0.0</td>\n",
       "      <td>0.0</td>\n",
       "      <td>3.0</td>\n",
       "      <td>0</td>\n",
       "    </tr>\n",
       "    <tr>\n",
       "      <th>15</th>\n",
       "      <td>06/2021</td>\n",
       "      <td>2021</td>\n",
       "      <td>Jun</td>\n",
       "      <td>0.14823</td>\n",
       "      <td>88</td>\n",
       "      <td>30623</td>\n",
       "      <td>30158</td>\n",
       "      <td>108</td>\n",
       "      <td>420</td>\n",
       "      <td>1</td>\n",
       "      <td>...</td>\n",
       "      <td>359169.0</td>\n",
       "      <td>40426.0</td>\n",
       "      <td>0.0</td>\n",
       "      <td>0.0</td>\n",
       "      <td>0.0</td>\n",
       "      <td>0.0</td>\n",
       "      <td>0.0</td>\n",
       "      <td>0.0</td>\n",
       "      <td>3.0</td>\n",
       "      <td>0</td>\n",
       "    </tr>\n",
       "    <tr>\n",
       "      <th>16</th>\n",
       "      <td>07/2021</td>\n",
       "      <td>2021</td>\n",
       "      <td>Jul</td>\n",
       "      <td>3.467848</td>\n",
       "      <td>3672</td>\n",
       "      <td>34295</td>\n",
       "      <td>31629</td>\n",
       "      <td>1471</td>\n",
       "      <td>423</td>\n",
       "      <td>3</td>\n",
       "      <td>...</td>\n",
       "      <td>399690.0</td>\n",
       "      <td>40521.0</td>\n",
       "      <td>0.0</td>\n",
       "      <td>0.0</td>\n",
       "      <td>0.0</td>\n",
       "      <td>0.0</td>\n",
       "      <td>0.0</td>\n",
       "      <td>0.0</td>\n",
       "      <td>30.0</td>\n",
       "      <td>1</td>\n",
       "    </tr>\n",
       "    <tr>\n",
       "      <th>17</th>\n",
       "      <td>08/2021</td>\n",
       "      <td>2021</td>\n",
       "      <td>Aug</td>\n",
       "      <td>1.870128</td>\n",
       "      <td>1876</td>\n",
       "      <td>36171</td>\n",
       "      <td>34678</td>\n",
       "      <td>3049</td>\n",
       "      <td>441</td>\n",
       "      <td>18</td>\n",
       "      <td>...</td>\n",
       "      <td>413985.0</td>\n",
       "      <td>14295.0</td>\n",
       "      <td>0.0</td>\n",
       "      <td>0.0</td>\n",
       "      <td>0.0</td>\n",
       "      <td>0.0</td>\n",
       "      <td>0.0</td>\n",
       "      <td>0.0</td>\n",
       "      <td>31.0</td>\n",
       "      <td>2</td>\n",
       "    </tr>\n",
       "    <tr>\n",
       "      <th>18</th>\n",
       "      <td>09/2021</td>\n",
       "      <td>2021</td>\n",
       "      <td>Sep</td>\n",
       "      <td>1.037897</td>\n",
       "      <td>978</td>\n",
       "      <td>37149</td>\n",
       "      <td>35968</td>\n",
       "      <td>1290</td>\n",
       "      <td>457</td>\n",
       "      <td>16</td>\n",
       "      <td>...</td>\n",
       "      <td>421602.0</td>\n",
       "      <td>7617.0</td>\n",
       "      <td>12071.0</td>\n",
       "      <td>12071.0</td>\n",
       "      <td>0.0</td>\n",
       "      <td>0.0</td>\n",
       "      <td>0.0</td>\n",
       "      <td>0.0</td>\n",
       "      <td>11.0</td>\n",
       "      <td>1</td>\n",
       "    </tr>\n",
       "    <tr>\n",
       "      <th>19</th>\n",
       "      <td>10/2021</td>\n",
       "      <td>2021</td>\n",
       "      <td>Oct</td>\n",
       "      <td>0.906615</td>\n",
       "      <td>506</td>\n",
       "      <td>37655</td>\n",
       "      <td>36583</td>\n",
       "      <td>615</td>\n",
       "      <td>461</td>\n",
       "      <td>4</td>\n",
       "      <td>...</td>\n",
       "      <td>430283.0</td>\n",
       "      <td>8681.0</td>\n",
       "      <td>52915.0</td>\n",
       "      <td>40844.0</td>\n",
       "      <td>0.0</td>\n",
       "      <td>0.0</td>\n",
       "      <td>0.0</td>\n",
       "      <td>0.0</td>\n",
       "      <td>13.0</td>\n",
       "      <td>0</td>\n",
       "    </tr>\n",
       "    <tr>\n",
       "      <th>20</th>\n",
       "      <td>11/2021</td>\n",
       "      <td>2021</td>\n",
       "      <td>Nov</td>\n",
       "      <td>2.761635</td>\n",
       "      <td>1782</td>\n",
       "      <td>39437</td>\n",
       "      <td>37385</td>\n",
       "      <td>802</td>\n",
       "      <td>468</td>\n",
       "      <td>7</td>\n",
       "      <td>...</td>\n",
       "      <td>435775.0</td>\n",
       "      <td>5492.0</td>\n",
       "      <td>123944.0</td>\n",
       "      <td>71029.0</td>\n",
       "      <td>0.0</td>\n",
       "      <td>0.0</td>\n",
       "      <td>0.0</td>\n",
       "      <td>0.0</td>\n",
       "      <td>23.0</td>\n",
       "      <td>0</td>\n",
       "    </tr>\n",
       "    <tr>\n",
       "      <th>21</th>\n",
       "      <td>12/2021</td>\n",
       "      <td>2021</td>\n",
       "      <td>Dec</td>\n",
       "      <td>8.898189</td>\n",
       "      <td>13033</td>\n",
       "      <td>52470</td>\n",
       "      <td>40156</td>\n",
       "      <td>2771</td>\n",
       "      <td>477</td>\n",
       "      <td>9</td>\n",
       "      <td>...</td>\n",
       "      <td>444615.0</td>\n",
       "      <td>8840.0</td>\n",
       "      <td>224190.0</td>\n",
       "      <td>100246.0</td>\n",
       "      <td>0.0</td>\n",
       "      <td>0.0</td>\n",
       "      <td>0.0</td>\n",
       "      <td>0.0</td>\n",
       "      <td>94.0</td>\n",
       "      <td>4</td>\n",
       "    </tr>\n",
       "    <tr>\n",
       "      <th>22</th>\n",
       "      <td>01/2022</td>\n",
       "      <td>2022</td>\n",
       "      <td>Jan</td>\n",
       "      <td>11.410436</td>\n",
       "      <td>15244</td>\n",
       "      <td>67714</td>\n",
       "      <td>63796</td>\n",
       "      <td>23640</td>\n",
       "      <td>550</td>\n",
       "      <td>73</td>\n",
       "      <td>...</td>\n",
       "      <td>464435.0</td>\n",
       "      <td>19820.0</td>\n",
       "      <td>331055.0</td>\n",
       "      <td>106865.0</td>\n",
       "      <td>0.0</td>\n",
       "      <td>0.0</td>\n",
       "      <td>0.0</td>\n",
       "      <td>0.0</td>\n",
       "      <td>100.0</td>\n",
       "      <td>0</td>\n",
       "    </tr>\n",
       "    <tr>\n",
       "      <th>23</th>\n",
       "      <td>02/2022</td>\n",
       "      <td>2022</td>\n",
       "      <td>Feb</td>\n",
       "      <td>6.829437</td>\n",
       "      <td>3558</td>\n",
       "      <td>71272</td>\n",
       "      <td>69579</td>\n",
       "      <td>5783</td>\n",
       "      <td>605</td>\n",
       "      <td>55</td>\n",
       "      <td>...</td>\n",
       "      <td>470596.0</td>\n",
       "      <td>6161.0</td>\n",
       "      <td>343111.0</td>\n",
       "      <td>12056.0</td>\n",
       "      <td>0.0</td>\n",
       "      <td>0.0</td>\n",
       "      <td>0.0</td>\n",
       "      <td>0.0</td>\n",
       "      <td>36.0</td>\n",
       "      <td>0</td>\n",
       "    </tr>\n",
       "    <tr>\n",
       "      <th>24</th>\n",
       "      <td>03/2022</td>\n",
       "      <td>2022</td>\n",
       "      <td>Mar</td>\n",
       "      <td>12.374081</td>\n",
       "      <td>8267</td>\n",
       "      <td>79539</td>\n",
       "      <td>72865</td>\n",
       "      <td>3286</td>\n",
       "      <td>638</td>\n",
       "      <td>33</td>\n",
       "      <td>...</td>\n",
       "      <td>473845.0</td>\n",
       "      <td>3249.0</td>\n",
       "      <td>350709.0</td>\n",
       "      <td>7598.0</td>\n",
       "      <td>0.0</td>\n",
       "      <td>0.0</td>\n",
       "      <td>0.0</td>\n",
       "      <td>0.0</td>\n",
       "      <td>77.0</td>\n",
       "      <td>3</td>\n",
       "    </tr>\n",
       "    <tr>\n",
       "      <th>25</th>\n",
       "      <td>04/2022</td>\n",
       "      <td>2022</td>\n",
       "      <td>Apr</td>\n",
       "      <td>15.882851</td>\n",
       "      <td>12202</td>\n",
       "      <td>91741</td>\n",
       "      <td>87119</td>\n",
       "      <td>14254</td>\n",
       "      <td>698</td>\n",
       "      <td>60</td>\n",
       "      <td>...</td>\n",
       "      <td>475475.0</td>\n",
       "      <td>1630.0</td>\n",
       "      <td>354786.0</td>\n",
       "      <td>4077.0</td>\n",
       "      <td>12660.0</td>\n",
       "      <td>12660.0</td>\n",
       "      <td>0.0</td>\n",
       "      <td>0.0</td>\n",
       "      <td>NaN</td>\n",
       "      <td>0</td>\n",
       "    </tr>\n",
       "    <tr>\n",
       "      <th>26</th>\n",
       "      <td>05/2022</td>\n",
       "      <td>2022</td>\n",
       "      <td>May</td>\n",
       "      <td>7.301703</td>\n",
       "      <td>3001</td>\n",
       "      <td>94742</td>\n",
       "      <td>92215</td>\n",
       "      <td>5096</td>\n",
       "      <td>721</td>\n",
       "      <td>23</td>\n",
       "      <td>...</td>\n",
       "      <td>476351.0</td>\n",
       "      <td>876.0</td>\n",
       "      <td>356886.0</td>\n",
       "      <td>2100.0</td>\n",
       "      <td>32724.0</td>\n",
       "      <td>20064.0</td>\n",
       "      <td>0.0</td>\n",
       "      <td>0.0</td>\n",
       "      <td>NaN</td>\n",
       "      <td>1</td>\n",
       "    </tr>\n",
       "    <tr>\n",
       "      <th>27</th>\n",
       "      <td>06/2022</td>\n",
       "      <td>2022</td>\n",
       "      <td>Jun</td>\n",
       "      <td>20.148895</td>\n",
       "      <td>8390</td>\n",
       "      <td>103132</td>\n",
       "      <td>95764</td>\n",
       "      <td>3549</td>\n",
       "      <td>741</td>\n",
       "      <td>20</td>\n",
       "      <td>...</td>\n",
       "      <td>476888.0</td>\n",
       "      <td>537.0</td>\n",
       "      <td>358379.0</td>\n",
       "      <td>1493.0</td>\n",
       "      <td>46567.0</td>\n",
       "      <td>13843.0</td>\n",
       "      <td>0.0</td>\n",
       "      <td>0.0</td>\n",
       "      <td>NaN</td>\n",
       "      <td>2</td>\n",
       "    </tr>\n",
       "    <tr>\n",
       "      <th>28</th>\n",
       "      <td>07/2022</td>\n",
       "      <td>2022</td>\n",
       "      <td>Jul</td>\n",
       "      <td>18.420503</td>\n",
       "      <td>9696</td>\n",
       "      <td>112828</td>\n",
       "      <td>109863</td>\n",
       "      <td>14099</td>\n",
       "      <td>794</td>\n",
       "      <td>53</td>\n",
       "      <td>...</td>\n",
       "      <td>477390.0</td>\n",
       "      <td>502.0</td>\n",
       "      <td>359452.0</td>\n",
       "      <td>1073.0</td>\n",
       "      <td>57013.0</td>\n",
       "      <td>10446.0</td>\n",
       "      <td>0.0</td>\n",
       "      <td>0.0</td>\n",
       "      <td>NaN</td>\n",
       "      <td>3</td>\n",
       "    </tr>\n",
       "    <tr>\n",
       "      <th>29</th>\n",
       "      <td>08/2022</td>\n",
       "      <td>2022</td>\n",
       "      <td>Aug</td>\n",
       "      <td>4.963646</td>\n",
       "      <td>1222</td>\n",
       "      <td>114050</td>\n",
       "      <td>112726</td>\n",
       "      <td>2863</td>\n",
       "      <td>801</td>\n",
       "      <td>7</td>\n",
       "      <td>...</td>\n",
       "      <td>477686.0</td>\n",
       "      <td>296.0</td>\n",
       "      <td>359945.0</td>\n",
       "      <td>493.0</td>\n",
       "      <td>60395.0</td>\n",
       "      <td>3382.0</td>\n",
       "      <td>0.0</td>\n",
       "      <td>0.0</td>\n",
       "      <td>NaN</td>\n",
       "      <td>1</td>\n",
       "    </tr>\n",
       "    <tr>\n",
       "      <th>30</th>\n",
       "      <td>09/2022</td>\n",
       "      <td>2022</td>\n",
       "      <td>Sep</td>\n",
       "      <td>3.722818</td>\n",
       "      <td>642</td>\n",
       "      <td>114692</td>\n",
       "      <td>113215</td>\n",
       "      <td>489</td>\n",
       "      <td>806</td>\n",
       "      <td>5</td>\n",
       "      <td>...</td>\n",
       "      <td>477966.0</td>\n",
       "      <td>280.0</td>\n",
       "      <td>360286.0</td>\n",
       "      <td>341.0</td>\n",
       "      <td>60654.0</td>\n",
       "      <td>259.0</td>\n",
       "      <td>0.0</td>\n",
       "      <td>0.0</td>\n",
       "      <td>NaN</td>\n",
       "      <td>0</td>\n",
       "    </tr>\n",
       "    <tr>\n",
       "      <th>31</th>\n",
       "      <td>10/2022</td>\n",
       "      <td>2022</td>\n",
       "      <td>Oct</td>\n",
       "      <td>4.120156</td>\n",
       "      <td>657</td>\n",
       "      <td>115349</td>\n",
       "      <td>113809</td>\n",
       "      <td>594</td>\n",
       "      <td>808</td>\n",
       "      <td>2</td>\n",
       "      <td>...</td>\n",
       "      <td>478271.0</td>\n",
       "      <td>305.0</td>\n",
       "      <td>360805.0</td>\n",
       "      <td>519.0</td>\n",
       "      <td>67396.0</td>\n",
       "      <td>6742.0</td>\n",
       "      <td>0.0</td>\n",
       "      <td>0.0</td>\n",
       "      <td>NaN</td>\n",
       "      <td>1</td>\n",
       "    </tr>\n",
       "    <tr>\n",
       "      <th>32</th>\n",
       "      <td>11/2022</td>\n",
       "      <td>2022</td>\n",
       "      <td>Nov</td>\n",
       "      <td>3.813823</td>\n",
       "      <td>490</td>\n",
       "      <td>115839</td>\n",
       "      <td>114444</td>\n",
       "      <td>635</td>\n",
       "      <td>809</td>\n",
       "      <td>1</td>\n",
       "      <td>...</td>\n",
       "      <td>478417.0</td>\n",
       "      <td>146.0</td>\n",
       "      <td>361240.0</td>\n",
       "      <td>435.0</td>\n",
       "      <td>73771.0</td>\n",
       "      <td>6375.0</td>\n",
       "      <td>22627.0</td>\n",
       "      <td>5609.0</td>\n",
       "      <td>NaN</td>\n",
       "      <td>1</td>\n",
       "    </tr>\n",
       "    <tr>\n",
       "      <th>33</th>\n",
       "      <td>12/2022</td>\n",
       "      <td>2022</td>\n",
       "      <td>Dec</td>\n",
       "      <td>5.994281</td>\n",
       "      <td>545</td>\n",
       "      <td>116384</td>\n",
       "      <td>114889</td>\n",
       "      <td>445</td>\n",
       "      <td>815</td>\n",
       "      <td>6</td>\n",
       "      <td>...</td>\n",
       "      <td>478553.0</td>\n",
       "      <td>136.0</td>\n",
       "      <td>361432.0</td>\n",
       "      <td>192.0</td>\n",
       "      <td>75213.0</td>\n",
       "      <td>1442.0</td>\n",
       "      <td>24823.0</td>\n",
       "      <td>2178.0</td>\n",
       "      <td>NaN</td>\n",
       "      <td>1</td>\n",
       "    </tr>\n",
       "    <tr>\n",
       "      <th>34</th>\n",
       "      <td>01/2023</td>\n",
       "      <td>2023</td>\n",
       "      <td>Jan</td>\n",
       "      <td>8.588262</td>\n",
       "      <td>379</td>\n",
       "      <td>116763</td>\n",
       "      <td>115118</td>\n",
       "      <td>229</td>\n",
       "      <td>822</td>\n",
       "      <td>7</td>\n",
       "      <td>...</td>\n",
       "      <td>478593.0</td>\n",
       "      <td>40.0</td>\n",
       "      <td>361498.0</td>\n",
       "      <td>66.0</td>\n",
       "      <td>75646.0</td>\n",
       "      <td>433.0</td>\n",
       "      <td>25389.0</td>\n",
       "      <td>566.0</td>\n",
       "      <td>NaN</td>\n",
       "      <td>0</td>\n",
       "    </tr>\n",
       "  </tbody>\n",
       "</table>\n",
       "<p>35 rows × 27 columns</p>\n",
       "</div>"
      ],
      "text/plain": [
       "       Date  Year Month Positivity Rate  New Cases  Total Cases  \\\n",
       "0   03/2020  2020   Mar             NaN        169          169   \n",
       "1   04/2020  2020   Apr             NaN        296          465   \n",
       "2   05/2020  2020   May             NaN        153          618   \n",
       "3   06/2020  2020   Jun             NaN         52          670   \n",
       "4   07/2020  2020   Jul        1.031688        154          824   \n",
       "5   08/2020  2020   Aug        1.825539       1164         1883   \n",
       "6   09/2020  2020   Sep        1.834562       1175         3058   \n",
       "7   10/2020  2020   Oct        3.587573       2984         6042   \n",
       "8   11/2020  2020   Nov        4.207624       3831         9873   \n",
       "9   12/2020  2020   Dec        3.343938       2901        12774   \n",
       "10  01/2021  2021   Jan        5.229351       5129        17903   \n",
       "11  02/2021  2021   Feb         5.29407       4579        22482   \n",
       "12  03/2021  2021   Mar        6.010533       6551        29033   \n",
       "13  04/2021  2021   Apr         2.17215       1259        30292   \n",
       "14  05/2021  2021   May        0.406851        243        30535   \n",
       "15  06/2021  2021   Jun         0.14823         88        30623   \n",
       "16  07/2021  2021   Jul        3.467848       3672        34295   \n",
       "17  08/2021  2021   Aug        1.870128       1876        36171   \n",
       "18  09/2021  2021   Sep        1.037897        978        37149   \n",
       "19  10/2021  2021   Oct        0.906615        506        37655   \n",
       "20  11/2021  2021   Nov        2.761635       1782        39437   \n",
       "21  12/2021  2021   Dec        8.898189      13033        52470   \n",
       "22  01/2022  2022   Jan       11.410436      15244        67714   \n",
       "23  02/2022  2022   Feb        6.829437       3558        71272   \n",
       "24  03/2022  2022   Mar       12.374081       8267        79539   \n",
       "25  04/2022  2022   Apr       15.882851      12202        91741   \n",
       "26  05/2022  2022   May        7.301703       3001        94742   \n",
       "27  06/2022  2022   Jun       20.148895       8390       103132   \n",
       "28  07/2022  2022   Jul       18.420503       9696       112828   \n",
       "29  08/2022  2022   Aug        4.963646       1222       114050   \n",
       "30  09/2022  2022   Sep        3.722818        642       114692   \n",
       "31  10/2022  2022   Oct        4.120156        657       115349   \n",
       "32  11/2022  2022   Nov        3.813823        490       115839   \n",
       "33  12/2022  2022   Dec        5.994281        545       116384   \n",
       "34  01/2023  2023   Jan        8.588262        379       116763   \n",
       "\n",
       "    Total Recovered  New Recovered  Total Deaths  New Deaths  ...  \\\n",
       "0                 2              2             0           0  ...   \n",
       "1               351            349             4           4  ...   \n",
       "2               534            183             9           5  ...   \n",
       "3               640            106             9           0  ...   \n",
       "4               665             25             9           0  ...   \n",
       "5              1400            735            12           3  ...   \n",
       "6              2562           1162            34          22  ...   \n",
       "7              4155           1593            62          28  ...   \n",
       "8              7665           3510           137          75  ...   \n",
       "9             11121           3456           219          82  ...   \n",
       "10            14960           3839           267          48  ...   \n",
       "11            19447           4487           315          48  ...   \n",
       "12            27805           8358           392          77  ...   \n",
       "13            29548           1743           413          21  ...   \n",
       "14            30050            502           419           6  ...   \n",
       "15            30158            108           420           1  ...   \n",
       "16            31629           1471           423           3  ...   \n",
       "17            34678           3049           441          18  ...   \n",
       "18            35968           1290           457          16  ...   \n",
       "19            36583            615           461           4  ...   \n",
       "20            37385            802           468           7  ...   \n",
       "21            40156           2771           477           9  ...   \n",
       "22            63796          23640           550          73  ...   \n",
       "23            69579           5783           605          55  ...   \n",
       "24            72865           3286           638          33  ...   \n",
       "25            87119          14254           698          60  ...   \n",
       "26            92215           5096           721          23  ...   \n",
       "27            95764           3549           741          20  ...   \n",
       "28           109863          14099           794          53  ...   \n",
       "29           112726           2863           801           7  ...   \n",
       "30           113215            489           806           5  ...   \n",
       "31           113809            594           808           2  ...   \n",
       "32           114444            635           809           1  ...   \n",
       "33           114889            445           815           6  ...   \n",
       "34           115118            229           822           7  ...   \n",
       "\n",
       "    Total Received one dose New Received one dose Total Booster doses  \\\n",
       "0                       NaN                   NaN                 NaN   \n",
       "1                       NaN                   NaN                 NaN   \n",
       "2                       NaN                   NaN                 NaN   \n",
       "3                       NaN                   NaN                 NaN   \n",
       "4                       NaN                   NaN                 NaN   \n",
       "5                       NaN                   NaN                 NaN   \n",
       "6                       NaN                   NaN                 NaN   \n",
       "7                       NaN                   NaN                 NaN   \n",
       "8                       NaN                   NaN                 NaN   \n",
       "9                       NaN                   NaN                 NaN   \n",
       "10                  23811.0               23811.0                 0.0   \n",
       "11                  51576.0               27765.0                 0.0   \n",
       "12                 142805.0               91229.0                 0.0   \n",
       "13                 228810.0               86005.0                 0.0   \n",
       "14                 318743.0               89933.0                 0.0   \n",
       "15                 359169.0               40426.0                 0.0   \n",
       "16                 399690.0               40521.0                 0.0   \n",
       "17                 413985.0               14295.0                 0.0   \n",
       "18                 421602.0                7617.0             12071.0   \n",
       "19                 430283.0                8681.0             52915.0   \n",
       "20                 435775.0                5492.0            123944.0   \n",
       "21                 444615.0                8840.0            224190.0   \n",
       "22                 464435.0               19820.0            331055.0   \n",
       "23                 470596.0                6161.0            343111.0   \n",
       "24                 473845.0                3249.0            350709.0   \n",
       "25                 475475.0                1630.0            354786.0   \n",
       "26                 476351.0                 876.0            356886.0   \n",
       "27                 476888.0                 537.0            358379.0   \n",
       "28                 477390.0                 502.0            359452.0   \n",
       "29                 477686.0                 296.0            359945.0   \n",
       "30                 477966.0                 280.0            360286.0   \n",
       "31                 478271.0                 305.0            360805.0   \n",
       "32                 478417.0                 146.0            361240.0   \n",
       "33                 478553.0                 136.0            361432.0   \n",
       "34                 478593.0                  40.0            361498.0   \n",
       "\n",
       "    New Booster doses  Total 2nd Booster doses  New 2nd Booster doses  \\\n",
       "0                 NaN                      NaN                    NaN   \n",
       "1                 NaN                      NaN                    NaN   \n",
       "2                 NaN                      NaN                    NaN   \n",
       "3                 NaN                      NaN                    NaN   \n",
       "4                 NaN                      NaN                    NaN   \n",
       "5                 NaN                      NaN                    NaN   \n",
       "6                 NaN                      NaN                    NaN   \n",
       "7                 NaN                      NaN                    NaN   \n",
       "8                 NaN                      NaN                    NaN   \n",
       "9                 NaN                      NaN                    NaN   \n",
       "10                0.0                      0.0                    0.0   \n",
       "11                0.0                      0.0                    0.0   \n",
       "12                0.0                      0.0                    0.0   \n",
       "13                0.0                      0.0                    0.0   \n",
       "14                0.0                      0.0                    0.0   \n",
       "15                0.0                      0.0                    0.0   \n",
       "16                0.0                      0.0                    0.0   \n",
       "17                0.0                      0.0                    0.0   \n",
       "18            12071.0                      0.0                    0.0   \n",
       "19            40844.0                      0.0                    0.0   \n",
       "20            71029.0                      0.0                    0.0   \n",
       "21           100246.0                      0.0                    0.0   \n",
       "22           106865.0                      0.0                    0.0   \n",
       "23            12056.0                      0.0                    0.0   \n",
       "24             7598.0                      0.0                    0.0   \n",
       "25             4077.0                  12660.0                12660.0   \n",
       "26             2100.0                  32724.0                20064.0   \n",
       "27             1493.0                  46567.0                13843.0   \n",
       "28             1073.0                  57013.0                10446.0   \n",
       "29              493.0                  60395.0                 3382.0   \n",
       "30              341.0                  60654.0                  259.0   \n",
       "31              519.0                  67396.0                 6742.0   \n",
       "32              435.0                  73771.0                 6375.0   \n",
       "33              192.0                  75213.0                 1442.0   \n",
       "34               66.0                  75646.0                  433.0   \n",
       "\n",
       "    Total Omicron booster doses  New Omicron booster doses  Hospitalized  ICU  \n",
       "0                           NaN                        NaN           9.0    4  \n",
       "1                           NaN                        NaN           4.0    1  \n",
       "2                           NaN                        NaN           3.0    2  \n",
       "3                           NaN                        NaN           0.0    0  \n",
       "4                           NaN                        NaN           1.0    0  \n",
       "5                           NaN                        NaN           7.0    0  \n",
       "6                           NaN                        NaN          22.0    5  \n",
       "7                           NaN                        NaN          53.0    7  \n",
       "8                           NaN                        NaN          80.0   17  \n",
       "9                           NaN                        NaN          66.0   10  \n",
       "10                          0.0                        0.0          63.0   10  \n",
       "11                          0.0                        0.0          80.0   11  \n",
       "12                          0.0                        0.0          68.0    2  \n",
       "13                          0.0                        0.0          36.0    3  \n",
       "14                          0.0                        0.0           3.0    0  \n",
       "15                          0.0                        0.0           3.0    0  \n",
       "16                          0.0                        0.0          30.0    1  \n",
       "17                          0.0                        0.0          31.0    2  \n",
       "18                          0.0                        0.0          11.0    1  \n",
       "19                          0.0                        0.0          13.0    0  \n",
       "20                          0.0                        0.0          23.0    0  \n",
       "21                          0.0                        0.0          94.0    4  \n",
       "22                          0.0                        0.0         100.0    0  \n",
       "23                          0.0                        0.0          36.0    0  \n",
       "24                          0.0                        0.0          77.0    3  \n",
       "25                          0.0                        0.0           NaN    0  \n",
       "26                          0.0                        0.0           NaN    1  \n",
       "27                          0.0                        0.0           NaN    2  \n",
       "28                          0.0                        0.0           NaN    3  \n",
       "29                          0.0                        0.0           NaN    1  \n",
       "30                          0.0                        0.0           NaN    0  \n",
       "31                          0.0                        0.0           NaN    1  \n",
       "32                      22627.0                     5609.0           NaN    1  \n",
       "33                      24823.0                     2178.0           NaN    1  \n",
       "34                      25389.0                      566.0           NaN    0  \n",
       "\n",
       "[35 rows x 27 columns]"
      ]
     },
     "execution_count": 178,
     "metadata": {},
     "output_type": "execute_result"
    }
   ],
   "source": [
    "dataframes = [cases_df, tests_df, vaccines_df, hospitalized_df, icu_df]\n",
    "data_df = reduce(\n",
    "    lambda combined_data, df:\n",
    "        pd.merge(\n",
    "            left=combined_data,\n",
    "            right=df,\n",
    "            how='outer',\n",
    "            on='Date'\n",
    "        ),\n",
    "    dataframes\n",
    ")\n",
    "\n",
    "# Add Positivity Rate\n",
    "data_df.insert(3, 'Positivity Rate', (data_df['New Cases'] / data_df['New Tests']) * 100)\n",
    "\n",
    "data_df"
   ]
  },
  {
   "attachments": {},
   "cell_type": "markdown",
   "metadata": {},
   "source": [
    "## Calculate Correlations"
   ]
  },
  {
   "cell_type": "code",
   "execution_count": 179,
   "metadata": {},
   "outputs": [],
   "source": [
    "def calc_correlations(left: pd.Series, right: pd.Series):\n",
    "    print(\"Pearson's correlation coefficient: \", left.corr(right, method='pearson'))\n",
    "    print(\"Kendall's tau: \", left.corr(right, method='kendall'))\n",
    "    print(\"Spearman's rank correlation coefficient: \", left.corr(right, method='spearman'))"
   ]
  },
  {
   "attachments": {},
   "cell_type": "markdown",
   "metadata": {},
   "source": [
    "## Total Cases, Recovered & Deaths"
   ]
  },
  {
   "cell_type": "code",
   "execution_count": 180,
   "metadata": {},
   "outputs": [
    {
     "data": {
      "application/vnd.plotly.v1+json": {
       "config": {
        "plotlyServerURL": "https://plot.ly"
       },
       "data": [
        {
         "hovertemplate": "variable=Total Cases<br>Date=%{x}<br>value=%{y}<extra></extra>",
         "legendgroup": "Total Cases",
         "line": {
          "color": "#636efa",
          "dash": "solid"
         },
         "marker": {
          "symbol": "circle"
         },
         "mode": "lines",
         "name": "Total Cases",
         "orientation": "v",
         "showlegend": true,
         "type": "scatter",
         "x": [
          "03/2020",
          "04/2020",
          "05/2020",
          "06/2020",
          "07/2020",
          "08/2020",
          "09/2020",
          "10/2020",
          "11/2020",
          "12/2020",
          "01/2021",
          "02/2021",
          "03/2021",
          "04/2021",
          "05/2021",
          "06/2021",
          "07/2021",
          "08/2021",
          "09/2021",
          "10/2021",
          "11/2021",
          "12/2021",
          "01/2022",
          "02/2022",
          "03/2022",
          "04/2022",
          "05/2022",
          "06/2022",
          "07/2022",
          "08/2022",
          "09/2022",
          "10/2022",
          "11/2022",
          "12/2022",
          "01/2023"
         ],
         "xaxis": "x",
         "y": [
          169,
          465,
          618,
          670,
          824,
          1883,
          3058,
          6042,
          9873,
          12774,
          17903,
          22482,
          29033,
          30292,
          30535,
          30623,
          34295,
          36171,
          37149,
          37655,
          39437,
          52470,
          67714,
          71272,
          79539,
          91741,
          94742,
          103132,
          112828,
          114050,
          114692,
          115349,
          115839,
          116384,
          116763
         ],
         "yaxis": "y"
        },
        {
         "hovertemplate": "variable=Total Recovered<br>Date=%{x}<br>value=%{y}<extra></extra>",
         "legendgroup": "Total Recovered",
         "line": {
          "color": "#EF553B",
          "dash": "solid"
         },
         "marker": {
          "symbol": "circle"
         },
         "mode": "lines",
         "name": "Total Recovered",
         "orientation": "v",
         "showlegend": true,
         "type": "scatter",
         "x": [
          "03/2020",
          "04/2020",
          "05/2020",
          "06/2020",
          "07/2020",
          "08/2020",
          "09/2020",
          "10/2020",
          "11/2020",
          "12/2020",
          "01/2021",
          "02/2021",
          "03/2021",
          "04/2021",
          "05/2021",
          "06/2021",
          "07/2021",
          "08/2021",
          "09/2021",
          "10/2021",
          "11/2021",
          "12/2021",
          "01/2022",
          "02/2022",
          "03/2022",
          "04/2022",
          "05/2022",
          "06/2022",
          "07/2022",
          "08/2022",
          "09/2022",
          "10/2022",
          "11/2022",
          "12/2022",
          "01/2023"
         ],
         "xaxis": "x",
         "y": [
          2,
          351,
          534,
          640,
          665,
          1400,
          2562,
          4155,
          7665,
          11121,
          14960,
          19447,
          27805,
          29548,
          30050,
          30158,
          31629,
          34678,
          35968,
          36583,
          37385,
          40156,
          63796,
          69579,
          72865,
          87119,
          92215,
          95764,
          109863,
          112726,
          113215,
          113809,
          114444,
          114889,
          115118
         ],
         "yaxis": "y"
        },
        {
         "hovertemplate": "variable=Total Deaths<br>Date=%{x}<br>value=%{y}<extra></extra>",
         "legendgroup": "Total Deaths",
         "line": {
          "color": "#00cc96",
          "dash": "solid"
         },
         "marker": {
          "symbol": "circle"
         },
         "mode": "lines",
         "name": "Total Deaths",
         "orientation": "v",
         "showlegend": true,
         "type": "scatter",
         "x": [
          "03/2020",
          "04/2020",
          "05/2020",
          "06/2020",
          "07/2020",
          "08/2020",
          "09/2020",
          "10/2020",
          "11/2020",
          "12/2020",
          "01/2021",
          "02/2021",
          "03/2021",
          "04/2021",
          "05/2021",
          "06/2021",
          "07/2021",
          "08/2021",
          "09/2021",
          "10/2021",
          "11/2021",
          "12/2021",
          "01/2022",
          "02/2022",
          "03/2022",
          "04/2022",
          "05/2022",
          "06/2022",
          "07/2022",
          "08/2022",
          "09/2022",
          "10/2022",
          "11/2022",
          "12/2022",
          "01/2023"
         ],
         "xaxis": "x",
         "y": [
          0,
          4,
          9,
          9,
          9,
          12,
          34,
          62,
          137,
          219,
          267,
          315,
          392,
          413,
          419,
          420,
          423,
          441,
          457,
          461,
          468,
          477,
          550,
          605,
          638,
          698,
          721,
          741,
          794,
          801,
          806,
          808,
          809,
          815,
          822
         ],
         "yaxis": "y"
        }
       ],
       "layout": {
        "legend": {
         "title": {
          "text": "Legend"
         },
         "tracegroupgap": 0
        },
        "template": {
         "data": {
          "bar": [
           {
            "error_x": {
             "color": "#2a3f5f"
            },
            "error_y": {
             "color": "#2a3f5f"
            },
            "marker": {
             "line": {
              "color": "#E5ECF6",
              "width": 0.5
             },
             "pattern": {
              "fillmode": "overlay",
              "size": 10,
              "solidity": 0.2
             }
            },
            "type": "bar"
           }
          ],
          "barpolar": [
           {
            "marker": {
             "line": {
              "color": "#E5ECF6",
              "width": 0.5
             },
             "pattern": {
              "fillmode": "overlay",
              "size": 10,
              "solidity": 0.2
             }
            },
            "type": "barpolar"
           }
          ],
          "carpet": [
           {
            "aaxis": {
             "endlinecolor": "#2a3f5f",
             "gridcolor": "white",
             "linecolor": "white",
             "minorgridcolor": "white",
             "startlinecolor": "#2a3f5f"
            },
            "baxis": {
             "endlinecolor": "#2a3f5f",
             "gridcolor": "white",
             "linecolor": "white",
             "minorgridcolor": "white",
             "startlinecolor": "#2a3f5f"
            },
            "type": "carpet"
           }
          ],
          "choropleth": [
           {
            "colorbar": {
             "outlinewidth": 0,
             "ticks": ""
            },
            "type": "choropleth"
           }
          ],
          "contour": [
           {
            "colorbar": {
             "outlinewidth": 0,
             "ticks": ""
            },
            "colorscale": [
             [
              0,
              "#0d0887"
             ],
             [
              0.1111111111111111,
              "#46039f"
             ],
             [
              0.2222222222222222,
              "#7201a8"
             ],
             [
              0.3333333333333333,
              "#9c179e"
             ],
             [
              0.4444444444444444,
              "#bd3786"
             ],
             [
              0.5555555555555556,
              "#d8576b"
             ],
             [
              0.6666666666666666,
              "#ed7953"
             ],
             [
              0.7777777777777778,
              "#fb9f3a"
             ],
             [
              0.8888888888888888,
              "#fdca26"
             ],
             [
              1,
              "#f0f921"
             ]
            ],
            "type": "contour"
           }
          ],
          "contourcarpet": [
           {
            "colorbar": {
             "outlinewidth": 0,
             "ticks": ""
            },
            "type": "contourcarpet"
           }
          ],
          "heatmap": [
           {
            "colorbar": {
             "outlinewidth": 0,
             "ticks": ""
            },
            "colorscale": [
             [
              0,
              "#0d0887"
             ],
             [
              0.1111111111111111,
              "#46039f"
             ],
             [
              0.2222222222222222,
              "#7201a8"
             ],
             [
              0.3333333333333333,
              "#9c179e"
             ],
             [
              0.4444444444444444,
              "#bd3786"
             ],
             [
              0.5555555555555556,
              "#d8576b"
             ],
             [
              0.6666666666666666,
              "#ed7953"
             ],
             [
              0.7777777777777778,
              "#fb9f3a"
             ],
             [
              0.8888888888888888,
              "#fdca26"
             ],
             [
              1,
              "#f0f921"
             ]
            ],
            "type": "heatmap"
           }
          ],
          "heatmapgl": [
           {
            "colorbar": {
             "outlinewidth": 0,
             "ticks": ""
            },
            "colorscale": [
             [
              0,
              "#0d0887"
             ],
             [
              0.1111111111111111,
              "#46039f"
             ],
             [
              0.2222222222222222,
              "#7201a8"
             ],
             [
              0.3333333333333333,
              "#9c179e"
             ],
             [
              0.4444444444444444,
              "#bd3786"
             ],
             [
              0.5555555555555556,
              "#d8576b"
             ],
             [
              0.6666666666666666,
              "#ed7953"
             ],
             [
              0.7777777777777778,
              "#fb9f3a"
             ],
             [
              0.8888888888888888,
              "#fdca26"
             ],
             [
              1,
              "#f0f921"
             ]
            ],
            "type": "heatmapgl"
           }
          ],
          "histogram": [
           {
            "marker": {
             "pattern": {
              "fillmode": "overlay",
              "size": 10,
              "solidity": 0.2
             }
            },
            "type": "histogram"
           }
          ],
          "histogram2d": [
           {
            "colorbar": {
             "outlinewidth": 0,
             "ticks": ""
            },
            "colorscale": [
             [
              0,
              "#0d0887"
             ],
             [
              0.1111111111111111,
              "#46039f"
             ],
             [
              0.2222222222222222,
              "#7201a8"
             ],
             [
              0.3333333333333333,
              "#9c179e"
             ],
             [
              0.4444444444444444,
              "#bd3786"
             ],
             [
              0.5555555555555556,
              "#d8576b"
             ],
             [
              0.6666666666666666,
              "#ed7953"
             ],
             [
              0.7777777777777778,
              "#fb9f3a"
             ],
             [
              0.8888888888888888,
              "#fdca26"
             ],
             [
              1,
              "#f0f921"
             ]
            ],
            "type": "histogram2d"
           }
          ],
          "histogram2dcontour": [
           {
            "colorbar": {
             "outlinewidth": 0,
             "ticks": ""
            },
            "colorscale": [
             [
              0,
              "#0d0887"
             ],
             [
              0.1111111111111111,
              "#46039f"
             ],
             [
              0.2222222222222222,
              "#7201a8"
             ],
             [
              0.3333333333333333,
              "#9c179e"
             ],
             [
              0.4444444444444444,
              "#bd3786"
             ],
             [
              0.5555555555555556,
              "#d8576b"
             ],
             [
              0.6666666666666666,
              "#ed7953"
             ],
             [
              0.7777777777777778,
              "#fb9f3a"
             ],
             [
              0.8888888888888888,
              "#fdca26"
             ],
             [
              1,
              "#f0f921"
             ]
            ],
            "type": "histogram2dcontour"
           }
          ],
          "mesh3d": [
           {
            "colorbar": {
             "outlinewidth": 0,
             "ticks": ""
            },
            "type": "mesh3d"
           }
          ],
          "parcoords": [
           {
            "line": {
             "colorbar": {
              "outlinewidth": 0,
              "ticks": ""
             }
            },
            "type": "parcoords"
           }
          ],
          "pie": [
           {
            "automargin": true,
            "type": "pie"
           }
          ],
          "scatter": [
           {
            "fillpattern": {
             "fillmode": "overlay",
             "size": 10,
             "solidity": 0.2
            },
            "type": "scatter"
           }
          ],
          "scatter3d": [
           {
            "line": {
             "colorbar": {
              "outlinewidth": 0,
              "ticks": ""
             }
            },
            "marker": {
             "colorbar": {
              "outlinewidth": 0,
              "ticks": ""
             }
            },
            "type": "scatter3d"
           }
          ],
          "scattercarpet": [
           {
            "marker": {
             "colorbar": {
              "outlinewidth": 0,
              "ticks": ""
             }
            },
            "type": "scattercarpet"
           }
          ],
          "scattergeo": [
           {
            "marker": {
             "colorbar": {
              "outlinewidth": 0,
              "ticks": ""
             }
            },
            "type": "scattergeo"
           }
          ],
          "scattergl": [
           {
            "marker": {
             "colorbar": {
              "outlinewidth": 0,
              "ticks": ""
             }
            },
            "type": "scattergl"
           }
          ],
          "scattermapbox": [
           {
            "marker": {
             "colorbar": {
              "outlinewidth": 0,
              "ticks": ""
             }
            },
            "type": "scattermapbox"
           }
          ],
          "scatterpolar": [
           {
            "marker": {
             "colorbar": {
              "outlinewidth": 0,
              "ticks": ""
             }
            },
            "type": "scatterpolar"
           }
          ],
          "scatterpolargl": [
           {
            "marker": {
             "colorbar": {
              "outlinewidth": 0,
              "ticks": ""
             }
            },
            "type": "scatterpolargl"
           }
          ],
          "scatterternary": [
           {
            "marker": {
             "colorbar": {
              "outlinewidth": 0,
              "ticks": ""
             }
            },
            "type": "scatterternary"
           }
          ],
          "surface": [
           {
            "colorbar": {
             "outlinewidth": 0,
             "ticks": ""
            },
            "colorscale": [
             [
              0,
              "#0d0887"
             ],
             [
              0.1111111111111111,
              "#46039f"
             ],
             [
              0.2222222222222222,
              "#7201a8"
             ],
             [
              0.3333333333333333,
              "#9c179e"
             ],
             [
              0.4444444444444444,
              "#bd3786"
             ],
             [
              0.5555555555555556,
              "#d8576b"
             ],
             [
              0.6666666666666666,
              "#ed7953"
             ],
             [
              0.7777777777777778,
              "#fb9f3a"
             ],
             [
              0.8888888888888888,
              "#fdca26"
             ],
             [
              1,
              "#f0f921"
             ]
            ],
            "type": "surface"
           }
          ],
          "table": [
           {
            "cells": {
             "fill": {
              "color": "#EBF0F8"
             },
             "line": {
              "color": "white"
             }
            },
            "header": {
             "fill": {
              "color": "#C8D4E3"
             },
             "line": {
              "color": "white"
             }
            },
            "type": "table"
           }
          ]
         },
         "layout": {
          "annotationdefaults": {
           "arrowcolor": "#2a3f5f",
           "arrowhead": 0,
           "arrowwidth": 1
          },
          "autotypenumbers": "strict",
          "coloraxis": {
           "colorbar": {
            "outlinewidth": 0,
            "ticks": ""
           }
          },
          "colorscale": {
           "diverging": [
            [
             0,
             "#8e0152"
            ],
            [
             0.1,
             "#c51b7d"
            ],
            [
             0.2,
             "#de77ae"
            ],
            [
             0.3,
             "#f1b6da"
            ],
            [
             0.4,
             "#fde0ef"
            ],
            [
             0.5,
             "#f7f7f7"
            ],
            [
             0.6,
             "#e6f5d0"
            ],
            [
             0.7,
             "#b8e186"
            ],
            [
             0.8,
             "#7fbc41"
            ],
            [
             0.9,
             "#4d9221"
            ],
            [
             1,
             "#276419"
            ]
           ],
           "sequential": [
            [
             0,
             "#0d0887"
            ],
            [
             0.1111111111111111,
             "#46039f"
            ],
            [
             0.2222222222222222,
             "#7201a8"
            ],
            [
             0.3333333333333333,
             "#9c179e"
            ],
            [
             0.4444444444444444,
             "#bd3786"
            ],
            [
             0.5555555555555556,
             "#d8576b"
            ],
            [
             0.6666666666666666,
             "#ed7953"
            ],
            [
             0.7777777777777778,
             "#fb9f3a"
            ],
            [
             0.8888888888888888,
             "#fdca26"
            ],
            [
             1,
             "#f0f921"
            ]
           ],
           "sequentialminus": [
            [
             0,
             "#0d0887"
            ],
            [
             0.1111111111111111,
             "#46039f"
            ],
            [
             0.2222222222222222,
             "#7201a8"
            ],
            [
             0.3333333333333333,
             "#9c179e"
            ],
            [
             0.4444444444444444,
             "#bd3786"
            ],
            [
             0.5555555555555556,
             "#d8576b"
            ],
            [
             0.6666666666666666,
             "#ed7953"
            ],
            [
             0.7777777777777778,
             "#fb9f3a"
            ],
            [
             0.8888888888888888,
             "#fdca26"
            ],
            [
             1,
             "#f0f921"
            ]
           ]
          },
          "colorway": [
           "#636efa",
           "#EF553B",
           "#00cc96",
           "#ab63fa",
           "#FFA15A",
           "#19d3f3",
           "#FF6692",
           "#B6E880",
           "#FF97FF",
           "#FECB52"
          ],
          "font": {
           "color": "#2a3f5f"
          },
          "geo": {
           "bgcolor": "white",
           "lakecolor": "white",
           "landcolor": "#E5ECF6",
           "showlakes": true,
           "showland": true,
           "subunitcolor": "white"
          },
          "hoverlabel": {
           "align": "left"
          },
          "hovermode": "closest",
          "mapbox": {
           "style": "light"
          },
          "paper_bgcolor": "white",
          "plot_bgcolor": "#E5ECF6",
          "polar": {
           "angularaxis": {
            "gridcolor": "white",
            "linecolor": "white",
            "ticks": ""
           },
           "bgcolor": "#E5ECF6",
           "radialaxis": {
            "gridcolor": "white",
            "linecolor": "white",
            "ticks": ""
           }
          },
          "scene": {
           "xaxis": {
            "backgroundcolor": "#E5ECF6",
            "gridcolor": "white",
            "gridwidth": 2,
            "linecolor": "white",
            "showbackground": true,
            "ticks": "",
            "zerolinecolor": "white"
           },
           "yaxis": {
            "backgroundcolor": "#E5ECF6",
            "gridcolor": "white",
            "gridwidth": 2,
            "linecolor": "white",
            "showbackground": true,
            "ticks": "",
            "zerolinecolor": "white"
           },
           "zaxis": {
            "backgroundcolor": "#E5ECF6",
            "gridcolor": "white",
            "gridwidth": 2,
            "linecolor": "white",
            "showbackground": true,
            "ticks": "",
            "zerolinecolor": "white"
           }
          },
          "shapedefaults": {
           "line": {
            "color": "#2a3f5f"
           }
          },
          "ternary": {
           "aaxis": {
            "gridcolor": "white",
            "linecolor": "white",
            "ticks": ""
           },
           "baxis": {
            "gridcolor": "white",
            "linecolor": "white",
            "ticks": ""
           },
           "bgcolor": "#E5ECF6",
           "caxis": {
            "gridcolor": "white",
            "linecolor": "white",
            "ticks": ""
           }
          },
          "title": {
           "x": 0.05
          },
          "xaxis": {
           "automargin": true,
           "gridcolor": "white",
           "linecolor": "white",
           "ticks": "",
           "title": {
            "standoff": 15
           },
           "zerolinecolor": "white",
           "zerolinewidth": 2
          },
          "yaxis": {
           "automargin": true,
           "gridcolor": "white",
           "linecolor": "white",
           "ticks": "",
           "title": {
            "standoff": 15
           },
           "zerolinecolor": "white",
           "zerolinewidth": 2
          }
         }
        },
        "title": {
         "text": "Total Cases, Recovered & Deaths"
        },
        "xaxis": {
         "anchor": "y",
         "domain": [
          0,
          1
         ],
         "title": {
          "text": "Date"
         }
        },
        "yaxis": {
         "anchor": "x",
         "domain": [
          0,
          1
         ],
         "title": {
          "text": "Cases"
         }
        }
       }
      },
      "text/html": [
       "<div>                            <div id=\"1bc6a955-f7ca-4971-a93b-f6438e7f9a51\" class=\"plotly-graph-div\" style=\"height:525px; width:100%;\"></div>            <script type=\"text/javascript\">                require([\"plotly\"], function(Plotly) {                    window.PLOTLYENV=window.PLOTLYENV || {};                                    if (document.getElementById(\"1bc6a955-f7ca-4971-a93b-f6438e7f9a51\")) {                    Plotly.newPlot(                        \"1bc6a955-f7ca-4971-a93b-f6438e7f9a51\",                        [{\"hovertemplate\":\"variable=Total Cases<br>Date=%{x}<br>value=%{y}<extra></extra>\",\"legendgroup\":\"Total Cases\",\"line\":{\"color\":\"#636efa\",\"dash\":\"solid\"},\"marker\":{\"symbol\":\"circle\"},\"mode\":\"lines\",\"name\":\"Total Cases\",\"orientation\":\"v\",\"showlegend\":true,\"x\":[\"03/2020\",\"04/2020\",\"05/2020\",\"06/2020\",\"07/2020\",\"08/2020\",\"09/2020\",\"10/2020\",\"11/2020\",\"12/2020\",\"01/2021\",\"02/2021\",\"03/2021\",\"04/2021\",\"05/2021\",\"06/2021\",\"07/2021\",\"08/2021\",\"09/2021\",\"10/2021\",\"11/2021\",\"12/2021\",\"01/2022\",\"02/2022\",\"03/2022\",\"04/2022\",\"05/2022\",\"06/2022\",\"07/2022\",\"08/2022\",\"09/2022\",\"10/2022\",\"11/2022\",\"12/2022\",\"01/2023\"],\"xaxis\":\"x\",\"y\":[169,465,618,670,824,1883,3058,6042,9873,12774,17903,22482,29033,30292,30535,30623,34295,36171,37149,37655,39437,52470,67714,71272,79539,91741,94742,103132,112828,114050,114692,115349,115839,116384,116763],\"yaxis\":\"y\",\"type\":\"scatter\"},{\"hovertemplate\":\"variable=Total Recovered<br>Date=%{x}<br>value=%{y}<extra></extra>\",\"legendgroup\":\"Total Recovered\",\"line\":{\"color\":\"#EF553B\",\"dash\":\"solid\"},\"marker\":{\"symbol\":\"circle\"},\"mode\":\"lines\",\"name\":\"Total Recovered\",\"orientation\":\"v\",\"showlegend\":true,\"x\":[\"03/2020\",\"04/2020\",\"05/2020\",\"06/2020\",\"07/2020\",\"08/2020\",\"09/2020\",\"10/2020\",\"11/2020\",\"12/2020\",\"01/2021\",\"02/2021\",\"03/2021\",\"04/2021\",\"05/2021\",\"06/2021\",\"07/2021\",\"08/2021\",\"09/2021\",\"10/2021\",\"11/2021\",\"12/2021\",\"01/2022\",\"02/2022\",\"03/2022\",\"04/2022\",\"05/2022\",\"06/2022\",\"07/2022\",\"08/2022\",\"09/2022\",\"10/2022\",\"11/2022\",\"12/2022\",\"01/2023\"],\"xaxis\":\"x\",\"y\":[2,351,534,640,665,1400,2562,4155,7665,11121,14960,19447,27805,29548,30050,30158,31629,34678,35968,36583,37385,40156,63796,69579,72865,87119,92215,95764,109863,112726,113215,113809,114444,114889,115118],\"yaxis\":\"y\",\"type\":\"scatter\"},{\"hovertemplate\":\"variable=Total Deaths<br>Date=%{x}<br>value=%{y}<extra></extra>\",\"legendgroup\":\"Total Deaths\",\"line\":{\"color\":\"#00cc96\",\"dash\":\"solid\"},\"marker\":{\"symbol\":\"circle\"},\"mode\":\"lines\",\"name\":\"Total Deaths\",\"orientation\":\"v\",\"showlegend\":true,\"x\":[\"03/2020\",\"04/2020\",\"05/2020\",\"06/2020\",\"07/2020\",\"08/2020\",\"09/2020\",\"10/2020\",\"11/2020\",\"12/2020\",\"01/2021\",\"02/2021\",\"03/2021\",\"04/2021\",\"05/2021\",\"06/2021\",\"07/2021\",\"08/2021\",\"09/2021\",\"10/2021\",\"11/2021\",\"12/2021\",\"01/2022\",\"02/2022\",\"03/2022\",\"04/2022\",\"05/2022\",\"06/2022\",\"07/2022\",\"08/2022\",\"09/2022\",\"10/2022\",\"11/2022\",\"12/2022\",\"01/2023\"],\"xaxis\":\"x\",\"y\":[0,4,9,9,9,12,34,62,137,219,267,315,392,413,419,420,423,441,457,461,468,477,550,605,638,698,721,741,794,801,806,808,809,815,822],\"yaxis\":\"y\",\"type\":\"scatter\"}],                        {\"template\":{\"data\":{\"histogram2dcontour\":[{\"type\":\"histogram2dcontour\",\"colorbar\":{\"outlinewidth\":0,\"ticks\":\"\"},\"colorscale\":[[0.0,\"#0d0887\"],[0.1111111111111111,\"#46039f\"],[0.2222222222222222,\"#7201a8\"],[0.3333333333333333,\"#9c179e\"],[0.4444444444444444,\"#bd3786\"],[0.5555555555555556,\"#d8576b\"],[0.6666666666666666,\"#ed7953\"],[0.7777777777777778,\"#fb9f3a\"],[0.8888888888888888,\"#fdca26\"],[1.0,\"#f0f921\"]]}],\"choropleth\":[{\"type\":\"choropleth\",\"colorbar\":{\"outlinewidth\":0,\"ticks\":\"\"}}],\"histogram2d\":[{\"type\":\"histogram2d\",\"colorbar\":{\"outlinewidth\":0,\"ticks\":\"\"},\"colorscale\":[[0.0,\"#0d0887\"],[0.1111111111111111,\"#46039f\"],[0.2222222222222222,\"#7201a8\"],[0.3333333333333333,\"#9c179e\"],[0.4444444444444444,\"#bd3786\"],[0.5555555555555556,\"#d8576b\"],[0.6666666666666666,\"#ed7953\"],[0.7777777777777778,\"#fb9f3a\"],[0.8888888888888888,\"#fdca26\"],[1.0,\"#f0f921\"]]}],\"heatmap\":[{\"type\":\"heatmap\",\"colorbar\":{\"outlinewidth\":0,\"ticks\":\"\"},\"colorscale\":[[0.0,\"#0d0887\"],[0.1111111111111111,\"#46039f\"],[0.2222222222222222,\"#7201a8\"],[0.3333333333333333,\"#9c179e\"],[0.4444444444444444,\"#bd3786\"],[0.5555555555555556,\"#d8576b\"],[0.6666666666666666,\"#ed7953\"],[0.7777777777777778,\"#fb9f3a\"],[0.8888888888888888,\"#fdca26\"],[1.0,\"#f0f921\"]]}],\"heatmapgl\":[{\"type\":\"heatmapgl\",\"colorbar\":{\"outlinewidth\":0,\"ticks\":\"\"},\"colorscale\":[[0.0,\"#0d0887\"],[0.1111111111111111,\"#46039f\"],[0.2222222222222222,\"#7201a8\"],[0.3333333333333333,\"#9c179e\"],[0.4444444444444444,\"#bd3786\"],[0.5555555555555556,\"#d8576b\"],[0.6666666666666666,\"#ed7953\"],[0.7777777777777778,\"#fb9f3a\"],[0.8888888888888888,\"#fdca26\"],[1.0,\"#f0f921\"]]}],\"contourcarpet\":[{\"type\":\"contourcarpet\",\"colorbar\":{\"outlinewidth\":0,\"ticks\":\"\"}}],\"contour\":[{\"type\":\"contour\",\"colorbar\":{\"outlinewidth\":0,\"ticks\":\"\"},\"colorscale\":[[0.0,\"#0d0887\"],[0.1111111111111111,\"#46039f\"],[0.2222222222222222,\"#7201a8\"],[0.3333333333333333,\"#9c179e\"],[0.4444444444444444,\"#bd3786\"],[0.5555555555555556,\"#d8576b\"],[0.6666666666666666,\"#ed7953\"],[0.7777777777777778,\"#fb9f3a\"],[0.8888888888888888,\"#fdca26\"],[1.0,\"#f0f921\"]]}],\"surface\":[{\"type\":\"surface\",\"colorbar\":{\"outlinewidth\":0,\"ticks\":\"\"},\"colorscale\":[[0.0,\"#0d0887\"],[0.1111111111111111,\"#46039f\"],[0.2222222222222222,\"#7201a8\"],[0.3333333333333333,\"#9c179e\"],[0.4444444444444444,\"#bd3786\"],[0.5555555555555556,\"#d8576b\"],[0.6666666666666666,\"#ed7953\"],[0.7777777777777778,\"#fb9f3a\"],[0.8888888888888888,\"#fdca26\"],[1.0,\"#f0f921\"]]}],\"mesh3d\":[{\"type\":\"mesh3d\",\"colorbar\":{\"outlinewidth\":0,\"ticks\":\"\"}}],\"scatter\":[{\"fillpattern\":{\"fillmode\":\"overlay\",\"size\":10,\"solidity\":0.2},\"type\":\"scatter\"}],\"parcoords\":[{\"type\":\"parcoords\",\"line\":{\"colorbar\":{\"outlinewidth\":0,\"ticks\":\"\"}}}],\"scatterpolargl\":[{\"type\":\"scatterpolargl\",\"marker\":{\"colorbar\":{\"outlinewidth\":0,\"ticks\":\"\"}}}],\"bar\":[{\"error_x\":{\"color\":\"#2a3f5f\"},\"error_y\":{\"color\":\"#2a3f5f\"},\"marker\":{\"line\":{\"color\":\"#E5ECF6\",\"width\":0.5},\"pattern\":{\"fillmode\":\"overlay\",\"size\":10,\"solidity\":0.2}},\"type\":\"bar\"}],\"scattergeo\":[{\"type\":\"scattergeo\",\"marker\":{\"colorbar\":{\"outlinewidth\":0,\"ticks\":\"\"}}}],\"scatterpolar\":[{\"type\":\"scatterpolar\",\"marker\":{\"colorbar\":{\"outlinewidth\":0,\"ticks\":\"\"}}}],\"histogram\":[{\"marker\":{\"pattern\":{\"fillmode\":\"overlay\",\"size\":10,\"solidity\":0.2}},\"type\":\"histogram\"}],\"scattergl\":[{\"type\":\"scattergl\",\"marker\":{\"colorbar\":{\"outlinewidth\":0,\"ticks\":\"\"}}}],\"scatter3d\":[{\"type\":\"scatter3d\",\"line\":{\"colorbar\":{\"outlinewidth\":0,\"ticks\":\"\"}},\"marker\":{\"colorbar\":{\"outlinewidth\":0,\"ticks\":\"\"}}}],\"scattermapbox\":[{\"type\":\"scattermapbox\",\"marker\":{\"colorbar\":{\"outlinewidth\":0,\"ticks\":\"\"}}}],\"scatterternary\":[{\"type\":\"scatterternary\",\"marker\":{\"colorbar\":{\"outlinewidth\":0,\"ticks\":\"\"}}}],\"scattercarpet\":[{\"type\":\"scattercarpet\",\"marker\":{\"colorbar\":{\"outlinewidth\":0,\"ticks\":\"\"}}}],\"carpet\":[{\"aaxis\":{\"endlinecolor\":\"#2a3f5f\",\"gridcolor\":\"white\",\"linecolor\":\"white\",\"minorgridcolor\":\"white\",\"startlinecolor\":\"#2a3f5f\"},\"baxis\":{\"endlinecolor\":\"#2a3f5f\",\"gridcolor\":\"white\",\"linecolor\":\"white\",\"minorgridcolor\":\"white\",\"startlinecolor\":\"#2a3f5f\"},\"type\":\"carpet\"}],\"table\":[{\"cells\":{\"fill\":{\"color\":\"#EBF0F8\"},\"line\":{\"color\":\"white\"}},\"header\":{\"fill\":{\"color\":\"#C8D4E3\"},\"line\":{\"color\":\"white\"}},\"type\":\"table\"}],\"barpolar\":[{\"marker\":{\"line\":{\"color\":\"#E5ECF6\",\"width\":0.5},\"pattern\":{\"fillmode\":\"overlay\",\"size\":10,\"solidity\":0.2}},\"type\":\"barpolar\"}],\"pie\":[{\"automargin\":true,\"type\":\"pie\"}]},\"layout\":{\"autotypenumbers\":\"strict\",\"colorway\":[\"#636efa\",\"#EF553B\",\"#00cc96\",\"#ab63fa\",\"#FFA15A\",\"#19d3f3\",\"#FF6692\",\"#B6E880\",\"#FF97FF\",\"#FECB52\"],\"font\":{\"color\":\"#2a3f5f\"},\"hovermode\":\"closest\",\"hoverlabel\":{\"align\":\"left\"},\"paper_bgcolor\":\"white\",\"plot_bgcolor\":\"#E5ECF6\",\"polar\":{\"bgcolor\":\"#E5ECF6\",\"angularaxis\":{\"gridcolor\":\"white\",\"linecolor\":\"white\",\"ticks\":\"\"},\"radialaxis\":{\"gridcolor\":\"white\",\"linecolor\":\"white\",\"ticks\":\"\"}},\"ternary\":{\"bgcolor\":\"#E5ECF6\",\"aaxis\":{\"gridcolor\":\"white\",\"linecolor\":\"white\",\"ticks\":\"\"},\"baxis\":{\"gridcolor\":\"white\",\"linecolor\":\"white\",\"ticks\":\"\"},\"caxis\":{\"gridcolor\":\"white\",\"linecolor\":\"white\",\"ticks\":\"\"}},\"coloraxis\":{\"colorbar\":{\"outlinewidth\":0,\"ticks\":\"\"}},\"colorscale\":{\"sequential\":[[0.0,\"#0d0887\"],[0.1111111111111111,\"#46039f\"],[0.2222222222222222,\"#7201a8\"],[0.3333333333333333,\"#9c179e\"],[0.4444444444444444,\"#bd3786\"],[0.5555555555555556,\"#d8576b\"],[0.6666666666666666,\"#ed7953\"],[0.7777777777777778,\"#fb9f3a\"],[0.8888888888888888,\"#fdca26\"],[1.0,\"#f0f921\"]],\"sequentialminus\":[[0.0,\"#0d0887\"],[0.1111111111111111,\"#46039f\"],[0.2222222222222222,\"#7201a8\"],[0.3333333333333333,\"#9c179e\"],[0.4444444444444444,\"#bd3786\"],[0.5555555555555556,\"#d8576b\"],[0.6666666666666666,\"#ed7953\"],[0.7777777777777778,\"#fb9f3a\"],[0.8888888888888888,\"#fdca26\"],[1.0,\"#f0f921\"]],\"diverging\":[[0,\"#8e0152\"],[0.1,\"#c51b7d\"],[0.2,\"#de77ae\"],[0.3,\"#f1b6da\"],[0.4,\"#fde0ef\"],[0.5,\"#f7f7f7\"],[0.6,\"#e6f5d0\"],[0.7,\"#b8e186\"],[0.8,\"#7fbc41\"],[0.9,\"#4d9221\"],[1,\"#276419\"]]},\"xaxis\":{\"gridcolor\":\"white\",\"linecolor\":\"white\",\"ticks\":\"\",\"title\":{\"standoff\":15},\"zerolinecolor\":\"white\",\"automargin\":true,\"zerolinewidth\":2},\"yaxis\":{\"gridcolor\":\"white\",\"linecolor\":\"white\",\"ticks\":\"\",\"title\":{\"standoff\":15},\"zerolinecolor\":\"white\",\"automargin\":true,\"zerolinewidth\":2},\"scene\":{\"xaxis\":{\"backgroundcolor\":\"#E5ECF6\",\"gridcolor\":\"white\",\"linecolor\":\"white\",\"showbackground\":true,\"ticks\":\"\",\"zerolinecolor\":\"white\",\"gridwidth\":2},\"yaxis\":{\"backgroundcolor\":\"#E5ECF6\",\"gridcolor\":\"white\",\"linecolor\":\"white\",\"showbackground\":true,\"ticks\":\"\",\"zerolinecolor\":\"white\",\"gridwidth\":2},\"zaxis\":{\"backgroundcolor\":\"#E5ECF6\",\"gridcolor\":\"white\",\"linecolor\":\"white\",\"showbackground\":true,\"ticks\":\"\",\"zerolinecolor\":\"white\",\"gridwidth\":2}},\"shapedefaults\":{\"line\":{\"color\":\"#2a3f5f\"}},\"annotationdefaults\":{\"arrowcolor\":\"#2a3f5f\",\"arrowhead\":0,\"arrowwidth\":1},\"geo\":{\"bgcolor\":\"white\",\"landcolor\":\"#E5ECF6\",\"subunitcolor\":\"white\",\"showland\":true,\"showlakes\":true,\"lakecolor\":\"white\"},\"title\":{\"x\":0.05},\"mapbox\":{\"style\":\"light\"}}},\"xaxis\":{\"anchor\":\"y\",\"domain\":[0.0,1.0],\"title\":{\"text\":\"Date\"}},\"yaxis\":{\"anchor\":\"x\",\"domain\":[0.0,1.0],\"title\":{\"text\":\"Cases\"}},\"legend\":{\"title\":{\"text\":\"Legend\"},\"tracegroupgap\":0},\"title\":{\"text\":\"Total Cases, Recovered & Deaths\"}},                        {\"responsive\": true}                    ).then(function(){\n",
       "                            \n",
       "var gd = document.getElementById('1bc6a955-f7ca-4971-a93b-f6438e7f9a51');\n",
       "var x = new MutationObserver(function (mutations, observer) {{\n",
       "        var display = window.getComputedStyle(gd).display;\n",
       "        if (!display || display === 'none') {{\n",
       "            console.log([gd, 'removed!']);\n",
       "            Plotly.purge(gd);\n",
       "            observer.disconnect();\n",
       "        }}\n",
       "}});\n",
       "\n",
       "// Listen for the removal of the full notebook cells\n",
       "var notebookContainer = gd.closest('#notebook-container');\n",
       "if (notebookContainer) {{\n",
       "    x.observe(notebookContainer, {childList: true});\n",
       "}}\n",
       "\n",
       "// Listen for the clearing of the current output cell\n",
       "var outputEl = gd.closest('.output');\n",
       "if (outputEl) {{\n",
       "    x.observe(outputEl, {childList: true});\n",
       "}}\n",
       "\n",
       "                        })                };                });            </script>        </div>"
      ]
     },
     "metadata": {},
     "output_type": "display_data"
    }
   ],
   "source": [
    "fig = px.line(\n",
    "    data_df, \n",
    "    x='Date', \n",
    "    y=['Total Cases', 'Total Recovered', 'Total Deaths'], \n",
    "    title='Total Cases, Recovered & Deaths'\n",
    ")\n",
    "fig.update_layout(\n",
    "    legend_title='Legend',\n",
    "    yaxis_title='Cases'\n",
    ")\n",
    "fig.show()"
   ]
  },
  {
   "attachments": {},
   "cell_type": "markdown",
   "metadata": {},
   "source": [
    "### New Cases & Active Cases"
   ]
  },
  {
   "cell_type": "code",
   "execution_count": 181,
   "metadata": {},
   "outputs": [
    {
     "data": {
      "application/vnd.plotly.v1+json": {
       "config": {
        "plotlyServerURL": "https://plot.ly"
       },
       "data": [
        {
         "name": "Active Cases",
         "type": "bar",
         "x": [
          "03/2020",
          "04/2020",
          "05/2020",
          "06/2020",
          "07/2020",
          "08/2020",
          "09/2020",
          "10/2020",
          "11/2020",
          "12/2020",
          "01/2021",
          "02/2021",
          "03/2021",
          "04/2021",
          "05/2021",
          "06/2021",
          "07/2021",
          "08/2021",
          "09/2021",
          "10/2021",
          "11/2021",
          "12/2021",
          "01/2022",
          "02/2022",
          "03/2022",
          "04/2022",
          "05/2022",
          "06/2022",
          "07/2022",
          "08/2022",
          "09/2022",
          "10/2022",
          "11/2022",
          "12/2022",
          "01/2023"
         ],
         "y": [
          167,
          110,
          75,
          21,
          150,
          471,
          462,
          1825,
          2071,
          1434,
          2676,
          2720,
          836,
          331,
          66,
          45,
          1847,
          656,
          328,
          215,
          1188,
          11441,
          2972,
          692,
          5640,
          3528,
          1410,
          6231,
          1775,
          127,
          275,
          336,
          190,
          284,
          427
         ]
        },
        {
         "name": "New Cases",
         "type": "bar",
         "x": [
          "03/2020",
          "04/2020",
          "05/2020",
          "06/2020",
          "07/2020",
          "08/2020",
          "09/2020",
          "10/2020",
          "11/2020",
          "12/2020",
          "01/2021",
          "02/2021",
          "03/2021",
          "04/2021",
          "05/2021",
          "06/2021",
          "07/2021",
          "08/2021",
          "09/2021",
          "10/2021",
          "11/2021",
          "12/2021",
          "01/2022",
          "02/2022",
          "03/2022",
          "04/2022",
          "05/2022",
          "06/2022",
          "07/2022",
          "08/2022",
          "09/2022",
          "10/2022",
          "11/2022",
          "12/2022",
          "01/2023"
         ],
         "y": [
          169,
          296,
          153,
          52,
          154,
          1164,
          1175,
          2984,
          3831,
          2901,
          5129,
          4579,
          6551,
          1259,
          243,
          88,
          3672,
          1876,
          978,
          506,
          1782,
          13033,
          15244,
          3558,
          8267,
          12202,
          3001,
          8390,
          9696,
          1222,
          642,
          657,
          490,
          545,
          379
         ]
        }
       ],
       "layout": {
        "barmode": "group",
        "template": {
         "data": {
          "bar": [
           {
            "error_x": {
             "color": "#2a3f5f"
            },
            "error_y": {
             "color": "#2a3f5f"
            },
            "marker": {
             "line": {
              "color": "#E5ECF6",
              "width": 0.5
             },
             "pattern": {
              "fillmode": "overlay",
              "size": 10,
              "solidity": 0.2
             }
            },
            "type": "bar"
           }
          ],
          "barpolar": [
           {
            "marker": {
             "line": {
              "color": "#E5ECF6",
              "width": 0.5
             },
             "pattern": {
              "fillmode": "overlay",
              "size": 10,
              "solidity": 0.2
             }
            },
            "type": "barpolar"
           }
          ],
          "carpet": [
           {
            "aaxis": {
             "endlinecolor": "#2a3f5f",
             "gridcolor": "white",
             "linecolor": "white",
             "minorgridcolor": "white",
             "startlinecolor": "#2a3f5f"
            },
            "baxis": {
             "endlinecolor": "#2a3f5f",
             "gridcolor": "white",
             "linecolor": "white",
             "minorgridcolor": "white",
             "startlinecolor": "#2a3f5f"
            },
            "type": "carpet"
           }
          ],
          "choropleth": [
           {
            "colorbar": {
             "outlinewidth": 0,
             "ticks": ""
            },
            "type": "choropleth"
           }
          ],
          "contour": [
           {
            "colorbar": {
             "outlinewidth": 0,
             "ticks": ""
            },
            "colorscale": [
             [
              0,
              "#0d0887"
             ],
             [
              0.1111111111111111,
              "#46039f"
             ],
             [
              0.2222222222222222,
              "#7201a8"
             ],
             [
              0.3333333333333333,
              "#9c179e"
             ],
             [
              0.4444444444444444,
              "#bd3786"
             ],
             [
              0.5555555555555556,
              "#d8576b"
             ],
             [
              0.6666666666666666,
              "#ed7953"
             ],
             [
              0.7777777777777778,
              "#fb9f3a"
             ],
             [
              0.8888888888888888,
              "#fdca26"
             ],
             [
              1,
              "#f0f921"
             ]
            ],
            "type": "contour"
           }
          ],
          "contourcarpet": [
           {
            "colorbar": {
             "outlinewidth": 0,
             "ticks": ""
            },
            "type": "contourcarpet"
           }
          ],
          "heatmap": [
           {
            "colorbar": {
             "outlinewidth": 0,
             "ticks": ""
            },
            "colorscale": [
             [
              0,
              "#0d0887"
             ],
             [
              0.1111111111111111,
              "#46039f"
             ],
             [
              0.2222222222222222,
              "#7201a8"
             ],
             [
              0.3333333333333333,
              "#9c179e"
             ],
             [
              0.4444444444444444,
              "#bd3786"
             ],
             [
              0.5555555555555556,
              "#d8576b"
             ],
             [
              0.6666666666666666,
              "#ed7953"
             ],
             [
              0.7777777777777778,
              "#fb9f3a"
             ],
             [
              0.8888888888888888,
              "#fdca26"
             ],
             [
              1,
              "#f0f921"
             ]
            ],
            "type": "heatmap"
           }
          ],
          "heatmapgl": [
           {
            "colorbar": {
             "outlinewidth": 0,
             "ticks": ""
            },
            "colorscale": [
             [
              0,
              "#0d0887"
             ],
             [
              0.1111111111111111,
              "#46039f"
             ],
             [
              0.2222222222222222,
              "#7201a8"
             ],
             [
              0.3333333333333333,
              "#9c179e"
             ],
             [
              0.4444444444444444,
              "#bd3786"
             ],
             [
              0.5555555555555556,
              "#d8576b"
             ],
             [
              0.6666666666666666,
              "#ed7953"
             ],
             [
              0.7777777777777778,
              "#fb9f3a"
             ],
             [
              0.8888888888888888,
              "#fdca26"
             ],
             [
              1,
              "#f0f921"
             ]
            ],
            "type": "heatmapgl"
           }
          ],
          "histogram": [
           {
            "marker": {
             "pattern": {
              "fillmode": "overlay",
              "size": 10,
              "solidity": 0.2
             }
            },
            "type": "histogram"
           }
          ],
          "histogram2d": [
           {
            "colorbar": {
             "outlinewidth": 0,
             "ticks": ""
            },
            "colorscale": [
             [
              0,
              "#0d0887"
             ],
             [
              0.1111111111111111,
              "#46039f"
             ],
             [
              0.2222222222222222,
              "#7201a8"
             ],
             [
              0.3333333333333333,
              "#9c179e"
             ],
             [
              0.4444444444444444,
              "#bd3786"
             ],
             [
              0.5555555555555556,
              "#d8576b"
             ],
             [
              0.6666666666666666,
              "#ed7953"
             ],
             [
              0.7777777777777778,
              "#fb9f3a"
             ],
             [
              0.8888888888888888,
              "#fdca26"
             ],
             [
              1,
              "#f0f921"
             ]
            ],
            "type": "histogram2d"
           }
          ],
          "histogram2dcontour": [
           {
            "colorbar": {
             "outlinewidth": 0,
             "ticks": ""
            },
            "colorscale": [
             [
              0,
              "#0d0887"
             ],
             [
              0.1111111111111111,
              "#46039f"
             ],
             [
              0.2222222222222222,
              "#7201a8"
             ],
             [
              0.3333333333333333,
              "#9c179e"
             ],
             [
              0.4444444444444444,
              "#bd3786"
             ],
             [
              0.5555555555555556,
              "#d8576b"
             ],
             [
              0.6666666666666666,
              "#ed7953"
             ],
             [
              0.7777777777777778,
              "#fb9f3a"
             ],
             [
              0.8888888888888888,
              "#fdca26"
             ],
             [
              1,
              "#f0f921"
             ]
            ],
            "type": "histogram2dcontour"
           }
          ],
          "mesh3d": [
           {
            "colorbar": {
             "outlinewidth": 0,
             "ticks": ""
            },
            "type": "mesh3d"
           }
          ],
          "parcoords": [
           {
            "line": {
             "colorbar": {
              "outlinewidth": 0,
              "ticks": ""
             }
            },
            "type": "parcoords"
           }
          ],
          "pie": [
           {
            "automargin": true,
            "type": "pie"
           }
          ],
          "scatter": [
           {
            "fillpattern": {
             "fillmode": "overlay",
             "size": 10,
             "solidity": 0.2
            },
            "type": "scatter"
           }
          ],
          "scatter3d": [
           {
            "line": {
             "colorbar": {
              "outlinewidth": 0,
              "ticks": ""
             }
            },
            "marker": {
             "colorbar": {
              "outlinewidth": 0,
              "ticks": ""
             }
            },
            "type": "scatter3d"
           }
          ],
          "scattercarpet": [
           {
            "marker": {
             "colorbar": {
              "outlinewidth": 0,
              "ticks": ""
             }
            },
            "type": "scattercarpet"
           }
          ],
          "scattergeo": [
           {
            "marker": {
             "colorbar": {
              "outlinewidth": 0,
              "ticks": ""
             }
            },
            "type": "scattergeo"
           }
          ],
          "scattergl": [
           {
            "marker": {
             "colorbar": {
              "outlinewidth": 0,
              "ticks": ""
             }
            },
            "type": "scattergl"
           }
          ],
          "scattermapbox": [
           {
            "marker": {
             "colorbar": {
              "outlinewidth": 0,
              "ticks": ""
             }
            },
            "type": "scattermapbox"
           }
          ],
          "scatterpolar": [
           {
            "marker": {
             "colorbar": {
              "outlinewidth": 0,
              "ticks": ""
             }
            },
            "type": "scatterpolar"
           }
          ],
          "scatterpolargl": [
           {
            "marker": {
             "colorbar": {
              "outlinewidth": 0,
              "ticks": ""
             }
            },
            "type": "scatterpolargl"
           }
          ],
          "scatterternary": [
           {
            "marker": {
             "colorbar": {
              "outlinewidth": 0,
              "ticks": ""
             }
            },
            "type": "scatterternary"
           }
          ],
          "surface": [
           {
            "colorbar": {
             "outlinewidth": 0,
             "ticks": ""
            },
            "colorscale": [
             [
              0,
              "#0d0887"
             ],
             [
              0.1111111111111111,
              "#46039f"
             ],
             [
              0.2222222222222222,
              "#7201a8"
             ],
             [
              0.3333333333333333,
              "#9c179e"
             ],
             [
              0.4444444444444444,
              "#bd3786"
             ],
             [
              0.5555555555555556,
              "#d8576b"
             ],
             [
              0.6666666666666666,
              "#ed7953"
             ],
             [
              0.7777777777777778,
              "#fb9f3a"
             ],
             [
              0.8888888888888888,
              "#fdca26"
             ],
             [
              1,
              "#f0f921"
             ]
            ],
            "type": "surface"
           }
          ],
          "table": [
           {
            "cells": {
             "fill": {
              "color": "#EBF0F8"
             },
             "line": {
              "color": "white"
             }
            },
            "header": {
             "fill": {
              "color": "#C8D4E3"
             },
             "line": {
              "color": "white"
             }
            },
            "type": "table"
           }
          ]
         },
         "layout": {
          "annotationdefaults": {
           "arrowcolor": "#2a3f5f",
           "arrowhead": 0,
           "arrowwidth": 1
          },
          "autotypenumbers": "strict",
          "coloraxis": {
           "colorbar": {
            "outlinewidth": 0,
            "ticks": ""
           }
          },
          "colorscale": {
           "diverging": [
            [
             0,
             "#8e0152"
            ],
            [
             0.1,
             "#c51b7d"
            ],
            [
             0.2,
             "#de77ae"
            ],
            [
             0.3,
             "#f1b6da"
            ],
            [
             0.4,
             "#fde0ef"
            ],
            [
             0.5,
             "#f7f7f7"
            ],
            [
             0.6,
             "#e6f5d0"
            ],
            [
             0.7,
             "#b8e186"
            ],
            [
             0.8,
             "#7fbc41"
            ],
            [
             0.9,
             "#4d9221"
            ],
            [
             1,
             "#276419"
            ]
           ],
           "sequential": [
            [
             0,
             "#0d0887"
            ],
            [
             0.1111111111111111,
             "#46039f"
            ],
            [
             0.2222222222222222,
             "#7201a8"
            ],
            [
             0.3333333333333333,
             "#9c179e"
            ],
            [
             0.4444444444444444,
             "#bd3786"
            ],
            [
             0.5555555555555556,
             "#d8576b"
            ],
            [
             0.6666666666666666,
             "#ed7953"
            ],
            [
             0.7777777777777778,
             "#fb9f3a"
            ],
            [
             0.8888888888888888,
             "#fdca26"
            ],
            [
             1,
             "#f0f921"
            ]
           ],
           "sequentialminus": [
            [
             0,
             "#0d0887"
            ],
            [
             0.1111111111111111,
             "#46039f"
            ],
            [
             0.2222222222222222,
             "#7201a8"
            ],
            [
             0.3333333333333333,
             "#9c179e"
            ],
            [
             0.4444444444444444,
             "#bd3786"
            ],
            [
             0.5555555555555556,
             "#d8576b"
            ],
            [
             0.6666666666666666,
             "#ed7953"
            ],
            [
             0.7777777777777778,
             "#fb9f3a"
            ],
            [
             0.8888888888888888,
             "#fdca26"
            ],
            [
             1,
             "#f0f921"
            ]
           ]
          },
          "colorway": [
           "#636efa",
           "#EF553B",
           "#00cc96",
           "#ab63fa",
           "#FFA15A",
           "#19d3f3",
           "#FF6692",
           "#B6E880",
           "#FF97FF",
           "#FECB52"
          ],
          "font": {
           "color": "#2a3f5f"
          },
          "geo": {
           "bgcolor": "white",
           "lakecolor": "white",
           "landcolor": "#E5ECF6",
           "showlakes": true,
           "showland": true,
           "subunitcolor": "white"
          },
          "hoverlabel": {
           "align": "left"
          },
          "hovermode": "closest",
          "mapbox": {
           "style": "light"
          },
          "paper_bgcolor": "white",
          "plot_bgcolor": "#E5ECF6",
          "polar": {
           "angularaxis": {
            "gridcolor": "white",
            "linecolor": "white",
            "ticks": ""
           },
           "bgcolor": "#E5ECF6",
           "radialaxis": {
            "gridcolor": "white",
            "linecolor": "white",
            "ticks": ""
           }
          },
          "scene": {
           "xaxis": {
            "backgroundcolor": "#E5ECF6",
            "gridcolor": "white",
            "gridwidth": 2,
            "linecolor": "white",
            "showbackground": true,
            "ticks": "",
            "zerolinecolor": "white"
           },
           "yaxis": {
            "backgroundcolor": "#E5ECF6",
            "gridcolor": "white",
            "gridwidth": 2,
            "linecolor": "white",
            "showbackground": true,
            "ticks": "",
            "zerolinecolor": "white"
           },
           "zaxis": {
            "backgroundcolor": "#E5ECF6",
            "gridcolor": "white",
            "gridwidth": 2,
            "linecolor": "white",
            "showbackground": true,
            "ticks": "",
            "zerolinecolor": "white"
           }
          },
          "shapedefaults": {
           "line": {
            "color": "#2a3f5f"
           }
          },
          "ternary": {
           "aaxis": {
            "gridcolor": "white",
            "linecolor": "white",
            "ticks": ""
           },
           "baxis": {
            "gridcolor": "white",
            "linecolor": "white",
            "ticks": ""
           },
           "bgcolor": "#E5ECF6",
           "caxis": {
            "gridcolor": "white",
            "linecolor": "white",
            "ticks": ""
           }
          },
          "title": {
           "x": 0.05
          },
          "xaxis": {
           "automargin": true,
           "gridcolor": "white",
           "linecolor": "white",
           "ticks": "",
           "title": {
            "standoff": 15
           },
           "zerolinecolor": "white",
           "zerolinewidth": 2
          },
          "yaxis": {
           "automargin": true,
           "gridcolor": "white",
           "linecolor": "white",
           "ticks": "",
           "title": {
            "standoff": 15
           },
           "zerolinecolor": "white",
           "zerolinewidth": 2
          }
         }
        },
        "title": {
         "text": "New Cases & Active Cases"
        },
        "yaxis": {
         "title": {
          "text": "Cases"
         }
        }
       }
      },
      "text/html": [
       "<div>                            <div id=\"6a3845f9-8bb7-4814-b34c-048e01702602\" class=\"plotly-graph-div\" style=\"height:525px; width:100%;\"></div>            <script type=\"text/javascript\">                require([\"plotly\"], function(Plotly) {                    window.PLOTLYENV=window.PLOTLYENV || {};                                    if (document.getElementById(\"6a3845f9-8bb7-4814-b34c-048e01702602\")) {                    Plotly.newPlot(                        \"6a3845f9-8bb7-4814-b34c-048e01702602\",                        [{\"name\":\"Active Cases\",\"x\":[\"03/2020\",\"04/2020\",\"05/2020\",\"06/2020\",\"07/2020\",\"08/2020\",\"09/2020\",\"10/2020\",\"11/2020\",\"12/2020\",\"01/2021\",\"02/2021\",\"03/2021\",\"04/2021\",\"05/2021\",\"06/2021\",\"07/2021\",\"08/2021\",\"09/2021\",\"10/2021\",\"11/2021\",\"12/2021\",\"01/2022\",\"02/2022\",\"03/2022\",\"04/2022\",\"05/2022\",\"06/2022\",\"07/2022\",\"08/2022\",\"09/2022\",\"10/2022\",\"11/2022\",\"12/2022\",\"01/2023\"],\"y\":[167,110,75,21,150,471,462,1825,2071,1434,2676,2720,836,331,66,45,1847,656,328,215,1188,11441,2972,692,5640,3528,1410,6231,1775,127,275,336,190,284,427],\"type\":\"bar\"},{\"name\":\"New Cases\",\"x\":[\"03/2020\",\"04/2020\",\"05/2020\",\"06/2020\",\"07/2020\",\"08/2020\",\"09/2020\",\"10/2020\",\"11/2020\",\"12/2020\",\"01/2021\",\"02/2021\",\"03/2021\",\"04/2021\",\"05/2021\",\"06/2021\",\"07/2021\",\"08/2021\",\"09/2021\",\"10/2021\",\"11/2021\",\"12/2021\",\"01/2022\",\"02/2022\",\"03/2022\",\"04/2022\",\"05/2022\",\"06/2022\",\"07/2022\",\"08/2022\",\"09/2022\",\"10/2022\",\"11/2022\",\"12/2022\",\"01/2023\"],\"y\":[169,296,153,52,154,1164,1175,2984,3831,2901,5129,4579,6551,1259,243,88,3672,1876,978,506,1782,13033,15244,3558,8267,12202,3001,8390,9696,1222,642,657,490,545,379],\"type\":\"bar\"}],                        {\"template\":{\"data\":{\"histogram2dcontour\":[{\"type\":\"histogram2dcontour\",\"colorbar\":{\"outlinewidth\":0,\"ticks\":\"\"},\"colorscale\":[[0.0,\"#0d0887\"],[0.1111111111111111,\"#46039f\"],[0.2222222222222222,\"#7201a8\"],[0.3333333333333333,\"#9c179e\"],[0.4444444444444444,\"#bd3786\"],[0.5555555555555556,\"#d8576b\"],[0.6666666666666666,\"#ed7953\"],[0.7777777777777778,\"#fb9f3a\"],[0.8888888888888888,\"#fdca26\"],[1.0,\"#f0f921\"]]}],\"choropleth\":[{\"type\":\"choropleth\",\"colorbar\":{\"outlinewidth\":0,\"ticks\":\"\"}}],\"histogram2d\":[{\"type\":\"histogram2d\",\"colorbar\":{\"outlinewidth\":0,\"ticks\":\"\"},\"colorscale\":[[0.0,\"#0d0887\"],[0.1111111111111111,\"#46039f\"],[0.2222222222222222,\"#7201a8\"],[0.3333333333333333,\"#9c179e\"],[0.4444444444444444,\"#bd3786\"],[0.5555555555555556,\"#d8576b\"],[0.6666666666666666,\"#ed7953\"],[0.7777777777777778,\"#fb9f3a\"],[0.8888888888888888,\"#fdca26\"],[1.0,\"#f0f921\"]]}],\"heatmap\":[{\"type\":\"heatmap\",\"colorbar\":{\"outlinewidth\":0,\"ticks\":\"\"},\"colorscale\":[[0.0,\"#0d0887\"],[0.1111111111111111,\"#46039f\"],[0.2222222222222222,\"#7201a8\"],[0.3333333333333333,\"#9c179e\"],[0.4444444444444444,\"#bd3786\"],[0.5555555555555556,\"#d8576b\"],[0.6666666666666666,\"#ed7953\"],[0.7777777777777778,\"#fb9f3a\"],[0.8888888888888888,\"#fdca26\"],[1.0,\"#f0f921\"]]}],\"heatmapgl\":[{\"type\":\"heatmapgl\",\"colorbar\":{\"outlinewidth\":0,\"ticks\":\"\"},\"colorscale\":[[0.0,\"#0d0887\"],[0.1111111111111111,\"#46039f\"],[0.2222222222222222,\"#7201a8\"],[0.3333333333333333,\"#9c179e\"],[0.4444444444444444,\"#bd3786\"],[0.5555555555555556,\"#d8576b\"],[0.6666666666666666,\"#ed7953\"],[0.7777777777777778,\"#fb9f3a\"],[0.8888888888888888,\"#fdca26\"],[1.0,\"#f0f921\"]]}],\"contourcarpet\":[{\"type\":\"contourcarpet\",\"colorbar\":{\"outlinewidth\":0,\"ticks\":\"\"}}],\"contour\":[{\"type\":\"contour\",\"colorbar\":{\"outlinewidth\":0,\"ticks\":\"\"},\"colorscale\":[[0.0,\"#0d0887\"],[0.1111111111111111,\"#46039f\"],[0.2222222222222222,\"#7201a8\"],[0.3333333333333333,\"#9c179e\"],[0.4444444444444444,\"#bd3786\"],[0.5555555555555556,\"#d8576b\"],[0.6666666666666666,\"#ed7953\"],[0.7777777777777778,\"#fb9f3a\"],[0.8888888888888888,\"#fdca26\"],[1.0,\"#f0f921\"]]}],\"surface\":[{\"type\":\"surface\",\"colorbar\":{\"outlinewidth\":0,\"ticks\":\"\"},\"colorscale\":[[0.0,\"#0d0887\"],[0.1111111111111111,\"#46039f\"],[0.2222222222222222,\"#7201a8\"],[0.3333333333333333,\"#9c179e\"],[0.4444444444444444,\"#bd3786\"],[0.5555555555555556,\"#d8576b\"],[0.6666666666666666,\"#ed7953\"],[0.7777777777777778,\"#fb9f3a\"],[0.8888888888888888,\"#fdca26\"],[1.0,\"#f0f921\"]]}],\"mesh3d\":[{\"type\":\"mesh3d\",\"colorbar\":{\"outlinewidth\":0,\"ticks\":\"\"}}],\"scatter\":[{\"fillpattern\":{\"fillmode\":\"overlay\",\"size\":10,\"solidity\":0.2},\"type\":\"scatter\"}],\"parcoords\":[{\"type\":\"parcoords\",\"line\":{\"colorbar\":{\"outlinewidth\":0,\"ticks\":\"\"}}}],\"scatterpolargl\":[{\"type\":\"scatterpolargl\",\"marker\":{\"colorbar\":{\"outlinewidth\":0,\"ticks\":\"\"}}}],\"bar\":[{\"error_x\":{\"color\":\"#2a3f5f\"},\"error_y\":{\"color\":\"#2a3f5f\"},\"marker\":{\"line\":{\"color\":\"#E5ECF6\",\"width\":0.5},\"pattern\":{\"fillmode\":\"overlay\",\"size\":10,\"solidity\":0.2}},\"type\":\"bar\"}],\"scattergeo\":[{\"type\":\"scattergeo\",\"marker\":{\"colorbar\":{\"outlinewidth\":0,\"ticks\":\"\"}}}],\"scatterpolar\":[{\"type\":\"scatterpolar\",\"marker\":{\"colorbar\":{\"outlinewidth\":0,\"ticks\":\"\"}}}],\"histogram\":[{\"marker\":{\"pattern\":{\"fillmode\":\"overlay\",\"size\":10,\"solidity\":0.2}},\"type\":\"histogram\"}],\"scattergl\":[{\"type\":\"scattergl\",\"marker\":{\"colorbar\":{\"outlinewidth\":0,\"ticks\":\"\"}}}],\"scatter3d\":[{\"type\":\"scatter3d\",\"line\":{\"colorbar\":{\"outlinewidth\":0,\"ticks\":\"\"}},\"marker\":{\"colorbar\":{\"outlinewidth\":0,\"ticks\":\"\"}}}],\"scattermapbox\":[{\"type\":\"scattermapbox\",\"marker\":{\"colorbar\":{\"outlinewidth\":0,\"ticks\":\"\"}}}],\"scatterternary\":[{\"type\":\"scatterternary\",\"marker\":{\"colorbar\":{\"outlinewidth\":0,\"ticks\":\"\"}}}],\"scattercarpet\":[{\"type\":\"scattercarpet\",\"marker\":{\"colorbar\":{\"outlinewidth\":0,\"ticks\":\"\"}}}],\"carpet\":[{\"aaxis\":{\"endlinecolor\":\"#2a3f5f\",\"gridcolor\":\"white\",\"linecolor\":\"white\",\"minorgridcolor\":\"white\",\"startlinecolor\":\"#2a3f5f\"},\"baxis\":{\"endlinecolor\":\"#2a3f5f\",\"gridcolor\":\"white\",\"linecolor\":\"white\",\"minorgridcolor\":\"white\",\"startlinecolor\":\"#2a3f5f\"},\"type\":\"carpet\"}],\"table\":[{\"cells\":{\"fill\":{\"color\":\"#EBF0F8\"},\"line\":{\"color\":\"white\"}},\"header\":{\"fill\":{\"color\":\"#C8D4E3\"},\"line\":{\"color\":\"white\"}},\"type\":\"table\"}],\"barpolar\":[{\"marker\":{\"line\":{\"color\":\"#E5ECF6\",\"width\":0.5},\"pattern\":{\"fillmode\":\"overlay\",\"size\":10,\"solidity\":0.2}},\"type\":\"barpolar\"}],\"pie\":[{\"automargin\":true,\"type\":\"pie\"}]},\"layout\":{\"autotypenumbers\":\"strict\",\"colorway\":[\"#636efa\",\"#EF553B\",\"#00cc96\",\"#ab63fa\",\"#FFA15A\",\"#19d3f3\",\"#FF6692\",\"#B6E880\",\"#FF97FF\",\"#FECB52\"],\"font\":{\"color\":\"#2a3f5f\"},\"hovermode\":\"closest\",\"hoverlabel\":{\"align\":\"left\"},\"paper_bgcolor\":\"white\",\"plot_bgcolor\":\"#E5ECF6\",\"polar\":{\"bgcolor\":\"#E5ECF6\",\"angularaxis\":{\"gridcolor\":\"white\",\"linecolor\":\"white\",\"ticks\":\"\"},\"radialaxis\":{\"gridcolor\":\"white\",\"linecolor\":\"white\",\"ticks\":\"\"}},\"ternary\":{\"bgcolor\":\"#E5ECF6\",\"aaxis\":{\"gridcolor\":\"white\",\"linecolor\":\"white\",\"ticks\":\"\"},\"baxis\":{\"gridcolor\":\"white\",\"linecolor\":\"white\",\"ticks\":\"\"},\"caxis\":{\"gridcolor\":\"white\",\"linecolor\":\"white\",\"ticks\":\"\"}},\"coloraxis\":{\"colorbar\":{\"outlinewidth\":0,\"ticks\":\"\"}},\"colorscale\":{\"sequential\":[[0.0,\"#0d0887\"],[0.1111111111111111,\"#46039f\"],[0.2222222222222222,\"#7201a8\"],[0.3333333333333333,\"#9c179e\"],[0.4444444444444444,\"#bd3786\"],[0.5555555555555556,\"#d8576b\"],[0.6666666666666666,\"#ed7953\"],[0.7777777777777778,\"#fb9f3a\"],[0.8888888888888888,\"#fdca26\"],[1.0,\"#f0f921\"]],\"sequentialminus\":[[0.0,\"#0d0887\"],[0.1111111111111111,\"#46039f\"],[0.2222222222222222,\"#7201a8\"],[0.3333333333333333,\"#9c179e\"],[0.4444444444444444,\"#bd3786\"],[0.5555555555555556,\"#d8576b\"],[0.6666666666666666,\"#ed7953\"],[0.7777777777777778,\"#fb9f3a\"],[0.8888888888888888,\"#fdca26\"],[1.0,\"#f0f921\"]],\"diverging\":[[0,\"#8e0152\"],[0.1,\"#c51b7d\"],[0.2,\"#de77ae\"],[0.3,\"#f1b6da\"],[0.4,\"#fde0ef\"],[0.5,\"#f7f7f7\"],[0.6,\"#e6f5d0\"],[0.7,\"#b8e186\"],[0.8,\"#7fbc41\"],[0.9,\"#4d9221\"],[1,\"#276419\"]]},\"xaxis\":{\"gridcolor\":\"white\",\"linecolor\":\"white\",\"ticks\":\"\",\"title\":{\"standoff\":15},\"zerolinecolor\":\"white\",\"automargin\":true,\"zerolinewidth\":2},\"yaxis\":{\"gridcolor\":\"white\",\"linecolor\":\"white\",\"ticks\":\"\",\"title\":{\"standoff\":15},\"zerolinecolor\":\"white\",\"automargin\":true,\"zerolinewidth\":2},\"scene\":{\"xaxis\":{\"backgroundcolor\":\"#E5ECF6\",\"gridcolor\":\"white\",\"linecolor\":\"white\",\"showbackground\":true,\"ticks\":\"\",\"zerolinecolor\":\"white\",\"gridwidth\":2},\"yaxis\":{\"backgroundcolor\":\"#E5ECF6\",\"gridcolor\":\"white\",\"linecolor\":\"white\",\"showbackground\":true,\"ticks\":\"\",\"zerolinecolor\":\"white\",\"gridwidth\":2},\"zaxis\":{\"backgroundcolor\":\"#E5ECF6\",\"gridcolor\":\"white\",\"linecolor\":\"white\",\"showbackground\":true,\"ticks\":\"\",\"zerolinecolor\":\"white\",\"gridwidth\":2}},\"shapedefaults\":{\"line\":{\"color\":\"#2a3f5f\"}},\"annotationdefaults\":{\"arrowcolor\":\"#2a3f5f\",\"arrowhead\":0,\"arrowwidth\":1},\"geo\":{\"bgcolor\":\"white\",\"landcolor\":\"#E5ECF6\",\"subunitcolor\":\"white\",\"showland\":true,\"showlakes\":true,\"lakecolor\":\"white\"},\"title\":{\"x\":0.05},\"mapbox\":{\"style\":\"light\"}}},\"barmode\":\"group\",\"title\":{\"text\":\"New Cases & Active Cases\"},\"yaxis\":{\"title\":{\"text\":\"Cases\"}}},                        {\"responsive\": true}                    ).then(function(){\n",
       "                            \n",
       "var gd = document.getElementById('6a3845f9-8bb7-4814-b34c-048e01702602');\n",
       "var x = new MutationObserver(function (mutations, observer) {{\n",
       "        var display = window.getComputedStyle(gd).display;\n",
       "        if (!display || display === 'none') {{\n",
       "            console.log([gd, 'removed!']);\n",
       "            Plotly.purge(gd);\n",
       "            observer.disconnect();\n",
       "        }}\n",
       "}});\n",
       "\n",
       "// Listen for the removal of the full notebook cells\n",
       "var notebookContainer = gd.closest('#notebook-container');\n",
       "if (notebookContainer) {{\n",
       "    x.observe(notebookContainer, {childList: true});\n",
       "}}\n",
       "\n",
       "// Listen for the clearing of the current output cell\n",
       "var outputEl = gd.closest('.output');\n",
       "if (outputEl) {{\n",
       "    x.observe(outputEl, {childList: true});\n",
       "}}\n",
       "\n",
       "                        })                };                });            </script>        </div>"
      ]
     },
     "metadata": {},
     "output_type": "display_data"
    }
   ],
   "source": [
    "fig = go.Figure(data=[\n",
    "    go.Bar(name='Active Cases', x=data_df['Date'], y=data_df['Active Cases']),\n",
    "    go.Bar(name='New Cases', x=data_df['Date'], y=data_df['New Cases'])\n",
    "])\n",
    "fig.update_layout(barmode='group')\n",
    "\n",
    "fig.update_layout(\n",
    "    title_text=\"New Cases & Active Cases\"\n",
    ")\n",
    "\n",
    "fig.update_yaxes(title_text=\"Cases\")\n",
    "\n",
    "fig.show()"
   ]
  },
  {
   "attachments": {},
   "cell_type": "markdown",
   "metadata": {},
   "source": [
    "#### Probability Distribution of New Cases & Active Cases per Month"
   ]
  },
  {
   "cell_type": "code",
   "execution_count": 185,
   "metadata": {},
   "outputs": [
    {
     "data": {
      "application/vnd.plotly.v1+json": {
       "config": {
        "plotlyServerURL": "https://plot.ly"
       },
       "data": [
        {
         "histfunc": "sum",
         "histnorm": "probability",
         "name": "New Cases",
         "type": "histogram",
         "x": [
          "03/2020",
          "04/2020",
          "05/2020",
          "06/2020",
          "07/2020",
          "08/2020",
          "09/2020",
          "10/2020",
          "11/2020",
          "12/2020",
          "01/2021",
          "02/2021",
          "03/2021",
          "04/2021",
          "05/2021",
          "06/2021",
          "07/2021",
          "08/2021",
          "09/2021",
          "10/2021",
          "11/2021",
          "12/2021",
          "01/2022",
          "02/2022",
          "03/2022",
          "04/2022",
          "05/2022",
          "06/2022",
          "07/2022",
          "08/2022",
          "09/2022",
          "10/2022",
          "11/2022",
          "12/2022",
          "01/2023"
         ],
         "y": [
          169,
          296,
          153,
          52,
          154,
          1164,
          1175,
          2984,
          3831,
          2901,
          5129,
          4579,
          6551,
          1259,
          243,
          88,
          3672,
          1876,
          978,
          506,
          1782,
          13033,
          15244,
          3558,
          8267,
          12202,
          3001,
          8390,
          9696,
          1222,
          642,
          657,
          490,
          545,
          379
         ]
        },
        {
         "histfunc": "sum",
         "histnorm": "probability",
         "name": "Active Cases",
         "type": "histogram",
         "x": [
          "03/2020",
          "04/2020",
          "05/2020",
          "06/2020",
          "07/2020",
          "08/2020",
          "09/2020",
          "10/2020",
          "11/2020",
          "12/2020",
          "01/2021",
          "02/2021",
          "03/2021",
          "04/2021",
          "05/2021",
          "06/2021",
          "07/2021",
          "08/2021",
          "09/2021",
          "10/2021",
          "11/2021",
          "12/2021",
          "01/2022",
          "02/2022",
          "03/2022",
          "04/2022",
          "05/2022",
          "06/2022",
          "07/2022",
          "08/2022",
          "09/2022",
          "10/2022",
          "11/2022",
          "12/2022",
          "01/2023"
         ],
         "y": [
          167,
          110,
          75,
          21,
          150,
          471,
          462,
          1825,
          2071,
          1434,
          2676,
          2720,
          836,
          331,
          66,
          45,
          1847,
          656,
          328,
          215,
          1188,
          11441,
          2972,
          692,
          5640,
          3528,
          1410,
          6231,
          1775,
          127,
          275,
          336,
          190,
          284,
          427
         ]
        }
       ],
       "layout": {
        "barmode": "group",
        "template": {
         "data": {
          "bar": [
           {
            "error_x": {
             "color": "#2a3f5f"
            },
            "error_y": {
             "color": "#2a3f5f"
            },
            "marker": {
             "line": {
              "color": "#E5ECF6",
              "width": 0.5
             },
             "pattern": {
              "fillmode": "overlay",
              "size": 10,
              "solidity": 0.2
             }
            },
            "type": "bar"
           }
          ],
          "barpolar": [
           {
            "marker": {
             "line": {
              "color": "#E5ECF6",
              "width": 0.5
             },
             "pattern": {
              "fillmode": "overlay",
              "size": 10,
              "solidity": 0.2
             }
            },
            "type": "barpolar"
           }
          ],
          "carpet": [
           {
            "aaxis": {
             "endlinecolor": "#2a3f5f",
             "gridcolor": "white",
             "linecolor": "white",
             "minorgridcolor": "white",
             "startlinecolor": "#2a3f5f"
            },
            "baxis": {
             "endlinecolor": "#2a3f5f",
             "gridcolor": "white",
             "linecolor": "white",
             "minorgridcolor": "white",
             "startlinecolor": "#2a3f5f"
            },
            "type": "carpet"
           }
          ],
          "choropleth": [
           {
            "colorbar": {
             "outlinewidth": 0,
             "ticks": ""
            },
            "type": "choropleth"
           }
          ],
          "contour": [
           {
            "colorbar": {
             "outlinewidth": 0,
             "ticks": ""
            },
            "colorscale": [
             [
              0,
              "#0d0887"
             ],
             [
              0.1111111111111111,
              "#46039f"
             ],
             [
              0.2222222222222222,
              "#7201a8"
             ],
             [
              0.3333333333333333,
              "#9c179e"
             ],
             [
              0.4444444444444444,
              "#bd3786"
             ],
             [
              0.5555555555555556,
              "#d8576b"
             ],
             [
              0.6666666666666666,
              "#ed7953"
             ],
             [
              0.7777777777777778,
              "#fb9f3a"
             ],
             [
              0.8888888888888888,
              "#fdca26"
             ],
             [
              1,
              "#f0f921"
             ]
            ],
            "type": "contour"
           }
          ],
          "contourcarpet": [
           {
            "colorbar": {
             "outlinewidth": 0,
             "ticks": ""
            },
            "type": "contourcarpet"
           }
          ],
          "heatmap": [
           {
            "colorbar": {
             "outlinewidth": 0,
             "ticks": ""
            },
            "colorscale": [
             [
              0,
              "#0d0887"
             ],
             [
              0.1111111111111111,
              "#46039f"
             ],
             [
              0.2222222222222222,
              "#7201a8"
             ],
             [
              0.3333333333333333,
              "#9c179e"
             ],
             [
              0.4444444444444444,
              "#bd3786"
             ],
             [
              0.5555555555555556,
              "#d8576b"
             ],
             [
              0.6666666666666666,
              "#ed7953"
             ],
             [
              0.7777777777777778,
              "#fb9f3a"
             ],
             [
              0.8888888888888888,
              "#fdca26"
             ],
             [
              1,
              "#f0f921"
             ]
            ],
            "type": "heatmap"
           }
          ],
          "heatmapgl": [
           {
            "colorbar": {
             "outlinewidth": 0,
             "ticks": ""
            },
            "colorscale": [
             [
              0,
              "#0d0887"
             ],
             [
              0.1111111111111111,
              "#46039f"
             ],
             [
              0.2222222222222222,
              "#7201a8"
             ],
             [
              0.3333333333333333,
              "#9c179e"
             ],
             [
              0.4444444444444444,
              "#bd3786"
             ],
             [
              0.5555555555555556,
              "#d8576b"
             ],
             [
              0.6666666666666666,
              "#ed7953"
             ],
             [
              0.7777777777777778,
              "#fb9f3a"
             ],
             [
              0.8888888888888888,
              "#fdca26"
             ],
             [
              1,
              "#f0f921"
             ]
            ],
            "type": "heatmapgl"
           }
          ],
          "histogram": [
           {
            "marker": {
             "pattern": {
              "fillmode": "overlay",
              "size": 10,
              "solidity": 0.2
             }
            },
            "type": "histogram"
           }
          ],
          "histogram2d": [
           {
            "colorbar": {
             "outlinewidth": 0,
             "ticks": ""
            },
            "colorscale": [
             [
              0,
              "#0d0887"
             ],
             [
              0.1111111111111111,
              "#46039f"
             ],
             [
              0.2222222222222222,
              "#7201a8"
             ],
             [
              0.3333333333333333,
              "#9c179e"
             ],
             [
              0.4444444444444444,
              "#bd3786"
             ],
             [
              0.5555555555555556,
              "#d8576b"
             ],
             [
              0.6666666666666666,
              "#ed7953"
             ],
             [
              0.7777777777777778,
              "#fb9f3a"
             ],
             [
              0.8888888888888888,
              "#fdca26"
             ],
             [
              1,
              "#f0f921"
             ]
            ],
            "type": "histogram2d"
           }
          ],
          "histogram2dcontour": [
           {
            "colorbar": {
             "outlinewidth": 0,
             "ticks": ""
            },
            "colorscale": [
             [
              0,
              "#0d0887"
             ],
             [
              0.1111111111111111,
              "#46039f"
             ],
             [
              0.2222222222222222,
              "#7201a8"
             ],
             [
              0.3333333333333333,
              "#9c179e"
             ],
             [
              0.4444444444444444,
              "#bd3786"
             ],
             [
              0.5555555555555556,
              "#d8576b"
             ],
             [
              0.6666666666666666,
              "#ed7953"
             ],
             [
              0.7777777777777778,
              "#fb9f3a"
             ],
             [
              0.8888888888888888,
              "#fdca26"
             ],
             [
              1,
              "#f0f921"
             ]
            ],
            "type": "histogram2dcontour"
           }
          ],
          "mesh3d": [
           {
            "colorbar": {
             "outlinewidth": 0,
             "ticks": ""
            },
            "type": "mesh3d"
           }
          ],
          "parcoords": [
           {
            "line": {
             "colorbar": {
              "outlinewidth": 0,
              "ticks": ""
             }
            },
            "type": "parcoords"
           }
          ],
          "pie": [
           {
            "automargin": true,
            "type": "pie"
           }
          ],
          "scatter": [
           {
            "fillpattern": {
             "fillmode": "overlay",
             "size": 10,
             "solidity": 0.2
            },
            "type": "scatter"
           }
          ],
          "scatter3d": [
           {
            "line": {
             "colorbar": {
              "outlinewidth": 0,
              "ticks": ""
             }
            },
            "marker": {
             "colorbar": {
              "outlinewidth": 0,
              "ticks": ""
             }
            },
            "type": "scatter3d"
           }
          ],
          "scattercarpet": [
           {
            "marker": {
             "colorbar": {
              "outlinewidth": 0,
              "ticks": ""
             }
            },
            "type": "scattercarpet"
           }
          ],
          "scattergeo": [
           {
            "marker": {
             "colorbar": {
              "outlinewidth": 0,
              "ticks": ""
             }
            },
            "type": "scattergeo"
           }
          ],
          "scattergl": [
           {
            "marker": {
             "colorbar": {
              "outlinewidth": 0,
              "ticks": ""
             }
            },
            "type": "scattergl"
           }
          ],
          "scattermapbox": [
           {
            "marker": {
             "colorbar": {
              "outlinewidth": 0,
              "ticks": ""
             }
            },
            "type": "scattermapbox"
           }
          ],
          "scatterpolar": [
           {
            "marker": {
             "colorbar": {
              "outlinewidth": 0,
              "ticks": ""
             }
            },
            "type": "scatterpolar"
           }
          ],
          "scatterpolargl": [
           {
            "marker": {
             "colorbar": {
              "outlinewidth": 0,
              "ticks": ""
             }
            },
            "type": "scatterpolargl"
           }
          ],
          "scatterternary": [
           {
            "marker": {
             "colorbar": {
              "outlinewidth": 0,
              "ticks": ""
             }
            },
            "type": "scatterternary"
           }
          ],
          "surface": [
           {
            "colorbar": {
             "outlinewidth": 0,
             "ticks": ""
            },
            "colorscale": [
             [
              0,
              "#0d0887"
             ],
             [
              0.1111111111111111,
              "#46039f"
             ],
             [
              0.2222222222222222,
              "#7201a8"
             ],
             [
              0.3333333333333333,
              "#9c179e"
             ],
             [
              0.4444444444444444,
              "#bd3786"
             ],
             [
              0.5555555555555556,
              "#d8576b"
             ],
             [
              0.6666666666666666,
              "#ed7953"
             ],
             [
              0.7777777777777778,
              "#fb9f3a"
             ],
             [
              0.8888888888888888,
              "#fdca26"
             ],
             [
              1,
              "#f0f921"
             ]
            ],
            "type": "surface"
           }
          ],
          "table": [
           {
            "cells": {
             "fill": {
              "color": "#EBF0F8"
             },
             "line": {
              "color": "white"
             }
            },
            "header": {
             "fill": {
              "color": "#C8D4E3"
             },
             "line": {
              "color": "white"
             }
            },
            "type": "table"
           }
          ]
         },
         "layout": {
          "annotationdefaults": {
           "arrowcolor": "#2a3f5f",
           "arrowhead": 0,
           "arrowwidth": 1
          },
          "autotypenumbers": "strict",
          "coloraxis": {
           "colorbar": {
            "outlinewidth": 0,
            "ticks": ""
           }
          },
          "colorscale": {
           "diverging": [
            [
             0,
             "#8e0152"
            ],
            [
             0.1,
             "#c51b7d"
            ],
            [
             0.2,
             "#de77ae"
            ],
            [
             0.3,
             "#f1b6da"
            ],
            [
             0.4,
             "#fde0ef"
            ],
            [
             0.5,
             "#f7f7f7"
            ],
            [
             0.6,
             "#e6f5d0"
            ],
            [
             0.7,
             "#b8e186"
            ],
            [
             0.8,
             "#7fbc41"
            ],
            [
             0.9,
             "#4d9221"
            ],
            [
             1,
             "#276419"
            ]
           ],
           "sequential": [
            [
             0,
             "#0d0887"
            ],
            [
             0.1111111111111111,
             "#46039f"
            ],
            [
             0.2222222222222222,
             "#7201a8"
            ],
            [
             0.3333333333333333,
             "#9c179e"
            ],
            [
             0.4444444444444444,
             "#bd3786"
            ],
            [
             0.5555555555555556,
             "#d8576b"
            ],
            [
             0.6666666666666666,
             "#ed7953"
            ],
            [
             0.7777777777777778,
             "#fb9f3a"
            ],
            [
             0.8888888888888888,
             "#fdca26"
            ],
            [
             1,
             "#f0f921"
            ]
           ],
           "sequentialminus": [
            [
             0,
             "#0d0887"
            ],
            [
             0.1111111111111111,
             "#46039f"
            ],
            [
             0.2222222222222222,
             "#7201a8"
            ],
            [
             0.3333333333333333,
             "#9c179e"
            ],
            [
             0.4444444444444444,
             "#bd3786"
            ],
            [
             0.5555555555555556,
             "#d8576b"
            ],
            [
             0.6666666666666666,
             "#ed7953"
            ],
            [
             0.7777777777777778,
             "#fb9f3a"
            ],
            [
             0.8888888888888888,
             "#fdca26"
            ],
            [
             1,
             "#f0f921"
            ]
           ]
          },
          "colorway": [
           "#636efa",
           "#EF553B",
           "#00cc96",
           "#ab63fa",
           "#FFA15A",
           "#19d3f3",
           "#FF6692",
           "#B6E880",
           "#FF97FF",
           "#FECB52"
          ],
          "font": {
           "color": "#2a3f5f"
          },
          "geo": {
           "bgcolor": "white",
           "lakecolor": "white",
           "landcolor": "#E5ECF6",
           "showlakes": true,
           "showland": true,
           "subunitcolor": "white"
          },
          "hoverlabel": {
           "align": "left"
          },
          "hovermode": "closest",
          "mapbox": {
           "style": "light"
          },
          "paper_bgcolor": "white",
          "plot_bgcolor": "#E5ECF6",
          "polar": {
           "angularaxis": {
            "gridcolor": "white",
            "linecolor": "white",
            "ticks": ""
           },
           "bgcolor": "#E5ECF6",
           "radialaxis": {
            "gridcolor": "white",
            "linecolor": "white",
            "ticks": ""
           }
          },
          "scene": {
           "xaxis": {
            "backgroundcolor": "#E5ECF6",
            "gridcolor": "white",
            "gridwidth": 2,
            "linecolor": "white",
            "showbackground": true,
            "ticks": "",
            "zerolinecolor": "white"
           },
           "yaxis": {
            "backgroundcolor": "#E5ECF6",
            "gridcolor": "white",
            "gridwidth": 2,
            "linecolor": "white",
            "showbackground": true,
            "ticks": "",
            "zerolinecolor": "white"
           },
           "zaxis": {
            "backgroundcolor": "#E5ECF6",
            "gridcolor": "white",
            "gridwidth": 2,
            "linecolor": "white",
            "showbackground": true,
            "ticks": "",
            "zerolinecolor": "white"
           }
          },
          "shapedefaults": {
           "line": {
            "color": "#2a3f5f"
           }
          },
          "ternary": {
           "aaxis": {
            "gridcolor": "white",
            "linecolor": "white",
            "ticks": ""
           },
           "baxis": {
            "gridcolor": "white",
            "linecolor": "white",
            "ticks": ""
           },
           "bgcolor": "#E5ECF6",
           "caxis": {
            "gridcolor": "white",
            "linecolor": "white",
            "ticks": ""
           }
          },
          "title": {
           "x": 0.05
          },
          "xaxis": {
           "automargin": true,
           "gridcolor": "white",
           "linecolor": "white",
           "ticks": "",
           "title": {
            "standoff": 15
           },
           "zerolinecolor": "white",
           "zerolinewidth": 2
          },
          "yaxis": {
           "automargin": true,
           "gridcolor": "white",
           "linecolor": "white",
           "ticks": "",
           "title": {
            "standoff": 15
           },
           "zerolinecolor": "white",
           "zerolinewidth": 2
          }
         }
        },
        "title": {
         "text": "Probability Distribution of New Cases & Active Cases per Month"
        },
        "yaxis": {
         "title": {
          "text": "Probability"
         }
        }
       }
      },
      "text/html": [
       "<div>                            <div id=\"318e4b1d-2d8a-4a9a-aad6-7f19b0547f70\" class=\"plotly-graph-div\" style=\"height:525px; width:100%;\"></div>            <script type=\"text/javascript\">                require([\"plotly\"], function(Plotly) {                    window.PLOTLYENV=window.PLOTLYENV || {};                                    if (document.getElementById(\"318e4b1d-2d8a-4a9a-aad6-7f19b0547f70\")) {                    Plotly.newPlot(                        \"318e4b1d-2d8a-4a9a-aad6-7f19b0547f70\",                        [{\"histfunc\":\"sum\",\"histnorm\":\"probability\",\"name\":\"New Cases\",\"x\":[\"03/2020\",\"04/2020\",\"05/2020\",\"06/2020\",\"07/2020\",\"08/2020\",\"09/2020\",\"10/2020\",\"11/2020\",\"12/2020\",\"01/2021\",\"02/2021\",\"03/2021\",\"04/2021\",\"05/2021\",\"06/2021\",\"07/2021\",\"08/2021\",\"09/2021\",\"10/2021\",\"11/2021\",\"12/2021\",\"01/2022\",\"02/2022\",\"03/2022\",\"04/2022\",\"05/2022\",\"06/2022\",\"07/2022\",\"08/2022\",\"09/2022\",\"10/2022\",\"11/2022\",\"12/2022\",\"01/2023\"],\"y\":[169,296,153,52,154,1164,1175,2984,3831,2901,5129,4579,6551,1259,243,88,3672,1876,978,506,1782,13033,15244,3558,8267,12202,3001,8390,9696,1222,642,657,490,545,379],\"type\":\"histogram\"},{\"histfunc\":\"sum\",\"histnorm\":\"probability\",\"name\":\"Active Cases\",\"x\":[\"03/2020\",\"04/2020\",\"05/2020\",\"06/2020\",\"07/2020\",\"08/2020\",\"09/2020\",\"10/2020\",\"11/2020\",\"12/2020\",\"01/2021\",\"02/2021\",\"03/2021\",\"04/2021\",\"05/2021\",\"06/2021\",\"07/2021\",\"08/2021\",\"09/2021\",\"10/2021\",\"11/2021\",\"12/2021\",\"01/2022\",\"02/2022\",\"03/2022\",\"04/2022\",\"05/2022\",\"06/2022\",\"07/2022\",\"08/2022\",\"09/2022\",\"10/2022\",\"11/2022\",\"12/2022\",\"01/2023\"],\"y\":[167,110,75,21,150,471,462,1825,2071,1434,2676,2720,836,331,66,45,1847,656,328,215,1188,11441,2972,692,5640,3528,1410,6231,1775,127,275,336,190,284,427],\"type\":\"histogram\"}],                        {\"template\":{\"data\":{\"histogram2dcontour\":[{\"type\":\"histogram2dcontour\",\"colorbar\":{\"outlinewidth\":0,\"ticks\":\"\"},\"colorscale\":[[0.0,\"#0d0887\"],[0.1111111111111111,\"#46039f\"],[0.2222222222222222,\"#7201a8\"],[0.3333333333333333,\"#9c179e\"],[0.4444444444444444,\"#bd3786\"],[0.5555555555555556,\"#d8576b\"],[0.6666666666666666,\"#ed7953\"],[0.7777777777777778,\"#fb9f3a\"],[0.8888888888888888,\"#fdca26\"],[1.0,\"#f0f921\"]]}],\"choropleth\":[{\"type\":\"choropleth\",\"colorbar\":{\"outlinewidth\":0,\"ticks\":\"\"}}],\"histogram2d\":[{\"type\":\"histogram2d\",\"colorbar\":{\"outlinewidth\":0,\"ticks\":\"\"},\"colorscale\":[[0.0,\"#0d0887\"],[0.1111111111111111,\"#46039f\"],[0.2222222222222222,\"#7201a8\"],[0.3333333333333333,\"#9c179e\"],[0.4444444444444444,\"#bd3786\"],[0.5555555555555556,\"#d8576b\"],[0.6666666666666666,\"#ed7953\"],[0.7777777777777778,\"#fb9f3a\"],[0.8888888888888888,\"#fdca26\"],[1.0,\"#f0f921\"]]}],\"heatmap\":[{\"type\":\"heatmap\",\"colorbar\":{\"outlinewidth\":0,\"ticks\":\"\"},\"colorscale\":[[0.0,\"#0d0887\"],[0.1111111111111111,\"#46039f\"],[0.2222222222222222,\"#7201a8\"],[0.3333333333333333,\"#9c179e\"],[0.4444444444444444,\"#bd3786\"],[0.5555555555555556,\"#d8576b\"],[0.6666666666666666,\"#ed7953\"],[0.7777777777777778,\"#fb9f3a\"],[0.8888888888888888,\"#fdca26\"],[1.0,\"#f0f921\"]]}],\"heatmapgl\":[{\"type\":\"heatmapgl\",\"colorbar\":{\"outlinewidth\":0,\"ticks\":\"\"},\"colorscale\":[[0.0,\"#0d0887\"],[0.1111111111111111,\"#46039f\"],[0.2222222222222222,\"#7201a8\"],[0.3333333333333333,\"#9c179e\"],[0.4444444444444444,\"#bd3786\"],[0.5555555555555556,\"#d8576b\"],[0.6666666666666666,\"#ed7953\"],[0.7777777777777778,\"#fb9f3a\"],[0.8888888888888888,\"#fdca26\"],[1.0,\"#f0f921\"]]}],\"contourcarpet\":[{\"type\":\"contourcarpet\",\"colorbar\":{\"outlinewidth\":0,\"ticks\":\"\"}}],\"contour\":[{\"type\":\"contour\",\"colorbar\":{\"outlinewidth\":0,\"ticks\":\"\"},\"colorscale\":[[0.0,\"#0d0887\"],[0.1111111111111111,\"#46039f\"],[0.2222222222222222,\"#7201a8\"],[0.3333333333333333,\"#9c179e\"],[0.4444444444444444,\"#bd3786\"],[0.5555555555555556,\"#d8576b\"],[0.6666666666666666,\"#ed7953\"],[0.7777777777777778,\"#fb9f3a\"],[0.8888888888888888,\"#fdca26\"],[1.0,\"#f0f921\"]]}],\"surface\":[{\"type\":\"surface\",\"colorbar\":{\"outlinewidth\":0,\"ticks\":\"\"},\"colorscale\":[[0.0,\"#0d0887\"],[0.1111111111111111,\"#46039f\"],[0.2222222222222222,\"#7201a8\"],[0.3333333333333333,\"#9c179e\"],[0.4444444444444444,\"#bd3786\"],[0.5555555555555556,\"#d8576b\"],[0.6666666666666666,\"#ed7953\"],[0.7777777777777778,\"#fb9f3a\"],[0.8888888888888888,\"#fdca26\"],[1.0,\"#f0f921\"]]}],\"mesh3d\":[{\"type\":\"mesh3d\",\"colorbar\":{\"outlinewidth\":0,\"ticks\":\"\"}}],\"scatter\":[{\"fillpattern\":{\"fillmode\":\"overlay\",\"size\":10,\"solidity\":0.2},\"type\":\"scatter\"}],\"parcoords\":[{\"type\":\"parcoords\",\"line\":{\"colorbar\":{\"outlinewidth\":0,\"ticks\":\"\"}}}],\"scatterpolargl\":[{\"type\":\"scatterpolargl\",\"marker\":{\"colorbar\":{\"outlinewidth\":0,\"ticks\":\"\"}}}],\"bar\":[{\"error_x\":{\"color\":\"#2a3f5f\"},\"error_y\":{\"color\":\"#2a3f5f\"},\"marker\":{\"line\":{\"color\":\"#E5ECF6\",\"width\":0.5},\"pattern\":{\"fillmode\":\"overlay\",\"size\":10,\"solidity\":0.2}},\"type\":\"bar\"}],\"scattergeo\":[{\"type\":\"scattergeo\",\"marker\":{\"colorbar\":{\"outlinewidth\":0,\"ticks\":\"\"}}}],\"scatterpolar\":[{\"type\":\"scatterpolar\",\"marker\":{\"colorbar\":{\"outlinewidth\":0,\"ticks\":\"\"}}}],\"histogram\":[{\"marker\":{\"pattern\":{\"fillmode\":\"overlay\",\"size\":10,\"solidity\":0.2}},\"type\":\"histogram\"}],\"scattergl\":[{\"type\":\"scattergl\",\"marker\":{\"colorbar\":{\"outlinewidth\":0,\"ticks\":\"\"}}}],\"scatter3d\":[{\"type\":\"scatter3d\",\"line\":{\"colorbar\":{\"outlinewidth\":0,\"ticks\":\"\"}},\"marker\":{\"colorbar\":{\"outlinewidth\":0,\"ticks\":\"\"}}}],\"scattermapbox\":[{\"type\":\"scattermapbox\",\"marker\":{\"colorbar\":{\"outlinewidth\":0,\"ticks\":\"\"}}}],\"scatterternary\":[{\"type\":\"scatterternary\",\"marker\":{\"colorbar\":{\"outlinewidth\":0,\"ticks\":\"\"}}}],\"scattercarpet\":[{\"type\":\"scattercarpet\",\"marker\":{\"colorbar\":{\"outlinewidth\":0,\"ticks\":\"\"}}}],\"carpet\":[{\"aaxis\":{\"endlinecolor\":\"#2a3f5f\",\"gridcolor\":\"white\",\"linecolor\":\"white\",\"minorgridcolor\":\"white\",\"startlinecolor\":\"#2a3f5f\"},\"baxis\":{\"endlinecolor\":\"#2a3f5f\",\"gridcolor\":\"white\",\"linecolor\":\"white\",\"minorgridcolor\":\"white\",\"startlinecolor\":\"#2a3f5f\"},\"type\":\"carpet\"}],\"table\":[{\"cells\":{\"fill\":{\"color\":\"#EBF0F8\"},\"line\":{\"color\":\"white\"}},\"header\":{\"fill\":{\"color\":\"#C8D4E3\"},\"line\":{\"color\":\"white\"}},\"type\":\"table\"}],\"barpolar\":[{\"marker\":{\"line\":{\"color\":\"#E5ECF6\",\"width\":0.5},\"pattern\":{\"fillmode\":\"overlay\",\"size\":10,\"solidity\":0.2}},\"type\":\"barpolar\"}],\"pie\":[{\"automargin\":true,\"type\":\"pie\"}]},\"layout\":{\"autotypenumbers\":\"strict\",\"colorway\":[\"#636efa\",\"#EF553B\",\"#00cc96\",\"#ab63fa\",\"#FFA15A\",\"#19d3f3\",\"#FF6692\",\"#B6E880\",\"#FF97FF\",\"#FECB52\"],\"font\":{\"color\":\"#2a3f5f\"},\"hovermode\":\"closest\",\"hoverlabel\":{\"align\":\"left\"},\"paper_bgcolor\":\"white\",\"plot_bgcolor\":\"#E5ECF6\",\"polar\":{\"bgcolor\":\"#E5ECF6\",\"angularaxis\":{\"gridcolor\":\"white\",\"linecolor\":\"white\",\"ticks\":\"\"},\"radialaxis\":{\"gridcolor\":\"white\",\"linecolor\":\"white\",\"ticks\":\"\"}},\"ternary\":{\"bgcolor\":\"#E5ECF6\",\"aaxis\":{\"gridcolor\":\"white\",\"linecolor\":\"white\",\"ticks\":\"\"},\"baxis\":{\"gridcolor\":\"white\",\"linecolor\":\"white\",\"ticks\":\"\"},\"caxis\":{\"gridcolor\":\"white\",\"linecolor\":\"white\",\"ticks\":\"\"}},\"coloraxis\":{\"colorbar\":{\"outlinewidth\":0,\"ticks\":\"\"}},\"colorscale\":{\"sequential\":[[0.0,\"#0d0887\"],[0.1111111111111111,\"#46039f\"],[0.2222222222222222,\"#7201a8\"],[0.3333333333333333,\"#9c179e\"],[0.4444444444444444,\"#bd3786\"],[0.5555555555555556,\"#d8576b\"],[0.6666666666666666,\"#ed7953\"],[0.7777777777777778,\"#fb9f3a\"],[0.8888888888888888,\"#fdca26\"],[1.0,\"#f0f921\"]],\"sequentialminus\":[[0.0,\"#0d0887\"],[0.1111111111111111,\"#46039f\"],[0.2222222222222222,\"#7201a8\"],[0.3333333333333333,\"#9c179e\"],[0.4444444444444444,\"#bd3786\"],[0.5555555555555556,\"#d8576b\"],[0.6666666666666666,\"#ed7953\"],[0.7777777777777778,\"#fb9f3a\"],[0.8888888888888888,\"#fdca26\"],[1.0,\"#f0f921\"]],\"diverging\":[[0,\"#8e0152\"],[0.1,\"#c51b7d\"],[0.2,\"#de77ae\"],[0.3,\"#f1b6da\"],[0.4,\"#fde0ef\"],[0.5,\"#f7f7f7\"],[0.6,\"#e6f5d0\"],[0.7,\"#b8e186\"],[0.8,\"#7fbc41\"],[0.9,\"#4d9221\"],[1,\"#276419\"]]},\"xaxis\":{\"gridcolor\":\"white\",\"linecolor\":\"white\",\"ticks\":\"\",\"title\":{\"standoff\":15},\"zerolinecolor\":\"white\",\"automargin\":true,\"zerolinewidth\":2},\"yaxis\":{\"gridcolor\":\"white\",\"linecolor\":\"white\",\"ticks\":\"\",\"title\":{\"standoff\":15},\"zerolinecolor\":\"white\",\"automargin\":true,\"zerolinewidth\":2},\"scene\":{\"xaxis\":{\"backgroundcolor\":\"#E5ECF6\",\"gridcolor\":\"white\",\"linecolor\":\"white\",\"showbackground\":true,\"ticks\":\"\",\"zerolinecolor\":\"white\",\"gridwidth\":2},\"yaxis\":{\"backgroundcolor\":\"#E5ECF6\",\"gridcolor\":\"white\",\"linecolor\":\"white\",\"showbackground\":true,\"ticks\":\"\",\"zerolinecolor\":\"white\",\"gridwidth\":2},\"zaxis\":{\"backgroundcolor\":\"#E5ECF6\",\"gridcolor\":\"white\",\"linecolor\":\"white\",\"showbackground\":true,\"ticks\":\"\",\"zerolinecolor\":\"white\",\"gridwidth\":2}},\"shapedefaults\":{\"line\":{\"color\":\"#2a3f5f\"}},\"annotationdefaults\":{\"arrowcolor\":\"#2a3f5f\",\"arrowhead\":0,\"arrowwidth\":1},\"geo\":{\"bgcolor\":\"white\",\"landcolor\":\"#E5ECF6\",\"subunitcolor\":\"white\",\"showland\":true,\"showlakes\":true,\"lakecolor\":\"white\"},\"title\":{\"x\":0.05},\"mapbox\":{\"style\":\"light\"}}},\"barmode\":\"group\",\"title\":{\"text\":\"Probability Distribution of New Cases & Active Cases per Month\"},\"yaxis\":{\"title\":{\"text\":\"Probability\"}}},                        {\"responsive\": true}                    ).then(function(){\n",
       "                            \n",
       "var gd = document.getElementById('318e4b1d-2d8a-4a9a-aad6-7f19b0547f70');\n",
       "var x = new MutationObserver(function (mutations, observer) {{\n",
       "        var display = window.getComputedStyle(gd).display;\n",
       "        if (!display || display === 'none') {{\n",
       "            console.log([gd, 'removed!']);\n",
       "            Plotly.purge(gd);\n",
       "            observer.disconnect();\n",
       "        }}\n",
       "}});\n",
       "\n",
       "// Listen for the removal of the full notebook cells\n",
       "var notebookContainer = gd.closest('#notebook-container');\n",
       "if (notebookContainer) {{\n",
       "    x.observe(notebookContainer, {childList: true});\n",
       "}}\n",
       "\n",
       "// Listen for the clearing of the current output cell\n",
       "var outputEl = gd.closest('.output');\n",
       "if (outputEl) {{\n",
       "    x.observe(outputEl, {childList: true});\n",
       "}}\n",
       "\n",
       "                        })                };                });            </script>        </div>"
      ]
     },
     "metadata": {},
     "output_type": "display_data"
    }
   ],
   "source": [
    "fig = go.Figure(data=[\n",
    "    go.Histogram(x=data_df['Date'], y=data_df['New Cases'], histfunc='sum', histnorm='probability', name='New Cases'),\n",
    "    go.Histogram(x=data_df['Date'], y=data_df['Active Cases'], histfunc='sum', histnorm='probability', name='Active Cases')\n",
    "])\n",
    "\n",
    "fig.update_layout(barmode='group')\n",
    "\n",
    "fig.update_layout(\n",
    "    title_text=\"Probability Distribution of New Cases & Active Cases per Month\"\n",
    ")\n",
    "\n",
    "fig.update_yaxes(title_text=\"Probability\")\n",
    "\n",
    "fig.show()"
   ]
  },
  {
   "attachments": {},
   "cell_type": "markdown",
   "metadata": {},
   "source": [
    "#### Distribution of Daily New Cases"
   ]
  },
  {
   "cell_type": "code",
   "execution_count": 203,
   "metadata": {},
   "outputs": [
    {
     "data": {
      "application/vnd.plotly.v1+json": {
       "config": {
        "plotlyServerURL": "https://plot.ly"
       },
       "data": [
        {
         "autobinx": false,
         "histnorm": "probability density",
         "legendgroup": "New Cases",
         "marker": {
          "color": "rgb(31, 119, 180)"
         },
         "name": "New Cases",
         "opacity": 0.7,
         "type": "histogram",
         "x": [
          1,
          2,
          0,
          1,
          1,
          2,
          5,
          1,
          5,
          3,
          9,
          8,
          10,
          5,
          11,
          9,
          17,
          17,
          3,
          19,
          5,
          5,
          10,
          2,
          5,
          13,
          19,
          7,
          7,
          11,
          14,
          14,
          52,
          6,
          38,
          13,
          20,
          8,
          6,
          9,
          6,
          13,
          10,
          4,
          1,
          4,
          12,
          1,
          1,
          2,
          1,
          0,
          2,
          8,
          5,
          2,
          2,
          1,
          9,
          3,
          2,
          2,
          2,
          3,
          1,
          6,
          7,
          3,
          2,
          14,
          10,
          14,
          7,
          5,
          11,
          15,
          15,
          1,
          9,
          1,
          1,
          0,
          1,
          4,
          0,
          2,
          0,
          1,
          1,
          2,
          0,
          3,
          2,
          2,
          1,
          2,
          3,
          5,
          5,
          1,
          3,
          1,
          6,
          6,
          1,
          0,
          1,
          1,
          0,
          0,
          0,
          3,
          2,
          0,
          0,
          0,
          0,
          1,
          0,
          1,
          0,
          0,
          0,
          1,
          0,
          1,
          0,
          0,
          0,
          0,
          0,
          0,
          0,
          0,
          1,
          1,
          1,
          0,
          2,
          1,
          6,
          0,
          14,
          1,
          7,
          12,
          94,
          10,
          21,
          15,
          14,
          16,
          36,
          20,
          49,
          40,
          54,
          23,
          29,
          49,
          55,
          31,
          72,
          63,
          69,
          48,
          47,
          40,
          36,
          31,
          35,
          55,
          38,
          46,
          37,
          32,
          27,
          15,
          21,
          26,
          22,
          34,
          19,
          30,
          25,
          37,
          23,
          63,
          42,
          43,
          27,
          78,
          53,
          49,
          106,
          35,
          39,
          65,
          32,
          45,
          38,
          42,
          42,
          31,
          29,
          21,
          27,
          29,
          23,
          37,
          44,
          65,
          66,
          57,
          47,
          68,
          64,
          75,
          100,
          95,
          68,
          93,
          111,
          112,
          122,
          204,
          142,
          109,
          134,
          155,
          111,
          121,
          115,
          125,
          80,
          107,
          75,
          106,
          76,
          100,
          140,
          218,
          106,
          84,
          174,
          129,
          146,
          102,
          102,
          153,
          141,
          109,
          150,
          121,
          117,
          103,
          110,
          173,
          140,
          121,
          141,
          102,
          80,
          133,
          116,
          152,
          96,
          108,
          143,
          121,
          102,
          126,
          96,
          123,
          103,
          97,
          139,
          40,
          79,
          106,
          96,
          121,
          52,
          101,
          49,
          112,
          60,
          94,
          52,
          93,
          88,
          108,
          82,
          70,
          50,
          129,
          84,
          101,
          115,
          124,
          109,
          135,
          88,
          85,
          148,
          158,
          224,
          164,
          191,
          245,
          184,
          133,
          240,
          189,
          121,
          193,
          175,
          141,
          154,
          200,
          187,
          151,
          143,
          119,
          116,
          203,
          138,
          193,
          208,
          185,
          136,
          182,
          124,
          141,
          138,
          79,
          57,
          134,
          100,
          137,
          202,
          167,
          151,
          164,
          154,
          138,
          156,
          102,
          199,
          163,
          154,
          199,
          130,
          193,
          221,
          226,
          192,
          258,
          237,
          263,
          175,
          336,
          233,
          362,
          283,
          345,
          182,
          201,
          248,
          510,
          283,
          329,
          298,
          268,
          213,
          313,
          211,
          243,
          179,
          210,
          224,
          191,
          90,
          101,
          102,
          103,
          93,
          67,
          63,
          55,
          40,
          52,
          42,
          62,
          34,
          56,
          64,
          65,
          55,
          48,
          37,
          66,
          47,
          59,
          58,
          55,
          27,
          67,
          39,
          60,
          13,
          24,
          33,
          33,
          20,
          25,
          15,
          45,
          15,
          27,
          16,
          15,
          12,
          35,
          27,
          30,
          9,
          12,
          6,
          9,
          11,
          6,
          5,
          4,
          1,
          4,
          2,
          4,
          2,
          3,
          2,
          6,
          2,
          5,
          2,
          3,
          7,
          4,
          6,
          3,
          4,
          2,
          8,
          10,
          4,
          2,
          9,
          3,
          0,
          1,
          1,
          4,
          2,
          2,
          0,
          1,
          0,
          3,
          0,
          3,
          0,
          1,
          1,
          5,
          0,
          3,
          5,
          3,
          0,
          6,
          6,
          5,
          4,
          6,
          7,
          12,
          12,
          11,
          25,
          55,
          96,
          109,
          101,
          179,
          154,
          218,
          222,
          235,
          206,
          195,
          146,
          217,
          199,
          166,
          172,
          171,
          127,
          94,
          142,
          91,
          95,
          111,
          94,
          80,
          64,
          69,
          82,
          78,
          48,
          71,
          59,
          56,
          51,
          87,
          51,
          101,
          94,
          51,
          43,
          54,
          82,
          86,
          51,
          68,
          53,
          57,
          35,
          42,
          42,
          40,
          49,
          50,
          34,
          48,
          76,
          75,
          42,
          62,
          49,
          37,
          41,
          53,
          30,
          38,
          34,
          50,
          35,
          50,
          32,
          25,
          27,
          25,
          20,
          22,
          24,
          18,
          12,
          13,
          16,
          13,
          13,
          16,
          8,
          22,
          14,
          24,
          10,
          24,
          25,
          18,
          19,
          24,
          16,
          24,
          11,
          17,
          18,
          19,
          25,
          8,
          10,
          11,
          22,
          20,
          17,
          10,
          6,
          12,
          13,
          16,
          15,
          15,
          8,
          19,
          16,
          20,
          29,
          34,
          37,
          40,
          41,
          50,
          27,
          35,
          38,
          63,
          50,
          51,
          32,
          55,
          64,
          64,
          66,
          79,
          59,
          122,
          62,
          71,
          86,
          83,
          56,
          95,
          72,
          95,
          106,
          95,
          138,
          133,
          59,
          69,
          81,
          86,
          87,
          81,
          88,
          111,
          78,
          78,
          100,
          168,
          167,
          221,
          291,
          282,
          252,
          386,
          582,
          733,
          955,
          917,
          572,
          832,
          1298,
          1337,
          1353,
          1403,
          1030,
          747,
          812,
          1147,
          922,
          1144,
          786,
          762,
          563,
          437,
          432,
          673,
          462,
          516,
          503,
          301,
          288,
          379,
          342,
          286,
          306,
          285,
          273,
          202,
          323,
          314,
          230,
          229,
          190,
          191,
          169,
          249,
          227,
          240,
          214,
          195,
          158,
          175,
          186,
          172,
          118,
          143,
          107,
          116,
          72,
          122,
          117,
          109,
          79,
          72,
          77,
          74,
          90,
          79,
          95,
          80,
          96,
          56,
          40,
          86,
          94,
          126,
          98,
          121,
          99,
          72,
          159,
          138,
          153,
          139,
          127,
          171,
          143,
          194,
          229,
          304,
          301,
          286,
          203,
          251,
          333,
          375,
          415,
          465,
          392,
          353,
          360,
          603,
          717,
          760,
          659,
          791,
          607,
          530,
          719,
          822,
          731,
          659,
          563,
          542,
          433,
          438,
          408,
          431,
          372,
          314,
          271,
          199,
          282,
          297,
          312,
          249,
          231,
          196,
          178,
          259,
          189,
          206,
          178,
          136,
          120,
          114,
          175,
          158,
          167,
          122,
          132,
          119,
          70,
          123,
          108,
          100,
          111,
          86,
          62,
          64,
          110,
          76,
          85,
          69,
          73,
          61,
          67,
          92,
          59,
          90,
          86,
          73,
          66,
          64,
          99,
          115,
          93,
          118,
          76,
          66,
          62,
          93,
          102,
          175,
          187,
          166,
          153,
          142,
          200,
          273,
          255,
          260,
          279,
          315,
          233,
          488,
          523,
          543,
          479,
          456,
          442,
          417,
          570,
          570,
          539,
          704,
          583,
          500,
          488,
          661,
          614,
          624,
          506,
          471,
          405,
          355,
          450,
          418,
          280,
          310,
          242,
          224,
          182,
          261,
          219,
          204,
          150,
          106,
          128,
          78,
          141,
          97,
          98,
          88,
          51,
          58,
          51,
          94,
          83,
          64,
          50,
          50,
          26,
          42,
          47,
          43,
          49,
          44,
          30,
          33,
          24,
          27,
          42,
          66,
          28,
          56,
          23,
          33,
          37,
          22,
          24,
          35,
          21,
          17,
          11,
          26,
          24,
          25,
          22,
          17,
          21,
          16,
          21,
          23,
          11,
          22,
          23,
          14,
          18,
          21,
          19,
          25,
          20,
          24,
          19,
          14,
          18,
          27,
          33,
          31,
          16,
          17,
          16,
          22,
          23,
          24,
          40,
          18,
          9,
          11,
          27,
          20,
          28,
          17,
          17,
          27,
          21,
          23,
          8,
          23,
          22,
          22,
          28,
          23,
          36,
          31,
          33,
          23,
          17,
          21,
          18,
          28,
          28,
          23,
          13,
          16,
          15,
          11,
          23,
          30,
          23,
          22,
          12,
          10,
          20,
          23,
          20,
          15,
          16,
          24,
          10,
          11,
          21,
          12,
          19,
          13,
          8,
          14,
          8,
          18,
          13,
          16,
          4,
          11,
          4,
          6,
          15,
          28,
          21,
          12,
          6,
          13,
          21,
          16,
          11,
          15,
          8,
          19,
          13,
          8,
          19,
          28,
          31,
          23,
          11,
          21,
          13,
          25,
          25,
          19,
          16,
          19,
          16,
          6,
          27,
          23,
          17,
          36,
          28,
          30,
          22,
          53,
          33,
          31,
          40,
          37,
          25,
          23,
          26,
          26,
          33
         ],
         "xaxis": "x",
         "xbins": {
          "end": 1403,
          "size": 100,
          "start": 0
         },
         "yaxis": "y"
        },
        {
         "legendgroup": "New Cases",
         "marker": {
          "color": "rgb(31, 119, 180)"
         },
         "mode": "lines",
         "name": "New Cases",
         "showlegend": false,
         "type": "scatter",
         "x": [
          0,
          2.806,
          5.612,
          8.418,
          11.224,
          14.03,
          16.836,
          19.642,
          22.448,
          25.254,
          28.06,
          30.866,
          33.672,
          36.478,
          39.284,
          42.09,
          44.896,
          47.702,
          50.508,
          53.314,
          56.12,
          58.926,
          61.732,
          64.538,
          67.344,
          70.15,
          72.956,
          75.762,
          78.568,
          81.374,
          84.18,
          86.986,
          89.792,
          92.598,
          95.404,
          98.21,
          101.016,
          103.822,
          106.628,
          109.434,
          112.24,
          115.046,
          117.852,
          120.658,
          123.464,
          126.27,
          129.076,
          131.882,
          134.688,
          137.494,
          140.3,
          143.106,
          145.912,
          148.718,
          151.524,
          154.33,
          157.136,
          159.942,
          162.748,
          165.554,
          168.36,
          171.166,
          173.972,
          176.778,
          179.584,
          182.39,
          185.196,
          188.002,
          190.808,
          193.614,
          196.42,
          199.226,
          202.032,
          204.838,
          207.644,
          210.45,
          213.256,
          216.062,
          218.868,
          221.674,
          224.48,
          227.286,
          230.092,
          232.898,
          235.704,
          238.51,
          241.316,
          244.122,
          246.928,
          249.734,
          252.54,
          255.346,
          258.152,
          260.958,
          263.764,
          266.57,
          269.376,
          272.182,
          274.988,
          277.794,
          280.6,
          283.406,
          286.212,
          289.018,
          291.824,
          294.63,
          297.436,
          300.242,
          303.048,
          305.854,
          308.66,
          311.466,
          314.272,
          317.078,
          319.884,
          322.69,
          325.496,
          328.302,
          331.108,
          333.914,
          336.72,
          339.526,
          342.332,
          345.138,
          347.944,
          350.75,
          353.556,
          356.362,
          359.168,
          361.974,
          364.78,
          367.586,
          370.392,
          373.198,
          376.004,
          378.81,
          381.616,
          384.422,
          387.228,
          390.034,
          392.84,
          395.646,
          398.452,
          401.258,
          404.064,
          406.87,
          409.676,
          412.482,
          415.288,
          418.094,
          420.9,
          423.706,
          426.512,
          429.318,
          432.124,
          434.93,
          437.736,
          440.542,
          443.348,
          446.154,
          448.96,
          451.766,
          454.572,
          457.378,
          460.184,
          462.99,
          465.796,
          468.602,
          471.408,
          474.214,
          477.02,
          479.826,
          482.632,
          485.438,
          488.244,
          491.05,
          493.856,
          496.662,
          499.468,
          502.274,
          505.08,
          507.886,
          510.692,
          513.498,
          516.304,
          519.11,
          521.916,
          524.722,
          527.528,
          530.334,
          533.14,
          535.946,
          538.752,
          541.558,
          544.364,
          547.17,
          549.976,
          552.782,
          555.588,
          558.394,
          561.2,
          564.006,
          566.812,
          569.618,
          572.424,
          575.23,
          578.036,
          580.842,
          583.648,
          586.454,
          589.26,
          592.066,
          594.872,
          597.678,
          600.484,
          603.29,
          606.096,
          608.902,
          611.708,
          614.514,
          617.32,
          620.126,
          622.932,
          625.738,
          628.544,
          631.35,
          634.156,
          636.962,
          639.768,
          642.574,
          645.38,
          648.186,
          650.992,
          653.798,
          656.604,
          659.41,
          662.216,
          665.022,
          667.828,
          670.634,
          673.44,
          676.246,
          679.052,
          681.858,
          684.664,
          687.47,
          690.276,
          693.082,
          695.888,
          698.694,
          701.5,
          704.306,
          707.112,
          709.918,
          712.724,
          715.53,
          718.336,
          721.142,
          723.948,
          726.754,
          729.56,
          732.366,
          735.172,
          737.978,
          740.784,
          743.59,
          746.396,
          749.202,
          752.008,
          754.814,
          757.62,
          760.426,
          763.232,
          766.038,
          768.844,
          771.65,
          774.456,
          777.262,
          780.068,
          782.874,
          785.68,
          788.486,
          791.292,
          794.098,
          796.904,
          799.71,
          802.516,
          805.322,
          808.128,
          810.934,
          813.74,
          816.546,
          819.352,
          822.158,
          824.964,
          827.77,
          830.576,
          833.382,
          836.188,
          838.994,
          841.8,
          844.606,
          847.412,
          850.218,
          853.024,
          855.83,
          858.636,
          861.442,
          864.248,
          867.054,
          869.86,
          872.666,
          875.472,
          878.278,
          881.084,
          883.89,
          886.696,
          889.502,
          892.308,
          895.114,
          897.92,
          900.726,
          903.532,
          906.338,
          909.144,
          911.95,
          914.756,
          917.562,
          920.368,
          923.174,
          925.98,
          928.786,
          931.592,
          934.398,
          937.204,
          940.01,
          942.816,
          945.622,
          948.428,
          951.234,
          954.04,
          956.846,
          959.652,
          962.458,
          965.264,
          968.07,
          970.876,
          973.682,
          976.488,
          979.294,
          982.1,
          984.906,
          987.712,
          990.518,
          993.324,
          996.13,
          998.936,
          1001.742,
          1004.548,
          1007.354,
          1010.16,
          1012.966,
          1015.772,
          1018.578,
          1021.384,
          1024.19,
          1026.996,
          1029.802,
          1032.608,
          1035.414,
          1038.22,
          1041.026,
          1043.832,
          1046.638,
          1049.444,
          1052.25,
          1055.056,
          1057.862,
          1060.668,
          1063.474,
          1066.28,
          1069.086,
          1071.892,
          1074.698,
          1077.504,
          1080.31,
          1083.116,
          1085.922,
          1088.728,
          1091.534,
          1094.34,
          1097.146,
          1099.952,
          1102.758,
          1105.564,
          1108.37,
          1111.176,
          1113.982,
          1116.788,
          1119.594,
          1122.4,
          1125.206,
          1128.012,
          1130.818,
          1133.624,
          1136.43,
          1139.236,
          1142.042,
          1144.848,
          1147.654,
          1150.46,
          1153.266,
          1156.072,
          1158.878,
          1161.684,
          1164.49,
          1167.296,
          1170.102,
          1172.908,
          1175.714,
          1178.52,
          1181.326,
          1184.132,
          1186.938,
          1189.744,
          1192.55,
          1195.356,
          1198.162,
          1200.968,
          1203.774,
          1206.58,
          1209.386,
          1212.192,
          1214.998,
          1217.804,
          1220.61,
          1223.416,
          1226.222,
          1229.028,
          1231.834,
          1234.64,
          1237.446,
          1240.252,
          1243.058,
          1245.864,
          1248.67,
          1251.476,
          1254.282,
          1257.088,
          1259.894,
          1262.7,
          1265.506,
          1268.312,
          1271.118,
          1273.924,
          1276.73,
          1279.536,
          1282.342,
          1285.148,
          1287.954,
          1290.76,
          1293.566,
          1296.372,
          1299.178,
          1301.984,
          1304.79,
          1307.596,
          1310.402,
          1313.208,
          1316.014,
          1318.82,
          1321.626,
          1324.432,
          1327.238,
          1330.044,
          1332.85,
          1335.656,
          1338.462,
          1341.268,
          1344.074,
          1346.88,
          1349.686,
          1352.492,
          1355.298,
          1358.104,
          1360.91,
          1363.716,
          1366.522,
          1369.328,
          1372.134,
          1374.94,
          1377.746,
          1380.552,
          1383.358,
          1386.164,
          1388.97,
          1391.776,
          1394.582,
          1397.388,
          1400.194
         ],
         "xaxis": "x",
         "y": [
          0.004531548877286144,
          0.004662413526094329,
          0.004781981371892253,
          0.004889454445487928,
          0.0049841629002951165,
          0.005065574246943349,
          0.005133299953111764,
          0.005187099274428095,
          0.005226880257558288,
          0.005252697933094793,
          0.005264749790887886,
          0.005263368701492836,
          0.005249013512057414,
          0.005222257601164082,
          0.005183775723152195,
          0.005134329506988666,
          0.005074751997014047,
          0.005005931632531895,
          0.004928796060391528,
          0.004844296160050946,
          0.004753390635130091,
          0.004657031490559915,
          0.004556150671767942,
          0.004451648093780469,
          0.004344381235645726,
          0.004235156421195371,
          0.004124721852814333,
          0.00401376241240175,
          0.003902896194705159,
          0.003792672694081269,
          0.003683572527580724,
          0.0035760085458732436,
          0.0034703281594150263,
          0.0033668166905981276,
          0.0032657015533187135,
          0.0031671570591010243,
          0.0030713096530479134,
          0.002978243392705548,
          0.0028880054975498454,
          0.0028006118152580782,
          0.0027160520722135967,
          0.0026342947987998836,
          0.0025552918440029824,
          0.002478982417763646,
          0.002405296622599908,
          0.0023341584575724845,
          0.002265488297129861,
          0.002199204864322469,
          0.0021352267320267834,
          0.0020734733970049915,
          0.0020138659798088873,
          0.001956327608779724,
          0.0019007835488648334,
          0.0018471611359042062,
          0.0017953895747356004,
          0.001745399655270625,
          0.0016971234349756358,
          0.0016504939293346822,
          0.001605444844255852,
          0.0015619103763742461,
          0.0015198250991430855,
          0.0014791239447965463,
          0.0014397422849789009,
          0.001401616106284531,
          0.001364682271315923,
          0.001328878851264459,
          0.001294145512527383,
          0.0012604239375227644,
          0.001227658258638089,
          0.0011957954840946014,
          0.0011647858953418577,
          0.0011345833973007062,
          0.0011051458052112819,
          0.00107643505486381,
          0.001048417326432902,
          0.0010210630758358324,
          0.0009943469713310936,
          0.000968247736811127,
          0.0009427479067817901,
          0.0009178335012363536,
          0.000893493631418877,
          0.0008697200497476082,
          0.0008465066588741256,
          0.0008238489959524114,
          0.0008017437086719415,
          0.0007801880394801148,
          0.0007591793337138186,
          0.0007387145861269498,
          0.0007187900386062168,
          0.0006994008397905681,
          0.0006805407749373085,
          0.0006622020718056943,
          0.0006443752856521731,
          0.0006270492637473909,
          0.000610211187225055,
          0.0005938466856421158,
          0.0005779400174443796,
          0.0005624743076553148,
          0.0005474318325897332,
          0.0005327943402741148,
          0.0005185433945529878,
          0.0005046607305814816,
          0.0004911286095389117,
          0.0004779301609236027,
          0.0004650497016693045,
          0.0004524730225113349,
          0.0004401876334705152,
          0.00042818296195288507,
          0.0004164504987171881,
          0.000404983888773169,
          0.00039377896607631504,
          0.00038283373261723864,
          0.00037214828411087186,
          0.000361724685925068,
          0.00035156680411215294,
          0.0003416800973936458,
          0.0003320713766818687,
          0.00032274853919776877,
          0.0003137202844681307,
          0.0003049958194728417,
          0.0002965845599880671,
          0.00028849583476439676,
          0.0002807385986251794,
          0.0002733211599069088,
          0.0002662509269284404,
          0.0002595341774053994,
          0.00025317585395336604,
          0.0002471793880765742,
          0.000241546554340345,
          0.00023627735579128588,
          0.0002313699411286848,
          0.0002268205536461863,
          0.00022262351155187516,
          0.0002187712189291608,
          0.00021525420630888234,
          0.000212061199570917,
          0.00020917921566673595,
          0.000206593683438845,
          0.0002042885875971236,
          0.00020224663368689782,
          0.00020044943164460106,
          0.00019887769528367897,
          0.00019751145479048656,
          0.00019633027904593145,
          0.00019531350433605715,
          0.00019444046578897262,
          0.00019369072769359578,
          0.0001930443087351113,
          0.00019248189813945838,
          0.00019198505876889187,
          0.00019153641336360877,
          0.00019111981038696393,
          0.0001907204663051005,
          0.00019032508161139394,
          0.00018992192848171836,
          0.0001895009086025854,
          0.00018905358043018773,
          0.00018857315589004928,
          0.00018805446728737578,
          0.00018749390593910054,
          0.0001868893347320129,
          0.00018623997743087725,
          0.00018554628808281745,
          0.00018480980427049116,
          0.00018403298824297515,
          0.00018321906009214131,
          0.0001823718271422426,
          0.000181495513586396,
          0.0001805945941466291,
          0.0001796736351704031,
          0.0001787371461266764,
          0.00017778944395240408,
          0.00017683453215150858,
          0.0001758759959887954,
          0.0001749169145760558,
          0.00017395979013938413,
          0.0001730064943047838,
          0.00017205823085829355,
          0.00017111551413699375,
          0.0001701781619928505,
          0.00016924530214159847,
          0.00016831539065789055,
          0.0001673862413954892,
          0.00016645506518348497,
          0.0001655185177600487,
          0.00016457275553632074,
          0.00016361349841685437,
          0.00016263609902273095,
          0.00016163561775439113,
          0.00016060690318176558,
          0.00015954467725162684,
          0.00015844362475270115,
          0.0001572984863788187,
          0.00015610415458452596,
          0.00015485577124533175,
          0.00015354882592868066,
          0.00015217925336699476,
          0.00015074352851738245,
          0.00014923875741110855,
          0.00014766276185629957,
          0.0001460141559746519,
          0.0001442924125395441,
          0.00014249791714799725,
          0.00014063200840741766,
          0.0001386970025506461,
          0.0001366962012056518,
          0.00013463388143090707,
          0.00013251526757162733,
          0.00013034648497969566,
          0.00012813449615240482,
          0.00012588702036148383,
          0.00012361243834259366,
          0.00012131968407512949,
          0.00011901812608244107,
          0.00011671744100538316,
          0.0001144274824323759,
          0.00011215814809573487,
          0.00010991924856015812,
          0.00010772038043302581,
          0.00010557080692066663,
          0.00010347934824799152,
          0.00010145428406354171,
          0.00009950326948484199,
          0.000097633265920146,
          0.00009585048725489359,
          0.0000941603614386008,
          0.0000925675069749387,
          0.00009107572332804514,
          0.0000896879938333141,
          0.00008840649935954321,
          0.00008723264072595633,
          0.00008616706774194327,
          0.00008520971271376263,
          0.00008435982634965205,
          0.00008361601418588046,
          0.00008297627193901052,
          0.00008243801854700861,
          0.0000819981260729422,
          0.0000816529460860909,
          0.00008139833258104615,
          0.00008122966192023452,
          0.00008114185066484533,
          0.0000811293724714889,
          0.00008118627545882072,
          0.00008130620157639064,
          0.00008148240952912154,
          0.00008170780272308856,
          0.00008197496350574555,
          0.00008227619468641796,
          0.00008260356895609028,
          0.00008294898639912955,
          0.00008330423982689584,
          0.00008366108718964694,
          0.00008401132986495914,
          0.0000843468952036027,
          0.00008465992136094167,
          0.00008494284217366891,
          0.00008518846967389924,
          0.00008539007177599232,
          0.00008554144273094595,
          0.00008563696411785813,
          0.00008567165442505504,
          0.0000856412056528681,
          0.00008554200582882706,
          0.00008537114684346461,
          0.00008512641756749852,
          0.00008480628277374036,
          0.00008440984893419137,
          0.00008393681846975556,
          0.00008338743447413476,
          0.00008276241829503068,
          0.00008206290261883731,
          0.00008129036285806673,
          0.00008044654967717836,
          0.0000795334254106812,
          0.00007855310693076499,
          0.00007750781721848708,
          0.0000763998474951999,
          0.00007523153129571616,
          0.00007400523133093628,
          0.00007272333941674722,
          0.00007138828916071968,
          0.00007000258052162151,
          0.00006856881481171152,
          0.0000670897382194971,
          0.00006556829151034003,
          0.0000640076632303688,
          0.00006241134350862898,
          0.000060783175432487246,
          0.000059127400967097624,
          0.00005744869850211594,
          0.000055752209334405764,
          0.000054043550726763995,
          0.000052328813608442504,
          0.00005061454348882335,
          0.00004890770372357514,
          0.000047215620883314076,
          0.0000455459126070732,
          0.00004390639895483893,
          0.000042304998883161894,
          0.000040749614034275024,
          0.000039248002532648435,
          0.0000378076459060317,
          0.00003643561257609399,
          0.000035138421585325435,
          0.00003392191033406777,
          0.00003279111009041184,
          0.00003175013290619224,
          0.000030802073328310134,
          0.000029948927943749843,
          0.00002919153535001649,
          0.000028529538614441155,
          0.000027961371692544336,
          0.00002748427063604881,
          0.00002709430975510647,
          0.000026786462227407392,
          0.000026554683989561215,
          0.00002639201912322983,
          0.000026290724378325566,
          0.000026242409974599625,
          0.000026238193405111688,
          0.00002626886264154039,
          0.000026325044920062515,
          0.000026397377172296472,
          0.000026476674159894266,
          0.000026554090471801844,
          0.000026621272744875955,
          0.00002667049876348521,
          0.000026694800471466752,
          0.00002668806837783518,
          0.000026645135341826115,
          0.0000265618382680115,
          0.000026435056812575657,
          0.00002626272878155513,
          0.000026043842475473317,
          0.000025778406787710575,
          0.00002546740038267532,
          0.00002511270175237848,
          0.0000247170023660408,
          0.000024283705478392458,
          0.000023816813441790397,
          0.000023320806570563482,
          0.000022800516730411744,
          0.000022260998870412412,
          0.000021707403681188768,
          0.00002114485445270965,
          0.00002057833102319724,
          0.000020012563462342527,
          0.00001945193782436005,
          0.000018900415947414968,
          0.000018361470874686376,
          0.000017838039038706137,
          0.00001733248989522787,
          0.00001684661322682325,
          0.00001638162387104044,
          0.000015938183174708632,
          0.00001551643604603677,
          0.000015116062080256182,
          0.000014736338882650556,
          0.000014376215413805936,
          0.000014034392943372529,
          0.000013709411026571332,
          0.000013399735816319752,
          0.000013103847995483288,
          0.00001282032765864062,
          0.000012547933589077212,
          0.00001228567456070098,
          0.000012032870540527339,
          0.000011789201967962635,
          0.00001155474563355607,
          0.000011329996062314243,
          0.000011115871714432303,
          0.000010913705738324814,
          0.000010725221436006853,
          0.000010552493018313644,
          0.000010397892626843306,
          0.000010264024971355738,
          0.000010153651267154251,
          0.000010069604449336356,
          0.000010014697883566016,
          0.000009991629981271434,
          0.000010002887257228703,
          0.000010050648436870381,
          0.000010136692228030025,
          0.00001026231131696892,
          0.000010428235032261098,
          0.000010634562944302905,
          0.000010880711435764698,
          0.000011165374993165416,
          0.000011486503636962907,
          0.000011841297533271201,
          0.000012226219421853096,
          0.000012637025060858116,
          0.000013068811438480166,
          0.000013516082045915762,
          0.0000139728280562251,
          0.000014432623822078687,
          0.000014888734704398494,
          0.000015334234886013162,
          0.000015762132521583475,
          0.000016165499338185175,
          0.00001653760163953879,
          0.000016872029588446707,
          0.00001716282165159384,
          0.0000174045811907279,
          0.00001759258237349069,
          0.00001772286285170849,
          0.000017792301007388833,
          0.000017798675986533478,
          0.000017740709214889364,
          0.00001761808660232019,
          0.00001743146117625719,
          0.00001718243642131616,
          0.000016873531123029362,
          0.000016508127000663013,
          0.000016090400850540925,
          0.000015625243292519276,
          0.000015118166506319798,
          0.000014575203552630247,
          0.000014002801991106835,
          0.00001340771453232235,
          0.000012796889395704077,
          0.000012177362896596246,
          0.000011556156561955331,
          0.000010940180787762528,
          0.000010336146716004904,
          0.000009750487640414136,
          0.000009189290864055975,
          0.000008658240544220033,
          0.000008162571685907544,
          0.000007707035098123266,
          0.000007295872818697452,
          0.000006932803252616247,
          0.0000066210150622539934,
          0.000006363168699082735,
          0.000006161404376199478,
          0.000006017355247541104,
          0.000005932164578786724,
          0.000005906505760539433,
          0.00000594060411878803,
          0.00000603425961219857,
          0.000006186869661292173,
          0.000006397451521822642,
          0.000006664663784898792,
          0.000006986826751645839,
          0.000007361941583637725,
          0.000007787708266474678,
          0.000008261542538710261,
          0.000008780592029327183,
          0.000009341751913029037,
          0.000009941680433961952,
          0.000010576814666401323,
          0.000011243386877594153,
          0.000011937441836081827,
          0.000012654855371525486,
          0.00001339135444248765,
          0.000014142538909832854,
          0.000014903905148170369,
          0.0000156708715584546,
          0.000016438805973435816,
          0.000017203054875654833,
          0.000017958974276290286,
          0.00001870196203333446,
          0.00001942749132012434,
          0.000020131144891035135,
          0.00002080864973115238,
          0.000021455911622226313,
          0.000022069049109742157,
          0.000022644426317392062,
          0.000023178684027771525,
          0.000023668768434064716,
          0.000024111956969167016,
          0.000024505880638266428,
          0.000024848542320093408,
          0.000025138330561949814,
          0.000025374028474464555,
          0.000025554817432997955,
          0.00002568027541176813,
          0.00002575036991094676,
          0.000025765445581849363,
          0.000025726206805584607,
          0.000025633695629970114,
          0.000025489265611502003,
          0.000025294552236859318,
          0.000025051440705253786,
          0.00002476203193298338,
          0.00002442860768994686,
          0.000024053595791167,
          0.000023639536242776442,
          0.000023189049181532125,
          0.00002270480535177939,
          0.000022189499737803785,
          0.00002164582881834199,
          0.000021076471740758408,
          0.000020484075533187678,
          0.000019871244292555464,
          0.000019240532113707604,
          0.00001859443936838456,
          0.000017935411810090945,
          0.000017265841878326097
         ],
         "yaxis": "y"
        }
       ],
       "layout": {
        "barmode": "overlay",
        "hovermode": "closest",
        "legend": {
         "traceorder": "reversed"
        },
        "template": {
         "data": {
          "bar": [
           {
            "error_x": {
             "color": "#2a3f5f"
            },
            "error_y": {
             "color": "#2a3f5f"
            },
            "marker": {
             "line": {
              "color": "#E5ECF6",
              "width": 0.5
             },
             "pattern": {
              "fillmode": "overlay",
              "size": 10,
              "solidity": 0.2
             }
            },
            "type": "bar"
           }
          ],
          "barpolar": [
           {
            "marker": {
             "line": {
              "color": "#E5ECF6",
              "width": 0.5
             },
             "pattern": {
              "fillmode": "overlay",
              "size": 10,
              "solidity": 0.2
             }
            },
            "type": "barpolar"
           }
          ],
          "carpet": [
           {
            "aaxis": {
             "endlinecolor": "#2a3f5f",
             "gridcolor": "white",
             "linecolor": "white",
             "minorgridcolor": "white",
             "startlinecolor": "#2a3f5f"
            },
            "baxis": {
             "endlinecolor": "#2a3f5f",
             "gridcolor": "white",
             "linecolor": "white",
             "minorgridcolor": "white",
             "startlinecolor": "#2a3f5f"
            },
            "type": "carpet"
           }
          ],
          "choropleth": [
           {
            "colorbar": {
             "outlinewidth": 0,
             "ticks": ""
            },
            "type": "choropleth"
           }
          ],
          "contour": [
           {
            "colorbar": {
             "outlinewidth": 0,
             "ticks": ""
            },
            "colorscale": [
             [
              0,
              "#0d0887"
             ],
             [
              0.1111111111111111,
              "#46039f"
             ],
             [
              0.2222222222222222,
              "#7201a8"
             ],
             [
              0.3333333333333333,
              "#9c179e"
             ],
             [
              0.4444444444444444,
              "#bd3786"
             ],
             [
              0.5555555555555556,
              "#d8576b"
             ],
             [
              0.6666666666666666,
              "#ed7953"
             ],
             [
              0.7777777777777778,
              "#fb9f3a"
             ],
             [
              0.8888888888888888,
              "#fdca26"
             ],
             [
              1,
              "#f0f921"
             ]
            ],
            "type": "contour"
           }
          ],
          "contourcarpet": [
           {
            "colorbar": {
             "outlinewidth": 0,
             "ticks": ""
            },
            "type": "contourcarpet"
           }
          ],
          "heatmap": [
           {
            "colorbar": {
             "outlinewidth": 0,
             "ticks": ""
            },
            "colorscale": [
             [
              0,
              "#0d0887"
             ],
             [
              0.1111111111111111,
              "#46039f"
             ],
             [
              0.2222222222222222,
              "#7201a8"
             ],
             [
              0.3333333333333333,
              "#9c179e"
             ],
             [
              0.4444444444444444,
              "#bd3786"
             ],
             [
              0.5555555555555556,
              "#d8576b"
             ],
             [
              0.6666666666666666,
              "#ed7953"
             ],
             [
              0.7777777777777778,
              "#fb9f3a"
             ],
             [
              0.8888888888888888,
              "#fdca26"
             ],
             [
              1,
              "#f0f921"
             ]
            ],
            "type": "heatmap"
           }
          ],
          "heatmapgl": [
           {
            "colorbar": {
             "outlinewidth": 0,
             "ticks": ""
            },
            "colorscale": [
             [
              0,
              "#0d0887"
             ],
             [
              0.1111111111111111,
              "#46039f"
             ],
             [
              0.2222222222222222,
              "#7201a8"
             ],
             [
              0.3333333333333333,
              "#9c179e"
             ],
             [
              0.4444444444444444,
              "#bd3786"
             ],
             [
              0.5555555555555556,
              "#d8576b"
             ],
             [
              0.6666666666666666,
              "#ed7953"
             ],
             [
              0.7777777777777778,
              "#fb9f3a"
             ],
             [
              0.8888888888888888,
              "#fdca26"
             ],
             [
              1,
              "#f0f921"
             ]
            ],
            "type": "heatmapgl"
           }
          ],
          "histogram": [
           {
            "marker": {
             "pattern": {
              "fillmode": "overlay",
              "size": 10,
              "solidity": 0.2
             }
            },
            "type": "histogram"
           }
          ],
          "histogram2d": [
           {
            "colorbar": {
             "outlinewidth": 0,
             "ticks": ""
            },
            "colorscale": [
             [
              0,
              "#0d0887"
             ],
             [
              0.1111111111111111,
              "#46039f"
             ],
             [
              0.2222222222222222,
              "#7201a8"
             ],
             [
              0.3333333333333333,
              "#9c179e"
             ],
             [
              0.4444444444444444,
              "#bd3786"
             ],
             [
              0.5555555555555556,
              "#d8576b"
             ],
             [
              0.6666666666666666,
              "#ed7953"
             ],
             [
              0.7777777777777778,
              "#fb9f3a"
             ],
             [
              0.8888888888888888,
              "#fdca26"
             ],
             [
              1,
              "#f0f921"
             ]
            ],
            "type": "histogram2d"
           }
          ],
          "histogram2dcontour": [
           {
            "colorbar": {
             "outlinewidth": 0,
             "ticks": ""
            },
            "colorscale": [
             [
              0,
              "#0d0887"
             ],
             [
              0.1111111111111111,
              "#46039f"
             ],
             [
              0.2222222222222222,
              "#7201a8"
             ],
             [
              0.3333333333333333,
              "#9c179e"
             ],
             [
              0.4444444444444444,
              "#bd3786"
             ],
             [
              0.5555555555555556,
              "#d8576b"
             ],
             [
              0.6666666666666666,
              "#ed7953"
             ],
             [
              0.7777777777777778,
              "#fb9f3a"
             ],
             [
              0.8888888888888888,
              "#fdca26"
             ],
             [
              1,
              "#f0f921"
             ]
            ],
            "type": "histogram2dcontour"
           }
          ],
          "mesh3d": [
           {
            "colorbar": {
             "outlinewidth": 0,
             "ticks": ""
            },
            "type": "mesh3d"
           }
          ],
          "parcoords": [
           {
            "line": {
             "colorbar": {
              "outlinewidth": 0,
              "ticks": ""
             }
            },
            "type": "parcoords"
           }
          ],
          "pie": [
           {
            "automargin": true,
            "type": "pie"
           }
          ],
          "scatter": [
           {
            "fillpattern": {
             "fillmode": "overlay",
             "size": 10,
             "solidity": 0.2
            },
            "type": "scatter"
           }
          ],
          "scatter3d": [
           {
            "line": {
             "colorbar": {
              "outlinewidth": 0,
              "ticks": ""
             }
            },
            "marker": {
             "colorbar": {
              "outlinewidth": 0,
              "ticks": ""
             }
            },
            "type": "scatter3d"
           }
          ],
          "scattercarpet": [
           {
            "marker": {
             "colorbar": {
              "outlinewidth": 0,
              "ticks": ""
             }
            },
            "type": "scattercarpet"
           }
          ],
          "scattergeo": [
           {
            "marker": {
             "colorbar": {
              "outlinewidth": 0,
              "ticks": ""
             }
            },
            "type": "scattergeo"
           }
          ],
          "scattergl": [
           {
            "marker": {
             "colorbar": {
              "outlinewidth": 0,
              "ticks": ""
             }
            },
            "type": "scattergl"
           }
          ],
          "scattermapbox": [
           {
            "marker": {
             "colorbar": {
              "outlinewidth": 0,
              "ticks": ""
             }
            },
            "type": "scattermapbox"
           }
          ],
          "scatterpolar": [
           {
            "marker": {
             "colorbar": {
              "outlinewidth": 0,
              "ticks": ""
             }
            },
            "type": "scatterpolar"
           }
          ],
          "scatterpolargl": [
           {
            "marker": {
             "colorbar": {
              "outlinewidth": 0,
              "ticks": ""
             }
            },
            "type": "scatterpolargl"
           }
          ],
          "scatterternary": [
           {
            "marker": {
             "colorbar": {
              "outlinewidth": 0,
              "ticks": ""
             }
            },
            "type": "scatterternary"
           }
          ],
          "surface": [
           {
            "colorbar": {
             "outlinewidth": 0,
             "ticks": ""
            },
            "colorscale": [
             [
              0,
              "#0d0887"
             ],
             [
              0.1111111111111111,
              "#46039f"
             ],
             [
              0.2222222222222222,
              "#7201a8"
             ],
             [
              0.3333333333333333,
              "#9c179e"
             ],
             [
              0.4444444444444444,
              "#bd3786"
             ],
             [
              0.5555555555555556,
              "#d8576b"
             ],
             [
              0.6666666666666666,
              "#ed7953"
             ],
             [
              0.7777777777777778,
              "#fb9f3a"
             ],
             [
              0.8888888888888888,
              "#fdca26"
             ],
             [
              1,
              "#f0f921"
             ]
            ],
            "type": "surface"
           }
          ],
          "table": [
           {
            "cells": {
             "fill": {
              "color": "#EBF0F8"
             },
             "line": {
              "color": "white"
             }
            },
            "header": {
             "fill": {
              "color": "#C8D4E3"
             },
             "line": {
              "color": "white"
             }
            },
            "type": "table"
           }
          ]
         },
         "layout": {
          "annotationdefaults": {
           "arrowcolor": "#2a3f5f",
           "arrowhead": 0,
           "arrowwidth": 1
          },
          "autotypenumbers": "strict",
          "coloraxis": {
           "colorbar": {
            "outlinewidth": 0,
            "ticks": ""
           }
          },
          "colorscale": {
           "diverging": [
            [
             0,
             "#8e0152"
            ],
            [
             0.1,
             "#c51b7d"
            ],
            [
             0.2,
             "#de77ae"
            ],
            [
             0.3,
             "#f1b6da"
            ],
            [
             0.4,
             "#fde0ef"
            ],
            [
             0.5,
             "#f7f7f7"
            ],
            [
             0.6,
             "#e6f5d0"
            ],
            [
             0.7,
             "#b8e186"
            ],
            [
             0.8,
             "#7fbc41"
            ],
            [
             0.9,
             "#4d9221"
            ],
            [
             1,
             "#276419"
            ]
           ],
           "sequential": [
            [
             0,
             "#0d0887"
            ],
            [
             0.1111111111111111,
             "#46039f"
            ],
            [
             0.2222222222222222,
             "#7201a8"
            ],
            [
             0.3333333333333333,
             "#9c179e"
            ],
            [
             0.4444444444444444,
             "#bd3786"
            ],
            [
             0.5555555555555556,
             "#d8576b"
            ],
            [
             0.6666666666666666,
             "#ed7953"
            ],
            [
             0.7777777777777778,
             "#fb9f3a"
            ],
            [
             0.8888888888888888,
             "#fdca26"
            ],
            [
             1,
             "#f0f921"
            ]
           ],
           "sequentialminus": [
            [
             0,
             "#0d0887"
            ],
            [
             0.1111111111111111,
             "#46039f"
            ],
            [
             0.2222222222222222,
             "#7201a8"
            ],
            [
             0.3333333333333333,
             "#9c179e"
            ],
            [
             0.4444444444444444,
             "#bd3786"
            ],
            [
             0.5555555555555556,
             "#d8576b"
            ],
            [
             0.6666666666666666,
             "#ed7953"
            ],
            [
             0.7777777777777778,
             "#fb9f3a"
            ],
            [
             0.8888888888888888,
             "#fdca26"
            ],
            [
             1,
             "#f0f921"
            ]
           ]
          },
          "colorway": [
           "#636efa",
           "#EF553B",
           "#00cc96",
           "#ab63fa",
           "#FFA15A",
           "#19d3f3",
           "#FF6692",
           "#B6E880",
           "#FF97FF",
           "#FECB52"
          ],
          "font": {
           "color": "#2a3f5f"
          },
          "geo": {
           "bgcolor": "white",
           "lakecolor": "white",
           "landcolor": "#E5ECF6",
           "showlakes": true,
           "showland": true,
           "subunitcolor": "white"
          },
          "hoverlabel": {
           "align": "left"
          },
          "hovermode": "closest",
          "mapbox": {
           "style": "light"
          },
          "paper_bgcolor": "white",
          "plot_bgcolor": "#E5ECF6",
          "polar": {
           "angularaxis": {
            "gridcolor": "white",
            "linecolor": "white",
            "ticks": ""
           },
           "bgcolor": "#E5ECF6",
           "radialaxis": {
            "gridcolor": "white",
            "linecolor": "white",
            "ticks": ""
           }
          },
          "scene": {
           "xaxis": {
            "backgroundcolor": "#E5ECF6",
            "gridcolor": "white",
            "gridwidth": 2,
            "linecolor": "white",
            "showbackground": true,
            "ticks": "",
            "zerolinecolor": "white"
           },
           "yaxis": {
            "backgroundcolor": "#E5ECF6",
            "gridcolor": "white",
            "gridwidth": 2,
            "linecolor": "white",
            "showbackground": true,
            "ticks": "",
            "zerolinecolor": "white"
           },
           "zaxis": {
            "backgroundcolor": "#E5ECF6",
            "gridcolor": "white",
            "gridwidth": 2,
            "linecolor": "white",
            "showbackground": true,
            "ticks": "",
            "zerolinecolor": "white"
           }
          },
          "shapedefaults": {
           "line": {
            "color": "#2a3f5f"
           }
          },
          "ternary": {
           "aaxis": {
            "gridcolor": "white",
            "linecolor": "white",
            "ticks": ""
           },
           "baxis": {
            "gridcolor": "white",
            "linecolor": "white",
            "ticks": ""
           },
           "bgcolor": "#E5ECF6",
           "caxis": {
            "gridcolor": "white",
            "linecolor": "white",
            "ticks": ""
           }
          },
          "title": {
           "x": 0.05
          },
          "xaxis": {
           "automargin": true,
           "gridcolor": "white",
           "linecolor": "white",
           "ticks": "",
           "title": {
            "standoff": 15
           },
           "zerolinecolor": "white",
           "zerolinewidth": 2
          },
          "yaxis": {
           "automargin": true,
           "gridcolor": "white",
           "linecolor": "white",
           "ticks": "",
           "title": {
            "standoff": 15
           },
           "zerolinecolor": "white",
           "zerolinewidth": 2
          }
         }
        },
        "title": {
         "text": "Distribution of Daily New Cases"
        },
        "xaxis": {
         "anchor": "y2",
         "domain": [
          0,
          1
         ],
         "title": {
          "text": "Cases"
         },
         "zeroline": false
        },
        "yaxis": {
         "anchor": "free",
         "domain": [
          0,
          1
         ],
         "position": 0
        }
       }
      },
      "text/html": [
       "<div>                            <div id=\"29fe739d-dd28-4351-acc8-d696922aeee7\" class=\"plotly-graph-div\" style=\"height:525px; width:100%;\"></div>            <script type=\"text/javascript\">                require([\"plotly\"], function(Plotly) {                    window.PLOTLYENV=window.PLOTLYENV || {};                                    if (document.getElementById(\"29fe739d-dd28-4351-acc8-d696922aeee7\")) {                    Plotly.newPlot(                        \"29fe739d-dd28-4351-acc8-d696922aeee7\",                        [{\"autobinx\":false,\"histnorm\":\"probability density\",\"legendgroup\":\"New Cases\",\"marker\":{\"color\":\"rgb(31, 119, 180)\"},\"name\":\"New Cases\",\"opacity\":0.7,\"x\":[1,2,0,1,1,2,5,1,5,3,9,8,10,5,11,9,17,17,3,19,5,5,10,2,5,13,19,7,7,11,14,14,52,6,38,13,20,8,6,9,6,13,10,4,1,4,12,1,1,2,1,0,2,8,5,2,2,1,9,3,2,2,2,3,1,6,7,3,2,14,10,14,7,5,11,15,15,1,9,1,1,0,1,4,0,2,0,1,1,2,0,3,2,2,1,2,3,5,5,1,3,1,6,6,1,0,1,1,0,0,0,3,2,0,0,0,0,1,0,1,0,0,0,1,0,1,0,0,0,0,0,0,0,0,1,1,1,0,2,1,6,0,14,1,7,12,94,10,21,15,14,16,36,20,49,40,54,23,29,49,55,31,72,63,69,48,47,40,36,31,35,55,38,46,37,32,27,15,21,26,22,34,19,30,25,37,23,63,42,43,27,78,53,49,106,35,39,65,32,45,38,42,42,31,29,21,27,29,23,37,44,65,66,57,47,68,64,75,100,95,68,93,111,112,122,204,142,109,134,155,111,121,115,125,80,107,75,106,76,100,140,218,106,84,174,129,146,102,102,153,141,109,150,121,117,103,110,173,140,121,141,102,80,133,116,152,96,108,143,121,102,126,96,123,103,97,139,40,79,106,96,121,52,101,49,112,60,94,52,93,88,108,82,70,50,129,84,101,115,124,109,135,88,85,148,158,224,164,191,245,184,133,240,189,121,193,175,141,154,200,187,151,143,119,116,203,138,193,208,185,136,182,124,141,138,79,57,134,100,137,202,167,151,164,154,138,156,102,199,163,154,199,130,193,221,226,192,258,237,263,175,336,233,362,283,345,182,201,248,510,283,329,298,268,213,313,211,243,179,210,224,191,90,101,102,103,93,67,63,55,40,52,42,62,34,56,64,65,55,48,37,66,47,59,58,55,27,67,39,60,13,24,33,33,20,25,15,45,15,27,16,15,12,35,27,30,9,12,6,9,11,6,5,4,1,4,2,4,2,3,2,6,2,5,2,3,7,4,6,3,4,2,8,10,4,2,9,3,0,1,1,4,2,2,0,1,0,3,0,3,0,1,1,5,0,3,5,3,0,6,6,5,4,6,7,12,12,11,25,55,96,109,101,179,154,218,222,235,206,195,146,217,199,166,172,171,127,94,142,91,95,111,94,80,64,69,82,78,48,71,59,56,51,87,51,101,94,51,43,54,82,86,51,68,53,57,35,42,42,40,49,50,34,48,76,75,42,62,49,37,41,53,30,38,34,50,35,50,32,25,27,25,20,22,24,18,12,13,16,13,13,16,8,22,14,24,10,24,25,18,19,24,16,24,11,17,18,19,25,8,10,11,22,20,17,10,6,12,13,16,15,15,8,19,16,20,29,34,37,40,41,50,27,35,38,63,50,51,32,55,64,64,66,79,59,122,62,71,86,83,56,95,72,95,106,95,138,133,59,69,81,86,87,81,88,111,78,78,100,168,167,221,291,282,252,386,582,733,955,917,572,832,1298,1337,1353,1403,1030,747,812,1147,922,1144,786,762,563,437,432,673,462,516,503,301,288,379,342,286,306,285,273,202,323,314,230,229,190,191,169,249,227,240,214,195,158,175,186,172,118,143,107,116,72,122,117,109,79,72,77,74,90,79,95,80,96,56,40,86,94,126,98,121,99,72,159,138,153,139,127,171,143,194,229,304,301,286,203,251,333,375,415,465,392,353,360,603,717,760,659,791,607,530,719,822,731,659,563,542,433,438,408,431,372,314,271,199,282,297,312,249,231,196,178,259,189,206,178,136,120,114,175,158,167,122,132,119,70,123,108,100,111,86,62,64,110,76,85,69,73,61,67,92,59,90,86,73,66,64,99,115,93,118,76,66,62,93,102,175,187,166,153,142,200,273,255,260,279,315,233,488,523,543,479,456,442,417,570,570,539,704,583,500,488,661,614,624,506,471,405,355,450,418,280,310,242,224,182,261,219,204,150,106,128,78,141,97,98,88,51,58,51,94,83,64,50,50,26,42,47,43,49,44,30,33,24,27,42,66,28,56,23,33,37,22,24,35,21,17,11,26,24,25,22,17,21,16,21,23,11,22,23,14,18,21,19,25,20,24,19,14,18,27,33,31,16,17,16,22,23,24,40,18,9,11,27,20,28,17,17,27,21,23,8,23,22,22,28,23,36,31,33,23,17,21,18,28,28,23,13,16,15,11,23,30,23,22,12,10,20,23,20,15,16,24,10,11,21,12,19,13,8,14,8,18,13,16,4,11,4,6,15,28,21,12,6,13,21,16,11,15,8,19,13,8,19,28,31,23,11,21,13,25,25,19,16,19,16,6,27,23,17,36,28,30,22,53,33,31,40,37,25,23,26,26,33],\"xaxis\":\"x\",\"xbins\":{\"end\":1403.0,\"size\":100,\"start\":0.0},\"yaxis\":\"y\",\"type\":\"histogram\"},{\"legendgroup\":\"New Cases\",\"marker\":{\"color\":\"rgb(31, 119, 180)\"},\"mode\":\"lines\",\"name\":\"New Cases\",\"showlegend\":false,\"x\":[0.0,2.806,5.612,8.418,11.224,14.03,16.836,19.642,22.448,25.254,28.06,30.866,33.672,36.478,39.284,42.09,44.896,47.702,50.508,53.314,56.12,58.926,61.732,64.538,67.344,70.15,72.956,75.762,78.568,81.374,84.18,86.986,89.792,92.598,95.404,98.21,101.016,103.822,106.628,109.434,112.24,115.046,117.852,120.658,123.464,126.27,129.076,131.882,134.688,137.494,140.3,143.106,145.912,148.718,151.524,154.33,157.136,159.942,162.748,165.554,168.36,171.166,173.972,176.778,179.584,182.39,185.196,188.002,190.808,193.614,196.42,199.226,202.032,204.838,207.644,210.45,213.256,216.062,218.868,221.674,224.48,227.286,230.092,232.898,235.704,238.51,241.316,244.122,246.928,249.734,252.54,255.346,258.152,260.958,263.764,266.57,269.376,272.182,274.988,277.794,280.6,283.406,286.212,289.018,291.824,294.63,297.436,300.242,303.048,305.854,308.66,311.466,314.272,317.078,319.884,322.69,325.496,328.302,331.108,333.914,336.72,339.526,342.332,345.138,347.944,350.75,353.556,356.362,359.168,361.974,364.78,367.586,370.392,373.198,376.004,378.81,381.616,384.422,387.228,390.034,392.84,395.646,398.452,401.258,404.064,406.87,409.676,412.482,415.288,418.094,420.9,423.706,426.512,429.318,432.124,434.93,437.736,440.542,443.348,446.154,448.96,451.766,454.572,457.378,460.184,462.99,465.796,468.602,471.408,474.214,477.02,479.826,482.632,485.438,488.244,491.05,493.856,496.662,499.468,502.274,505.08,507.886,510.692,513.498,516.304,519.11,521.916,524.722,527.528,530.334,533.14,535.946,538.752,541.558,544.364,547.17,549.976,552.782,555.588,558.394,561.2,564.006,566.812,569.618,572.424,575.23,578.036,580.842,583.648,586.454,589.26,592.066,594.872,597.678,600.484,603.29,606.096,608.902,611.708,614.514,617.32,620.126,622.932,625.738,628.544,631.35,634.156,636.962,639.768,642.574,645.38,648.186,650.992,653.798,656.604,659.41,662.216,665.022,667.828,670.634,673.44,676.246,679.052,681.858,684.664,687.47,690.276,693.082,695.888,698.694,701.5,704.306,707.112,709.918,712.724,715.53,718.336,721.142,723.948,726.754,729.56,732.366,735.172,737.978,740.784,743.59,746.396,749.202,752.008,754.814,757.62,760.426,763.232,766.038,768.844,771.65,774.456,777.262,780.068,782.874,785.68,788.486,791.292,794.098,796.904,799.71,802.516,805.322,808.128,810.934,813.74,816.546,819.352,822.158,824.964,827.77,830.576,833.382,836.188,838.994,841.8,844.606,847.412,850.218,853.024,855.83,858.636,861.442,864.248,867.054,869.86,872.666,875.472,878.278,881.084,883.89,886.696,889.502,892.308,895.114,897.92,900.726,903.532,906.338,909.144,911.95,914.756,917.562,920.368,923.174,925.98,928.786,931.592,934.398,937.204,940.01,942.816,945.622,948.428,951.234,954.04,956.846,959.652,962.458,965.264,968.07,970.876,973.682,976.488,979.294,982.1,984.906,987.712,990.518,993.324,996.13,998.936,1001.742,1004.548,1007.354,1010.16,1012.966,1015.772,1018.578,1021.384,1024.19,1026.996,1029.802,1032.608,1035.414,1038.22,1041.026,1043.832,1046.638,1049.444,1052.25,1055.056,1057.862,1060.668,1063.474,1066.28,1069.086,1071.892,1074.698,1077.504,1080.31,1083.116,1085.922,1088.728,1091.534,1094.34,1097.146,1099.952,1102.758,1105.564,1108.37,1111.176,1113.982,1116.788,1119.594,1122.4,1125.206,1128.012,1130.818,1133.624,1136.43,1139.236,1142.042,1144.848,1147.654,1150.46,1153.266,1156.072,1158.878,1161.684,1164.49,1167.296,1170.102,1172.908,1175.714,1178.52,1181.326,1184.132,1186.938,1189.744,1192.55,1195.356,1198.162,1200.968,1203.774,1206.58,1209.386,1212.192,1214.998,1217.804,1220.61,1223.416,1226.222,1229.028,1231.834,1234.64,1237.446,1240.252,1243.058,1245.864,1248.67,1251.476,1254.282,1257.088,1259.894,1262.7,1265.506,1268.312,1271.118,1273.924,1276.73,1279.536,1282.342,1285.148,1287.954,1290.76,1293.566,1296.372,1299.178,1301.984,1304.79,1307.596,1310.402,1313.208,1316.014,1318.82,1321.626,1324.432,1327.238,1330.044,1332.85,1335.656,1338.462,1341.268,1344.074,1346.88,1349.686,1352.492,1355.298,1358.104,1360.91,1363.716,1366.522,1369.328,1372.134,1374.94,1377.746,1380.552,1383.358,1386.164,1388.97,1391.776,1394.582,1397.388,1400.194],\"xaxis\":\"x\",\"y\":[0.004531548877286144,0.004662413526094329,0.004781981371892253,0.004889454445487928,0.0049841629002951165,0.005065574246943349,0.005133299953111764,0.005187099274428095,0.005226880257558288,0.005252697933094793,0.005264749790887886,0.005263368701492836,0.005249013512057414,0.005222257601164082,0.005183775723152195,0.005134329506988666,0.005074751997014047,0.005005931632531895,0.004928796060391528,0.004844296160050946,0.004753390635130091,0.004657031490559915,0.004556150671767942,0.004451648093780469,0.004344381235645726,0.004235156421195371,0.004124721852814333,0.00401376241240175,0.003902896194705159,0.003792672694081269,0.003683572527580724,0.0035760085458732436,0.0034703281594150263,0.0033668166905981276,0.0032657015533187135,0.0031671570591010243,0.0030713096530479134,0.002978243392705548,0.0028880054975498454,0.0028006118152580782,0.0027160520722135967,0.0026342947987998836,0.0025552918440029824,0.002478982417763646,0.002405296622599908,0.0023341584575724845,0.002265488297129861,0.002199204864322469,0.0021352267320267834,0.0020734733970049915,0.0020138659798088873,0.001956327608779724,0.0019007835488648334,0.0018471611359042062,0.0017953895747356004,0.001745399655270625,0.0016971234349756358,0.0016504939293346822,0.001605444844255852,0.0015619103763742461,0.0015198250991430855,0.0014791239447965463,0.0014397422849789009,0.001401616106284531,0.001364682271315923,0.001328878851264459,0.001294145512527383,0.0012604239375227644,0.001227658258638089,0.0011957954840946014,0.0011647858953418577,0.0011345833973007062,0.0011051458052112819,0.00107643505486381,0.001048417326432902,0.0010210630758358324,0.0009943469713310936,0.000968247736811127,0.0009427479067817901,0.0009178335012363536,0.000893493631418877,0.0008697200497476082,0.0008465066588741256,0.0008238489959524114,0.0008017437086719415,0.0007801880394801148,0.0007591793337138186,0.0007387145861269498,0.0007187900386062168,0.0006994008397905681,0.0006805407749373085,0.0006622020718056943,0.0006443752856521731,0.0006270492637473909,0.000610211187225055,0.0005938466856421158,0.0005779400174443796,0.0005624743076553148,0.0005474318325897332,0.0005327943402741148,0.0005185433945529878,0.0005046607305814816,0.0004911286095389117,0.0004779301609236027,0.0004650497016693045,0.0004524730225113349,0.0004401876334705152,0.00042818296195288507,0.0004164504987171881,0.000404983888773169,0.00039377896607631504,0.00038283373261723864,0.00037214828411087186,0.000361724685925068,0.00035156680411215294,0.0003416800973936458,0.0003320713766818687,0.00032274853919776877,0.0003137202844681307,0.0003049958194728417,0.0002965845599880671,0.00028849583476439676,0.0002807385986251794,0.0002733211599069088,0.0002662509269284404,0.0002595341774053994,0.00025317585395336604,0.0002471793880765742,0.000241546554340345,0.00023627735579128588,0.0002313699411286848,0.0002268205536461863,0.00022262351155187516,0.0002187712189291608,0.00021525420630888234,0.000212061199570917,0.00020917921566673595,0.000206593683438845,0.0002042885875971236,0.00020224663368689782,0.00020044943164460106,0.00019887769528367897,0.00019751145479048656,0.00019633027904593145,0.00019531350433605715,0.00019444046578897262,0.00019369072769359578,0.0001930443087351113,0.00019248189813945838,0.00019198505876889187,0.00019153641336360877,0.00019111981038696393,0.0001907204663051005,0.00019032508161139394,0.00018992192848171836,0.0001895009086025854,0.00018905358043018773,0.00018857315589004928,0.00018805446728737578,0.00018749390593910054,0.0001868893347320129,0.00018623997743087725,0.00018554628808281745,0.00018480980427049116,0.00018403298824297515,0.00018321906009214131,0.0001823718271422426,0.000181495513586396,0.0001805945941466291,0.0001796736351704031,0.0001787371461266764,0.00017778944395240408,0.00017683453215150858,0.0001758759959887954,0.0001749169145760558,0.00017395979013938413,0.0001730064943047838,0.00017205823085829355,0.00017111551413699375,0.0001701781619928505,0.00016924530214159847,0.00016831539065789055,0.0001673862413954892,0.00016645506518348497,0.0001655185177600487,0.00016457275553632074,0.00016361349841685437,0.00016263609902273095,0.00016163561775439113,0.00016060690318176558,0.00015954467725162684,0.00015844362475270115,0.0001572984863788187,0.00015610415458452596,0.00015485577124533175,0.00015354882592868066,0.00015217925336699476,0.00015074352851738245,0.00014923875741110855,0.00014766276185629957,0.0001460141559746519,0.0001442924125395441,0.00014249791714799725,0.00014063200840741766,0.0001386970025506461,0.0001366962012056518,0.00013463388143090707,0.00013251526757162733,0.00013034648497969566,0.00012813449615240482,0.00012588702036148383,0.00012361243834259366,0.00012131968407512949,0.00011901812608244107,0.00011671744100538316,0.0001144274824323759,0.00011215814809573487,0.00010991924856015812,0.00010772038043302581,0.00010557080692066663,0.00010347934824799152,0.00010145428406354171,9.950326948484199e-05,9.7633265920146e-05,9.585048725489359e-05,9.41603614386008e-05,9.25675069749387e-05,9.107572332804514e-05,8.96879938333141e-05,8.840649935954321e-05,8.723264072595633e-05,8.616706774194327e-05,8.520971271376263e-05,8.435982634965205e-05,8.361601418588046e-05,8.297627193901052e-05,8.243801854700861e-05,8.19981260729422e-05,8.16529460860909e-05,8.139833258104615e-05,8.122966192023452e-05,8.114185066484533e-05,8.11293724714889e-05,8.118627545882072e-05,8.130620157639064e-05,8.148240952912154e-05,8.170780272308856e-05,8.197496350574555e-05,8.227619468641796e-05,8.260356895609028e-05,8.294898639912955e-05,8.330423982689584e-05,8.366108718964694e-05,8.401132986495914e-05,8.43468952036027e-05,8.465992136094167e-05,8.494284217366891e-05,8.518846967389924e-05,8.539007177599232e-05,8.554144273094595e-05,8.563696411785813e-05,8.567165442505504e-05,8.56412056528681e-05,8.554200582882706e-05,8.537114684346461e-05,8.512641756749852e-05,8.480628277374036e-05,8.440984893419137e-05,8.393681846975556e-05,8.338743447413476e-05,8.276241829503068e-05,8.206290261883731e-05,8.129036285806673e-05,8.044654967717836e-05,7.95334254106812e-05,7.855310693076499e-05,7.750781721848708e-05,7.63998474951999e-05,7.523153129571616e-05,7.400523133093628e-05,7.272333941674722e-05,7.138828916071968e-05,7.000258052162151e-05,6.856881481171152e-05,6.70897382194971e-05,6.556829151034003e-05,6.40076632303688e-05,6.241134350862898e-05,6.0783175432487246e-05,5.9127400967097624e-05,5.744869850211594e-05,5.5752209334405764e-05,5.4043550726763995e-05,5.2328813608442504e-05,5.061454348882335e-05,4.890770372357514e-05,4.7215620883314076e-05,4.55459126070732e-05,4.390639895483893e-05,4.2304998883161894e-05,4.0749614034275024e-05,3.9248002532648435e-05,3.78076459060317e-05,3.643561257609399e-05,3.5138421585325435e-05,3.392191033406777e-05,3.279111009041184e-05,3.175013290619224e-05,3.0802073328310134e-05,2.9948927943749843e-05,2.919153535001649e-05,2.8529538614441155e-05,2.7961371692544336e-05,2.748427063604881e-05,2.709430975510647e-05,2.6786462227407392e-05,2.6554683989561215e-05,2.639201912322983e-05,2.6290724378325566e-05,2.6242409974599625e-05,2.6238193405111688e-05,2.626886264154039e-05,2.6325044920062515e-05,2.6397377172296472e-05,2.6476674159894266e-05,2.6554090471801844e-05,2.6621272744875955e-05,2.667049876348521e-05,2.6694800471466752e-05,2.668806837783518e-05,2.6645135341826115e-05,2.65618382680115e-05,2.6435056812575657e-05,2.626272878155513e-05,2.6043842475473317e-05,2.5778406787710575e-05,2.546740038267532e-05,2.511270175237848e-05,2.47170023660408e-05,2.4283705478392458e-05,2.3816813441790397e-05,2.3320806570563482e-05,2.2800516730411744e-05,2.2260998870412412e-05,2.1707403681188768e-05,2.114485445270965e-05,2.057833102319724e-05,2.0012563462342527e-05,1.945193782436005e-05,1.8900415947414968e-05,1.8361470874686376e-05,1.7838039038706137e-05,1.733248989522787e-05,1.684661322682325e-05,1.638162387104044e-05,1.5938183174708632e-05,1.551643604603677e-05,1.5116062080256182e-05,1.4736338882650556e-05,1.4376215413805936e-05,1.4034392943372529e-05,1.3709411026571332e-05,1.3399735816319752e-05,1.3103847995483288e-05,1.282032765864062e-05,1.2547933589077212e-05,1.228567456070098e-05,1.2032870540527339e-05,1.1789201967962635e-05,1.155474563355607e-05,1.1329996062314243e-05,1.1115871714432303e-05,1.0913705738324814e-05,1.0725221436006853e-05,1.0552493018313644e-05,1.0397892626843306e-05,1.0264024971355738e-05,1.0153651267154251e-05,1.0069604449336356e-05,1.0014697883566016e-05,9.991629981271434e-06,1.0002887257228703e-05,1.0050648436870381e-05,1.0136692228030025e-05,1.026231131696892e-05,1.0428235032261098e-05,1.0634562944302905e-05,1.0880711435764698e-05,1.1165374993165416e-05,1.1486503636962907e-05,1.1841297533271201e-05,1.2226219421853096e-05,1.2637025060858116e-05,1.3068811438480166e-05,1.3516082045915762e-05,1.39728280562251e-05,1.4432623822078687e-05,1.4888734704398494e-05,1.5334234886013162e-05,1.5762132521583475e-05,1.6165499338185175e-05,1.653760163953879e-05,1.6872029588446707e-05,1.716282165159384e-05,1.74045811907279e-05,1.759258237349069e-05,1.772286285170849e-05,1.7792301007388833e-05,1.7798675986533478e-05,1.7740709214889364e-05,1.761808660232019e-05,1.743146117625719e-05,1.718243642131616e-05,1.6873531123029362e-05,1.6508127000663013e-05,1.6090400850540925e-05,1.5625243292519276e-05,1.5118166506319798e-05,1.4575203552630247e-05,1.4002801991106835e-05,1.340771453232235e-05,1.2796889395704077e-05,1.2177362896596246e-05,1.1556156561955331e-05,1.0940180787762528e-05,1.0336146716004904e-05,9.750487640414136e-06,9.189290864055975e-06,8.658240544220033e-06,8.162571685907544e-06,7.707035098123266e-06,7.295872818697452e-06,6.932803252616247e-06,6.6210150622539934e-06,6.363168699082735e-06,6.161404376199478e-06,6.017355247541104e-06,5.932164578786724e-06,5.906505760539433e-06,5.94060411878803e-06,6.03425961219857e-06,6.186869661292173e-06,6.397451521822642e-06,6.664663784898792e-06,6.986826751645839e-06,7.361941583637725e-06,7.787708266474678e-06,8.261542538710261e-06,8.780592029327183e-06,9.341751913029037e-06,9.941680433961952e-06,1.0576814666401323e-05,1.1243386877594153e-05,1.1937441836081827e-05,1.2654855371525486e-05,1.339135444248765e-05,1.4142538909832854e-05,1.4903905148170369e-05,1.56708715584546e-05,1.6438805973435816e-05,1.7203054875654833e-05,1.7958974276290286e-05,1.870196203333446e-05,1.942749132012434e-05,2.0131144891035135e-05,2.080864973115238e-05,2.1455911622226313e-05,2.2069049109742157e-05,2.2644426317392062e-05,2.3178684027771525e-05,2.3668768434064716e-05,2.4111956969167016e-05,2.4505880638266428e-05,2.4848542320093408e-05,2.5138330561949814e-05,2.5374028474464555e-05,2.5554817432997955e-05,2.568027541176813e-05,2.575036991094676e-05,2.5765445581849363e-05,2.5726206805584607e-05,2.5633695629970114e-05,2.5489265611502003e-05,2.5294552236859318e-05,2.5051440705253786e-05,2.476203193298338e-05,2.442860768994686e-05,2.4053595791167e-05,2.3639536242776442e-05,2.3189049181532125e-05,2.270480535177939e-05,2.2189499737803785e-05,2.164582881834199e-05,2.1076471740758408e-05,2.0484075533187678e-05,1.9871244292555464e-05,1.9240532113707604e-05,1.859443936838456e-05,1.7935411810090945e-05,1.7265841878326097e-05],\"yaxis\":\"y\",\"type\":\"scatter\"}],                        {\"barmode\":\"overlay\",\"hovermode\":\"closest\",\"legend\":{\"traceorder\":\"reversed\"},\"xaxis\":{\"anchor\":\"y2\",\"domain\":[0.0,1.0],\"zeroline\":false,\"title\":{\"text\":\"Cases\"}},\"yaxis\":{\"anchor\":\"free\",\"domain\":[0.0,1],\"position\":0.0},\"template\":{\"data\":{\"histogram2dcontour\":[{\"type\":\"histogram2dcontour\",\"colorbar\":{\"outlinewidth\":0,\"ticks\":\"\"},\"colorscale\":[[0.0,\"#0d0887\"],[0.1111111111111111,\"#46039f\"],[0.2222222222222222,\"#7201a8\"],[0.3333333333333333,\"#9c179e\"],[0.4444444444444444,\"#bd3786\"],[0.5555555555555556,\"#d8576b\"],[0.6666666666666666,\"#ed7953\"],[0.7777777777777778,\"#fb9f3a\"],[0.8888888888888888,\"#fdca26\"],[1.0,\"#f0f921\"]]}],\"choropleth\":[{\"type\":\"choropleth\",\"colorbar\":{\"outlinewidth\":0,\"ticks\":\"\"}}],\"histogram2d\":[{\"type\":\"histogram2d\",\"colorbar\":{\"outlinewidth\":0,\"ticks\":\"\"},\"colorscale\":[[0.0,\"#0d0887\"],[0.1111111111111111,\"#46039f\"],[0.2222222222222222,\"#7201a8\"],[0.3333333333333333,\"#9c179e\"],[0.4444444444444444,\"#bd3786\"],[0.5555555555555556,\"#d8576b\"],[0.6666666666666666,\"#ed7953\"],[0.7777777777777778,\"#fb9f3a\"],[0.8888888888888888,\"#fdca26\"],[1.0,\"#f0f921\"]]}],\"heatmap\":[{\"type\":\"heatmap\",\"colorbar\":{\"outlinewidth\":0,\"ticks\":\"\"},\"colorscale\":[[0.0,\"#0d0887\"],[0.1111111111111111,\"#46039f\"],[0.2222222222222222,\"#7201a8\"],[0.3333333333333333,\"#9c179e\"],[0.4444444444444444,\"#bd3786\"],[0.5555555555555556,\"#d8576b\"],[0.6666666666666666,\"#ed7953\"],[0.7777777777777778,\"#fb9f3a\"],[0.8888888888888888,\"#fdca26\"],[1.0,\"#f0f921\"]]}],\"heatmapgl\":[{\"type\":\"heatmapgl\",\"colorbar\":{\"outlinewidth\":0,\"ticks\":\"\"},\"colorscale\":[[0.0,\"#0d0887\"],[0.1111111111111111,\"#46039f\"],[0.2222222222222222,\"#7201a8\"],[0.3333333333333333,\"#9c179e\"],[0.4444444444444444,\"#bd3786\"],[0.5555555555555556,\"#d8576b\"],[0.6666666666666666,\"#ed7953\"],[0.7777777777777778,\"#fb9f3a\"],[0.8888888888888888,\"#fdca26\"],[1.0,\"#f0f921\"]]}],\"contourcarpet\":[{\"type\":\"contourcarpet\",\"colorbar\":{\"outlinewidth\":0,\"ticks\":\"\"}}],\"contour\":[{\"type\":\"contour\",\"colorbar\":{\"outlinewidth\":0,\"ticks\":\"\"},\"colorscale\":[[0.0,\"#0d0887\"],[0.1111111111111111,\"#46039f\"],[0.2222222222222222,\"#7201a8\"],[0.3333333333333333,\"#9c179e\"],[0.4444444444444444,\"#bd3786\"],[0.5555555555555556,\"#d8576b\"],[0.6666666666666666,\"#ed7953\"],[0.7777777777777778,\"#fb9f3a\"],[0.8888888888888888,\"#fdca26\"],[1.0,\"#f0f921\"]]}],\"surface\":[{\"type\":\"surface\",\"colorbar\":{\"outlinewidth\":0,\"ticks\":\"\"},\"colorscale\":[[0.0,\"#0d0887\"],[0.1111111111111111,\"#46039f\"],[0.2222222222222222,\"#7201a8\"],[0.3333333333333333,\"#9c179e\"],[0.4444444444444444,\"#bd3786\"],[0.5555555555555556,\"#d8576b\"],[0.6666666666666666,\"#ed7953\"],[0.7777777777777778,\"#fb9f3a\"],[0.8888888888888888,\"#fdca26\"],[1.0,\"#f0f921\"]]}],\"mesh3d\":[{\"type\":\"mesh3d\",\"colorbar\":{\"outlinewidth\":0,\"ticks\":\"\"}}],\"scatter\":[{\"fillpattern\":{\"fillmode\":\"overlay\",\"size\":10,\"solidity\":0.2},\"type\":\"scatter\"}],\"parcoords\":[{\"type\":\"parcoords\",\"line\":{\"colorbar\":{\"outlinewidth\":0,\"ticks\":\"\"}}}],\"scatterpolargl\":[{\"type\":\"scatterpolargl\",\"marker\":{\"colorbar\":{\"outlinewidth\":0,\"ticks\":\"\"}}}],\"bar\":[{\"error_x\":{\"color\":\"#2a3f5f\"},\"error_y\":{\"color\":\"#2a3f5f\"},\"marker\":{\"line\":{\"color\":\"#E5ECF6\",\"width\":0.5},\"pattern\":{\"fillmode\":\"overlay\",\"size\":10,\"solidity\":0.2}},\"type\":\"bar\"}],\"scattergeo\":[{\"type\":\"scattergeo\",\"marker\":{\"colorbar\":{\"outlinewidth\":0,\"ticks\":\"\"}}}],\"scatterpolar\":[{\"type\":\"scatterpolar\",\"marker\":{\"colorbar\":{\"outlinewidth\":0,\"ticks\":\"\"}}}],\"histogram\":[{\"marker\":{\"pattern\":{\"fillmode\":\"overlay\",\"size\":10,\"solidity\":0.2}},\"type\":\"histogram\"}],\"scattergl\":[{\"type\":\"scattergl\",\"marker\":{\"colorbar\":{\"outlinewidth\":0,\"ticks\":\"\"}}}],\"scatter3d\":[{\"type\":\"scatter3d\",\"line\":{\"colorbar\":{\"outlinewidth\":0,\"ticks\":\"\"}},\"marker\":{\"colorbar\":{\"outlinewidth\":0,\"ticks\":\"\"}}}],\"scattermapbox\":[{\"type\":\"scattermapbox\",\"marker\":{\"colorbar\":{\"outlinewidth\":0,\"ticks\":\"\"}}}],\"scatterternary\":[{\"type\":\"scatterternary\",\"marker\":{\"colorbar\":{\"outlinewidth\":0,\"ticks\":\"\"}}}],\"scattercarpet\":[{\"type\":\"scattercarpet\",\"marker\":{\"colorbar\":{\"outlinewidth\":0,\"ticks\":\"\"}}}],\"carpet\":[{\"aaxis\":{\"endlinecolor\":\"#2a3f5f\",\"gridcolor\":\"white\",\"linecolor\":\"white\",\"minorgridcolor\":\"white\",\"startlinecolor\":\"#2a3f5f\"},\"baxis\":{\"endlinecolor\":\"#2a3f5f\",\"gridcolor\":\"white\",\"linecolor\":\"white\",\"minorgridcolor\":\"white\",\"startlinecolor\":\"#2a3f5f\"},\"type\":\"carpet\"}],\"table\":[{\"cells\":{\"fill\":{\"color\":\"#EBF0F8\"},\"line\":{\"color\":\"white\"}},\"header\":{\"fill\":{\"color\":\"#C8D4E3\"},\"line\":{\"color\":\"white\"}},\"type\":\"table\"}],\"barpolar\":[{\"marker\":{\"line\":{\"color\":\"#E5ECF6\",\"width\":0.5},\"pattern\":{\"fillmode\":\"overlay\",\"size\":10,\"solidity\":0.2}},\"type\":\"barpolar\"}],\"pie\":[{\"automargin\":true,\"type\":\"pie\"}]},\"layout\":{\"autotypenumbers\":\"strict\",\"colorway\":[\"#636efa\",\"#EF553B\",\"#00cc96\",\"#ab63fa\",\"#FFA15A\",\"#19d3f3\",\"#FF6692\",\"#B6E880\",\"#FF97FF\",\"#FECB52\"],\"font\":{\"color\":\"#2a3f5f\"},\"hovermode\":\"closest\",\"hoverlabel\":{\"align\":\"left\"},\"paper_bgcolor\":\"white\",\"plot_bgcolor\":\"#E5ECF6\",\"polar\":{\"bgcolor\":\"#E5ECF6\",\"angularaxis\":{\"gridcolor\":\"white\",\"linecolor\":\"white\",\"ticks\":\"\"},\"radialaxis\":{\"gridcolor\":\"white\",\"linecolor\":\"white\",\"ticks\":\"\"}},\"ternary\":{\"bgcolor\":\"#E5ECF6\",\"aaxis\":{\"gridcolor\":\"white\",\"linecolor\":\"white\",\"ticks\":\"\"},\"baxis\":{\"gridcolor\":\"white\",\"linecolor\":\"white\",\"ticks\":\"\"},\"caxis\":{\"gridcolor\":\"white\",\"linecolor\":\"white\",\"ticks\":\"\"}},\"coloraxis\":{\"colorbar\":{\"outlinewidth\":0,\"ticks\":\"\"}},\"colorscale\":{\"sequential\":[[0.0,\"#0d0887\"],[0.1111111111111111,\"#46039f\"],[0.2222222222222222,\"#7201a8\"],[0.3333333333333333,\"#9c179e\"],[0.4444444444444444,\"#bd3786\"],[0.5555555555555556,\"#d8576b\"],[0.6666666666666666,\"#ed7953\"],[0.7777777777777778,\"#fb9f3a\"],[0.8888888888888888,\"#fdca26\"],[1.0,\"#f0f921\"]],\"sequentialminus\":[[0.0,\"#0d0887\"],[0.1111111111111111,\"#46039f\"],[0.2222222222222222,\"#7201a8\"],[0.3333333333333333,\"#9c179e\"],[0.4444444444444444,\"#bd3786\"],[0.5555555555555556,\"#d8576b\"],[0.6666666666666666,\"#ed7953\"],[0.7777777777777778,\"#fb9f3a\"],[0.8888888888888888,\"#fdca26\"],[1.0,\"#f0f921\"]],\"diverging\":[[0,\"#8e0152\"],[0.1,\"#c51b7d\"],[0.2,\"#de77ae\"],[0.3,\"#f1b6da\"],[0.4,\"#fde0ef\"],[0.5,\"#f7f7f7\"],[0.6,\"#e6f5d0\"],[0.7,\"#b8e186\"],[0.8,\"#7fbc41\"],[0.9,\"#4d9221\"],[1,\"#276419\"]]},\"xaxis\":{\"gridcolor\":\"white\",\"linecolor\":\"white\",\"ticks\":\"\",\"title\":{\"standoff\":15},\"zerolinecolor\":\"white\",\"automargin\":true,\"zerolinewidth\":2},\"yaxis\":{\"gridcolor\":\"white\",\"linecolor\":\"white\",\"ticks\":\"\",\"title\":{\"standoff\":15},\"zerolinecolor\":\"white\",\"automargin\":true,\"zerolinewidth\":2},\"scene\":{\"xaxis\":{\"backgroundcolor\":\"#E5ECF6\",\"gridcolor\":\"white\",\"linecolor\":\"white\",\"showbackground\":true,\"ticks\":\"\",\"zerolinecolor\":\"white\",\"gridwidth\":2},\"yaxis\":{\"backgroundcolor\":\"#E5ECF6\",\"gridcolor\":\"white\",\"linecolor\":\"white\",\"showbackground\":true,\"ticks\":\"\",\"zerolinecolor\":\"white\",\"gridwidth\":2},\"zaxis\":{\"backgroundcolor\":\"#E5ECF6\",\"gridcolor\":\"white\",\"linecolor\":\"white\",\"showbackground\":true,\"ticks\":\"\",\"zerolinecolor\":\"white\",\"gridwidth\":2}},\"shapedefaults\":{\"line\":{\"color\":\"#2a3f5f\"}},\"annotationdefaults\":{\"arrowcolor\":\"#2a3f5f\",\"arrowhead\":0,\"arrowwidth\":1},\"geo\":{\"bgcolor\":\"white\",\"landcolor\":\"#E5ECF6\",\"subunitcolor\":\"white\",\"showland\":true,\"showlakes\":true,\"lakecolor\":\"white\"},\"title\":{\"x\":0.05},\"mapbox\":{\"style\":\"light\"}}},\"title\":{\"text\":\"Distribution of Daily New Cases\"}},                        {\"responsive\": true}                    ).then(function(){\n",
       "                            \n",
       "var gd = document.getElementById('29fe739d-dd28-4351-acc8-d696922aeee7');\n",
       "var x = new MutationObserver(function (mutations, observer) {{\n",
       "        var display = window.getComputedStyle(gd).display;\n",
       "        if (!display || display === 'none') {{\n",
       "            console.log([gd, 'removed!']);\n",
       "            Plotly.purge(gd);\n",
       "            observer.disconnect();\n",
       "        }}\n",
       "}});\n",
       "\n",
       "// Listen for the removal of the full notebook cells\n",
       "var notebookContainer = gd.closest('#notebook-container');\n",
       "if (notebookContainer) {{\n",
       "    x.observe(notebookContainer, {childList: true});\n",
       "}}\n",
       "\n",
       "// Listen for the clearing of the current output cell\n",
       "var outputEl = gd.closest('.output');\n",
       "if (outputEl) {{\n",
       "    x.observe(outputEl, {childList: true});\n",
       "}}\n",
       "\n",
       "                        })                };                });            </script>        </div>"
      ]
     },
     "metadata": {},
     "output_type": "display_data"
    }
   ],
   "source": [
    "fig = ff.create_distplot(\n",
    "    [cases['New Cases']], \n",
    "    ['New Cases'], \n",
    "    bin_size=[100],\n",
    "    show_rug=False\n",
    ")\n",
    "\n",
    "fig.update_xaxes(title_text=\"Cases\")\n",
    "fig.update_layout(title_text='Distribution of Daily New Cases')\n",
    "\n",
    "fig.show()"
   ]
  },
  {
   "attachments": {},
   "cell_type": "markdown",
   "metadata": {},
   "source": [
    "### Active Cases & Positivity Rate"
   ]
  },
  {
   "cell_type": "code",
   "execution_count": 187,
   "metadata": {},
   "outputs": [
    {
     "data": {
      "application/vnd.plotly.v1+json": {
       "config": {
        "plotlyServerURL": "https://plot.ly"
       },
       "data": [
        {
         "mode": "lines+markers",
         "name": "Active Cases",
         "type": "scatter",
         "x": [
          "03/2020",
          "04/2020",
          "05/2020",
          "06/2020",
          "07/2020",
          "08/2020",
          "09/2020",
          "10/2020",
          "11/2020",
          "12/2020",
          "01/2021",
          "02/2021",
          "03/2021",
          "04/2021",
          "05/2021",
          "06/2021",
          "07/2021",
          "08/2021",
          "09/2021",
          "10/2021",
          "11/2021",
          "12/2021",
          "01/2022",
          "02/2022",
          "03/2022",
          "04/2022",
          "05/2022",
          "06/2022",
          "07/2022",
          "08/2022",
          "09/2022",
          "10/2022",
          "11/2022",
          "12/2022",
          "01/2023"
         ],
         "y": [
          167,
          110,
          75,
          21,
          150,
          471,
          462,
          1825,
          2071,
          1434,
          2676,
          2720,
          836,
          331,
          66,
          45,
          1847,
          656,
          328,
          215,
          1188,
          11441,
          2972,
          692,
          5640,
          3528,
          1410,
          6231,
          1775,
          127,
          275,
          336,
          190,
          284,
          427
         ]
        },
        {
         "mode": "lines+markers",
         "name": "Positivity Rate",
         "type": "scatter",
         "x": [
          "03/2020",
          "04/2020",
          "05/2020",
          "06/2020",
          "07/2020",
          "08/2020",
          "09/2020",
          "10/2020",
          "11/2020",
          "12/2020",
          "01/2021",
          "02/2021",
          "03/2021",
          "04/2021",
          "05/2021",
          "06/2021",
          "07/2021",
          "08/2021",
          "09/2021",
          "10/2021",
          "11/2021",
          "12/2021",
          "01/2022",
          "02/2022",
          "03/2022",
          "04/2022",
          "05/2022",
          "06/2022",
          "07/2022",
          "08/2022",
          "09/2022",
          "10/2022",
          "11/2022",
          "12/2022",
          "01/2023"
         ],
         "xaxis": "x",
         "y": [
          null,
          null,
          null,
          null,
          1.0316875460574797,
          1.8255387221228947,
          1.834561578815888,
          3.5875733384630184,
          4.207624465946908,
          3.3439380316757727,
          5.229351250497038,
          5.2940700403500855,
          6.010532883147387,
          2.1721502389537792,
          0.4068511728364056,
          0.14823049842505095,
          3.467847800013222,
          1.8701277987120444,
          1.037897038066837,
          0.9066150648606034,
          2.7616346645590215,
          8.898189365595217,
          11.410435863080757,
          6.829436830588506,
          12.374081336346899,
          15.882850634559063,
          7.301703163017032,
          20.14889529298751,
          18.420502688223113,
          4.963645964498964,
          3.722818208176283,
          4.120155524896526,
          3.8138231631382316,
          5.994280686317642,
          8.588261953319737
         ],
         "yaxis": "y2"
        }
       ],
       "layout": {
        "template": {
         "data": {
          "bar": [
           {
            "error_x": {
             "color": "#2a3f5f"
            },
            "error_y": {
             "color": "#2a3f5f"
            },
            "marker": {
             "line": {
              "color": "#E5ECF6",
              "width": 0.5
             },
             "pattern": {
              "fillmode": "overlay",
              "size": 10,
              "solidity": 0.2
             }
            },
            "type": "bar"
           }
          ],
          "barpolar": [
           {
            "marker": {
             "line": {
              "color": "#E5ECF6",
              "width": 0.5
             },
             "pattern": {
              "fillmode": "overlay",
              "size": 10,
              "solidity": 0.2
             }
            },
            "type": "barpolar"
           }
          ],
          "carpet": [
           {
            "aaxis": {
             "endlinecolor": "#2a3f5f",
             "gridcolor": "white",
             "linecolor": "white",
             "minorgridcolor": "white",
             "startlinecolor": "#2a3f5f"
            },
            "baxis": {
             "endlinecolor": "#2a3f5f",
             "gridcolor": "white",
             "linecolor": "white",
             "minorgridcolor": "white",
             "startlinecolor": "#2a3f5f"
            },
            "type": "carpet"
           }
          ],
          "choropleth": [
           {
            "colorbar": {
             "outlinewidth": 0,
             "ticks": ""
            },
            "type": "choropleth"
           }
          ],
          "contour": [
           {
            "colorbar": {
             "outlinewidth": 0,
             "ticks": ""
            },
            "colorscale": [
             [
              0,
              "#0d0887"
             ],
             [
              0.1111111111111111,
              "#46039f"
             ],
             [
              0.2222222222222222,
              "#7201a8"
             ],
             [
              0.3333333333333333,
              "#9c179e"
             ],
             [
              0.4444444444444444,
              "#bd3786"
             ],
             [
              0.5555555555555556,
              "#d8576b"
             ],
             [
              0.6666666666666666,
              "#ed7953"
             ],
             [
              0.7777777777777778,
              "#fb9f3a"
             ],
             [
              0.8888888888888888,
              "#fdca26"
             ],
             [
              1,
              "#f0f921"
             ]
            ],
            "type": "contour"
           }
          ],
          "contourcarpet": [
           {
            "colorbar": {
             "outlinewidth": 0,
             "ticks": ""
            },
            "type": "contourcarpet"
           }
          ],
          "heatmap": [
           {
            "colorbar": {
             "outlinewidth": 0,
             "ticks": ""
            },
            "colorscale": [
             [
              0,
              "#0d0887"
             ],
             [
              0.1111111111111111,
              "#46039f"
             ],
             [
              0.2222222222222222,
              "#7201a8"
             ],
             [
              0.3333333333333333,
              "#9c179e"
             ],
             [
              0.4444444444444444,
              "#bd3786"
             ],
             [
              0.5555555555555556,
              "#d8576b"
             ],
             [
              0.6666666666666666,
              "#ed7953"
             ],
             [
              0.7777777777777778,
              "#fb9f3a"
             ],
             [
              0.8888888888888888,
              "#fdca26"
             ],
             [
              1,
              "#f0f921"
             ]
            ],
            "type": "heatmap"
           }
          ],
          "heatmapgl": [
           {
            "colorbar": {
             "outlinewidth": 0,
             "ticks": ""
            },
            "colorscale": [
             [
              0,
              "#0d0887"
             ],
             [
              0.1111111111111111,
              "#46039f"
             ],
             [
              0.2222222222222222,
              "#7201a8"
             ],
             [
              0.3333333333333333,
              "#9c179e"
             ],
             [
              0.4444444444444444,
              "#bd3786"
             ],
             [
              0.5555555555555556,
              "#d8576b"
             ],
             [
              0.6666666666666666,
              "#ed7953"
             ],
             [
              0.7777777777777778,
              "#fb9f3a"
             ],
             [
              0.8888888888888888,
              "#fdca26"
             ],
             [
              1,
              "#f0f921"
             ]
            ],
            "type": "heatmapgl"
           }
          ],
          "histogram": [
           {
            "marker": {
             "pattern": {
              "fillmode": "overlay",
              "size": 10,
              "solidity": 0.2
             }
            },
            "type": "histogram"
           }
          ],
          "histogram2d": [
           {
            "colorbar": {
             "outlinewidth": 0,
             "ticks": ""
            },
            "colorscale": [
             [
              0,
              "#0d0887"
             ],
             [
              0.1111111111111111,
              "#46039f"
             ],
             [
              0.2222222222222222,
              "#7201a8"
             ],
             [
              0.3333333333333333,
              "#9c179e"
             ],
             [
              0.4444444444444444,
              "#bd3786"
             ],
             [
              0.5555555555555556,
              "#d8576b"
             ],
             [
              0.6666666666666666,
              "#ed7953"
             ],
             [
              0.7777777777777778,
              "#fb9f3a"
             ],
             [
              0.8888888888888888,
              "#fdca26"
             ],
             [
              1,
              "#f0f921"
             ]
            ],
            "type": "histogram2d"
           }
          ],
          "histogram2dcontour": [
           {
            "colorbar": {
             "outlinewidth": 0,
             "ticks": ""
            },
            "colorscale": [
             [
              0,
              "#0d0887"
             ],
             [
              0.1111111111111111,
              "#46039f"
             ],
             [
              0.2222222222222222,
              "#7201a8"
             ],
             [
              0.3333333333333333,
              "#9c179e"
             ],
             [
              0.4444444444444444,
              "#bd3786"
             ],
             [
              0.5555555555555556,
              "#d8576b"
             ],
             [
              0.6666666666666666,
              "#ed7953"
             ],
             [
              0.7777777777777778,
              "#fb9f3a"
             ],
             [
              0.8888888888888888,
              "#fdca26"
             ],
             [
              1,
              "#f0f921"
             ]
            ],
            "type": "histogram2dcontour"
           }
          ],
          "mesh3d": [
           {
            "colorbar": {
             "outlinewidth": 0,
             "ticks": ""
            },
            "type": "mesh3d"
           }
          ],
          "parcoords": [
           {
            "line": {
             "colorbar": {
              "outlinewidth": 0,
              "ticks": ""
             }
            },
            "type": "parcoords"
           }
          ],
          "pie": [
           {
            "automargin": true,
            "type": "pie"
           }
          ],
          "scatter": [
           {
            "fillpattern": {
             "fillmode": "overlay",
             "size": 10,
             "solidity": 0.2
            },
            "type": "scatter"
           }
          ],
          "scatter3d": [
           {
            "line": {
             "colorbar": {
              "outlinewidth": 0,
              "ticks": ""
             }
            },
            "marker": {
             "colorbar": {
              "outlinewidth": 0,
              "ticks": ""
             }
            },
            "type": "scatter3d"
           }
          ],
          "scattercarpet": [
           {
            "marker": {
             "colorbar": {
              "outlinewidth": 0,
              "ticks": ""
             }
            },
            "type": "scattercarpet"
           }
          ],
          "scattergeo": [
           {
            "marker": {
             "colorbar": {
              "outlinewidth": 0,
              "ticks": ""
             }
            },
            "type": "scattergeo"
           }
          ],
          "scattergl": [
           {
            "marker": {
             "colorbar": {
              "outlinewidth": 0,
              "ticks": ""
             }
            },
            "type": "scattergl"
           }
          ],
          "scattermapbox": [
           {
            "marker": {
             "colorbar": {
              "outlinewidth": 0,
              "ticks": ""
             }
            },
            "type": "scattermapbox"
           }
          ],
          "scatterpolar": [
           {
            "marker": {
             "colorbar": {
              "outlinewidth": 0,
              "ticks": ""
             }
            },
            "type": "scatterpolar"
           }
          ],
          "scatterpolargl": [
           {
            "marker": {
             "colorbar": {
              "outlinewidth": 0,
              "ticks": ""
             }
            },
            "type": "scatterpolargl"
           }
          ],
          "scatterternary": [
           {
            "marker": {
             "colorbar": {
              "outlinewidth": 0,
              "ticks": ""
             }
            },
            "type": "scatterternary"
           }
          ],
          "surface": [
           {
            "colorbar": {
             "outlinewidth": 0,
             "ticks": ""
            },
            "colorscale": [
             [
              0,
              "#0d0887"
             ],
             [
              0.1111111111111111,
              "#46039f"
             ],
             [
              0.2222222222222222,
              "#7201a8"
             ],
             [
              0.3333333333333333,
              "#9c179e"
             ],
             [
              0.4444444444444444,
              "#bd3786"
             ],
             [
              0.5555555555555556,
              "#d8576b"
             ],
             [
              0.6666666666666666,
              "#ed7953"
             ],
             [
              0.7777777777777778,
              "#fb9f3a"
             ],
             [
              0.8888888888888888,
              "#fdca26"
             ],
             [
              1,
              "#f0f921"
             ]
            ],
            "type": "surface"
           }
          ],
          "table": [
           {
            "cells": {
             "fill": {
              "color": "#EBF0F8"
             },
             "line": {
              "color": "white"
             }
            },
            "header": {
             "fill": {
              "color": "#C8D4E3"
             },
             "line": {
              "color": "white"
             }
            },
            "type": "table"
           }
          ]
         },
         "layout": {
          "annotationdefaults": {
           "arrowcolor": "#2a3f5f",
           "arrowhead": 0,
           "arrowwidth": 1
          },
          "autotypenumbers": "strict",
          "coloraxis": {
           "colorbar": {
            "outlinewidth": 0,
            "ticks": ""
           }
          },
          "colorscale": {
           "diverging": [
            [
             0,
             "#8e0152"
            ],
            [
             0.1,
             "#c51b7d"
            ],
            [
             0.2,
             "#de77ae"
            ],
            [
             0.3,
             "#f1b6da"
            ],
            [
             0.4,
             "#fde0ef"
            ],
            [
             0.5,
             "#f7f7f7"
            ],
            [
             0.6,
             "#e6f5d0"
            ],
            [
             0.7,
             "#b8e186"
            ],
            [
             0.8,
             "#7fbc41"
            ],
            [
             0.9,
             "#4d9221"
            ],
            [
             1,
             "#276419"
            ]
           ],
           "sequential": [
            [
             0,
             "#0d0887"
            ],
            [
             0.1111111111111111,
             "#46039f"
            ],
            [
             0.2222222222222222,
             "#7201a8"
            ],
            [
             0.3333333333333333,
             "#9c179e"
            ],
            [
             0.4444444444444444,
             "#bd3786"
            ],
            [
             0.5555555555555556,
             "#d8576b"
            ],
            [
             0.6666666666666666,
             "#ed7953"
            ],
            [
             0.7777777777777778,
             "#fb9f3a"
            ],
            [
             0.8888888888888888,
             "#fdca26"
            ],
            [
             1,
             "#f0f921"
            ]
           ],
           "sequentialminus": [
            [
             0,
             "#0d0887"
            ],
            [
             0.1111111111111111,
             "#46039f"
            ],
            [
             0.2222222222222222,
             "#7201a8"
            ],
            [
             0.3333333333333333,
             "#9c179e"
            ],
            [
             0.4444444444444444,
             "#bd3786"
            ],
            [
             0.5555555555555556,
             "#d8576b"
            ],
            [
             0.6666666666666666,
             "#ed7953"
            ],
            [
             0.7777777777777778,
             "#fb9f3a"
            ],
            [
             0.8888888888888888,
             "#fdca26"
            ],
            [
             1,
             "#f0f921"
            ]
           ]
          },
          "colorway": [
           "#636efa",
           "#EF553B",
           "#00cc96",
           "#ab63fa",
           "#FFA15A",
           "#19d3f3",
           "#FF6692",
           "#B6E880",
           "#FF97FF",
           "#FECB52"
          ],
          "font": {
           "color": "#2a3f5f"
          },
          "geo": {
           "bgcolor": "white",
           "lakecolor": "white",
           "landcolor": "#E5ECF6",
           "showlakes": true,
           "showland": true,
           "subunitcolor": "white"
          },
          "hoverlabel": {
           "align": "left"
          },
          "hovermode": "closest",
          "mapbox": {
           "style": "light"
          },
          "paper_bgcolor": "white",
          "plot_bgcolor": "#E5ECF6",
          "polar": {
           "angularaxis": {
            "gridcolor": "white",
            "linecolor": "white",
            "ticks": ""
           },
           "bgcolor": "#E5ECF6",
           "radialaxis": {
            "gridcolor": "white",
            "linecolor": "white",
            "ticks": ""
           }
          },
          "scene": {
           "xaxis": {
            "backgroundcolor": "#E5ECF6",
            "gridcolor": "white",
            "gridwidth": 2,
            "linecolor": "white",
            "showbackground": true,
            "ticks": "",
            "zerolinecolor": "white"
           },
           "yaxis": {
            "backgroundcolor": "#E5ECF6",
            "gridcolor": "white",
            "gridwidth": 2,
            "linecolor": "white",
            "showbackground": true,
            "ticks": "",
            "zerolinecolor": "white"
           },
           "zaxis": {
            "backgroundcolor": "#E5ECF6",
            "gridcolor": "white",
            "gridwidth": 2,
            "linecolor": "white",
            "showbackground": true,
            "ticks": "",
            "zerolinecolor": "white"
           }
          },
          "shapedefaults": {
           "line": {
            "color": "#2a3f5f"
           }
          },
          "ternary": {
           "aaxis": {
            "gridcolor": "white",
            "linecolor": "white",
            "ticks": ""
           },
           "baxis": {
            "gridcolor": "white",
            "linecolor": "white",
            "ticks": ""
           },
           "bgcolor": "#E5ECF6",
           "caxis": {
            "gridcolor": "white",
            "linecolor": "white",
            "ticks": ""
           }
          },
          "title": {
           "x": 0.05
          },
          "xaxis": {
           "automargin": true,
           "gridcolor": "white",
           "linecolor": "white",
           "ticks": "",
           "title": {
            "standoff": 15
           },
           "zerolinecolor": "white",
           "zerolinewidth": 2
          },
          "yaxis": {
           "automargin": true,
           "gridcolor": "white",
           "linecolor": "white",
           "ticks": "",
           "title": {
            "standoff": 15
           },
           "zerolinecolor": "white",
           "zerolinewidth": 2
          }
         }
        },
        "title": {
         "text": "Active Cases & Positivity Rate %"
        },
        "xaxis": {
         "anchor": "y",
         "domain": [
          0,
          0.94
         ]
        },
        "yaxis": {
         "anchor": "x",
         "domain": [
          0,
          1
         ],
         "title": {
          "text": "Cases"
         }
        },
        "yaxis2": {
         "anchor": "x",
         "overlaying": "y",
         "side": "right",
         "title": {
          "text": "Rate %"
         }
        }
       }
      },
      "text/html": [
       "<div>                            <div id=\"47808094-d976-41b1-b8a9-fe8793de9946\" class=\"plotly-graph-div\" style=\"height:525px; width:100%;\"></div>            <script type=\"text/javascript\">                require([\"plotly\"], function(Plotly) {                    window.PLOTLYENV=window.PLOTLYENV || {};                                    if (document.getElementById(\"47808094-d976-41b1-b8a9-fe8793de9946\")) {                    Plotly.newPlot(                        \"47808094-d976-41b1-b8a9-fe8793de9946\",                        [{\"mode\":\"lines+markers\",\"name\":\"Active Cases\",\"x\":[\"03/2020\",\"04/2020\",\"05/2020\",\"06/2020\",\"07/2020\",\"08/2020\",\"09/2020\",\"10/2020\",\"11/2020\",\"12/2020\",\"01/2021\",\"02/2021\",\"03/2021\",\"04/2021\",\"05/2021\",\"06/2021\",\"07/2021\",\"08/2021\",\"09/2021\",\"10/2021\",\"11/2021\",\"12/2021\",\"01/2022\",\"02/2022\",\"03/2022\",\"04/2022\",\"05/2022\",\"06/2022\",\"07/2022\",\"08/2022\",\"09/2022\",\"10/2022\",\"11/2022\",\"12/2022\",\"01/2023\"],\"y\":[167,110,75,21,150,471,462,1825,2071,1434,2676,2720,836,331,66,45,1847,656,328,215,1188,11441,2972,692,5640,3528,1410,6231,1775,127,275,336,190,284,427],\"type\":\"scatter\"},{\"mode\":\"lines+markers\",\"name\":\"Positivity Rate\",\"x\":[\"03/2020\",\"04/2020\",\"05/2020\",\"06/2020\",\"07/2020\",\"08/2020\",\"09/2020\",\"10/2020\",\"11/2020\",\"12/2020\",\"01/2021\",\"02/2021\",\"03/2021\",\"04/2021\",\"05/2021\",\"06/2021\",\"07/2021\",\"08/2021\",\"09/2021\",\"10/2021\",\"11/2021\",\"12/2021\",\"01/2022\",\"02/2022\",\"03/2022\",\"04/2022\",\"05/2022\",\"06/2022\",\"07/2022\",\"08/2022\",\"09/2022\",\"10/2022\",\"11/2022\",\"12/2022\",\"01/2023\"],\"y\":[null,null,null,null,1.0316875460574797,1.8255387221228947,1.834561578815888,3.5875733384630184,4.207624465946908,3.3439380316757727,5.229351250497038,5.2940700403500855,6.010532883147387,2.1721502389537792,0.4068511728364056,0.14823049842505095,3.467847800013222,1.8701277987120444,1.037897038066837,0.9066150648606034,2.7616346645590215,8.898189365595217,11.410435863080757,6.829436830588506,12.374081336346899,15.882850634559063,7.301703163017032,20.14889529298751,18.420502688223113,4.963645964498964,3.722818208176283,4.120155524896526,3.8138231631382316,5.994280686317642,8.588261953319737],\"type\":\"scatter\",\"xaxis\":\"x\",\"yaxis\":\"y2\"}],                        {\"template\":{\"data\":{\"histogram2dcontour\":[{\"type\":\"histogram2dcontour\",\"colorbar\":{\"outlinewidth\":0,\"ticks\":\"\"},\"colorscale\":[[0.0,\"#0d0887\"],[0.1111111111111111,\"#46039f\"],[0.2222222222222222,\"#7201a8\"],[0.3333333333333333,\"#9c179e\"],[0.4444444444444444,\"#bd3786\"],[0.5555555555555556,\"#d8576b\"],[0.6666666666666666,\"#ed7953\"],[0.7777777777777778,\"#fb9f3a\"],[0.8888888888888888,\"#fdca26\"],[1.0,\"#f0f921\"]]}],\"choropleth\":[{\"type\":\"choropleth\",\"colorbar\":{\"outlinewidth\":0,\"ticks\":\"\"}}],\"histogram2d\":[{\"type\":\"histogram2d\",\"colorbar\":{\"outlinewidth\":0,\"ticks\":\"\"},\"colorscale\":[[0.0,\"#0d0887\"],[0.1111111111111111,\"#46039f\"],[0.2222222222222222,\"#7201a8\"],[0.3333333333333333,\"#9c179e\"],[0.4444444444444444,\"#bd3786\"],[0.5555555555555556,\"#d8576b\"],[0.6666666666666666,\"#ed7953\"],[0.7777777777777778,\"#fb9f3a\"],[0.8888888888888888,\"#fdca26\"],[1.0,\"#f0f921\"]]}],\"heatmap\":[{\"type\":\"heatmap\",\"colorbar\":{\"outlinewidth\":0,\"ticks\":\"\"},\"colorscale\":[[0.0,\"#0d0887\"],[0.1111111111111111,\"#46039f\"],[0.2222222222222222,\"#7201a8\"],[0.3333333333333333,\"#9c179e\"],[0.4444444444444444,\"#bd3786\"],[0.5555555555555556,\"#d8576b\"],[0.6666666666666666,\"#ed7953\"],[0.7777777777777778,\"#fb9f3a\"],[0.8888888888888888,\"#fdca26\"],[1.0,\"#f0f921\"]]}],\"heatmapgl\":[{\"type\":\"heatmapgl\",\"colorbar\":{\"outlinewidth\":0,\"ticks\":\"\"},\"colorscale\":[[0.0,\"#0d0887\"],[0.1111111111111111,\"#46039f\"],[0.2222222222222222,\"#7201a8\"],[0.3333333333333333,\"#9c179e\"],[0.4444444444444444,\"#bd3786\"],[0.5555555555555556,\"#d8576b\"],[0.6666666666666666,\"#ed7953\"],[0.7777777777777778,\"#fb9f3a\"],[0.8888888888888888,\"#fdca26\"],[1.0,\"#f0f921\"]]}],\"contourcarpet\":[{\"type\":\"contourcarpet\",\"colorbar\":{\"outlinewidth\":0,\"ticks\":\"\"}}],\"contour\":[{\"type\":\"contour\",\"colorbar\":{\"outlinewidth\":0,\"ticks\":\"\"},\"colorscale\":[[0.0,\"#0d0887\"],[0.1111111111111111,\"#46039f\"],[0.2222222222222222,\"#7201a8\"],[0.3333333333333333,\"#9c179e\"],[0.4444444444444444,\"#bd3786\"],[0.5555555555555556,\"#d8576b\"],[0.6666666666666666,\"#ed7953\"],[0.7777777777777778,\"#fb9f3a\"],[0.8888888888888888,\"#fdca26\"],[1.0,\"#f0f921\"]]}],\"surface\":[{\"type\":\"surface\",\"colorbar\":{\"outlinewidth\":0,\"ticks\":\"\"},\"colorscale\":[[0.0,\"#0d0887\"],[0.1111111111111111,\"#46039f\"],[0.2222222222222222,\"#7201a8\"],[0.3333333333333333,\"#9c179e\"],[0.4444444444444444,\"#bd3786\"],[0.5555555555555556,\"#d8576b\"],[0.6666666666666666,\"#ed7953\"],[0.7777777777777778,\"#fb9f3a\"],[0.8888888888888888,\"#fdca26\"],[1.0,\"#f0f921\"]]}],\"mesh3d\":[{\"type\":\"mesh3d\",\"colorbar\":{\"outlinewidth\":0,\"ticks\":\"\"}}],\"scatter\":[{\"fillpattern\":{\"fillmode\":\"overlay\",\"size\":10,\"solidity\":0.2},\"type\":\"scatter\"}],\"parcoords\":[{\"type\":\"parcoords\",\"line\":{\"colorbar\":{\"outlinewidth\":0,\"ticks\":\"\"}}}],\"scatterpolargl\":[{\"type\":\"scatterpolargl\",\"marker\":{\"colorbar\":{\"outlinewidth\":0,\"ticks\":\"\"}}}],\"bar\":[{\"error_x\":{\"color\":\"#2a3f5f\"},\"error_y\":{\"color\":\"#2a3f5f\"},\"marker\":{\"line\":{\"color\":\"#E5ECF6\",\"width\":0.5},\"pattern\":{\"fillmode\":\"overlay\",\"size\":10,\"solidity\":0.2}},\"type\":\"bar\"}],\"scattergeo\":[{\"type\":\"scattergeo\",\"marker\":{\"colorbar\":{\"outlinewidth\":0,\"ticks\":\"\"}}}],\"scatterpolar\":[{\"type\":\"scatterpolar\",\"marker\":{\"colorbar\":{\"outlinewidth\":0,\"ticks\":\"\"}}}],\"histogram\":[{\"marker\":{\"pattern\":{\"fillmode\":\"overlay\",\"size\":10,\"solidity\":0.2}},\"type\":\"histogram\"}],\"scattergl\":[{\"type\":\"scattergl\",\"marker\":{\"colorbar\":{\"outlinewidth\":0,\"ticks\":\"\"}}}],\"scatter3d\":[{\"type\":\"scatter3d\",\"line\":{\"colorbar\":{\"outlinewidth\":0,\"ticks\":\"\"}},\"marker\":{\"colorbar\":{\"outlinewidth\":0,\"ticks\":\"\"}}}],\"scattermapbox\":[{\"type\":\"scattermapbox\",\"marker\":{\"colorbar\":{\"outlinewidth\":0,\"ticks\":\"\"}}}],\"scatterternary\":[{\"type\":\"scatterternary\",\"marker\":{\"colorbar\":{\"outlinewidth\":0,\"ticks\":\"\"}}}],\"scattercarpet\":[{\"type\":\"scattercarpet\",\"marker\":{\"colorbar\":{\"outlinewidth\":0,\"ticks\":\"\"}}}],\"carpet\":[{\"aaxis\":{\"endlinecolor\":\"#2a3f5f\",\"gridcolor\":\"white\",\"linecolor\":\"white\",\"minorgridcolor\":\"white\",\"startlinecolor\":\"#2a3f5f\"},\"baxis\":{\"endlinecolor\":\"#2a3f5f\",\"gridcolor\":\"white\",\"linecolor\":\"white\",\"minorgridcolor\":\"white\",\"startlinecolor\":\"#2a3f5f\"},\"type\":\"carpet\"}],\"table\":[{\"cells\":{\"fill\":{\"color\":\"#EBF0F8\"},\"line\":{\"color\":\"white\"}},\"header\":{\"fill\":{\"color\":\"#C8D4E3\"},\"line\":{\"color\":\"white\"}},\"type\":\"table\"}],\"barpolar\":[{\"marker\":{\"line\":{\"color\":\"#E5ECF6\",\"width\":0.5},\"pattern\":{\"fillmode\":\"overlay\",\"size\":10,\"solidity\":0.2}},\"type\":\"barpolar\"}],\"pie\":[{\"automargin\":true,\"type\":\"pie\"}]},\"layout\":{\"autotypenumbers\":\"strict\",\"colorway\":[\"#636efa\",\"#EF553B\",\"#00cc96\",\"#ab63fa\",\"#FFA15A\",\"#19d3f3\",\"#FF6692\",\"#B6E880\",\"#FF97FF\",\"#FECB52\"],\"font\":{\"color\":\"#2a3f5f\"},\"hovermode\":\"closest\",\"hoverlabel\":{\"align\":\"left\"},\"paper_bgcolor\":\"white\",\"plot_bgcolor\":\"#E5ECF6\",\"polar\":{\"bgcolor\":\"#E5ECF6\",\"angularaxis\":{\"gridcolor\":\"white\",\"linecolor\":\"white\",\"ticks\":\"\"},\"radialaxis\":{\"gridcolor\":\"white\",\"linecolor\":\"white\",\"ticks\":\"\"}},\"ternary\":{\"bgcolor\":\"#E5ECF6\",\"aaxis\":{\"gridcolor\":\"white\",\"linecolor\":\"white\",\"ticks\":\"\"},\"baxis\":{\"gridcolor\":\"white\",\"linecolor\":\"white\",\"ticks\":\"\"},\"caxis\":{\"gridcolor\":\"white\",\"linecolor\":\"white\",\"ticks\":\"\"}},\"coloraxis\":{\"colorbar\":{\"outlinewidth\":0,\"ticks\":\"\"}},\"colorscale\":{\"sequential\":[[0.0,\"#0d0887\"],[0.1111111111111111,\"#46039f\"],[0.2222222222222222,\"#7201a8\"],[0.3333333333333333,\"#9c179e\"],[0.4444444444444444,\"#bd3786\"],[0.5555555555555556,\"#d8576b\"],[0.6666666666666666,\"#ed7953\"],[0.7777777777777778,\"#fb9f3a\"],[0.8888888888888888,\"#fdca26\"],[1.0,\"#f0f921\"]],\"sequentialminus\":[[0.0,\"#0d0887\"],[0.1111111111111111,\"#46039f\"],[0.2222222222222222,\"#7201a8\"],[0.3333333333333333,\"#9c179e\"],[0.4444444444444444,\"#bd3786\"],[0.5555555555555556,\"#d8576b\"],[0.6666666666666666,\"#ed7953\"],[0.7777777777777778,\"#fb9f3a\"],[0.8888888888888888,\"#fdca26\"],[1.0,\"#f0f921\"]],\"diverging\":[[0,\"#8e0152\"],[0.1,\"#c51b7d\"],[0.2,\"#de77ae\"],[0.3,\"#f1b6da\"],[0.4,\"#fde0ef\"],[0.5,\"#f7f7f7\"],[0.6,\"#e6f5d0\"],[0.7,\"#b8e186\"],[0.8,\"#7fbc41\"],[0.9,\"#4d9221\"],[1,\"#276419\"]]},\"xaxis\":{\"gridcolor\":\"white\",\"linecolor\":\"white\",\"ticks\":\"\",\"title\":{\"standoff\":15},\"zerolinecolor\":\"white\",\"automargin\":true,\"zerolinewidth\":2},\"yaxis\":{\"gridcolor\":\"white\",\"linecolor\":\"white\",\"ticks\":\"\",\"title\":{\"standoff\":15},\"zerolinecolor\":\"white\",\"automargin\":true,\"zerolinewidth\":2},\"scene\":{\"xaxis\":{\"backgroundcolor\":\"#E5ECF6\",\"gridcolor\":\"white\",\"linecolor\":\"white\",\"showbackground\":true,\"ticks\":\"\",\"zerolinecolor\":\"white\",\"gridwidth\":2},\"yaxis\":{\"backgroundcolor\":\"#E5ECF6\",\"gridcolor\":\"white\",\"linecolor\":\"white\",\"showbackground\":true,\"ticks\":\"\",\"zerolinecolor\":\"white\",\"gridwidth\":2},\"zaxis\":{\"backgroundcolor\":\"#E5ECF6\",\"gridcolor\":\"white\",\"linecolor\":\"white\",\"showbackground\":true,\"ticks\":\"\",\"zerolinecolor\":\"white\",\"gridwidth\":2}},\"shapedefaults\":{\"line\":{\"color\":\"#2a3f5f\"}},\"annotationdefaults\":{\"arrowcolor\":\"#2a3f5f\",\"arrowhead\":0,\"arrowwidth\":1},\"geo\":{\"bgcolor\":\"white\",\"landcolor\":\"#E5ECF6\",\"subunitcolor\":\"white\",\"showland\":true,\"showlakes\":true,\"lakecolor\":\"white\"},\"title\":{\"x\":0.05},\"mapbox\":{\"style\":\"light\"}}},\"xaxis\":{\"anchor\":\"y\",\"domain\":[0.0,0.94]},\"yaxis\":{\"anchor\":\"x\",\"domain\":[0.0,1.0],\"title\":{\"text\":\"Cases\"}},\"yaxis2\":{\"anchor\":\"x\",\"overlaying\":\"y\",\"side\":\"right\",\"title\":{\"text\":\"Rate %\"}},\"title\":{\"text\":\"Active Cases & Positivity Rate %\"}},                        {\"responsive\": true}                    ).then(function(){\n",
       "                            \n",
       "var gd = document.getElementById('47808094-d976-41b1-b8a9-fe8793de9946');\n",
       "var x = new MutationObserver(function (mutations, observer) {{\n",
       "        var display = window.getComputedStyle(gd).display;\n",
       "        if (!display || display === 'none') {{\n",
       "            console.log([gd, 'removed!']);\n",
       "            Plotly.purge(gd);\n",
       "            observer.disconnect();\n",
       "        }}\n",
       "}});\n",
       "\n",
       "// Listen for the removal of the full notebook cells\n",
       "var notebookContainer = gd.closest('#notebook-container');\n",
       "if (notebookContainer) {{\n",
       "    x.observe(notebookContainer, {childList: true});\n",
       "}}\n",
       "\n",
       "// Listen for the clearing of the current output cell\n",
       "var outputEl = gd.closest('.output');\n",
       "if (outputEl) {{\n",
       "    x.observe(outputEl, {childList: true});\n",
       "}}\n",
       "\n",
       "                        })                };                });            </script>        </div>"
      ]
     },
     "metadata": {},
     "output_type": "display_data"
    }
   ],
   "source": [
    "fig = make_subplots(specs=[[{\"secondary_y\": True}]])\n",
    "\n",
    "fig.add_trace(\n",
    "    go.Scatter(\n",
    "        x=data_df['Date'],\n",
    "        y=data_df['Active Cases'],\n",
    "        mode='lines+markers',\n",
    "        name='Active Cases'\n",
    "    )\n",
    ")\n",
    "fig.add_trace(\n",
    "    go.Scatter(\n",
    "        x=data_df['Date'],\n",
    "        y=data_df['Positivity Rate'],\n",
    "        mode='lines+markers',\n",
    "        name='Positivity Rate'\n",
    "    ),\n",
    "    secondary_y=True\n",
    ")\n",
    "\n",
    "fig.update_layout(\n",
    "    title_text=\"Active Cases & Positivity Rate %\"\n",
    ")\n",
    "\n",
    "fig.update_yaxes(title_text=\"Cases\", secondary_y=False)\n",
    "fig.update_yaxes(title_text=\"Rate %\", secondary_y=True)\n",
    "\n",
    "fig.show()"
   ]
  },
  {
   "attachments": {},
   "cell_type": "markdown",
   "metadata": {},
   "source": [
    "#### Probability of Active Cases & Positivity Rate %"
   ]
  },
  {
   "cell_type": "code",
   "execution_count": 189,
   "metadata": {},
   "outputs": [
    {
     "data": {
      "application/vnd.plotly.v1+json": {
       "config": {
        "plotlyServerURL": "https://plot.ly"
       },
       "data": [
        {
         "histfunc": "sum",
         "histnorm": "probability",
         "name": "Active Cases",
         "type": "histogram",
         "x": [
          "03/2020",
          "04/2020",
          "05/2020",
          "06/2020",
          "07/2020",
          "08/2020",
          "09/2020",
          "10/2020",
          "11/2020",
          "12/2020",
          "01/2021",
          "02/2021",
          "03/2021",
          "04/2021",
          "05/2021",
          "06/2021",
          "07/2021",
          "08/2021",
          "09/2021",
          "10/2021",
          "11/2021",
          "12/2021",
          "01/2022",
          "02/2022",
          "03/2022",
          "04/2022",
          "05/2022",
          "06/2022",
          "07/2022",
          "08/2022",
          "09/2022",
          "10/2022",
          "11/2022",
          "12/2022",
          "01/2023"
         ],
         "y": [
          167,
          110,
          75,
          21,
          150,
          471,
          462,
          1825,
          2071,
          1434,
          2676,
          2720,
          836,
          331,
          66,
          45,
          1847,
          656,
          328,
          215,
          1188,
          11441,
          2972,
          692,
          5640,
          3528,
          1410,
          6231,
          1775,
          127,
          275,
          336,
          190,
          284,
          427
         ]
        },
        {
         "histfunc": "sum",
         "histnorm": "probability",
         "name": "Positivity Rate %",
         "type": "histogram",
         "x": [
          "03/2020",
          "04/2020",
          "05/2020",
          "06/2020",
          "07/2020",
          "08/2020",
          "09/2020",
          "10/2020",
          "11/2020",
          "12/2020",
          "01/2021",
          "02/2021",
          "03/2021",
          "04/2021",
          "05/2021",
          "06/2021",
          "07/2021",
          "08/2021",
          "09/2021",
          "10/2021",
          "11/2021",
          "12/2021",
          "01/2022",
          "02/2022",
          "03/2022",
          "04/2022",
          "05/2022",
          "06/2022",
          "07/2022",
          "08/2022",
          "09/2022",
          "10/2022",
          "11/2022",
          "12/2022",
          "01/2023"
         ],
         "y": [
          null,
          null,
          null,
          null,
          1.0316875460574797,
          1.8255387221228947,
          1.834561578815888,
          3.5875733384630184,
          4.207624465946908,
          3.3439380316757727,
          5.229351250497038,
          5.2940700403500855,
          6.010532883147387,
          2.1721502389537792,
          0.4068511728364056,
          0.14823049842505095,
          3.467847800013222,
          1.8701277987120444,
          1.037897038066837,
          0.9066150648606034,
          2.7616346645590215,
          8.898189365595217,
          11.410435863080757,
          6.829436830588506,
          12.374081336346899,
          15.882850634559063,
          7.301703163017032,
          20.14889529298751,
          18.420502688223113,
          4.963645964498964,
          3.722818208176283,
          4.120155524896526,
          3.8138231631382316,
          5.994280686317642,
          8.588261953319737
         ]
        }
       ],
       "layout": {
        "barmode": "group",
        "template": {
         "data": {
          "bar": [
           {
            "error_x": {
             "color": "#2a3f5f"
            },
            "error_y": {
             "color": "#2a3f5f"
            },
            "marker": {
             "line": {
              "color": "#E5ECF6",
              "width": 0.5
             },
             "pattern": {
              "fillmode": "overlay",
              "size": 10,
              "solidity": 0.2
             }
            },
            "type": "bar"
           }
          ],
          "barpolar": [
           {
            "marker": {
             "line": {
              "color": "#E5ECF6",
              "width": 0.5
             },
             "pattern": {
              "fillmode": "overlay",
              "size": 10,
              "solidity": 0.2
             }
            },
            "type": "barpolar"
           }
          ],
          "carpet": [
           {
            "aaxis": {
             "endlinecolor": "#2a3f5f",
             "gridcolor": "white",
             "linecolor": "white",
             "minorgridcolor": "white",
             "startlinecolor": "#2a3f5f"
            },
            "baxis": {
             "endlinecolor": "#2a3f5f",
             "gridcolor": "white",
             "linecolor": "white",
             "minorgridcolor": "white",
             "startlinecolor": "#2a3f5f"
            },
            "type": "carpet"
           }
          ],
          "choropleth": [
           {
            "colorbar": {
             "outlinewidth": 0,
             "ticks": ""
            },
            "type": "choropleth"
           }
          ],
          "contour": [
           {
            "colorbar": {
             "outlinewidth": 0,
             "ticks": ""
            },
            "colorscale": [
             [
              0,
              "#0d0887"
             ],
             [
              0.1111111111111111,
              "#46039f"
             ],
             [
              0.2222222222222222,
              "#7201a8"
             ],
             [
              0.3333333333333333,
              "#9c179e"
             ],
             [
              0.4444444444444444,
              "#bd3786"
             ],
             [
              0.5555555555555556,
              "#d8576b"
             ],
             [
              0.6666666666666666,
              "#ed7953"
             ],
             [
              0.7777777777777778,
              "#fb9f3a"
             ],
             [
              0.8888888888888888,
              "#fdca26"
             ],
             [
              1,
              "#f0f921"
             ]
            ],
            "type": "contour"
           }
          ],
          "contourcarpet": [
           {
            "colorbar": {
             "outlinewidth": 0,
             "ticks": ""
            },
            "type": "contourcarpet"
           }
          ],
          "heatmap": [
           {
            "colorbar": {
             "outlinewidth": 0,
             "ticks": ""
            },
            "colorscale": [
             [
              0,
              "#0d0887"
             ],
             [
              0.1111111111111111,
              "#46039f"
             ],
             [
              0.2222222222222222,
              "#7201a8"
             ],
             [
              0.3333333333333333,
              "#9c179e"
             ],
             [
              0.4444444444444444,
              "#bd3786"
             ],
             [
              0.5555555555555556,
              "#d8576b"
             ],
             [
              0.6666666666666666,
              "#ed7953"
             ],
             [
              0.7777777777777778,
              "#fb9f3a"
             ],
             [
              0.8888888888888888,
              "#fdca26"
             ],
             [
              1,
              "#f0f921"
             ]
            ],
            "type": "heatmap"
           }
          ],
          "heatmapgl": [
           {
            "colorbar": {
             "outlinewidth": 0,
             "ticks": ""
            },
            "colorscale": [
             [
              0,
              "#0d0887"
             ],
             [
              0.1111111111111111,
              "#46039f"
             ],
             [
              0.2222222222222222,
              "#7201a8"
             ],
             [
              0.3333333333333333,
              "#9c179e"
             ],
             [
              0.4444444444444444,
              "#bd3786"
             ],
             [
              0.5555555555555556,
              "#d8576b"
             ],
             [
              0.6666666666666666,
              "#ed7953"
             ],
             [
              0.7777777777777778,
              "#fb9f3a"
             ],
             [
              0.8888888888888888,
              "#fdca26"
             ],
             [
              1,
              "#f0f921"
             ]
            ],
            "type": "heatmapgl"
           }
          ],
          "histogram": [
           {
            "marker": {
             "pattern": {
              "fillmode": "overlay",
              "size": 10,
              "solidity": 0.2
             }
            },
            "type": "histogram"
           }
          ],
          "histogram2d": [
           {
            "colorbar": {
             "outlinewidth": 0,
             "ticks": ""
            },
            "colorscale": [
             [
              0,
              "#0d0887"
             ],
             [
              0.1111111111111111,
              "#46039f"
             ],
             [
              0.2222222222222222,
              "#7201a8"
             ],
             [
              0.3333333333333333,
              "#9c179e"
             ],
             [
              0.4444444444444444,
              "#bd3786"
             ],
             [
              0.5555555555555556,
              "#d8576b"
             ],
             [
              0.6666666666666666,
              "#ed7953"
             ],
             [
              0.7777777777777778,
              "#fb9f3a"
             ],
             [
              0.8888888888888888,
              "#fdca26"
             ],
             [
              1,
              "#f0f921"
             ]
            ],
            "type": "histogram2d"
           }
          ],
          "histogram2dcontour": [
           {
            "colorbar": {
             "outlinewidth": 0,
             "ticks": ""
            },
            "colorscale": [
             [
              0,
              "#0d0887"
             ],
             [
              0.1111111111111111,
              "#46039f"
             ],
             [
              0.2222222222222222,
              "#7201a8"
             ],
             [
              0.3333333333333333,
              "#9c179e"
             ],
             [
              0.4444444444444444,
              "#bd3786"
             ],
             [
              0.5555555555555556,
              "#d8576b"
             ],
             [
              0.6666666666666666,
              "#ed7953"
             ],
             [
              0.7777777777777778,
              "#fb9f3a"
             ],
             [
              0.8888888888888888,
              "#fdca26"
             ],
             [
              1,
              "#f0f921"
             ]
            ],
            "type": "histogram2dcontour"
           }
          ],
          "mesh3d": [
           {
            "colorbar": {
             "outlinewidth": 0,
             "ticks": ""
            },
            "type": "mesh3d"
           }
          ],
          "parcoords": [
           {
            "line": {
             "colorbar": {
              "outlinewidth": 0,
              "ticks": ""
             }
            },
            "type": "parcoords"
           }
          ],
          "pie": [
           {
            "automargin": true,
            "type": "pie"
           }
          ],
          "scatter": [
           {
            "fillpattern": {
             "fillmode": "overlay",
             "size": 10,
             "solidity": 0.2
            },
            "type": "scatter"
           }
          ],
          "scatter3d": [
           {
            "line": {
             "colorbar": {
              "outlinewidth": 0,
              "ticks": ""
             }
            },
            "marker": {
             "colorbar": {
              "outlinewidth": 0,
              "ticks": ""
             }
            },
            "type": "scatter3d"
           }
          ],
          "scattercarpet": [
           {
            "marker": {
             "colorbar": {
              "outlinewidth": 0,
              "ticks": ""
             }
            },
            "type": "scattercarpet"
           }
          ],
          "scattergeo": [
           {
            "marker": {
             "colorbar": {
              "outlinewidth": 0,
              "ticks": ""
             }
            },
            "type": "scattergeo"
           }
          ],
          "scattergl": [
           {
            "marker": {
             "colorbar": {
              "outlinewidth": 0,
              "ticks": ""
             }
            },
            "type": "scattergl"
           }
          ],
          "scattermapbox": [
           {
            "marker": {
             "colorbar": {
              "outlinewidth": 0,
              "ticks": ""
             }
            },
            "type": "scattermapbox"
           }
          ],
          "scatterpolar": [
           {
            "marker": {
             "colorbar": {
              "outlinewidth": 0,
              "ticks": ""
             }
            },
            "type": "scatterpolar"
           }
          ],
          "scatterpolargl": [
           {
            "marker": {
             "colorbar": {
              "outlinewidth": 0,
              "ticks": ""
             }
            },
            "type": "scatterpolargl"
           }
          ],
          "scatterternary": [
           {
            "marker": {
             "colorbar": {
              "outlinewidth": 0,
              "ticks": ""
             }
            },
            "type": "scatterternary"
           }
          ],
          "surface": [
           {
            "colorbar": {
             "outlinewidth": 0,
             "ticks": ""
            },
            "colorscale": [
             [
              0,
              "#0d0887"
             ],
             [
              0.1111111111111111,
              "#46039f"
             ],
             [
              0.2222222222222222,
              "#7201a8"
             ],
             [
              0.3333333333333333,
              "#9c179e"
             ],
             [
              0.4444444444444444,
              "#bd3786"
             ],
             [
              0.5555555555555556,
              "#d8576b"
             ],
             [
              0.6666666666666666,
              "#ed7953"
             ],
             [
              0.7777777777777778,
              "#fb9f3a"
             ],
             [
              0.8888888888888888,
              "#fdca26"
             ],
             [
              1,
              "#f0f921"
             ]
            ],
            "type": "surface"
           }
          ],
          "table": [
           {
            "cells": {
             "fill": {
              "color": "#EBF0F8"
             },
             "line": {
              "color": "white"
             }
            },
            "header": {
             "fill": {
              "color": "#C8D4E3"
             },
             "line": {
              "color": "white"
             }
            },
            "type": "table"
           }
          ]
         },
         "layout": {
          "annotationdefaults": {
           "arrowcolor": "#2a3f5f",
           "arrowhead": 0,
           "arrowwidth": 1
          },
          "autotypenumbers": "strict",
          "coloraxis": {
           "colorbar": {
            "outlinewidth": 0,
            "ticks": ""
           }
          },
          "colorscale": {
           "diverging": [
            [
             0,
             "#8e0152"
            ],
            [
             0.1,
             "#c51b7d"
            ],
            [
             0.2,
             "#de77ae"
            ],
            [
             0.3,
             "#f1b6da"
            ],
            [
             0.4,
             "#fde0ef"
            ],
            [
             0.5,
             "#f7f7f7"
            ],
            [
             0.6,
             "#e6f5d0"
            ],
            [
             0.7,
             "#b8e186"
            ],
            [
             0.8,
             "#7fbc41"
            ],
            [
             0.9,
             "#4d9221"
            ],
            [
             1,
             "#276419"
            ]
           ],
           "sequential": [
            [
             0,
             "#0d0887"
            ],
            [
             0.1111111111111111,
             "#46039f"
            ],
            [
             0.2222222222222222,
             "#7201a8"
            ],
            [
             0.3333333333333333,
             "#9c179e"
            ],
            [
             0.4444444444444444,
             "#bd3786"
            ],
            [
             0.5555555555555556,
             "#d8576b"
            ],
            [
             0.6666666666666666,
             "#ed7953"
            ],
            [
             0.7777777777777778,
             "#fb9f3a"
            ],
            [
             0.8888888888888888,
             "#fdca26"
            ],
            [
             1,
             "#f0f921"
            ]
           ],
           "sequentialminus": [
            [
             0,
             "#0d0887"
            ],
            [
             0.1111111111111111,
             "#46039f"
            ],
            [
             0.2222222222222222,
             "#7201a8"
            ],
            [
             0.3333333333333333,
             "#9c179e"
            ],
            [
             0.4444444444444444,
             "#bd3786"
            ],
            [
             0.5555555555555556,
             "#d8576b"
            ],
            [
             0.6666666666666666,
             "#ed7953"
            ],
            [
             0.7777777777777778,
             "#fb9f3a"
            ],
            [
             0.8888888888888888,
             "#fdca26"
            ],
            [
             1,
             "#f0f921"
            ]
           ]
          },
          "colorway": [
           "#636efa",
           "#EF553B",
           "#00cc96",
           "#ab63fa",
           "#FFA15A",
           "#19d3f3",
           "#FF6692",
           "#B6E880",
           "#FF97FF",
           "#FECB52"
          ],
          "font": {
           "color": "#2a3f5f"
          },
          "geo": {
           "bgcolor": "white",
           "lakecolor": "white",
           "landcolor": "#E5ECF6",
           "showlakes": true,
           "showland": true,
           "subunitcolor": "white"
          },
          "hoverlabel": {
           "align": "left"
          },
          "hovermode": "closest",
          "mapbox": {
           "style": "light"
          },
          "paper_bgcolor": "white",
          "plot_bgcolor": "#E5ECF6",
          "polar": {
           "angularaxis": {
            "gridcolor": "white",
            "linecolor": "white",
            "ticks": ""
           },
           "bgcolor": "#E5ECF6",
           "radialaxis": {
            "gridcolor": "white",
            "linecolor": "white",
            "ticks": ""
           }
          },
          "scene": {
           "xaxis": {
            "backgroundcolor": "#E5ECF6",
            "gridcolor": "white",
            "gridwidth": 2,
            "linecolor": "white",
            "showbackground": true,
            "ticks": "",
            "zerolinecolor": "white"
           },
           "yaxis": {
            "backgroundcolor": "#E5ECF6",
            "gridcolor": "white",
            "gridwidth": 2,
            "linecolor": "white",
            "showbackground": true,
            "ticks": "",
            "zerolinecolor": "white"
           },
           "zaxis": {
            "backgroundcolor": "#E5ECF6",
            "gridcolor": "white",
            "gridwidth": 2,
            "linecolor": "white",
            "showbackground": true,
            "ticks": "",
            "zerolinecolor": "white"
           }
          },
          "shapedefaults": {
           "line": {
            "color": "#2a3f5f"
           }
          },
          "ternary": {
           "aaxis": {
            "gridcolor": "white",
            "linecolor": "white",
            "ticks": ""
           },
           "baxis": {
            "gridcolor": "white",
            "linecolor": "white",
            "ticks": ""
           },
           "bgcolor": "#E5ECF6",
           "caxis": {
            "gridcolor": "white",
            "linecolor": "white",
            "ticks": ""
           }
          },
          "title": {
           "x": 0.05
          },
          "xaxis": {
           "automargin": true,
           "gridcolor": "white",
           "linecolor": "white",
           "ticks": "",
           "title": {
            "standoff": 15
           },
           "zerolinecolor": "white",
           "zerolinewidth": 2
          },
          "yaxis": {
           "automargin": true,
           "gridcolor": "white",
           "linecolor": "white",
           "ticks": "",
           "title": {
            "standoff": 15
           },
           "zerolinecolor": "white",
           "zerolinewidth": 2
          }
         }
        },
        "title": {
         "text": "Probability of Active Cases & Positivity Rate %"
        },
        "yaxis": {
         "title": {
          "text": "Probability"
         }
        }
       }
      },
      "text/html": [
       "<div>                            <div id=\"a0646679-da8b-4cee-809d-124d9100f0e9\" class=\"plotly-graph-div\" style=\"height:525px; width:100%;\"></div>            <script type=\"text/javascript\">                require([\"plotly\"], function(Plotly) {                    window.PLOTLYENV=window.PLOTLYENV || {};                                    if (document.getElementById(\"a0646679-da8b-4cee-809d-124d9100f0e9\")) {                    Plotly.newPlot(                        \"a0646679-da8b-4cee-809d-124d9100f0e9\",                        [{\"histfunc\":\"sum\",\"histnorm\":\"probability\",\"name\":\"Active Cases\",\"x\":[\"03/2020\",\"04/2020\",\"05/2020\",\"06/2020\",\"07/2020\",\"08/2020\",\"09/2020\",\"10/2020\",\"11/2020\",\"12/2020\",\"01/2021\",\"02/2021\",\"03/2021\",\"04/2021\",\"05/2021\",\"06/2021\",\"07/2021\",\"08/2021\",\"09/2021\",\"10/2021\",\"11/2021\",\"12/2021\",\"01/2022\",\"02/2022\",\"03/2022\",\"04/2022\",\"05/2022\",\"06/2022\",\"07/2022\",\"08/2022\",\"09/2022\",\"10/2022\",\"11/2022\",\"12/2022\",\"01/2023\"],\"y\":[167,110,75,21,150,471,462,1825,2071,1434,2676,2720,836,331,66,45,1847,656,328,215,1188,11441,2972,692,5640,3528,1410,6231,1775,127,275,336,190,284,427],\"type\":\"histogram\"},{\"histfunc\":\"sum\",\"histnorm\":\"probability\",\"name\":\"Positivity Rate %\",\"x\":[\"03/2020\",\"04/2020\",\"05/2020\",\"06/2020\",\"07/2020\",\"08/2020\",\"09/2020\",\"10/2020\",\"11/2020\",\"12/2020\",\"01/2021\",\"02/2021\",\"03/2021\",\"04/2021\",\"05/2021\",\"06/2021\",\"07/2021\",\"08/2021\",\"09/2021\",\"10/2021\",\"11/2021\",\"12/2021\",\"01/2022\",\"02/2022\",\"03/2022\",\"04/2022\",\"05/2022\",\"06/2022\",\"07/2022\",\"08/2022\",\"09/2022\",\"10/2022\",\"11/2022\",\"12/2022\",\"01/2023\"],\"y\":[null,null,null,null,1.0316875460574797,1.8255387221228947,1.834561578815888,3.5875733384630184,4.207624465946908,3.3439380316757727,5.229351250497038,5.2940700403500855,6.010532883147387,2.1721502389537792,0.4068511728364056,0.14823049842505095,3.467847800013222,1.8701277987120444,1.037897038066837,0.9066150648606034,2.7616346645590215,8.898189365595217,11.410435863080757,6.829436830588506,12.374081336346899,15.882850634559063,7.301703163017032,20.14889529298751,18.420502688223113,4.963645964498964,3.722818208176283,4.120155524896526,3.8138231631382316,5.994280686317642,8.588261953319737],\"type\":\"histogram\"}],                        {\"template\":{\"data\":{\"histogram2dcontour\":[{\"type\":\"histogram2dcontour\",\"colorbar\":{\"outlinewidth\":0,\"ticks\":\"\"},\"colorscale\":[[0.0,\"#0d0887\"],[0.1111111111111111,\"#46039f\"],[0.2222222222222222,\"#7201a8\"],[0.3333333333333333,\"#9c179e\"],[0.4444444444444444,\"#bd3786\"],[0.5555555555555556,\"#d8576b\"],[0.6666666666666666,\"#ed7953\"],[0.7777777777777778,\"#fb9f3a\"],[0.8888888888888888,\"#fdca26\"],[1.0,\"#f0f921\"]]}],\"choropleth\":[{\"type\":\"choropleth\",\"colorbar\":{\"outlinewidth\":0,\"ticks\":\"\"}}],\"histogram2d\":[{\"type\":\"histogram2d\",\"colorbar\":{\"outlinewidth\":0,\"ticks\":\"\"},\"colorscale\":[[0.0,\"#0d0887\"],[0.1111111111111111,\"#46039f\"],[0.2222222222222222,\"#7201a8\"],[0.3333333333333333,\"#9c179e\"],[0.4444444444444444,\"#bd3786\"],[0.5555555555555556,\"#d8576b\"],[0.6666666666666666,\"#ed7953\"],[0.7777777777777778,\"#fb9f3a\"],[0.8888888888888888,\"#fdca26\"],[1.0,\"#f0f921\"]]}],\"heatmap\":[{\"type\":\"heatmap\",\"colorbar\":{\"outlinewidth\":0,\"ticks\":\"\"},\"colorscale\":[[0.0,\"#0d0887\"],[0.1111111111111111,\"#46039f\"],[0.2222222222222222,\"#7201a8\"],[0.3333333333333333,\"#9c179e\"],[0.4444444444444444,\"#bd3786\"],[0.5555555555555556,\"#d8576b\"],[0.6666666666666666,\"#ed7953\"],[0.7777777777777778,\"#fb9f3a\"],[0.8888888888888888,\"#fdca26\"],[1.0,\"#f0f921\"]]}],\"heatmapgl\":[{\"type\":\"heatmapgl\",\"colorbar\":{\"outlinewidth\":0,\"ticks\":\"\"},\"colorscale\":[[0.0,\"#0d0887\"],[0.1111111111111111,\"#46039f\"],[0.2222222222222222,\"#7201a8\"],[0.3333333333333333,\"#9c179e\"],[0.4444444444444444,\"#bd3786\"],[0.5555555555555556,\"#d8576b\"],[0.6666666666666666,\"#ed7953\"],[0.7777777777777778,\"#fb9f3a\"],[0.8888888888888888,\"#fdca26\"],[1.0,\"#f0f921\"]]}],\"contourcarpet\":[{\"type\":\"contourcarpet\",\"colorbar\":{\"outlinewidth\":0,\"ticks\":\"\"}}],\"contour\":[{\"type\":\"contour\",\"colorbar\":{\"outlinewidth\":0,\"ticks\":\"\"},\"colorscale\":[[0.0,\"#0d0887\"],[0.1111111111111111,\"#46039f\"],[0.2222222222222222,\"#7201a8\"],[0.3333333333333333,\"#9c179e\"],[0.4444444444444444,\"#bd3786\"],[0.5555555555555556,\"#d8576b\"],[0.6666666666666666,\"#ed7953\"],[0.7777777777777778,\"#fb9f3a\"],[0.8888888888888888,\"#fdca26\"],[1.0,\"#f0f921\"]]}],\"surface\":[{\"type\":\"surface\",\"colorbar\":{\"outlinewidth\":0,\"ticks\":\"\"},\"colorscale\":[[0.0,\"#0d0887\"],[0.1111111111111111,\"#46039f\"],[0.2222222222222222,\"#7201a8\"],[0.3333333333333333,\"#9c179e\"],[0.4444444444444444,\"#bd3786\"],[0.5555555555555556,\"#d8576b\"],[0.6666666666666666,\"#ed7953\"],[0.7777777777777778,\"#fb9f3a\"],[0.8888888888888888,\"#fdca26\"],[1.0,\"#f0f921\"]]}],\"mesh3d\":[{\"type\":\"mesh3d\",\"colorbar\":{\"outlinewidth\":0,\"ticks\":\"\"}}],\"scatter\":[{\"fillpattern\":{\"fillmode\":\"overlay\",\"size\":10,\"solidity\":0.2},\"type\":\"scatter\"}],\"parcoords\":[{\"type\":\"parcoords\",\"line\":{\"colorbar\":{\"outlinewidth\":0,\"ticks\":\"\"}}}],\"scatterpolargl\":[{\"type\":\"scatterpolargl\",\"marker\":{\"colorbar\":{\"outlinewidth\":0,\"ticks\":\"\"}}}],\"bar\":[{\"error_x\":{\"color\":\"#2a3f5f\"},\"error_y\":{\"color\":\"#2a3f5f\"},\"marker\":{\"line\":{\"color\":\"#E5ECF6\",\"width\":0.5},\"pattern\":{\"fillmode\":\"overlay\",\"size\":10,\"solidity\":0.2}},\"type\":\"bar\"}],\"scattergeo\":[{\"type\":\"scattergeo\",\"marker\":{\"colorbar\":{\"outlinewidth\":0,\"ticks\":\"\"}}}],\"scatterpolar\":[{\"type\":\"scatterpolar\",\"marker\":{\"colorbar\":{\"outlinewidth\":0,\"ticks\":\"\"}}}],\"histogram\":[{\"marker\":{\"pattern\":{\"fillmode\":\"overlay\",\"size\":10,\"solidity\":0.2}},\"type\":\"histogram\"}],\"scattergl\":[{\"type\":\"scattergl\",\"marker\":{\"colorbar\":{\"outlinewidth\":0,\"ticks\":\"\"}}}],\"scatter3d\":[{\"type\":\"scatter3d\",\"line\":{\"colorbar\":{\"outlinewidth\":0,\"ticks\":\"\"}},\"marker\":{\"colorbar\":{\"outlinewidth\":0,\"ticks\":\"\"}}}],\"scattermapbox\":[{\"type\":\"scattermapbox\",\"marker\":{\"colorbar\":{\"outlinewidth\":0,\"ticks\":\"\"}}}],\"scatterternary\":[{\"type\":\"scatterternary\",\"marker\":{\"colorbar\":{\"outlinewidth\":0,\"ticks\":\"\"}}}],\"scattercarpet\":[{\"type\":\"scattercarpet\",\"marker\":{\"colorbar\":{\"outlinewidth\":0,\"ticks\":\"\"}}}],\"carpet\":[{\"aaxis\":{\"endlinecolor\":\"#2a3f5f\",\"gridcolor\":\"white\",\"linecolor\":\"white\",\"minorgridcolor\":\"white\",\"startlinecolor\":\"#2a3f5f\"},\"baxis\":{\"endlinecolor\":\"#2a3f5f\",\"gridcolor\":\"white\",\"linecolor\":\"white\",\"minorgridcolor\":\"white\",\"startlinecolor\":\"#2a3f5f\"},\"type\":\"carpet\"}],\"table\":[{\"cells\":{\"fill\":{\"color\":\"#EBF0F8\"},\"line\":{\"color\":\"white\"}},\"header\":{\"fill\":{\"color\":\"#C8D4E3\"},\"line\":{\"color\":\"white\"}},\"type\":\"table\"}],\"barpolar\":[{\"marker\":{\"line\":{\"color\":\"#E5ECF6\",\"width\":0.5},\"pattern\":{\"fillmode\":\"overlay\",\"size\":10,\"solidity\":0.2}},\"type\":\"barpolar\"}],\"pie\":[{\"automargin\":true,\"type\":\"pie\"}]},\"layout\":{\"autotypenumbers\":\"strict\",\"colorway\":[\"#636efa\",\"#EF553B\",\"#00cc96\",\"#ab63fa\",\"#FFA15A\",\"#19d3f3\",\"#FF6692\",\"#B6E880\",\"#FF97FF\",\"#FECB52\"],\"font\":{\"color\":\"#2a3f5f\"},\"hovermode\":\"closest\",\"hoverlabel\":{\"align\":\"left\"},\"paper_bgcolor\":\"white\",\"plot_bgcolor\":\"#E5ECF6\",\"polar\":{\"bgcolor\":\"#E5ECF6\",\"angularaxis\":{\"gridcolor\":\"white\",\"linecolor\":\"white\",\"ticks\":\"\"},\"radialaxis\":{\"gridcolor\":\"white\",\"linecolor\":\"white\",\"ticks\":\"\"}},\"ternary\":{\"bgcolor\":\"#E5ECF6\",\"aaxis\":{\"gridcolor\":\"white\",\"linecolor\":\"white\",\"ticks\":\"\"},\"baxis\":{\"gridcolor\":\"white\",\"linecolor\":\"white\",\"ticks\":\"\"},\"caxis\":{\"gridcolor\":\"white\",\"linecolor\":\"white\",\"ticks\":\"\"}},\"coloraxis\":{\"colorbar\":{\"outlinewidth\":0,\"ticks\":\"\"}},\"colorscale\":{\"sequential\":[[0.0,\"#0d0887\"],[0.1111111111111111,\"#46039f\"],[0.2222222222222222,\"#7201a8\"],[0.3333333333333333,\"#9c179e\"],[0.4444444444444444,\"#bd3786\"],[0.5555555555555556,\"#d8576b\"],[0.6666666666666666,\"#ed7953\"],[0.7777777777777778,\"#fb9f3a\"],[0.8888888888888888,\"#fdca26\"],[1.0,\"#f0f921\"]],\"sequentialminus\":[[0.0,\"#0d0887\"],[0.1111111111111111,\"#46039f\"],[0.2222222222222222,\"#7201a8\"],[0.3333333333333333,\"#9c179e\"],[0.4444444444444444,\"#bd3786\"],[0.5555555555555556,\"#d8576b\"],[0.6666666666666666,\"#ed7953\"],[0.7777777777777778,\"#fb9f3a\"],[0.8888888888888888,\"#fdca26\"],[1.0,\"#f0f921\"]],\"diverging\":[[0,\"#8e0152\"],[0.1,\"#c51b7d\"],[0.2,\"#de77ae\"],[0.3,\"#f1b6da\"],[0.4,\"#fde0ef\"],[0.5,\"#f7f7f7\"],[0.6,\"#e6f5d0\"],[0.7,\"#b8e186\"],[0.8,\"#7fbc41\"],[0.9,\"#4d9221\"],[1,\"#276419\"]]},\"xaxis\":{\"gridcolor\":\"white\",\"linecolor\":\"white\",\"ticks\":\"\",\"title\":{\"standoff\":15},\"zerolinecolor\":\"white\",\"automargin\":true,\"zerolinewidth\":2},\"yaxis\":{\"gridcolor\":\"white\",\"linecolor\":\"white\",\"ticks\":\"\",\"title\":{\"standoff\":15},\"zerolinecolor\":\"white\",\"automargin\":true,\"zerolinewidth\":2},\"scene\":{\"xaxis\":{\"backgroundcolor\":\"#E5ECF6\",\"gridcolor\":\"white\",\"linecolor\":\"white\",\"showbackground\":true,\"ticks\":\"\",\"zerolinecolor\":\"white\",\"gridwidth\":2},\"yaxis\":{\"backgroundcolor\":\"#E5ECF6\",\"gridcolor\":\"white\",\"linecolor\":\"white\",\"showbackground\":true,\"ticks\":\"\",\"zerolinecolor\":\"white\",\"gridwidth\":2},\"zaxis\":{\"backgroundcolor\":\"#E5ECF6\",\"gridcolor\":\"white\",\"linecolor\":\"white\",\"showbackground\":true,\"ticks\":\"\",\"zerolinecolor\":\"white\",\"gridwidth\":2}},\"shapedefaults\":{\"line\":{\"color\":\"#2a3f5f\"}},\"annotationdefaults\":{\"arrowcolor\":\"#2a3f5f\",\"arrowhead\":0,\"arrowwidth\":1},\"geo\":{\"bgcolor\":\"white\",\"landcolor\":\"#E5ECF6\",\"subunitcolor\":\"white\",\"showland\":true,\"showlakes\":true,\"lakecolor\":\"white\"},\"title\":{\"x\":0.05},\"mapbox\":{\"style\":\"light\"}}},\"barmode\":\"group\",\"title\":{\"text\":\"Probability of Active Cases & Positivity Rate %\"},\"yaxis\":{\"title\":{\"text\":\"Probability\"}}},                        {\"responsive\": true}                    ).then(function(){\n",
       "                            \n",
       "var gd = document.getElementById('a0646679-da8b-4cee-809d-124d9100f0e9');\n",
       "var x = new MutationObserver(function (mutations, observer) {{\n",
       "        var display = window.getComputedStyle(gd).display;\n",
       "        if (!display || display === 'none') {{\n",
       "            console.log([gd, 'removed!']);\n",
       "            Plotly.purge(gd);\n",
       "            observer.disconnect();\n",
       "        }}\n",
       "}});\n",
       "\n",
       "// Listen for the removal of the full notebook cells\n",
       "var notebookContainer = gd.closest('#notebook-container');\n",
       "if (notebookContainer) {{\n",
       "    x.observe(notebookContainer, {childList: true});\n",
       "}}\n",
       "\n",
       "// Listen for the clearing of the current output cell\n",
       "var outputEl = gd.closest('.output');\n",
       "if (outputEl) {{\n",
       "    x.observe(outputEl, {childList: true});\n",
       "}}\n",
       "\n",
       "                        })                };                });            </script>        </div>"
      ]
     },
     "metadata": {},
     "output_type": "display_data"
    }
   ],
   "source": [
    "fig = go.Figure(data=[\n",
    "    go.Histogram(x=data_df['Date'], y=data_df['Active Cases'], histfunc='sum', histnorm='probability', name='Active Cases'),\n",
    "    go.Histogram(x=data_df['Date'], y=data_df['Positivity Rate'], histfunc='sum', histnorm='probability', name='Positivity Rate %')\n",
    "])\n",
    "\n",
    "fig.update_layout(barmode='group')\n",
    "\n",
    "fig.update_layout(\n",
    "    title_text=\"Probability of Active Cases & Positivity Rate %\"\n",
    ")\n",
    "\n",
    "fig.update_yaxes(title_text=\"Probability\")\n",
    "\n",
    "fig.show()"
   ]
  },
  {
   "attachments": {},
   "cell_type": "markdown",
   "metadata": {},
   "source": [
    "### Tests, New Cases & Positivity Rate"
   ]
  },
  {
   "cell_type": "code",
   "execution_count": 60,
   "metadata": {},
   "outputs": [
    {
     "data": {
      "application/vnd.plotly.v1+json": {
       "config": {
        "plotlyServerURL": "https://plot.ly"
       },
       "data": [
        {
         "name": "Tests",
         "type": "bar",
         "x": [
          "03/2020",
          "04/2020",
          "05/2020",
          "06/2020",
          "07/2020",
          "08/2020",
          "09/2020",
          "10/2020",
          "11/2020",
          "12/2020",
          "01/2021",
          "02/2021",
          "03/2021",
          "04/2021",
          "05/2021",
          "06/2021",
          "07/2021",
          "08/2021",
          "09/2021",
          "10/2021",
          "11/2021",
          "12/2021",
          "01/2022",
          "02/2022",
          "03/2022",
          "04/2022",
          "05/2022",
          "06/2022",
          "07/2022",
          "08/2022",
          "09/2022",
          "10/2022",
          "11/2022",
          "12/2022",
          "01/2023"
         ],
         "y": [
          null,
          null,
          null,
          null,
          14927,
          63762,
          64048,
          83176,
          91049,
          86754,
          98081,
          86493,
          108992,
          57961,
          59727,
          59367,
          105887,
          100314,
          94229,
          55812,
          64527,
          146468,
          133597,
          52098,
          66809,
          76825,
          41100,
          41640,
          52637,
          24619,
          17245,
          15946,
          12848,
          9092,
          4413
         ]
        },
        {
         "name": "Cases",
         "type": "bar",
         "x": [
          "03/2020",
          "04/2020",
          "05/2020",
          "06/2020",
          "07/2020",
          "08/2020",
          "09/2020",
          "10/2020",
          "11/2020",
          "12/2020",
          "01/2021",
          "02/2021",
          "03/2021",
          "04/2021",
          "05/2021",
          "06/2021",
          "07/2021",
          "08/2021",
          "09/2021",
          "10/2021",
          "11/2021",
          "12/2021",
          "01/2022",
          "02/2022",
          "03/2022",
          "04/2022",
          "05/2022",
          "06/2022",
          "07/2022",
          "08/2022",
          "09/2022",
          "10/2022",
          "11/2022",
          "12/2022",
          "01/2023"
         ],
         "y": [
          169,
          296,
          153,
          52,
          154,
          1164,
          1175,
          2984,
          3831,
          2901,
          5129,
          4579,
          6551,
          1259,
          243,
          88,
          3672,
          1876,
          978,
          506,
          1782,
          13033,
          15244,
          3558,
          8267,
          12202,
          3001,
          8390,
          9696,
          1222,
          642,
          657,
          490,
          545,
          379
         ]
        },
        {
         "mode": "lines+markers",
         "name": "Positivity Rate",
         "type": "scatter",
         "x": [
          "03/2020",
          "04/2020",
          "05/2020",
          "06/2020",
          "07/2020",
          "08/2020",
          "09/2020",
          "10/2020",
          "11/2020",
          "12/2020",
          "01/2021",
          "02/2021",
          "03/2021",
          "04/2021",
          "05/2021",
          "06/2021",
          "07/2021",
          "08/2021",
          "09/2021",
          "10/2021",
          "11/2021",
          "12/2021",
          "01/2022",
          "02/2022",
          "03/2022",
          "04/2022",
          "05/2022",
          "06/2022",
          "07/2022",
          "08/2022",
          "09/2022",
          "10/2022",
          "11/2022",
          "12/2022",
          "01/2023"
         ],
         "xaxis": "x",
         "y": [
          null,
          null,
          null,
          null,
          1.0316875460574797,
          1.8255387221228947,
          1.834561578815888,
          3.5875733384630184,
          4.207624465946908,
          3.3439380316757727,
          5.229351250497038,
          5.2940700403500855,
          6.010532883147387,
          2.1721502389537792,
          0.4068511728364056,
          0.14823049842505095,
          3.467847800013222,
          1.8701277987120444,
          1.037897038066837,
          0.9066150648606034,
          2.7616346645590215,
          8.898189365595217,
          11.410435863080757,
          6.829436830588506,
          12.374081336346899,
          15.882850634559063,
          7.301703163017032,
          20.14889529298751,
          18.420502688223113,
          4.963645964498964,
          3.722818208176283,
          4.120155524896526,
          3.8138231631382316,
          5.994280686317642,
          8.588261953319737
         ],
         "yaxis": "y2"
        }
       ],
       "layout": {
        "barmode": "group",
        "template": {
         "data": {
          "bar": [
           {
            "error_x": {
             "color": "#2a3f5f"
            },
            "error_y": {
             "color": "#2a3f5f"
            },
            "marker": {
             "line": {
              "color": "#E5ECF6",
              "width": 0.5
             },
             "pattern": {
              "fillmode": "overlay",
              "size": 10,
              "solidity": 0.2
             }
            },
            "type": "bar"
           }
          ],
          "barpolar": [
           {
            "marker": {
             "line": {
              "color": "#E5ECF6",
              "width": 0.5
             },
             "pattern": {
              "fillmode": "overlay",
              "size": 10,
              "solidity": 0.2
             }
            },
            "type": "barpolar"
           }
          ],
          "carpet": [
           {
            "aaxis": {
             "endlinecolor": "#2a3f5f",
             "gridcolor": "white",
             "linecolor": "white",
             "minorgridcolor": "white",
             "startlinecolor": "#2a3f5f"
            },
            "baxis": {
             "endlinecolor": "#2a3f5f",
             "gridcolor": "white",
             "linecolor": "white",
             "minorgridcolor": "white",
             "startlinecolor": "#2a3f5f"
            },
            "type": "carpet"
           }
          ],
          "choropleth": [
           {
            "colorbar": {
             "outlinewidth": 0,
             "ticks": ""
            },
            "type": "choropleth"
           }
          ],
          "contour": [
           {
            "colorbar": {
             "outlinewidth": 0,
             "ticks": ""
            },
            "colorscale": [
             [
              0,
              "#0d0887"
             ],
             [
              0.1111111111111111,
              "#46039f"
             ],
             [
              0.2222222222222222,
              "#7201a8"
             ],
             [
              0.3333333333333333,
              "#9c179e"
             ],
             [
              0.4444444444444444,
              "#bd3786"
             ],
             [
              0.5555555555555556,
              "#d8576b"
             ],
             [
              0.6666666666666666,
              "#ed7953"
             ],
             [
              0.7777777777777778,
              "#fb9f3a"
             ],
             [
              0.8888888888888888,
              "#fdca26"
             ],
             [
              1,
              "#f0f921"
             ]
            ],
            "type": "contour"
           }
          ],
          "contourcarpet": [
           {
            "colorbar": {
             "outlinewidth": 0,
             "ticks": ""
            },
            "type": "contourcarpet"
           }
          ],
          "heatmap": [
           {
            "colorbar": {
             "outlinewidth": 0,
             "ticks": ""
            },
            "colorscale": [
             [
              0,
              "#0d0887"
             ],
             [
              0.1111111111111111,
              "#46039f"
             ],
             [
              0.2222222222222222,
              "#7201a8"
             ],
             [
              0.3333333333333333,
              "#9c179e"
             ],
             [
              0.4444444444444444,
              "#bd3786"
             ],
             [
              0.5555555555555556,
              "#d8576b"
             ],
             [
              0.6666666666666666,
              "#ed7953"
             ],
             [
              0.7777777777777778,
              "#fb9f3a"
             ],
             [
              0.8888888888888888,
              "#fdca26"
             ],
             [
              1,
              "#f0f921"
             ]
            ],
            "type": "heatmap"
           }
          ],
          "heatmapgl": [
           {
            "colorbar": {
             "outlinewidth": 0,
             "ticks": ""
            },
            "colorscale": [
             [
              0,
              "#0d0887"
             ],
             [
              0.1111111111111111,
              "#46039f"
             ],
             [
              0.2222222222222222,
              "#7201a8"
             ],
             [
              0.3333333333333333,
              "#9c179e"
             ],
             [
              0.4444444444444444,
              "#bd3786"
             ],
             [
              0.5555555555555556,
              "#d8576b"
             ],
             [
              0.6666666666666666,
              "#ed7953"
             ],
             [
              0.7777777777777778,
              "#fb9f3a"
             ],
             [
              0.8888888888888888,
              "#fdca26"
             ],
             [
              1,
              "#f0f921"
             ]
            ],
            "type": "heatmapgl"
           }
          ],
          "histogram": [
           {
            "marker": {
             "pattern": {
              "fillmode": "overlay",
              "size": 10,
              "solidity": 0.2
             }
            },
            "type": "histogram"
           }
          ],
          "histogram2d": [
           {
            "colorbar": {
             "outlinewidth": 0,
             "ticks": ""
            },
            "colorscale": [
             [
              0,
              "#0d0887"
             ],
             [
              0.1111111111111111,
              "#46039f"
             ],
             [
              0.2222222222222222,
              "#7201a8"
             ],
             [
              0.3333333333333333,
              "#9c179e"
             ],
             [
              0.4444444444444444,
              "#bd3786"
             ],
             [
              0.5555555555555556,
              "#d8576b"
             ],
             [
              0.6666666666666666,
              "#ed7953"
             ],
             [
              0.7777777777777778,
              "#fb9f3a"
             ],
             [
              0.8888888888888888,
              "#fdca26"
             ],
             [
              1,
              "#f0f921"
             ]
            ],
            "type": "histogram2d"
           }
          ],
          "histogram2dcontour": [
           {
            "colorbar": {
             "outlinewidth": 0,
             "ticks": ""
            },
            "colorscale": [
             [
              0,
              "#0d0887"
             ],
             [
              0.1111111111111111,
              "#46039f"
             ],
             [
              0.2222222222222222,
              "#7201a8"
             ],
             [
              0.3333333333333333,
              "#9c179e"
             ],
             [
              0.4444444444444444,
              "#bd3786"
             ],
             [
              0.5555555555555556,
              "#d8576b"
             ],
             [
              0.6666666666666666,
              "#ed7953"
             ],
             [
              0.7777777777777778,
              "#fb9f3a"
             ],
             [
              0.8888888888888888,
              "#fdca26"
             ],
             [
              1,
              "#f0f921"
             ]
            ],
            "type": "histogram2dcontour"
           }
          ],
          "mesh3d": [
           {
            "colorbar": {
             "outlinewidth": 0,
             "ticks": ""
            },
            "type": "mesh3d"
           }
          ],
          "parcoords": [
           {
            "line": {
             "colorbar": {
              "outlinewidth": 0,
              "ticks": ""
             }
            },
            "type": "parcoords"
           }
          ],
          "pie": [
           {
            "automargin": true,
            "type": "pie"
           }
          ],
          "scatter": [
           {
            "fillpattern": {
             "fillmode": "overlay",
             "size": 10,
             "solidity": 0.2
            },
            "type": "scatter"
           }
          ],
          "scatter3d": [
           {
            "line": {
             "colorbar": {
              "outlinewidth": 0,
              "ticks": ""
             }
            },
            "marker": {
             "colorbar": {
              "outlinewidth": 0,
              "ticks": ""
             }
            },
            "type": "scatter3d"
           }
          ],
          "scattercarpet": [
           {
            "marker": {
             "colorbar": {
              "outlinewidth": 0,
              "ticks": ""
             }
            },
            "type": "scattercarpet"
           }
          ],
          "scattergeo": [
           {
            "marker": {
             "colorbar": {
              "outlinewidth": 0,
              "ticks": ""
             }
            },
            "type": "scattergeo"
           }
          ],
          "scattergl": [
           {
            "marker": {
             "colorbar": {
              "outlinewidth": 0,
              "ticks": ""
             }
            },
            "type": "scattergl"
           }
          ],
          "scattermapbox": [
           {
            "marker": {
             "colorbar": {
              "outlinewidth": 0,
              "ticks": ""
             }
            },
            "type": "scattermapbox"
           }
          ],
          "scatterpolar": [
           {
            "marker": {
             "colorbar": {
              "outlinewidth": 0,
              "ticks": ""
             }
            },
            "type": "scatterpolar"
           }
          ],
          "scatterpolargl": [
           {
            "marker": {
             "colorbar": {
              "outlinewidth": 0,
              "ticks": ""
             }
            },
            "type": "scatterpolargl"
           }
          ],
          "scatterternary": [
           {
            "marker": {
             "colorbar": {
              "outlinewidth": 0,
              "ticks": ""
             }
            },
            "type": "scatterternary"
           }
          ],
          "surface": [
           {
            "colorbar": {
             "outlinewidth": 0,
             "ticks": ""
            },
            "colorscale": [
             [
              0,
              "#0d0887"
             ],
             [
              0.1111111111111111,
              "#46039f"
             ],
             [
              0.2222222222222222,
              "#7201a8"
             ],
             [
              0.3333333333333333,
              "#9c179e"
             ],
             [
              0.4444444444444444,
              "#bd3786"
             ],
             [
              0.5555555555555556,
              "#d8576b"
             ],
             [
              0.6666666666666666,
              "#ed7953"
             ],
             [
              0.7777777777777778,
              "#fb9f3a"
             ],
             [
              0.8888888888888888,
              "#fdca26"
             ],
             [
              1,
              "#f0f921"
             ]
            ],
            "type": "surface"
           }
          ],
          "table": [
           {
            "cells": {
             "fill": {
              "color": "#EBF0F8"
             },
             "line": {
              "color": "white"
             }
            },
            "header": {
             "fill": {
              "color": "#C8D4E3"
             },
             "line": {
              "color": "white"
             }
            },
            "type": "table"
           }
          ]
         },
         "layout": {
          "annotationdefaults": {
           "arrowcolor": "#2a3f5f",
           "arrowhead": 0,
           "arrowwidth": 1
          },
          "autotypenumbers": "strict",
          "coloraxis": {
           "colorbar": {
            "outlinewidth": 0,
            "ticks": ""
           }
          },
          "colorscale": {
           "diverging": [
            [
             0,
             "#8e0152"
            ],
            [
             0.1,
             "#c51b7d"
            ],
            [
             0.2,
             "#de77ae"
            ],
            [
             0.3,
             "#f1b6da"
            ],
            [
             0.4,
             "#fde0ef"
            ],
            [
             0.5,
             "#f7f7f7"
            ],
            [
             0.6,
             "#e6f5d0"
            ],
            [
             0.7,
             "#b8e186"
            ],
            [
             0.8,
             "#7fbc41"
            ],
            [
             0.9,
             "#4d9221"
            ],
            [
             1,
             "#276419"
            ]
           ],
           "sequential": [
            [
             0,
             "#0d0887"
            ],
            [
             0.1111111111111111,
             "#46039f"
            ],
            [
             0.2222222222222222,
             "#7201a8"
            ],
            [
             0.3333333333333333,
             "#9c179e"
            ],
            [
             0.4444444444444444,
             "#bd3786"
            ],
            [
             0.5555555555555556,
             "#d8576b"
            ],
            [
             0.6666666666666666,
             "#ed7953"
            ],
            [
             0.7777777777777778,
             "#fb9f3a"
            ],
            [
             0.8888888888888888,
             "#fdca26"
            ],
            [
             1,
             "#f0f921"
            ]
           ],
           "sequentialminus": [
            [
             0,
             "#0d0887"
            ],
            [
             0.1111111111111111,
             "#46039f"
            ],
            [
             0.2222222222222222,
             "#7201a8"
            ],
            [
             0.3333333333333333,
             "#9c179e"
            ],
            [
             0.4444444444444444,
             "#bd3786"
            ],
            [
             0.5555555555555556,
             "#d8576b"
            ],
            [
             0.6666666666666666,
             "#ed7953"
            ],
            [
             0.7777777777777778,
             "#fb9f3a"
            ],
            [
             0.8888888888888888,
             "#fdca26"
            ],
            [
             1,
             "#f0f921"
            ]
           ]
          },
          "colorway": [
           "#636efa",
           "#EF553B",
           "#00cc96",
           "#ab63fa",
           "#FFA15A",
           "#19d3f3",
           "#FF6692",
           "#B6E880",
           "#FF97FF",
           "#FECB52"
          ],
          "font": {
           "color": "#2a3f5f"
          },
          "geo": {
           "bgcolor": "white",
           "lakecolor": "white",
           "landcolor": "#E5ECF6",
           "showlakes": true,
           "showland": true,
           "subunitcolor": "white"
          },
          "hoverlabel": {
           "align": "left"
          },
          "hovermode": "closest",
          "mapbox": {
           "style": "light"
          },
          "paper_bgcolor": "white",
          "plot_bgcolor": "#E5ECF6",
          "polar": {
           "angularaxis": {
            "gridcolor": "white",
            "linecolor": "white",
            "ticks": ""
           },
           "bgcolor": "#E5ECF6",
           "radialaxis": {
            "gridcolor": "white",
            "linecolor": "white",
            "ticks": ""
           }
          },
          "scene": {
           "xaxis": {
            "backgroundcolor": "#E5ECF6",
            "gridcolor": "white",
            "gridwidth": 2,
            "linecolor": "white",
            "showbackground": true,
            "ticks": "",
            "zerolinecolor": "white"
           },
           "yaxis": {
            "backgroundcolor": "#E5ECF6",
            "gridcolor": "white",
            "gridwidth": 2,
            "linecolor": "white",
            "showbackground": true,
            "ticks": "",
            "zerolinecolor": "white"
           },
           "zaxis": {
            "backgroundcolor": "#E5ECF6",
            "gridcolor": "white",
            "gridwidth": 2,
            "linecolor": "white",
            "showbackground": true,
            "ticks": "",
            "zerolinecolor": "white"
           }
          },
          "shapedefaults": {
           "line": {
            "color": "#2a3f5f"
           }
          },
          "ternary": {
           "aaxis": {
            "gridcolor": "white",
            "linecolor": "white",
            "ticks": ""
           },
           "baxis": {
            "gridcolor": "white",
            "linecolor": "white",
            "ticks": ""
           },
           "bgcolor": "#E5ECF6",
           "caxis": {
            "gridcolor": "white",
            "linecolor": "white",
            "ticks": ""
           }
          },
          "title": {
           "x": 0.05
          },
          "xaxis": {
           "automargin": true,
           "gridcolor": "white",
           "linecolor": "white",
           "ticks": "",
           "title": {
            "standoff": 15
           },
           "zerolinecolor": "white",
           "zerolinewidth": 2
          },
          "yaxis": {
           "automargin": true,
           "gridcolor": "white",
           "linecolor": "white",
           "ticks": "",
           "title": {
            "standoff": 15
           },
           "zerolinecolor": "white",
           "zerolinewidth": 2
          }
         }
        },
        "title": {
         "text": "Tests, New Cases & Positivity Rate %"
        },
        "xaxis": {
         "anchor": "y",
         "domain": [
          0,
          0.94
         ]
        },
        "yaxis": {
         "anchor": "x",
         "domain": [
          0,
          1
         ],
         "title": {
          "text": "Cases / Tests"
         }
        },
        "yaxis2": {
         "anchor": "x",
         "overlaying": "y",
         "side": "right",
         "title": {
          "text": "Rate %"
         }
        }
       }
      },
      "text/html": [
       "<div>                            <div id=\"4fa7f104-3d86-4e26-8db6-7bc1e0df4cc1\" class=\"plotly-graph-div\" style=\"height:525px; width:100%;\"></div>            <script type=\"text/javascript\">                require([\"plotly\"], function(Plotly) {                    window.PLOTLYENV=window.PLOTLYENV || {};                                    if (document.getElementById(\"4fa7f104-3d86-4e26-8db6-7bc1e0df4cc1\")) {                    Plotly.newPlot(                        \"4fa7f104-3d86-4e26-8db6-7bc1e0df4cc1\",                        [{\"name\":\"Tests\",\"x\":[\"03/2020\",\"04/2020\",\"05/2020\",\"06/2020\",\"07/2020\",\"08/2020\",\"09/2020\",\"10/2020\",\"11/2020\",\"12/2020\",\"01/2021\",\"02/2021\",\"03/2021\",\"04/2021\",\"05/2021\",\"06/2021\",\"07/2021\",\"08/2021\",\"09/2021\",\"10/2021\",\"11/2021\",\"12/2021\",\"01/2022\",\"02/2022\",\"03/2022\",\"04/2022\",\"05/2022\",\"06/2022\",\"07/2022\",\"08/2022\",\"09/2022\",\"10/2022\",\"11/2022\",\"12/2022\",\"01/2023\"],\"y\":[null,null,null,null,14927,63762,64048,83176,91049,86754,98081,86493,108992,57961,59727,59367,105887,100314,94229,55812,64527,146468,133597,52098,66809,76825,41100,41640,52637,24619,17245,15946,12848,9092,4413],\"type\":\"bar\"},{\"name\":\"Cases\",\"x\":[\"03/2020\",\"04/2020\",\"05/2020\",\"06/2020\",\"07/2020\",\"08/2020\",\"09/2020\",\"10/2020\",\"11/2020\",\"12/2020\",\"01/2021\",\"02/2021\",\"03/2021\",\"04/2021\",\"05/2021\",\"06/2021\",\"07/2021\",\"08/2021\",\"09/2021\",\"10/2021\",\"11/2021\",\"12/2021\",\"01/2022\",\"02/2022\",\"03/2022\",\"04/2022\",\"05/2022\",\"06/2022\",\"07/2022\",\"08/2022\",\"09/2022\",\"10/2022\",\"11/2022\",\"12/2022\",\"01/2023\"],\"y\":[169,296,153,52,154,1164,1175,2984,3831,2901,5129,4579,6551,1259,243,88,3672,1876,978,506,1782,13033,15244,3558,8267,12202,3001,8390,9696,1222,642,657,490,545,379],\"type\":\"bar\"},{\"mode\":\"lines+markers\",\"name\":\"Positivity Rate\",\"x\":[\"03/2020\",\"04/2020\",\"05/2020\",\"06/2020\",\"07/2020\",\"08/2020\",\"09/2020\",\"10/2020\",\"11/2020\",\"12/2020\",\"01/2021\",\"02/2021\",\"03/2021\",\"04/2021\",\"05/2021\",\"06/2021\",\"07/2021\",\"08/2021\",\"09/2021\",\"10/2021\",\"11/2021\",\"12/2021\",\"01/2022\",\"02/2022\",\"03/2022\",\"04/2022\",\"05/2022\",\"06/2022\",\"07/2022\",\"08/2022\",\"09/2022\",\"10/2022\",\"11/2022\",\"12/2022\",\"01/2023\"],\"y\":[null,null,null,null,1.0316875460574797,1.8255387221228947,1.834561578815888,3.5875733384630184,4.207624465946908,3.3439380316757727,5.229351250497038,5.2940700403500855,6.010532883147387,2.1721502389537792,0.4068511728364056,0.14823049842505095,3.467847800013222,1.8701277987120444,1.037897038066837,0.9066150648606034,2.7616346645590215,8.898189365595217,11.410435863080757,6.829436830588506,12.374081336346899,15.882850634559063,7.301703163017032,20.14889529298751,18.420502688223113,4.963645964498964,3.722818208176283,4.120155524896526,3.8138231631382316,5.994280686317642,8.588261953319737],\"type\":\"scatter\",\"xaxis\":\"x\",\"yaxis\":\"y2\"}],                        {\"template\":{\"data\":{\"histogram2dcontour\":[{\"type\":\"histogram2dcontour\",\"colorbar\":{\"outlinewidth\":0,\"ticks\":\"\"},\"colorscale\":[[0.0,\"#0d0887\"],[0.1111111111111111,\"#46039f\"],[0.2222222222222222,\"#7201a8\"],[0.3333333333333333,\"#9c179e\"],[0.4444444444444444,\"#bd3786\"],[0.5555555555555556,\"#d8576b\"],[0.6666666666666666,\"#ed7953\"],[0.7777777777777778,\"#fb9f3a\"],[0.8888888888888888,\"#fdca26\"],[1.0,\"#f0f921\"]]}],\"choropleth\":[{\"type\":\"choropleth\",\"colorbar\":{\"outlinewidth\":0,\"ticks\":\"\"}}],\"histogram2d\":[{\"type\":\"histogram2d\",\"colorbar\":{\"outlinewidth\":0,\"ticks\":\"\"},\"colorscale\":[[0.0,\"#0d0887\"],[0.1111111111111111,\"#46039f\"],[0.2222222222222222,\"#7201a8\"],[0.3333333333333333,\"#9c179e\"],[0.4444444444444444,\"#bd3786\"],[0.5555555555555556,\"#d8576b\"],[0.6666666666666666,\"#ed7953\"],[0.7777777777777778,\"#fb9f3a\"],[0.8888888888888888,\"#fdca26\"],[1.0,\"#f0f921\"]]}],\"heatmap\":[{\"type\":\"heatmap\",\"colorbar\":{\"outlinewidth\":0,\"ticks\":\"\"},\"colorscale\":[[0.0,\"#0d0887\"],[0.1111111111111111,\"#46039f\"],[0.2222222222222222,\"#7201a8\"],[0.3333333333333333,\"#9c179e\"],[0.4444444444444444,\"#bd3786\"],[0.5555555555555556,\"#d8576b\"],[0.6666666666666666,\"#ed7953\"],[0.7777777777777778,\"#fb9f3a\"],[0.8888888888888888,\"#fdca26\"],[1.0,\"#f0f921\"]]}],\"heatmapgl\":[{\"type\":\"heatmapgl\",\"colorbar\":{\"outlinewidth\":0,\"ticks\":\"\"},\"colorscale\":[[0.0,\"#0d0887\"],[0.1111111111111111,\"#46039f\"],[0.2222222222222222,\"#7201a8\"],[0.3333333333333333,\"#9c179e\"],[0.4444444444444444,\"#bd3786\"],[0.5555555555555556,\"#d8576b\"],[0.6666666666666666,\"#ed7953\"],[0.7777777777777778,\"#fb9f3a\"],[0.8888888888888888,\"#fdca26\"],[1.0,\"#f0f921\"]]}],\"contourcarpet\":[{\"type\":\"contourcarpet\",\"colorbar\":{\"outlinewidth\":0,\"ticks\":\"\"}}],\"contour\":[{\"type\":\"contour\",\"colorbar\":{\"outlinewidth\":0,\"ticks\":\"\"},\"colorscale\":[[0.0,\"#0d0887\"],[0.1111111111111111,\"#46039f\"],[0.2222222222222222,\"#7201a8\"],[0.3333333333333333,\"#9c179e\"],[0.4444444444444444,\"#bd3786\"],[0.5555555555555556,\"#d8576b\"],[0.6666666666666666,\"#ed7953\"],[0.7777777777777778,\"#fb9f3a\"],[0.8888888888888888,\"#fdca26\"],[1.0,\"#f0f921\"]]}],\"surface\":[{\"type\":\"surface\",\"colorbar\":{\"outlinewidth\":0,\"ticks\":\"\"},\"colorscale\":[[0.0,\"#0d0887\"],[0.1111111111111111,\"#46039f\"],[0.2222222222222222,\"#7201a8\"],[0.3333333333333333,\"#9c179e\"],[0.4444444444444444,\"#bd3786\"],[0.5555555555555556,\"#d8576b\"],[0.6666666666666666,\"#ed7953\"],[0.7777777777777778,\"#fb9f3a\"],[0.8888888888888888,\"#fdca26\"],[1.0,\"#f0f921\"]]}],\"mesh3d\":[{\"type\":\"mesh3d\",\"colorbar\":{\"outlinewidth\":0,\"ticks\":\"\"}}],\"scatter\":[{\"fillpattern\":{\"fillmode\":\"overlay\",\"size\":10,\"solidity\":0.2},\"type\":\"scatter\"}],\"parcoords\":[{\"type\":\"parcoords\",\"line\":{\"colorbar\":{\"outlinewidth\":0,\"ticks\":\"\"}}}],\"scatterpolargl\":[{\"type\":\"scatterpolargl\",\"marker\":{\"colorbar\":{\"outlinewidth\":0,\"ticks\":\"\"}}}],\"bar\":[{\"error_x\":{\"color\":\"#2a3f5f\"},\"error_y\":{\"color\":\"#2a3f5f\"},\"marker\":{\"line\":{\"color\":\"#E5ECF6\",\"width\":0.5},\"pattern\":{\"fillmode\":\"overlay\",\"size\":10,\"solidity\":0.2}},\"type\":\"bar\"}],\"scattergeo\":[{\"type\":\"scattergeo\",\"marker\":{\"colorbar\":{\"outlinewidth\":0,\"ticks\":\"\"}}}],\"scatterpolar\":[{\"type\":\"scatterpolar\",\"marker\":{\"colorbar\":{\"outlinewidth\":0,\"ticks\":\"\"}}}],\"histogram\":[{\"marker\":{\"pattern\":{\"fillmode\":\"overlay\",\"size\":10,\"solidity\":0.2}},\"type\":\"histogram\"}],\"scattergl\":[{\"type\":\"scattergl\",\"marker\":{\"colorbar\":{\"outlinewidth\":0,\"ticks\":\"\"}}}],\"scatter3d\":[{\"type\":\"scatter3d\",\"line\":{\"colorbar\":{\"outlinewidth\":0,\"ticks\":\"\"}},\"marker\":{\"colorbar\":{\"outlinewidth\":0,\"ticks\":\"\"}}}],\"scattermapbox\":[{\"type\":\"scattermapbox\",\"marker\":{\"colorbar\":{\"outlinewidth\":0,\"ticks\":\"\"}}}],\"scatterternary\":[{\"type\":\"scatterternary\",\"marker\":{\"colorbar\":{\"outlinewidth\":0,\"ticks\":\"\"}}}],\"scattercarpet\":[{\"type\":\"scattercarpet\",\"marker\":{\"colorbar\":{\"outlinewidth\":0,\"ticks\":\"\"}}}],\"carpet\":[{\"aaxis\":{\"endlinecolor\":\"#2a3f5f\",\"gridcolor\":\"white\",\"linecolor\":\"white\",\"minorgridcolor\":\"white\",\"startlinecolor\":\"#2a3f5f\"},\"baxis\":{\"endlinecolor\":\"#2a3f5f\",\"gridcolor\":\"white\",\"linecolor\":\"white\",\"minorgridcolor\":\"white\",\"startlinecolor\":\"#2a3f5f\"},\"type\":\"carpet\"}],\"table\":[{\"cells\":{\"fill\":{\"color\":\"#EBF0F8\"},\"line\":{\"color\":\"white\"}},\"header\":{\"fill\":{\"color\":\"#C8D4E3\"},\"line\":{\"color\":\"white\"}},\"type\":\"table\"}],\"barpolar\":[{\"marker\":{\"line\":{\"color\":\"#E5ECF6\",\"width\":0.5},\"pattern\":{\"fillmode\":\"overlay\",\"size\":10,\"solidity\":0.2}},\"type\":\"barpolar\"}],\"pie\":[{\"automargin\":true,\"type\":\"pie\"}]},\"layout\":{\"autotypenumbers\":\"strict\",\"colorway\":[\"#636efa\",\"#EF553B\",\"#00cc96\",\"#ab63fa\",\"#FFA15A\",\"#19d3f3\",\"#FF6692\",\"#B6E880\",\"#FF97FF\",\"#FECB52\"],\"font\":{\"color\":\"#2a3f5f\"},\"hovermode\":\"closest\",\"hoverlabel\":{\"align\":\"left\"},\"paper_bgcolor\":\"white\",\"plot_bgcolor\":\"#E5ECF6\",\"polar\":{\"bgcolor\":\"#E5ECF6\",\"angularaxis\":{\"gridcolor\":\"white\",\"linecolor\":\"white\",\"ticks\":\"\"},\"radialaxis\":{\"gridcolor\":\"white\",\"linecolor\":\"white\",\"ticks\":\"\"}},\"ternary\":{\"bgcolor\":\"#E5ECF6\",\"aaxis\":{\"gridcolor\":\"white\",\"linecolor\":\"white\",\"ticks\":\"\"},\"baxis\":{\"gridcolor\":\"white\",\"linecolor\":\"white\",\"ticks\":\"\"},\"caxis\":{\"gridcolor\":\"white\",\"linecolor\":\"white\",\"ticks\":\"\"}},\"coloraxis\":{\"colorbar\":{\"outlinewidth\":0,\"ticks\":\"\"}},\"colorscale\":{\"sequential\":[[0.0,\"#0d0887\"],[0.1111111111111111,\"#46039f\"],[0.2222222222222222,\"#7201a8\"],[0.3333333333333333,\"#9c179e\"],[0.4444444444444444,\"#bd3786\"],[0.5555555555555556,\"#d8576b\"],[0.6666666666666666,\"#ed7953\"],[0.7777777777777778,\"#fb9f3a\"],[0.8888888888888888,\"#fdca26\"],[1.0,\"#f0f921\"]],\"sequentialminus\":[[0.0,\"#0d0887\"],[0.1111111111111111,\"#46039f\"],[0.2222222222222222,\"#7201a8\"],[0.3333333333333333,\"#9c179e\"],[0.4444444444444444,\"#bd3786\"],[0.5555555555555556,\"#d8576b\"],[0.6666666666666666,\"#ed7953\"],[0.7777777777777778,\"#fb9f3a\"],[0.8888888888888888,\"#fdca26\"],[1.0,\"#f0f921\"]],\"diverging\":[[0,\"#8e0152\"],[0.1,\"#c51b7d\"],[0.2,\"#de77ae\"],[0.3,\"#f1b6da\"],[0.4,\"#fde0ef\"],[0.5,\"#f7f7f7\"],[0.6,\"#e6f5d0\"],[0.7,\"#b8e186\"],[0.8,\"#7fbc41\"],[0.9,\"#4d9221\"],[1,\"#276419\"]]},\"xaxis\":{\"gridcolor\":\"white\",\"linecolor\":\"white\",\"ticks\":\"\",\"title\":{\"standoff\":15},\"zerolinecolor\":\"white\",\"automargin\":true,\"zerolinewidth\":2},\"yaxis\":{\"gridcolor\":\"white\",\"linecolor\":\"white\",\"ticks\":\"\",\"title\":{\"standoff\":15},\"zerolinecolor\":\"white\",\"automargin\":true,\"zerolinewidth\":2},\"scene\":{\"xaxis\":{\"backgroundcolor\":\"#E5ECF6\",\"gridcolor\":\"white\",\"linecolor\":\"white\",\"showbackground\":true,\"ticks\":\"\",\"zerolinecolor\":\"white\",\"gridwidth\":2},\"yaxis\":{\"backgroundcolor\":\"#E5ECF6\",\"gridcolor\":\"white\",\"linecolor\":\"white\",\"showbackground\":true,\"ticks\":\"\",\"zerolinecolor\":\"white\",\"gridwidth\":2},\"zaxis\":{\"backgroundcolor\":\"#E5ECF6\",\"gridcolor\":\"white\",\"linecolor\":\"white\",\"showbackground\":true,\"ticks\":\"\",\"zerolinecolor\":\"white\",\"gridwidth\":2}},\"shapedefaults\":{\"line\":{\"color\":\"#2a3f5f\"}},\"annotationdefaults\":{\"arrowcolor\":\"#2a3f5f\",\"arrowhead\":0,\"arrowwidth\":1},\"geo\":{\"bgcolor\":\"white\",\"landcolor\":\"#E5ECF6\",\"subunitcolor\":\"white\",\"showland\":true,\"showlakes\":true,\"lakecolor\":\"white\"},\"title\":{\"x\":0.05},\"mapbox\":{\"style\":\"light\"}}},\"xaxis\":{\"anchor\":\"y\",\"domain\":[0.0,0.94]},\"yaxis\":{\"anchor\":\"x\",\"domain\":[0.0,1.0],\"title\":{\"text\":\"Cases / Tests\"}},\"yaxis2\":{\"anchor\":\"x\",\"overlaying\":\"y\",\"side\":\"right\",\"title\":{\"text\":\"Rate %\"}},\"barmode\":\"group\",\"title\":{\"text\":\"Tests, New Cases & Positivity Rate %\"}},                        {\"responsive\": true}                    ).then(function(){\n",
       "                            \n",
       "var gd = document.getElementById('4fa7f104-3d86-4e26-8db6-7bc1e0df4cc1');\n",
       "var x = new MutationObserver(function (mutations, observer) {{\n",
       "        var display = window.getComputedStyle(gd).display;\n",
       "        if (!display || display === 'none') {{\n",
       "            console.log([gd, 'removed!']);\n",
       "            Plotly.purge(gd);\n",
       "            observer.disconnect();\n",
       "        }}\n",
       "}});\n",
       "\n",
       "// Listen for the removal of the full notebook cells\n",
       "var notebookContainer = gd.closest('#notebook-container');\n",
       "if (notebookContainer) {{\n",
       "    x.observe(notebookContainer, {childList: true});\n",
       "}}\n",
       "\n",
       "// Listen for the clearing of the current output cell\n",
       "var outputEl = gd.closest('.output');\n",
       "if (outputEl) {{\n",
       "    x.observe(outputEl, {childList: true});\n",
       "}}\n",
       "\n",
       "                        })                };                });            </script>        </div>"
      ]
     },
     "metadata": {},
     "output_type": "display_data"
    }
   ],
   "source": [
    "fig = make_subplots(specs=[[{\"secondary_y\": True}]])\n",
    "\n",
    "fig.add_traces([\n",
    "    go.Bar(name='Tests', x=data_df['Date'], y=data_df['New Tests']),\n",
    "    go.Bar(name='Cases', x=data_df['Date'], y=data_df['New Cases'])\n",
    "])\n",
    "fig.update_layout(barmode='group')\n",
    "\n",
    "fig.add_trace(\n",
    "    go.Scatter(\n",
    "        x=data_df['Date'],\n",
    "        y=data_df['Positivity Rate'],\n",
    "        mode='lines+markers',\n",
    "        name='Positivity Rate'\n",
    "    ),\n",
    "    secondary_y=True\n",
    ")\n",
    "\n",
    "fig.update_layout(\n",
    "    title_text=\"Tests, New Cases & Positivity Rate %\"\n",
    ")\n",
    "\n",
    "fig.update_yaxes(title_text=\"Cases / Tests\", secondary_y=False)\n",
    "fig.update_yaxes(title_text=\"Rate %\", secondary_y=True)\n",
    "\n",
    "fig.show()"
   ]
  },
  {
   "attachments": {},
   "cell_type": "markdown",
   "metadata": {},
   "source": [
    "#### Distribution of Daily Tests & New Cases"
   ]
  },
  {
   "cell_type": "code",
   "execution_count": 234,
   "metadata": {},
   "outputs": [
    {
     "data": {
      "application/vnd.plotly.v1+json": {
       "config": {
        "plotlyServerURL": "https://plot.ly"
       },
       "data": [
        {
         "legendgroup": "Daily Tests",
         "marker": {
          "color": "rgb(31, 119, 180)"
         },
         "mode": "lines",
         "name": "Daily Tests",
         "showlegend": true,
         "type": "scatter",
         "x": [
          122,
          138.136,
          154.272,
          170.40800000000002,
          186.54399999999998,
          202.68,
          218.816,
          234.952,
          251.088,
          267.224,
          283.36,
          299.496,
          315.632,
          331.76800000000003,
          347.904,
          364.03999999999996,
          380.176,
          396.312,
          412.448,
          428.584,
          444.72,
          460.856,
          476.992,
          493.128,
          509.264,
          525.4,
          541.5360000000001,
          557.672,
          573.808,
          589.944,
          606.0799999999999,
          622.216,
          638.352,
          654.488,
          670.624,
          686.76,
          702.896,
          719.032,
          735.168,
          751.304,
          767.44,
          783.576,
          799.712,
          815.848,
          831.984,
          848.12,
          864.256,
          880.392,
          896.528,
          912.664,
          928.8,
          944.936,
          961.072,
          977.208,
          993.344,
          1009.48,
          1025.616,
          1041.752,
          1057.888,
          1074.024,
          1090.1599999999999,
          1106.296,
          1122.432,
          1138.568,
          1154.704,
          1170.84,
          1186.976,
          1203.112,
          1219.248,
          1235.384,
          1251.52,
          1267.656,
          1283.792,
          1299.928,
          1316.064,
          1332.2,
          1348.336,
          1364.472,
          1380.608,
          1396.744,
          1412.88,
          1429.016,
          1445.152,
          1461.288,
          1477.424,
          1493.56,
          1509.696,
          1525.832,
          1541.968,
          1558.104,
          1574.24,
          1590.376,
          1606.512,
          1622.648,
          1638.784,
          1654.92,
          1671.056,
          1687.192,
          1703.328,
          1719.464,
          1735.6,
          1751.736,
          1767.872,
          1784.008,
          1800.144,
          1816.28,
          1832.416,
          1848.552,
          1864.688,
          1880.824,
          1896.96,
          1913.096,
          1929.232,
          1945.368,
          1961.504,
          1977.64,
          1993.776,
          2009.912,
          2026.048,
          2042.184,
          2058.3199999999997,
          2074.456,
          2090.592,
          2106.728,
          2122.864,
          2139,
          2155.136,
          2171.272,
          2187.408,
          2203.544,
          2219.68,
          2235.816,
          2251.952,
          2268.088,
          2284.224,
          2300.36,
          2316.496,
          2332.632,
          2348.768,
          2364.904,
          2381.04,
          2397.176,
          2413.312,
          2429.448,
          2445.584,
          2461.72,
          2477.856,
          2493.992,
          2510.128,
          2526.264,
          2542.4,
          2558.536,
          2574.672,
          2590.808,
          2606.944,
          2623.08,
          2639.216,
          2655.352,
          2671.488,
          2687.624,
          2703.76,
          2719.896,
          2736.032,
          2752.168,
          2768.304,
          2784.44,
          2800.576,
          2816.712,
          2832.848,
          2848.984,
          2865.12,
          2881.256,
          2897.392,
          2913.528,
          2929.664,
          2945.8,
          2961.936,
          2978.072,
          2994.208,
          3010.344,
          3026.48,
          3042.616,
          3058.752,
          3074.888,
          3091.024,
          3107.16,
          3123.296,
          3139.432,
          3155.568,
          3171.704,
          3187.84,
          3203.976,
          3220.112,
          3236.248,
          3252.384,
          3268.52,
          3284.656,
          3300.792,
          3316.928,
          3333.064,
          3349.2,
          3365.336,
          3381.472,
          3397.608,
          3413.744,
          3429.88,
          3446.016,
          3462.152,
          3478.288,
          3494.424,
          3510.56,
          3526.696,
          3542.832,
          3558.968,
          3575.104,
          3591.24,
          3607.376,
          3623.512,
          3639.648,
          3655.784,
          3671.92,
          3688.056,
          3704.192,
          3720.328,
          3736.464,
          3752.6,
          3768.736,
          3784.872,
          3801.008,
          3817.144,
          3833.28,
          3849.416,
          3865.552,
          3881.688,
          3897.824,
          3913.96,
          3930.096,
          3946.232,
          3962.368,
          3978.504,
          3994.64,
          4010.776,
          4026.912,
          4043.048,
          4059.184,
          4075.32,
          4091.456,
          4107.592000000001,
          4123.728,
          4139.864,
          4156,
          4172.136,
          4188.272,
          4204.407999999999,
          4220.544,
          4236.68,
          4252.816,
          4268.952,
          4285.088,
          4301.224,
          4317.36,
          4333.496,
          4349.632,
          4365.768,
          4381.904,
          4398.04,
          4414.176,
          4430.312,
          4446.448,
          4462.584,
          4478.72,
          4494.856,
          4510.992,
          4527.128,
          4543.264,
          4559.4,
          4575.536,
          4591.672,
          4607.808,
          4623.944,
          4640.08,
          4656.216,
          4672.352,
          4688.488,
          4704.624,
          4720.76,
          4736.896,
          4753.032,
          4769.168,
          4785.304,
          4801.44,
          4817.576,
          4833.712,
          4849.848,
          4865.984,
          4882.12,
          4898.256,
          4914.392,
          4930.528,
          4946.664,
          4962.8,
          4978.936,
          4995.072,
          5011.208,
          5027.344,
          5043.48,
          5059.616,
          5075.752,
          5091.888,
          5108.024,
          5124.16,
          5140.296,
          5156.432,
          5172.568,
          5188.704,
          5204.84,
          5220.976,
          5237.112,
          5253.248,
          5269.384,
          5285.52,
          5301.656,
          5317.792,
          5333.928,
          5350.064,
          5366.2,
          5382.336,
          5398.472,
          5414.608,
          5430.744,
          5446.88,
          5463.016,
          5479.152,
          5495.288,
          5511.424,
          5527.56,
          5543.696,
          5559.832,
          5575.968,
          5592.104,
          5608.24,
          5624.376,
          5640.512,
          5656.648,
          5672.784,
          5688.92,
          5705.056,
          5721.192,
          5737.328,
          5753.464,
          5769.6,
          5785.736,
          5801.872,
          5818.008,
          5834.144,
          5850.28,
          5866.416,
          5882.552,
          5898.688,
          5914.824,
          5930.96,
          5947.096,
          5963.232,
          5979.368,
          5995.504,
          6011.64,
          6027.776,
          6043.912,
          6060.048,
          6076.184,
          6092.32,
          6108.456,
          6124.592,
          6140.728,
          6156.864,
          6173,
          6189.136,
          6205.272,
          6221.408,
          6237.544,
          6253.68,
          6269.816,
          6285.952,
          6302.088,
          6318.224,
          6334.36,
          6350.496,
          6366.632,
          6382.768,
          6398.904,
          6415.04,
          6431.176,
          6447.312,
          6463.448,
          6479.584,
          6495.72,
          6511.856,
          6527.992,
          6544.128,
          6560.264,
          6576.4,
          6592.536,
          6608.672,
          6624.808,
          6640.944,
          6657.08,
          6673.216,
          6689.352,
          6705.488,
          6721.624,
          6737.76,
          6753.896,
          6770.032,
          6786.168,
          6802.304,
          6818.44,
          6834.576,
          6850.712,
          6866.848,
          6882.984,
          6899.12,
          6915.256,
          6931.392,
          6947.528,
          6963.664,
          6979.8,
          6995.936,
          7012.072,
          7028.208,
          7044.344,
          7060.48,
          7076.616,
          7092.752,
          7108.888,
          7125.024,
          7141.16,
          7157.296,
          7173.432,
          7189.568,
          7205.704,
          7221.84,
          7237.976,
          7254.112,
          7270.248,
          7286.384,
          7302.52,
          7318.656,
          7334.792,
          7350.928,
          7367.064,
          7383.2,
          7399.336,
          7415.472,
          7431.608,
          7447.744,
          7463.88,
          7480.016,
          7496.152,
          7512.288,
          7528.424,
          7544.56,
          7560.696,
          7576.832,
          7592.968,
          7609.104,
          7625.24,
          7641.376,
          7657.512,
          7673.648,
          7689.784,
          7705.92,
          7722.056,
          7738.192,
          7754.328,
          7770.464,
          7786.6,
          7802.736,
          7818.872,
          7835.008,
          7851.144,
          7867.28,
          7883.416,
          7899.552,
          7915.688,
          7931.824,
          7947.96,
          7964.096,
          7980.232,
          7996.368,
          8012.504,
          8028.64,
          8044.776,
          8060.912,
          8077.048,
          8093.184,
          8109.32,
          8125.456,
          8141.592,
          8157.728,
          8173.864
         ],
         "xaxis": "x",
         "y": [
          0.0001180644474231937,
          0.00012337181545274504,
          0.00012867308353768439,
          0.00013394900797309412,
          0.00013917996375959572,
          0.00014434609811831998,
          0.0001494274914034065,
          0.0001544043236605864,
          0.0001592570449474742,
          0.00016396654742532104,
          0.00016851433715584698,
          0.00017288270349257609,
          0.00017705488394539505,
          0.0001810152224208285,
          0.00018474931879899296,
          0.00018824416790099517,
          0.00019148828602647932,
          0.000194471823398366,
          0.0001971866610380168,
          0.00019962649080608013,
          0.0002017868775784226,
          0.00020366530277873718,
          0.0002052611887550918,
          0.00020657590376200365,
          0.00020761274758757806,
          0.00020837691814166922,
          0.0002088754595908217,
          0.00020911719288393252,
          0.00020911262975437036,
          0.0002088738715053219,
          0.00020841449408140264,
          0.00020774942109761112,
          0.000206894786633716,
          0.00020586778970585395,
          0.00020468654239608547,
          0.00020336991365403512,
          0.0002019373707825946,
          0.00020040882058261714,
          0.0001988044520610821,
          0.00019714458250539582,
          0.00019544950859609508,
          0.00019373936407448801,
          0.00019203398530448797,
          0.00019035278587321248,
          0.00018871464116727694,
          0.00018713778364576073,
          0.00018563970931126164,
          0.000184237095661995,
          0.0001829457311950815,
          0.00018178045632835977,
          0.00018075511541923626,
          0.00017988251938787163,
          0.00017917441830147697,
          0.00017864148314925297,
          0.00017829329593546997,
          0.00017813834714271846,
          0.00017818403956912457,
          0.00017843669752231033,
          0.00017890158035853068,
          0.00017958289938640586,
          0.00018048383720925974,
          0.00018160656865586538,
          0.00018295228254365384,
          0.0001845212036279583,
          0.0001863126142122086,
          0.00018832487502351108,
          0.00019055544509194645,
          0.0001930009005064963,
          0.00019565695205199068,
          0.0001985184618564463,
          0.0002015794592932888,
          0.00020483315648542084,
          0.0002082719638453024,
          0.0002118875061552082,
          0.0002156706397429988,
          0.0002196114713401513,
          0.00022369937921992727,
          0.00022792303720455104,
          0.0002322704421016922,
          0.00023672894508358237,
          0.00024128528745823649,
          0.0002459256412035805,
          0.000250635654544036,
          0.00025540050274792866,
          0.00026020494421573765,
          0.00026503338181658597,
          0.0002698699293163656,
          0.00027469848262841887,
          0.00027950279550945946,
          0.000284266559221923,
          0.0002889734855914992,
          0.0002936073928071564,
          0.000298152293242038,
          0.00030259248251856126,
          0.0003069126290004503,
          0.0003110978628689384,
          0.0003151338639297067,
          0.00031900694730115125,
          0.0003227041461523613,
          0.00032621329068989056,
          0.00032952308263453465,
          0.00033262316448167285,
          0.00033550418289936344,
          0.00033815784568590624,
          0.000340576971781047,
          0.0003427555339008818,
          0.00034468869344411225,
          0.00034637282739526716,
          0.0003478055470273846,
          0.0003489857082815792,
          0.00034991341377271724,
          0.00035059000643879103,
          0.00035101805491568455,
          0.000351201330779025,
          0.0003511447778503534,
          0.0003508544738162564,
          0.0003503375844565693,
          0.00034960231082163955,
          0.00034865782973938147,
          0.00034751422807087885,
          0.00034618243116904394,
          0.00034467412602867567,
          0.00034300167964851553,
          0.0003411780531566929,
          0.0003392167122804483,
          0.00033713153476907647,
          0.0003349367154054793,
          0.0003326466692661802,
          0.0003302759339117318,
          0.0003278390712085193,
          0.0003253505694983015,
          0.0003228247468429648,
          0.00032027565607776315,
          0.00031771699240650274,
          0.00031516200426555,
          0.0003126234081699635,
          0.00031011330823370423,
          0.0003076431210264712,
          0.00030522350639205603,
          0.0003028643048070559,
          0.00030057448180459927,
          0.00029836207992562584,
          0.0002962341785908863,
          0.0002941968622108061,
          0.0002922551967687014,
          0.00029041321502652247,
          0.0002886739104126082,
          0.0002870392395591987,
          0.00028551013336497385,
          0.00028408651636633247,
          0.0002827673341116905,
          0.0002815505881475444,
          0.0002804333781444841,
          0.0002794119506173642,
          0.00027848175362742497,
          0.00027763749679650434,
          0.000276873215915418,
          0.00027618234139077647,
          0.00027555776974760653,
          0.0002749919373892257,
          0.0002744768958111742,
          0.0002740043874723962,
          0.00027356592154393293,
          0.00027315284878273326,
          0.0002727564348149779,
          0.00027236793115875056,
          0.00027197864336897596,
          0.00027157999574720787,
          0.0002711635921237421,
          0.0002707212722887088,
          0.0002702451637206077,
          0.0002697277283342716,
          0.0002691618040439953,
          0.0002685406410104255,
          0.0002678579325107004,
          0.00026710784043914237,
          0.00026628501550966886,
          0.0002653846122902055,
          0.0002644022992530639,
          0.00026333426407301334,
          0.00026217721444618726,
          0.0002609283747378273,
          0.00025958547879506664,
          0.00025814675928248314,
          0.00025661093391320783,
          0.00025497718895712,
          0.00025324516041055407,
          0.00025141491320929094,
          0.0002494869188589566,
          0.00024746203184480544,
          0.00024534146516681554,
          0.00024312676532658613,
          0.00024081978707033753,
          0.0002384226681679241,
          0.00023593780448169957,
          0.0002333678255518753,
          0.0002307155708971675,
          0.0002279840672014262,
          0.0002251765065290495,
          0.00022229622568458048,
          0.00021934668680531123,
          0.00021633145925020695,
          0.0002132542028242282,
          0.0002101186523543258,
          0.00020692860361217318,
          0.0002036879005591428,
          0.00020040042387123807,
          0.00019707008068568405,
          0.00019370079549669707,
          0.00019029650211563066,
          0.00018686113660022083,
          0.0001833986310490192,
          0.0001799129081503532,
          0.00017640787637020168,
          0.00017288742566029695,
          0.00016935542356645897,
          0.0001658157116176717,
          0.00016227210187870028,
          0.00015872837355301888,
          0.00015518826952853944,
          0.00015165549276593257,
          0.00014813370243823553,
          0.0001446265097407917,
          0.00014113747330232493,
          0.00013767009414090937,
          0.000134227810122689,
          0.0001308139898961942,
          0.00012743192629082535,
          0.0001240848291843126,
          0.00012077581786043962,
          0.00011750791289483796,
          0.00011428402762287181,
          0.00011110695925929747,
          0.00010797937975419837,
          0.00010490382648334413,
          0.00010188269288333104,
          0.00009891821915235404,
          0.00009601248314595335,
          0.00009316739160337623,
          0.00009038467184405056,
          0.00008766586407497808,
          0.00008501231444846045,
          0.00008242516900543628,
          0.00007990536863283174,
          0.00007745364515375875,
          0.00007507051865723908,
          0.00007275629615959872,
          0.00007051107167296101,
          0.00006833472773768202,
          0.00006622693845545142,
          0.00006418717403849164,
          0.0000622147068682568,
          0.00006030861903468079,
          0.00005846781130480797,
          0.0000566910134480033,
          0.00005497679582432259,
          0.00005332358212344353,
          0.000051729663124204614,
          0.00005019321132961128,
          0.000048712296319441,
          0.00004728490065255324,
          0.00004590893614384748,
          0.00004458226033664215,
          0.00004330269299007488,
          0.0000420680324029606,
          0.00004087607140026122,
          0.00003972461281578663,
          0.0000386114843147454,
          0.000037534552412032225,
          0.00003649173555639631,
          0.0000354810161665375,
          0.000034500451522390716,
          0.00003354818343301585,
          0.00003262244662125946,
          0.00003172157578432871,
          0.0000308440113082884,
          0.000029988303632934833,
          0.000029153116281225134,
          0.00002833722758418328,
          0.000027539531147748473,
          0.000026759035122174987,
          0.000025994860347193755,
          0.000025246237457084945,
          0.00002451250303900556,
          0.00002379309494532749,
          0.00002308754686634354,
          0.00002239548227352099,
          0.000021716607845543183,
          0.000021050706489762898,
          0.000020397630070457178,
          0.00001975729195253914,
          0.000019129659465243097,
          0.000018514746384898256,
          0.00001791260552936218,
          0.000017323321549159122,
          0.0000167470039920022,
          0.00001618378070833529,
          0.000015633791655979185,
          0.00001509718315206439,
          0.00001457410261036152,
          0.000014064693792038263,
          0.000013569092587955147,
          0.00001308742334101531,
          0.000012619795707969157,
          0.000012166302051579888,
          0.00001172701534631913,
          0.000011301987573892153,
          0.000010891248578991412,
          0.00001049480535081332,
          0.000010112641692102306,
          0.000009744718234829303,
          0.000009390972760066378,
          0.000009051320779158566,
          0.000008725656333857557,
          0.00000841385297459275,
          0.000008115764878403733,
          0.000007831228071123865,
          0.0000075600617220412875,
          0.000007302069483322714,
          0.000007057040850799976,
          0.0000068247525271320665,
          0.0000066049697727016596,
          0.000006397447733737104,
          0.0000062019327409272085,
          0.000006018163575098931,
          0.000005845872699258656,
          0.000005684787458380323,
          0.0000055346312497163075,
          0.000005395124667087448,
          0.000005265986622591153,
          0.000005146935448488307,
          0.000005037689980756588,
          0.000004937970624017235,
          0.000004847500395363682,
          0.000004766005942166078,
          0.0000046932185263318284,
          0.000004628874964907097,
          0.00000457271851445062,
          0.000004524499684433322,
          0.0000044839769631418265,
          0.000004450917438303028,
          0.000004425097293992784,
          0.0000044063021654161835,
          0.000004394327333896539,
          0.000004388977745905722,
          0.0000043900678422033715,
          0.000004397421186093796,
          0.0000044108698833978985,
          0.000004430253790890524,
          0.000004455419514566934,
          0.000004486219204053574,
          0.000004522509154632039,
          0.0000045641482335549845,
          0.000004610996152447748,
          0.000004662911612458276,
          0.000004719750353292374,
          0.000004781363141213661,
          0.000004847593734370035,
          0.000004918276866323002,
          0.0000049932362903111635,
          0.000005072282927507548,
          0.000005155213162287922,
          0.00000524180732629528,
          0.000005331828410870985,
          0.000005425021044258273,
          0.000005521110765925543,
          0.000005619803625483919,
          0.000005720786128086784,
          0.000005823725542014759,
          0.00000592827057750127,
          0.000006034052438882948,
          0.000006140686245018861,
          0.000006247772805764127,
          0.000006354900735264269,
          0.000006461648876104949,
          0.000006567589002052557,
          0.000006672288761386308,
          0.000006775314817773589,
          0.0000068762361413806965,
          0.000006974627399528327,
          0.000007070072393764097,
          0.000007162167488780216,
          0.000007250524978182315,
          0.000007334776332721626,
          0.000007414575278225802,
          0.00000748960065307001,
          0.000007559558998570785,
          0.0000076241868400915875,
          0.000007683252621839994,
          0.00000773655826421417,
          0.000007783940319015237,
          0.000007825270704763205,
          0.000007860457011614596,
          0.000007889442372849796,
          0.000007912204907444583,
          0.000007928756745730814,
          0.000007939142657453224,
          0.000007943438308513923,
          0.000007941748179240115,
          0.000007934203182996946,
          0.000007920958029288672,
          0.000007902188380050525,
          0.000007878087851545084,
          0.000007848864917070143,
          0.000007814739767502335,
          0.000007775941187502061,
          0.000007732703504966308,
          0.000007685263670030684,
          0.000007633858517601778,
          0.000007578722264075254,
          0.000007520084284612045,
          0.0000074581672121690696,
          0.0000073931853934936555,
          0.000007325343730589788,
          0.000007254836928859707,
          0.000007181849165340208,
          0.000007106554182321245,
          0.000007029115803297306,
          0.000006949688859804647,
          0.000006868420509388464,
          0.000006785451916872593,
          0.000006700920263414472,
          0.000006614961040660503,
          0.000006527710580802222,
          0.0000064393087675930345,
          0.000006349901868525729,
          0.000006259645424486462,
          0.000006168707130367587,
          0.0000060772696383997974,
          0.000005985533215394033,
          0.000005893718185689564,
          0.0000058020670933893385,
          0.000005710846520414153,
          0.000005620348500990435,
          0.00000553089147835418,
          0.000005442820755640167,
          0.000005356508400051395,
          0.000005272352567375723,
          0.000005190776222628104,
          0.000005112225241933011,
          0.0000050371658905950664,
          0.0000049660816825038415,
          0.000004899469636440381,
          0.000004837835955352569,
          0.0000047816911650940295,
          0.000004731544759324801,
          0.000004687899407097688,
          0.000004651244788948857,
          0.00000462205113592309,
          0.000004600762553745327,
          0.0000045877902211580855,
          0.000004583505557142966,
          0.000004588233456208909,
          0.0000046022456940446705,
          0.0000046257546074991176,
          0.000004658907152986531,
          0.00000470177944595083,
          0.000004754371880920463,
          0.000004816604926925269,
          0.0000048883156866361165,
          0.000004969255299561962,
          0.00000505908726006263,
          0.000005157386709902452,
          0.000005263640752705371,
          0.0000053772498241309744,
          0.000005497530137055169,
          0.000005623717205720535,
          0.000005754970436951951,
          0.000005890378760368777,
          0.000006028967253334746,
          0.00000616970470045444,
          0.000006311512012037113,
          0.000006453271411393296,
          0.000006593836287388475,
          0.0000067320415966200465,
          0.00000686671468915818,
          0.000006996686423223915,
          0.000007120802427661802,
          0.000007237934366757439,
          0.00000734699105997056,
          0.000007446929309573453,
          0.00000753676429203012,
          0.000007615579374199939,
          0.000007682535223032139,
          0.000007736878087212754,
          0.00000777794714107197,
          0.000007805180794748197,
          0.000007818121889891052,
          0.000007816421716789854,
          0.000007799842806431988,
          0.00000776826046930016,
          0.000007721663071370774,
          0.000007660151056432726,
          0.0000075839347421650354,
          0.000007493330935060339,
          0.000007388758425944964,
          0.0000072707324432324925,
          0.000007139858154897222,
          0.000006996823322238793,
          0.0000068423902186451475
         ],
         "yaxis": "y"
        }
       ],
       "layout": {
        "barmode": "overlay",
        "hovermode": "closest",
        "legend": {
         "traceorder": "reversed"
        },
        "template": {
         "data": {
          "bar": [
           {
            "error_x": {
             "color": "#2a3f5f"
            },
            "error_y": {
             "color": "#2a3f5f"
            },
            "marker": {
             "line": {
              "color": "#E5ECF6",
              "width": 0.5
             },
             "pattern": {
              "fillmode": "overlay",
              "size": 10,
              "solidity": 0.2
             }
            },
            "type": "bar"
           }
          ],
          "barpolar": [
           {
            "marker": {
             "line": {
              "color": "#E5ECF6",
              "width": 0.5
             },
             "pattern": {
              "fillmode": "overlay",
              "size": 10,
              "solidity": 0.2
             }
            },
            "type": "barpolar"
           }
          ],
          "carpet": [
           {
            "aaxis": {
             "endlinecolor": "#2a3f5f",
             "gridcolor": "white",
             "linecolor": "white",
             "minorgridcolor": "white",
             "startlinecolor": "#2a3f5f"
            },
            "baxis": {
             "endlinecolor": "#2a3f5f",
             "gridcolor": "white",
             "linecolor": "white",
             "minorgridcolor": "white",
             "startlinecolor": "#2a3f5f"
            },
            "type": "carpet"
           }
          ],
          "choropleth": [
           {
            "colorbar": {
             "outlinewidth": 0,
             "ticks": ""
            },
            "type": "choropleth"
           }
          ],
          "contour": [
           {
            "colorbar": {
             "outlinewidth": 0,
             "ticks": ""
            },
            "colorscale": [
             [
              0,
              "#0d0887"
             ],
             [
              0.1111111111111111,
              "#46039f"
             ],
             [
              0.2222222222222222,
              "#7201a8"
             ],
             [
              0.3333333333333333,
              "#9c179e"
             ],
             [
              0.4444444444444444,
              "#bd3786"
             ],
             [
              0.5555555555555556,
              "#d8576b"
             ],
             [
              0.6666666666666666,
              "#ed7953"
             ],
             [
              0.7777777777777778,
              "#fb9f3a"
             ],
             [
              0.8888888888888888,
              "#fdca26"
             ],
             [
              1,
              "#f0f921"
             ]
            ],
            "type": "contour"
           }
          ],
          "contourcarpet": [
           {
            "colorbar": {
             "outlinewidth": 0,
             "ticks": ""
            },
            "type": "contourcarpet"
           }
          ],
          "heatmap": [
           {
            "colorbar": {
             "outlinewidth": 0,
             "ticks": ""
            },
            "colorscale": [
             [
              0,
              "#0d0887"
             ],
             [
              0.1111111111111111,
              "#46039f"
             ],
             [
              0.2222222222222222,
              "#7201a8"
             ],
             [
              0.3333333333333333,
              "#9c179e"
             ],
             [
              0.4444444444444444,
              "#bd3786"
             ],
             [
              0.5555555555555556,
              "#d8576b"
             ],
             [
              0.6666666666666666,
              "#ed7953"
             ],
             [
              0.7777777777777778,
              "#fb9f3a"
             ],
             [
              0.8888888888888888,
              "#fdca26"
             ],
             [
              1,
              "#f0f921"
             ]
            ],
            "type": "heatmap"
           }
          ],
          "heatmapgl": [
           {
            "colorbar": {
             "outlinewidth": 0,
             "ticks": ""
            },
            "colorscale": [
             [
              0,
              "#0d0887"
             ],
             [
              0.1111111111111111,
              "#46039f"
             ],
             [
              0.2222222222222222,
              "#7201a8"
             ],
             [
              0.3333333333333333,
              "#9c179e"
             ],
             [
              0.4444444444444444,
              "#bd3786"
             ],
             [
              0.5555555555555556,
              "#d8576b"
             ],
             [
              0.6666666666666666,
              "#ed7953"
             ],
             [
              0.7777777777777778,
              "#fb9f3a"
             ],
             [
              0.8888888888888888,
              "#fdca26"
             ],
             [
              1,
              "#f0f921"
             ]
            ],
            "type": "heatmapgl"
           }
          ],
          "histogram": [
           {
            "marker": {
             "pattern": {
              "fillmode": "overlay",
              "size": 10,
              "solidity": 0.2
             }
            },
            "type": "histogram"
           }
          ],
          "histogram2d": [
           {
            "colorbar": {
             "outlinewidth": 0,
             "ticks": ""
            },
            "colorscale": [
             [
              0,
              "#0d0887"
             ],
             [
              0.1111111111111111,
              "#46039f"
             ],
             [
              0.2222222222222222,
              "#7201a8"
             ],
             [
              0.3333333333333333,
              "#9c179e"
             ],
             [
              0.4444444444444444,
              "#bd3786"
             ],
             [
              0.5555555555555556,
              "#d8576b"
             ],
             [
              0.6666666666666666,
              "#ed7953"
             ],
             [
              0.7777777777777778,
              "#fb9f3a"
             ],
             [
              0.8888888888888888,
              "#fdca26"
             ],
             [
              1,
              "#f0f921"
             ]
            ],
            "type": "histogram2d"
           }
          ],
          "histogram2dcontour": [
           {
            "colorbar": {
             "outlinewidth": 0,
             "ticks": ""
            },
            "colorscale": [
             [
              0,
              "#0d0887"
             ],
             [
              0.1111111111111111,
              "#46039f"
             ],
             [
              0.2222222222222222,
              "#7201a8"
             ],
             [
              0.3333333333333333,
              "#9c179e"
             ],
             [
              0.4444444444444444,
              "#bd3786"
             ],
             [
              0.5555555555555556,
              "#d8576b"
             ],
             [
              0.6666666666666666,
              "#ed7953"
             ],
             [
              0.7777777777777778,
              "#fb9f3a"
             ],
             [
              0.8888888888888888,
              "#fdca26"
             ],
             [
              1,
              "#f0f921"
             ]
            ],
            "type": "histogram2dcontour"
           }
          ],
          "mesh3d": [
           {
            "colorbar": {
             "outlinewidth": 0,
             "ticks": ""
            },
            "type": "mesh3d"
           }
          ],
          "parcoords": [
           {
            "line": {
             "colorbar": {
              "outlinewidth": 0,
              "ticks": ""
             }
            },
            "type": "parcoords"
           }
          ],
          "pie": [
           {
            "automargin": true,
            "type": "pie"
           }
          ],
          "scatter": [
           {
            "fillpattern": {
             "fillmode": "overlay",
             "size": 10,
             "solidity": 0.2
            },
            "type": "scatter"
           }
          ],
          "scatter3d": [
           {
            "line": {
             "colorbar": {
              "outlinewidth": 0,
              "ticks": ""
             }
            },
            "marker": {
             "colorbar": {
              "outlinewidth": 0,
              "ticks": ""
             }
            },
            "type": "scatter3d"
           }
          ],
          "scattercarpet": [
           {
            "marker": {
             "colorbar": {
              "outlinewidth": 0,
              "ticks": ""
             }
            },
            "type": "scattercarpet"
           }
          ],
          "scattergeo": [
           {
            "marker": {
             "colorbar": {
              "outlinewidth": 0,
              "ticks": ""
             }
            },
            "type": "scattergeo"
           }
          ],
          "scattergl": [
           {
            "marker": {
             "colorbar": {
              "outlinewidth": 0,
              "ticks": ""
             }
            },
            "type": "scattergl"
           }
          ],
          "scattermapbox": [
           {
            "marker": {
             "colorbar": {
              "outlinewidth": 0,
              "ticks": ""
             }
            },
            "type": "scattermapbox"
           }
          ],
          "scatterpolar": [
           {
            "marker": {
             "colorbar": {
              "outlinewidth": 0,
              "ticks": ""
             }
            },
            "type": "scatterpolar"
           }
          ],
          "scatterpolargl": [
           {
            "marker": {
             "colorbar": {
              "outlinewidth": 0,
              "ticks": ""
             }
            },
            "type": "scatterpolargl"
           }
          ],
          "scatterternary": [
           {
            "marker": {
             "colorbar": {
              "outlinewidth": 0,
              "ticks": ""
             }
            },
            "type": "scatterternary"
           }
          ],
          "surface": [
           {
            "colorbar": {
             "outlinewidth": 0,
             "ticks": ""
            },
            "colorscale": [
             [
              0,
              "#0d0887"
             ],
             [
              0.1111111111111111,
              "#46039f"
             ],
             [
              0.2222222222222222,
              "#7201a8"
             ],
             [
              0.3333333333333333,
              "#9c179e"
             ],
             [
              0.4444444444444444,
              "#bd3786"
             ],
             [
              0.5555555555555556,
              "#d8576b"
             ],
             [
              0.6666666666666666,
              "#ed7953"
             ],
             [
              0.7777777777777778,
              "#fb9f3a"
             ],
             [
              0.8888888888888888,
              "#fdca26"
             ],
             [
              1,
              "#f0f921"
             ]
            ],
            "type": "surface"
           }
          ],
          "table": [
           {
            "cells": {
             "fill": {
              "color": "#EBF0F8"
             },
             "line": {
              "color": "white"
             }
            },
            "header": {
             "fill": {
              "color": "#C8D4E3"
             },
             "line": {
              "color": "white"
             }
            },
            "type": "table"
           }
          ]
         },
         "layout": {
          "annotationdefaults": {
           "arrowcolor": "#2a3f5f",
           "arrowhead": 0,
           "arrowwidth": 1
          },
          "autotypenumbers": "strict",
          "coloraxis": {
           "colorbar": {
            "outlinewidth": 0,
            "ticks": ""
           }
          },
          "colorscale": {
           "diverging": [
            [
             0,
             "#8e0152"
            ],
            [
             0.1,
             "#c51b7d"
            ],
            [
             0.2,
             "#de77ae"
            ],
            [
             0.3,
             "#f1b6da"
            ],
            [
             0.4,
             "#fde0ef"
            ],
            [
             0.5,
             "#f7f7f7"
            ],
            [
             0.6,
             "#e6f5d0"
            ],
            [
             0.7,
             "#b8e186"
            ],
            [
             0.8,
             "#7fbc41"
            ],
            [
             0.9,
             "#4d9221"
            ],
            [
             1,
             "#276419"
            ]
           ],
           "sequential": [
            [
             0,
             "#0d0887"
            ],
            [
             0.1111111111111111,
             "#46039f"
            ],
            [
             0.2222222222222222,
             "#7201a8"
            ],
            [
             0.3333333333333333,
             "#9c179e"
            ],
            [
             0.4444444444444444,
             "#bd3786"
            ],
            [
             0.5555555555555556,
             "#d8576b"
            ],
            [
             0.6666666666666666,
             "#ed7953"
            ],
            [
             0.7777777777777778,
             "#fb9f3a"
            ],
            [
             0.8888888888888888,
             "#fdca26"
            ],
            [
             1,
             "#f0f921"
            ]
           ],
           "sequentialminus": [
            [
             0,
             "#0d0887"
            ],
            [
             0.1111111111111111,
             "#46039f"
            ],
            [
             0.2222222222222222,
             "#7201a8"
            ],
            [
             0.3333333333333333,
             "#9c179e"
            ],
            [
             0.4444444444444444,
             "#bd3786"
            ],
            [
             0.5555555555555556,
             "#d8576b"
            ],
            [
             0.6666666666666666,
             "#ed7953"
            ],
            [
             0.7777777777777778,
             "#fb9f3a"
            ],
            [
             0.8888888888888888,
             "#fdca26"
            ],
            [
             1,
             "#f0f921"
            ]
           ]
          },
          "colorway": [
           "#636efa",
           "#EF553B",
           "#00cc96",
           "#ab63fa",
           "#FFA15A",
           "#19d3f3",
           "#FF6692",
           "#B6E880",
           "#FF97FF",
           "#FECB52"
          ],
          "font": {
           "color": "#2a3f5f"
          },
          "geo": {
           "bgcolor": "white",
           "lakecolor": "white",
           "landcolor": "#E5ECF6",
           "showlakes": true,
           "showland": true,
           "subunitcolor": "white"
          },
          "hoverlabel": {
           "align": "left"
          },
          "hovermode": "closest",
          "mapbox": {
           "style": "light"
          },
          "paper_bgcolor": "white",
          "plot_bgcolor": "#E5ECF6",
          "polar": {
           "angularaxis": {
            "gridcolor": "white",
            "linecolor": "white",
            "ticks": ""
           },
           "bgcolor": "#E5ECF6",
           "radialaxis": {
            "gridcolor": "white",
            "linecolor": "white",
            "ticks": ""
           }
          },
          "scene": {
           "xaxis": {
            "backgroundcolor": "#E5ECF6",
            "gridcolor": "white",
            "gridwidth": 2,
            "linecolor": "white",
            "showbackground": true,
            "ticks": "",
            "zerolinecolor": "white"
           },
           "yaxis": {
            "backgroundcolor": "#E5ECF6",
            "gridcolor": "white",
            "gridwidth": 2,
            "linecolor": "white",
            "showbackground": true,
            "ticks": "",
            "zerolinecolor": "white"
           },
           "zaxis": {
            "backgroundcolor": "#E5ECF6",
            "gridcolor": "white",
            "gridwidth": 2,
            "linecolor": "white",
            "showbackground": true,
            "ticks": "",
            "zerolinecolor": "white"
           }
          },
          "shapedefaults": {
           "line": {
            "color": "#2a3f5f"
           }
          },
          "ternary": {
           "aaxis": {
            "gridcolor": "white",
            "linecolor": "white",
            "ticks": ""
           },
           "baxis": {
            "gridcolor": "white",
            "linecolor": "white",
            "ticks": ""
           },
           "bgcolor": "#E5ECF6",
           "caxis": {
            "gridcolor": "white",
            "linecolor": "white",
            "ticks": ""
           }
          },
          "title": {
           "x": 0.05
          },
          "xaxis": {
           "automargin": true,
           "gridcolor": "white",
           "linecolor": "white",
           "ticks": "",
           "title": {
            "standoff": 15
           },
           "zerolinecolor": "white",
           "zerolinewidth": 2
          },
          "yaxis": {
           "automargin": true,
           "gridcolor": "white",
           "linecolor": "white",
           "ticks": "",
           "title": {
            "standoff": 15
           },
           "zerolinecolor": "white",
           "zerolinewidth": 2
          }
         }
        },
        "title": {
         "text": "Distribution of Daily Tests"
        },
        "xaxis": {
         "anchor": "y2",
         "domain": [
          0,
          1
         ],
         "title": {
          "text": "Tests"
         },
         "zeroline": false
        },
        "yaxis": {
         "anchor": "free",
         "domain": [
          0,
          1
         ],
         "position": 0
        }
       }
      },
      "text/html": [
       "<div>                            <div id=\"3e44f606-bf6a-4d72-b6ad-0c6be8628fea\" class=\"plotly-graph-div\" style=\"height:525px; width:100%;\"></div>            <script type=\"text/javascript\">                require([\"plotly\"], function(Plotly) {                    window.PLOTLYENV=window.PLOTLYENV || {};                                    if (document.getElementById(\"3e44f606-bf6a-4d72-b6ad-0c6be8628fea\")) {                    Plotly.newPlot(                        \"3e44f606-bf6a-4d72-b6ad-0c6be8628fea\",                        [{\"legendgroup\":\"Daily Tests\",\"marker\":{\"color\":\"rgb(31, 119, 180)\"},\"mode\":\"lines\",\"name\":\"Daily Tests\",\"showlegend\":true,\"x\":[122.0,138.136,154.272,170.40800000000002,186.54399999999998,202.68,218.816,234.952,251.088,267.224,283.36,299.496,315.632,331.76800000000003,347.904,364.03999999999996,380.176,396.312,412.448,428.584,444.72,460.856,476.992,493.128,509.264,525.4,541.5360000000001,557.672,573.808,589.944,606.0799999999999,622.216,638.352,654.488,670.624,686.76,702.896,719.032,735.168,751.304,767.44,783.576,799.712,815.848,831.984,848.12,864.256,880.392,896.528,912.664,928.8,944.936,961.072,977.208,993.344,1009.48,1025.616,1041.752,1057.888,1074.024,1090.1599999999999,1106.296,1122.432,1138.568,1154.704,1170.84,1186.976,1203.112,1219.248,1235.384,1251.52,1267.656,1283.792,1299.928,1316.064,1332.2,1348.336,1364.472,1380.608,1396.744,1412.88,1429.016,1445.152,1461.288,1477.424,1493.56,1509.696,1525.832,1541.968,1558.104,1574.24,1590.376,1606.512,1622.648,1638.784,1654.92,1671.056,1687.192,1703.328,1719.464,1735.6,1751.736,1767.872,1784.008,1800.144,1816.28,1832.416,1848.552,1864.688,1880.824,1896.96,1913.096,1929.232,1945.368,1961.504,1977.64,1993.776,2009.912,2026.048,2042.184,2058.3199999999997,2074.456,2090.592,2106.728,2122.864,2139.0,2155.136,2171.272,2187.408,2203.544,2219.68,2235.816,2251.952,2268.088,2284.224,2300.36,2316.496,2332.632,2348.768,2364.904,2381.04,2397.176,2413.312,2429.448,2445.584,2461.72,2477.856,2493.992,2510.128,2526.264,2542.4,2558.536,2574.672,2590.808,2606.944,2623.08,2639.216,2655.352,2671.488,2687.624,2703.76,2719.896,2736.032,2752.168,2768.304,2784.44,2800.576,2816.712,2832.848,2848.984,2865.12,2881.256,2897.392,2913.528,2929.664,2945.8,2961.936,2978.072,2994.208,3010.344,3026.48,3042.616,3058.752,3074.888,3091.024,3107.16,3123.296,3139.432,3155.568,3171.704,3187.84,3203.976,3220.112,3236.248,3252.384,3268.52,3284.656,3300.792,3316.928,3333.064,3349.2,3365.336,3381.472,3397.608,3413.744,3429.88,3446.016,3462.152,3478.288,3494.424,3510.56,3526.696,3542.832,3558.968,3575.104,3591.24,3607.376,3623.512,3639.648,3655.784,3671.92,3688.056,3704.192,3720.328,3736.464,3752.6,3768.736,3784.872,3801.008,3817.144,3833.28,3849.416,3865.552,3881.688,3897.824,3913.96,3930.096,3946.232,3962.368,3978.504,3994.64,4010.776,4026.912,4043.048,4059.184,4075.32,4091.456,4107.592000000001,4123.728,4139.864,4156.0,4172.136,4188.272,4204.407999999999,4220.544,4236.68,4252.816,4268.952,4285.088,4301.224,4317.36,4333.496,4349.632,4365.768,4381.904,4398.04,4414.176,4430.312,4446.448,4462.584,4478.72,4494.856,4510.992,4527.128,4543.264,4559.4,4575.536,4591.672,4607.808,4623.944,4640.08,4656.216,4672.352,4688.488,4704.624,4720.76,4736.896,4753.032,4769.168,4785.304,4801.44,4817.576,4833.712,4849.848,4865.984,4882.12,4898.256,4914.392,4930.528,4946.664,4962.8,4978.936,4995.072,5011.208,5027.344,5043.48,5059.616,5075.752,5091.888,5108.024,5124.16,5140.296,5156.432,5172.568,5188.704,5204.84,5220.976,5237.112,5253.248,5269.384,5285.52,5301.656,5317.792,5333.928,5350.064,5366.2,5382.336,5398.472,5414.608,5430.744,5446.88,5463.016,5479.152,5495.288,5511.424,5527.56,5543.696,5559.832,5575.968,5592.104,5608.24,5624.376,5640.512,5656.648,5672.784,5688.92,5705.056,5721.192,5737.328,5753.464,5769.6,5785.736,5801.872,5818.008,5834.144,5850.28,5866.416,5882.552,5898.688,5914.824,5930.96,5947.096,5963.232,5979.368,5995.504,6011.64,6027.776,6043.912,6060.048,6076.184,6092.32,6108.456,6124.592,6140.728,6156.864,6173.0,6189.136,6205.272,6221.408,6237.544,6253.68,6269.816,6285.952,6302.088,6318.224,6334.36,6350.496,6366.632,6382.768,6398.904,6415.04,6431.176,6447.312,6463.448,6479.584,6495.72,6511.856,6527.992,6544.128,6560.264,6576.4,6592.536,6608.672,6624.808,6640.944,6657.08,6673.216,6689.352,6705.488,6721.624,6737.76,6753.896,6770.032,6786.168,6802.304,6818.44,6834.576,6850.712,6866.848,6882.984,6899.12,6915.256,6931.392,6947.528,6963.664,6979.8,6995.936,7012.072,7028.208,7044.344,7060.48,7076.616,7092.752,7108.888,7125.024,7141.16,7157.296,7173.432,7189.568,7205.704,7221.84,7237.976,7254.112,7270.248,7286.384,7302.52,7318.656,7334.792,7350.928,7367.064,7383.2,7399.336,7415.472,7431.608,7447.744,7463.88,7480.016,7496.152,7512.288,7528.424,7544.56,7560.696,7576.832,7592.968,7609.104,7625.24,7641.376,7657.512,7673.648,7689.784,7705.92,7722.056,7738.192,7754.328,7770.464,7786.6,7802.736,7818.872,7835.008,7851.144,7867.28,7883.416,7899.552,7915.688,7931.824,7947.96,7964.096,7980.232,7996.368,8012.504,8028.64,8044.776,8060.912,8077.048,8093.184,8109.32,8125.456,8141.592,8157.728,8173.864],\"xaxis\":\"x\",\"y\":[0.0001180644474231937,0.00012337181545274504,0.00012867308353768439,0.00013394900797309412,0.00013917996375959572,0.00014434609811831998,0.0001494274914034065,0.0001544043236605864,0.0001592570449474742,0.00016396654742532104,0.00016851433715584698,0.00017288270349257609,0.00017705488394539505,0.0001810152224208285,0.00018474931879899296,0.00018824416790099517,0.00019148828602647932,0.000194471823398366,0.0001971866610380168,0.00019962649080608013,0.0002017868775784226,0.00020366530277873718,0.0002052611887550918,0.00020657590376200365,0.00020761274758757806,0.00020837691814166922,0.0002088754595908217,0.00020911719288393252,0.00020911262975437036,0.0002088738715053219,0.00020841449408140264,0.00020774942109761112,0.000206894786633716,0.00020586778970585395,0.00020468654239608547,0.00020336991365403512,0.0002019373707825946,0.00020040882058261714,0.0001988044520610821,0.00019714458250539582,0.00019544950859609508,0.00019373936407448801,0.00019203398530448797,0.00019035278587321248,0.00018871464116727694,0.00018713778364576073,0.00018563970931126164,0.000184237095661995,0.0001829457311950815,0.00018178045632835977,0.00018075511541923626,0.00017988251938787163,0.00017917441830147697,0.00017864148314925297,0.00017829329593546997,0.00017813834714271846,0.00017818403956912457,0.00017843669752231033,0.00017890158035853068,0.00017958289938640586,0.00018048383720925974,0.00018160656865586538,0.00018295228254365384,0.0001845212036279583,0.0001863126142122086,0.00018832487502351108,0.00019055544509194645,0.0001930009005064963,0.00019565695205199068,0.0001985184618564463,0.0002015794592932888,0.00020483315648542084,0.0002082719638453024,0.0002118875061552082,0.0002156706397429988,0.0002196114713401513,0.00022369937921992727,0.00022792303720455104,0.0002322704421016922,0.00023672894508358237,0.00024128528745823649,0.0002459256412035805,0.000250635654544036,0.00025540050274792866,0.00026020494421573765,0.00026503338181658597,0.0002698699293163656,0.00027469848262841887,0.00027950279550945946,0.000284266559221923,0.0002889734855914992,0.0002936073928071564,0.000298152293242038,0.00030259248251856126,0.0003069126290004503,0.0003110978628689384,0.0003151338639297067,0.00031900694730115125,0.0003227041461523613,0.00032621329068989056,0.00032952308263453465,0.00033262316448167285,0.00033550418289936344,0.00033815784568590624,0.000340576971781047,0.0003427555339008818,0.00034468869344411225,0.00034637282739526716,0.0003478055470273846,0.0003489857082815792,0.00034991341377271724,0.00035059000643879103,0.00035101805491568455,0.000351201330779025,0.0003511447778503534,0.0003508544738162564,0.0003503375844565693,0.00034960231082163955,0.00034865782973938147,0.00034751422807087885,0.00034618243116904394,0.00034467412602867567,0.00034300167964851553,0.0003411780531566929,0.0003392167122804483,0.00033713153476907647,0.0003349367154054793,0.0003326466692661802,0.0003302759339117318,0.0003278390712085193,0.0003253505694983015,0.0003228247468429648,0.00032027565607776315,0.00031771699240650274,0.00031516200426555,0.0003126234081699635,0.00031011330823370423,0.0003076431210264712,0.00030522350639205603,0.0003028643048070559,0.00030057448180459927,0.00029836207992562584,0.0002962341785908863,0.0002941968622108061,0.0002922551967687014,0.00029041321502652247,0.0002886739104126082,0.0002870392395591987,0.00028551013336497385,0.00028408651636633247,0.0002827673341116905,0.0002815505881475444,0.0002804333781444841,0.0002794119506173642,0.00027848175362742497,0.00027763749679650434,0.000276873215915418,0.00027618234139077647,0.00027555776974760653,0.0002749919373892257,0.0002744768958111742,0.0002740043874723962,0.00027356592154393293,0.00027315284878273326,0.0002727564348149779,0.00027236793115875056,0.00027197864336897596,0.00027157999574720787,0.0002711635921237421,0.0002707212722887088,0.0002702451637206077,0.0002697277283342716,0.0002691618040439953,0.0002685406410104255,0.0002678579325107004,0.00026710784043914237,0.00026628501550966886,0.0002653846122902055,0.0002644022992530639,0.00026333426407301334,0.00026217721444618726,0.0002609283747378273,0.00025958547879506664,0.00025814675928248314,0.00025661093391320783,0.00025497718895712,0.00025324516041055407,0.00025141491320929094,0.0002494869188589566,0.00024746203184480544,0.00024534146516681554,0.00024312676532658613,0.00024081978707033753,0.0002384226681679241,0.00023593780448169957,0.0002333678255518753,0.0002307155708971675,0.0002279840672014262,0.0002251765065290495,0.00022229622568458048,0.00021934668680531123,0.00021633145925020695,0.0002132542028242282,0.0002101186523543258,0.00020692860361217318,0.0002036879005591428,0.00020040042387123807,0.00019707008068568405,0.00019370079549669707,0.00019029650211563066,0.00018686113660022083,0.0001833986310490192,0.0001799129081503532,0.00017640787637020168,0.00017288742566029695,0.00016935542356645897,0.0001658157116176717,0.00016227210187870028,0.00015872837355301888,0.00015518826952853944,0.00015165549276593257,0.00014813370243823553,0.0001446265097407917,0.00014113747330232493,0.00013767009414090937,0.000134227810122689,0.0001308139898961942,0.00012743192629082535,0.0001240848291843126,0.00012077581786043962,0.00011750791289483796,0.00011428402762287181,0.00011110695925929747,0.00010797937975419837,0.00010490382648334413,0.00010188269288333104,9.891821915235404e-05,9.601248314595335e-05,9.316739160337623e-05,9.038467184405056e-05,8.766586407497808e-05,8.501231444846045e-05,8.242516900543628e-05,7.990536863283174e-05,7.745364515375875e-05,7.507051865723908e-05,7.275629615959872e-05,7.051107167296101e-05,6.833472773768202e-05,6.622693845545142e-05,6.418717403849164e-05,6.22147068682568e-05,6.030861903468079e-05,5.846781130480797e-05,5.66910134480033e-05,5.497679582432259e-05,5.332358212344353e-05,5.1729663124204614e-05,5.019321132961128e-05,4.8712296319441e-05,4.728490065255324e-05,4.590893614384748e-05,4.458226033664215e-05,4.330269299007488e-05,4.20680324029606e-05,4.087607140026122e-05,3.972461281578663e-05,3.86114843147454e-05,3.7534552412032225e-05,3.649173555639631e-05,3.54810161665375e-05,3.4500451522390716e-05,3.354818343301585e-05,3.262244662125946e-05,3.172157578432871e-05,3.08440113082884e-05,2.9988303632934833e-05,2.9153116281225134e-05,2.833722758418328e-05,2.7539531147748473e-05,2.6759035122174987e-05,2.5994860347193755e-05,2.5246237457084945e-05,2.451250303900556e-05,2.379309494532749e-05,2.308754686634354e-05,2.239548227352099e-05,2.1716607845543183e-05,2.1050706489762898e-05,2.0397630070457178e-05,1.975729195253914e-05,1.9129659465243097e-05,1.8514746384898256e-05,1.791260552936218e-05,1.7323321549159122e-05,1.67470039920022e-05,1.618378070833529e-05,1.5633791655979185e-05,1.509718315206439e-05,1.457410261036152e-05,1.4064693792038263e-05,1.3569092587955147e-05,1.308742334101531e-05,1.2619795707969157e-05,1.2166302051579888e-05,1.172701534631913e-05,1.1301987573892153e-05,1.0891248578991412e-05,1.049480535081332e-05,1.0112641692102306e-05,9.744718234829303e-06,9.390972760066378e-06,9.051320779158566e-06,8.725656333857557e-06,8.41385297459275e-06,8.115764878403733e-06,7.831228071123865e-06,7.5600617220412875e-06,7.302069483322714e-06,7.057040850799976e-06,6.8247525271320665e-06,6.6049697727016596e-06,6.397447733737104e-06,6.2019327409272085e-06,6.018163575098931e-06,5.845872699258656e-06,5.684787458380323e-06,5.5346312497163075e-06,5.395124667087448e-06,5.265986622591153e-06,5.146935448488307e-06,5.037689980756588e-06,4.937970624017235e-06,4.847500395363682e-06,4.766005942166078e-06,4.6932185263318284e-06,4.628874964907097e-06,4.57271851445062e-06,4.524499684433322e-06,4.4839769631418265e-06,4.450917438303028e-06,4.425097293992784e-06,4.4063021654161835e-06,4.394327333896539e-06,4.388977745905722e-06,4.3900678422033715e-06,4.397421186093796e-06,4.4108698833978985e-06,4.430253790890524e-06,4.455419514566934e-06,4.486219204053574e-06,4.522509154632039e-06,4.5641482335549845e-06,4.610996152447748e-06,4.662911612458276e-06,4.719750353292374e-06,4.781363141213661e-06,4.847593734370035e-06,4.918276866323002e-06,4.9932362903111635e-06,5.072282927507548e-06,5.155213162287922e-06,5.24180732629528e-06,5.331828410870985e-06,5.425021044258273e-06,5.521110765925543e-06,5.619803625483919e-06,5.720786128086784e-06,5.823725542014759e-06,5.92827057750127e-06,6.034052438882948e-06,6.140686245018861e-06,6.247772805764127e-06,6.354900735264269e-06,6.461648876104949e-06,6.567589002052557e-06,6.672288761386308e-06,6.775314817773589e-06,6.8762361413806965e-06,6.974627399528327e-06,7.070072393764097e-06,7.162167488780216e-06,7.250524978182315e-06,7.334776332721626e-06,7.414575278225802e-06,7.48960065307001e-06,7.559558998570785e-06,7.6241868400915875e-06,7.683252621839994e-06,7.73655826421417e-06,7.783940319015237e-06,7.825270704763205e-06,7.860457011614596e-06,7.889442372849796e-06,7.912204907444583e-06,7.928756745730814e-06,7.939142657453224e-06,7.943438308513923e-06,7.941748179240115e-06,7.934203182996946e-06,7.920958029288672e-06,7.902188380050525e-06,7.878087851545084e-06,7.848864917070143e-06,7.814739767502335e-06,7.775941187502061e-06,7.732703504966308e-06,7.685263670030684e-06,7.633858517601778e-06,7.578722264075254e-06,7.520084284612045e-06,7.4581672121690696e-06,7.3931853934936555e-06,7.325343730589788e-06,7.254836928859707e-06,7.181849165340208e-06,7.106554182321245e-06,7.029115803297306e-06,6.949688859804647e-06,6.868420509388464e-06,6.785451916872593e-06,6.700920263414472e-06,6.614961040660503e-06,6.527710580802222e-06,6.4393087675930345e-06,6.349901868525729e-06,6.259645424486462e-06,6.168707130367587e-06,6.0772696383997974e-06,5.985533215394033e-06,5.893718185689564e-06,5.8020670933893385e-06,5.710846520414153e-06,5.620348500990435e-06,5.53089147835418e-06,5.442820755640167e-06,5.356508400051395e-06,5.272352567375723e-06,5.190776222628104e-06,5.112225241933011e-06,5.0371658905950664e-06,4.9660816825038415e-06,4.899469636440381e-06,4.837835955352569e-06,4.7816911650940295e-06,4.731544759324801e-06,4.687899407097688e-06,4.651244788948857e-06,4.62205113592309e-06,4.600762553745327e-06,4.5877902211580855e-06,4.583505557142966e-06,4.588233456208909e-06,4.6022456940446705e-06,4.6257546074991176e-06,4.658907152986531e-06,4.70177944595083e-06,4.754371880920463e-06,4.816604926925269e-06,4.8883156866361165e-06,4.969255299561962e-06,5.05908726006263e-06,5.157386709902452e-06,5.263640752705371e-06,5.3772498241309744e-06,5.497530137055169e-06,5.623717205720535e-06,5.754970436951951e-06,5.890378760368777e-06,6.028967253334746e-06,6.16970470045444e-06,6.311512012037113e-06,6.453271411393296e-06,6.593836287388475e-06,6.7320415966200465e-06,6.86671468915818e-06,6.996686423223915e-06,7.120802427661802e-06,7.237934366757439e-06,7.34699105997056e-06,7.446929309573453e-06,7.53676429203012e-06,7.615579374199939e-06,7.682535223032139e-06,7.736878087212754e-06,7.77794714107197e-06,7.805180794748197e-06,7.818121889891052e-06,7.816421716789854e-06,7.799842806431988e-06,7.76826046930016e-06,7.721663071370774e-06,7.660151056432726e-06,7.5839347421650354e-06,7.493330935060339e-06,7.388758425944964e-06,7.2707324432324925e-06,7.139858154897222e-06,6.996823322238793e-06,6.8423902186451475e-06],\"yaxis\":\"y\",\"type\":\"scatter\"}],                        {\"barmode\":\"overlay\",\"hovermode\":\"closest\",\"legend\":{\"traceorder\":\"reversed\"},\"xaxis\":{\"anchor\":\"y2\",\"domain\":[0.0,1.0],\"zeroline\":false,\"title\":{\"text\":\"Tests\"}},\"yaxis\":{\"anchor\":\"free\",\"domain\":[0.0,1],\"position\":0.0},\"template\":{\"data\":{\"histogram2dcontour\":[{\"type\":\"histogram2dcontour\",\"colorbar\":{\"outlinewidth\":0,\"ticks\":\"\"},\"colorscale\":[[0.0,\"#0d0887\"],[0.1111111111111111,\"#46039f\"],[0.2222222222222222,\"#7201a8\"],[0.3333333333333333,\"#9c179e\"],[0.4444444444444444,\"#bd3786\"],[0.5555555555555556,\"#d8576b\"],[0.6666666666666666,\"#ed7953\"],[0.7777777777777778,\"#fb9f3a\"],[0.8888888888888888,\"#fdca26\"],[1.0,\"#f0f921\"]]}],\"choropleth\":[{\"type\":\"choropleth\",\"colorbar\":{\"outlinewidth\":0,\"ticks\":\"\"}}],\"histogram2d\":[{\"type\":\"histogram2d\",\"colorbar\":{\"outlinewidth\":0,\"ticks\":\"\"},\"colorscale\":[[0.0,\"#0d0887\"],[0.1111111111111111,\"#46039f\"],[0.2222222222222222,\"#7201a8\"],[0.3333333333333333,\"#9c179e\"],[0.4444444444444444,\"#bd3786\"],[0.5555555555555556,\"#d8576b\"],[0.6666666666666666,\"#ed7953\"],[0.7777777777777778,\"#fb9f3a\"],[0.8888888888888888,\"#fdca26\"],[1.0,\"#f0f921\"]]}],\"heatmap\":[{\"type\":\"heatmap\",\"colorbar\":{\"outlinewidth\":0,\"ticks\":\"\"},\"colorscale\":[[0.0,\"#0d0887\"],[0.1111111111111111,\"#46039f\"],[0.2222222222222222,\"#7201a8\"],[0.3333333333333333,\"#9c179e\"],[0.4444444444444444,\"#bd3786\"],[0.5555555555555556,\"#d8576b\"],[0.6666666666666666,\"#ed7953\"],[0.7777777777777778,\"#fb9f3a\"],[0.8888888888888888,\"#fdca26\"],[1.0,\"#f0f921\"]]}],\"heatmapgl\":[{\"type\":\"heatmapgl\",\"colorbar\":{\"outlinewidth\":0,\"ticks\":\"\"},\"colorscale\":[[0.0,\"#0d0887\"],[0.1111111111111111,\"#46039f\"],[0.2222222222222222,\"#7201a8\"],[0.3333333333333333,\"#9c179e\"],[0.4444444444444444,\"#bd3786\"],[0.5555555555555556,\"#d8576b\"],[0.6666666666666666,\"#ed7953\"],[0.7777777777777778,\"#fb9f3a\"],[0.8888888888888888,\"#fdca26\"],[1.0,\"#f0f921\"]]}],\"contourcarpet\":[{\"type\":\"contourcarpet\",\"colorbar\":{\"outlinewidth\":0,\"ticks\":\"\"}}],\"contour\":[{\"type\":\"contour\",\"colorbar\":{\"outlinewidth\":0,\"ticks\":\"\"},\"colorscale\":[[0.0,\"#0d0887\"],[0.1111111111111111,\"#46039f\"],[0.2222222222222222,\"#7201a8\"],[0.3333333333333333,\"#9c179e\"],[0.4444444444444444,\"#bd3786\"],[0.5555555555555556,\"#d8576b\"],[0.6666666666666666,\"#ed7953\"],[0.7777777777777778,\"#fb9f3a\"],[0.8888888888888888,\"#fdca26\"],[1.0,\"#f0f921\"]]}],\"surface\":[{\"type\":\"surface\",\"colorbar\":{\"outlinewidth\":0,\"ticks\":\"\"},\"colorscale\":[[0.0,\"#0d0887\"],[0.1111111111111111,\"#46039f\"],[0.2222222222222222,\"#7201a8\"],[0.3333333333333333,\"#9c179e\"],[0.4444444444444444,\"#bd3786\"],[0.5555555555555556,\"#d8576b\"],[0.6666666666666666,\"#ed7953\"],[0.7777777777777778,\"#fb9f3a\"],[0.8888888888888888,\"#fdca26\"],[1.0,\"#f0f921\"]]}],\"mesh3d\":[{\"type\":\"mesh3d\",\"colorbar\":{\"outlinewidth\":0,\"ticks\":\"\"}}],\"scatter\":[{\"fillpattern\":{\"fillmode\":\"overlay\",\"size\":10,\"solidity\":0.2},\"type\":\"scatter\"}],\"parcoords\":[{\"type\":\"parcoords\",\"line\":{\"colorbar\":{\"outlinewidth\":0,\"ticks\":\"\"}}}],\"scatterpolargl\":[{\"type\":\"scatterpolargl\",\"marker\":{\"colorbar\":{\"outlinewidth\":0,\"ticks\":\"\"}}}],\"bar\":[{\"error_x\":{\"color\":\"#2a3f5f\"},\"error_y\":{\"color\":\"#2a3f5f\"},\"marker\":{\"line\":{\"color\":\"#E5ECF6\",\"width\":0.5},\"pattern\":{\"fillmode\":\"overlay\",\"size\":10,\"solidity\":0.2}},\"type\":\"bar\"}],\"scattergeo\":[{\"type\":\"scattergeo\",\"marker\":{\"colorbar\":{\"outlinewidth\":0,\"ticks\":\"\"}}}],\"scatterpolar\":[{\"type\":\"scatterpolar\",\"marker\":{\"colorbar\":{\"outlinewidth\":0,\"ticks\":\"\"}}}],\"histogram\":[{\"marker\":{\"pattern\":{\"fillmode\":\"overlay\",\"size\":10,\"solidity\":0.2}},\"type\":\"histogram\"}],\"scattergl\":[{\"type\":\"scattergl\",\"marker\":{\"colorbar\":{\"outlinewidth\":0,\"ticks\":\"\"}}}],\"scatter3d\":[{\"type\":\"scatter3d\",\"line\":{\"colorbar\":{\"outlinewidth\":0,\"ticks\":\"\"}},\"marker\":{\"colorbar\":{\"outlinewidth\":0,\"ticks\":\"\"}}}],\"scattermapbox\":[{\"type\":\"scattermapbox\",\"marker\":{\"colorbar\":{\"outlinewidth\":0,\"ticks\":\"\"}}}],\"scatterternary\":[{\"type\":\"scatterternary\",\"marker\":{\"colorbar\":{\"outlinewidth\":0,\"ticks\":\"\"}}}],\"scattercarpet\":[{\"type\":\"scattercarpet\",\"marker\":{\"colorbar\":{\"outlinewidth\":0,\"ticks\":\"\"}}}],\"carpet\":[{\"aaxis\":{\"endlinecolor\":\"#2a3f5f\",\"gridcolor\":\"white\",\"linecolor\":\"white\",\"minorgridcolor\":\"white\",\"startlinecolor\":\"#2a3f5f\"},\"baxis\":{\"endlinecolor\":\"#2a3f5f\",\"gridcolor\":\"white\",\"linecolor\":\"white\",\"minorgridcolor\":\"white\",\"startlinecolor\":\"#2a3f5f\"},\"type\":\"carpet\"}],\"table\":[{\"cells\":{\"fill\":{\"color\":\"#EBF0F8\"},\"line\":{\"color\":\"white\"}},\"header\":{\"fill\":{\"color\":\"#C8D4E3\"},\"line\":{\"color\":\"white\"}},\"type\":\"table\"}],\"barpolar\":[{\"marker\":{\"line\":{\"color\":\"#E5ECF6\",\"width\":0.5},\"pattern\":{\"fillmode\":\"overlay\",\"size\":10,\"solidity\":0.2}},\"type\":\"barpolar\"}],\"pie\":[{\"automargin\":true,\"type\":\"pie\"}]},\"layout\":{\"autotypenumbers\":\"strict\",\"colorway\":[\"#636efa\",\"#EF553B\",\"#00cc96\",\"#ab63fa\",\"#FFA15A\",\"#19d3f3\",\"#FF6692\",\"#B6E880\",\"#FF97FF\",\"#FECB52\"],\"font\":{\"color\":\"#2a3f5f\"},\"hovermode\":\"closest\",\"hoverlabel\":{\"align\":\"left\"},\"paper_bgcolor\":\"white\",\"plot_bgcolor\":\"#E5ECF6\",\"polar\":{\"bgcolor\":\"#E5ECF6\",\"angularaxis\":{\"gridcolor\":\"white\",\"linecolor\":\"white\",\"ticks\":\"\"},\"radialaxis\":{\"gridcolor\":\"white\",\"linecolor\":\"white\",\"ticks\":\"\"}},\"ternary\":{\"bgcolor\":\"#E5ECF6\",\"aaxis\":{\"gridcolor\":\"white\",\"linecolor\":\"white\",\"ticks\":\"\"},\"baxis\":{\"gridcolor\":\"white\",\"linecolor\":\"white\",\"ticks\":\"\"},\"caxis\":{\"gridcolor\":\"white\",\"linecolor\":\"white\",\"ticks\":\"\"}},\"coloraxis\":{\"colorbar\":{\"outlinewidth\":0,\"ticks\":\"\"}},\"colorscale\":{\"sequential\":[[0.0,\"#0d0887\"],[0.1111111111111111,\"#46039f\"],[0.2222222222222222,\"#7201a8\"],[0.3333333333333333,\"#9c179e\"],[0.4444444444444444,\"#bd3786\"],[0.5555555555555556,\"#d8576b\"],[0.6666666666666666,\"#ed7953\"],[0.7777777777777778,\"#fb9f3a\"],[0.8888888888888888,\"#fdca26\"],[1.0,\"#f0f921\"]],\"sequentialminus\":[[0.0,\"#0d0887\"],[0.1111111111111111,\"#46039f\"],[0.2222222222222222,\"#7201a8\"],[0.3333333333333333,\"#9c179e\"],[0.4444444444444444,\"#bd3786\"],[0.5555555555555556,\"#d8576b\"],[0.6666666666666666,\"#ed7953\"],[0.7777777777777778,\"#fb9f3a\"],[0.8888888888888888,\"#fdca26\"],[1.0,\"#f0f921\"]],\"diverging\":[[0,\"#8e0152\"],[0.1,\"#c51b7d\"],[0.2,\"#de77ae\"],[0.3,\"#f1b6da\"],[0.4,\"#fde0ef\"],[0.5,\"#f7f7f7\"],[0.6,\"#e6f5d0\"],[0.7,\"#b8e186\"],[0.8,\"#7fbc41\"],[0.9,\"#4d9221\"],[1,\"#276419\"]]},\"xaxis\":{\"gridcolor\":\"white\",\"linecolor\":\"white\",\"ticks\":\"\",\"title\":{\"standoff\":15},\"zerolinecolor\":\"white\",\"automargin\":true,\"zerolinewidth\":2},\"yaxis\":{\"gridcolor\":\"white\",\"linecolor\":\"white\",\"ticks\":\"\",\"title\":{\"standoff\":15},\"zerolinecolor\":\"white\",\"automargin\":true,\"zerolinewidth\":2},\"scene\":{\"xaxis\":{\"backgroundcolor\":\"#E5ECF6\",\"gridcolor\":\"white\",\"linecolor\":\"white\",\"showbackground\":true,\"ticks\":\"\",\"zerolinecolor\":\"white\",\"gridwidth\":2},\"yaxis\":{\"backgroundcolor\":\"#E5ECF6\",\"gridcolor\":\"white\",\"linecolor\":\"white\",\"showbackground\":true,\"ticks\":\"\",\"zerolinecolor\":\"white\",\"gridwidth\":2},\"zaxis\":{\"backgroundcolor\":\"#E5ECF6\",\"gridcolor\":\"white\",\"linecolor\":\"white\",\"showbackground\":true,\"ticks\":\"\",\"zerolinecolor\":\"white\",\"gridwidth\":2}},\"shapedefaults\":{\"line\":{\"color\":\"#2a3f5f\"}},\"annotationdefaults\":{\"arrowcolor\":\"#2a3f5f\",\"arrowhead\":0,\"arrowwidth\":1},\"geo\":{\"bgcolor\":\"white\",\"landcolor\":\"#E5ECF6\",\"subunitcolor\":\"white\",\"showland\":true,\"showlakes\":true,\"lakecolor\":\"white\"},\"title\":{\"x\":0.05},\"mapbox\":{\"style\":\"light\"}}},\"title\":{\"text\":\"Distribution of Daily Tests\"}},                        {\"responsive\": true}                    ).then(function(){\n",
       "                            \n",
       "var gd = document.getElementById('3e44f606-bf6a-4d72-b6ad-0c6be8628fea');\n",
       "var x = new MutationObserver(function (mutations, observer) {{\n",
       "        var display = window.getComputedStyle(gd).display;\n",
       "        if (!display || display === 'none') {{\n",
       "            console.log([gd, 'removed!']);\n",
       "            Plotly.purge(gd);\n",
       "            observer.disconnect();\n",
       "        }}\n",
       "}});\n",
       "\n",
       "// Listen for the removal of the full notebook cells\n",
       "var notebookContainer = gd.closest('#notebook-container');\n",
       "if (notebookContainer) {{\n",
       "    x.observe(notebookContainer, {childList: true});\n",
       "}}\n",
       "\n",
       "// Listen for the clearing of the current output cell\n",
       "var outputEl = gd.closest('.output');\n",
       "if (outputEl) {{\n",
       "    x.observe(outputEl, {childList: true});\n",
       "}}\n",
       "\n",
       "                        })                };                });            </script>        </div>"
      ]
     },
     "metadata": {},
     "output_type": "display_data"
    }
   ],
   "source": [
    "fig = ff.create_distplot(\n",
    "    [tests['Total NAA and rapid antigen tests'].diff().dropna()], \n",
    "    ['Daily Tests'],\n",
    "    bin_size=[1000],\n",
    "    show_rug=False,\n",
    "    show_hist=False\n",
    ")\n",
    "\n",
    "fig.update_xaxes(title_text=\"Tests\")\n",
    "fig.update_layout(title_text='Distribution of Daily Tests')\n",
    "\n",
    "fig.show()\n"
   ]
  },
  {
   "cell_type": "code",
   "execution_count": 235,
   "metadata": {},
   "outputs": [
    {
     "data": {
      "application/vnd.plotly.v1+json": {
       "config": {
        "plotlyServerURL": "https://plot.ly"
       },
       "data": [
        {
         "legendgroup": "Daily Cases",
         "marker": {
          "color": "rgb(31, 119, 180)"
         },
         "mode": "lines",
         "name": "Daily Cases",
         "showlegend": true,
         "type": "scatter",
         "x": [
          0,
          2.806,
          5.612,
          8.418,
          11.224,
          14.03,
          16.836,
          19.642,
          22.448,
          25.254,
          28.06,
          30.866,
          33.672,
          36.478,
          39.284,
          42.09,
          44.896,
          47.702,
          50.508,
          53.314,
          56.12,
          58.926,
          61.732,
          64.538,
          67.344,
          70.15,
          72.956,
          75.762,
          78.568,
          81.374,
          84.18,
          86.986,
          89.792,
          92.598,
          95.404,
          98.21,
          101.016,
          103.822,
          106.628,
          109.434,
          112.24,
          115.046,
          117.852,
          120.658,
          123.464,
          126.27,
          129.076,
          131.882,
          134.688,
          137.494,
          140.3,
          143.106,
          145.912,
          148.718,
          151.524,
          154.33,
          157.136,
          159.942,
          162.748,
          165.554,
          168.36,
          171.166,
          173.972,
          176.778,
          179.584,
          182.39,
          185.196,
          188.002,
          190.808,
          193.614,
          196.42,
          199.226,
          202.032,
          204.838,
          207.644,
          210.45,
          213.256,
          216.062,
          218.868,
          221.674,
          224.48,
          227.286,
          230.092,
          232.898,
          235.704,
          238.51,
          241.316,
          244.122,
          246.928,
          249.734,
          252.54,
          255.346,
          258.152,
          260.958,
          263.764,
          266.57,
          269.376,
          272.182,
          274.988,
          277.794,
          280.6,
          283.406,
          286.212,
          289.018,
          291.824,
          294.63,
          297.436,
          300.242,
          303.048,
          305.854,
          308.66,
          311.466,
          314.272,
          317.078,
          319.884,
          322.69,
          325.496,
          328.302,
          331.108,
          333.914,
          336.72,
          339.526,
          342.332,
          345.138,
          347.944,
          350.75,
          353.556,
          356.362,
          359.168,
          361.974,
          364.78,
          367.586,
          370.392,
          373.198,
          376.004,
          378.81,
          381.616,
          384.422,
          387.228,
          390.034,
          392.84,
          395.646,
          398.452,
          401.258,
          404.064,
          406.87,
          409.676,
          412.482,
          415.288,
          418.094,
          420.9,
          423.706,
          426.512,
          429.318,
          432.124,
          434.93,
          437.736,
          440.542,
          443.348,
          446.154,
          448.96,
          451.766,
          454.572,
          457.378,
          460.184,
          462.99,
          465.796,
          468.602,
          471.408,
          474.214,
          477.02,
          479.826,
          482.632,
          485.438,
          488.244,
          491.05,
          493.856,
          496.662,
          499.468,
          502.274,
          505.08,
          507.886,
          510.692,
          513.498,
          516.304,
          519.11,
          521.916,
          524.722,
          527.528,
          530.334,
          533.14,
          535.946,
          538.752,
          541.558,
          544.364,
          547.17,
          549.976,
          552.782,
          555.588,
          558.394,
          561.2,
          564.006,
          566.812,
          569.618,
          572.424,
          575.23,
          578.036,
          580.842,
          583.648,
          586.454,
          589.26,
          592.066,
          594.872,
          597.678,
          600.484,
          603.29,
          606.096,
          608.902,
          611.708,
          614.514,
          617.32,
          620.126,
          622.932,
          625.738,
          628.544,
          631.35,
          634.156,
          636.962,
          639.768,
          642.574,
          645.38,
          648.186,
          650.992,
          653.798,
          656.604,
          659.41,
          662.216,
          665.022,
          667.828,
          670.634,
          673.44,
          676.246,
          679.052,
          681.858,
          684.664,
          687.47,
          690.276,
          693.082,
          695.888,
          698.694,
          701.5,
          704.306,
          707.112,
          709.918,
          712.724,
          715.53,
          718.336,
          721.142,
          723.948,
          726.754,
          729.56,
          732.366,
          735.172,
          737.978,
          740.784,
          743.59,
          746.396,
          749.202,
          752.008,
          754.814,
          757.62,
          760.426,
          763.232,
          766.038,
          768.844,
          771.65,
          774.456,
          777.262,
          780.068,
          782.874,
          785.68,
          788.486,
          791.292,
          794.098,
          796.904,
          799.71,
          802.516,
          805.322,
          808.128,
          810.934,
          813.74,
          816.546,
          819.352,
          822.158,
          824.964,
          827.77,
          830.576,
          833.382,
          836.188,
          838.994,
          841.8,
          844.606,
          847.412,
          850.218,
          853.024,
          855.83,
          858.636,
          861.442,
          864.248,
          867.054,
          869.86,
          872.666,
          875.472,
          878.278,
          881.084,
          883.89,
          886.696,
          889.502,
          892.308,
          895.114,
          897.92,
          900.726,
          903.532,
          906.338,
          909.144,
          911.95,
          914.756,
          917.562,
          920.368,
          923.174,
          925.98,
          928.786,
          931.592,
          934.398,
          937.204,
          940.01,
          942.816,
          945.622,
          948.428,
          951.234,
          954.04,
          956.846,
          959.652,
          962.458,
          965.264,
          968.07,
          970.876,
          973.682,
          976.488,
          979.294,
          982.1,
          984.906,
          987.712,
          990.518,
          993.324,
          996.13,
          998.936,
          1001.742,
          1004.548,
          1007.354,
          1010.16,
          1012.966,
          1015.772,
          1018.578,
          1021.384,
          1024.19,
          1026.996,
          1029.802,
          1032.608,
          1035.414,
          1038.22,
          1041.026,
          1043.832,
          1046.638,
          1049.444,
          1052.25,
          1055.056,
          1057.862,
          1060.668,
          1063.474,
          1066.28,
          1069.086,
          1071.892,
          1074.698,
          1077.504,
          1080.31,
          1083.116,
          1085.922,
          1088.728,
          1091.534,
          1094.34,
          1097.146,
          1099.952,
          1102.758,
          1105.564,
          1108.37,
          1111.176,
          1113.982,
          1116.788,
          1119.594,
          1122.4,
          1125.206,
          1128.012,
          1130.818,
          1133.624,
          1136.43,
          1139.236,
          1142.042,
          1144.848,
          1147.654,
          1150.46,
          1153.266,
          1156.072,
          1158.878,
          1161.684,
          1164.49,
          1167.296,
          1170.102,
          1172.908,
          1175.714,
          1178.52,
          1181.326,
          1184.132,
          1186.938,
          1189.744,
          1192.55,
          1195.356,
          1198.162,
          1200.968,
          1203.774,
          1206.58,
          1209.386,
          1212.192,
          1214.998,
          1217.804,
          1220.61,
          1223.416,
          1226.222,
          1229.028,
          1231.834,
          1234.64,
          1237.446,
          1240.252,
          1243.058,
          1245.864,
          1248.67,
          1251.476,
          1254.282,
          1257.088,
          1259.894,
          1262.7,
          1265.506,
          1268.312,
          1271.118,
          1273.924,
          1276.73,
          1279.536,
          1282.342,
          1285.148,
          1287.954,
          1290.76,
          1293.566,
          1296.372,
          1299.178,
          1301.984,
          1304.79,
          1307.596,
          1310.402,
          1313.208,
          1316.014,
          1318.82,
          1321.626,
          1324.432,
          1327.238,
          1330.044,
          1332.85,
          1335.656,
          1338.462,
          1341.268,
          1344.074,
          1346.88,
          1349.686,
          1352.492,
          1355.298,
          1358.104,
          1360.91,
          1363.716,
          1366.522,
          1369.328,
          1372.134,
          1374.94,
          1377.746,
          1380.552,
          1383.358,
          1386.164,
          1388.97,
          1391.776,
          1394.582,
          1397.388,
          1400.194
         ],
         "xaxis": "x",
         "y": [
          0.004531548877286144,
          0.004662413526094329,
          0.004781981371892253,
          0.004889454445487928,
          0.0049841629002951165,
          0.005065574246943349,
          0.005133299953111764,
          0.005187099274428095,
          0.005226880257558288,
          0.005252697933094793,
          0.005264749790887886,
          0.005263368701492836,
          0.005249013512057414,
          0.005222257601164082,
          0.005183775723152195,
          0.005134329506988666,
          0.005074751997014047,
          0.005005931632531895,
          0.004928796060391528,
          0.004844296160050946,
          0.004753390635130091,
          0.004657031490559915,
          0.004556150671767942,
          0.004451648093780469,
          0.004344381235645726,
          0.004235156421195371,
          0.004124721852814333,
          0.00401376241240175,
          0.003902896194705159,
          0.003792672694081269,
          0.003683572527580724,
          0.0035760085458732436,
          0.0034703281594150263,
          0.0033668166905981276,
          0.0032657015533187135,
          0.0031671570591010243,
          0.0030713096530479134,
          0.002978243392705548,
          0.0028880054975498454,
          0.0028006118152580782,
          0.0027160520722135967,
          0.0026342947987998836,
          0.0025552918440029824,
          0.002478982417763646,
          0.002405296622599908,
          0.0023341584575724845,
          0.002265488297129861,
          0.002199204864322469,
          0.0021352267320267834,
          0.0020734733970049915,
          0.0020138659798088873,
          0.001956327608779724,
          0.0019007835488648334,
          0.0018471611359042062,
          0.0017953895747356004,
          0.001745399655270625,
          0.0016971234349756358,
          0.0016504939293346822,
          0.001605444844255852,
          0.0015619103763742461,
          0.0015198250991430855,
          0.0014791239447965463,
          0.0014397422849789009,
          0.001401616106284531,
          0.001364682271315923,
          0.001328878851264459,
          0.001294145512527383,
          0.0012604239375227644,
          0.001227658258638089,
          0.0011957954840946014,
          0.0011647858953418577,
          0.0011345833973007062,
          0.0011051458052112819,
          0.00107643505486381,
          0.001048417326432902,
          0.0010210630758358324,
          0.0009943469713310936,
          0.000968247736811127,
          0.0009427479067817901,
          0.0009178335012363536,
          0.000893493631418877,
          0.0008697200497476082,
          0.0008465066588741256,
          0.0008238489959524114,
          0.0008017437086719415,
          0.0007801880394801148,
          0.0007591793337138186,
          0.0007387145861269498,
          0.0007187900386062168,
          0.0006994008397905681,
          0.0006805407749373085,
          0.0006622020718056943,
          0.0006443752856521731,
          0.0006270492637473909,
          0.000610211187225055,
          0.0005938466856421158,
          0.0005779400174443796,
          0.0005624743076553148,
          0.0005474318325897332,
          0.0005327943402741148,
          0.0005185433945529878,
          0.0005046607305814816,
          0.0004911286095389117,
          0.0004779301609236027,
          0.0004650497016693045,
          0.0004524730225113349,
          0.0004401876334705152,
          0.00042818296195288507,
          0.0004164504987171881,
          0.000404983888773169,
          0.00039377896607631504,
          0.00038283373261723864,
          0.00037214828411087186,
          0.000361724685925068,
          0.00035156680411215294,
          0.0003416800973936458,
          0.0003320713766818687,
          0.00032274853919776877,
          0.0003137202844681307,
          0.0003049958194728417,
          0.0002965845599880671,
          0.00028849583476439676,
          0.0002807385986251794,
          0.0002733211599069088,
          0.0002662509269284404,
          0.0002595341774053994,
          0.00025317585395336604,
          0.0002471793880765742,
          0.000241546554340345,
          0.00023627735579128588,
          0.0002313699411286848,
          0.0002268205536461863,
          0.00022262351155187516,
          0.0002187712189291608,
          0.00021525420630888234,
          0.000212061199570917,
          0.00020917921566673595,
          0.000206593683438845,
          0.0002042885875971236,
          0.00020224663368689782,
          0.00020044943164460106,
          0.00019887769528367897,
          0.00019751145479048656,
          0.00019633027904593145,
          0.00019531350433605715,
          0.00019444046578897262,
          0.00019369072769359578,
          0.0001930443087351113,
          0.00019248189813945838,
          0.00019198505876889187,
          0.00019153641336360877,
          0.00019111981038696393,
          0.0001907204663051005,
          0.00019032508161139394,
          0.00018992192848171836,
          0.0001895009086025854,
          0.00018905358043018773,
          0.00018857315589004928,
          0.00018805446728737578,
          0.00018749390593910054,
          0.0001868893347320129,
          0.00018623997743087725,
          0.00018554628808281745,
          0.00018480980427049116,
          0.00018403298824297515,
          0.00018321906009214131,
          0.0001823718271422426,
          0.000181495513586396,
          0.0001805945941466291,
          0.0001796736351704031,
          0.0001787371461266764,
          0.00017778944395240408,
          0.00017683453215150858,
          0.0001758759959887954,
          0.0001749169145760558,
          0.00017395979013938413,
          0.0001730064943047838,
          0.00017205823085829355,
          0.00017111551413699375,
          0.0001701781619928505,
          0.00016924530214159847,
          0.00016831539065789055,
          0.0001673862413954892,
          0.00016645506518348497,
          0.0001655185177600487,
          0.00016457275553632074,
          0.00016361349841685437,
          0.00016263609902273095,
          0.00016163561775439113,
          0.00016060690318176558,
          0.00015954467725162684,
          0.00015844362475270115,
          0.0001572984863788187,
          0.00015610415458452596,
          0.00015485577124533175,
          0.00015354882592868066,
          0.00015217925336699476,
          0.00015074352851738245,
          0.00014923875741110855,
          0.00014766276185629957,
          0.0001460141559746519,
          0.0001442924125395441,
          0.00014249791714799725,
          0.00014063200840741766,
          0.0001386970025506461,
          0.0001366962012056518,
          0.00013463388143090707,
          0.00013251526757162733,
          0.00013034648497969566,
          0.00012813449615240482,
          0.00012588702036148383,
          0.00012361243834259366,
          0.00012131968407512949,
          0.00011901812608244107,
          0.00011671744100538316,
          0.0001144274824323759,
          0.00011215814809573487,
          0.00010991924856015812,
          0.00010772038043302581,
          0.00010557080692066663,
          0.00010347934824799152,
          0.00010145428406354171,
          0.00009950326948484199,
          0.000097633265920146,
          0.00009585048725489359,
          0.0000941603614386008,
          0.0000925675069749387,
          0.00009107572332804514,
          0.0000896879938333141,
          0.00008840649935954321,
          0.00008723264072595633,
          0.00008616706774194327,
          0.00008520971271376263,
          0.00008435982634965205,
          0.00008361601418588046,
          0.00008297627193901052,
          0.00008243801854700861,
          0.0000819981260729422,
          0.0000816529460860909,
          0.00008139833258104615,
          0.00008122966192023452,
          0.00008114185066484533,
          0.0000811293724714889,
          0.00008118627545882072,
          0.00008130620157639064,
          0.00008148240952912154,
          0.00008170780272308856,
          0.00008197496350574555,
          0.00008227619468641796,
          0.00008260356895609028,
          0.00008294898639912955,
          0.00008330423982689584,
          0.00008366108718964694,
          0.00008401132986495914,
          0.0000843468952036027,
          0.00008465992136094167,
          0.00008494284217366891,
          0.00008518846967389924,
          0.00008539007177599232,
          0.00008554144273094595,
          0.00008563696411785813,
          0.00008567165442505504,
          0.0000856412056528681,
          0.00008554200582882706,
          0.00008537114684346461,
          0.00008512641756749852,
          0.00008480628277374036,
          0.00008440984893419137,
          0.00008393681846975556,
          0.00008338743447413476,
          0.00008276241829503068,
          0.00008206290261883731,
          0.00008129036285806673,
          0.00008044654967717836,
          0.0000795334254106812,
          0.00007855310693076499,
          0.00007750781721848708,
          0.0000763998474951999,
          0.00007523153129571616,
          0.00007400523133093628,
          0.00007272333941674722,
          0.00007138828916071968,
          0.00007000258052162151,
          0.00006856881481171152,
          0.0000670897382194971,
          0.00006556829151034003,
          0.0000640076632303688,
          0.00006241134350862898,
          0.000060783175432487246,
          0.000059127400967097624,
          0.00005744869850211594,
          0.000055752209334405764,
          0.000054043550726763995,
          0.000052328813608442504,
          0.00005061454348882335,
          0.00004890770372357514,
          0.000047215620883314076,
          0.0000455459126070732,
          0.00004390639895483893,
          0.000042304998883161894,
          0.000040749614034275024,
          0.000039248002532648435,
          0.0000378076459060317,
          0.00003643561257609399,
          0.000035138421585325435,
          0.00003392191033406777,
          0.00003279111009041184,
          0.00003175013290619224,
          0.000030802073328310134,
          0.000029948927943749843,
          0.00002919153535001649,
          0.000028529538614441155,
          0.000027961371692544336,
          0.00002748427063604881,
          0.00002709430975510647,
          0.000026786462227407392,
          0.000026554683989561215,
          0.00002639201912322983,
          0.000026290724378325566,
          0.000026242409974599625,
          0.000026238193405111688,
          0.00002626886264154039,
          0.000026325044920062515,
          0.000026397377172296472,
          0.000026476674159894266,
          0.000026554090471801844,
          0.000026621272744875955,
          0.00002667049876348521,
          0.000026694800471466752,
          0.00002668806837783518,
          0.000026645135341826115,
          0.0000265618382680115,
          0.000026435056812575657,
          0.00002626272878155513,
          0.000026043842475473317,
          0.000025778406787710575,
          0.00002546740038267532,
          0.00002511270175237848,
          0.0000247170023660408,
          0.000024283705478392458,
          0.000023816813441790397,
          0.000023320806570563482,
          0.000022800516730411744,
          0.000022260998870412412,
          0.000021707403681188768,
          0.00002114485445270965,
          0.00002057833102319724,
          0.000020012563462342527,
          0.00001945193782436005,
          0.000018900415947414968,
          0.000018361470874686376,
          0.000017838039038706137,
          0.00001733248989522787,
          0.00001684661322682325,
          0.00001638162387104044,
          0.000015938183174708632,
          0.00001551643604603677,
          0.000015116062080256182,
          0.000014736338882650556,
          0.000014376215413805936,
          0.000014034392943372529,
          0.000013709411026571332,
          0.000013399735816319752,
          0.000013103847995483288,
          0.00001282032765864062,
          0.000012547933589077212,
          0.00001228567456070098,
          0.000012032870540527339,
          0.000011789201967962635,
          0.00001155474563355607,
          0.000011329996062314243,
          0.000011115871714432303,
          0.000010913705738324814,
          0.000010725221436006853,
          0.000010552493018313644,
          0.000010397892626843306,
          0.000010264024971355738,
          0.000010153651267154251,
          0.000010069604449336356,
          0.000010014697883566016,
          0.000009991629981271434,
          0.000010002887257228703,
          0.000010050648436870381,
          0.000010136692228030025,
          0.00001026231131696892,
          0.000010428235032261098,
          0.000010634562944302905,
          0.000010880711435764698,
          0.000011165374993165416,
          0.000011486503636962907,
          0.000011841297533271201,
          0.000012226219421853096,
          0.000012637025060858116,
          0.000013068811438480166,
          0.000013516082045915762,
          0.0000139728280562251,
          0.000014432623822078687,
          0.000014888734704398494,
          0.000015334234886013162,
          0.000015762132521583475,
          0.000016165499338185175,
          0.00001653760163953879,
          0.000016872029588446707,
          0.00001716282165159384,
          0.0000174045811907279,
          0.00001759258237349069,
          0.00001772286285170849,
          0.000017792301007388833,
          0.000017798675986533478,
          0.000017740709214889364,
          0.00001761808660232019,
          0.00001743146117625719,
          0.00001718243642131616,
          0.000016873531123029362,
          0.000016508127000663013,
          0.000016090400850540925,
          0.000015625243292519276,
          0.000015118166506319798,
          0.000014575203552630247,
          0.000014002801991106835,
          0.00001340771453232235,
          0.000012796889395704077,
          0.000012177362896596246,
          0.000011556156561955331,
          0.000010940180787762528,
          0.000010336146716004904,
          0.000009750487640414136,
          0.000009189290864055975,
          0.000008658240544220033,
          0.000008162571685907544,
          0.000007707035098123266,
          0.000007295872818697452,
          0.000006932803252616247,
          0.0000066210150622539934,
          0.000006363168699082735,
          0.000006161404376199478,
          0.000006017355247541104,
          0.000005932164578786724,
          0.000005906505760539433,
          0.00000594060411878803,
          0.00000603425961219857,
          0.000006186869661292173,
          0.000006397451521822642,
          0.000006664663784898792,
          0.000006986826751645839,
          0.000007361941583637725,
          0.000007787708266474678,
          0.000008261542538710261,
          0.000008780592029327183,
          0.000009341751913029037,
          0.000009941680433961952,
          0.000010576814666401323,
          0.000011243386877594153,
          0.000011937441836081827,
          0.000012654855371525486,
          0.00001339135444248765,
          0.000014142538909832854,
          0.000014903905148170369,
          0.0000156708715584546,
          0.000016438805973435816,
          0.000017203054875654833,
          0.000017958974276290286,
          0.00001870196203333446,
          0.00001942749132012434,
          0.000020131144891035135,
          0.00002080864973115238,
          0.000021455911622226313,
          0.000022069049109742157,
          0.000022644426317392062,
          0.000023178684027771525,
          0.000023668768434064716,
          0.000024111956969167016,
          0.000024505880638266428,
          0.000024848542320093408,
          0.000025138330561949814,
          0.000025374028474464555,
          0.000025554817432997955,
          0.00002568027541176813,
          0.00002575036991094676,
          0.000025765445581849363,
          0.000025726206805584607,
          0.000025633695629970114,
          0.000025489265611502003,
          0.000025294552236859318,
          0.000025051440705253786,
          0.00002476203193298338,
          0.00002442860768994686,
          0.000024053595791167,
          0.000023639536242776442,
          0.000023189049181532125,
          0.00002270480535177939,
          0.000022189499737803785,
          0.00002164582881834199,
          0.000021076471740758408,
          0.000020484075533187678,
          0.000019871244292555464,
          0.000019240532113707604,
          0.00001859443936838456,
          0.000017935411810090945,
          0.000017265841878326097
         ],
         "yaxis": "y"
        }
       ],
       "layout": {
        "barmode": "overlay",
        "hovermode": "closest",
        "legend": {
         "traceorder": "reversed"
        },
        "template": {
         "data": {
          "bar": [
           {
            "error_x": {
             "color": "#2a3f5f"
            },
            "error_y": {
             "color": "#2a3f5f"
            },
            "marker": {
             "line": {
              "color": "#E5ECF6",
              "width": 0.5
             },
             "pattern": {
              "fillmode": "overlay",
              "size": 10,
              "solidity": 0.2
             }
            },
            "type": "bar"
           }
          ],
          "barpolar": [
           {
            "marker": {
             "line": {
              "color": "#E5ECF6",
              "width": 0.5
             },
             "pattern": {
              "fillmode": "overlay",
              "size": 10,
              "solidity": 0.2
             }
            },
            "type": "barpolar"
           }
          ],
          "carpet": [
           {
            "aaxis": {
             "endlinecolor": "#2a3f5f",
             "gridcolor": "white",
             "linecolor": "white",
             "minorgridcolor": "white",
             "startlinecolor": "#2a3f5f"
            },
            "baxis": {
             "endlinecolor": "#2a3f5f",
             "gridcolor": "white",
             "linecolor": "white",
             "minorgridcolor": "white",
             "startlinecolor": "#2a3f5f"
            },
            "type": "carpet"
           }
          ],
          "choropleth": [
           {
            "colorbar": {
             "outlinewidth": 0,
             "ticks": ""
            },
            "type": "choropleth"
           }
          ],
          "contour": [
           {
            "colorbar": {
             "outlinewidth": 0,
             "ticks": ""
            },
            "colorscale": [
             [
              0,
              "#0d0887"
             ],
             [
              0.1111111111111111,
              "#46039f"
             ],
             [
              0.2222222222222222,
              "#7201a8"
             ],
             [
              0.3333333333333333,
              "#9c179e"
             ],
             [
              0.4444444444444444,
              "#bd3786"
             ],
             [
              0.5555555555555556,
              "#d8576b"
             ],
             [
              0.6666666666666666,
              "#ed7953"
             ],
             [
              0.7777777777777778,
              "#fb9f3a"
             ],
             [
              0.8888888888888888,
              "#fdca26"
             ],
             [
              1,
              "#f0f921"
             ]
            ],
            "type": "contour"
           }
          ],
          "contourcarpet": [
           {
            "colorbar": {
             "outlinewidth": 0,
             "ticks": ""
            },
            "type": "contourcarpet"
           }
          ],
          "heatmap": [
           {
            "colorbar": {
             "outlinewidth": 0,
             "ticks": ""
            },
            "colorscale": [
             [
              0,
              "#0d0887"
             ],
             [
              0.1111111111111111,
              "#46039f"
             ],
             [
              0.2222222222222222,
              "#7201a8"
             ],
             [
              0.3333333333333333,
              "#9c179e"
             ],
             [
              0.4444444444444444,
              "#bd3786"
             ],
             [
              0.5555555555555556,
              "#d8576b"
             ],
             [
              0.6666666666666666,
              "#ed7953"
             ],
             [
              0.7777777777777778,
              "#fb9f3a"
             ],
             [
              0.8888888888888888,
              "#fdca26"
             ],
             [
              1,
              "#f0f921"
             ]
            ],
            "type": "heatmap"
           }
          ],
          "heatmapgl": [
           {
            "colorbar": {
             "outlinewidth": 0,
             "ticks": ""
            },
            "colorscale": [
             [
              0,
              "#0d0887"
             ],
             [
              0.1111111111111111,
              "#46039f"
             ],
             [
              0.2222222222222222,
              "#7201a8"
             ],
             [
              0.3333333333333333,
              "#9c179e"
             ],
             [
              0.4444444444444444,
              "#bd3786"
             ],
             [
              0.5555555555555556,
              "#d8576b"
             ],
             [
              0.6666666666666666,
              "#ed7953"
             ],
             [
              0.7777777777777778,
              "#fb9f3a"
             ],
             [
              0.8888888888888888,
              "#fdca26"
             ],
             [
              1,
              "#f0f921"
             ]
            ],
            "type": "heatmapgl"
           }
          ],
          "histogram": [
           {
            "marker": {
             "pattern": {
              "fillmode": "overlay",
              "size": 10,
              "solidity": 0.2
             }
            },
            "type": "histogram"
           }
          ],
          "histogram2d": [
           {
            "colorbar": {
             "outlinewidth": 0,
             "ticks": ""
            },
            "colorscale": [
             [
              0,
              "#0d0887"
             ],
             [
              0.1111111111111111,
              "#46039f"
             ],
             [
              0.2222222222222222,
              "#7201a8"
             ],
             [
              0.3333333333333333,
              "#9c179e"
             ],
             [
              0.4444444444444444,
              "#bd3786"
             ],
             [
              0.5555555555555556,
              "#d8576b"
             ],
             [
              0.6666666666666666,
              "#ed7953"
             ],
             [
              0.7777777777777778,
              "#fb9f3a"
             ],
             [
              0.8888888888888888,
              "#fdca26"
             ],
             [
              1,
              "#f0f921"
             ]
            ],
            "type": "histogram2d"
           }
          ],
          "histogram2dcontour": [
           {
            "colorbar": {
             "outlinewidth": 0,
             "ticks": ""
            },
            "colorscale": [
             [
              0,
              "#0d0887"
             ],
             [
              0.1111111111111111,
              "#46039f"
             ],
             [
              0.2222222222222222,
              "#7201a8"
             ],
             [
              0.3333333333333333,
              "#9c179e"
             ],
             [
              0.4444444444444444,
              "#bd3786"
             ],
             [
              0.5555555555555556,
              "#d8576b"
             ],
             [
              0.6666666666666666,
              "#ed7953"
             ],
             [
              0.7777777777777778,
              "#fb9f3a"
             ],
             [
              0.8888888888888888,
              "#fdca26"
             ],
             [
              1,
              "#f0f921"
             ]
            ],
            "type": "histogram2dcontour"
           }
          ],
          "mesh3d": [
           {
            "colorbar": {
             "outlinewidth": 0,
             "ticks": ""
            },
            "type": "mesh3d"
           }
          ],
          "parcoords": [
           {
            "line": {
             "colorbar": {
              "outlinewidth": 0,
              "ticks": ""
             }
            },
            "type": "parcoords"
           }
          ],
          "pie": [
           {
            "automargin": true,
            "type": "pie"
           }
          ],
          "scatter": [
           {
            "fillpattern": {
             "fillmode": "overlay",
             "size": 10,
             "solidity": 0.2
            },
            "type": "scatter"
           }
          ],
          "scatter3d": [
           {
            "line": {
             "colorbar": {
              "outlinewidth": 0,
              "ticks": ""
             }
            },
            "marker": {
             "colorbar": {
              "outlinewidth": 0,
              "ticks": ""
             }
            },
            "type": "scatter3d"
           }
          ],
          "scattercarpet": [
           {
            "marker": {
             "colorbar": {
              "outlinewidth": 0,
              "ticks": ""
             }
            },
            "type": "scattercarpet"
           }
          ],
          "scattergeo": [
           {
            "marker": {
             "colorbar": {
              "outlinewidth": 0,
              "ticks": ""
             }
            },
            "type": "scattergeo"
           }
          ],
          "scattergl": [
           {
            "marker": {
             "colorbar": {
              "outlinewidth": 0,
              "ticks": ""
             }
            },
            "type": "scattergl"
           }
          ],
          "scattermapbox": [
           {
            "marker": {
             "colorbar": {
              "outlinewidth": 0,
              "ticks": ""
             }
            },
            "type": "scattermapbox"
           }
          ],
          "scatterpolar": [
           {
            "marker": {
             "colorbar": {
              "outlinewidth": 0,
              "ticks": ""
             }
            },
            "type": "scatterpolar"
           }
          ],
          "scatterpolargl": [
           {
            "marker": {
             "colorbar": {
              "outlinewidth": 0,
              "ticks": ""
             }
            },
            "type": "scatterpolargl"
           }
          ],
          "scatterternary": [
           {
            "marker": {
             "colorbar": {
              "outlinewidth": 0,
              "ticks": ""
             }
            },
            "type": "scatterternary"
           }
          ],
          "surface": [
           {
            "colorbar": {
             "outlinewidth": 0,
             "ticks": ""
            },
            "colorscale": [
             [
              0,
              "#0d0887"
             ],
             [
              0.1111111111111111,
              "#46039f"
             ],
             [
              0.2222222222222222,
              "#7201a8"
             ],
             [
              0.3333333333333333,
              "#9c179e"
             ],
             [
              0.4444444444444444,
              "#bd3786"
             ],
             [
              0.5555555555555556,
              "#d8576b"
             ],
             [
              0.6666666666666666,
              "#ed7953"
             ],
             [
              0.7777777777777778,
              "#fb9f3a"
             ],
             [
              0.8888888888888888,
              "#fdca26"
             ],
             [
              1,
              "#f0f921"
             ]
            ],
            "type": "surface"
           }
          ],
          "table": [
           {
            "cells": {
             "fill": {
              "color": "#EBF0F8"
             },
             "line": {
              "color": "white"
             }
            },
            "header": {
             "fill": {
              "color": "#C8D4E3"
             },
             "line": {
              "color": "white"
             }
            },
            "type": "table"
           }
          ]
         },
         "layout": {
          "annotationdefaults": {
           "arrowcolor": "#2a3f5f",
           "arrowhead": 0,
           "arrowwidth": 1
          },
          "autotypenumbers": "strict",
          "coloraxis": {
           "colorbar": {
            "outlinewidth": 0,
            "ticks": ""
           }
          },
          "colorscale": {
           "diverging": [
            [
             0,
             "#8e0152"
            ],
            [
             0.1,
             "#c51b7d"
            ],
            [
             0.2,
             "#de77ae"
            ],
            [
             0.3,
             "#f1b6da"
            ],
            [
             0.4,
             "#fde0ef"
            ],
            [
             0.5,
             "#f7f7f7"
            ],
            [
             0.6,
             "#e6f5d0"
            ],
            [
             0.7,
             "#b8e186"
            ],
            [
             0.8,
             "#7fbc41"
            ],
            [
             0.9,
             "#4d9221"
            ],
            [
             1,
             "#276419"
            ]
           ],
           "sequential": [
            [
             0,
             "#0d0887"
            ],
            [
             0.1111111111111111,
             "#46039f"
            ],
            [
             0.2222222222222222,
             "#7201a8"
            ],
            [
             0.3333333333333333,
             "#9c179e"
            ],
            [
             0.4444444444444444,
             "#bd3786"
            ],
            [
             0.5555555555555556,
             "#d8576b"
            ],
            [
             0.6666666666666666,
             "#ed7953"
            ],
            [
             0.7777777777777778,
             "#fb9f3a"
            ],
            [
             0.8888888888888888,
             "#fdca26"
            ],
            [
             1,
             "#f0f921"
            ]
           ],
           "sequentialminus": [
            [
             0,
             "#0d0887"
            ],
            [
             0.1111111111111111,
             "#46039f"
            ],
            [
             0.2222222222222222,
             "#7201a8"
            ],
            [
             0.3333333333333333,
             "#9c179e"
            ],
            [
             0.4444444444444444,
             "#bd3786"
            ],
            [
             0.5555555555555556,
             "#d8576b"
            ],
            [
             0.6666666666666666,
             "#ed7953"
            ],
            [
             0.7777777777777778,
             "#fb9f3a"
            ],
            [
             0.8888888888888888,
             "#fdca26"
            ],
            [
             1,
             "#f0f921"
            ]
           ]
          },
          "colorway": [
           "#636efa",
           "#EF553B",
           "#00cc96",
           "#ab63fa",
           "#FFA15A",
           "#19d3f3",
           "#FF6692",
           "#B6E880",
           "#FF97FF",
           "#FECB52"
          ],
          "font": {
           "color": "#2a3f5f"
          },
          "geo": {
           "bgcolor": "white",
           "lakecolor": "white",
           "landcolor": "#E5ECF6",
           "showlakes": true,
           "showland": true,
           "subunitcolor": "white"
          },
          "hoverlabel": {
           "align": "left"
          },
          "hovermode": "closest",
          "mapbox": {
           "style": "light"
          },
          "paper_bgcolor": "white",
          "plot_bgcolor": "#E5ECF6",
          "polar": {
           "angularaxis": {
            "gridcolor": "white",
            "linecolor": "white",
            "ticks": ""
           },
           "bgcolor": "#E5ECF6",
           "radialaxis": {
            "gridcolor": "white",
            "linecolor": "white",
            "ticks": ""
           }
          },
          "scene": {
           "xaxis": {
            "backgroundcolor": "#E5ECF6",
            "gridcolor": "white",
            "gridwidth": 2,
            "linecolor": "white",
            "showbackground": true,
            "ticks": "",
            "zerolinecolor": "white"
           },
           "yaxis": {
            "backgroundcolor": "#E5ECF6",
            "gridcolor": "white",
            "gridwidth": 2,
            "linecolor": "white",
            "showbackground": true,
            "ticks": "",
            "zerolinecolor": "white"
           },
           "zaxis": {
            "backgroundcolor": "#E5ECF6",
            "gridcolor": "white",
            "gridwidth": 2,
            "linecolor": "white",
            "showbackground": true,
            "ticks": "",
            "zerolinecolor": "white"
           }
          },
          "shapedefaults": {
           "line": {
            "color": "#2a3f5f"
           }
          },
          "ternary": {
           "aaxis": {
            "gridcolor": "white",
            "linecolor": "white",
            "ticks": ""
           },
           "baxis": {
            "gridcolor": "white",
            "linecolor": "white",
            "ticks": ""
           },
           "bgcolor": "#E5ECF6",
           "caxis": {
            "gridcolor": "white",
            "linecolor": "white",
            "ticks": ""
           }
          },
          "title": {
           "x": 0.05
          },
          "xaxis": {
           "automargin": true,
           "gridcolor": "white",
           "linecolor": "white",
           "ticks": "",
           "title": {
            "standoff": 15
           },
           "zerolinecolor": "white",
           "zerolinewidth": 2
          },
          "yaxis": {
           "automargin": true,
           "gridcolor": "white",
           "linecolor": "white",
           "ticks": "",
           "title": {
            "standoff": 15
           },
           "zerolinecolor": "white",
           "zerolinewidth": 2
          }
         }
        },
        "title": {
         "text": "Distribution of Daily Cases"
        },
        "xaxis": {
         "anchor": "y2",
         "domain": [
          0,
          1
         ],
         "title": {
          "text": "Cases"
         },
         "zeroline": false
        },
        "yaxis": {
         "anchor": "free",
         "domain": [
          0,
          1
         ],
         "position": 0
        }
       }
      },
      "text/html": [
       "<div>                            <div id=\"59f81e13-a9fa-44ae-b3ba-4da1d7ce29c7\" class=\"plotly-graph-div\" style=\"height:525px; width:100%;\"></div>            <script type=\"text/javascript\">                require([\"plotly\"], function(Plotly) {                    window.PLOTLYENV=window.PLOTLYENV || {};                                    if (document.getElementById(\"59f81e13-a9fa-44ae-b3ba-4da1d7ce29c7\")) {                    Plotly.newPlot(                        \"59f81e13-a9fa-44ae-b3ba-4da1d7ce29c7\",                        [{\"legendgroup\":\"Daily Cases\",\"marker\":{\"color\":\"rgb(31, 119, 180)\"},\"mode\":\"lines\",\"name\":\"Daily Cases\",\"showlegend\":true,\"x\":[0.0,2.806,5.612,8.418,11.224,14.03,16.836,19.642,22.448,25.254,28.06,30.866,33.672,36.478,39.284,42.09,44.896,47.702,50.508,53.314,56.12,58.926,61.732,64.538,67.344,70.15,72.956,75.762,78.568,81.374,84.18,86.986,89.792,92.598,95.404,98.21,101.016,103.822,106.628,109.434,112.24,115.046,117.852,120.658,123.464,126.27,129.076,131.882,134.688,137.494,140.3,143.106,145.912,148.718,151.524,154.33,157.136,159.942,162.748,165.554,168.36,171.166,173.972,176.778,179.584,182.39,185.196,188.002,190.808,193.614,196.42,199.226,202.032,204.838,207.644,210.45,213.256,216.062,218.868,221.674,224.48,227.286,230.092,232.898,235.704,238.51,241.316,244.122,246.928,249.734,252.54,255.346,258.152,260.958,263.764,266.57,269.376,272.182,274.988,277.794,280.6,283.406,286.212,289.018,291.824,294.63,297.436,300.242,303.048,305.854,308.66,311.466,314.272,317.078,319.884,322.69,325.496,328.302,331.108,333.914,336.72,339.526,342.332,345.138,347.944,350.75,353.556,356.362,359.168,361.974,364.78,367.586,370.392,373.198,376.004,378.81,381.616,384.422,387.228,390.034,392.84,395.646,398.452,401.258,404.064,406.87,409.676,412.482,415.288,418.094,420.9,423.706,426.512,429.318,432.124,434.93,437.736,440.542,443.348,446.154,448.96,451.766,454.572,457.378,460.184,462.99,465.796,468.602,471.408,474.214,477.02,479.826,482.632,485.438,488.244,491.05,493.856,496.662,499.468,502.274,505.08,507.886,510.692,513.498,516.304,519.11,521.916,524.722,527.528,530.334,533.14,535.946,538.752,541.558,544.364,547.17,549.976,552.782,555.588,558.394,561.2,564.006,566.812,569.618,572.424,575.23,578.036,580.842,583.648,586.454,589.26,592.066,594.872,597.678,600.484,603.29,606.096,608.902,611.708,614.514,617.32,620.126,622.932,625.738,628.544,631.35,634.156,636.962,639.768,642.574,645.38,648.186,650.992,653.798,656.604,659.41,662.216,665.022,667.828,670.634,673.44,676.246,679.052,681.858,684.664,687.47,690.276,693.082,695.888,698.694,701.5,704.306,707.112,709.918,712.724,715.53,718.336,721.142,723.948,726.754,729.56,732.366,735.172,737.978,740.784,743.59,746.396,749.202,752.008,754.814,757.62,760.426,763.232,766.038,768.844,771.65,774.456,777.262,780.068,782.874,785.68,788.486,791.292,794.098,796.904,799.71,802.516,805.322,808.128,810.934,813.74,816.546,819.352,822.158,824.964,827.77,830.576,833.382,836.188,838.994,841.8,844.606,847.412,850.218,853.024,855.83,858.636,861.442,864.248,867.054,869.86,872.666,875.472,878.278,881.084,883.89,886.696,889.502,892.308,895.114,897.92,900.726,903.532,906.338,909.144,911.95,914.756,917.562,920.368,923.174,925.98,928.786,931.592,934.398,937.204,940.01,942.816,945.622,948.428,951.234,954.04,956.846,959.652,962.458,965.264,968.07,970.876,973.682,976.488,979.294,982.1,984.906,987.712,990.518,993.324,996.13,998.936,1001.742,1004.548,1007.354,1010.16,1012.966,1015.772,1018.578,1021.384,1024.19,1026.996,1029.802,1032.608,1035.414,1038.22,1041.026,1043.832,1046.638,1049.444,1052.25,1055.056,1057.862,1060.668,1063.474,1066.28,1069.086,1071.892,1074.698,1077.504,1080.31,1083.116,1085.922,1088.728,1091.534,1094.34,1097.146,1099.952,1102.758,1105.564,1108.37,1111.176,1113.982,1116.788,1119.594,1122.4,1125.206,1128.012,1130.818,1133.624,1136.43,1139.236,1142.042,1144.848,1147.654,1150.46,1153.266,1156.072,1158.878,1161.684,1164.49,1167.296,1170.102,1172.908,1175.714,1178.52,1181.326,1184.132,1186.938,1189.744,1192.55,1195.356,1198.162,1200.968,1203.774,1206.58,1209.386,1212.192,1214.998,1217.804,1220.61,1223.416,1226.222,1229.028,1231.834,1234.64,1237.446,1240.252,1243.058,1245.864,1248.67,1251.476,1254.282,1257.088,1259.894,1262.7,1265.506,1268.312,1271.118,1273.924,1276.73,1279.536,1282.342,1285.148,1287.954,1290.76,1293.566,1296.372,1299.178,1301.984,1304.79,1307.596,1310.402,1313.208,1316.014,1318.82,1321.626,1324.432,1327.238,1330.044,1332.85,1335.656,1338.462,1341.268,1344.074,1346.88,1349.686,1352.492,1355.298,1358.104,1360.91,1363.716,1366.522,1369.328,1372.134,1374.94,1377.746,1380.552,1383.358,1386.164,1388.97,1391.776,1394.582,1397.388,1400.194],\"xaxis\":\"x\",\"y\":[0.004531548877286144,0.004662413526094329,0.004781981371892253,0.004889454445487928,0.0049841629002951165,0.005065574246943349,0.005133299953111764,0.005187099274428095,0.005226880257558288,0.005252697933094793,0.005264749790887886,0.005263368701492836,0.005249013512057414,0.005222257601164082,0.005183775723152195,0.005134329506988666,0.005074751997014047,0.005005931632531895,0.004928796060391528,0.004844296160050946,0.004753390635130091,0.004657031490559915,0.004556150671767942,0.004451648093780469,0.004344381235645726,0.004235156421195371,0.004124721852814333,0.00401376241240175,0.003902896194705159,0.003792672694081269,0.003683572527580724,0.0035760085458732436,0.0034703281594150263,0.0033668166905981276,0.0032657015533187135,0.0031671570591010243,0.0030713096530479134,0.002978243392705548,0.0028880054975498454,0.0028006118152580782,0.0027160520722135967,0.0026342947987998836,0.0025552918440029824,0.002478982417763646,0.002405296622599908,0.0023341584575724845,0.002265488297129861,0.002199204864322469,0.0021352267320267834,0.0020734733970049915,0.0020138659798088873,0.001956327608779724,0.0019007835488648334,0.0018471611359042062,0.0017953895747356004,0.001745399655270625,0.0016971234349756358,0.0016504939293346822,0.001605444844255852,0.0015619103763742461,0.0015198250991430855,0.0014791239447965463,0.0014397422849789009,0.001401616106284531,0.001364682271315923,0.001328878851264459,0.001294145512527383,0.0012604239375227644,0.001227658258638089,0.0011957954840946014,0.0011647858953418577,0.0011345833973007062,0.0011051458052112819,0.00107643505486381,0.001048417326432902,0.0010210630758358324,0.0009943469713310936,0.000968247736811127,0.0009427479067817901,0.0009178335012363536,0.000893493631418877,0.0008697200497476082,0.0008465066588741256,0.0008238489959524114,0.0008017437086719415,0.0007801880394801148,0.0007591793337138186,0.0007387145861269498,0.0007187900386062168,0.0006994008397905681,0.0006805407749373085,0.0006622020718056943,0.0006443752856521731,0.0006270492637473909,0.000610211187225055,0.0005938466856421158,0.0005779400174443796,0.0005624743076553148,0.0005474318325897332,0.0005327943402741148,0.0005185433945529878,0.0005046607305814816,0.0004911286095389117,0.0004779301609236027,0.0004650497016693045,0.0004524730225113349,0.0004401876334705152,0.00042818296195288507,0.0004164504987171881,0.000404983888773169,0.00039377896607631504,0.00038283373261723864,0.00037214828411087186,0.000361724685925068,0.00035156680411215294,0.0003416800973936458,0.0003320713766818687,0.00032274853919776877,0.0003137202844681307,0.0003049958194728417,0.0002965845599880671,0.00028849583476439676,0.0002807385986251794,0.0002733211599069088,0.0002662509269284404,0.0002595341774053994,0.00025317585395336604,0.0002471793880765742,0.000241546554340345,0.00023627735579128588,0.0002313699411286848,0.0002268205536461863,0.00022262351155187516,0.0002187712189291608,0.00021525420630888234,0.000212061199570917,0.00020917921566673595,0.000206593683438845,0.0002042885875971236,0.00020224663368689782,0.00020044943164460106,0.00019887769528367897,0.00019751145479048656,0.00019633027904593145,0.00019531350433605715,0.00019444046578897262,0.00019369072769359578,0.0001930443087351113,0.00019248189813945838,0.00019198505876889187,0.00019153641336360877,0.00019111981038696393,0.0001907204663051005,0.00019032508161139394,0.00018992192848171836,0.0001895009086025854,0.00018905358043018773,0.00018857315589004928,0.00018805446728737578,0.00018749390593910054,0.0001868893347320129,0.00018623997743087725,0.00018554628808281745,0.00018480980427049116,0.00018403298824297515,0.00018321906009214131,0.0001823718271422426,0.000181495513586396,0.0001805945941466291,0.0001796736351704031,0.0001787371461266764,0.00017778944395240408,0.00017683453215150858,0.0001758759959887954,0.0001749169145760558,0.00017395979013938413,0.0001730064943047838,0.00017205823085829355,0.00017111551413699375,0.0001701781619928505,0.00016924530214159847,0.00016831539065789055,0.0001673862413954892,0.00016645506518348497,0.0001655185177600487,0.00016457275553632074,0.00016361349841685437,0.00016263609902273095,0.00016163561775439113,0.00016060690318176558,0.00015954467725162684,0.00015844362475270115,0.0001572984863788187,0.00015610415458452596,0.00015485577124533175,0.00015354882592868066,0.00015217925336699476,0.00015074352851738245,0.00014923875741110855,0.00014766276185629957,0.0001460141559746519,0.0001442924125395441,0.00014249791714799725,0.00014063200840741766,0.0001386970025506461,0.0001366962012056518,0.00013463388143090707,0.00013251526757162733,0.00013034648497969566,0.00012813449615240482,0.00012588702036148383,0.00012361243834259366,0.00012131968407512949,0.00011901812608244107,0.00011671744100538316,0.0001144274824323759,0.00011215814809573487,0.00010991924856015812,0.00010772038043302581,0.00010557080692066663,0.00010347934824799152,0.00010145428406354171,9.950326948484199e-05,9.7633265920146e-05,9.585048725489359e-05,9.41603614386008e-05,9.25675069749387e-05,9.107572332804514e-05,8.96879938333141e-05,8.840649935954321e-05,8.723264072595633e-05,8.616706774194327e-05,8.520971271376263e-05,8.435982634965205e-05,8.361601418588046e-05,8.297627193901052e-05,8.243801854700861e-05,8.19981260729422e-05,8.16529460860909e-05,8.139833258104615e-05,8.122966192023452e-05,8.114185066484533e-05,8.11293724714889e-05,8.118627545882072e-05,8.130620157639064e-05,8.148240952912154e-05,8.170780272308856e-05,8.197496350574555e-05,8.227619468641796e-05,8.260356895609028e-05,8.294898639912955e-05,8.330423982689584e-05,8.366108718964694e-05,8.401132986495914e-05,8.43468952036027e-05,8.465992136094167e-05,8.494284217366891e-05,8.518846967389924e-05,8.539007177599232e-05,8.554144273094595e-05,8.563696411785813e-05,8.567165442505504e-05,8.56412056528681e-05,8.554200582882706e-05,8.537114684346461e-05,8.512641756749852e-05,8.480628277374036e-05,8.440984893419137e-05,8.393681846975556e-05,8.338743447413476e-05,8.276241829503068e-05,8.206290261883731e-05,8.129036285806673e-05,8.044654967717836e-05,7.95334254106812e-05,7.855310693076499e-05,7.750781721848708e-05,7.63998474951999e-05,7.523153129571616e-05,7.400523133093628e-05,7.272333941674722e-05,7.138828916071968e-05,7.000258052162151e-05,6.856881481171152e-05,6.70897382194971e-05,6.556829151034003e-05,6.40076632303688e-05,6.241134350862898e-05,6.0783175432487246e-05,5.9127400967097624e-05,5.744869850211594e-05,5.5752209334405764e-05,5.4043550726763995e-05,5.2328813608442504e-05,5.061454348882335e-05,4.890770372357514e-05,4.7215620883314076e-05,4.55459126070732e-05,4.390639895483893e-05,4.2304998883161894e-05,4.0749614034275024e-05,3.9248002532648435e-05,3.78076459060317e-05,3.643561257609399e-05,3.5138421585325435e-05,3.392191033406777e-05,3.279111009041184e-05,3.175013290619224e-05,3.0802073328310134e-05,2.9948927943749843e-05,2.919153535001649e-05,2.8529538614441155e-05,2.7961371692544336e-05,2.748427063604881e-05,2.709430975510647e-05,2.6786462227407392e-05,2.6554683989561215e-05,2.639201912322983e-05,2.6290724378325566e-05,2.6242409974599625e-05,2.6238193405111688e-05,2.626886264154039e-05,2.6325044920062515e-05,2.6397377172296472e-05,2.6476674159894266e-05,2.6554090471801844e-05,2.6621272744875955e-05,2.667049876348521e-05,2.6694800471466752e-05,2.668806837783518e-05,2.6645135341826115e-05,2.65618382680115e-05,2.6435056812575657e-05,2.626272878155513e-05,2.6043842475473317e-05,2.5778406787710575e-05,2.546740038267532e-05,2.511270175237848e-05,2.47170023660408e-05,2.4283705478392458e-05,2.3816813441790397e-05,2.3320806570563482e-05,2.2800516730411744e-05,2.2260998870412412e-05,2.1707403681188768e-05,2.114485445270965e-05,2.057833102319724e-05,2.0012563462342527e-05,1.945193782436005e-05,1.8900415947414968e-05,1.8361470874686376e-05,1.7838039038706137e-05,1.733248989522787e-05,1.684661322682325e-05,1.638162387104044e-05,1.5938183174708632e-05,1.551643604603677e-05,1.5116062080256182e-05,1.4736338882650556e-05,1.4376215413805936e-05,1.4034392943372529e-05,1.3709411026571332e-05,1.3399735816319752e-05,1.3103847995483288e-05,1.282032765864062e-05,1.2547933589077212e-05,1.228567456070098e-05,1.2032870540527339e-05,1.1789201967962635e-05,1.155474563355607e-05,1.1329996062314243e-05,1.1115871714432303e-05,1.0913705738324814e-05,1.0725221436006853e-05,1.0552493018313644e-05,1.0397892626843306e-05,1.0264024971355738e-05,1.0153651267154251e-05,1.0069604449336356e-05,1.0014697883566016e-05,9.991629981271434e-06,1.0002887257228703e-05,1.0050648436870381e-05,1.0136692228030025e-05,1.026231131696892e-05,1.0428235032261098e-05,1.0634562944302905e-05,1.0880711435764698e-05,1.1165374993165416e-05,1.1486503636962907e-05,1.1841297533271201e-05,1.2226219421853096e-05,1.2637025060858116e-05,1.3068811438480166e-05,1.3516082045915762e-05,1.39728280562251e-05,1.4432623822078687e-05,1.4888734704398494e-05,1.5334234886013162e-05,1.5762132521583475e-05,1.6165499338185175e-05,1.653760163953879e-05,1.6872029588446707e-05,1.716282165159384e-05,1.74045811907279e-05,1.759258237349069e-05,1.772286285170849e-05,1.7792301007388833e-05,1.7798675986533478e-05,1.7740709214889364e-05,1.761808660232019e-05,1.743146117625719e-05,1.718243642131616e-05,1.6873531123029362e-05,1.6508127000663013e-05,1.6090400850540925e-05,1.5625243292519276e-05,1.5118166506319798e-05,1.4575203552630247e-05,1.4002801991106835e-05,1.340771453232235e-05,1.2796889395704077e-05,1.2177362896596246e-05,1.1556156561955331e-05,1.0940180787762528e-05,1.0336146716004904e-05,9.750487640414136e-06,9.189290864055975e-06,8.658240544220033e-06,8.162571685907544e-06,7.707035098123266e-06,7.295872818697452e-06,6.932803252616247e-06,6.6210150622539934e-06,6.363168699082735e-06,6.161404376199478e-06,6.017355247541104e-06,5.932164578786724e-06,5.906505760539433e-06,5.94060411878803e-06,6.03425961219857e-06,6.186869661292173e-06,6.397451521822642e-06,6.664663784898792e-06,6.986826751645839e-06,7.361941583637725e-06,7.787708266474678e-06,8.261542538710261e-06,8.780592029327183e-06,9.341751913029037e-06,9.941680433961952e-06,1.0576814666401323e-05,1.1243386877594153e-05,1.1937441836081827e-05,1.2654855371525486e-05,1.339135444248765e-05,1.4142538909832854e-05,1.4903905148170369e-05,1.56708715584546e-05,1.6438805973435816e-05,1.7203054875654833e-05,1.7958974276290286e-05,1.870196203333446e-05,1.942749132012434e-05,2.0131144891035135e-05,2.080864973115238e-05,2.1455911622226313e-05,2.2069049109742157e-05,2.2644426317392062e-05,2.3178684027771525e-05,2.3668768434064716e-05,2.4111956969167016e-05,2.4505880638266428e-05,2.4848542320093408e-05,2.5138330561949814e-05,2.5374028474464555e-05,2.5554817432997955e-05,2.568027541176813e-05,2.575036991094676e-05,2.5765445581849363e-05,2.5726206805584607e-05,2.5633695629970114e-05,2.5489265611502003e-05,2.5294552236859318e-05,2.5051440705253786e-05,2.476203193298338e-05,2.442860768994686e-05,2.4053595791167e-05,2.3639536242776442e-05,2.3189049181532125e-05,2.270480535177939e-05,2.2189499737803785e-05,2.164582881834199e-05,2.1076471740758408e-05,2.0484075533187678e-05,1.9871244292555464e-05,1.9240532113707604e-05,1.859443936838456e-05,1.7935411810090945e-05,1.7265841878326097e-05],\"yaxis\":\"y\",\"type\":\"scatter\"}],                        {\"barmode\":\"overlay\",\"hovermode\":\"closest\",\"legend\":{\"traceorder\":\"reversed\"},\"xaxis\":{\"anchor\":\"y2\",\"domain\":[0.0,1.0],\"zeroline\":false,\"title\":{\"text\":\"Cases\"}},\"yaxis\":{\"anchor\":\"free\",\"domain\":[0.0,1],\"position\":0.0},\"template\":{\"data\":{\"histogram2dcontour\":[{\"type\":\"histogram2dcontour\",\"colorbar\":{\"outlinewidth\":0,\"ticks\":\"\"},\"colorscale\":[[0.0,\"#0d0887\"],[0.1111111111111111,\"#46039f\"],[0.2222222222222222,\"#7201a8\"],[0.3333333333333333,\"#9c179e\"],[0.4444444444444444,\"#bd3786\"],[0.5555555555555556,\"#d8576b\"],[0.6666666666666666,\"#ed7953\"],[0.7777777777777778,\"#fb9f3a\"],[0.8888888888888888,\"#fdca26\"],[1.0,\"#f0f921\"]]}],\"choropleth\":[{\"type\":\"choropleth\",\"colorbar\":{\"outlinewidth\":0,\"ticks\":\"\"}}],\"histogram2d\":[{\"type\":\"histogram2d\",\"colorbar\":{\"outlinewidth\":0,\"ticks\":\"\"},\"colorscale\":[[0.0,\"#0d0887\"],[0.1111111111111111,\"#46039f\"],[0.2222222222222222,\"#7201a8\"],[0.3333333333333333,\"#9c179e\"],[0.4444444444444444,\"#bd3786\"],[0.5555555555555556,\"#d8576b\"],[0.6666666666666666,\"#ed7953\"],[0.7777777777777778,\"#fb9f3a\"],[0.8888888888888888,\"#fdca26\"],[1.0,\"#f0f921\"]]}],\"heatmap\":[{\"type\":\"heatmap\",\"colorbar\":{\"outlinewidth\":0,\"ticks\":\"\"},\"colorscale\":[[0.0,\"#0d0887\"],[0.1111111111111111,\"#46039f\"],[0.2222222222222222,\"#7201a8\"],[0.3333333333333333,\"#9c179e\"],[0.4444444444444444,\"#bd3786\"],[0.5555555555555556,\"#d8576b\"],[0.6666666666666666,\"#ed7953\"],[0.7777777777777778,\"#fb9f3a\"],[0.8888888888888888,\"#fdca26\"],[1.0,\"#f0f921\"]]}],\"heatmapgl\":[{\"type\":\"heatmapgl\",\"colorbar\":{\"outlinewidth\":0,\"ticks\":\"\"},\"colorscale\":[[0.0,\"#0d0887\"],[0.1111111111111111,\"#46039f\"],[0.2222222222222222,\"#7201a8\"],[0.3333333333333333,\"#9c179e\"],[0.4444444444444444,\"#bd3786\"],[0.5555555555555556,\"#d8576b\"],[0.6666666666666666,\"#ed7953\"],[0.7777777777777778,\"#fb9f3a\"],[0.8888888888888888,\"#fdca26\"],[1.0,\"#f0f921\"]]}],\"contourcarpet\":[{\"type\":\"contourcarpet\",\"colorbar\":{\"outlinewidth\":0,\"ticks\":\"\"}}],\"contour\":[{\"type\":\"contour\",\"colorbar\":{\"outlinewidth\":0,\"ticks\":\"\"},\"colorscale\":[[0.0,\"#0d0887\"],[0.1111111111111111,\"#46039f\"],[0.2222222222222222,\"#7201a8\"],[0.3333333333333333,\"#9c179e\"],[0.4444444444444444,\"#bd3786\"],[0.5555555555555556,\"#d8576b\"],[0.6666666666666666,\"#ed7953\"],[0.7777777777777778,\"#fb9f3a\"],[0.8888888888888888,\"#fdca26\"],[1.0,\"#f0f921\"]]}],\"surface\":[{\"type\":\"surface\",\"colorbar\":{\"outlinewidth\":0,\"ticks\":\"\"},\"colorscale\":[[0.0,\"#0d0887\"],[0.1111111111111111,\"#46039f\"],[0.2222222222222222,\"#7201a8\"],[0.3333333333333333,\"#9c179e\"],[0.4444444444444444,\"#bd3786\"],[0.5555555555555556,\"#d8576b\"],[0.6666666666666666,\"#ed7953\"],[0.7777777777777778,\"#fb9f3a\"],[0.8888888888888888,\"#fdca26\"],[1.0,\"#f0f921\"]]}],\"mesh3d\":[{\"type\":\"mesh3d\",\"colorbar\":{\"outlinewidth\":0,\"ticks\":\"\"}}],\"scatter\":[{\"fillpattern\":{\"fillmode\":\"overlay\",\"size\":10,\"solidity\":0.2},\"type\":\"scatter\"}],\"parcoords\":[{\"type\":\"parcoords\",\"line\":{\"colorbar\":{\"outlinewidth\":0,\"ticks\":\"\"}}}],\"scatterpolargl\":[{\"type\":\"scatterpolargl\",\"marker\":{\"colorbar\":{\"outlinewidth\":0,\"ticks\":\"\"}}}],\"bar\":[{\"error_x\":{\"color\":\"#2a3f5f\"},\"error_y\":{\"color\":\"#2a3f5f\"},\"marker\":{\"line\":{\"color\":\"#E5ECF6\",\"width\":0.5},\"pattern\":{\"fillmode\":\"overlay\",\"size\":10,\"solidity\":0.2}},\"type\":\"bar\"}],\"scattergeo\":[{\"type\":\"scattergeo\",\"marker\":{\"colorbar\":{\"outlinewidth\":0,\"ticks\":\"\"}}}],\"scatterpolar\":[{\"type\":\"scatterpolar\",\"marker\":{\"colorbar\":{\"outlinewidth\":0,\"ticks\":\"\"}}}],\"histogram\":[{\"marker\":{\"pattern\":{\"fillmode\":\"overlay\",\"size\":10,\"solidity\":0.2}},\"type\":\"histogram\"}],\"scattergl\":[{\"type\":\"scattergl\",\"marker\":{\"colorbar\":{\"outlinewidth\":0,\"ticks\":\"\"}}}],\"scatter3d\":[{\"type\":\"scatter3d\",\"line\":{\"colorbar\":{\"outlinewidth\":0,\"ticks\":\"\"}},\"marker\":{\"colorbar\":{\"outlinewidth\":0,\"ticks\":\"\"}}}],\"scattermapbox\":[{\"type\":\"scattermapbox\",\"marker\":{\"colorbar\":{\"outlinewidth\":0,\"ticks\":\"\"}}}],\"scatterternary\":[{\"type\":\"scatterternary\",\"marker\":{\"colorbar\":{\"outlinewidth\":0,\"ticks\":\"\"}}}],\"scattercarpet\":[{\"type\":\"scattercarpet\",\"marker\":{\"colorbar\":{\"outlinewidth\":0,\"ticks\":\"\"}}}],\"carpet\":[{\"aaxis\":{\"endlinecolor\":\"#2a3f5f\",\"gridcolor\":\"white\",\"linecolor\":\"white\",\"minorgridcolor\":\"white\",\"startlinecolor\":\"#2a3f5f\"},\"baxis\":{\"endlinecolor\":\"#2a3f5f\",\"gridcolor\":\"white\",\"linecolor\":\"white\",\"minorgridcolor\":\"white\",\"startlinecolor\":\"#2a3f5f\"},\"type\":\"carpet\"}],\"table\":[{\"cells\":{\"fill\":{\"color\":\"#EBF0F8\"},\"line\":{\"color\":\"white\"}},\"header\":{\"fill\":{\"color\":\"#C8D4E3\"},\"line\":{\"color\":\"white\"}},\"type\":\"table\"}],\"barpolar\":[{\"marker\":{\"line\":{\"color\":\"#E5ECF6\",\"width\":0.5},\"pattern\":{\"fillmode\":\"overlay\",\"size\":10,\"solidity\":0.2}},\"type\":\"barpolar\"}],\"pie\":[{\"automargin\":true,\"type\":\"pie\"}]},\"layout\":{\"autotypenumbers\":\"strict\",\"colorway\":[\"#636efa\",\"#EF553B\",\"#00cc96\",\"#ab63fa\",\"#FFA15A\",\"#19d3f3\",\"#FF6692\",\"#B6E880\",\"#FF97FF\",\"#FECB52\"],\"font\":{\"color\":\"#2a3f5f\"},\"hovermode\":\"closest\",\"hoverlabel\":{\"align\":\"left\"},\"paper_bgcolor\":\"white\",\"plot_bgcolor\":\"#E5ECF6\",\"polar\":{\"bgcolor\":\"#E5ECF6\",\"angularaxis\":{\"gridcolor\":\"white\",\"linecolor\":\"white\",\"ticks\":\"\"},\"radialaxis\":{\"gridcolor\":\"white\",\"linecolor\":\"white\",\"ticks\":\"\"}},\"ternary\":{\"bgcolor\":\"#E5ECF6\",\"aaxis\":{\"gridcolor\":\"white\",\"linecolor\":\"white\",\"ticks\":\"\"},\"baxis\":{\"gridcolor\":\"white\",\"linecolor\":\"white\",\"ticks\":\"\"},\"caxis\":{\"gridcolor\":\"white\",\"linecolor\":\"white\",\"ticks\":\"\"}},\"coloraxis\":{\"colorbar\":{\"outlinewidth\":0,\"ticks\":\"\"}},\"colorscale\":{\"sequential\":[[0.0,\"#0d0887\"],[0.1111111111111111,\"#46039f\"],[0.2222222222222222,\"#7201a8\"],[0.3333333333333333,\"#9c179e\"],[0.4444444444444444,\"#bd3786\"],[0.5555555555555556,\"#d8576b\"],[0.6666666666666666,\"#ed7953\"],[0.7777777777777778,\"#fb9f3a\"],[0.8888888888888888,\"#fdca26\"],[1.0,\"#f0f921\"]],\"sequentialminus\":[[0.0,\"#0d0887\"],[0.1111111111111111,\"#46039f\"],[0.2222222222222222,\"#7201a8\"],[0.3333333333333333,\"#9c179e\"],[0.4444444444444444,\"#bd3786\"],[0.5555555555555556,\"#d8576b\"],[0.6666666666666666,\"#ed7953\"],[0.7777777777777778,\"#fb9f3a\"],[0.8888888888888888,\"#fdca26\"],[1.0,\"#f0f921\"]],\"diverging\":[[0,\"#8e0152\"],[0.1,\"#c51b7d\"],[0.2,\"#de77ae\"],[0.3,\"#f1b6da\"],[0.4,\"#fde0ef\"],[0.5,\"#f7f7f7\"],[0.6,\"#e6f5d0\"],[0.7,\"#b8e186\"],[0.8,\"#7fbc41\"],[0.9,\"#4d9221\"],[1,\"#276419\"]]},\"xaxis\":{\"gridcolor\":\"white\",\"linecolor\":\"white\",\"ticks\":\"\",\"title\":{\"standoff\":15},\"zerolinecolor\":\"white\",\"automargin\":true,\"zerolinewidth\":2},\"yaxis\":{\"gridcolor\":\"white\",\"linecolor\":\"white\",\"ticks\":\"\",\"title\":{\"standoff\":15},\"zerolinecolor\":\"white\",\"automargin\":true,\"zerolinewidth\":2},\"scene\":{\"xaxis\":{\"backgroundcolor\":\"#E5ECF6\",\"gridcolor\":\"white\",\"linecolor\":\"white\",\"showbackground\":true,\"ticks\":\"\",\"zerolinecolor\":\"white\",\"gridwidth\":2},\"yaxis\":{\"backgroundcolor\":\"#E5ECF6\",\"gridcolor\":\"white\",\"linecolor\":\"white\",\"showbackground\":true,\"ticks\":\"\",\"zerolinecolor\":\"white\",\"gridwidth\":2},\"zaxis\":{\"backgroundcolor\":\"#E5ECF6\",\"gridcolor\":\"white\",\"linecolor\":\"white\",\"showbackground\":true,\"ticks\":\"\",\"zerolinecolor\":\"white\",\"gridwidth\":2}},\"shapedefaults\":{\"line\":{\"color\":\"#2a3f5f\"}},\"annotationdefaults\":{\"arrowcolor\":\"#2a3f5f\",\"arrowhead\":0,\"arrowwidth\":1},\"geo\":{\"bgcolor\":\"white\",\"landcolor\":\"#E5ECF6\",\"subunitcolor\":\"white\",\"showland\":true,\"showlakes\":true,\"lakecolor\":\"white\"},\"title\":{\"x\":0.05},\"mapbox\":{\"style\":\"light\"}}},\"title\":{\"text\":\"Distribution of Daily Cases\"}},                        {\"responsive\": true}                    ).then(function(){\n",
       "                            \n",
       "var gd = document.getElementById('59f81e13-a9fa-44ae-b3ba-4da1d7ce29c7');\n",
       "var x = new MutationObserver(function (mutations, observer) {{\n",
       "        var display = window.getComputedStyle(gd).display;\n",
       "        if (!display || display === 'none') {{\n",
       "            console.log([gd, 'removed!']);\n",
       "            Plotly.purge(gd);\n",
       "            observer.disconnect();\n",
       "        }}\n",
       "}});\n",
       "\n",
       "// Listen for the removal of the full notebook cells\n",
       "var notebookContainer = gd.closest('#notebook-container');\n",
       "if (notebookContainer) {{\n",
       "    x.observe(notebookContainer, {childList: true});\n",
       "}}\n",
       "\n",
       "// Listen for the clearing of the current output cell\n",
       "var outputEl = gd.closest('.output');\n",
       "if (outputEl) {{\n",
       "    x.observe(outputEl, {childList: true});\n",
       "}}\n",
       "\n",
       "                        })                };                });            </script>        </div>"
      ]
     },
     "metadata": {},
     "output_type": "display_data"
    }
   ],
   "source": [
    "fig = ff.create_distplot(\n",
    "    [cases['New Cases']], \n",
    "    ['Daily Cases'],\n",
    "    bin_size=[100],\n",
    "    show_rug=False,\n",
    "    show_hist=False\n",
    ")\n",
    "\n",
    "fig.update_xaxes(title_text=\"Cases\")\n",
    "fig.update_layout(title_text='Distribution of Daily Cases')\n",
    "\n",
    "fig.show()"
   ]
  },
  {
   "attachments": {},
   "cell_type": "markdown",
   "metadata": {},
   "source": [
    "#### Correlation of Daily Tests and Daily Cases"
   ]
  },
  {
   "cell_type": "code",
   "execution_count": 233,
   "metadata": {},
   "outputs": [
    {
     "name": "stdout",
     "output_type": "stream",
     "text": [
      "Pearson's correlation coefficient:  0.41628991931343157\n",
      "Kendall's tau:  0.3645016862819882\n",
      "Spearman's rank correlation coefficient:  0.5286085619911163\n"
     ]
    }
   ],
   "source": [
    "calc_correlations(tests['Total NAA and rapid antigen tests'], cases['New Cases'])"
   ]
  },
  {
   "attachments": {},
   "cell_type": "markdown",
   "metadata": {},
   "source": [
    "### Active Cases & Recovered"
   ]
  },
  {
   "cell_type": "code",
   "execution_count": 61,
   "metadata": {},
   "outputs": [
    {
     "data": {
      "application/vnd.plotly.v1+json": {
       "config": {
        "plotlyServerURL": "https://plot.ly"
       },
       "data": [
        {
         "name": "Active Cases",
         "type": "bar",
         "x": [
          "03/2020",
          "04/2020",
          "05/2020",
          "06/2020",
          "07/2020",
          "08/2020",
          "09/2020",
          "10/2020",
          "11/2020",
          "12/2020",
          "01/2021",
          "02/2021",
          "03/2021",
          "04/2021",
          "05/2021",
          "06/2021",
          "07/2021",
          "08/2021",
          "09/2021",
          "10/2021",
          "11/2021",
          "12/2021",
          "01/2022",
          "02/2022",
          "03/2022",
          "04/2022",
          "05/2022",
          "06/2022",
          "07/2022",
          "08/2022",
          "09/2022",
          "10/2022",
          "11/2022",
          "12/2022",
          "01/2023"
         ],
         "y": [
          167,
          110,
          75,
          21,
          150,
          471,
          462,
          1825,
          2071,
          1434,
          2676,
          2720,
          836,
          331,
          66,
          45,
          1847,
          656,
          328,
          215,
          1188,
          11441,
          2972,
          692,
          5640,
          3528,
          1410,
          6231,
          1775,
          127,
          275,
          336,
          190,
          284,
          427
         ]
        },
        {
         "mode": "lines+markers",
         "name": "Recovered",
         "type": "scatter",
         "x": [
          "03/2020",
          "04/2020",
          "05/2020",
          "06/2020",
          "07/2020",
          "08/2020",
          "09/2020",
          "10/2020",
          "11/2020",
          "12/2020",
          "01/2021",
          "02/2021",
          "03/2021",
          "04/2021",
          "05/2021",
          "06/2021",
          "07/2021",
          "08/2021",
          "09/2021",
          "10/2021",
          "11/2021",
          "12/2021",
          "01/2022",
          "02/2022",
          "03/2022",
          "04/2022",
          "05/2022",
          "06/2022",
          "07/2022",
          "08/2022",
          "09/2022",
          "10/2022",
          "11/2022",
          "12/2022",
          "01/2023"
         ],
         "y": [
          2,
          349,
          183,
          106,
          25,
          735,
          1162,
          1593,
          3510,
          3456,
          3839,
          4487,
          8358,
          1743,
          502,
          108,
          1471,
          3049,
          1290,
          615,
          802,
          2771,
          23640,
          5783,
          3286,
          14254,
          5096,
          3549,
          14099,
          2863,
          489,
          594,
          635,
          445,
          229
         ]
        }
       ],
       "layout": {
        "template": {
         "data": {
          "bar": [
           {
            "error_x": {
             "color": "#2a3f5f"
            },
            "error_y": {
             "color": "#2a3f5f"
            },
            "marker": {
             "line": {
              "color": "#E5ECF6",
              "width": 0.5
             },
             "pattern": {
              "fillmode": "overlay",
              "size": 10,
              "solidity": 0.2
             }
            },
            "type": "bar"
           }
          ],
          "barpolar": [
           {
            "marker": {
             "line": {
              "color": "#E5ECF6",
              "width": 0.5
             },
             "pattern": {
              "fillmode": "overlay",
              "size": 10,
              "solidity": 0.2
             }
            },
            "type": "barpolar"
           }
          ],
          "carpet": [
           {
            "aaxis": {
             "endlinecolor": "#2a3f5f",
             "gridcolor": "white",
             "linecolor": "white",
             "minorgridcolor": "white",
             "startlinecolor": "#2a3f5f"
            },
            "baxis": {
             "endlinecolor": "#2a3f5f",
             "gridcolor": "white",
             "linecolor": "white",
             "minorgridcolor": "white",
             "startlinecolor": "#2a3f5f"
            },
            "type": "carpet"
           }
          ],
          "choropleth": [
           {
            "colorbar": {
             "outlinewidth": 0,
             "ticks": ""
            },
            "type": "choropleth"
           }
          ],
          "contour": [
           {
            "colorbar": {
             "outlinewidth": 0,
             "ticks": ""
            },
            "colorscale": [
             [
              0,
              "#0d0887"
             ],
             [
              0.1111111111111111,
              "#46039f"
             ],
             [
              0.2222222222222222,
              "#7201a8"
             ],
             [
              0.3333333333333333,
              "#9c179e"
             ],
             [
              0.4444444444444444,
              "#bd3786"
             ],
             [
              0.5555555555555556,
              "#d8576b"
             ],
             [
              0.6666666666666666,
              "#ed7953"
             ],
             [
              0.7777777777777778,
              "#fb9f3a"
             ],
             [
              0.8888888888888888,
              "#fdca26"
             ],
             [
              1,
              "#f0f921"
             ]
            ],
            "type": "contour"
           }
          ],
          "contourcarpet": [
           {
            "colorbar": {
             "outlinewidth": 0,
             "ticks": ""
            },
            "type": "contourcarpet"
           }
          ],
          "heatmap": [
           {
            "colorbar": {
             "outlinewidth": 0,
             "ticks": ""
            },
            "colorscale": [
             [
              0,
              "#0d0887"
             ],
             [
              0.1111111111111111,
              "#46039f"
             ],
             [
              0.2222222222222222,
              "#7201a8"
             ],
             [
              0.3333333333333333,
              "#9c179e"
             ],
             [
              0.4444444444444444,
              "#bd3786"
             ],
             [
              0.5555555555555556,
              "#d8576b"
             ],
             [
              0.6666666666666666,
              "#ed7953"
             ],
             [
              0.7777777777777778,
              "#fb9f3a"
             ],
             [
              0.8888888888888888,
              "#fdca26"
             ],
             [
              1,
              "#f0f921"
             ]
            ],
            "type": "heatmap"
           }
          ],
          "heatmapgl": [
           {
            "colorbar": {
             "outlinewidth": 0,
             "ticks": ""
            },
            "colorscale": [
             [
              0,
              "#0d0887"
             ],
             [
              0.1111111111111111,
              "#46039f"
             ],
             [
              0.2222222222222222,
              "#7201a8"
             ],
             [
              0.3333333333333333,
              "#9c179e"
             ],
             [
              0.4444444444444444,
              "#bd3786"
             ],
             [
              0.5555555555555556,
              "#d8576b"
             ],
             [
              0.6666666666666666,
              "#ed7953"
             ],
             [
              0.7777777777777778,
              "#fb9f3a"
             ],
             [
              0.8888888888888888,
              "#fdca26"
             ],
             [
              1,
              "#f0f921"
             ]
            ],
            "type": "heatmapgl"
           }
          ],
          "histogram": [
           {
            "marker": {
             "pattern": {
              "fillmode": "overlay",
              "size": 10,
              "solidity": 0.2
             }
            },
            "type": "histogram"
           }
          ],
          "histogram2d": [
           {
            "colorbar": {
             "outlinewidth": 0,
             "ticks": ""
            },
            "colorscale": [
             [
              0,
              "#0d0887"
             ],
             [
              0.1111111111111111,
              "#46039f"
             ],
             [
              0.2222222222222222,
              "#7201a8"
             ],
             [
              0.3333333333333333,
              "#9c179e"
             ],
             [
              0.4444444444444444,
              "#bd3786"
             ],
             [
              0.5555555555555556,
              "#d8576b"
             ],
             [
              0.6666666666666666,
              "#ed7953"
             ],
             [
              0.7777777777777778,
              "#fb9f3a"
             ],
             [
              0.8888888888888888,
              "#fdca26"
             ],
             [
              1,
              "#f0f921"
             ]
            ],
            "type": "histogram2d"
           }
          ],
          "histogram2dcontour": [
           {
            "colorbar": {
             "outlinewidth": 0,
             "ticks": ""
            },
            "colorscale": [
             [
              0,
              "#0d0887"
             ],
             [
              0.1111111111111111,
              "#46039f"
             ],
             [
              0.2222222222222222,
              "#7201a8"
             ],
             [
              0.3333333333333333,
              "#9c179e"
             ],
             [
              0.4444444444444444,
              "#bd3786"
             ],
             [
              0.5555555555555556,
              "#d8576b"
             ],
             [
              0.6666666666666666,
              "#ed7953"
             ],
             [
              0.7777777777777778,
              "#fb9f3a"
             ],
             [
              0.8888888888888888,
              "#fdca26"
             ],
             [
              1,
              "#f0f921"
             ]
            ],
            "type": "histogram2dcontour"
           }
          ],
          "mesh3d": [
           {
            "colorbar": {
             "outlinewidth": 0,
             "ticks": ""
            },
            "type": "mesh3d"
           }
          ],
          "parcoords": [
           {
            "line": {
             "colorbar": {
              "outlinewidth": 0,
              "ticks": ""
             }
            },
            "type": "parcoords"
           }
          ],
          "pie": [
           {
            "automargin": true,
            "type": "pie"
           }
          ],
          "scatter": [
           {
            "fillpattern": {
             "fillmode": "overlay",
             "size": 10,
             "solidity": 0.2
            },
            "type": "scatter"
           }
          ],
          "scatter3d": [
           {
            "line": {
             "colorbar": {
              "outlinewidth": 0,
              "ticks": ""
             }
            },
            "marker": {
             "colorbar": {
              "outlinewidth": 0,
              "ticks": ""
             }
            },
            "type": "scatter3d"
           }
          ],
          "scattercarpet": [
           {
            "marker": {
             "colorbar": {
              "outlinewidth": 0,
              "ticks": ""
             }
            },
            "type": "scattercarpet"
           }
          ],
          "scattergeo": [
           {
            "marker": {
             "colorbar": {
              "outlinewidth": 0,
              "ticks": ""
             }
            },
            "type": "scattergeo"
           }
          ],
          "scattergl": [
           {
            "marker": {
             "colorbar": {
              "outlinewidth": 0,
              "ticks": ""
             }
            },
            "type": "scattergl"
           }
          ],
          "scattermapbox": [
           {
            "marker": {
             "colorbar": {
              "outlinewidth": 0,
              "ticks": ""
             }
            },
            "type": "scattermapbox"
           }
          ],
          "scatterpolar": [
           {
            "marker": {
             "colorbar": {
              "outlinewidth": 0,
              "ticks": ""
             }
            },
            "type": "scatterpolar"
           }
          ],
          "scatterpolargl": [
           {
            "marker": {
             "colorbar": {
              "outlinewidth": 0,
              "ticks": ""
             }
            },
            "type": "scatterpolargl"
           }
          ],
          "scatterternary": [
           {
            "marker": {
             "colorbar": {
              "outlinewidth": 0,
              "ticks": ""
             }
            },
            "type": "scatterternary"
           }
          ],
          "surface": [
           {
            "colorbar": {
             "outlinewidth": 0,
             "ticks": ""
            },
            "colorscale": [
             [
              0,
              "#0d0887"
             ],
             [
              0.1111111111111111,
              "#46039f"
             ],
             [
              0.2222222222222222,
              "#7201a8"
             ],
             [
              0.3333333333333333,
              "#9c179e"
             ],
             [
              0.4444444444444444,
              "#bd3786"
             ],
             [
              0.5555555555555556,
              "#d8576b"
             ],
             [
              0.6666666666666666,
              "#ed7953"
             ],
             [
              0.7777777777777778,
              "#fb9f3a"
             ],
             [
              0.8888888888888888,
              "#fdca26"
             ],
             [
              1,
              "#f0f921"
             ]
            ],
            "type": "surface"
           }
          ],
          "table": [
           {
            "cells": {
             "fill": {
              "color": "#EBF0F8"
             },
             "line": {
              "color": "white"
             }
            },
            "header": {
             "fill": {
              "color": "#C8D4E3"
             },
             "line": {
              "color": "white"
             }
            },
            "type": "table"
           }
          ]
         },
         "layout": {
          "annotationdefaults": {
           "arrowcolor": "#2a3f5f",
           "arrowhead": 0,
           "arrowwidth": 1
          },
          "autotypenumbers": "strict",
          "coloraxis": {
           "colorbar": {
            "outlinewidth": 0,
            "ticks": ""
           }
          },
          "colorscale": {
           "diverging": [
            [
             0,
             "#8e0152"
            ],
            [
             0.1,
             "#c51b7d"
            ],
            [
             0.2,
             "#de77ae"
            ],
            [
             0.3,
             "#f1b6da"
            ],
            [
             0.4,
             "#fde0ef"
            ],
            [
             0.5,
             "#f7f7f7"
            ],
            [
             0.6,
             "#e6f5d0"
            ],
            [
             0.7,
             "#b8e186"
            ],
            [
             0.8,
             "#7fbc41"
            ],
            [
             0.9,
             "#4d9221"
            ],
            [
             1,
             "#276419"
            ]
           ],
           "sequential": [
            [
             0,
             "#0d0887"
            ],
            [
             0.1111111111111111,
             "#46039f"
            ],
            [
             0.2222222222222222,
             "#7201a8"
            ],
            [
             0.3333333333333333,
             "#9c179e"
            ],
            [
             0.4444444444444444,
             "#bd3786"
            ],
            [
             0.5555555555555556,
             "#d8576b"
            ],
            [
             0.6666666666666666,
             "#ed7953"
            ],
            [
             0.7777777777777778,
             "#fb9f3a"
            ],
            [
             0.8888888888888888,
             "#fdca26"
            ],
            [
             1,
             "#f0f921"
            ]
           ],
           "sequentialminus": [
            [
             0,
             "#0d0887"
            ],
            [
             0.1111111111111111,
             "#46039f"
            ],
            [
             0.2222222222222222,
             "#7201a8"
            ],
            [
             0.3333333333333333,
             "#9c179e"
            ],
            [
             0.4444444444444444,
             "#bd3786"
            ],
            [
             0.5555555555555556,
             "#d8576b"
            ],
            [
             0.6666666666666666,
             "#ed7953"
            ],
            [
             0.7777777777777778,
             "#fb9f3a"
            ],
            [
             0.8888888888888888,
             "#fdca26"
            ],
            [
             1,
             "#f0f921"
            ]
           ]
          },
          "colorway": [
           "#636efa",
           "#EF553B",
           "#00cc96",
           "#ab63fa",
           "#FFA15A",
           "#19d3f3",
           "#FF6692",
           "#B6E880",
           "#FF97FF",
           "#FECB52"
          ],
          "font": {
           "color": "#2a3f5f"
          },
          "geo": {
           "bgcolor": "white",
           "lakecolor": "white",
           "landcolor": "#E5ECF6",
           "showlakes": true,
           "showland": true,
           "subunitcolor": "white"
          },
          "hoverlabel": {
           "align": "left"
          },
          "hovermode": "closest",
          "mapbox": {
           "style": "light"
          },
          "paper_bgcolor": "white",
          "plot_bgcolor": "#E5ECF6",
          "polar": {
           "angularaxis": {
            "gridcolor": "white",
            "linecolor": "white",
            "ticks": ""
           },
           "bgcolor": "#E5ECF6",
           "radialaxis": {
            "gridcolor": "white",
            "linecolor": "white",
            "ticks": ""
           }
          },
          "scene": {
           "xaxis": {
            "backgroundcolor": "#E5ECF6",
            "gridcolor": "white",
            "gridwidth": 2,
            "linecolor": "white",
            "showbackground": true,
            "ticks": "",
            "zerolinecolor": "white"
           },
           "yaxis": {
            "backgroundcolor": "#E5ECF6",
            "gridcolor": "white",
            "gridwidth": 2,
            "linecolor": "white",
            "showbackground": true,
            "ticks": "",
            "zerolinecolor": "white"
           },
           "zaxis": {
            "backgroundcolor": "#E5ECF6",
            "gridcolor": "white",
            "gridwidth": 2,
            "linecolor": "white",
            "showbackground": true,
            "ticks": "",
            "zerolinecolor": "white"
           }
          },
          "shapedefaults": {
           "line": {
            "color": "#2a3f5f"
           }
          },
          "ternary": {
           "aaxis": {
            "gridcolor": "white",
            "linecolor": "white",
            "ticks": ""
           },
           "baxis": {
            "gridcolor": "white",
            "linecolor": "white",
            "ticks": ""
           },
           "bgcolor": "#E5ECF6",
           "caxis": {
            "gridcolor": "white",
            "linecolor": "white",
            "ticks": ""
           }
          },
          "title": {
           "x": 0.05
          },
          "xaxis": {
           "automargin": true,
           "gridcolor": "white",
           "linecolor": "white",
           "ticks": "",
           "title": {
            "standoff": 15
           },
           "zerolinecolor": "white",
           "zerolinewidth": 2
          },
          "yaxis": {
           "automargin": true,
           "gridcolor": "white",
           "linecolor": "white",
           "ticks": "",
           "title": {
            "standoff": 15
           },
           "zerolinecolor": "white",
           "zerolinewidth": 2
          }
         }
        },
        "title": {
         "text": "Active Cases & Recovered"
        },
        "yaxis": {
         "title": {
          "text": "Cases"
         }
        }
       }
      },
      "text/html": [
       "<div>                            <div id=\"077e7b50-1d34-4c51-a1c7-36b02103f76e\" class=\"plotly-graph-div\" style=\"height:525px; width:100%;\"></div>            <script type=\"text/javascript\">                require([\"plotly\"], function(Plotly) {                    window.PLOTLYENV=window.PLOTLYENV || {};                                    if (document.getElementById(\"077e7b50-1d34-4c51-a1c7-36b02103f76e\")) {                    Plotly.newPlot(                        \"077e7b50-1d34-4c51-a1c7-36b02103f76e\",                        [{\"name\":\"Active Cases\",\"x\":[\"03/2020\",\"04/2020\",\"05/2020\",\"06/2020\",\"07/2020\",\"08/2020\",\"09/2020\",\"10/2020\",\"11/2020\",\"12/2020\",\"01/2021\",\"02/2021\",\"03/2021\",\"04/2021\",\"05/2021\",\"06/2021\",\"07/2021\",\"08/2021\",\"09/2021\",\"10/2021\",\"11/2021\",\"12/2021\",\"01/2022\",\"02/2022\",\"03/2022\",\"04/2022\",\"05/2022\",\"06/2022\",\"07/2022\",\"08/2022\",\"09/2022\",\"10/2022\",\"11/2022\",\"12/2022\",\"01/2023\"],\"y\":[167,110,75,21,150,471,462,1825,2071,1434,2676,2720,836,331,66,45,1847,656,328,215,1188,11441,2972,692,5640,3528,1410,6231,1775,127,275,336,190,284,427],\"type\":\"bar\"},{\"mode\":\"lines+markers\",\"name\":\"Recovered\",\"x\":[\"03/2020\",\"04/2020\",\"05/2020\",\"06/2020\",\"07/2020\",\"08/2020\",\"09/2020\",\"10/2020\",\"11/2020\",\"12/2020\",\"01/2021\",\"02/2021\",\"03/2021\",\"04/2021\",\"05/2021\",\"06/2021\",\"07/2021\",\"08/2021\",\"09/2021\",\"10/2021\",\"11/2021\",\"12/2021\",\"01/2022\",\"02/2022\",\"03/2022\",\"04/2022\",\"05/2022\",\"06/2022\",\"07/2022\",\"08/2022\",\"09/2022\",\"10/2022\",\"11/2022\",\"12/2022\",\"01/2023\"],\"y\":[2,349,183,106,25,735,1162,1593,3510,3456,3839,4487,8358,1743,502,108,1471,3049,1290,615,802,2771,23640,5783,3286,14254,5096,3549,14099,2863,489,594,635,445,229],\"type\":\"scatter\"}],                        {\"template\":{\"data\":{\"histogram2dcontour\":[{\"type\":\"histogram2dcontour\",\"colorbar\":{\"outlinewidth\":0,\"ticks\":\"\"},\"colorscale\":[[0.0,\"#0d0887\"],[0.1111111111111111,\"#46039f\"],[0.2222222222222222,\"#7201a8\"],[0.3333333333333333,\"#9c179e\"],[0.4444444444444444,\"#bd3786\"],[0.5555555555555556,\"#d8576b\"],[0.6666666666666666,\"#ed7953\"],[0.7777777777777778,\"#fb9f3a\"],[0.8888888888888888,\"#fdca26\"],[1.0,\"#f0f921\"]]}],\"choropleth\":[{\"type\":\"choropleth\",\"colorbar\":{\"outlinewidth\":0,\"ticks\":\"\"}}],\"histogram2d\":[{\"type\":\"histogram2d\",\"colorbar\":{\"outlinewidth\":0,\"ticks\":\"\"},\"colorscale\":[[0.0,\"#0d0887\"],[0.1111111111111111,\"#46039f\"],[0.2222222222222222,\"#7201a8\"],[0.3333333333333333,\"#9c179e\"],[0.4444444444444444,\"#bd3786\"],[0.5555555555555556,\"#d8576b\"],[0.6666666666666666,\"#ed7953\"],[0.7777777777777778,\"#fb9f3a\"],[0.8888888888888888,\"#fdca26\"],[1.0,\"#f0f921\"]]}],\"heatmap\":[{\"type\":\"heatmap\",\"colorbar\":{\"outlinewidth\":0,\"ticks\":\"\"},\"colorscale\":[[0.0,\"#0d0887\"],[0.1111111111111111,\"#46039f\"],[0.2222222222222222,\"#7201a8\"],[0.3333333333333333,\"#9c179e\"],[0.4444444444444444,\"#bd3786\"],[0.5555555555555556,\"#d8576b\"],[0.6666666666666666,\"#ed7953\"],[0.7777777777777778,\"#fb9f3a\"],[0.8888888888888888,\"#fdca26\"],[1.0,\"#f0f921\"]]}],\"heatmapgl\":[{\"type\":\"heatmapgl\",\"colorbar\":{\"outlinewidth\":0,\"ticks\":\"\"},\"colorscale\":[[0.0,\"#0d0887\"],[0.1111111111111111,\"#46039f\"],[0.2222222222222222,\"#7201a8\"],[0.3333333333333333,\"#9c179e\"],[0.4444444444444444,\"#bd3786\"],[0.5555555555555556,\"#d8576b\"],[0.6666666666666666,\"#ed7953\"],[0.7777777777777778,\"#fb9f3a\"],[0.8888888888888888,\"#fdca26\"],[1.0,\"#f0f921\"]]}],\"contourcarpet\":[{\"type\":\"contourcarpet\",\"colorbar\":{\"outlinewidth\":0,\"ticks\":\"\"}}],\"contour\":[{\"type\":\"contour\",\"colorbar\":{\"outlinewidth\":0,\"ticks\":\"\"},\"colorscale\":[[0.0,\"#0d0887\"],[0.1111111111111111,\"#46039f\"],[0.2222222222222222,\"#7201a8\"],[0.3333333333333333,\"#9c179e\"],[0.4444444444444444,\"#bd3786\"],[0.5555555555555556,\"#d8576b\"],[0.6666666666666666,\"#ed7953\"],[0.7777777777777778,\"#fb9f3a\"],[0.8888888888888888,\"#fdca26\"],[1.0,\"#f0f921\"]]}],\"surface\":[{\"type\":\"surface\",\"colorbar\":{\"outlinewidth\":0,\"ticks\":\"\"},\"colorscale\":[[0.0,\"#0d0887\"],[0.1111111111111111,\"#46039f\"],[0.2222222222222222,\"#7201a8\"],[0.3333333333333333,\"#9c179e\"],[0.4444444444444444,\"#bd3786\"],[0.5555555555555556,\"#d8576b\"],[0.6666666666666666,\"#ed7953\"],[0.7777777777777778,\"#fb9f3a\"],[0.8888888888888888,\"#fdca26\"],[1.0,\"#f0f921\"]]}],\"mesh3d\":[{\"type\":\"mesh3d\",\"colorbar\":{\"outlinewidth\":0,\"ticks\":\"\"}}],\"scatter\":[{\"fillpattern\":{\"fillmode\":\"overlay\",\"size\":10,\"solidity\":0.2},\"type\":\"scatter\"}],\"parcoords\":[{\"type\":\"parcoords\",\"line\":{\"colorbar\":{\"outlinewidth\":0,\"ticks\":\"\"}}}],\"scatterpolargl\":[{\"type\":\"scatterpolargl\",\"marker\":{\"colorbar\":{\"outlinewidth\":0,\"ticks\":\"\"}}}],\"bar\":[{\"error_x\":{\"color\":\"#2a3f5f\"},\"error_y\":{\"color\":\"#2a3f5f\"},\"marker\":{\"line\":{\"color\":\"#E5ECF6\",\"width\":0.5},\"pattern\":{\"fillmode\":\"overlay\",\"size\":10,\"solidity\":0.2}},\"type\":\"bar\"}],\"scattergeo\":[{\"type\":\"scattergeo\",\"marker\":{\"colorbar\":{\"outlinewidth\":0,\"ticks\":\"\"}}}],\"scatterpolar\":[{\"type\":\"scatterpolar\",\"marker\":{\"colorbar\":{\"outlinewidth\":0,\"ticks\":\"\"}}}],\"histogram\":[{\"marker\":{\"pattern\":{\"fillmode\":\"overlay\",\"size\":10,\"solidity\":0.2}},\"type\":\"histogram\"}],\"scattergl\":[{\"type\":\"scattergl\",\"marker\":{\"colorbar\":{\"outlinewidth\":0,\"ticks\":\"\"}}}],\"scatter3d\":[{\"type\":\"scatter3d\",\"line\":{\"colorbar\":{\"outlinewidth\":0,\"ticks\":\"\"}},\"marker\":{\"colorbar\":{\"outlinewidth\":0,\"ticks\":\"\"}}}],\"scattermapbox\":[{\"type\":\"scattermapbox\",\"marker\":{\"colorbar\":{\"outlinewidth\":0,\"ticks\":\"\"}}}],\"scatterternary\":[{\"type\":\"scatterternary\",\"marker\":{\"colorbar\":{\"outlinewidth\":0,\"ticks\":\"\"}}}],\"scattercarpet\":[{\"type\":\"scattercarpet\",\"marker\":{\"colorbar\":{\"outlinewidth\":0,\"ticks\":\"\"}}}],\"carpet\":[{\"aaxis\":{\"endlinecolor\":\"#2a3f5f\",\"gridcolor\":\"white\",\"linecolor\":\"white\",\"minorgridcolor\":\"white\",\"startlinecolor\":\"#2a3f5f\"},\"baxis\":{\"endlinecolor\":\"#2a3f5f\",\"gridcolor\":\"white\",\"linecolor\":\"white\",\"minorgridcolor\":\"white\",\"startlinecolor\":\"#2a3f5f\"},\"type\":\"carpet\"}],\"table\":[{\"cells\":{\"fill\":{\"color\":\"#EBF0F8\"},\"line\":{\"color\":\"white\"}},\"header\":{\"fill\":{\"color\":\"#C8D4E3\"},\"line\":{\"color\":\"white\"}},\"type\":\"table\"}],\"barpolar\":[{\"marker\":{\"line\":{\"color\":\"#E5ECF6\",\"width\":0.5},\"pattern\":{\"fillmode\":\"overlay\",\"size\":10,\"solidity\":0.2}},\"type\":\"barpolar\"}],\"pie\":[{\"automargin\":true,\"type\":\"pie\"}]},\"layout\":{\"autotypenumbers\":\"strict\",\"colorway\":[\"#636efa\",\"#EF553B\",\"#00cc96\",\"#ab63fa\",\"#FFA15A\",\"#19d3f3\",\"#FF6692\",\"#B6E880\",\"#FF97FF\",\"#FECB52\"],\"font\":{\"color\":\"#2a3f5f\"},\"hovermode\":\"closest\",\"hoverlabel\":{\"align\":\"left\"},\"paper_bgcolor\":\"white\",\"plot_bgcolor\":\"#E5ECF6\",\"polar\":{\"bgcolor\":\"#E5ECF6\",\"angularaxis\":{\"gridcolor\":\"white\",\"linecolor\":\"white\",\"ticks\":\"\"},\"radialaxis\":{\"gridcolor\":\"white\",\"linecolor\":\"white\",\"ticks\":\"\"}},\"ternary\":{\"bgcolor\":\"#E5ECF6\",\"aaxis\":{\"gridcolor\":\"white\",\"linecolor\":\"white\",\"ticks\":\"\"},\"baxis\":{\"gridcolor\":\"white\",\"linecolor\":\"white\",\"ticks\":\"\"},\"caxis\":{\"gridcolor\":\"white\",\"linecolor\":\"white\",\"ticks\":\"\"}},\"coloraxis\":{\"colorbar\":{\"outlinewidth\":0,\"ticks\":\"\"}},\"colorscale\":{\"sequential\":[[0.0,\"#0d0887\"],[0.1111111111111111,\"#46039f\"],[0.2222222222222222,\"#7201a8\"],[0.3333333333333333,\"#9c179e\"],[0.4444444444444444,\"#bd3786\"],[0.5555555555555556,\"#d8576b\"],[0.6666666666666666,\"#ed7953\"],[0.7777777777777778,\"#fb9f3a\"],[0.8888888888888888,\"#fdca26\"],[1.0,\"#f0f921\"]],\"sequentialminus\":[[0.0,\"#0d0887\"],[0.1111111111111111,\"#46039f\"],[0.2222222222222222,\"#7201a8\"],[0.3333333333333333,\"#9c179e\"],[0.4444444444444444,\"#bd3786\"],[0.5555555555555556,\"#d8576b\"],[0.6666666666666666,\"#ed7953\"],[0.7777777777777778,\"#fb9f3a\"],[0.8888888888888888,\"#fdca26\"],[1.0,\"#f0f921\"]],\"diverging\":[[0,\"#8e0152\"],[0.1,\"#c51b7d\"],[0.2,\"#de77ae\"],[0.3,\"#f1b6da\"],[0.4,\"#fde0ef\"],[0.5,\"#f7f7f7\"],[0.6,\"#e6f5d0\"],[0.7,\"#b8e186\"],[0.8,\"#7fbc41\"],[0.9,\"#4d9221\"],[1,\"#276419\"]]},\"xaxis\":{\"gridcolor\":\"white\",\"linecolor\":\"white\",\"ticks\":\"\",\"title\":{\"standoff\":15},\"zerolinecolor\":\"white\",\"automargin\":true,\"zerolinewidth\":2},\"yaxis\":{\"gridcolor\":\"white\",\"linecolor\":\"white\",\"ticks\":\"\",\"title\":{\"standoff\":15},\"zerolinecolor\":\"white\",\"automargin\":true,\"zerolinewidth\":2},\"scene\":{\"xaxis\":{\"backgroundcolor\":\"#E5ECF6\",\"gridcolor\":\"white\",\"linecolor\":\"white\",\"showbackground\":true,\"ticks\":\"\",\"zerolinecolor\":\"white\",\"gridwidth\":2},\"yaxis\":{\"backgroundcolor\":\"#E5ECF6\",\"gridcolor\":\"white\",\"linecolor\":\"white\",\"showbackground\":true,\"ticks\":\"\",\"zerolinecolor\":\"white\",\"gridwidth\":2},\"zaxis\":{\"backgroundcolor\":\"#E5ECF6\",\"gridcolor\":\"white\",\"linecolor\":\"white\",\"showbackground\":true,\"ticks\":\"\",\"zerolinecolor\":\"white\",\"gridwidth\":2}},\"shapedefaults\":{\"line\":{\"color\":\"#2a3f5f\"}},\"annotationdefaults\":{\"arrowcolor\":\"#2a3f5f\",\"arrowhead\":0,\"arrowwidth\":1},\"geo\":{\"bgcolor\":\"white\",\"landcolor\":\"#E5ECF6\",\"subunitcolor\":\"white\",\"showland\":true,\"showlakes\":true,\"lakecolor\":\"white\"},\"title\":{\"x\":0.05},\"mapbox\":{\"style\":\"light\"}}},\"title\":{\"text\":\"Active Cases & Recovered\"},\"yaxis\":{\"title\":{\"text\":\"Cases\"}}},                        {\"responsive\": true}                    ).then(function(){\n",
       "                            \n",
       "var gd = document.getElementById('077e7b50-1d34-4c51-a1c7-36b02103f76e');\n",
       "var x = new MutationObserver(function (mutations, observer) {{\n",
       "        var display = window.getComputedStyle(gd).display;\n",
       "        if (!display || display === 'none') {{\n",
       "            console.log([gd, 'removed!']);\n",
       "            Plotly.purge(gd);\n",
       "            observer.disconnect();\n",
       "        }}\n",
       "}});\n",
       "\n",
       "// Listen for the removal of the full notebook cells\n",
       "var notebookContainer = gd.closest('#notebook-container');\n",
       "if (notebookContainer) {{\n",
       "    x.observe(notebookContainer, {childList: true});\n",
       "}}\n",
       "\n",
       "// Listen for the clearing of the current output cell\n",
       "var outputEl = gd.closest('.output');\n",
       "if (outputEl) {{\n",
       "    x.observe(outputEl, {childList: true});\n",
       "}}\n",
       "\n",
       "                        })                };                });            </script>        </div>"
      ]
     },
     "metadata": {},
     "output_type": "display_data"
    }
   ],
   "source": [
    "fig = go.Figure()\n",
    "\n",
    "fig.add_trace(\n",
    "    go.Bar(\n",
    "        x=data_df['Date'],\n",
    "        y=data_df['Active Cases'],\n",
    "        name='Active Cases'\n",
    "    )\n",
    ")\n",
    "fig.add_trace(\n",
    "    go.Scatter(\n",
    "        x=data_df['Date'],\n",
    "        y=data_df['New Recovered'],\n",
    "        mode='lines+markers',\n",
    "        name='Recovered'\n",
    "    )\n",
    ")\n",
    "\n",
    "fig.update_layout(\n",
    "    title_text=\"Active Cases & Recovered\"\n",
    ")\n",
    "\n",
    "fig.update_yaxes(title_text=\"Cases\")\n",
    "\n",
    "fig.show()"
   ]
  },
  {
   "attachments": {},
   "cell_type": "markdown",
   "metadata": {},
   "source": [
    "### Deaths, Positivity Rate"
   ]
  },
  {
   "cell_type": "code",
   "execution_count": 62,
   "metadata": {},
   "outputs": [
    {
     "data": {
      "application/vnd.plotly.v1+json": {
       "config": {
        "plotlyServerURL": "https://plot.ly"
       },
       "data": [
        {
         "mode": "lines+markers",
         "name": "Deaths",
         "type": "scatter",
         "x": [
          "03/2020",
          "04/2020",
          "05/2020",
          "06/2020",
          "07/2020",
          "08/2020",
          "09/2020",
          "10/2020",
          "11/2020",
          "12/2020",
          "01/2021",
          "02/2021",
          "03/2021",
          "04/2021",
          "05/2021",
          "06/2021",
          "07/2021",
          "08/2021",
          "09/2021",
          "10/2021",
          "11/2021",
          "12/2021",
          "01/2022",
          "02/2022",
          "03/2022",
          "04/2022",
          "05/2022",
          "06/2022",
          "07/2022",
          "08/2022",
          "09/2022",
          "10/2022",
          "11/2022",
          "12/2022",
          "01/2023"
         ],
         "y": [
          0,
          4,
          5,
          0,
          0,
          3,
          22,
          28,
          75,
          82,
          48,
          48,
          77,
          21,
          6,
          1,
          3,
          18,
          16,
          4,
          7,
          9,
          73,
          55,
          33,
          60,
          23,
          20,
          53,
          7,
          5,
          2,
          1,
          6,
          7
         ]
        },
        {
         "mode": "lines+markers",
         "name": "Positivity Rate",
         "type": "scatter",
         "x": [
          "03/2020",
          "04/2020",
          "05/2020",
          "06/2020",
          "07/2020",
          "08/2020",
          "09/2020",
          "10/2020",
          "11/2020",
          "12/2020",
          "01/2021",
          "02/2021",
          "03/2021",
          "04/2021",
          "05/2021",
          "06/2021",
          "07/2021",
          "08/2021",
          "09/2021",
          "10/2021",
          "11/2021",
          "12/2021",
          "01/2022",
          "02/2022",
          "03/2022",
          "04/2022",
          "05/2022",
          "06/2022",
          "07/2022",
          "08/2022",
          "09/2022",
          "10/2022",
          "11/2022",
          "12/2022",
          "01/2023"
         ],
         "xaxis": "x",
         "y": [
          null,
          null,
          null,
          null,
          1.0316875460574797,
          1.8255387221228947,
          1.834561578815888,
          3.5875733384630184,
          4.207624465946908,
          3.3439380316757727,
          5.229351250497038,
          5.2940700403500855,
          6.010532883147387,
          2.1721502389537792,
          0.4068511728364056,
          0.14823049842505095,
          3.467847800013222,
          1.8701277987120444,
          1.037897038066837,
          0.9066150648606034,
          2.7616346645590215,
          8.898189365595217,
          11.410435863080757,
          6.829436830588506,
          12.374081336346899,
          15.882850634559063,
          7.301703163017032,
          20.14889529298751,
          18.420502688223113,
          4.963645964498964,
          3.722818208176283,
          4.120155524896526,
          3.8138231631382316,
          5.994280686317642,
          8.588261953319737
         ],
         "yaxis": "y2"
        }
       ],
       "layout": {
        "template": {
         "data": {
          "bar": [
           {
            "error_x": {
             "color": "#2a3f5f"
            },
            "error_y": {
             "color": "#2a3f5f"
            },
            "marker": {
             "line": {
              "color": "#E5ECF6",
              "width": 0.5
             },
             "pattern": {
              "fillmode": "overlay",
              "size": 10,
              "solidity": 0.2
             }
            },
            "type": "bar"
           }
          ],
          "barpolar": [
           {
            "marker": {
             "line": {
              "color": "#E5ECF6",
              "width": 0.5
             },
             "pattern": {
              "fillmode": "overlay",
              "size": 10,
              "solidity": 0.2
             }
            },
            "type": "barpolar"
           }
          ],
          "carpet": [
           {
            "aaxis": {
             "endlinecolor": "#2a3f5f",
             "gridcolor": "white",
             "linecolor": "white",
             "minorgridcolor": "white",
             "startlinecolor": "#2a3f5f"
            },
            "baxis": {
             "endlinecolor": "#2a3f5f",
             "gridcolor": "white",
             "linecolor": "white",
             "minorgridcolor": "white",
             "startlinecolor": "#2a3f5f"
            },
            "type": "carpet"
           }
          ],
          "choropleth": [
           {
            "colorbar": {
             "outlinewidth": 0,
             "ticks": ""
            },
            "type": "choropleth"
           }
          ],
          "contour": [
           {
            "colorbar": {
             "outlinewidth": 0,
             "ticks": ""
            },
            "colorscale": [
             [
              0,
              "#0d0887"
             ],
             [
              0.1111111111111111,
              "#46039f"
             ],
             [
              0.2222222222222222,
              "#7201a8"
             ],
             [
              0.3333333333333333,
              "#9c179e"
             ],
             [
              0.4444444444444444,
              "#bd3786"
             ],
             [
              0.5555555555555556,
              "#d8576b"
             ],
             [
              0.6666666666666666,
              "#ed7953"
             ],
             [
              0.7777777777777778,
              "#fb9f3a"
             ],
             [
              0.8888888888888888,
              "#fdca26"
             ],
             [
              1,
              "#f0f921"
             ]
            ],
            "type": "contour"
           }
          ],
          "contourcarpet": [
           {
            "colorbar": {
             "outlinewidth": 0,
             "ticks": ""
            },
            "type": "contourcarpet"
           }
          ],
          "heatmap": [
           {
            "colorbar": {
             "outlinewidth": 0,
             "ticks": ""
            },
            "colorscale": [
             [
              0,
              "#0d0887"
             ],
             [
              0.1111111111111111,
              "#46039f"
             ],
             [
              0.2222222222222222,
              "#7201a8"
             ],
             [
              0.3333333333333333,
              "#9c179e"
             ],
             [
              0.4444444444444444,
              "#bd3786"
             ],
             [
              0.5555555555555556,
              "#d8576b"
             ],
             [
              0.6666666666666666,
              "#ed7953"
             ],
             [
              0.7777777777777778,
              "#fb9f3a"
             ],
             [
              0.8888888888888888,
              "#fdca26"
             ],
             [
              1,
              "#f0f921"
             ]
            ],
            "type": "heatmap"
           }
          ],
          "heatmapgl": [
           {
            "colorbar": {
             "outlinewidth": 0,
             "ticks": ""
            },
            "colorscale": [
             [
              0,
              "#0d0887"
             ],
             [
              0.1111111111111111,
              "#46039f"
             ],
             [
              0.2222222222222222,
              "#7201a8"
             ],
             [
              0.3333333333333333,
              "#9c179e"
             ],
             [
              0.4444444444444444,
              "#bd3786"
             ],
             [
              0.5555555555555556,
              "#d8576b"
             ],
             [
              0.6666666666666666,
              "#ed7953"
             ],
             [
              0.7777777777777778,
              "#fb9f3a"
             ],
             [
              0.8888888888888888,
              "#fdca26"
             ],
             [
              1,
              "#f0f921"
             ]
            ],
            "type": "heatmapgl"
           }
          ],
          "histogram": [
           {
            "marker": {
             "pattern": {
              "fillmode": "overlay",
              "size": 10,
              "solidity": 0.2
             }
            },
            "type": "histogram"
           }
          ],
          "histogram2d": [
           {
            "colorbar": {
             "outlinewidth": 0,
             "ticks": ""
            },
            "colorscale": [
             [
              0,
              "#0d0887"
             ],
             [
              0.1111111111111111,
              "#46039f"
             ],
             [
              0.2222222222222222,
              "#7201a8"
             ],
             [
              0.3333333333333333,
              "#9c179e"
             ],
             [
              0.4444444444444444,
              "#bd3786"
             ],
             [
              0.5555555555555556,
              "#d8576b"
             ],
             [
              0.6666666666666666,
              "#ed7953"
             ],
             [
              0.7777777777777778,
              "#fb9f3a"
             ],
             [
              0.8888888888888888,
              "#fdca26"
             ],
             [
              1,
              "#f0f921"
             ]
            ],
            "type": "histogram2d"
           }
          ],
          "histogram2dcontour": [
           {
            "colorbar": {
             "outlinewidth": 0,
             "ticks": ""
            },
            "colorscale": [
             [
              0,
              "#0d0887"
             ],
             [
              0.1111111111111111,
              "#46039f"
             ],
             [
              0.2222222222222222,
              "#7201a8"
             ],
             [
              0.3333333333333333,
              "#9c179e"
             ],
             [
              0.4444444444444444,
              "#bd3786"
             ],
             [
              0.5555555555555556,
              "#d8576b"
             ],
             [
              0.6666666666666666,
              "#ed7953"
             ],
             [
              0.7777777777777778,
              "#fb9f3a"
             ],
             [
              0.8888888888888888,
              "#fdca26"
             ],
             [
              1,
              "#f0f921"
             ]
            ],
            "type": "histogram2dcontour"
           }
          ],
          "mesh3d": [
           {
            "colorbar": {
             "outlinewidth": 0,
             "ticks": ""
            },
            "type": "mesh3d"
           }
          ],
          "parcoords": [
           {
            "line": {
             "colorbar": {
              "outlinewidth": 0,
              "ticks": ""
             }
            },
            "type": "parcoords"
           }
          ],
          "pie": [
           {
            "automargin": true,
            "type": "pie"
           }
          ],
          "scatter": [
           {
            "fillpattern": {
             "fillmode": "overlay",
             "size": 10,
             "solidity": 0.2
            },
            "type": "scatter"
           }
          ],
          "scatter3d": [
           {
            "line": {
             "colorbar": {
              "outlinewidth": 0,
              "ticks": ""
             }
            },
            "marker": {
             "colorbar": {
              "outlinewidth": 0,
              "ticks": ""
             }
            },
            "type": "scatter3d"
           }
          ],
          "scattercarpet": [
           {
            "marker": {
             "colorbar": {
              "outlinewidth": 0,
              "ticks": ""
             }
            },
            "type": "scattercarpet"
           }
          ],
          "scattergeo": [
           {
            "marker": {
             "colorbar": {
              "outlinewidth": 0,
              "ticks": ""
             }
            },
            "type": "scattergeo"
           }
          ],
          "scattergl": [
           {
            "marker": {
             "colorbar": {
              "outlinewidth": 0,
              "ticks": ""
             }
            },
            "type": "scattergl"
           }
          ],
          "scattermapbox": [
           {
            "marker": {
             "colorbar": {
              "outlinewidth": 0,
              "ticks": ""
             }
            },
            "type": "scattermapbox"
           }
          ],
          "scatterpolar": [
           {
            "marker": {
             "colorbar": {
              "outlinewidth": 0,
              "ticks": ""
             }
            },
            "type": "scatterpolar"
           }
          ],
          "scatterpolargl": [
           {
            "marker": {
             "colorbar": {
              "outlinewidth": 0,
              "ticks": ""
             }
            },
            "type": "scatterpolargl"
           }
          ],
          "scatterternary": [
           {
            "marker": {
             "colorbar": {
              "outlinewidth": 0,
              "ticks": ""
             }
            },
            "type": "scatterternary"
           }
          ],
          "surface": [
           {
            "colorbar": {
             "outlinewidth": 0,
             "ticks": ""
            },
            "colorscale": [
             [
              0,
              "#0d0887"
             ],
             [
              0.1111111111111111,
              "#46039f"
             ],
             [
              0.2222222222222222,
              "#7201a8"
             ],
             [
              0.3333333333333333,
              "#9c179e"
             ],
             [
              0.4444444444444444,
              "#bd3786"
             ],
             [
              0.5555555555555556,
              "#d8576b"
             ],
             [
              0.6666666666666666,
              "#ed7953"
             ],
             [
              0.7777777777777778,
              "#fb9f3a"
             ],
             [
              0.8888888888888888,
              "#fdca26"
             ],
             [
              1,
              "#f0f921"
             ]
            ],
            "type": "surface"
           }
          ],
          "table": [
           {
            "cells": {
             "fill": {
              "color": "#EBF0F8"
             },
             "line": {
              "color": "white"
             }
            },
            "header": {
             "fill": {
              "color": "#C8D4E3"
             },
             "line": {
              "color": "white"
             }
            },
            "type": "table"
           }
          ]
         },
         "layout": {
          "annotationdefaults": {
           "arrowcolor": "#2a3f5f",
           "arrowhead": 0,
           "arrowwidth": 1
          },
          "autotypenumbers": "strict",
          "coloraxis": {
           "colorbar": {
            "outlinewidth": 0,
            "ticks": ""
           }
          },
          "colorscale": {
           "diverging": [
            [
             0,
             "#8e0152"
            ],
            [
             0.1,
             "#c51b7d"
            ],
            [
             0.2,
             "#de77ae"
            ],
            [
             0.3,
             "#f1b6da"
            ],
            [
             0.4,
             "#fde0ef"
            ],
            [
             0.5,
             "#f7f7f7"
            ],
            [
             0.6,
             "#e6f5d0"
            ],
            [
             0.7,
             "#b8e186"
            ],
            [
             0.8,
             "#7fbc41"
            ],
            [
             0.9,
             "#4d9221"
            ],
            [
             1,
             "#276419"
            ]
           ],
           "sequential": [
            [
             0,
             "#0d0887"
            ],
            [
             0.1111111111111111,
             "#46039f"
            ],
            [
             0.2222222222222222,
             "#7201a8"
            ],
            [
             0.3333333333333333,
             "#9c179e"
            ],
            [
             0.4444444444444444,
             "#bd3786"
            ],
            [
             0.5555555555555556,
             "#d8576b"
            ],
            [
             0.6666666666666666,
             "#ed7953"
            ],
            [
             0.7777777777777778,
             "#fb9f3a"
            ],
            [
             0.8888888888888888,
             "#fdca26"
            ],
            [
             1,
             "#f0f921"
            ]
           ],
           "sequentialminus": [
            [
             0,
             "#0d0887"
            ],
            [
             0.1111111111111111,
             "#46039f"
            ],
            [
             0.2222222222222222,
             "#7201a8"
            ],
            [
             0.3333333333333333,
             "#9c179e"
            ],
            [
             0.4444444444444444,
             "#bd3786"
            ],
            [
             0.5555555555555556,
             "#d8576b"
            ],
            [
             0.6666666666666666,
             "#ed7953"
            ],
            [
             0.7777777777777778,
             "#fb9f3a"
            ],
            [
             0.8888888888888888,
             "#fdca26"
            ],
            [
             1,
             "#f0f921"
            ]
           ]
          },
          "colorway": [
           "#636efa",
           "#EF553B",
           "#00cc96",
           "#ab63fa",
           "#FFA15A",
           "#19d3f3",
           "#FF6692",
           "#B6E880",
           "#FF97FF",
           "#FECB52"
          ],
          "font": {
           "color": "#2a3f5f"
          },
          "geo": {
           "bgcolor": "white",
           "lakecolor": "white",
           "landcolor": "#E5ECF6",
           "showlakes": true,
           "showland": true,
           "subunitcolor": "white"
          },
          "hoverlabel": {
           "align": "left"
          },
          "hovermode": "closest",
          "mapbox": {
           "style": "light"
          },
          "paper_bgcolor": "white",
          "plot_bgcolor": "#E5ECF6",
          "polar": {
           "angularaxis": {
            "gridcolor": "white",
            "linecolor": "white",
            "ticks": ""
           },
           "bgcolor": "#E5ECF6",
           "radialaxis": {
            "gridcolor": "white",
            "linecolor": "white",
            "ticks": ""
           }
          },
          "scene": {
           "xaxis": {
            "backgroundcolor": "#E5ECF6",
            "gridcolor": "white",
            "gridwidth": 2,
            "linecolor": "white",
            "showbackground": true,
            "ticks": "",
            "zerolinecolor": "white"
           },
           "yaxis": {
            "backgroundcolor": "#E5ECF6",
            "gridcolor": "white",
            "gridwidth": 2,
            "linecolor": "white",
            "showbackground": true,
            "ticks": "",
            "zerolinecolor": "white"
           },
           "zaxis": {
            "backgroundcolor": "#E5ECF6",
            "gridcolor": "white",
            "gridwidth": 2,
            "linecolor": "white",
            "showbackground": true,
            "ticks": "",
            "zerolinecolor": "white"
           }
          },
          "shapedefaults": {
           "line": {
            "color": "#2a3f5f"
           }
          },
          "ternary": {
           "aaxis": {
            "gridcolor": "white",
            "linecolor": "white",
            "ticks": ""
           },
           "baxis": {
            "gridcolor": "white",
            "linecolor": "white",
            "ticks": ""
           },
           "bgcolor": "#E5ECF6",
           "caxis": {
            "gridcolor": "white",
            "linecolor": "white",
            "ticks": ""
           }
          },
          "title": {
           "x": 0.05
          },
          "xaxis": {
           "automargin": true,
           "gridcolor": "white",
           "linecolor": "white",
           "ticks": "",
           "title": {
            "standoff": 15
           },
           "zerolinecolor": "white",
           "zerolinewidth": 2
          },
          "yaxis": {
           "automargin": true,
           "gridcolor": "white",
           "linecolor": "white",
           "ticks": "",
           "title": {
            "standoff": 15
           },
           "zerolinecolor": "white",
           "zerolinewidth": 2
          }
         }
        },
        "title": {
         "text": "Deaths & Positivity Rate %"
        },
        "xaxis": {
         "anchor": "y",
         "domain": [
          0,
          0.94
         ]
        },
        "yaxis": {
         "anchor": "x",
         "domain": [
          0,
          1
         ],
         "title": {
          "text": "Deaths"
         }
        },
        "yaxis2": {
         "anchor": "x",
         "overlaying": "y",
         "side": "right",
         "title": {
          "text": "Rate %"
         }
        }
       }
      },
      "text/html": [
       "<div>                            <div id=\"9012fa1d-d80a-4cff-9155-96089509ff79\" class=\"plotly-graph-div\" style=\"height:525px; width:100%;\"></div>            <script type=\"text/javascript\">                require([\"plotly\"], function(Plotly) {                    window.PLOTLYENV=window.PLOTLYENV || {};                                    if (document.getElementById(\"9012fa1d-d80a-4cff-9155-96089509ff79\")) {                    Plotly.newPlot(                        \"9012fa1d-d80a-4cff-9155-96089509ff79\",                        [{\"mode\":\"lines+markers\",\"name\":\"Deaths\",\"x\":[\"03/2020\",\"04/2020\",\"05/2020\",\"06/2020\",\"07/2020\",\"08/2020\",\"09/2020\",\"10/2020\",\"11/2020\",\"12/2020\",\"01/2021\",\"02/2021\",\"03/2021\",\"04/2021\",\"05/2021\",\"06/2021\",\"07/2021\",\"08/2021\",\"09/2021\",\"10/2021\",\"11/2021\",\"12/2021\",\"01/2022\",\"02/2022\",\"03/2022\",\"04/2022\",\"05/2022\",\"06/2022\",\"07/2022\",\"08/2022\",\"09/2022\",\"10/2022\",\"11/2022\",\"12/2022\",\"01/2023\"],\"y\":[0,4,5,0,0,3,22,28,75,82,48,48,77,21,6,1,3,18,16,4,7,9,73,55,33,60,23,20,53,7,5,2,1,6,7],\"type\":\"scatter\"},{\"mode\":\"lines+markers\",\"name\":\"Positivity Rate\",\"x\":[\"03/2020\",\"04/2020\",\"05/2020\",\"06/2020\",\"07/2020\",\"08/2020\",\"09/2020\",\"10/2020\",\"11/2020\",\"12/2020\",\"01/2021\",\"02/2021\",\"03/2021\",\"04/2021\",\"05/2021\",\"06/2021\",\"07/2021\",\"08/2021\",\"09/2021\",\"10/2021\",\"11/2021\",\"12/2021\",\"01/2022\",\"02/2022\",\"03/2022\",\"04/2022\",\"05/2022\",\"06/2022\",\"07/2022\",\"08/2022\",\"09/2022\",\"10/2022\",\"11/2022\",\"12/2022\",\"01/2023\"],\"y\":[null,null,null,null,1.0316875460574797,1.8255387221228947,1.834561578815888,3.5875733384630184,4.207624465946908,3.3439380316757727,5.229351250497038,5.2940700403500855,6.010532883147387,2.1721502389537792,0.4068511728364056,0.14823049842505095,3.467847800013222,1.8701277987120444,1.037897038066837,0.9066150648606034,2.7616346645590215,8.898189365595217,11.410435863080757,6.829436830588506,12.374081336346899,15.882850634559063,7.301703163017032,20.14889529298751,18.420502688223113,4.963645964498964,3.722818208176283,4.120155524896526,3.8138231631382316,5.994280686317642,8.588261953319737],\"type\":\"scatter\",\"xaxis\":\"x\",\"yaxis\":\"y2\"}],                        {\"template\":{\"data\":{\"histogram2dcontour\":[{\"type\":\"histogram2dcontour\",\"colorbar\":{\"outlinewidth\":0,\"ticks\":\"\"},\"colorscale\":[[0.0,\"#0d0887\"],[0.1111111111111111,\"#46039f\"],[0.2222222222222222,\"#7201a8\"],[0.3333333333333333,\"#9c179e\"],[0.4444444444444444,\"#bd3786\"],[0.5555555555555556,\"#d8576b\"],[0.6666666666666666,\"#ed7953\"],[0.7777777777777778,\"#fb9f3a\"],[0.8888888888888888,\"#fdca26\"],[1.0,\"#f0f921\"]]}],\"choropleth\":[{\"type\":\"choropleth\",\"colorbar\":{\"outlinewidth\":0,\"ticks\":\"\"}}],\"histogram2d\":[{\"type\":\"histogram2d\",\"colorbar\":{\"outlinewidth\":0,\"ticks\":\"\"},\"colorscale\":[[0.0,\"#0d0887\"],[0.1111111111111111,\"#46039f\"],[0.2222222222222222,\"#7201a8\"],[0.3333333333333333,\"#9c179e\"],[0.4444444444444444,\"#bd3786\"],[0.5555555555555556,\"#d8576b\"],[0.6666666666666666,\"#ed7953\"],[0.7777777777777778,\"#fb9f3a\"],[0.8888888888888888,\"#fdca26\"],[1.0,\"#f0f921\"]]}],\"heatmap\":[{\"type\":\"heatmap\",\"colorbar\":{\"outlinewidth\":0,\"ticks\":\"\"},\"colorscale\":[[0.0,\"#0d0887\"],[0.1111111111111111,\"#46039f\"],[0.2222222222222222,\"#7201a8\"],[0.3333333333333333,\"#9c179e\"],[0.4444444444444444,\"#bd3786\"],[0.5555555555555556,\"#d8576b\"],[0.6666666666666666,\"#ed7953\"],[0.7777777777777778,\"#fb9f3a\"],[0.8888888888888888,\"#fdca26\"],[1.0,\"#f0f921\"]]}],\"heatmapgl\":[{\"type\":\"heatmapgl\",\"colorbar\":{\"outlinewidth\":0,\"ticks\":\"\"},\"colorscale\":[[0.0,\"#0d0887\"],[0.1111111111111111,\"#46039f\"],[0.2222222222222222,\"#7201a8\"],[0.3333333333333333,\"#9c179e\"],[0.4444444444444444,\"#bd3786\"],[0.5555555555555556,\"#d8576b\"],[0.6666666666666666,\"#ed7953\"],[0.7777777777777778,\"#fb9f3a\"],[0.8888888888888888,\"#fdca26\"],[1.0,\"#f0f921\"]]}],\"contourcarpet\":[{\"type\":\"contourcarpet\",\"colorbar\":{\"outlinewidth\":0,\"ticks\":\"\"}}],\"contour\":[{\"type\":\"contour\",\"colorbar\":{\"outlinewidth\":0,\"ticks\":\"\"},\"colorscale\":[[0.0,\"#0d0887\"],[0.1111111111111111,\"#46039f\"],[0.2222222222222222,\"#7201a8\"],[0.3333333333333333,\"#9c179e\"],[0.4444444444444444,\"#bd3786\"],[0.5555555555555556,\"#d8576b\"],[0.6666666666666666,\"#ed7953\"],[0.7777777777777778,\"#fb9f3a\"],[0.8888888888888888,\"#fdca26\"],[1.0,\"#f0f921\"]]}],\"surface\":[{\"type\":\"surface\",\"colorbar\":{\"outlinewidth\":0,\"ticks\":\"\"},\"colorscale\":[[0.0,\"#0d0887\"],[0.1111111111111111,\"#46039f\"],[0.2222222222222222,\"#7201a8\"],[0.3333333333333333,\"#9c179e\"],[0.4444444444444444,\"#bd3786\"],[0.5555555555555556,\"#d8576b\"],[0.6666666666666666,\"#ed7953\"],[0.7777777777777778,\"#fb9f3a\"],[0.8888888888888888,\"#fdca26\"],[1.0,\"#f0f921\"]]}],\"mesh3d\":[{\"type\":\"mesh3d\",\"colorbar\":{\"outlinewidth\":0,\"ticks\":\"\"}}],\"scatter\":[{\"fillpattern\":{\"fillmode\":\"overlay\",\"size\":10,\"solidity\":0.2},\"type\":\"scatter\"}],\"parcoords\":[{\"type\":\"parcoords\",\"line\":{\"colorbar\":{\"outlinewidth\":0,\"ticks\":\"\"}}}],\"scatterpolargl\":[{\"type\":\"scatterpolargl\",\"marker\":{\"colorbar\":{\"outlinewidth\":0,\"ticks\":\"\"}}}],\"bar\":[{\"error_x\":{\"color\":\"#2a3f5f\"},\"error_y\":{\"color\":\"#2a3f5f\"},\"marker\":{\"line\":{\"color\":\"#E5ECF6\",\"width\":0.5},\"pattern\":{\"fillmode\":\"overlay\",\"size\":10,\"solidity\":0.2}},\"type\":\"bar\"}],\"scattergeo\":[{\"type\":\"scattergeo\",\"marker\":{\"colorbar\":{\"outlinewidth\":0,\"ticks\":\"\"}}}],\"scatterpolar\":[{\"type\":\"scatterpolar\",\"marker\":{\"colorbar\":{\"outlinewidth\":0,\"ticks\":\"\"}}}],\"histogram\":[{\"marker\":{\"pattern\":{\"fillmode\":\"overlay\",\"size\":10,\"solidity\":0.2}},\"type\":\"histogram\"}],\"scattergl\":[{\"type\":\"scattergl\",\"marker\":{\"colorbar\":{\"outlinewidth\":0,\"ticks\":\"\"}}}],\"scatter3d\":[{\"type\":\"scatter3d\",\"line\":{\"colorbar\":{\"outlinewidth\":0,\"ticks\":\"\"}},\"marker\":{\"colorbar\":{\"outlinewidth\":0,\"ticks\":\"\"}}}],\"scattermapbox\":[{\"type\":\"scattermapbox\",\"marker\":{\"colorbar\":{\"outlinewidth\":0,\"ticks\":\"\"}}}],\"scatterternary\":[{\"type\":\"scatterternary\",\"marker\":{\"colorbar\":{\"outlinewidth\":0,\"ticks\":\"\"}}}],\"scattercarpet\":[{\"type\":\"scattercarpet\",\"marker\":{\"colorbar\":{\"outlinewidth\":0,\"ticks\":\"\"}}}],\"carpet\":[{\"aaxis\":{\"endlinecolor\":\"#2a3f5f\",\"gridcolor\":\"white\",\"linecolor\":\"white\",\"minorgridcolor\":\"white\",\"startlinecolor\":\"#2a3f5f\"},\"baxis\":{\"endlinecolor\":\"#2a3f5f\",\"gridcolor\":\"white\",\"linecolor\":\"white\",\"minorgridcolor\":\"white\",\"startlinecolor\":\"#2a3f5f\"},\"type\":\"carpet\"}],\"table\":[{\"cells\":{\"fill\":{\"color\":\"#EBF0F8\"},\"line\":{\"color\":\"white\"}},\"header\":{\"fill\":{\"color\":\"#C8D4E3\"},\"line\":{\"color\":\"white\"}},\"type\":\"table\"}],\"barpolar\":[{\"marker\":{\"line\":{\"color\":\"#E5ECF6\",\"width\":0.5},\"pattern\":{\"fillmode\":\"overlay\",\"size\":10,\"solidity\":0.2}},\"type\":\"barpolar\"}],\"pie\":[{\"automargin\":true,\"type\":\"pie\"}]},\"layout\":{\"autotypenumbers\":\"strict\",\"colorway\":[\"#636efa\",\"#EF553B\",\"#00cc96\",\"#ab63fa\",\"#FFA15A\",\"#19d3f3\",\"#FF6692\",\"#B6E880\",\"#FF97FF\",\"#FECB52\"],\"font\":{\"color\":\"#2a3f5f\"},\"hovermode\":\"closest\",\"hoverlabel\":{\"align\":\"left\"},\"paper_bgcolor\":\"white\",\"plot_bgcolor\":\"#E5ECF6\",\"polar\":{\"bgcolor\":\"#E5ECF6\",\"angularaxis\":{\"gridcolor\":\"white\",\"linecolor\":\"white\",\"ticks\":\"\"},\"radialaxis\":{\"gridcolor\":\"white\",\"linecolor\":\"white\",\"ticks\":\"\"}},\"ternary\":{\"bgcolor\":\"#E5ECF6\",\"aaxis\":{\"gridcolor\":\"white\",\"linecolor\":\"white\",\"ticks\":\"\"},\"baxis\":{\"gridcolor\":\"white\",\"linecolor\":\"white\",\"ticks\":\"\"},\"caxis\":{\"gridcolor\":\"white\",\"linecolor\":\"white\",\"ticks\":\"\"}},\"coloraxis\":{\"colorbar\":{\"outlinewidth\":0,\"ticks\":\"\"}},\"colorscale\":{\"sequential\":[[0.0,\"#0d0887\"],[0.1111111111111111,\"#46039f\"],[0.2222222222222222,\"#7201a8\"],[0.3333333333333333,\"#9c179e\"],[0.4444444444444444,\"#bd3786\"],[0.5555555555555556,\"#d8576b\"],[0.6666666666666666,\"#ed7953\"],[0.7777777777777778,\"#fb9f3a\"],[0.8888888888888888,\"#fdca26\"],[1.0,\"#f0f921\"]],\"sequentialminus\":[[0.0,\"#0d0887\"],[0.1111111111111111,\"#46039f\"],[0.2222222222222222,\"#7201a8\"],[0.3333333333333333,\"#9c179e\"],[0.4444444444444444,\"#bd3786\"],[0.5555555555555556,\"#d8576b\"],[0.6666666666666666,\"#ed7953\"],[0.7777777777777778,\"#fb9f3a\"],[0.8888888888888888,\"#fdca26\"],[1.0,\"#f0f921\"]],\"diverging\":[[0,\"#8e0152\"],[0.1,\"#c51b7d\"],[0.2,\"#de77ae\"],[0.3,\"#f1b6da\"],[0.4,\"#fde0ef\"],[0.5,\"#f7f7f7\"],[0.6,\"#e6f5d0\"],[0.7,\"#b8e186\"],[0.8,\"#7fbc41\"],[0.9,\"#4d9221\"],[1,\"#276419\"]]},\"xaxis\":{\"gridcolor\":\"white\",\"linecolor\":\"white\",\"ticks\":\"\",\"title\":{\"standoff\":15},\"zerolinecolor\":\"white\",\"automargin\":true,\"zerolinewidth\":2},\"yaxis\":{\"gridcolor\":\"white\",\"linecolor\":\"white\",\"ticks\":\"\",\"title\":{\"standoff\":15},\"zerolinecolor\":\"white\",\"automargin\":true,\"zerolinewidth\":2},\"scene\":{\"xaxis\":{\"backgroundcolor\":\"#E5ECF6\",\"gridcolor\":\"white\",\"linecolor\":\"white\",\"showbackground\":true,\"ticks\":\"\",\"zerolinecolor\":\"white\",\"gridwidth\":2},\"yaxis\":{\"backgroundcolor\":\"#E5ECF6\",\"gridcolor\":\"white\",\"linecolor\":\"white\",\"showbackground\":true,\"ticks\":\"\",\"zerolinecolor\":\"white\",\"gridwidth\":2},\"zaxis\":{\"backgroundcolor\":\"#E5ECF6\",\"gridcolor\":\"white\",\"linecolor\":\"white\",\"showbackground\":true,\"ticks\":\"\",\"zerolinecolor\":\"white\",\"gridwidth\":2}},\"shapedefaults\":{\"line\":{\"color\":\"#2a3f5f\"}},\"annotationdefaults\":{\"arrowcolor\":\"#2a3f5f\",\"arrowhead\":0,\"arrowwidth\":1},\"geo\":{\"bgcolor\":\"white\",\"landcolor\":\"#E5ECF6\",\"subunitcolor\":\"white\",\"showland\":true,\"showlakes\":true,\"lakecolor\":\"white\"},\"title\":{\"x\":0.05},\"mapbox\":{\"style\":\"light\"}}},\"xaxis\":{\"anchor\":\"y\",\"domain\":[0.0,0.94]},\"yaxis\":{\"anchor\":\"x\",\"domain\":[0.0,1.0],\"title\":{\"text\":\"Deaths\"}},\"yaxis2\":{\"anchor\":\"x\",\"overlaying\":\"y\",\"side\":\"right\",\"title\":{\"text\":\"Rate %\"}},\"title\":{\"text\":\"Deaths & Positivity Rate %\"}},                        {\"responsive\": true}                    ).then(function(){\n",
       "                            \n",
       "var gd = document.getElementById('9012fa1d-d80a-4cff-9155-96089509ff79');\n",
       "var x = new MutationObserver(function (mutations, observer) {{\n",
       "        var display = window.getComputedStyle(gd).display;\n",
       "        if (!display || display === 'none') {{\n",
       "            console.log([gd, 'removed!']);\n",
       "            Plotly.purge(gd);\n",
       "            observer.disconnect();\n",
       "        }}\n",
       "}});\n",
       "\n",
       "// Listen for the removal of the full notebook cells\n",
       "var notebookContainer = gd.closest('#notebook-container');\n",
       "if (notebookContainer) {{\n",
       "    x.observe(notebookContainer, {childList: true});\n",
       "}}\n",
       "\n",
       "// Listen for the clearing of the current output cell\n",
       "var outputEl = gd.closest('.output');\n",
       "if (outputEl) {{\n",
       "    x.observe(outputEl, {childList: true});\n",
       "}}\n",
       "\n",
       "                        })                };                });            </script>        </div>"
      ]
     },
     "metadata": {},
     "output_type": "display_data"
    }
   ],
   "source": [
    "fig = make_subplots(specs=[[{\"secondary_y\": True}]])\n",
    "\n",
    "fig.add_trace(\n",
    "    go.Scatter(\n",
    "        x=data_df['Date'],\n",
    "        y=data_df['New Deaths'],\n",
    "        mode='lines+markers',\n",
    "        name='Deaths'\n",
    "    )\n",
    ")\n",
    "fig.add_trace(\n",
    "    go.Scatter(\n",
    "        x=data_df['Date'],\n",
    "        y=data_df['Positivity Rate'],\n",
    "        mode='lines+markers',\n",
    "        name='Positivity Rate'\n",
    "    ),\n",
    "    secondary_y=True\n",
    ")\n",
    "\n",
    "fig.update_layout(\n",
    "    title_text=\"Deaths & Positivity Rate %\"\n",
    ")\n",
    "\n",
    "fig.update_yaxes(title_text=\"Deaths\", secondary_y=False)\n",
    "fig.update_yaxes(title_text=\"Rate %\", secondary_y=True)\n",
    "\n",
    "fig.show()"
   ]
  },
  {
   "attachments": {},
   "cell_type": "markdown",
   "metadata": {},
   "source": [
    "#### Distribution of Deaths"
   ]
  },
  {
   "cell_type": "code",
   "execution_count": 255,
   "metadata": {},
   "outputs": [
    {
     "data": {
      "application/vnd.plotly.v1+json": {
       "config": {
        "plotlyServerURL": "https://plot.ly"
       },
       "data": [
        {
         "legendgroup": "Daily Deaths",
         "marker": {
          "color": "rgb(31, 119, 180)"
         },
         "mode": "lines",
         "name": "Daily Deaths",
         "showlegend": true,
         "type": "scatter",
         "x": [
          0,
          0.014,
          0.028,
          0.042,
          0.056,
          0.07,
          0.084,
          0.098,
          0.112,
          0.126,
          0.14,
          0.154,
          0.168,
          0.182,
          0.196,
          0.21,
          0.224,
          0.238,
          0.252,
          0.266,
          0.28,
          0.294,
          0.308,
          0.322,
          0.336,
          0.35,
          0.364,
          0.378,
          0.392,
          0.406,
          0.42,
          0.434,
          0.448,
          0.462,
          0.476,
          0.49,
          0.504,
          0.518,
          0.532,
          0.546,
          0.56,
          0.574,
          0.588,
          0.602,
          0.616,
          0.63,
          0.644,
          0.658,
          0.672,
          0.686,
          0.7,
          0.714,
          0.728,
          0.742,
          0.756,
          0.77,
          0.784,
          0.798,
          0.812,
          0.826,
          0.84,
          0.854,
          0.868,
          0.882,
          0.896,
          0.91,
          0.924,
          0.938,
          0.952,
          0.966,
          0.98,
          0.994,
          1.008,
          1.022,
          1.036,
          1.05,
          1.064,
          1.078,
          1.092,
          1.106,
          1.12,
          1.134,
          1.148,
          1.162,
          1.176,
          1.19,
          1.204,
          1.218,
          1.232,
          1.246,
          1.26,
          1.274,
          1.288,
          1.302,
          1.316,
          1.33,
          1.344,
          1.358,
          1.372,
          1.386,
          1.4,
          1.414,
          1.428,
          1.442,
          1.456,
          1.47,
          1.484,
          1.498,
          1.512,
          1.526,
          1.54,
          1.554,
          1.568,
          1.582,
          1.596,
          1.61,
          1.624,
          1.638,
          1.652,
          1.666,
          1.68,
          1.694,
          1.708,
          1.722,
          1.736,
          1.75,
          1.764,
          1.778,
          1.792,
          1.806,
          1.82,
          1.834,
          1.848,
          1.862,
          1.876,
          1.89,
          1.904,
          1.918,
          1.932,
          1.946,
          1.96,
          1.974,
          1.988,
          2.002,
          2.016,
          2.03,
          2.044,
          2.058,
          2.072,
          2.086,
          2.1,
          2.114,
          2.128,
          2.142,
          2.156,
          2.17,
          2.184,
          2.198,
          2.212,
          2.226,
          2.24,
          2.254,
          2.268,
          2.282,
          2.296,
          2.31,
          2.324,
          2.338,
          2.352,
          2.366,
          2.38,
          2.394,
          2.408,
          2.422,
          2.436,
          2.45,
          2.464,
          2.478,
          2.492,
          2.506,
          2.52,
          2.534,
          2.548,
          2.562,
          2.576,
          2.59,
          2.604,
          2.618,
          2.632,
          2.646,
          2.66,
          2.674,
          2.688,
          2.702,
          2.716,
          2.73,
          2.744,
          2.758,
          2.772,
          2.786,
          2.8,
          2.814,
          2.828,
          2.842,
          2.856,
          2.87,
          2.884,
          2.898,
          2.912,
          2.926,
          2.94,
          2.954,
          2.968,
          2.982,
          2.996,
          3.01,
          3.024,
          3.038,
          3.052,
          3.066,
          3.08,
          3.094,
          3.108,
          3.122,
          3.136,
          3.15,
          3.164,
          3.178,
          3.192,
          3.206,
          3.22,
          3.234,
          3.248,
          3.262,
          3.276,
          3.29,
          3.304,
          3.318,
          3.332,
          3.346,
          3.36,
          3.374,
          3.388,
          3.402,
          3.416,
          3.43,
          3.444,
          3.458,
          3.472,
          3.486,
          3.5,
          3.514,
          3.528,
          3.542,
          3.556,
          3.57,
          3.584,
          3.598,
          3.612,
          3.626,
          3.64,
          3.654,
          3.668,
          3.682,
          3.696,
          3.71,
          3.724,
          3.738,
          3.752,
          3.766,
          3.78,
          3.794,
          3.808,
          3.822,
          3.836,
          3.85,
          3.864,
          3.878,
          3.892,
          3.906,
          3.92,
          3.934,
          3.948,
          3.962,
          3.976,
          3.99,
          4.004,
          4.018,
          4.032,
          4.046,
          4.06,
          4.074,
          4.088,
          4.102,
          4.116,
          4.13,
          4.144,
          4.158,
          4.172,
          4.186,
          4.2,
          4.214,
          4.228,
          4.242,
          4.256,
          4.27,
          4.284,
          4.298,
          4.312,
          4.326,
          4.34,
          4.354,
          4.368,
          4.382,
          4.396,
          4.41,
          4.424,
          4.438,
          4.452,
          4.466,
          4.48,
          4.494,
          4.508,
          4.522,
          4.536,
          4.55,
          4.564,
          4.578,
          4.592,
          4.606,
          4.62,
          4.634,
          4.648,
          4.662,
          4.676,
          4.69,
          4.704,
          4.718,
          4.732,
          4.746,
          4.76,
          4.774,
          4.788,
          4.802,
          4.816,
          4.83,
          4.844,
          4.858,
          4.872,
          4.886,
          4.9,
          4.914,
          4.928,
          4.942,
          4.956,
          4.97,
          4.984,
          4.998,
          5.012,
          5.026,
          5.04,
          5.054,
          5.068,
          5.082,
          5.096,
          5.11,
          5.124,
          5.138,
          5.152,
          5.166,
          5.18,
          5.194,
          5.208,
          5.222,
          5.236,
          5.25,
          5.264,
          5.278,
          5.292,
          5.306,
          5.32,
          5.334,
          5.348,
          5.362,
          5.376,
          5.39,
          5.404,
          5.418,
          5.432,
          5.446,
          5.46,
          5.474,
          5.488,
          5.502,
          5.516,
          5.53,
          5.544,
          5.558,
          5.572,
          5.586,
          5.6,
          5.614,
          5.628,
          5.642,
          5.656,
          5.67,
          5.684,
          5.698,
          5.712,
          5.726,
          5.74,
          5.754,
          5.768,
          5.782,
          5.796,
          5.81,
          5.824,
          5.838,
          5.852,
          5.866,
          5.88,
          5.894,
          5.908,
          5.922,
          5.936,
          5.95,
          5.964,
          5.978,
          5.992,
          6.006,
          6.02,
          6.034,
          6.048,
          6.062,
          6.076,
          6.09,
          6.104,
          6.118,
          6.132,
          6.146,
          6.16,
          6.174,
          6.188,
          6.202,
          6.216,
          6.23,
          6.244,
          6.258,
          6.272,
          6.286,
          6.3,
          6.314,
          6.328,
          6.342,
          6.356,
          6.37,
          6.384,
          6.398,
          6.412,
          6.426,
          6.44,
          6.454,
          6.468,
          6.482,
          6.496,
          6.51,
          6.524,
          6.538,
          6.552,
          6.566,
          6.58,
          6.594,
          6.608,
          6.622,
          6.636,
          6.65,
          6.664,
          6.678,
          6.692,
          6.706,
          6.72,
          6.734,
          6.748,
          6.762,
          6.776,
          6.79,
          6.804,
          6.818,
          6.832,
          6.846,
          6.86,
          6.874,
          6.888,
          6.902,
          6.916,
          6.93,
          6.944,
          6.958,
          6.972,
          6.986
         ],
         "xaxis": "x",
         "y": [
          0.7903470197655582,
          0.789676766250345,
          0.7873544649809111,
          0.7833992844816531,
          0.7778412166414791,
          0.7707208115168637,
          0.7620888042565558,
          0.7520056395069082,
          0.7405409000714517,
          0.7277726478797955,
          0.7137866864462562,
          0.6986757549496604,
          0.682538664826388,
          0.6654793903309184,
          0.6476061248726916,
          0.6290303150883932,
          0.6098656845531679,
          0.5902272587851852,
          0.5702304027637833,
          0.5499898815793901,
          0.529618954082153,
          0.5092285085154457,
          0.4889262481357099,
          0.4688159337541318,
          0.44899668901408774,
          0.4295623730676576,
          0.410601024157563,
          0.39219437647270894,
          0.37441745154712486,
          0.3573382244327772,
          0.3410173639145269,
          0.32550804516279785,
          0.31085583244875836,
          0.2970986288845356,
          0.28426668960222157,
          0.272382694351098,
          0.2614618751708133,
          0.25151219458481444,
          0.24253456964563408,
          0.2345231371431734,
          0.2274655553469929,
          0.22134333778281276,
          0.2161322147277661,
          0.21180251833581343,
          0.20831958756062305,
          0.2056441893146438,
          0.2037329525791689,
          0.20253881244874428,
          0.20201146134602824,
          0.20209780487152249,
          0.20274241995133802,
          0.20388801311049778,
          0.20547587682805116,
          0.2074463420224125,
          0.2097392247730563,
          0.21229426541097854,
          0.21505155810986837,
          0.2179519690882894,
          0.22093754149782335,
          0.22395188502931496,
          0.22694054822774343,
          0.22985137147286214,
          0.23263481856515755,
          0.23524428486163743,
          0.23763637993944706,
          0.23977118283212787,
          0.24161246798754032,
          0.2431279002396885,
          0.24428919727117837,
          0.24507225826650497,
          0.24545725771876553,
          0.24542870364894365,
          0.24497545982372798,
          0.2440907319092097,
          0.24277201786669492,
          0.2410210232765573,
          0.23884354265788632,
          0.23624930822832277,
          0.23325180791130157,
          0.22986807473909104,
          0.2261184501127289,
          0.2220263236563921,
          0.21761785263921843,
          0.2129216641269465,
          0.20796854316469846,
          0.20279111037990166,
          0.19742349242818266,
          0.1919009886865649,
          0.18625973752827013,
          0.1805363853954268,
          0.1747677617228872,
          0.16899056256468492,
          0.16324104553829105,
          0.15755473843879883,
          0.15196616359136597,
          0.14650857971277592,
          0.1412137427495159,
          0.13611168685654787,
          0.13123052638491123,
          0.12659627946314586,
          0.12223271349305184,
          0.11816121263817443,
          0.11440066716794918,
          0.11096738433357929,
          0.10787502029540418,
          0.10513453249573472,
          0.10275415177578756,
          0.10073937346857945,
          0.0990929666593578,
          0.09781500078802091,
          0.09690288877045952,
          0.09635144583363421,
          0.09615296328795064,
          0.09629729649565123,
          0.09677196633069443,
          0.09756227346001331,
          0.09865142480356157,
          0.10002067154817842,
          0.10164945809480896,
          0.10351558130785864,
          0.10559535940812062,
          0.10786380980609421,
          0.11029483511086172,
          0.11286141647218977,
          0.11553581332182168,
          0.11828976847694643,
          0.12109471745741875,
          0.1239220007525924,
          0.12674307765752307,
          0.12952974018630029,
          0.13225432546710256,
          0.1348899249333451,
          0.13741058855278834,
          0.139791522285371,
          0.14200927693428814,
          0.14404192655688372,
          0.14586923463352242,
          0.14747280625636794,
          0.1488362246955169,
          0.14994517082746986,
          0.15078752406927232,
          0.15135344364861528,
          0.1516354292532206,
          0.1516283603379682,
          0.1513295136218185,
          0.15073855857332744,
          0.14985753095853813,
          0.1486907848030601,
          0.14724492339501988,
          0.14552871022261143,
          0.1435529609929122,
          0.14133041811338917,
          0.13887560922842565,
          0.13620469158747034,
          0.13333528417437665,
          0.13028628964782482,
          0.12707770822739023,
          0.12373044570907668,
          0.12026611780670048,
          0.11670685299324023,
          0.11307509595964411,
          0.1093934137207925,
          0.10568430628167275,
          0.10197002363518952,
          0.09827239070019872,
          0.09461264162872657,
          0.09101126471948771,
          0.08748785897513615,
          0.0840610031381862,
          0.08074813783899398,
          0.07756546129352392,
          0.07452783880178958,
          0.0716487261238851,
          0.06894010665149025,
          0.06641244215149297,
          0.06407463673578292,
          0.06193401360887736,
          0.059996304062582065,
          0.058265648124480054,
          0.05674460622344811,
          0.05543418120939446,
          0.054333850054216065,
          0.05344160456412676,
          0.05275400044787757,
          0.05226621410808772,
          0.051972106551368295,
          0.051864293844393276,
          0.05193422357501989,
          0.05217225680755964,
          0.05256775504730752,
          0.053109171749625775,
          0.053784147921904724,
          0.054579611371635535,
          0.05548187915010978,
          0.05647676272886107,
          0.057549675425325145,
          0.05868574156606574,
          0.05986990684157609,
          0.061087049267635224,
          0.06232209012627499,
          0.06356010421668562,
          0.06478642870497994,
          0.06598676982385626,
          0.06714730664112914,
          0.0682547910918185,
          0.06929664345402368,
          0.07026104244577554,
          0.0711370091298774,
          0.07191448383738983,
          0.07258439535857039,
          0.07313872170291369,
          0.07357054179725575,
          0.07387407757209068,
          0.07404472598016597,
          0.07407908059670859,
          0.07397494256545649,
          0.07373132077690582,
          0.07334842129256561,
          0.07282762615897732,
          0.07217146188520311,
          0.07138355798477819,
          0.07046859610516185,
          0.06943225038198649,
          0.06828111975962121,
          0.06702265311166511,
          0.06566506807316212,
          0.06421726455922638,
          0.0626887339912706,
          0.06108946528152219,
          0.059429848638783485,
          0.05772057825353802,
          0.055972554899198605,
          0.054196789449371334,
          0.052404308259872176,
          0.050606061300334786,
          0.04881283384553792,
          0.047035162452996784,
          0.045283255863073434,
          0.043566921363113194,
          0.04189549706007772,
          0.040277790409033884,
          0.038722023249684344,
          0.03723578351181744,
          0.035825983664749005,
          0.034498825906966346,
          0.033259774021442534,
          0.03211353176025193,
          0.031064027569787187,
          0.030114405425244756,
          0.029267021510046863,
          0.028523446452139254,
          0.027884472814038296,
          0.0273501275262436,
          0.026919688953134766,
          0.02659170828560935,
          0.026364034964133424,
          0.0262338458483151,
          0.026197677863197932,
          0.026251463866922113,
          0.026390571498030625,
          0.026609844772406636,
          0.0269036482087163,
          0.02726591326655305,
          0.02769018688273847,
          0.028169681888111347,
          0.028697329079566052,
          0.02926583071027311,
          0.029867715145252285,
          0.03049539241040708,
          0.031141210341477377,
          0.03179751101607513,
          0.03245668712801827,
          0.03311123793970261,
          0.033753824426382695,
          0.034377323207111427,
          0.034974878841818074,
          0.035539954063619435,
          0.03606637751085135,
          0.036548388525257346,
          0.036980678591855096,
          0.03735842901262563,
          0.03767734443048879,
          0.03793368185205648,
          0.03812427485705164,
          0.03824655272866048,
          0.038298554291680664,
          0.038278936303317836,
          0.038186976303823714,
          0.03802256989966375,
          0.03778622251930394,
          0.037479035749662055,
          0.037102688428402614,
          0.03665941273218868,
          0.03615196556246352,
          0.03558359558700294,
          0.03495800634631498,
          0.03427931587792005,
          0.03355201334784126,
          0.032780913206648776,
          0.03197110740668965,
          0.031127916227524647,
          0.030256838258047734,
          0.029363500076541846,
          0.028453606154392266,
          0.027532889485987616,
          0.026607063417185998,
          0.02568177510857744,
          0.024762561028581806,
          0.023854804826314,
          0.02296369788624834,
          0.022094202817174995,
          0.021251020077892254,
          0.020438557892633817,
          0.01966090556136456,
          0.018921810224743704,
          0.0182246571015068,
          0.017572453177932598,
          0.016967814295424818,
          0.01641295555338878,
          0.015909684920704215,
          0.015459399930202301,
          0.015063087316507831,
          0.014721325448141663,
          0.014434289399487715,
          0.01420175850660734,
          0.014023126252350733,
          0.01389741233010694,
          0.013823276741183376,
          0.013799035787495835,
          0.013822679828317586,
          0.013891892676622568,
          0.01400407251648589,
          0.014156354227560104,
          0.014345633005422484,
          0.014568589167270416,
          0.014821714030847049,
          0.015101336750528388,
          0.015403651988251058,
          0.015724748288569602,
          0.016060637016884358,
          0.01640728170814791,
          0.016760627660605116,
          0.0171166315958747,
          0.017471291193524065,
          0.017820674295827548,
          0.018160947567251513,
          0.018488404383983286,
          0.01879949172207989,
          0.01909083580907724,
          0.0193592663036127,
          0.01960183877113086,
          0.019815855231318756,
          0.019998882564697833,
          0.020148768581815666,
          0.020263655578637244,
          0.020341991225825164,
          0.020382536667294327,
          0.02038437173430313,
          0.02034689721486594,
          0.0202698341538447,
          0.02015322019601567,
          0.019997403022002556,
          0.019803030964464192,
          0.01957104092857172,
          0.019302643775866078,
          0.01899930736333545,
          0.018662737459340998,
          0.018294856784249445,
          0.01789778244579744,
          0.017473802056893684,
          0.01702534883645654,
          0.01655497600178008,
          0.01606533076373498,
          0.015559128233873704,
          0.015039125545352293,
          0.014508096477758685,
          0.013968806859778844,
          0.013423991003574968,
          0.012876329401284203,
          0.012328427887741189,
          0.011782798444973056,
          0.011241841793849586,
          0.010707831887128507,
          0.010182902386648972,
          0.009669035176213668,
          0.009168050931333252,
          0.008681601738025518,
          0.00821116572573315,
          0.007758043654558706,
          0.007323357374751545,
          0.00690805005696745,
          0.006512888075449693,
          0.006138464413033678,
          0.0057852034467975625,
          0.00545336696620147,
          0.005143061271577676,
          0.004854245199668227,
          0.0045867389243348785,
          0.004340233384323398,
          0.0041143001957457456,
          0.003908401914438635,
          0.0037219025222261213,
          0.0035540780210298354,
          0.0034041270294028203,
          0.0032711812871026747,
          0.0031543159844768993,
          0.003052559844445906,
          0.002964904895509722,
          0.0028903158842800434,
          0.0028277392853961,
          0.002776111875205561,
          0.0027343688432044802,
          0.00270145142189398,
          0.002676314021421284,
          0.0026579308601563144,
          0.0026453020862662454,
          0.0026374593884666286,
          0.0026334710965433086,
          0.0026324467740624353,
          0.002633541307031588,
          0.0026359584932611896,
          0.0026389541379185136,
          0.00264183866137661,
          0.002643979226037474,
          0.002644801389440818,
          0.002643790291728592,
          0.002640491386476685,
          0.0026345107250664353,
          0.002625514806168969,
          0.002613230003556625,
          0.0025974415873226448,
          0.002577992355652244,
          0.002554780896502041,
          0.0025277595008554097,
          0.0024969317515668634,
          0.002462349814120211,
          0.0024241114578334327,
          0.0023823568380770097,
          0.0023372650718654856,
          0.002289050640672803,
          0.0022379596554564733,
          0.002184266019610658,
          0.002128267525870162,
          0.002070281923036362,
          0.00201064298778353,
          0.0019496966357351092,
          0.0018877971044921008,
          0.0018253032393781168,
          0.0017625749103792842,
          0.001699969586149768,
          0.0016378390880838728,
          0.001576526544384743,
          0.0015163635608549646,
          0.0014576676218638674,
          0.0014007397316771453,
          0.0013458623031328944,
          0.0012932972975739398,
          0.0012432846170559112,
          0.001196040747190154,
          0.0011517576465904947,
          0.0011106018768019517,
          0.0010727139648178715,
          0.001038207988849371,
          0.0010071713768964325,
          0.0009796649068742834,
          0.0009557228965522191,
          0.0009353535713387784,
          0.0009185395979631248,
          0.0009052387723194191,
          0.0008953848501162645,
          0.0008888885094621526,
          0.0008856384350751934,
          0.0008855025143868002,
          0.0008883291363725726,
          0.0008939485844514867,
          0.0009021745152135562,
          0.0009128055150396296,
          0.0009256267268448938,
          0.0009404115391973071,
          0.0009569233299288716,
          0.0009749172560739916,
          0.000994142081545811,
          0.0010143420334153854,
          0.0010352586770139872,
          0.001056632799364426,
          0.0010782062896968593,
          0.001099724005054609,
          0.001120935608284382,
          0.001141597365072343,
          0.001161473886170188,
          0.0011803398005904326,
          0.0011979813453691728,
          0.0012141978575263093,
          0.0012288031541192747,
          0.0012416267868033324,
          0.0012525151580878762,
          0.0012613324875160468,
          0.0012679616172880928,
          0.001272304648384211,
          0.001274283399999315
         ],
         "yaxis": "y"
        }
       ],
       "layout": {
        "barmode": "overlay",
        "hovermode": "closest",
        "legend": {
         "traceorder": "reversed"
        },
        "template": {
         "data": {
          "bar": [
           {
            "error_x": {
             "color": "#2a3f5f"
            },
            "error_y": {
             "color": "#2a3f5f"
            },
            "marker": {
             "line": {
              "color": "#E5ECF6",
              "width": 0.5
             },
             "pattern": {
              "fillmode": "overlay",
              "size": 10,
              "solidity": 0.2
             }
            },
            "type": "bar"
           }
          ],
          "barpolar": [
           {
            "marker": {
             "line": {
              "color": "#E5ECF6",
              "width": 0.5
             },
             "pattern": {
              "fillmode": "overlay",
              "size": 10,
              "solidity": 0.2
             }
            },
            "type": "barpolar"
           }
          ],
          "carpet": [
           {
            "aaxis": {
             "endlinecolor": "#2a3f5f",
             "gridcolor": "white",
             "linecolor": "white",
             "minorgridcolor": "white",
             "startlinecolor": "#2a3f5f"
            },
            "baxis": {
             "endlinecolor": "#2a3f5f",
             "gridcolor": "white",
             "linecolor": "white",
             "minorgridcolor": "white",
             "startlinecolor": "#2a3f5f"
            },
            "type": "carpet"
           }
          ],
          "choropleth": [
           {
            "colorbar": {
             "outlinewidth": 0,
             "ticks": ""
            },
            "type": "choropleth"
           }
          ],
          "contour": [
           {
            "colorbar": {
             "outlinewidth": 0,
             "ticks": ""
            },
            "colorscale": [
             [
              0,
              "#0d0887"
             ],
             [
              0.1111111111111111,
              "#46039f"
             ],
             [
              0.2222222222222222,
              "#7201a8"
             ],
             [
              0.3333333333333333,
              "#9c179e"
             ],
             [
              0.4444444444444444,
              "#bd3786"
             ],
             [
              0.5555555555555556,
              "#d8576b"
             ],
             [
              0.6666666666666666,
              "#ed7953"
             ],
             [
              0.7777777777777778,
              "#fb9f3a"
             ],
             [
              0.8888888888888888,
              "#fdca26"
             ],
             [
              1,
              "#f0f921"
             ]
            ],
            "type": "contour"
           }
          ],
          "contourcarpet": [
           {
            "colorbar": {
             "outlinewidth": 0,
             "ticks": ""
            },
            "type": "contourcarpet"
           }
          ],
          "heatmap": [
           {
            "colorbar": {
             "outlinewidth": 0,
             "ticks": ""
            },
            "colorscale": [
             [
              0,
              "#0d0887"
             ],
             [
              0.1111111111111111,
              "#46039f"
             ],
             [
              0.2222222222222222,
              "#7201a8"
             ],
             [
              0.3333333333333333,
              "#9c179e"
             ],
             [
              0.4444444444444444,
              "#bd3786"
             ],
             [
              0.5555555555555556,
              "#d8576b"
             ],
             [
              0.6666666666666666,
              "#ed7953"
             ],
             [
              0.7777777777777778,
              "#fb9f3a"
             ],
             [
              0.8888888888888888,
              "#fdca26"
             ],
             [
              1,
              "#f0f921"
             ]
            ],
            "type": "heatmap"
           }
          ],
          "heatmapgl": [
           {
            "colorbar": {
             "outlinewidth": 0,
             "ticks": ""
            },
            "colorscale": [
             [
              0,
              "#0d0887"
             ],
             [
              0.1111111111111111,
              "#46039f"
             ],
             [
              0.2222222222222222,
              "#7201a8"
             ],
             [
              0.3333333333333333,
              "#9c179e"
             ],
             [
              0.4444444444444444,
              "#bd3786"
             ],
             [
              0.5555555555555556,
              "#d8576b"
             ],
             [
              0.6666666666666666,
              "#ed7953"
             ],
             [
              0.7777777777777778,
              "#fb9f3a"
             ],
             [
              0.8888888888888888,
              "#fdca26"
             ],
             [
              1,
              "#f0f921"
             ]
            ],
            "type": "heatmapgl"
           }
          ],
          "histogram": [
           {
            "marker": {
             "pattern": {
              "fillmode": "overlay",
              "size": 10,
              "solidity": 0.2
             }
            },
            "type": "histogram"
           }
          ],
          "histogram2d": [
           {
            "colorbar": {
             "outlinewidth": 0,
             "ticks": ""
            },
            "colorscale": [
             [
              0,
              "#0d0887"
             ],
             [
              0.1111111111111111,
              "#46039f"
             ],
             [
              0.2222222222222222,
              "#7201a8"
             ],
             [
              0.3333333333333333,
              "#9c179e"
             ],
             [
              0.4444444444444444,
              "#bd3786"
             ],
             [
              0.5555555555555556,
              "#d8576b"
             ],
             [
              0.6666666666666666,
              "#ed7953"
             ],
             [
              0.7777777777777778,
              "#fb9f3a"
             ],
             [
              0.8888888888888888,
              "#fdca26"
             ],
             [
              1,
              "#f0f921"
             ]
            ],
            "type": "histogram2d"
           }
          ],
          "histogram2dcontour": [
           {
            "colorbar": {
             "outlinewidth": 0,
             "ticks": ""
            },
            "colorscale": [
             [
              0,
              "#0d0887"
             ],
             [
              0.1111111111111111,
              "#46039f"
             ],
             [
              0.2222222222222222,
              "#7201a8"
             ],
             [
              0.3333333333333333,
              "#9c179e"
             ],
             [
              0.4444444444444444,
              "#bd3786"
             ],
             [
              0.5555555555555556,
              "#d8576b"
             ],
             [
              0.6666666666666666,
              "#ed7953"
             ],
             [
              0.7777777777777778,
              "#fb9f3a"
             ],
             [
              0.8888888888888888,
              "#fdca26"
             ],
             [
              1,
              "#f0f921"
             ]
            ],
            "type": "histogram2dcontour"
           }
          ],
          "mesh3d": [
           {
            "colorbar": {
             "outlinewidth": 0,
             "ticks": ""
            },
            "type": "mesh3d"
           }
          ],
          "parcoords": [
           {
            "line": {
             "colorbar": {
              "outlinewidth": 0,
              "ticks": ""
             }
            },
            "type": "parcoords"
           }
          ],
          "pie": [
           {
            "automargin": true,
            "type": "pie"
           }
          ],
          "scatter": [
           {
            "fillpattern": {
             "fillmode": "overlay",
             "size": 10,
             "solidity": 0.2
            },
            "type": "scatter"
           }
          ],
          "scatter3d": [
           {
            "line": {
             "colorbar": {
              "outlinewidth": 0,
              "ticks": ""
             }
            },
            "marker": {
             "colorbar": {
              "outlinewidth": 0,
              "ticks": ""
             }
            },
            "type": "scatter3d"
           }
          ],
          "scattercarpet": [
           {
            "marker": {
             "colorbar": {
              "outlinewidth": 0,
              "ticks": ""
             }
            },
            "type": "scattercarpet"
           }
          ],
          "scattergeo": [
           {
            "marker": {
             "colorbar": {
              "outlinewidth": 0,
              "ticks": ""
             }
            },
            "type": "scattergeo"
           }
          ],
          "scattergl": [
           {
            "marker": {
             "colorbar": {
              "outlinewidth": 0,
              "ticks": ""
             }
            },
            "type": "scattergl"
           }
          ],
          "scattermapbox": [
           {
            "marker": {
             "colorbar": {
              "outlinewidth": 0,
              "ticks": ""
             }
            },
            "type": "scattermapbox"
           }
          ],
          "scatterpolar": [
           {
            "marker": {
             "colorbar": {
              "outlinewidth": 0,
              "ticks": ""
             }
            },
            "type": "scatterpolar"
           }
          ],
          "scatterpolargl": [
           {
            "marker": {
             "colorbar": {
              "outlinewidth": 0,
              "ticks": ""
             }
            },
            "type": "scatterpolargl"
           }
          ],
          "scatterternary": [
           {
            "marker": {
             "colorbar": {
              "outlinewidth": 0,
              "ticks": ""
             }
            },
            "type": "scatterternary"
           }
          ],
          "surface": [
           {
            "colorbar": {
             "outlinewidth": 0,
             "ticks": ""
            },
            "colorscale": [
             [
              0,
              "#0d0887"
             ],
             [
              0.1111111111111111,
              "#46039f"
             ],
             [
              0.2222222222222222,
              "#7201a8"
             ],
             [
              0.3333333333333333,
              "#9c179e"
             ],
             [
              0.4444444444444444,
              "#bd3786"
             ],
             [
              0.5555555555555556,
              "#d8576b"
             ],
             [
              0.6666666666666666,
              "#ed7953"
             ],
             [
              0.7777777777777778,
              "#fb9f3a"
             ],
             [
              0.8888888888888888,
              "#fdca26"
             ],
             [
              1,
              "#f0f921"
             ]
            ],
            "type": "surface"
           }
          ],
          "table": [
           {
            "cells": {
             "fill": {
              "color": "#EBF0F8"
             },
             "line": {
              "color": "white"
             }
            },
            "header": {
             "fill": {
              "color": "#C8D4E3"
             },
             "line": {
              "color": "white"
             }
            },
            "type": "table"
           }
          ]
         },
         "layout": {
          "annotationdefaults": {
           "arrowcolor": "#2a3f5f",
           "arrowhead": 0,
           "arrowwidth": 1
          },
          "autotypenumbers": "strict",
          "coloraxis": {
           "colorbar": {
            "outlinewidth": 0,
            "ticks": ""
           }
          },
          "colorscale": {
           "diverging": [
            [
             0,
             "#8e0152"
            ],
            [
             0.1,
             "#c51b7d"
            ],
            [
             0.2,
             "#de77ae"
            ],
            [
             0.3,
             "#f1b6da"
            ],
            [
             0.4,
             "#fde0ef"
            ],
            [
             0.5,
             "#f7f7f7"
            ],
            [
             0.6,
             "#e6f5d0"
            ],
            [
             0.7,
             "#b8e186"
            ],
            [
             0.8,
             "#7fbc41"
            ],
            [
             0.9,
             "#4d9221"
            ],
            [
             1,
             "#276419"
            ]
           ],
           "sequential": [
            [
             0,
             "#0d0887"
            ],
            [
             0.1111111111111111,
             "#46039f"
            ],
            [
             0.2222222222222222,
             "#7201a8"
            ],
            [
             0.3333333333333333,
             "#9c179e"
            ],
            [
             0.4444444444444444,
             "#bd3786"
            ],
            [
             0.5555555555555556,
             "#d8576b"
            ],
            [
             0.6666666666666666,
             "#ed7953"
            ],
            [
             0.7777777777777778,
             "#fb9f3a"
            ],
            [
             0.8888888888888888,
             "#fdca26"
            ],
            [
             1,
             "#f0f921"
            ]
           ],
           "sequentialminus": [
            [
             0,
             "#0d0887"
            ],
            [
             0.1111111111111111,
             "#46039f"
            ],
            [
             0.2222222222222222,
             "#7201a8"
            ],
            [
             0.3333333333333333,
             "#9c179e"
            ],
            [
             0.4444444444444444,
             "#bd3786"
            ],
            [
             0.5555555555555556,
             "#d8576b"
            ],
            [
             0.6666666666666666,
             "#ed7953"
            ],
            [
             0.7777777777777778,
             "#fb9f3a"
            ],
            [
             0.8888888888888888,
             "#fdca26"
            ],
            [
             1,
             "#f0f921"
            ]
           ]
          },
          "colorway": [
           "#636efa",
           "#EF553B",
           "#00cc96",
           "#ab63fa",
           "#FFA15A",
           "#19d3f3",
           "#FF6692",
           "#B6E880",
           "#FF97FF",
           "#FECB52"
          ],
          "font": {
           "color": "#2a3f5f"
          },
          "geo": {
           "bgcolor": "white",
           "lakecolor": "white",
           "landcolor": "#E5ECF6",
           "showlakes": true,
           "showland": true,
           "subunitcolor": "white"
          },
          "hoverlabel": {
           "align": "left"
          },
          "hovermode": "closest",
          "mapbox": {
           "style": "light"
          },
          "paper_bgcolor": "white",
          "plot_bgcolor": "#E5ECF6",
          "polar": {
           "angularaxis": {
            "gridcolor": "white",
            "linecolor": "white",
            "ticks": ""
           },
           "bgcolor": "#E5ECF6",
           "radialaxis": {
            "gridcolor": "white",
            "linecolor": "white",
            "ticks": ""
           }
          },
          "scene": {
           "xaxis": {
            "backgroundcolor": "#E5ECF6",
            "gridcolor": "white",
            "gridwidth": 2,
            "linecolor": "white",
            "showbackground": true,
            "ticks": "",
            "zerolinecolor": "white"
           },
           "yaxis": {
            "backgroundcolor": "#E5ECF6",
            "gridcolor": "white",
            "gridwidth": 2,
            "linecolor": "white",
            "showbackground": true,
            "ticks": "",
            "zerolinecolor": "white"
           },
           "zaxis": {
            "backgroundcolor": "#E5ECF6",
            "gridcolor": "white",
            "gridwidth": 2,
            "linecolor": "white",
            "showbackground": true,
            "ticks": "",
            "zerolinecolor": "white"
           }
          },
          "shapedefaults": {
           "line": {
            "color": "#2a3f5f"
           }
          },
          "ternary": {
           "aaxis": {
            "gridcolor": "white",
            "linecolor": "white",
            "ticks": ""
           },
           "baxis": {
            "gridcolor": "white",
            "linecolor": "white",
            "ticks": ""
           },
           "bgcolor": "#E5ECF6",
           "caxis": {
            "gridcolor": "white",
            "linecolor": "white",
            "ticks": ""
           }
          },
          "title": {
           "x": 0.05
          },
          "xaxis": {
           "automargin": true,
           "gridcolor": "white",
           "linecolor": "white",
           "ticks": "",
           "title": {
            "standoff": 15
           },
           "zerolinecolor": "white",
           "zerolinewidth": 2
          },
          "yaxis": {
           "automargin": true,
           "gridcolor": "white",
           "linecolor": "white",
           "ticks": "",
           "title": {
            "standoff": 15
           },
           "zerolinecolor": "white",
           "zerolinewidth": 2
          }
         }
        },
        "title": {
         "text": "Distribution of Daily Deaths"
        },
        "xaxis": {
         "anchor": "y2",
         "domain": [
          0,
          1
         ],
         "title": {
          "text": "Deaths"
         },
         "zeroline": false
        },
        "yaxis": {
         "anchor": "free",
         "domain": [
          0,
          1
         ],
         "position": 0
        }
       }
      },
      "text/html": [
       "<div>                            <div id=\"ca9b4a4a-fb3d-403e-b830-6d11f76ae75a\" class=\"plotly-graph-div\" style=\"height:525px; width:100%;\"></div>            <script type=\"text/javascript\">                require([\"plotly\"], function(Plotly) {                    window.PLOTLYENV=window.PLOTLYENV || {};                                    if (document.getElementById(\"ca9b4a4a-fb3d-403e-b830-6d11f76ae75a\")) {                    Plotly.newPlot(                        \"ca9b4a4a-fb3d-403e-b830-6d11f76ae75a\",                        [{\"legendgroup\":\"Daily Deaths\",\"marker\":{\"color\":\"rgb(31, 119, 180)\"},\"mode\":\"lines\",\"name\":\"Daily Deaths\",\"showlegend\":true,\"x\":[0.0,0.014,0.028,0.042,0.056,0.07,0.084,0.098,0.112,0.126,0.14,0.154,0.168,0.182,0.196,0.21,0.224,0.238,0.252,0.266,0.28,0.294,0.308,0.322,0.336,0.35,0.364,0.378,0.392,0.406,0.42,0.434,0.448,0.462,0.476,0.49,0.504,0.518,0.532,0.546,0.56,0.574,0.588,0.602,0.616,0.63,0.644,0.658,0.672,0.686,0.7,0.714,0.728,0.742,0.756,0.77,0.784,0.798,0.812,0.826,0.84,0.854,0.868,0.882,0.896,0.91,0.924,0.938,0.952,0.966,0.98,0.994,1.008,1.022,1.036,1.05,1.064,1.078,1.092,1.106,1.12,1.134,1.148,1.162,1.176,1.19,1.204,1.218,1.232,1.246,1.26,1.274,1.288,1.302,1.316,1.33,1.344,1.358,1.372,1.386,1.4,1.414,1.428,1.442,1.456,1.47,1.484,1.498,1.512,1.526,1.54,1.554,1.568,1.582,1.596,1.61,1.624,1.638,1.652,1.666,1.68,1.694,1.708,1.722,1.736,1.75,1.764,1.778,1.792,1.806,1.82,1.834,1.848,1.862,1.876,1.89,1.904,1.918,1.932,1.946,1.96,1.974,1.988,2.002,2.016,2.03,2.044,2.058,2.072,2.086,2.1,2.114,2.128,2.142,2.156,2.17,2.184,2.198,2.212,2.226,2.24,2.254,2.268,2.282,2.296,2.31,2.324,2.338,2.352,2.366,2.38,2.394,2.408,2.422,2.436,2.45,2.464,2.478,2.492,2.506,2.52,2.534,2.548,2.562,2.576,2.59,2.604,2.618,2.632,2.646,2.66,2.674,2.688,2.702,2.716,2.73,2.744,2.758,2.772,2.786,2.8,2.814,2.828,2.842,2.856,2.87,2.884,2.898,2.912,2.926,2.94,2.954,2.968,2.982,2.996,3.01,3.024,3.038,3.052,3.066,3.08,3.094,3.108,3.122,3.136,3.15,3.164,3.178,3.192,3.206,3.22,3.234,3.248,3.262,3.276,3.29,3.304,3.318,3.332,3.346,3.36,3.374,3.388,3.402,3.416,3.43,3.444,3.458,3.472,3.486,3.5,3.514,3.528,3.542,3.556,3.57,3.584,3.598,3.612,3.626,3.64,3.654,3.668,3.682,3.696,3.71,3.724,3.738,3.752,3.766,3.78,3.794,3.808,3.822,3.836,3.85,3.864,3.878,3.892,3.906,3.92,3.934,3.948,3.962,3.976,3.99,4.004,4.018,4.032,4.046,4.06,4.074,4.088,4.102,4.116,4.13,4.144,4.158,4.172,4.186,4.2,4.214,4.228,4.242,4.256,4.27,4.284,4.298,4.312,4.326,4.34,4.354,4.368,4.382,4.396,4.41,4.424,4.438,4.452,4.466,4.48,4.494,4.508,4.522,4.536,4.55,4.564,4.578,4.592,4.606,4.62,4.634,4.648,4.662,4.676,4.69,4.704,4.718,4.732,4.746,4.76,4.774,4.788,4.802,4.816,4.83,4.844,4.858,4.872,4.886,4.9,4.914,4.928,4.942,4.956,4.97,4.984,4.998,5.012,5.026,5.04,5.054,5.068,5.082,5.096,5.11,5.124,5.138,5.152,5.166,5.18,5.194,5.208,5.222,5.236,5.25,5.264,5.278,5.292,5.306,5.32,5.334,5.348,5.362,5.376,5.39,5.404,5.418,5.432,5.446,5.46,5.474,5.488,5.502,5.516,5.53,5.544,5.558,5.572,5.586,5.6,5.614,5.628,5.642,5.656,5.67,5.684,5.698,5.712,5.726,5.74,5.754,5.768,5.782,5.796,5.81,5.824,5.838,5.852,5.866,5.88,5.894,5.908,5.922,5.936,5.95,5.964,5.978,5.992,6.006,6.02,6.034,6.048,6.062,6.076,6.09,6.104,6.118,6.132,6.146,6.16,6.174,6.188,6.202,6.216,6.23,6.244,6.258,6.272,6.286,6.3,6.314,6.328,6.342,6.356,6.37,6.384,6.398,6.412,6.426,6.44,6.454,6.468,6.482,6.496,6.51,6.524,6.538,6.552,6.566,6.58,6.594,6.608,6.622,6.636,6.65,6.664,6.678,6.692,6.706,6.72,6.734,6.748,6.762,6.776,6.79,6.804,6.818,6.832,6.846,6.86,6.874,6.888,6.902,6.916,6.93,6.944,6.958,6.972,6.986],\"xaxis\":\"x\",\"y\":[0.7903470197655582,0.789676766250345,0.7873544649809111,0.7833992844816531,0.7778412166414791,0.7707208115168637,0.7620888042565558,0.7520056395069082,0.7405409000714517,0.7277726478797955,0.7137866864462562,0.6986757549496604,0.682538664826388,0.6654793903309184,0.6476061248726916,0.6290303150883932,0.6098656845531679,0.5902272587851852,0.5702304027637833,0.5499898815793901,0.529618954082153,0.5092285085154457,0.4889262481357099,0.4688159337541318,0.44899668901408774,0.4295623730676576,0.410601024157563,0.39219437647270894,0.37441745154712486,0.3573382244327772,0.3410173639145269,0.32550804516279785,0.31085583244875836,0.2970986288845356,0.28426668960222157,0.272382694351098,0.2614618751708133,0.25151219458481444,0.24253456964563408,0.2345231371431734,0.2274655553469929,0.22134333778281276,0.2161322147277661,0.21180251833581343,0.20831958756062305,0.2056441893146438,0.2037329525791689,0.20253881244874428,0.20201146134602824,0.20209780487152249,0.20274241995133802,0.20388801311049778,0.20547587682805116,0.2074463420224125,0.2097392247730563,0.21229426541097854,0.21505155810986837,0.2179519690882894,0.22093754149782335,0.22395188502931496,0.22694054822774343,0.22985137147286214,0.23263481856515755,0.23524428486163743,0.23763637993944706,0.23977118283212787,0.24161246798754032,0.2431279002396885,0.24428919727117837,0.24507225826650497,0.24545725771876553,0.24542870364894365,0.24497545982372798,0.2440907319092097,0.24277201786669492,0.2410210232765573,0.23884354265788632,0.23624930822832277,0.23325180791130157,0.22986807473909104,0.2261184501127289,0.2220263236563921,0.21761785263921843,0.2129216641269465,0.20796854316469846,0.20279111037990166,0.19742349242818266,0.1919009886865649,0.18625973752827013,0.1805363853954268,0.1747677617228872,0.16899056256468492,0.16324104553829105,0.15755473843879883,0.15196616359136597,0.14650857971277592,0.1412137427495159,0.13611168685654787,0.13123052638491123,0.12659627946314586,0.12223271349305184,0.11816121263817443,0.11440066716794918,0.11096738433357929,0.10787502029540418,0.10513453249573472,0.10275415177578756,0.10073937346857945,0.0990929666593578,0.09781500078802091,0.09690288877045952,0.09635144583363421,0.09615296328795064,0.09629729649565123,0.09677196633069443,0.09756227346001331,0.09865142480356157,0.10002067154817842,0.10164945809480896,0.10351558130785864,0.10559535940812062,0.10786380980609421,0.11029483511086172,0.11286141647218977,0.11553581332182168,0.11828976847694643,0.12109471745741875,0.1239220007525924,0.12674307765752307,0.12952974018630029,0.13225432546710256,0.1348899249333451,0.13741058855278834,0.139791522285371,0.14200927693428814,0.14404192655688372,0.14586923463352242,0.14747280625636794,0.1488362246955169,0.14994517082746986,0.15078752406927232,0.15135344364861528,0.1516354292532206,0.1516283603379682,0.1513295136218185,0.15073855857332744,0.14985753095853813,0.1486907848030601,0.14724492339501988,0.14552871022261143,0.1435529609929122,0.14133041811338917,0.13887560922842565,0.13620469158747034,0.13333528417437665,0.13028628964782482,0.12707770822739023,0.12373044570907668,0.12026611780670048,0.11670685299324023,0.11307509595964411,0.1093934137207925,0.10568430628167275,0.10197002363518952,0.09827239070019872,0.09461264162872657,0.09101126471948771,0.08748785897513615,0.0840610031381862,0.08074813783899398,0.07756546129352392,0.07452783880178958,0.0716487261238851,0.06894010665149025,0.06641244215149297,0.06407463673578292,0.06193401360887736,0.059996304062582065,0.058265648124480054,0.05674460622344811,0.05543418120939446,0.054333850054216065,0.05344160456412676,0.05275400044787757,0.05226621410808772,0.051972106551368295,0.051864293844393276,0.05193422357501989,0.05217225680755964,0.05256775504730752,0.053109171749625775,0.053784147921904724,0.054579611371635535,0.05548187915010978,0.05647676272886107,0.057549675425325145,0.05868574156606574,0.05986990684157609,0.061087049267635224,0.06232209012627499,0.06356010421668562,0.06478642870497994,0.06598676982385626,0.06714730664112914,0.0682547910918185,0.06929664345402368,0.07026104244577554,0.0711370091298774,0.07191448383738983,0.07258439535857039,0.07313872170291369,0.07357054179725575,0.07387407757209068,0.07404472598016597,0.07407908059670859,0.07397494256545649,0.07373132077690582,0.07334842129256561,0.07282762615897732,0.07217146188520311,0.07138355798477819,0.07046859610516185,0.06943225038198649,0.06828111975962121,0.06702265311166511,0.06566506807316212,0.06421726455922638,0.0626887339912706,0.06108946528152219,0.059429848638783485,0.05772057825353802,0.055972554899198605,0.054196789449371334,0.052404308259872176,0.050606061300334786,0.04881283384553792,0.047035162452996784,0.045283255863073434,0.043566921363113194,0.04189549706007772,0.040277790409033884,0.038722023249684344,0.03723578351181744,0.035825983664749005,0.034498825906966346,0.033259774021442534,0.03211353176025193,0.031064027569787187,0.030114405425244756,0.029267021510046863,0.028523446452139254,0.027884472814038296,0.0273501275262436,0.026919688953134766,0.02659170828560935,0.026364034964133424,0.0262338458483151,0.026197677863197932,0.026251463866922113,0.026390571498030625,0.026609844772406636,0.0269036482087163,0.02726591326655305,0.02769018688273847,0.028169681888111347,0.028697329079566052,0.02926583071027311,0.029867715145252285,0.03049539241040708,0.031141210341477377,0.03179751101607513,0.03245668712801827,0.03311123793970261,0.033753824426382695,0.034377323207111427,0.034974878841818074,0.035539954063619435,0.03606637751085135,0.036548388525257346,0.036980678591855096,0.03735842901262563,0.03767734443048879,0.03793368185205648,0.03812427485705164,0.03824655272866048,0.038298554291680664,0.038278936303317836,0.038186976303823714,0.03802256989966375,0.03778622251930394,0.037479035749662055,0.037102688428402614,0.03665941273218868,0.03615196556246352,0.03558359558700294,0.03495800634631498,0.03427931587792005,0.03355201334784126,0.032780913206648776,0.03197110740668965,0.031127916227524647,0.030256838258047734,0.029363500076541846,0.028453606154392266,0.027532889485987616,0.026607063417185998,0.02568177510857744,0.024762561028581806,0.023854804826314,0.02296369788624834,0.022094202817174995,0.021251020077892254,0.020438557892633817,0.01966090556136456,0.018921810224743704,0.0182246571015068,0.017572453177932598,0.016967814295424818,0.01641295555338878,0.015909684920704215,0.015459399930202301,0.015063087316507831,0.014721325448141663,0.014434289399487715,0.01420175850660734,0.014023126252350733,0.01389741233010694,0.013823276741183376,0.013799035787495835,0.013822679828317586,0.013891892676622568,0.01400407251648589,0.014156354227560104,0.014345633005422484,0.014568589167270416,0.014821714030847049,0.015101336750528388,0.015403651988251058,0.015724748288569602,0.016060637016884358,0.01640728170814791,0.016760627660605116,0.0171166315958747,0.017471291193524065,0.017820674295827548,0.018160947567251513,0.018488404383983286,0.01879949172207989,0.01909083580907724,0.0193592663036127,0.01960183877113086,0.019815855231318756,0.019998882564697833,0.020148768581815666,0.020263655578637244,0.020341991225825164,0.020382536667294327,0.02038437173430313,0.02034689721486594,0.0202698341538447,0.02015322019601567,0.019997403022002556,0.019803030964464192,0.01957104092857172,0.019302643775866078,0.01899930736333545,0.018662737459340998,0.018294856784249445,0.01789778244579744,0.017473802056893684,0.01702534883645654,0.01655497600178008,0.01606533076373498,0.015559128233873704,0.015039125545352293,0.014508096477758685,0.013968806859778844,0.013423991003574968,0.012876329401284203,0.012328427887741189,0.011782798444973056,0.011241841793849586,0.010707831887128507,0.010182902386648972,0.009669035176213668,0.009168050931333252,0.008681601738025518,0.00821116572573315,0.007758043654558706,0.007323357374751545,0.00690805005696745,0.006512888075449693,0.006138464413033678,0.0057852034467975625,0.00545336696620147,0.005143061271577676,0.004854245199668227,0.0045867389243348785,0.004340233384323398,0.0041143001957457456,0.003908401914438635,0.0037219025222261213,0.0035540780210298354,0.0034041270294028203,0.0032711812871026747,0.0031543159844768993,0.003052559844445906,0.002964904895509722,0.0028903158842800434,0.0028277392853961,0.002776111875205561,0.0027343688432044802,0.00270145142189398,0.002676314021421284,0.0026579308601563144,0.0026453020862662454,0.0026374593884666286,0.0026334710965433086,0.0026324467740624353,0.002633541307031588,0.0026359584932611896,0.0026389541379185136,0.00264183866137661,0.002643979226037474,0.002644801389440818,0.002643790291728592,0.002640491386476685,0.0026345107250664353,0.002625514806168969,0.002613230003556625,0.0025974415873226448,0.002577992355652244,0.002554780896502041,0.0025277595008554097,0.0024969317515668634,0.002462349814120211,0.0024241114578334327,0.0023823568380770097,0.0023372650718654856,0.002289050640672803,0.0022379596554564733,0.002184266019610658,0.002128267525870162,0.002070281923036362,0.00201064298778353,0.0019496966357351092,0.0018877971044921008,0.0018253032393781168,0.0017625749103792842,0.001699969586149768,0.0016378390880838728,0.001576526544384743,0.0015163635608549646,0.0014576676218638674,0.0014007397316771453,0.0013458623031328944,0.0012932972975739398,0.0012432846170559112,0.001196040747190154,0.0011517576465904947,0.0011106018768019517,0.0010727139648178715,0.001038207988849371,0.0010071713768964325,0.0009796649068742834,0.0009557228965522191,0.0009353535713387784,0.0009185395979631248,0.0009052387723194191,0.0008953848501162645,0.0008888885094621526,0.0008856384350751934,0.0008855025143868002,0.0008883291363725726,0.0008939485844514867,0.0009021745152135562,0.0009128055150396296,0.0009256267268448938,0.0009404115391973071,0.0009569233299288716,0.0009749172560739916,0.000994142081545811,0.0010143420334153854,0.0010352586770139872,0.001056632799364426,0.0010782062896968593,0.001099724005054609,0.001120935608284382,0.001141597365072343,0.001161473886170188,0.0011803398005904326,0.0011979813453691728,0.0012141978575263093,0.0012288031541192747,0.0012416267868033324,0.0012525151580878762,0.0012613324875160468,0.0012679616172880928,0.001272304648384211,0.001274283399999315],\"yaxis\":\"y\",\"type\":\"scatter\"}],                        {\"barmode\":\"overlay\",\"hovermode\":\"closest\",\"legend\":{\"traceorder\":\"reversed\"},\"xaxis\":{\"anchor\":\"y2\",\"domain\":[0.0,1.0],\"zeroline\":false,\"title\":{\"text\":\"Deaths\"}},\"yaxis\":{\"anchor\":\"free\",\"domain\":[0.0,1],\"position\":0.0},\"template\":{\"data\":{\"histogram2dcontour\":[{\"type\":\"histogram2dcontour\",\"colorbar\":{\"outlinewidth\":0,\"ticks\":\"\"},\"colorscale\":[[0.0,\"#0d0887\"],[0.1111111111111111,\"#46039f\"],[0.2222222222222222,\"#7201a8\"],[0.3333333333333333,\"#9c179e\"],[0.4444444444444444,\"#bd3786\"],[0.5555555555555556,\"#d8576b\"],[0.6666666666666666,\"#ed7953\"],[0.7777777777777778,\"#fb9f3a\"],[0.8888888888888888,\"#fdca26\"],[1.0,\"#f0f921\"]]}],\"choropleth\":[{\"type\":\"choropleth\",\"colorbar\":{\"outlinewidth\":0,\"ticks\":\"\"}}],\"histogram2d\":[{\"type\":\"histogram2d\",\"colorbar\":{\"outlinewidth\":0,\"ticks\":\"\"},\"colorscale\":[[0.0,\"#0d0887\"],[0.1111111111111111,\"#46039f\"],[0.2222222222222222,\"#7201a8\"],[0.3333333333333333,\"#9c179e\"],[0.4444444444444444,\"#bd3786\"],[0.5555555555555556,\"#d8576b\"],[0.6666666666666666,\"#ed7953\"],[0.7777777777777778,\"#fb9f3a\"],[0.8888888888888888,\"#fdca26\"],[1.0,\"#f0f921\"]]}],\"heatmap\":[{\"type\":\"heatmap\",\"colorbar\":{\"outlinewidth\":0,\"ticks\":\"\"},\"colorscale\":[[0.0,\"#0d0887\"],[0.1111111111111111,\"#46039f\"],[0.2222222222222222,\"#7201a8\"],[0.3333333333333333,\"#9c179e\"],[0.4444444444444444,\"#bd3786\"],[0.5555555555555556,\"#d8576b\"],[0.6666666666666666,\"#ed7953\"],[0.7777777777777778,\"#fb9f3a\"],[0.8888888888888888,\"#fdca26\"],[1.0,\"#f0f921\"]]}],\"heatmapgl\":[{\"type\":\"heatmapgl\",\"colorbar\":{\"outlinewidth\":0,\"ticks\":\"\"},\"colorscale\":[[0.0,\"#0d0887\"],[0.1111111111111111,\"#46039f\"],[0.2222222222222222,\"#7201a8\"],[0.3333333333333333,\"#9c179e\"],[0.4444444444444444,\"#bd3786\"],[0.5555555555555556,\"#d8576b\"],[0.6666666666666666,\"#ed7953\"],[0.7777777777777778,\"#fb9f3a\"],[0.8888888888888888,\"#fdca26\"],[1.0,\"#f0f921\"]]}],\"contourcarpet\":[{\"type\":\"contourcarpet\",\"colorbar\":{\"outlinewidth\":0,\"ticks\":\"\"}}],\"contour\":[{\"type\":\"contour\",\"colorbar\":{\"outlinewidth\":0,\"ticks\":\"\"},\"colorscale\":[[0.0,\"#0d0887\"],[0.1111111111111111,\"#46039f\"],[0.2222222222222222,\"#7201a8\"],[0.3333333333333333,\"#9c179e\"],[0.4444444444444444,\"#bd3786\"],[0.5555555555555556,\"#d8576b\"],[0.6666666666666666,\"#ed7953\"],[0.7777777777777778,\"#fb9f3a\"],[0.8888888888888888,\"#fdca26\"],[1.0,\"#f0f921\"]]}],\"surface\":[{\"type\":\"surface\",\"colorbar\":{\"outlinewidth\":0,\"ticks\":\"\"},\"colorscale\":[[0.0,\"#0d0887\"],[0.1111111111111111,\"#46039f\"],[0.2222222222222222,\"#7201a8\"],[0.3333333333333333,\"#9c179e\"],[0.4444444444444444,\"#bd3786\"],[0.5555555555555556,\"#d8576b\"],[0.6666666666666666,\"#ed7953\"],[0.7777777777777778,\"#fb9f3a\"],[0.8888888888888888,\"#fdca26\"],[1.0,\"#f0f921\"]]}],\"mesh3d\":[{\"type\":\"mesh3d\",\"colorbar\":{\"outlinewidth\":0,\"ticks\":\"\"}}],\"scatter\":[{\"fillpattern\":{\"fillmode\":\"overlay\",\"size\":10,\"solidity\":0.2},\"type\":\"scatter\"}],\"parcoords\":[{\"type\":\"parcoords\",\"line\":{\"colorbar\":{\"outlinewidth\":0,\"ticks\":\"\"}}}],\"scatterpolargl\":[{\"type\":\"scatterpolargl\",\"marker\":{\"colorbar\":{\"outlinewidth\":0,\"ticks\":\"\"}}}],\"bar\":[{\"error_x\":{\"color\":\"#2a3f5f\"},\"error_y\":{\"color\":\"#2a3f5f\"},\"marker\":{\"line\":{\"color\":\"#E5ECF6\",\"width\":0.5},\"pattern\":{\"fillmode\":\"overlay\",\"size\":10,\"solidity\":0.2}},\"type\":\"bar\"}],\"scattergeo\":[{\"type\":\"scattergeo\",\"marker\":{\"colorbar\":{\"outlinewidth\":0,\"ticks\":\"\"}}}],\"scatterpolar\":[{\"type\":\"scatterpolar\",\"marker\":{\"colorbar\":{\"outlinewidth\":0,\"ticks\":\"\"}}}],\"histogram\":[{\"marker\":{\"pattern\":{\"fillmode\":\"overlay\",\"size\":10,\"solidity\":0.2}},\"type\":\"histogram\"}],\"scattergl\":[{\"type\":\"scattergl\",\"marker\":{\"colorbar\":{\"outlinewidth\":0,\"ticks\":\"\"}}}],\"scatter3d\":[{\"type\":\"scatter3d\",\"line\":{\"colorbar\":{\"outlinewidth\":0,\"ticks\":\"\"}},\"marker\":{\"colorbar\":{\"outlinewidth\":0,\"ticks\":\"\"}}}],\"scattermapbox\":[{\"type\":\"scattermapbox\",\"marker\":{\"colorbar\":{\"outlinewidth\":0,\"ticks\":\"\"}}}],\"scatterternary\":[{\"type\":\"scatterternary\",\"marker\":{\"colorbar\":{\"outlinewidth\":0,\"ticks\":\"\"}}}],\"scattercarpet\":[{\"type\":\"scattercarpet\",\"marker\":{\"colorbar\":{\"outlinewidth\":0,\"ticks\":\"\"}}}],\"carpet\":[{\"aaxis\":{\"endlinecolor\":\"#2a3f5f\",\"gridcolor\":\"white\",\"linecolor\":\"white\",\"minorgridcolor\":\"white\",\"startlinecolor\":\"#2a3f5f\"},\"baxis\":{\"endlinecolor\":\"#2a3f5f\",\"gridcolor\":\"white\",\"linecolor\":\"white\",\"minorgridcolor\":\"white\",\"startlinecolor\":\"#2a3f5f\"},\"type\":\"carpet\"}],\"table\":[{\"cells\":{\"fill\":{\"color\":\"#EBF0F8\"},\"line\":{\"color\":\"white\"}},\"header\":{\"fill\":{\"color\":\"#C8D4E3\"},\"line\":{\"color\":\"white\"}},\"type\":\"table\"}],\"barpolar\":[{\"marker\":{\"line\":{\"color\":\"#E5ECF6\",\"width\":0.5},\"pattern\":{\"fillmode\":\"overlay\",\"size\":10,\"solidity\":0.2}},\"type\":\"barpolar\"}],\"pie\":[{\"automargin\":true,\"type\":\"pie\"}]},\"layout\":{\"autotypenumbers\":\"strict\",\"colorway\":[\"#636efa\",\"#EF553B\",\"#00cc96\",\"#ab63fa\",\"#FFA15A\",\"#19d3f3\",\"#FF6692\",\"#B6E880\",\"#FF97FF\",\"#FECB52\"],\"font\":{\"color\":\"#2a3f5f\"},\"hovermode\":\"closest\",\"hoverlabel\":{\"align\":\"left\"},\"paper_bgcolor\":\"white\",\"plot_bgcolor\":\"#E5ECF6\",\"polar\":{\"bgcolor\":\"#E5ECF6\",\"angularaxis\":{\"gridcolor\":\"white\",\"linecolor\":\"white\",\"ticks\":\"\"},\"radialaxis\":{\"gridcolor\":\"white\",\"linecolor\":\"white\",\"ticks\":\"\"}},\"ternary\":{\"bgcolor\":\"#E5ECF6\",\"aaxis\":{\"gridcolor\":\"white\",\"linecolor\":\"white\",\"ticks\":\"\"},\"baxis\":{\"gridcolor\":\"white\",\"linecolor\":\"white\",\"ticks\":\"\"},\"caxis\":{\"gridcolor\":\"white\",\"linecolor\":\"white\",\"ticks\":\"\"}},\"coloraxis\":{\"colorbar\":{\"outlinewidth\":0,\"ticks\":\"\"}},\"colorscale\":{\"sequential\":[[0.0,\"#0d0887\"],[0.1111111111111111,\"#46039f\"],[0.2222222222222222,\"#7201a8\"],[0.3333333333333333,\"#9c179e\"],[0.4444444444444444,\"#bd3786\"],[0.5555555555555556,\"#d8576b\"],[0.6666666666666666,\"#ed7953\"],[0.7777777777777778,\"#fb9f3a\"],[0.8888888888888888,\"#fdca26\"],[1.0,\"#f0f921\"]],\"sequentialminus\":[[0.0,\"#0d0887\"],[0.1111111111111111,\"#46039f\"],[0.2222222222222222,\"#7201a8\"],[0.3333333333333333,\"#9c179e\"],[0.4444444444444444,\"#bd3786\"],[0.5555555555555556,\"#d8576b\"],[0.6666666666666666,\"#ed7953\"],[0.7777777777777778,\"#fb9f3a\"],[0.8888888888888888,\"#fdca26\"],[1.0,\"#f0f921\"]],\"diverging\":[[0,\"#8e0152\"],[0.1,\"#c51b7d\"],[0.2,\"#de77ae\"],[0.3,\"#f1b6da\"],[0.4,\"#fde0ef\"],[0.5,\"#f7f7f7\"],[0.6,\"#e6f5d0\"],[0.7,\"#b8e186\"],[0.8,\"#7fbc41\"],[0.9,\"#4d9221\"],[1,\"#276419\"]]},\"xaxis\":{\"gridcolor\":\"white\",\"linecolor\":\"white\",\"ticks\":\"\",\"title\":{\"standoff\":15},\"zerolinecolor\":\"white\",\"automargin\":true,\"zerolinewidth\":2},\"yaxis\":{\"gridcolor\":\"white\",\"linecolor\":\"white\",\"ticks\":\"\",\"title\":{\"standoff\":15},\"zerolinecolor\":\"white\",\"automargin\":true,\"zerolinewidth\":2},\"scene\":{\"xaxis\":{\"backgroundcolor\":\"#E5ECF6\",\"gridcolor\":\"white\",\"linecolor\":\"white\",\"showbackground\":true,\"ticks\":\"\",\"zerolinecolor\":\"white\",\"gridwidth\":2},\"yaxis\":{\"backgroundcolor\":\"#E5ECF6\",\"gridcolor\":\"white\",\"linecolor\":\"white\",\"showbackground\":true,\"ticks\":\"\",\"zerolinecolor\":\"white\",\"gridwidth\":2},\"zaxis\":{\"backgroundcolor\":\"#E5ECF6\",\"gridcolor\":\"white\",\"linecolor\":\"white\",\"showbackground\":true,\"ticks\":\"\",\"zerolinecolor\":\"white\",\"gridwidth\":2}},\"shapedefaults\":{\"line\":{\"color\":\"#2a3f5f\"}},\"annotationdefaults\":{\"arrowcolor\":\"#2a3f5f\",\"arrowhead\":0,\"arrowwidth\":1},\"geo\":{\"bgcolor\":\"white\",\"landcolor\":\"#E5ECF6\",\"subunitcolor\":\"white\",\"showland\":true,\"showlakes\":true,\"lakecolor\":\"white\"},\"title\":{\"x\":0.05},\"mapbox\":{\"style\":\"light\"}}},\"title\":{\"text\":\"Distribution of Daily Deaths\"}},                        {\"responsive\": true}                    ).then(function(){\n",
       "                            \n",
       "var gd = document.getElementById('ca9b4a4a-fb3d-403e-b830-6d11f76ae75a');\n",
       "var x = new MutationObserver(function (mutations, observer) {{\n",
       "        var display = window.getComputedStyle(gd).display;\n",
       "        if (!display || display === 'none') {{\n",
       "            console.log([gd, 'removed!']);\n",
       "            Plotly.purge(gd);\n",
       "            observer.disconnect();\n",
       "        }}\n",
       "}});\n",
       "\n",
       "// Listen for the removal of the full notebook cells\n",
       "var notebookContainer = gd.closest('#notebook-container');\n",
       "if (notebookContainer) {{\n",
       "    x.observe(notebookContainer, {childList: true});\n",
       "}}\n",
       "\n",
       "// Listen for the clearing of the current output cell\n",
       "var outputEl = gd.closest('.output');\n",
       "if (outputEl) {{\n",
       "    x.observe(outputEl, {childList: true});\n",
       "}}\n",
       "\n",
       "                        })                };                });            </script>        </div>"
      ]
     },
     "metadata": {},
     "output_type": "display_data"
    }
   ],
   "source": [
    "fig = ff.create_distplot(\n",
    "    [cases['Deaths'].diff().dropna()], \n",
    "    ['Daily Deaths'],\n",
    "    show_rug=False,\n",
    "    show_hist=False\n",
    ")\n",
    "\n",
    "fig.update_xaxes(title_text=\"Deaths\")\n",
    "fig.update_layout(title_text='Distribution of Daily Deaths')\n",
    "\n",
    "fig.show()"
   ]
  },
  {
   "attachments": {},
   "cell_type": "markdown",
   "metadata": {},
   "source": [
    "#### Correlation between Positivity Rate % and Daily Deaths"
   ]
  },
  {
   "cell_type": "code",
   "execution_count": 257,
   "metadata": {},
   "outputs": [
    {
     "name": "stdout",
     "output_type": "stream",
     "text": [
      "Pearson's correlation coefficient:  0.23655013586896254\n",
      "Kendall's tau:  0.36626558686861577\n",
      "Spearman's rank correlation coefficient:  0.47716583701240944\n"
     ]
    }
   ],
   "source": [
    "calc_correlations(cases['Deaths'].diff(), positivity_rate)"
   ]
  },
  {
   "attachments": {},
   "cell_type": "markdown",
   "metadata": {},
   "source": [
    "### Hospitalizations, ICU & Positivity Rate"
   ]
  },
  {
   "cell_type": "code",
   "execution_count": 63,
   "metadata": {},
   "outputs": [
    {
     "data": {
      "application/vnd.plotly.v1+json": {
       "config": {
        "plotlyServerURL": "https://plot.ly"
       },
       "data": [
        {
         "name": "Hospitalizations",
         "type": "bar",
         "x": [
          "03/2020",
          "04/2020",
          "05/2020",
          "06/2020",
          "07/2020",
          "08/2020",
          "09/2020",
          "10/2020",
          "11/2020",
          "12/2020",
          "01/2021",
          "02/2021",
          "03/2021",
          "04/2021",
          "05/2021",
          "06/2021",
          "07/2021",
          "08/2021",
          "09/2021",
          "10/2021",
          "11/2021",
          "12/2021",
          "01/2022",
          "02/2022",
          "03/2022",
          "04/2022",
          "05/2022",
          "06/2022",
          "07/2022",
          "08/2022",
          "09/2022",
          "10/2022",
          "11/2022",
          "12/2022",
          "01/2023"
         ],
         "y": [
          16,
          12,
          9,
          10,
          1,
          33,
          35,
          63,
          85,
          56,
          49,
          59,
          89,
          38,
          21,
          5,
          49,
          48,
          24,
          18,
          25,
          110,
          68,
          16,
          93,
          null,
          null,
          null,
          null,
          null,
          null,
          null,
          null,
          null,
          null
         ]
        },
        {
         "name": "ICU",
         "type": "bar",
         "x": [
          "03/2020",
          "04/2020",
          "05/2020",
          "06/2020",
          "07/2020",
          "08/2020",
          "09/2020",
          "10/2020",
          "11/2020",
          "12/2020",
          "01/2021",
          "02/2021",
          "03/2021",
          "04/2021",
          "05/2021",
          "06/2021",
          "07/2021",
          "08/2021",
          "09/2021",
          "10/2021",
          "11/2021",
          "12/2021",
          "01/2022",
          "02/2022",
          "03/2022",
          "04/2022",
          "05/2022",
          "06/2022",
          "07/2022",
          "08/2022",
          "09/2022",
          "10/2022",
          "11/2022",
          "12/2022",
          "01/2023"
         ],
         "y": [
          4,
          2,
          3,
          0,
          0,
          0,
          5,
          3,
          20,
          3,
          17,
          13,
          4,
          7,
          2,
          0,
          2,
          5,
          0,
          5,
          1,
          6,
          0,
          1,
          3,
          4,
          3,
          3,
          4,
          1,
          0,
          2,
          1,
          1,
          0
         ]
        },
        {
         "mode": "lines+markers",
         "name": "Positivity Rate",
         "type": "scatter",
         "x": [
          "03/2020",
          "04/2020",
          "05/2020",
          "06/2020",
          "07/2020",
          "08/2020",
          "09/2020",
          "10/2020",
          "11/2020",
          "12/2020",
          "01/2021",
          "02/2021",
          "03/2021",
          "04/2021",
          "05/2021",
          "06/2021",
          "07/2021",
          "08/2021",
          "09/2021",
          "10/2021",
          "11/2021",
          "12/2021",
          "01/2022",
          "02/2022",
          "03/2022",
          "04/2022",
          "05/2022",
          "06/2022",
          "07/2022",
          "08/2022",
          "09/2022",
          "10/2022",
          "11/2022",
          "12/2022",
          "01/2023"
         ],
         "xaxis": "x",
         "y": [
          null,
          null,
          null,
          null,
          1.0316875460574797,
          1.8255387221228947,
          1.834561578815888,
          3.5875733384630184,
          4.207624465946908,
          3.3439380316757727,
          5.229351250497038,
          5.2940700403500855,
          6.010532883147387,
          2.1721502389537792,
          0.4068511728364056,
          0.14823049842505095,
          3.467847800013222,
          1.8701277987120444,
          1.037897038066837,
          0.9066150648606034,
          2.7616346645590215,
          8.898189365595217,
          11.410435863080757,
          6.829436830588506,
          12.374081336346899,
          15.882850634559063,
          7.301703163017032,
          20.14889529298751,
          18.420502688223113,
          4.963645964498964,
          3.722818208176283,
          4.120155524896526,
          3.8138231631382316,
          5.994280686317642,
          8.588261953319737
         ],
         "yaxis": "y2"
        }
       ],
       "layout": {
        "barmode": "group",
        "template": {
         "data": {
          "bar": [
           {
            "error_x": {
             "color": "#2a3f5f"
            },
            "error_y": {
             "color": "#2a3f5f"
            },
            "marker": {
             "line": {
              "color": "#E5ECF6",
              "width": 0.5
             },
             "pattern": {
              "fillmode": "overlay",
              "size": 10,
              "solidity": 0.2
             }
            },
            "type": "bar"
           }
          ],
          "barpolar": [
           {
            "marker": {
             "line": {
              "color": "#E5ECF6",
              "width": 0.5
             },
             "pattern": {
              "fillmode": "overlay",
              "size": 10,
              "solidity": 0.2
             }
            },
            "type": "barpolar"
           }
          ],
          "carpet": [
           {
            "aaxis": {
             "endlinecolor": "#2a3f5f",
             "gridcolor": "white",
             "linecolor": "white",
             "minorgridcolor": "white",
             "startlinecolor": "#2a3f5f"
            },
            "baxis": {
             "endlinecolor": "#2a3f5f",
             "gridcolor": "white",
             "linecolor": "white",
             "minorgridcolor": "white",
             "startlinecolor": "#2a3f5f"
            },
            "type": "carpet"
           }
          ],
          "choropleth": [
           {
            "colorbar": {
             "outlinewidth": 0,
             "ticks": ""
            },
            "type": "choropleth"
           }
          ],
          "contour": [
           {
            "colorbar": {
             "outlinewidth": 0,
             "ticks": ""
            },
            "colorscale": [
             [
              0,
              "#0d0887"
             ],
             [
              0.1111111111111111,
              "#46039f"
             ],
             [
              0.2222222222222222,
              "#7201a8"
             ],
             [
              0.3333333333333333,
              "#9c179e"
             ],
             [
              0.4444444444444444,
              "#bd3786"
             ],
             [
              0.5555555555555556,
              "#d8576b"
             ],
             [
              0.6666666666666666,
              "#ed7953"
             ],
             [
              0.7777777777777778,
              "#fb9f3a"
             ],
             [
              0.8888888888888888,
              "#fdca26"
             ],
             [
              1,
              "#f0f921"
             ]
            ],
            "type": "contour"
           }
          ],
          "contourcarpet": [
           {
            "colorbar": {
             "outlinewidth": 0,
             "ticks": ""
            },
            "type": "contourcarpet"
           }
          ],
          "heatmap": [
           {
            "colorbar": {
             "outlinewidth": 0,
             "ticks": ""
            },
            "colorscale": [
             [
              0,
              "#0d0887"
             ],
             [
              0.1111111111111111,
              "#46039f"
             ],
             [
              0.2222222222222222,
              "#7201a8"
             ],
             [
              0.3333333333333333,
              "#9c179e"
             ],
             [
              0.4444444444444444,
              "#bd3786"
             ],
             [
              0.5555555555555556,
              "#d8576b"
             ],
             [
              0.6666666666666666,
              "#ed7953"
             ],
             [
              0.7777777777777778,
              "#fb9f3a"
             ],
             [
              0.8888888888888888,
              "#fdca26"
             ],
             [
              1,
              "#f0f921"
             ]
            ],
            "type": "heatmap"
           }
          ],
          "heatmapgl": [
           {
            "colorbar": {
             "outlinewidth": 0,
             "ticks": ""
            },
            "colorscale": [
             [
              0,
              "#0d0887"
             ],
             [
              0.1111111111111111,
              "#46039f"
             ],
             [
              0.2222222222222222,
              "#7201a8"
             ],
             [
              0.3333333333333333,
              "#9c179e"
             ],
             [
              0.4444444444444444,
              "#bd3786"
             ],
             [
              0.5555555555555556,
              "#d8576b"
             ],
             [
              0.6666666666666666,
              "#ed7953"
             ],
             [
              0.7777777777777778,
              "#fb9f3a"
             ],
             [
              0.8888888888888888,
              "#fdca26"
             ],
             [
              1,
              "#f0f921"
             ]
            ],
            "type": "heatmapgl"
           }
          ],
          "histogram": [
           {
            "marker": {
             "pattern": {
              "fillmode": "overlay",
              "size": 10,
              "solidity": 0.2
             }
            },
            "type": "histogram"
           }
          ],
          "histogram2d": [
           {
            "colorbar": {
             "outlinewidth": 0,
             "ticks": ""
            },
            "colorscale": [
             [
              0,
              "#0d0887"
             ],
             [
              0.1111111111111111,
              "#46039f"
             ],
             [
              0.2222222222222222,
              "#7201a8"
             ],
             [
              0.3333333333333333,
              "#9c179e"
             ],
             [
              0.4444444444444444,
              "#bd3786"
             ],
             [
              0.5555555555555556,
              "#d8576b"
             ],
             [
              0.6666666666666666,
              "#ed7953"
             ],
             [
              0.7777777777777778,
              "#fb9f3a"
             ],
             [
              0.8888888888888888,
              "#fdca26"
             ],
             [
              1,
              "#f0f921"
             ]
            ],
            "type": "histogram2d"
           }
          ],
          "histogram2dcontour": [
           {
            "colorbar": {
             "outlinewidth": 0,
             "ticks": ""
            },
            "colorscale": [
             [
              0,
              "#0d0887"
             ],
             [
              0.1111111111111111,
              "#46039f"
             ],
             [
              0.2222222222222222,
              "#7201a8"
             ],
             [
              0.3333333333333333,
              "#9c179e"
             ],
             [
              0.4444444444444444,
              "#bd3786"
             ],
             [
              0.5555555555555556,
              "#d8576b"
             ],
             [
              0.6666666666666666,
              "#ed7953"
             ],
             [
              0.7777777777777778,
              "#fb9f3a"
             ],
             [
              0.8888888888888888,
              "#fdca26"
             ],
             [
              1,
              "#f0f921"
             ]
            ],
            "type": "histogram2dcontour"
           }
          ],
          "mesh3d": [
           {
            "colorbar": {
             "outlinewidth": 0,
             "ticks": ""
            },
            "type": "mesh3d"
           }
          ],
          "parcoords": [
           {
            "line": {
             "colorbar": {
              "outlinewidth": 0,
              "ticks": ""
             }
            },
            "type": "parcoords"
           }
          ],
          "pie": [
           {
            "automargin": true,
            "type": "pie"
           }
          ],
          "scatter": [
           {
            "fillpattern": {
             "fillmode": "overlay",
             "size": 10,
             "solidity": 0.2
            },
            "type": "scatter"
           }
          ],
          "scatter3d": [
           {
            "line": {
             "colorbar": {
              "outlinewidth": 0,
              "ticks": ""
             }
            },
            "marker": {
             "colorbar": {
              "outlinewidth": 0,
              "ticks": ""
             }
            },
            "type": "scatter3d"
           }
          ],
          "scattercarpet": [
           {
            "marker": {
             "colorbar": {
              "outlinewidth": 0,
              "ticks": ""
             }
            },
            "type": "scattercarpet"
           }
          ],
          "scattergeo": [
           {
            "marker": {
             "colorbar": {
              "outlinewidth": 0,
              "ticks": ""
             }
            },
            "type": "scattergeo"
           }
          ],
          "scattergl": [
           {
            "marker": {
             "colorbar": {
              "outlinewidth": 0,
              "ticks": ""
             }
            },
            "type": "scattergl"
           }
          ],
          "scattermapbox": [
           {
            "marker": {
             "colorbar": {
              "outlinewidth": 0,
              "ticks": ""
             }
            },
            "type": "scattermapbox"
           }
          ],
          "scatterpolar": [
           {
            "marker": {
             "colorbar": {
              "outlinewidth": 0,
              "ticks": ""
             }
            },
            "type": "scatterpolar"
           }
          ],
          "scatterpolargl": [
           {
            "marker": {
             "colorbar": {
              "outlinewidth": 0,
              "ticks": ""
             }
            },
            "type": "scatterpolargl"
           }
          ],
          "scatterternary": [
           {
            "marker": {
             "colorbar": {
              "outlinewidth": 0,
              "ticks": ""
             }
            },
            "type": "scatterternary"
           }
          ],
          "surface": [
           {
            "colorbar": {
             "outlinewidth": 0,
             "ticks": ""
            },
            "colorscale": [
             [
              0,
              "#0d0887"
             ],
             [
              0.1111111111111111,
              "#46039f"
             ],
             [
              0.2222222222222222,
              "#7201a8"
             ],
             [
              0.3333333333333333,
              "#9c179e"
             ],
             [
              0.4444444444444444,
              "#bd3786"
             ],
             [
              0.5555555555555556,
              "#d8576b"
             ],
             [
              0.6666666666666666,
              "#ed7953"
             ],
             [
              0.7777777777777778,
              "#fb9f3a"
             ],
             [
              0.8888888888888888,
              "#fdca26"
             ],
             [
              1,
              "#f0f921"
             ]
            ],
            "type": "surface"
           }
          ],
          "table": [
           {
            "cells": {
             "fill": {
              "color": "#EBF0F8"
             },
             "line": {
              "color": "white"
             }
            },
            "header": {
             "fill": {
              "color": "#C8D4E3"
             },
             "line": {
              "color": "white"
             }
            },
            "type": "table"
           }
          ]
         },
         "layout": {
          "annotationdefaults": {
           "arrowcolor": "#2a3f5f",
           "arrowhead": 0,
           "arrowwidth": 1
          },
          "autotypenumbers": "strict",
          "coloraxis": {
           "colorbar": {
            "outlinewidth": 0,
            "ticks": ""
           }
          },
          "colorscale": {
           "diverging": [
            [
             0,
             "#8e0152"
            ],
            [
             0.1,
             "#c51b7d"
            ],
            [
             0.2,
             "#de77ae"
            ],
            [
             0.3,
             "#f1b6da"
            ],
            [
             0.4,
             "#fde0ef"
            ],
            [
             0.5,
             "#f7f7f7"
            ],
            [
             0.6,
             "#e6f5d0"
            ],
            [
             0.7,
             "#b8e186"
            ],
            [
             0.8,
             "#7fbc41"
            ],
            [
             0.9,
             "#4d9221"
            ],
            [
             1,
             "#276419"
            ]
           ],
           "sequential": [
            [
             0,
             "#0d0887"
            ],
            [
             0.1111111111111111,
             "#46039f"
            ],
            [
             0.2222222222222222,
             "#7201a8"
            ],
            [
             0.3333333333333333,
             "#9c179e"
            ],
            [
             0.4444444444444444,
             "#bd3786"
            ],
            [
             0.5555555555555556,
             "#d8576b"
            ],
            [
             0.6666666666666666,
             "#ed7953"
            ],
            [
             0.7777777777777778,
             "#fb9f3a"
            ],
            [
             0.8888888888888888,
             "#fdca26"
            ],
            [
             1,
             "#f0f921"
            ]
           ],
           "sequentialminus": [
            [
             0,
             "#0d0887"
            ],
            [
             0.1111111111111111,
             "#46039f"
            ],
            [
             0.2222222222222222,
             "#7201a8"
            ],
            [
             0.3333333333333333,
             "#9c179e"
            ],
            [
             0.4444444444444444,
             "#bd3786"
            ],
            [
             0.5555555555555556,
             "#d8576b"
            ],
            [
             0.6666666666666666,
             "#ed7953"
            ],
            [
             0.7777777777777778,
             "#fb9f3a"
            ],
            [
             0.8888888888888888,
             "#fdca26"
            ],
            [
             1,
             "#f0f921"
            ]
           ]
          },
          "colorway": [
           "#636efa",
           "#EF553B",
           "#00cc96",
           "#ab63fa",
           "#FFA15A",
           "#19d3f3",
           "#FF6692",
           "#B6E880",
           "#FF97FF",
           "#FECB52"
          ],
          "font": {
           "color": "#2a3f5f"
          },
          "geo": {
           "bgcolor": "white",
           "lakecolor": "white",
           "landcolor": "#E5ECF6",
           "showlakes": true,
           "showland": true,
           "subunitcolor": "white"
          },
          "hoverlabel": {
           "align": "left"
          },
          "hovermode": "closest",
          "mapbox": {
           "style": "light"
          },
          "paper_bgcolor": "white",
          "plot_bgcolor": "#E5ECF6",
          "polar": {
           "angularaxis": {
            "gridcolor": "white",
            "linecolor": "white",
            "ticks": ""
           },
           "bgcolor": "#E5ECF6",
           "radialaxis": {
            "gridcolor": "white",
            "linecolor": "white",
            "ticks": ""
           }
          },
          "scene": {
           "xaxis": {
            "backgroundcolor": "#E5ECF6",
            "gridcolor": "white",
            "gridwidth": 2,
            "linecolor": "white",
            "showbackground": true,
            "ticks": "",
            "zerolinecolor": "white"
           },
           "yaxis": {
            "backgroundcolor": "#E5ECF6",
            "gridcolor": "white",
            "gridwidth": 2,
            "linecolor": "white",
            "showbackground": true,
            "ticks": "",
            "zerolinecolor": "white"
           },
           "zaxis": {
            "backgroundcolor": "#E5ECF6",
            "gridcolor": "white",
            "gridwidth": 2,
            "linecolor": "white",
            "showbackground": true,
            "ticks": "",
            "zerolinecolor": "white"
           }
          },
          "shapedefaults": {
           "line": {
            "color": "#2a3f5f"
           }
          },
          "ternary": {
           "aaxis": {
            "gridcolor": "white",
            "linecolor": "white",
            "ticks": ""
           },
           "baxis": {
            "gridcolor": "white",
            "linecolor": "white",
            "ticks": ""
           },
           "bgcolor": "#E5ECF6",
           "caxis": {
            "gridcolor": "white",
            "linecolor": "white",
            "ticks": ""
           }
          },
          "title": {
           "x": 0.05
          },
          "xaxis": {
           "automargin": true,
           "gridcolor": "white",
           "linecolor": "white",
           "ticks": "",
           "title": {
            "standoff": 15
           },
           "zerolinecolor": "white",
           "zerolinewidth": 2
          },
          "yaxis": {
           "automargin": true,
           "gridcolor": "white",
           "linecolor": "white",
           "ticks": "",
           "title": {
            "standoff": 15
           },
           "zerolinecolor": "white",
           "zerolinewidth": 2
          }
         }
        },
        "title": {
         "text": "Hospitalizations, ICU & Positivity Rate %"
        },
        "xaxis": {
         "anchor": "y",
         "domain": [
          0,
          0.94
         ]
        },
        "yaxis": {
         "anchor": "x",
         "domain": [
          0,
          1
         ],
         "title": {
          "text": "Cases"
         }
        },
        "yaxis2": {
         "anchor": "x",
         "overlaying": "y",
         "side": "right",
         "title": {
          "text": "Rate %"
         }
        }
       }
      },
      "text/html": [
       "<div>                            <div id=\"aa85bfb9-51dd-498b-91a7-99003fb36da3\" class=\"plotly-graph-div\" style=\"height:525px; width:100%;\"></div>            <script type=\"text/javascript\">                require([\"plotly\"], function(Plotly) {                    window.PLOTLYENV=window.PLOTLYENV || {};                                    if (document.getElementById(\"aa85bfb9-51dd-498b-91a7-99003fb36da3\")) {                    Plotly.newPlot(                        \"aa85bfb9-51dd-498b-91a7-99003fb36da3\",                        [{\"name\":\"Hospitalizations\",\"x\":[\"03/2020\",\"04/2020\",\"05/2020\",\"06/2020\",\"07/2020\",\"08/2020\",\"09/2020\",\"10/2020\",\"11/2020\",\"12/2020\",\"01/2021\",\"02/2021\",\"03/2021\",\"04/2021\",\"05/2021\",\"06/2021\",\"07/2021\",\"08/2021\",\"09/2021\",\"10/2021\",\"11/2021\",\"12/2021\",\"01/2022\",\"02/2022\",\"03/2022\",\"04/2022\",\"05/2022\",\"06/2022\",\"07/2022\",\"08/2022\",\"09/2022\",\"10/2022\",\"11/2022\",\"12/2022\",\"01/2023\"],\"y\":[16.0,12.0,9.0,10.0,1.0,33.0,35.0,63.0,85.0,56.0,49.0,59.0,89.0,38.0,21.0,5.0,49.0,48.0,24.0,18.0,25.0,110.0,68.0,16.0,93.0,null,null,null,null,null,null,null,null,null,null],\"type\":\"bar\"},{\"name\":\"ICU\",\"x\":[\"03/2020\",\"04/2020\",\"05/2020\",\"06/2020\",\"07/2020\",\"08/2020\",\"09/2020\",\"10/2020\",\"11/2020\",\"12/2020\",\"01/2021\",\"02/2021\",\"03/2021\",\"04/2021\",\"05/2021\",\"06/2021\",\"07/2021\",\"08/2021\",\"09/2021\",\"10/2021\",\"11/2021\",\"12/2021\",\"01/2022\",\"02/2022\",\"03/2022\",\"04/2022\",\"05/2022\",\"06/2022\",\"07/2022\",\"08/2022\",\"09/2022\",\"10/2022\",\"11/2022\",\"12/2022\",\"01/2023\"],\"y\":[4,2,3,0,0,0,5,3,20,3,17,13,4,7,2,0,2,5,0,5,1,6,0,1,3,4,3,3,4,1,0,2,1,1,0],\"type\":\"bar\"},{\"mode\":\"lines+markers\",\"name\":\"Positivity Rate\",\"x\":[\"03/2020\",\"04/2020\",\"05/2020\",\"06/2020\",\"07/2020\",\"08/2020\",\"09/2020\",\"10/2020\",\"11/2020\",\"12/2020\",\"01/2021\",\"02/2021\",\"03/2021\",\"04/2021\",\"05/2021\",\"06/2021\",\"07/2021\",\"08/2021\",\"09/2021\",\"10/2021\",\"11/2021\",\"12/2021\",\"01/2022\",\"02/2022\",\"03/2022\",\"04/2022\",\"05/2022\",\"06/2022\",\"07/2022\",\"08/2022\",\"09/2022\",\"10/2022\",\"11/2022\",\"12/2022\",\"01/2023\"],\"y\":[null,null,null,null,1.0316875460574797,1.8255387221228947,1.834561578815888,3.5875733384630184,4.207624465946908,3.3439380316757727,5.229351250497038,5.2940700403500855,6.010532883147387,2.1721502389537792,0.4068511728364056,0.14823049842505095,3.467847800013222,1.8701277987120444,1.037897038066837,0.9066150648606034,2.7616346645590215,8.898189365595217,11.410435863080757,6.829436830588506,12.374081336346899,15.882850634559063,7.301703163017032,20.14889529298751,18.420502688223113,4.963645964498964,3.722818208176283,4.120155524896526,3.8138231631382316,5.994280686317642,8.588261953319737],\"type\":\"scatter\",\"xaxis\":\"x\",\"yaxis\":\"y2\"}],                        {\"template\":{\"data\":{\"histogram2dcontour\":[{\"type\":\"histogram2dcontour\",\"colorbar\":{\"outlinewidth\":0,\"ticks\":\"\"},\"colorscale\":[[0.0,\"#0d0887\"],[0.1111111111111111,\"#46039f\"],[0.2222222222222222,\"#7201a8\"],[0.3333333333333333,\"#9c179e\"],[0.4444444444444444,\"#bd3786\"],[0.5555555555555556,\"#d8576b\"],[0.6666666666666666,\"#ed7953\"],[0.7777777777777778,\"#fb9f3a\"],[0.8888888888888888,\"#fdca26\"],[1.0,\"#f0f921\"]]}],\"choropleth\":[{\"type\":\"choropleth\",\"colorbar\":{\"outlinewidth\":0,\"ticks\":\"\"}}],\"histogram2d\":[{\"type\":\"histogram2d\",\"colorbar\":{\"outlinewidth\":0,\"ticks\":\"\"},\"colorscale\":[[0.0,\"#0d0887\"],[0.1111111111111111,\"#46039f\"],[0.2222222222222222,\"#7201a8\"],[0.3333333333333333,\"#9c179e\"],[0.4444444444444444,\"#bd3786\"],[0.5555555555555556,\"#d8576b\"],[0.6666666666666666,\"#ed7953\"],[0.7777777777777778,\"#fb9f3a\"],[0.8888888888888888,\"#fdca26\"],[1.0,\"#f0f921\"]]}],\"heatmap\":[{\"type\":\"heatmap\",\"colorbar\":{\"outlinewidth\":0,\"ticks\":\"\"},\"colorscale\":[[0.0,\"#0d0887\"],[0.1111111111111111,\"#46039f\"],[0.2222222222222222,\"#7201a8\"],[0.3333333333333333,\"#9c179e\"],[0.4444444444444444,\"#bd3786\"],[0.5555555555555556,\"#d8576b\"],[0.6666666666666666,\"#ed7953\"],[0.7777777777777778,\"#fb9f3a\"],[0.8888888888888888,\"#fdca26\"],[1.0,\"#f0f921\"]]}],\"heatmapgl\":[{\"type\":\"heatmapgl\",\"colorbar\":{\"outlinewidth\":0,\"ticks\":\"\"},\"colorscale\":[[0.0,\"#0d0887\"],[0.1111111111111111,\"#46039f\"],[0.2222222222222222,\"#7201a8\"],[0.3333333333333333,\"#9c179e\"],[0.4444444444444444,\"#bd3786\"],[0.5555555555555556,\"#d8576b\"],[0.6666666666666666,\"#ed7953\"],[0.7777777777777778,\"#fb9f3a\"],[0.8888888888888888,\"#fdca26\"],[1.0,\"#f0f921\"]]}],\"contourcarpet\":[{\"type\":\"contourcarpet\",\"colorbar\":{\"outlinewidth\":0,\"ticks\":\"\"}}],\"contour\":[{\"type\":\"contour\",\"colorbar\":{\"outlinewidth\":0,\"ticks\":\"\"},\"colorscale\":[[0.0,\"#0d0887\"],[0.1111111111111111,\"#46039f\"],[0.2222222222222222,\"#7201a8\"],[0.3333333333333333,\"#9c179e\"],[0.4444444444444444,\"#bd3786\"],[0.5555555555555556,\"#d8576b\"],[0.6666666666666666,\"#ed7953\"],[0.7777777777777778,\"#fb9f3a\"],[0.8888888888888888,\"#fdca26\"],[1.0,\"#f0f921\"]]}],\"surface\":[{\"type\":\"surface\",\"colorbar\":{\"outlinewidth\":0,\"ticks\":\"\"},\"colorscale\":[[0.0,\"#0d0887\"],[0.1111111111111111,\"#46039f\"],[0.2222222222222222,\"#7201a8\"],[0.3333333333333333,\"#9c179e\"],[0.4444444444444444,\"#bd3786\"],[0.5555555555555556,\"#d8576b\"],[0.6666666666666666,\"#ed7953\"],[0.7777777777777778,\"#fb9f3a\"],[0.8888888888888888,\"#fdca26\"],[1.0,\"#f0f921\"]]}],\"mesh3d\":[{\"type\":\"mesh3d\",\"colorbar\":{\"outlinewidth\":0,\"ticks\":\"\"}}],\"scatter\":[{\"fillpattern\":{\"fillmode\":\"overlay\",\"size\":10,\"solidity\":0.2},\"type\":\"scatter\"}],\"parcoords\":[{\"type\":\"parcoords\",\"line\":{\"colorbar\":{\"outlinewidth\":0,\"ticks\":\"\"}}}],\"scatterpolargl\":[{\"type\":\"scatterpolargl\",\"marker\":{\"colorbar\":{\"outlinewidth\":0,\"ticks\":\"\"}}}],\"bar\":[{\"error_x\":{\"color\":\"#2a3f5f\"},\"error_y\":{\"color\":\"#2a3f5f\"},\"marker\":{\"line\":{\"color\":\"#E5ECF6\",\"width\":0.5},\"pattern\":{\"fillmode\":\"overlay\",\"size\":10,\"solidity\":0.2}},\"type\":\"bar\"}],\"scattergeo\":[{\"type\":\"scattergeo\",\"marker\":{\"colorbar\":{\"outlinewidth\":0,\"ticks\":\"\"}}}],\"scatterpolar\":[{\"type\":\"scatterpolar\",\"marker\":{\"colorbar\":{\"outlinewidth\":0,\"ticks\":\"\"}}}],\"histogram\":[{\"marker\":{\"pattern\":{\"fillmode\":\"overlay\",\"size\":10,\"solidity\":0.2}},\"type\":\"histogram\"}],\"scattergl\":[{\"type\":\"scattergl\",\"marker\":{\"colorbar\":{\"outlinewidth\":0,\"ticks\":\"\"}}}],\"scatter3d\":[{\"type\":\"scatter3d\",\"line\":{\"colorbar\":{\"outlinewidth\":0,\"ticks\":\"\"}},\"marker\":{\"colorbar\":{\"outlinewidth\":0,\"ticks\":\"\"}}}],\"scattermapbox\":[{\"type\":\"scattermapbox\",\"marker\":{\"colorbar\":{\"outlinewidth\":0,\"ticks\":\"\"}}}],\"scatterternary\":[{\"type\":\"scatterternary\",\"marker\":{\"colorbar\":{\"outlinewidth\":0,\"ticks\":\"\"}}}],\"scattercarpet\":[{\"type\":\"scattercarpet\",\"marker\":{\"colorbar\":{\"outlinewidth\":0,\"ticks\":\"\"}}}],\"carpet\":[{\"aaxis\":{\"endlinecolor\":\"#2a3f5f\",\"gridcolor\":\"white\",\"linecolor\":\"white\",\"minorgridcolor\":\"white\",\"startlinecolor\":\"#2a3f5f\"},\"baxis\":{\"endlinecolor\":\"#2a3f5f\",\"gridcolor\":\"white\",\"linecolor\":\"white\",\"minorgridcolor\":\"white\",\"startlinecolor\":\"#2a3f5f\"},\"type\":\"carpet\"}],\"table\":[{\"cells\":{\"fill\":{\"color\":\"#EBF0F8\"},\"line\":{\"color\":\"white\"}},\"header\":{\"fill\":{\"color\":\"#C8D4E3\"},\"line\":{\"color\":\"white\"}},\"type\":\"table\"}],\"barpolar\":[{\"marker\":{\"line\":{\"color\":\"#E5ECF6\",\"width\":0.5},\"pattern\":{\"fillmode\":\"overlay\",\"size\":10,\"solidity\":0.2}},\"type\":\"barpolar\"}],\"pie\":[{\"automargin\":true,\"type\":\"pie\"}]},\"layout\":{\"autotypenumbers\":\"strict\",\"colorway\":[\"#636efa\",\"#EF553B\",\"#00cc96\",\"#ab63fa\",\"#FFA15A\",\"#19d3f3\",\"#FF6692\",\"#B6E880\",\"#FF97FF\",\"#FECB52\"],\"font\":{\"color\":\"#2a3f5f\"},\"hovermode\":\"closest\",\"hoverlabel\":{\"align\":\"left\"},\"paper_bgcolor\":\"white\",\"plot_bgcolor\":\"#E5ECF6\",\"polar\":{\"bgcolor\":\"#E5ECF6\",\"angularaxis\":{\"gridcolor\":\"white\",\"linecolor\":\"white\",\"ticks\":\"\"},\"radialaxis\":{\"gridcolor\":\"white\",\"linecolor\":\"white\",\"ticks\":\"\"}},\"ternary\":{\"bgcolor\":\"#E5ECF6\",\"aaxis\":{\"gridcolor\":\"white\",\"linecolor\":\"white\",\"ticks\":\"\"},\"baxis\":{\"gridcolor\":\"white\",\"linecolor\":\"white\",\"ticks\":\"\"},\"caxis\":{\"gridcolor\":\"white\",\"linecolor\":\"white\",\"ticks\":\"\"}},\"coloraxis\":{\"colorbar\":{\"outlinewidth\":0,\"ticks\":\"\"}},\"colorscale\":{\"sequential\":[[0.0,\"#0d0887\"],[0.1111111111111111,\"#46039f\"],[0.2222222222222222,\"#7201a8\"],[0.3333333333333333,\"#9c179e\"],[0.4444444444444444,\"#bd3786\"],[0.5555555555555556,\"#d8576b\"],[0.6666666666666666,\"#ed7953\"],[0.7777777777777778,\"#fb9f3a\"],[0.8888888888888888,\"#fdca26\"],[1.0,\"#f0f921\"]],\"sequentialminus\":[[0.0,\"#0d0887\"],[0.1111111111111111,\"#46039f\"],[0.2222222222222222,\"#7201a8\"],[0.3333333333333333,\"#9c179e\"],[0.4444444444444444,\"#bd3786\"],[0.5555555555555556,\"#d8576b\"],[0.6666666666666666,\"#ed7953\"],[0.7777777777777778,\"#fb9f3a\"],[0.8888888888888888,\"#fdca26\"],[1.0,\"#f0f921\"]],\"diverging\":[[0,\"#8e0152\"],[0.1,\"#c51b7d\"],[0.2,\"#de77ae\"],[0.3,\"#f1b6da\"],[0.4,\"#fde0ef\"],[0.5,\"#f7f7f7\"],[0.6,\"#e6f5d0\"],[0.7,\"#b8e186\"],[0.8,\"#7fbc41\"],[0.9,\"#4d9221\"],[1,\"#276419\"]]},\"xaxis\":{\"gridcolor\":\"white\",\"linecolor\":\"white\",\"ticks\":\"\",\"title\":{\"standoff\":15},\"zerolinecolor\":\"white\",\"automargin\":true,\"zerolinewidth\":2},\"yaxis\":{\"gridcolor\":\"white\",\"linecolor\":\"white\",\"ticks\":\"\",\"title\":{\"standoff\":15},\"zerolinecolor\":\"white\",\"automargin\":true,\"zerolinewidth\":2},\"scene\":{\"xaxis\":{\"backgroundcolor\":\"#E5ECF6\",\"gridcolor\":\"white\",\"linecolor\":\"white\",\"showbackground\":true,\"ticks\":\"\",\"zerolinecolor\":\"white\",\"gridwidth\":2},\"yaxis\":{\"backgroundcolor\":\"#E5ECF6\",\"gridcolor\":\"white\",\"linecolor\":\"white\",\"showbackground\":true,\"ticks\":\"\",\"zerolinecolor\":\"white\",\"gridwidth\":2},\"zaxis\":{\"backgroundcolor\":\"#E5ECF6\",\"gridcolor\":\"white\",\"linecolor\":\"white\",\"showbackground\":true,\"ticks\":\"\",\"zerolinecolor\":\"white\",\"gridwidth\":2}},\"shapedefaults\":{\"line\":{\"color\":\"#2a3f5f\"}},\"annotationdefaults\":{\"arrowcolor\":\"#2a3f5f\",\"arrowhead\":0,\"arrowwidth\":1},\"geo\":{\"bgcolor\":\"white\",\"landcolor\":\"#E5ECF6\",\"subunitcolor\":\"white\",\"showland\":true,\"showlakes\":true,\"lakecolor\":\"white\"},\"title\":{\"x\":0.05},\"mapbox\":{\"style\":\"light\"}}},\"xaxis\":{\"anchor\":\"y\",\"domain\":[0.0,0.94]},\"yaxis\":{\"anchor\":\"x\",\"domain\":[0.0,1.0],\"title\":{\"text\":\"Cases\"}},\"yaxis2\":{\"anchor\":\"x\",\"overlaying\":\"y\",\"side\":\"right\",\"title\":{\"text\":\"Rate %\"}},\"barmode\":\"group\",\"title\":{\"text\":\"Hospitalizations, ICU & Positivity Rate %\"}},                        {\"responsive\": true}                    ).then(function(){\n",
       "                            \n",
       "var gd = document.getElementById('aa85bfb9-51dd-498b-91a7-99003fb36da3');\n",
       "var x = new MutationObserver(function (mutations, observer) {{\n",
       "        var display = window.getComputedStyle(gd).display;\n",
       "        if (!display || display === 'none') {{\n",
       "            console.log([gd, 'removed!']);\n",
       "            Plotly.purge(gd);\n",
       "            observer.disconnect();\n",
       "        }}\n",
       "}});\n",
       "\n",
       "// Listen for the removal of the full notebook cells\n",
       "var notebookContainer = gd.closest('#notebook-container');\n",
       "if (notebookContainer) {{\n",
       "    x.observe(notebookContainer, {childList: true});\n",
       "}}\n",
       "\n",
       "// Listen for the clearing of the current output cell\n",
       "var outputEl = gd.closest('.output');\n",
       "if (outputEl) {{\n",
       "    x.observe(outputEl, {childList: true});\n",
       "}}\n",
       "\n",
       "                        })                };                });            </script>        </div>"
      ]
     },
     "metadata": {},
     "output_type": "display_data"
    }
   ],
   "source": [
    "fig = make_subplots(specs=[[{\"secondary_y\": True}]])\n",
    "\n",
    "fig.add_traces([\n",
    "    go.Bar(name='Hospitalizations', x=data_df['Date'], y=data_df['New Hospitalized']),\n",
    "    go.Bar(name='ICU', x=data_df['Date'], y=data_df['New ICU'])\n",
    "])\n",
    "fig.update_layout(barmode='group')\n",
    "\n",
    "fig.add_trace(\n",
    "    go.Scatter(\n",
    "        x=data_df['Date'],\n",
    "        y=data_df['Positivity Rate'],\n",
    "        mode='lines+markers',\n",
    "        name='Positivity Rate'\n",
    "    ),\n",
    "    secondary_y=True\n",
    ")\n",
    "\n",
    "fig.update_layout(\n",
    "    title_text=\"Hospitalizations, ICU & Positivity Rate %\"\n",
    ")\n",
    "\n",
    "fig.update_yaxes(title_text=\"Cases\", secondary_y=False)\n",
    "fig.update_yaxes(title_text=\"Rate %\", secondary_y=True)\n",
    "\n",
    "fig.show()"
   ]
  },
  {
   "attachments": {},
   "cell_type": "markdown",
   "metadata": {},
   "source": [
    "## Vaccinations"
   ]
  },
  {
   "cell_type": "code",
   "execution_count": 64,
   "metadata": {},
   "outputs": [
    {
     "data": {
      "application/vnd.plotly.v1+json": {
       "config": {
        "plotlyServerURL": "https://plot.ly"
       },
       "data": [
        {
         "name": "Received One Dose",
         "type": "bar",
         "x": [
          "03/2020",
          "04/2020",
          "05/2020",
          "06/2020",
          "07/2020",
          "08/2020",
          "09/2020",
          "10/2020",
          "11/2020",
          "12/2020",
          "01/2021",
          "02/2021",
          "03/2021",
          "04/2021",
          "05/2021",
          "06/2021",
          "07/2021",
          "08/2021",
          "09/2021",
          "10/2021",
          "11/2021",
          "12/2021",
          "01/2022",
          "02/2022",
          "03/2022",
          "04/2022",
          "05/2022",
          "06/2022",
          "07/2022",
          "08/2022",
          "09/2022",
          "10/2022",
          "11/2022",
          "12/2022",
          "01/2023"
         ],
         "y": [
          null,
          null,
          null,
          null,
          null,
          null,
          null,
          null,
          null,
          null,
          23811,
          27765,
          91229,
          86005,
          89933,
          40426,
          40521,
          14295,
          7617,
          8681,
          5492,
          8840,
          19820,
          6161,
          3249,
          1630,
          876,
          537,
          502,
          296,
          280,
          305,
          146,
          136,
          40
         ]
        },
        {
         "name": "Primary Vaccination",
         "type": "bar",
         "x": [
          "03/2020",
          "04/2020",
          "05/2020",
          "06/2020",
          "07/2020",
          "08/2020",
          "09/2020",
          "10/2020",
          "11/2020",
          "12/2020",
          "01/2021",
          "02/2021",
          "03/2021",
          "04/2021",
          "05/2021",
          "06/2021",
          "07/2021",
          "08/2021",
          "09/2021",
          "10/2021",
          "11/2021",
          "12/2021",
          "01/2022",
          "02/2022",
          "03/2022",
          "04/2022",
          "05/2022",
          "06/2022",
          "07/2022",
          "08/2022",
          "09/2022",
          "10/2022",
          "11/2022",
          "12/2022",
          "01/2023"
         ],
         "y": [
          null,
          null,
          null,
          null,
          null,
          null,
          null,
          null,
          null,
          null,
          3948,
          24100,
          26530,
          52460,
          103448,
          115405,
          56364,
          30512,
          8946,
          6620,
          4010,
          3531,
          15357,
          11952,
          3310,
          1818,
          898,
          593,
          470,
          313,
          260,
          240,
          135,
          106,
          24
         ]
        },
        {
         "name": "Booster Doses",
         "type": "bar",
         "x": [
          "03/2020",
          "04/2020",
          "05/2020",
          "06/2020",
          "07/2020",
          "08/2020",
          "09/2020",
          "10/2020",
          "11/2020",
          "12/2020",
          "01/2021",
          "02/2021",
          "03/2021",
          "04/2021",
          "05/2021",
          "06/2021",
          "07/2021",
          "08/2021",
          "09/2021",
          "10/2021",
          "11/2021",
          "12/2021",
          "01/2022",
          "02/2022",
          "03/2022",
          "04/2022",
          "05/2022",
          "06/2022",
          "07/2022",
          "08/2022",
          "09/2022",
          "10/2022",
          "11/2022",
          "12/2022",
          "01/2023"
         ],
         "y": [
          null,
          null,
          null,
          null,
          null,
          null,
          null,
          null,
          null,
          null,
          0,
          0,
          0,
          0,
          0,
          0,
          0,
          0,
          12071,
          40844,
          71029,
          100246,
          106865,
          12056,
          7598,
          4077,
          2100,
          1493,
          1073,
          493,
          341,
          519,
          435,
          192,
          66
         ]
        },
        {
         "name": "2nd Booster Doses",
         "type": "bar",
         "x": [
          "03/2020",
          "04/2020",
          "05/2020",
          "06/2020",
          "07/2020",
          "08/2020",
          "09/2020",
          "10/2020",
          "11/2020",
          "12/2020",
          "01/2021",
          "02/2021",
          "03/2021",
          "04/2021",
          "05/2021",
          "06/2021",
          "07/2021",
          "08/2021",
          "09/2021",
          "10/2021",
          "11/2021",
          "12/2021",
          "01/2022",
          "02/2022",
          "03/2022",
          "04/2022",
          "05/2022",
          "06/2022",
          "07/2022",
          "08/2022",
          "09/2022",
          "10/2022",
          "11/2022",
          "12/2022",
          "01/2023"
         ],
         "y": [
          null,
          null,
          null,
          null,
          null,
          null,
          null,
          null,
          null,
          null,
          0,
          0,
          0,
          0,
          0,
          0,
          0,
          0,
          0,
          0,
          0,
          0,
          0,
          0,
          0,
          12660,
          20064,
          13843,
          10446,
          3382,
          259,
          6742,
          6375,
          1442,
          433
         ]
        },
        {
         "name": "Omicron Booster Doses",
         "type": "bar",
         "x": [
          "03/2020",
          "04/2020",
          "05/2020",
          "06/2020",
          "07/2020",
          "08/2020",
          "09/2020",
          "10/2020",
          "11/2020",
          "12/2020",
          "01/2021",
          "02/2021",
          "03/2021",
          "04/2021",
          "05/2021",
          "06/2021",
          "07/2021",
          "08/2021",
          "09/2021",
          "10/2021",
          "11/2021",
          "12/2021",
          "01/2022",
          "02/2022",
          "03/2022",
          "04/2022",
          "05/2022",
          "06/2022",
          "07/2022",
          "08/2022",
          "09/2022",
          "10/2022",
          "11/2022",
          "12/2022",
          "01/2023"
         ],
         "y": [
          null,
          null,
          null,
          null,
          null,
          null,
          null,
          null,
          null,
          null,
          0,
          0,
          0,
          0,
          0,
          0,
          0,
          0,
          0,
          0,
          0,
          0,
          0,
          0,
          0,
          0,
          0,
          0,
          0,
          0,
          0,
          0,
          5609,
          2178,
          566
         ]
        }
       ],
       "layout": {
        "barmode": "stack",
        "template": {
         "data": {
          "bar": [
           {
            "error_x": {
             "color": "#2a3f5f"
            },
            "error_y": {
             "color": "#2a3f5f"
            },
            "marker": {
             "line": {
              "color": "#E5ECF6",
              "width": 0.5
             },
             "pattern": {
              "fillmode": "overlay",
              "size": 10,
              "solidity": 0.2
             }
            },
            "type": "bar"
           }
          ],
          "barpolar": [
           {
            "marker": {
             "line": {
              "color": "#E5ECF6",
              "width": 0.5
             },
             "pattern": {
              "fillmode": "overlay",
              "size": 10,
              "solidity": 0.2
             }
            },
            "type": "barpolar"
           }
          ],
          "carpet": [
           {
            "aaxis": {
             "endlinecolor": "#2a3f5f",
             "gridcolor": "white",
             "linecolor": "white",
             "minorgridcolor": "white",
             "startlinecolor": "#2a3f5f"
            },
            "baxis": {
             "endlinecolor": "#2a3f5f",
             "gridcolor": "white",
             "linecolor": "white",
             "minorgridcolor": "white",
             "startlinecolor": "#2a3f5f"
            },
            "type": "carpet"
           }
          ],
          "choropleth": [
           {
            "colorbar": {
             "outlinewidth": 0,
             "ticks": ""
            },
            "type": "choropleth"
           }
          ],
          "contour": [
           {
            "colorbar": {
             "outlinewidth": 0,
             "ticks": ""
            },
            "colorscale": [
             [
              0,
              "#0d0887"
             ],
             [
              0.1111111111111111,
              "#46039f"
             ],
             [
              0.2222222222222222,
              "#7201a8"
             ],
             [
              0.3333333333333333,
              "#9c179e"
             ],
             [
              0.4444444444444444,
              "#bd3786"
             ],
             [
              0.5555555555555556,
              "#d8576b"
             ],
             [
              0.6666666666666666,
              "#ed7953"
             ],
             [
              0.7777777777777778,
              "#fb9f3a"
             ],
             [
              0.8888888888888888,
              "#fdca26"
             ],
             [
              1,
              "#f0f921"
             ]
            ],
            "type": "contour"
           }
          ],
          "contourcarpet": [
           {
            "colorbar": {
             "outlinewidth": 0,
             "ticks": ""
            },
            "type": "contourcarpet"
           }
          ],
          "heatmap": [
           {
            "colorbar": {
             "outlinewidth": 0,
             "ticks": ""
            },
            "colorscale": [
             [
              0,
              "#0d0887"
             ],
             [
              0.1111111111111111,
              "#46039f"
             ],
             [
              0.2222222222222222,
              "#7201a8"
             ],
             [
              0.3333333333333333,
              "#9c179e"
             ],
             [
              0.4444444444444444,
              "#bd3786"
             ],
             [
              0.5555555555555556,
              "#d8576b"
             ],
             [
              0.6666666666666666,
              "#ed7953"
             ],
             [
              0.7777777777777778,
              "#fb9f3a"
             ],
             [
              0.8888888888888888,
              "#fdca26"
             ],
             [
              1,
              "#f0f921"
             ]
            ],
            "type": "heatmap"
           }
          ],
          "heatmapgl": [
           {
            "colorbar": {
             "outlinewidth": 0,
             "ticks": ""
            },
            "colorscale": [
             [
              0,
              "#0d0887"
             ],
             [
              0.1111111111111111,
              "#46039f"
             ],
             [
              0.2222222222222222,
              "#7201a8"
             ],
             [
              0.3333333333333333,
              "#9c179e"
             ],
             [
              0.4444444444444444,
              "#bd3786"
             ],
             [
              0.5555555555555556,
              "#d8576b"
             ],
             [
              0.6666666666666666,
              "#ed7953"
             ],
             [
              0.7777777777777778,
              "#fb9f3a"
             ],
             [
              0.8888888888888888,
              "#fdca26"
             ],
             [
              1,
              "#f0f921"
             ]
            ],
            "type": "heatmapgl"
           }
          ],
          "histogram": [
           {
            "marker": {
             "pattern": {
              "fillmode": "overlay",
              "size": 10,
              "solidity": 0.2
             }
            },
            "type": "histogram"
           }
          ],
          "histogram2d": [
           {
            "colorbar": {
             "outlinewidth": 0,
             "ticks": ""
            },
            "colorscale": [
             [
              0,
              "#0d0887"
             ],
             [
              0.1111111111111111,
              "#46039f"
             ],
             [
              0.2222222222222222,
              "#7201a8"
             ],
             [
              0.3333333333333333,
              "#9c179e"
             ],
             [
              0.4444444444444444,
              "#bd3786"
             ],
             [
              0.5555555555555556,
              "#d8576b"
             ],
             [
              0.6666666666666666,
              "#ed7953"
             ],
             [
              0.7777777777777778,
              "#fb9f3a"
             ],
             [
              0.8888888888888888,
              "#fdca26"
             ],
             [
              1,
              "#f0f921"
             ]
            ],
            "type": "histogram2d"
           }
          ],
          "histogram2dcontour": [
           {
            "colorbar": {
             "outlinewidth": 0,
             "ticks": ""
            },
            "colorscale": [
             [
              0,
              "#0d0887"
             ],
             [
              0.1111111111111111,
              "#46039f"
             ],
             [
              0.2222222222222222,
              "#7201a8"
             ],
             [
              0.3333333333333333,
              "#9c179e"
             ],
             [
              0.4444444444444444,
              "#bd3786"
             ],
             [
              0.5555555555555556,
              "#d8576b"
             ],
             [
              0.6666666666666666,
              "#ed7953"
             ],
             [
              0.7777777777777778,
              "#fb9f3a"
             ],
             [
              0.8888888888888888,
              "#fdca26"
             ],
             [
              1,
              "#f0f921"
             ]
            ],
            "type": "histogram2dcontour"
           }
          ],
          "mesh3d": [
           {
            "colorbar": {
             "outlinewidth": 0,
             "ticks": ""
            },
            "type": "mesh3d"
           }
          ],
          "parcoords": [
           {
            "line": {
             "colorbar": {
              "outlinewidth": 0,
              "ticks": ""
             }
            },
            "type": "parcoords"
           }
          ],
          "pie": [
           {
            "automargin": true,
            "type": "pie"
           }
          ],
          "scatter": [
           {
            "fillpattern": {
             "fillmode": "overlay",
             "size": 10,
             "solidity": 0.2
            },
            "type": "scatter"
           }
          ],
          "scatter3d": [
           {
            "line": {
             "colorbar": {
              "outlinewidth": 0,
              "ticks": ""
             }
            },
            "marker": {
             "colorbar": {
              "outlinewidth": 0,
              "ticks": ""
             }
            },
            "type": "scatter3d"
           }
          ],
          "scattercarpet": [
           {
            "marker": {
             "colorbar": {
              "outlinewidth": 0,
              "ticks": ""
             }
            },
            "type": "scattercarpet"
           }
          ],
          "scattergeo": [
           {
            "marker": {
             "colorbar": {
              "outlinewidth": 0,
              "ticks": ""
             }
            },
            "type": "scattergeo"
           }
          ],
          "scattergl": [
           {
            "marker": {
             "colorbar": {
              "outlinewidth": 0,
              "ticks": ""
             }
            },
            "type": "scattergl"
           }
          ],
          "scattermapbox": [
           {
            "marker": {
             "colorbar": {
              "outlinewidth": 0,
              "ticks": ""
             }
            },
            "type": "scattermapbox"
           }
          ],
          "scatterpolar": [
           {
            "marker": {
             "colorbar": {
              "outlinewidth": 0,
              "ticks": ""
             }
            },
            "type": "scatterpolar"
           }
          ],
          "scatterpolargl": [
           {
            "marker": {
             "colorbar": {
              "outlinewidth": 0,
              "ticks": ""
             }
            },
            "type": "scatterpolargl"
           }
          ],
          "scatterternary": [
           {
            "marker": {
             "colorbar": {
              "outlinewidth": 0,
              "ticks": ""
             }
            },
            "type": "scatterternary"
           }
          ],
          "surface": [
           {
            "colorbar": {
             "outlinewidth": 0,
             "ticks": ""
            },
            "colorscale": [
             [
              0,
              "#0d0887"
             ],
             [
              0.1111111111111111,
              "#46039f"
             ],
             [
              0.2222222222222222,
              "#7201a8"
             ],
             [
              0.3333333333333333,
              "#9c179e"
             ],
             [
              0.4444444444444444,
              "#bd3786"
             ],
             [
              0.5555555555555556,
              "#d8576b"
             ],
             [
              0.6666666666666666,
              "#ed7953"
             ],
             [
              0.7777777777777778,
              "#fb9f3a"
             ],
             [
              0.8888888888888888,
              "#fdca26"
             ],
             [
              1,
              "#f0f921"
             ]
            ],
            "type": "surface"
           }
          ],
          "table": [
           {
            "cells": {
             "fill": {
              "color": "#EBF0F8"
             },
             "line": {
              "color": "white"
             }
            },
            "header": {
             "fill": {
              "color": "#C8D4E3"
             },
             "line": {
              "color": "white"
             }
            },
            "type": "table"
           }
          ]
         },
         "layout": {
          "annotationdefaults": {
           "arrowcolor": "#2a3f5f",
           "arrowhead": 0,
           "arrowwidth": 1
          },
          "autotypenumbers": "strict",
          "coloraxis": {
           "colorbar": {
            "outlinewidth": 0,
            "ticks": ""
           }
          },
          "colorscale": {
           "diverging": [
            [
             0,
             "#8e0152"
            ],
            [
             0.1,
             "#c51b7d"
            ],
            [
             0.2,
             "#de77ae"
            ],
            [
             0.3,
             "#f1b6da"
            ],
            [
             0.4,
             "#fde0ef"
            ],
            [
             0.5,
             "#f7f7f7"
            ],
            [
             0.6,
             "#e6f5d0"
            ],
            [
             0.7,
             "#b8e186"
            ],
            [
             0.8,
             "#7fbc41"
            ],
            [
             0.9,
             "#4d9221"
            ],
            [
             1,
             "#276419"
            ]
           ],
           "sequential": [
            [
             0,
             "#0d0887"
            ],
            [
             0.1111111111111111,
             "#46039f"
            ],
            [
             0.2222222222222222,
             "#7201a8"
            ],
            [
             0.3333333333333333,
             "#9c179e"
            ],
            [
             0.4444444444444444,
             "#bd3786"
            ],
            [
             0.5555555555555556,
             "#d8576b"
            ],
            [
             0.6666666666666666,
             "#ed7953"
            ],
            [
             0.7777777777777778,
             "#fb9f3a"
            ],
            [
             0.8888888888888888,
             "#fdca26"
            ],
            [
             1,
             "#f0f921"
            ]
           ],
           "sequentialminus": [
            [
             0,
             "#0d0887"
            ],
            [
             0.1111111111111111,
             "#46039f"
            ],
            [
             0.2222222222222222,
             "#7201a8"
            ],
            [
             0.3333333333333333,
             "#9c179e"
            ],
            [
             0.4444444444444444,
             "#bd3786"
            ],
            [
             0.5555555555555556,
             "#d8576b"
            ],
            [
             0.6666666666666666,
             "#ed7953"
            ],
            [
             0.7777777777777778,
             "#fb9f3a"
            ],
            [
             0.8888888888888888,
             "#fdca26"
            ],
            [
             1,
             "#f0f921"
            ]
           ]
          },
          "colorway": [
           "#636efa",
           "#EF553B",
           "#00cc96",
           "#ab63fa",
           "#FFA15A",
           "#19d3f3",
           "#FF6692",
           "#B6E880",
           "#FF97FF",
           "#FECB52"
          ],
          "font": {
           "color": "#2a3f5f"
          },
          "geo": {
           "bgcolor": "white",
           "lakecolor": "white",
           "landcolor": "#E5ECF6",
           "showlakes": true,
           "showland": true,
           "subunitcolor": "white"
          },
          "hoverlabel": {
           "align": "left"
          },
          "hovermode": "closest",
          "mapbox": {
           "style": "light"
          },
          "paper_bgcolor": "white",
          "plot_bgcolor": "#E5ECF6",
          "polar": {
           "angularaxis": {
            "gridcolor": "white",
            "linecolor": "white",
            "ticks": ""
           },
           "bgcolor": "#E5ECF6",
           "radialaxis": {
            "gridcolor": "white",
            "linecolor": "white",
            "ticks": ""
           }
          },
          "scene": {
           "xaxis": {
            "backgroundcolor": "#E5ECF6",
            "gridcolor": "white",
            "gridwidth": 2,
            "linecolor": "white",
            "showbackground": true,
            "ticks": "",
            "zerolinecolor": "white"
           },
           "yaxis": {
            "backgroundcolor": "#E5ECF6",
            "gridcolor": "white",
            "gridwidth": 2,
            "linecolor": "white",
            "showbackground": true,
            "ticks": "",
            "zerolinecolor": "white"
           },
           "zaxis": {
            "backgroundcolor": "#E5ECF6",
            "gridcolor": "white",
            "gridwidth": 2,
            "linecolor": "white",
            "showbackground": true,
            "ticks": "",
            "zerolinecolor": "white"
           }
          },
          "shapedefaults": {
           "line": {
            "color": "#2a3f5f"
           }
          },
          "ternary": {
           "aaxis": {
            "gridcolor": "white",
            "linecolor": "white",
            "ticks": ""
           },
           "baxis": {
            "gridcolor": "white",
            "linecolor": "white",
            "ticks": ""
           },
           "bgcolor": "#E5ECF6",
           "caxis": {
            "gridcolor": "white",
            "linecolor": "white",
            "ticks": ""
           }
          },
          "title": {
           "x": 0.05
          },
          "xaxis": {
           "automargin": true,
           "gridcolor": "white",
           "linecolor": "white",
           "ticks": "",
           "title": {
            "standoff": 15
           },
           "zerolinecolor": "white",
           "zerolinewidth": 2
          },
          "yaxis": {
           "automargin": true,
           "gridcolor": "white",
           "linecolor": "white",
           "ticks": "",
           "title": {
            "standoff": 15
           },
           "zerolinecolor": "white",
           "zerolinewidth": 2
          }
         }
        },
        "title": {
         "text": "Vaccinations by Type"
        },
        "yaxis": {
         "title": {
          "text": "Doses"
         }
        }
       }
      },
      "text/html": [
       "<div>                            <div id=\"d63f4648-957d-4a1e-a11a-b7e236dd207d\" class=\"plotly-graph-div\" style=\"height:525px; width:100%;\"></div>            <script type=\"text/javascript\">                require([\"plotly\"], function(Plotly) {                    window.PLOTLYENV=window.PLOTLYENV || {};                                    if (document.getElementById(\"d63f4648-957d-4a1e-a11a-b7e236dd207d\")) {                    Plotly.newPlot(                        \"d63f4648-957d-4a1e-a11a-b7e236dd207d\",                        [{\"name\":\"Received One Dose\",\"x\":[\"03/2020\",\"04/2020\",\"05/2020\",\"06/2020\",\"07/2020\",\"08/2020\",\"09/2020\",\"10/2020\",\"11/2020\",\"12/2020\",\"01/2021\",\"02/2021\",\"03/2021\",\"04/2021\",\"05/2021\",\"06/2021\",\"07/2021\",\"08/2021\",\"09/2021\",\"10/2021\",\"11/2021\",\"12/2021\",\"01/2022\",\"02/2022\",\"03/2022\",\"04/2022\",\"05/2022\",\"06/2022\",\"07/2022\",\"08/2022\",\"09/2022\",\"10/2022\",\"11/2022\",\"12/2022\",\"01/2023\"],\"y\":[null,null,null,null,null,null,null,null,null,null,23811.0,27765.0,91229.0,86005.0,89933.0,40426.0,40521.0,14295.0,7617.0,8681.0,5492.0,8840.0,19820.0,6161.0,3249.0,1630.0,876.0,537.0,502.0,296.0,280.0,305.0,146.0,136.0,40.0],\"type\":\"bar\"},{\"name\":\"Primary Vaccination\",\"x\":[\"03/2020\",\"04/2020\",\"05/2020\",\"06/2020\",\"07/2020\",\"08/2020\",\"09/2020\",\"10/2020\",\"11/2020\",\"12/2020\",\"01/2021\",\"02/2021\",\"03/2021\",\"04/2021\",\"05/2021\",\"06/2021\",\"07/2021\",\"08/2021\",\"09/2021\",\"10/2021\",\"11/2021\",\"12/2021\",\"01/2022\",\"02/2022\",\"03/2022\",\"04/2022\",\"05/2022\",\"06/2022\",\"07/2022\",\"08/2022\",\"09/2022\",\"10/2022\",\"11/2022\",\"12/2022\",\"01/2023\"],\"y\":[null,null,null,null,null,null,null,null,null,null,3948.0,24100.0,26530.0,52460.0,103448.0,115405.0,56364.0,30512.0,8946.0,6620.0,4010.0,3531.0,15357.0,11952.0,3310.0,1818.0,898.0,593.0,470.0,313.0,260.0,240.0,135.0,106.0,24.0],\"type\":\"bar\"},{\"name\":\"Booster Doses\",\"x\":[\"03/2020\",\"04/2020\",\"05/2020\",\"06/2020\",\"07/2020\",\"08/2020\",\"09/2020\",\"10/2020\",\"11/2020\",\"12/2020\",\"01/2021\",\"02/2021\",\"03/2021\",\"04/2021\",\"05/2021\",\"06/2021\",\"07/2021\",\"08/2021\",\"09/2021\",\"10/2021\",\"11/2021\",\"12/2021\",\"01/2022\",\"02/2022\",\"03/2022\",\"04/2022\",\"05/2022\",\"06/2022\",\"07/2022\",\"08/2022\",\"09/2022\",\"10/2022\",\"11/2022\",\"12/2022\",\"01/2023\"],\"y\":[null,null,null,null,null,null,null,null,null,null,0.0,0.0,0.0,0.0,0.0,0.0,0.0,0.0,12071.0,40844.0,71029.0,100246.0,106865.0,12056.0,7598.0,4077.0,2100.0,1493.0,1073.0,493.0,341.0,519.0,435.0,192.0,66.0],\"type\":\"bar\"},{\"name\":\"2nd Booster Doses\",\"x\":[\"03/2020\",\"04/2020\",\"05/2020\",\"06/2020\",\"07/2020\",\"08/2020\",\"09/2020\",\"10/2020\",\"11/2020\",\"12/2020\",\"01/2021\",\"02/2021\",\"03/2021\",\"04/2021\",\"05/2021\",\"06/2021\",\"07/2021\",\"08/2021\",\"09/2021\",\"10/2021\",\"11/2021\",\"12/2021\",\"01/2022\",\"02/2022\",\"03/2022\",\"04/2022\",\"05/2022\",\"06/2022\",\"07/2022\",\"08/2022\",\"09/2022\",\"10/2022\",\"11/2022\",\"12/2022\",\"01/2023\"],\"y\":[null,null,null,null,null,null,null,null,null,null,0.0,0.0,0.0,0.0,0.0,0.0,0.0,0.0,0.0,0.0,0.0,0.0,0.0,0.0,0.0,12660.0,20064.0,13843.0,10446.0,3382.0,259.0,6742.0,6375.0,1442.0,433.0],\"type\":\"bar\"},{\"name\":\"Omicron Booster Doses\",\"x\":[\"03/2020\",\"04/2020\",\"05/2020\",\"06/2020\",\"07/2020\",\"08/2020\",\"09/2020\",\"10/2020\",\"11/2020\",\"12/2020\",\"01/2021\",\"02/2021\",\"03/2021\",\"04/2021\",\"05/2021\",\"06/2021\",\"07/2021\",\"08/2021\",\"09/2021\",\"10/2021\",\"11/2021\",\"12/2021\",\"01/2022\",\"02/2022\",\"03/2022\",\"04/2022\",\"05/2022\",\"06/2022\",\"07/2022\",\"08/2022\",\"09/2022\",\"10/2022\",\"11/2022\",\"12/2022\",\"01/2023\"],\"y\":[null,null,null,null,null,null,null,null,null,null,0.0,0.0,0.0,0.0,0.0,0.0,0.0,0.0,0.0,0.0,0.0,0.0,0.0,0.0,0.0,0.0,0.0,0.0,0.0,0.0,0.0,0.0,5609.0,2178.0,566.0],\"type\":\"bar\"}],                        {\"template\":{\"data\":{\"histogram2dcontour\":[{\"type\":\"histogram2dcontour\",\"colorbar\":{\"outlinewidth\":0,\"ticks\":\"\"},\"colorscale\":[[0.0,\"#0d0887\"],[0.1111111111111111,\"#46039f\"],[0.2222222222222222,\"#7201a8\"],[0.3333333333333333,\"#9c179e\"],[0.4444444444444444,\"#bd3786\"],[0.5555555555555556,\"#d8576b\"],[0.6666666666666666,\"#ed7953\"],[0.7777777777777778,\"#fb9f3a\"],[0.8888888888888888,\"#fdca26\"],[1.0,\"#f0f921\"]]}],\"choropleth\":[{\"type\":\"choropleth\",\"colorbar\":{\"outlinewidth\":0,\"ticks\":\"\"}}],\"histogram2d\":[{\"type\":\"histogram2d\",\"colorbar\":{\"outlinewidth\":0,\"ticks\":\"\"},\"colorscale\":[[0.0,\"#0d0887\"],[0.1111111111111111,\"#46039f\"],[0.2222222222222222,\"#7201a8\"],[0.3333333333333333,\"#9c179e\"],[0.4444444444444444,\"#bd3786\"],[0.5555555555555556,\"#d8576b\"],[0.6666666666666666,\"#ed7953\"],[0.7777777777777778,\"#fb9f3a\"],[0.8888888888888888,\"#fdca26\"],[1.0,\"#f0f921\"]]}],\"heatmap\":[{\"type\":\"heatmap\",\"colorbar\":{\"outlinewidth\":0,\"ticks\":\"\"},\"colorscale\":[[0.0,\"#0d0887\"],[0.1111111111111111,\"#46039f\"],[0.2222222222222222,\"#7201a8\"],[0.3333333333333333,\"#9c179e\"],[0.4444444444444444,\"#bd3786\"],[0.5555555555555556,\"#d8576b\"],[0.6666666666666666,\"#ed7953\"],[0.7777777777777778,\"#fb9f3a\"],[0.8888888888888888,\"#fdca26\"],[1.0,\"#f0f921\"]]}],\"heatmapgl\":[{\"type\":\"heatmapgl\",\"colorbar\":{\"outlinewidth\":0,\"ticks\":\"\"},\"colorscale\":[[0.0,\"#0d0887\"],[0.1111111111111111,\"#46039f\"],[0.2222222222222222,\"#7201a8\"],[0.3333333333333333,\"#9c179e\"],[0.4444444444444444,\"#bd3786\"],[0.5555555555555556,\"#d8576b\"],[0.6666666666666666,\"#ed7953\"],[0.7777777777777778,\"#fb9f3a\"],[0.8888888888888888,\"#fdca26\"],[1.0,\"#f0f921\"]]}],\"contourcarpet\":[{\"type\":\"contourcarpet\",\"colorbar\":{\"outlinewidth\":0,\"ticks\":\"\"}}],\"contour\":[{\"type\":\"contour\",\"colorbar\":{\"outlinewidth\":0,\"ticks\":\"\"},\"colorscale\":[[0.0,\"#0d0887\"],[0.1111111111111111,\"#46039f\"],[0.2222222222222222,\"#7201a8\"],[0.3333333333333333,\"#9c179e\"],[0.4444444444444444,\"#bd3786\"],[0.5555555555555556,\"#d8576b\"],[0.6666666666666666,\"#ed7953\"],[0.7777777777777778,\"#fb9f3a\"],[0.8888888888888888,\"#fdca26\"],[1.0,\"#f0f921\"]]}],\"surface\":[{\"type\":\"surface\",\"colorbar\":{\"outlinewidth\":0,\"ticks\":\"\"},\"colorscale\":[[0.0,\"#0d0887\"],[0.1111111111111111,\"#46039f\"],[0.2222222222222222,\"#7201a8\"],[0.3333333333333333,\"#9c179e\"],[0.4444444444444444,\"#bd3786\"],[0.5555555555555556,\"#d8576b\"],[0.6666666666666666,\"#ed7953\"],[0.7777777777777778,\"#fb9f3a\"],[0.8888888888888888,\"#fdca26\"],[1.0,\"#f0f921\"]]}],\"mesh3d\":[{\"type\":\"mesh3d\",\"colorbar\":{\"outlinewidth\":0,\"ticks\":\"\"}}],\"scatter\":[{\"fillpattern\":{\"fillmode\":\"overlay\",\"size\":10,\"solidity\":0.2},\"type\":\"scatter\"}],\"parcoords\":[{\"type\":\"parcoords\",\"line\":{\"colorbar\":{\"outlinewidth\":0,\"ticks\":\"\"}}}],\"scatterpolargl\":[{\"type\":\"scatterpolargl\",\"marker\":{\"colorbar\":{\"outlinewidth\":0,\"ticks\":\"\"}}}],\"bar\":[{\"error_x\":{\"color\":\"#2a3f5f\"},\"error_y\":{\"color\":\"#2a3f5f\"},\"marker\":{\"line\":{\"color\":\"#E5ECF6\",\"width\":0.5},\"pattern\":{\"fillmode\":\"overlay\",\"size\":10,\"solidity\":0.2}},\"type\":\"bar\"}],\"scattergeo\":[{\"type\":\"scattergeo\",\"marker\":{\"colorbar\":{\"outlinewidth\":0,\"ticks\":\"\"}}}],\"scatterpolar\":[{\"type\":\"scatterpolar\",\"marker\":{\"colorbar\":{\"outlinewidth\":0,\"ticks\":\"\"}}}],\"histogram\":[{\"marker\":{\"pattern\":{\"fillmode\":\"overlay\",\"size\":10,\"solidity\":0.2}},\"type\":\"histogram\"}],\"scattergl\":[{\"type\":\"scattergl\",\"marker\":{\"colorbar\":{\"outlinewidth\":0,\"ticks\":\"\"}}}],\"scatter3d\":[{\"type\":\"scatter3d\",\"line\":{\"colorbar\":{\"outlinewidth\":0,\"ticks\":\"\"}},\"marker\":{\"colorbar\":{\"outlinewidth\":0,\"ticks\":\"\"}}}],\"scattermapbox\":[{\"type\":\"scattermapbox\",\"marker\":{\"colorbar\":{\"outlinewidth\":0,\"ticks\":\"\"}}}],\"scatterternary\":[{\"type\":\"scatterternary\",\"marker\":{\"colorbar\":{\"outlinewidth\":0,\"ticks\":\"\"}}}],\"scattercarpet\":[{\"type\":\"scattercarpet\",\"marker\":{\"colorbar\":{\"outlinewidth\":0,\"ticks\":\"\"}}}],\"carpet\":[{\"aaxis\":{\"endlinecolor\":\"#2a3f5f\",\"gridcolor\":\"white\",\"linecolor\":\"white\",\"minorgridcolor\":\"white\",\"startlinecolor\":\"#2a3f5f\"},\"baxis\":{\"endlinecolor\":\"#2a3f5f\",\"gridcolor\":\"white\",\"linecolor\":\"white\",\"minorgridcolor\":\"white\",\"startlinecolor\":\"#2a3f5f\"},\"type\":\"carpet\"}],\"table\":[{\"cells\":{\"fill\":{\"color\":\"#EBF0F8\"},\"line\":{\"color\":\"white\"}},\"header\":{\"fill\":{\"color\":\"#C8D4E3\"},\"line\":{\"color\":\"white\"}},\"type\":\"table\"}],\"barpolar\":[{\"marker\":{\"line\":{\"color\":\"#E5ECF6\",\"width\":0.5},\"pattern\":{\"fillmode\":\"overlay\",\"size\":10,\"solidity\":0.2}},\"type\":\"barpolar\"}],\"pie\":[{\"automargin\":true,\"type\":\"pie\"}]},\"layout\":{\"autotypenumbers\":\"strict\",\"colorway\":[\"#636efa\",\"#EF553B\",\"#00cc96\",\"#ab63fa\",\"#FFA15A\",\"#19d3f3\",\"#FF6692\",\"#B6E880\",\"#FF97FF\",\"#FECB52\"],\"font\":{\"color\":\"#2a3f5f\"},\"hovermode\":\"closest\",\"hoverlabel\":{\"align\":\"left\"},\"paper_bgcolor\":\"white\",\"plot_bgcolor\":\"#E5ECF6\",\"polar\":{\"bgcolor\":\"#E5ECF6\",\"angularaxis\":{\"gridcolor\":\"white\",\"linecolor\":\"white\",\"ticks\":\"\"},\"radialaxis\":{\"gridcolor\":\"white\",\"linecolor\":\"white\",\"ticks\":\"\"}},\"ternary\":{\"bgcolor\":\"#E5ECF6\",\"aaxis\":{\"gridcolor\":\"white\",\"linecolor\":\"white\",\"ticks\":\"\"},\"baxis\":{\"gridcolor\":\"white\",\"linecolor\":\"white\",\"ticks\":\"\"},\"caxis\":{\"gridcolor\":\"white\",\"linecolor\":\"white\",\"ticks\":\"\"}},\"coloraxis\":{\"colorbar\":{\"outlinewidth\":0,\"ticks\":\"\"}},\"colorscale\":{\"sequential\":[[0.0,\"#0d0887\"],[0.1111111111111111,\"#46039f\"],[0.2222222222222222,\"#7201a8\"],[0.3333333333333333,\"#9c179e\"],[0.4444444444444444,\"#bd3786\"],[0.5555555555555556,\"#d8576b\"],[0.6666666666666666,\"#ed7953\"],[0.7777777777777778,\"#fb9f3a\"],[0.8888888888888888,\"#fdca26\"],[1.0,\"#f0f921\"]],\"sequentialminus\":[[0.0,\"#0d0887\"],[0.1111111111111111,\"#46039f\"],[0.2222222222222222,\"#7201a8\"],[0.3333333333333333,\"#9c179e\"],[0.4444444444444444,\"#bd3786\"],[0.5555555555555556,\"#d8576b\"],[0.6666666666666666,\"#ed7953\"],[0.7777777777777778,\"#fb9f3a\"],[0.8888888888888888,\"#fdca26\"],[1.0,\"#f0f921\"]],\"diverging\":[[0,\"#8e0152\"],[0.1,\"#c51b7d\"],[0.2,\"#de77ae\"],[0.3,\"#f1b6da\"],[0.4,\"#fde0ef\"],[0.5,\"#f7f7f7\"],[0.6,\"#e6f5d0\"],[0.7,\"#b8e186\"],[0.8,\"#7fbc41\"],[0.9,\"#4d9221\"],[1,\"#276419\"]]},\"xaxis\":{\"gridcolor\":\"white\",\"linecolor\":\"white\",\"ticks\":\"\",\"title\":{\"standoff\":15},\"zerolinecolor\":\"white\",\"automargin\":true,\"zerolinewidth\":2},\"yaxis\":{\"gridcolor\":\"white\",\"linecolor\":\"white\",\"ticks\":\"\",\"title\":{\"standoff\":15},\"zerolinecolor\":\"white\",\"automargin\":true,\"zerolinewidth\":2},\"scene\":{\"xaxis\":{\"backgroundcolor\":\"#E5ECF6\",\"gridcolor\":\"white\",\"linecolor\":\"white\",\"showbackground\":true,\"ticks\":\"\",\"zerolinecolor\":\"white\",\"gridwidth\":2},\"yaxis\":{\"backgroundcolor\":\"#E5ECF6\",\"gridcolor\":\"white\",\"linecolor\":\"white\",\"showbackground\":true,\"ticks\":\"\",\"zerolinecolor\":\"white\",\"gridwidth\":2},\"zaxis\":{\"backgroundcolor\":\"#E5ECF6\",\"gridcolor\":\"white\",\"linecolor\":\"white\",\"showbackground\":true,\"ticks\":\"\",\"zerolinecolor\":\"white\",\"gridwidth\":2}},\"shapedefaults\":{\"line\":{\"color\":\"#2a3f5f\"}},\"annotationdefaults\":{\"arrowcolor\":\"#2a3f5f\",\"arrowhead\":0,\"arrowwidth\":1},\"geo\":{\"bgcolor\":\"white\",\"landcolor\":\"#E5ECF6\",\"subunitcolor\":\"white\",\"showland\":true,\"showlakes\":true,\"lakecolor\":\"white\"},\"title\":{\"x\":0.05},\"mapbox\":{\"style\":\"light\"}}},\"barmode\":\"stack\",\"title\":{\"text\":\"Vaccinations by Type\"},\"yaxis\":{\"title\":{\"text\":\"Doses\"}}},                        {\"responsive\": true}                    ).then(function(){\n",
       "                            \n",
       "var gd = document.getElementById('d63f4648-957d-4a1e-a11a-b7e236dd207d');\n",
       "var x = new MutationObserver(function (mutations, observer) {{\n",
       "        var display = window.getComputedStyle(gd).display;\n",
       "        if (!display || display === 'none') {{\n",
       "            console.log([gd, 'removed!']);\n",
       "            Plotly.purge(gd);\n",
       "            observer.disconnect();\n",
       "        }}\n",
       "}});\n",
       "\n",
       "// Listen for the removal of the full notebook cells\n",
       "var notebookContainer = gd.closest('#notebook-container');\n",
       "if (notebookContainer) {{\n",
       "    x.observe(notebookContainer, {childList: true});\n",
       "}}\n",
       "\n",
       "// Listen for the clearing of the current output cell\n",
       "var outputEl = gd.closest('.output');\n",
       "if (outputEl) {{\n",
       "    x.observe(outputEl, {childList: true});\n",
       "}}\n",
       "\n",
       "                        })                };                });            </script>        </div>"
      ]
     },
     "metadata": {},
     "output_type": "display_data"
    }
   ],
   "source": [
    "fig = go.Figure(data=[\n",
    "    go.Bar(name='Received One Dose', x=data_df['Date'], y=data_df['New Received one dose']),\n",
    "    go.Bar(name='Primary Vaccination', x=data_df['Date'], y=data_df['New Primary Vaccination']),\n",
    "    go.Bar(name='Booster Doses', x=data_df['Date'], y=data_df['New Booster doses']),\n",
    "    go.Bar(name='2nd Booster Doses', x=data_df['Date'], y=data_df['New 2nd Booster doses']),\n",
    "    go.Bar(name='Omicron Booster Doses', x=data_df['Date'], y=data_df['New Omicron booster doses'])\n",
    "])\n",
    "fig.update_layout(barmode='stack')\n",
    "\n",
    "fig.update_layout(\n",
    "    title_text=\"Vaccinations by Type\"\n",
    ")\n",
    "\n",
    "fig.update_yaxes(title_text=\"Doses\")\n",
    "\n",
    "fig.show()"
   ]
  },
  {
   "attachments": {},
   "cell_type": "markdown",
   "metadata": {},
   "source": [
    "### Vaccinations & Positivity Rate"
   ]
  },
  {
   "cell_type": "code",
   "execution_count": 65,
   "metadata": {},
   "outputs": [
    {
     "data": {
      "application/vnd.plotly.v1+json": {
       "config": {
        "plotlyServerURL": "https://plot.ly"
       },
       "data": [
        {
         "name": "Received One Dose",
         "type": "bar",
         "x": [
          "03/2020",
          "04/2020",
          "05/2020",
          "06/2020",
          "07/2020",
          "08/2020",
          "09/2020",
          "10/2020",
          "11/2020",
          "12/2020",
          "01/2021",
          "02/2021",
          "03/2021",
          "04/2021",
          "05/2021",
          "06/2021",
          "07/2021",
          "08/2021",
          "09/2021",
          "10/2021",
          "11/2021",
          "12/2021",
          "01/2022",
          "02/2022",
          "03/2022",
          "04/2022",
          "05/2022",
          "06/2022",
          "07/2022",
          "08/2022",
          "09/2022",
          "10/2022",
          "11/2022",
          "12/2022",
          "01/2023"
         ],
         "y": [
          null,
          null,
          null,
          null,
          null,
          null,
          null,
          null,
          null,
          null,
          23811,
          27765,
          91229,
          86005,
          89933,
          40426,
          40521,
          14295,
          7617,
          8681,
          5492,
          8840,
          19820,
          6161,
          3249,
          1630,
          876,
          537,
          502,
          296,
          280,
          305,
          146,
          136,
          40
         ]
        },
        {
         "name": "Primary Vaccination",
         "type": "bar",
         "x": [
          "03/2020",
          "04/2020",
          "05/2020",
          "06/2020",
          "07/2020",
          "08/2020",
          "09/2020",
          "10/2020",
          "11/2020",
          "12/2020",
          "01/2021",
          "02/2021",
          "03/2021",
          "04/2021",
          "05/2021",
          "06/2021",
          "07/2021",
          "08/2021",
          "09/2021",
          "10/2021",
          "11/2021",
          "12/2021",
          "01/2022",
          "02/2022",
          "03/2022",
          "04/2022",
          "05/2022",
          "06/2022",
          "07/2022",
          "08/2022",
          "09/2022",
          "10/2022",
          "11/2022",
          "12/2022",
          "01/2023"
         ],
         "y": [
          null,
          null,
          null,
          null,
          null,
          null,
          null,
          null,
          null,
          null,
          3948,
          24100,
          26530,
          52460,
          103448,
          115405,
          56364,
          30512,
          8946,
          6620,
          4010,
          3531,
          15357,
          11952,
          3310,
          1818,
          898,
          593,
          470,
          313,
          260,
          240,
          135,
          106,
          24
         ]
        },
        {
         "name": "Booster Doses",
         "type": "bar",
         "x": [
          "03/2020",
          "04/2020",
          "05/2020",
          "06/2020",
          "07/2020",
          "08/2020",
          "09/2020",
          "10/2020",
          "11/2020",
          "12/2020",
          "01/2021",
          "02/2021",
          "03/2021",
          "04/2021",
          "05/2021",
          "06/2021",
          "07/2021",
          "08/2021",
          "09/2021",
          "10/2021",
          "11/2021",
          "12/2021",
          "01/2022",
          "02/2022",
          "03/2022",
          "04/2022",
          "05/2022",
          "06/2022",
          "07/2022",
          "08/2022",
          "09/2022",
          "10/2022",
          "11/2022",
          "12/2022",
          "01/2023"
         ],
         "y": [
          null,
          null,
          null,
          null,
          null,
          null,
          null,
          null,
          null,
          null,
          0,
          0,
          0,
          0,
          0,
          0,
          0,
          0,
          12071,
          40844,
          71029,
          100246,
          106865,
          12056,
          7598,
          4077,
          2100,
          1493,
          1073,
          493,
          341,
          519,
          435,
          192,
          66
         ]
        },
        {
         "name": "2nd Booster Doses",
         "type": "bar",
         "x": [
          "03/2020",
          "04/2020",
          "05/2020",
          "06/2020",
          "07/2020",
          "08/2020",
          "09/2020",
          "10/2020",
          "11/2020",
          "12/2020",
          "01/2021",
          "02/2021",
          "03/2021",
          "04/2021",
          "05/2021",
          "06/2021",
          "07/2021",
          "08/2021",
          "09/2021",
          "10/2021",
          "11/2021",
          "12/2021",
          "01/2022",
          "02/2022",
          "03/2022",
          "04/2022",
          "05/2022",
          "06/2022",
          "07/2022",
          "08/2022",
          "09/2022",
          "10/2022",
          "11/2022",
          "12/2022",
          "01/2023"
         ],
         "y": [
          null,
          null,
          null,
          null,
          null,
          null,
          null,
          null,
          null,
          null,
          0,
          0,
          0,
          0,
          0,
          0,
          0,
          0,
          0,
          0,
          0,
          0,
          0,
          0,
          0,
          12660,
          20064,
          13843,
          10446,
          3382,
          259,
          6742,
          6375,
          1442,
          433
         ]
        },
        {
         "name": "Omicron Booster Doses",
         "type": "bar",
         "x": [
          "03/2020",
          "04/2020",
          "05/2020",
          "06/2020",
          "07/2020",
          "08/2020",
          "09/2020",
          "10/2020",
          "11/2020",
          "12/2020",
          "01/2021",
          "02/2021",
          "03/2021",
          "04/2021",
          "05/2021",
          "06/2021",
          "07/2021",
          "08/2021",
          "09/2021",
          "10/2021",
          "11/2021",
          "12/2021",
          "01/2022",
          "02/2022",
          "03/2022",
          "04/2022",
          "05/2022",
          "06/2022",
          "07/2022",
          "08/2022",
          "09/2022",
          "10/2022",
          "11/2022",
          "12/2022",
          "01/2023"
         ],
         "y": [
          null,
          null,
          null,
          null,
          null,
          null,
          null,
          null,
          null,
          null,
          0,
          0,
          0,
          0,
          0,
          0,
          0,
          0,
          0,
          0,
          0,
          0,
          0,
          0,
          0,
          0,
          0,
          0,
          0,
          0,
          0,
          0,
          5609,
          2178,
          566
         ]
        },
        {
         "marker": {
          "color": "black"
         },
         "mode": "lines+markers",
         "name": "Positivity Rate",
         "type": "scatter",
         "x": [
          "03/2020",
          "04/2020",
          "05/2020",
          "06/2020",
          "07/2020",
          "08/2020",
          "09/2020",
          "10/2020",
          "11/2020",
          "12/2020",
          "01/2021",
          "02/2021",
          "03/2021",
          "04/2021",
          "05/2021",
          "06/2021",
          "07/2021",
          "08/2021",
          "09/2021",
          "10/2021",
          "11/2021",
          "12/2021",
          "01/2022",
          "02/2022",
          "03/2022",
          "04/2022",
          "05/2022",
          "06/2022",
          "07/2022",
          "08/2022",
          "09/2022",
          "10/2022",
          "11/2022",
          "12/2022",
          "01/2023"
         ],
         "xaxis": "x",
         "y": [
          null,
          null,
          null,
          null,
          1.0316875460574797,
          1.8255387221228947,
          1.834561578815888,
          3.5875733384630184,
          4.207624465946908,
          3.3439380316757727,
          5.229351250497038,
          5.2940700403500855,
          6.010532883147387,
          2.1721502389537792,
          0.4068511728364056,
          0.14823049842505095,
          3.467847800013222,
          1.8701277987120444,
          1.037897038066837,
          0.9066150648606034,
          2.7616346645590215,
          8.898189365595217,
          11.410435863080757,
          6.829436830588506,
          12.374081336346899,
          15.882850634559063,
          7.301703163017032,
          20.14889529298751,
          18.420502688223113,
          4.963645964498964,
          3.722818208176283,
          4.120155524896526,
          3.8138231631382316,
          5.994280686317642,
          8.588261953319737
         ],
         "yaxis": "y2"
        }
       ],
       "layout": {
        "barmode": "stack",
        "template": {
         "data": {
          "bar": [
           {
            "error_x": {
             "color": "#2a3f5f"
            },
            "error_y": {
             "color": "#2a3f5f"
            },
            "marker": {
             "line": {
              "color": "#E5ECF6",
              "width": 0.5
             },
             "pattern": {
              "fillmode": "overlay",
              "size": 10,
              "solidity": 0.2
             }
            },
            "type": "bar"
           }
          ],
          "barpolar": [
           {
            "marker": {
             "line": {
              "color": "#E5ECF6",
              "width": 0.5
             },
             "pattern": {
              "fillmode": "overlay",
              "size": 10,
              "solidity": 0.2
             }
            },
            "type": "barpolar"
           }
          ],
          "carpet": [
           {
            "aaxis": {
             "endlinecolor": "#2a3f5f",
             "gridcolor": "white",
             "linecolor": "white",
             "minorgridcolor": "white",
             "startlinecolor": "#2a3f5f"
            },
            "baxis": {
             "endlinecolor": "#2a3f5f",
             "gridcolor": "white",
             "linecolor": "white",
             "minorgridcolor": "white",
             "startlinecolor": "#2a3f5f"
            },
            "type": "carpet"
           }
          ],
          "choropleth": [
           {
            "colorbar": {
             "outlinewidth": 0,
             "ticks": ""
            },
            "type": "choropleth"
           }
          ],
          "contour": [
           {
            "colorbar": {
             "outlinewidth": 0,
             "ticks": ""
            },
            "colorscale": [
             [
              0,
              "#0d0887"
             ],
             [
              0.1111111111111111,
              "#46039f"
             ],
             [
              0.2222222222222222,
              "#7201a8"
             ],
             [
              0.3333333333333333,
              "#9c179e"
             ],
             [
              0.4444444444444444,
              "#bd3786"
             ],
             [
              0.5555555555555556,
              "#d8576b"
             ],
             [
              0.6666666666666666,
              "#ed7953"
             ],
             [
              0.7777777777777778,
              "#fb9f3a"
             ],
             [
              0.8888888888888888,
              "#fdca26"
             ],
             [
              1,
              "#f0f921"
             ]
            ],
            "type": "contour"
           }
          ],
          "contourcarpet": [
           {
            "colorbar": {
             "outlinewidth": 0,
             "ticks": ""
            },
            "type": "contourcarpet"
           }
          ],
          "heatmap": [
           {
            "colorbar": {
             "outlinewidth": 0,
             "ticks": ""
            },
            "colorscale": [
             [
              0,
              "#0d0887"
             ],
             [
              0.1111111111111111,
              "#46039f"
             ],
             [
              0.2222222222222222,
              "#7201a8"
             ],
             [
              0.3333333333333333,
              "#9c179e"
             ],
             [
              0.4444444444444444,
              "#bd3786"
             ],
             [
              0.5555555555555556,
              "#d8576b"
             ],
             [
              0.6666666666666666,
              "#ed7953"
             ],
             [
              0.7777777777777778,
              "#fb9f3a"
             ],
             [
              0.8888888888888888,
              "#fdca26"
             ],
             [
              1,
              "#f0f921"
             ]
            ],
            "type": "heatmap"
           }
          ],
          "heatmapgl": [
           {
            "colorbar": {
             "outlinewidth": 0,
             "ticks": ""
            },
            "colorscale": [
             [
              0,
              "#0d0887"
             ],
             [
              0.1111111111111111,
              "#46039f"
             ],
             [
              0.2222222222222222,
              "#7201a8"
             ],
             [
              0.3333333333333333,
              "#9c179e"
             ],
             [
              0.4444444444444444,
              "#bd3786"
             ],
             [
              0.5555555555555556,
              "#d8576b"
             ],
             [
              0.6666666666666666,
              "#ed7953"
             ],
             [
              0.7777777777777778,
              "#fb9f3a"
             ],
             [
              0.8888888888888888,
              "#fdca26"
             ],
             [
              1,
              "#f0f921"
             ]
            ],
            "type": "heatmapgl"
           }
          ],
          "histogram": [
           {
            "marker": {
             "pattern": {
              "fillmode": "overlay",
              "size": 10,
              "solidity": 0.2
             }
            },
            "type": "histogram"
           }
          ],
          "histogram2d": [
           {
            "colorbar": {
             "outlinewidth": 0,
             "ticks": ""
            },
            "colorscale": [
             [
              0,
              "#0d0887"
             ],
             [
              0.1111111111111111,
              "#46039f"
             ],
             [
              0.2222222222222222,
              "#7201a8"
             ],
             [
              0.3333333333333333,
              "#9c179e"
             ],
             [
              0.4444444444444444,
              "#bd3786"
             ],
             [
              0.5555555555555556,
              "#d8576b"
             ],
             [
              0.6666666666666666,
              "#ed7953"
             ],
             [
              0.7777777777777778,
              "#fb9f3a"
             ],
             [
              0.8888888888888888,
              "#fdca26"
             ],
             [
              1,
              "#f0f921"
             ]
            ],
            "type": "histogram2d"
           }
          ],
          "histogram2dcontour": [
           {
            "colorbar": {
             "outlinewidth": 0,
             "ticks": ""
            },
            "colorscale": [
             [
              0,
              "#0d0887"
             ],
             [
              0.1111111111111111,
              "#46039f"
             ],
             [
              0.2222222222222222,
              "#7201a8"
             ],
             [
              0.3333333333333333,
              "#9c179e"
             ],
             [
              0.4444444444444444,
              "#bd3786"
             ],
             [
              0.5555555555555556,
              "#d8576b"
             ],
             [
              0.6666666666666666,
              "#ed7953"
             ],
             [
              0.7777777777777778,
              "#fb9f3a"
             ],
             [
              0.8888888888888888,
              "#fdca26"
             ],
             [
              1,
              "#f0f921"
             ]
            ],
            "type": "histogram2dcontour"
           }
          ],
          "mesh3d": [
           {
            "colorbar": {
             "outlinewidth": 0,
             "ticks": ""
            },
            "type": "mesh3d"
           }
          ],
          "parcoords": [
           {
            "line": {
             "colorbar": {
              "outlinewidth": 0,
              "ticks": ""
             }
            },
            "type": "parcoords"
           }
          ],
          "pie": [
           {
            "automargin": true,
            "type": "pie"
           }
          ],
          "scatter": [
           {
            "fillpattern": {
             "fillmode": "overlay",
             "size": 10,
             "solidity": 0.2
            },
            "type": "scatter"
           }
          ],
          "scatter3d": [
           {
            "line": {
             "colorbar": {
              "outlinewidth": 0,
              "ticks": ""
             }
            },
            "marker": {
             "colorbar": {
              "outlinewidth": 0,
              "ticks": ""
             }
            },
            "type": "scatter3d"
           }
          ],
          "scattercarpet": [
           {
            "marker": {
             "colorbar": {
              "outlinewidth": 0,
              "ticks": ""
             }
            },
            "type": "scattercarpet"
           }
          ],
          "scattergeo": [
           {
            "marker": {
             "colorbar": {
              "outlinewidth": 0,
              "ticks": ""
             }
            },
            "type": "scattergeo"
           }
          ],
          "scattergl": [
           {
            "marker": {
             "colorbar": {
              "outlinewidth": 0,
              "ticks": ""
             }
            },
            "type": "scattergl"
           }
          ],
          "scattermapbox": [
           {
            "marker": {
             "colorbar": {
              "outlinewidth": 0,
              "ticks": ""
             }
            },
            "type": "scattermapbox"
           }
          ],
          "scatterpolar": [
           {
            "marker": {
             "colorbar": {
              "outlinewidth": 0,
              "ticks": ""
             }
            },
            "type": "scatterpolar"
           }
          ],
          "scatterpolargl": [
           {
            "marker": {
             "colorbar": {
              "outlinewidth": 0,
              "ticks": ""
             }
            },
            "type": "scatterpolargl"
           }
          ],
          "scatterternary": [
           {
            "marker": {
             "colorbar": {
              "outlinewidth": 0,
              "ticks": ""
             }
            },
            "type": "scatterternary"
           }
          ],
          "surface": [
           {
            "colorbar": {
             "outlinewidth": 0,
             "ticks": ""
            },
            "colorscale": [
             [
              0,
              "#0d0887"
             ],
             [
              0.1111111111111111,
              "#46039f"
             ],
             [
              0.2222222222222222,
              "#7201a8"
             ],
             [
              0.3333333333333333,
              "#9c179e"
             ],
             [
              0.4444444444444444,
              "#bd3786"
             ],
             [
              0.5555555555555556,
              "#d8576b"
             ],
             [
              0.6666666666666666,
              "#ed7953"
             ],
             [
              0.7777777777777778,
              "#fb9f3a"
             ],
             [
              0.8888888888888888,
              "#fdca26"
             ],
             [
              1,
              "#f0f921"
             ]
            ],
            "type": "surface"
           }
          ],
          "table": [
           {
            "cells": {
             "fill": {
              "color": "#EBF0F8"
             },
             "line": {
              "color": "white"
             }
            },
            "header": {
             "fill": {
              "color": "#C8D4E3"
             },
             "line": {
              "color": "white"
             }
            },
            "type": "table"
           }
          ]
         },
         "layout": {
          "annotationdefaults": {
           "arrowcolor": "#2a3f5f",
           "arrowhead": 0,
           "arrowwidth": 1
          },
          "autotypenumbers": "strict",
          "coloraxis": {
           "colorbar": {
            "outlinewidth": 0,
            "ticks": ""
           }
          },
          "colorscale": {
           "diverging": [
            [
             0,
             "#8e0152"
            ],
            [
             0.1,
             "#c51b7d"
            ],
            [
             0.2,
             "#de77ae"
            ],
            [
             0.3,
             "#f1b6da"
            ],
            [
             0.4,
             "#fde0ef"
            ],
            [
             0.5,
             "#f7f7f7"
            ],
            [
             0.6,
             "#e6f5d0"
            ],
            [
             0.7,
             "#b8e186"
            ],
            [
             0.8,
             "#7fbc41"
            ],
            [
             0.9,
             "#4d9221"
            ],
            [
             1,
             "#276419"
            ]
           ],
           "sequential": [
            [
             0,
             "#0d0887"
            ],
            [
             0.1111111111111111,
             "#46039f"
            ],
            [
             0.2222222222222222,
             "#7201a8"
            ],
            [
             0.3333333333333333,
             "#9c179e"
            ],
            [
             0.4444444444444444,
             "#bd3786"
            ],
            [
             0.5555555555555556,
             "#d8576b"
            ],
            [
             0.6666666666666666,
             "#ed7953"
            ],
            [
             0.7777777777777778,
             "#fb9f3a"
            ],
            [
             0.8888888888888888,
             "#fdca26"
            ],
            [
             1,
             "#f0f921"
            ]
           ],
           "sequentialminus": [
            [
             0,
             "#0d0887"
            ],
            [
             0.1111111111111111,
             "#46039f"
            ],
            [
             0.2222222222222222,
             "#7201a8"
            ],
            [
             0.3333333333333333,
             "#9c179e"
            ],
            [
             0.4444444444444444,
             "#bd3786"
            ],
            [
             0.5555555555555556,
             "#d8576b"
            ],
            [
             0.6666666666666666,
             "#ed7953"
            ],
            [
             0.7777777777777778,
             "#fb9f3a"
            ],
            [
             0.8888888888888888,
             "#fdca26"
            ],
            [
             1,
             "#f0f921"
            ]
           ]
          },
          "colorway": [
           "#636efa",
           "#EF553B",
           "#00cc96",
           "#ab63fa",
           "#FFA15A",
           "#19d3f3",
           "#FF6692",
           "#B6E880",
           "#FF97FF",
           "#FECB52"
          ],
          "font": {
           "color": "#2a3f5f"
          },
          "geo": {
           "bgcolor": "white",
           "lakecolor": "white",
           "landcolor": "#E5ECF6",
           "showlakes": true,
           "showland": true,
           "subunitcolor": "white"
          },
          "hoverlabel": {
           "align": "left"
          },
          "hovermode": "closest",
          "mapbox": {
           "style": "light"
          },
          "paper_bgcolor": "white",
          "plot_bgcolor": "#E5ECF6",
          "polar": {
           "angularaxis": {
            "gridcolor": "white",
            "linecolor": "white",
            "ticks": ""
           },
           "bgcolor": "#E5ECF6",
           "radialaxis": {
            "gridcolor": "white",
            "linecolor": "white",
            "ticks": ""
           }
          },
          "scene": {
           "xaxis": {
            "backgroundcolor": "#E5ECF6",
            "gridcolor": "white",
            "gridwidth": 2,
            "linecolor": "white",
            "showbackground": true,
            "ticks": "",
            "zerolinecolor": "white"
           },
           "yaxis": {
            "backgroundcolor": "#E5ECF6",
            "gridcolor": "white",
            "gridwidth": 2,
            "linecolor": "white",
            "showbackground": true,
            "ticks": "",
            "zerolinecolor": "white"
           },
           "zaxis": {
            "backgroundcolor": "#E5ECF6",
            "gridcolor": "white",
            "gridwidth": 2,
            "linecolor": "white",
            "showbackground": true,
            "ticks": "",
            "zerolinecolor": "white"
           }
          },
          "shapedefaults": {
           "line": {
            "color": "#2a3f5f"
           }
          },
          "ternary": {
           "aaxis": {
            "gridcolor": "white",
            "linecolor": "white",
            "ticks": ""
           },
           "baxis": {
            "gridcolor": "white",
            "linecolor": "white",
            "ticks": ""
           },
           "bgcolor": "#E5ECF6",
           "caxis": {
            "gridcolor": "white",
            "linecolor": "white",
            "ticks": ""
           }
          },
          "title": {
           "x": 0.05
          },
          "xaxis": {
           "automargin": true,
           "gridcolor": "white",
           "linecolor": "white",
           "ticks": "",
           "title": {
            "standoff": 15
           },
           "zerolinecolor": "white",
           "zerolinewidth": 2
          },
          "yaxis": {
           "automargin": true,
           "gridcolor": "white",
           "linecolor": "white",
           "ticks": "",
           "title": {
            "standoff": 15
           },
           "zerolinecolor": "white",
           "zerolinewidth": 2
          }
         }
        },
        "title": {
         "text": "Vaccinations & Positivity Rate %"
        },
        "xaxis": {
         "anchor": "y",
         "domain": [
          0,
          0.94
         ]
        },
        "yaxis": {
         "anchor": "x",
         "domain": [
          0,
          1
         ],
         "title": {
          "text": "Doses"
         }
        },
        "yaxis2": {
         "anchor": "x",
         "overlaying": "y",
         "side": "right",
         "title": {
          "text": "Rate %"
         }
        }
       }
      },
      "text/html": [
       "<div>                            <div id=\"a9377e1d-d87d-48cf-82e0-94dac3eff9ad\" class=\"plotly-graph-div\" style=\"height:525px; width:100%;\"></div>            <script type=\"text/javascript\">                require([\"plotly\"], function(Plotly) {                    window.PLOTLYENV=window.PLOTLYENV || {};                                    if (document.getElementById(\"a9377e1d-d87d-48cf-82e0-94dac3eff9ad\")) {                    Plotly.newPlot(                        \"a9377e1d-d87d-48cf-82e0-94dac3eff9ad\",                        [{\"name\":\"Received One Dose\",\"x\":[\"03/2020\",\"04/2020\",\"05/2020\",\"06/2020\",\"07/2020\",\"08/2020\",\"09/2020\",\"10/2020\",\"11/2020\",\"12/2020\",\"01/2021\",\"02/2021\",\"03/2021\",\"04/2021\",\"05/2021\",\"06/2021\",\"07/2021\",\"08/2021\",\"09/2021\",\"10/2021\",\"11/2021\",\"12/2021\",\"01/2022\",\"02/2022\",\"03/2022\",\"04/2022\",\"05/2022\",\"06/2022\",\"07/2022\",\"08/2022\",\"09/2022\",\"10/2022\",\"11/2022\",\"12/2022\",\"01/2023\"],\"y\":[null,null,null,null,null,null,null,null,null,null,23811.0,27765.0,91229.0,86005.0,89933.0,40426.0,40521.0,14295.0,7617.0,8681.0,5492.0,8840.0,19820.0,6161.0,3249.0,1630.0,876.0,537.0,502.0,296.0,280.0,305.0,146.0,136.0,40.0],\"type\":\"bar\"},{\"name\":\"Primary Vaccination\",\"x\":[\"03/2020\",\"04/2020\",\"05/2020\",\"06/2020\",\"07/2020\",\"08/2020\",\"09/2020\",\"10/2020\",\"11/2020\",\"12/2020\",\"01/2021\",\"02/2021\",\"03/2021\",\"04/2021\",\"05/2021\",\"06/2021\",\"07/2021\",\"08/2021\",\"09/2021\",\"10/2021\",\"11/2021\",\"12/2021\",\"01/2022\",\"02/2022\",\"03/2022\",\"04/2022\",\"05/2022\",\"06/2022\",\"07/2022\",\"08/2022\",\"09/2022\",\"10/2022\",\"11/2022\",\"12/2022\",\"01/2023\"],\"y\":[null,null,null,null,null,null,null,null,null,null,3948.0,24100.0,26530.0,52460.0,103448.0,115405.0,56364.0,30512.0,8946.0,6620.0,4010.0,3531.0,15357.0,11952.0,3310.0,1818.0,898.0,593.0,470.0,313.0,260.0,240.0,135.0,106.0,24.0],\"type\":\"bar\"},{\"name\":\"Booster Doses\",\"x\":[\"03/2020\",\"04/2020\",\"05/2020\",\"06/2020\",\"07/2020\",\"08/2020\",\"09/2020\",\"10/2020\",\"11/2020\",\"12/2020\",\"01/2021\",\"02/2021\",\"03/2021\",\"04/2021\",\"05/2021\",\"06/2021\",\"07/2021\",\"08/2021\",\"09/2021\",\"10/2021\",\"11/2021\",\"12/2021\",\"01/2022\",\"02/2022\",\"03/2022\",\"04/2022\",\"05/2022\",\"06/2022\",\"07/2022\",\"08/2022\",\"09/2022\",\"10/2022\",\"11/2022\",\"12/2022\",\"01/2023\"],\"y\":[null,null,null,null,null,null,null,null,null,null,0.0,0.0,0.0,0.0,0.0,0.0,0.0,0.0,12071.0,40844.0,71029.0,100246.0,106865.0,12056.0,7598.0,4077.0,2100.0,1493.0,1073.0,493.0,341.0,519.0,435.0,192.0,66.0],\"type\":\"bar\"},{\"name\":\"2nd Booster Doses\",\"x\":[\"03/2020\",\"04/2020\",\"05/2020\",\"06/2020\",\"07/2020\",\"08/2020\",\"09/2020\",\"10/2020\",\"11/2020\",\"12/2020\",\"01/2021\",\"02/2021\",\"03/2021\",\"04/2021\",\"05/2021\",\"06/2021\",\"07/2021\",\"08/2021\",\"09/2021\",\"10/2021\",\"11/2021\",\"12/2021\",\"01/2022\",\"02/2022\",\"03/2022\",\"04/2022\",\"05/2022\",\"06/2022\",\"07/2022\",\"08/2022\",\"09/2022\",\"10/2022\",\"11/2022\",\"12/2022\",\"01/2023\"],\"y\":[null,null,null,null,null,null,null,null,null,null,0.0,0.0,0.0,0.0,0.0,0.0,0.0,0.0,0.0,0.0,0.0,0.0,0.0,0.0,0.0,12660.0,20064.0,13843.0,10446.0,3382.0,259.0,6742.0,6375.0,1442.0,433.0],\"type\":\"bar\"},{\"name\":\"Omicron Booster Doses\",\"x\":[\"03/2020\",\"04/2020\",\"05/2020\",\"06/2020\",\"07/2020\",\"08/2020\",\"09/2020\",\"10/2020\",\"11/2020\",\"12/2020\",\"01/2021\",\"02/2021\",\"03/2021\",\"04/2021\",\"05/2021\",\"06/2021\",\"07/2021\",\"08/2021\",\"09/2021\",\"10/2021\",\"11/2021\",\"12/2021\",\"01/2022\",\"02/2022\",\"03/2022\",\"04/2022\",\"05/2022\",\"06/2022\",\"07/2022\",\"08/2022\",\"09/2022\",\"10/2022\",\"11/2022\",\"12/2022\",\"01/2023\"],\"y\":[null,null,null,null,null,null,null,null,null,null,0.0,0.0,0.0,0.0,0.0,0.0,0.0,0.0,0.0,0.0,0.0,0.0,0.0,0.0,0.0,0.0,0.0,0.0,0.0,0.0,0.0,0.0,5609.0,2178.0,566.0],\"type\":\"bar\"},{\"marker\":{\"color\":\"black\"},\"mode\":\"lines+markers\",\"name\":\"Positivity Rate\",\"x\":[\"03/2020\",\"04/2020\",\"05/2020\",\"06/2020\",\"07/2020\",\"08/2020\",\"09/2020\",\"10/2020\",\"11/2020\",\"12/2020\",\"01/2021\",\"02/2021\",\"03/2021\",\"04/2021\",\"05/2021\",\"06/2021\",\"07/2021\",\"08/2021\",\"09/2021\",\"10/2021\",\"11/2021\",\"12/2021\",\"01/2022\",\"02/2022\",\"03/2022\",\"04/2022\",\"05/2022\",\"06/2022\",\"07/2022\",\"08/2022\",\"09/2022\",\"10/2022\",\"11/2022\",\"12/2022\",\"01/2023\"],\"y\":[null,null,null,null,1.0316875460574797,1.8255387221228947,1.834561578815888,3.5875733384630184,4.207624465946908,3.3439380316757727,5.229351250497038,5.2940700403500855,6.010532883147387,2.1721502389537792,0.4068511728364056,0.14823049842505095,3.467847800013222,1.8701277987120444,1.037897038066837,0.9066150648606034,2.7616346645590215,8.898189365595217,11.410435863080757,6.829436830588506,12.374081336346899,15.882850634559063,7.301703163017032,20.14889529298751,18.420502688223113,4.963645964498964,3.722818208176283,4.120155524896526,3.8138231631382316,5.994280686317642,8.588261953319737],\"type\":\"scatter\",\"xaxis\":\"x\",\"yaxis\":\"y2\"}],                        {\"template\":{\"data\":{\"histogram2dcontour\":[{\"type\":\"histogram2dcontour\",\"colorbar\":{\"outlinewidth\":0,\"ticks\":\"\"},\"colorscale\":[[0.0,\"#0d0887\"],[0.1111111111111111,\"#46039f\"],[0.2222222222222222,\"#7201a8\"],[0.3333333333333333,\"#9c179e\"],[0.4444444444444444,\"#bd3786\"],[0.5555555555555556,\"#d8576b\"],[0.6666666666666666,\"#ed7953\"],[0.7777777777777778,\"#fb9f3a\"],[0.8888888888888888,\"#fdca26\"],[1.0,\"#f0f921\"]]}],\"choropleth\":[{\"type\":\"choropleth\",\"colorbar\":{\"outlinewidth\":0,\"ticks\":\"\"}}],\"histogram2d\":[{\"type\":\"histogram2d\",\"colorbar\":{\"outlinewidth\":0,\"ticks\":\"\"},\"colorscale\":[[0.0,\"#0d0887\"],[0.1111111111111111,\"#46039f\"],[0.2222222222222222,\"#7201a8\"],[0.3333333333333333,\"#9c179e\"],[0.4444444444444444,\"#bd3786\"],[0.5555555555555556,\"#d8576b\"],[0.6666666666666666,\"#ed7953\"],[0.7777777777777778,\"#fb9f3a\"],[0.8888888888888888,\"#fdca26\"],[1.0,\"#f0f921\"]]}],\"heatmap\":[{\"type\":\"heatmap\",\"colorbar\":{\"outlinewidth\":0,\"ticks\":\"\"},\"colorscale\":[[0.0,\"#0d0887\"],[0.1111111111111111,\"#46039f\"],[0.2222222222222222,\"#7201a8\"],[0.3333333333333333,\"#9c179e\"],[0.4444444444444444,\"#bd3786\"],[0.5555555555555556,\"#d8576b\"],[0.6666666666666666,\"#ed7953\"],[0.7777777777777778,\"#fb9f3a\"],[0.8888888888888888,\"#fdca26\"],[1.0,\"#f0f921\"]]}],\"heatmapgl\":[{\"type\":\"heatmapgl\",\"colorbar\":{\"outlinewidth\":0,\"ticks\":\"\"},\"colorscale\":[[0.0,\"#0d0887\"],[0.1111111111111111,\"#46039f\"],[0.2222222222222222,\"#7201a8\"],[0.3333333333333333,\"#9c179e\"],[0.4444444444444444,\"#bd3786\"],[0.5555555555555556,\"#d8576b\"],[0.6666666666666666,\"#ed7953\"],[0.7777777777777778,\"#fb9f3a\"],[0.8888888888888888,\"#fdca26\"],[1.0,\"#f0f921\"]]}],\"contourcarpet\":[{\"type\":\"contourcarpet\",\"colorbar\":{\"outlinewidth\":0,\"ticks\":\"\"}}],\"contour\":[{\"type\":\"contour\",\"colorbar\":{\"outlinewidth\":0,\"ticks\":\"\"},\"colorscale\":[[0.0,\"#0d0887\"],[0.1111111111111111,\"#46039f\"],[0.2222222222222222,\"#7201a8\"],[0.3333333333333333,\"#9c179e\"],[0.4444444444444444,\"#bd3786\"],[0.5555555555555556,\"#d8576b\"],[0.6666666666666666,\"#ed7953\"],[0.7777777777777778,\"#fb9f3a\"],[0.8888888888888888,\"#fdca26\"],[1.0,\"#f0f921\"]]}],\"surface\":[{\"type\":\"surface\",\"colorbar\":{\"outlinewidth\":0,\"ticks\":\"\"},\"colorscale\":[[0.0,\"#0d0887\"],[0.1111111111111111,\"#46039f\"],[0.2222222222222222,\"#7201a8\"],[0.3333333333333333,\"#9c179e\"],[0.4444444444444444,\"#bd3786\"],[0.5555555555555556,\"#d8576b\"],[0.6666666666666666,\"#ed7953\"],[0.7777777777777778,\"#fb9f3a\"],[0.8888888888888888,\"#fdca26\"],[1.0,\"#f0f921\"]]}],\"mesh3d\":[{\"type\":\"mesh3d\",\"colorbar\":{\"outlinewidth\":0,\"ticks\":\"\"}}],\"scatter\":[{\"fillpattern\":{\"fillmode\":\"overlay\",\"size\":10,\"solidity\":0.2},\"type\":\"scatter\"}],\"parcoords\":[{\"type\":\"parcoords\",\"line\":{\"colorbar\":{\"outlinewidth\":0,\"ticks\":\"\"}}}],\"scatterpolargl\":[{\"type\":\"scatterpolargl\",\"marker\":{\"colorbar\":{\"outlinewidth\":0,\"ticks\":\"\"}}}],\"bar\":[{\"error_x\":{\"color\":\"#2a3f5f\"},\"error_y\":{\"color\":\"#2a3f5f\"},\"marker\":{\"line\":{\"color\":\"#E5ECF6\",\"width\":0.5},\"pattern\":{\"fillmode\":\"overlay\",\"size\":10,\"solidity\":0.2}},\"type\":\"bar\"}],\"scattergeo\":[{\"type\":\"scattergeo\",\"marker\":{\"colorbar\":{\"outlinewidth\":0,\"ticks\":\"\"}}}],\"scatterpolar\":[{\"type\":\"scatterpolar\",\"marker\":{\"colorbar\":{\"outlinewidth\":0,\"ticks\":\"\"}}}],\"histogram\":[{\"marker\":{\"pattern\":{\"fillmode\":\"overlay\",\"size\":10,\"solidity\":0.2}},\"type\":\"histogram\"}],\"scattergl\":[{\"type\":\"scattergl\",\"marker\":{\"colorbar\":{\"outlinewidth\":0,\"ticks\":\"\"}}}],\"scatter3d\":[{\"type\":\"scatter3d\",\"line\":{\"colorbar\":{\"outlinewidth\":0,\"ticks\":\"\"}},\"marker\":{\"colorbar\":{\"outlinewidth\":0,\"ticks\":\"\"}}}],\"scattermapbox\":[{\"type\":\"scattermapbox\",\"marker\":{\"colorbar\":{\"outlinewidth\":0,\"ticks\":\"\"}}}],\"scatterternary\":[{\"type\":\"scatterternary\",\"marker\":{\"colorbar\":{\"outlinewidth\":0,\"ticks\":\"\"}}}],\"scattercarpet\":[{\"type\":\"scattercarpet\",\"marker\":{\"colorbar\":{\"outlinewidth\":0,\"ticks\":\"\"}}}],\"carpet\":[{\"aaxis\":{\"endlinecolor\":\"#2a3f5f\",\"gridcolor\":\"white\",\"linecolor\":\"white\",\"minorgridcolor\":\"white\",\"startlinecolor\":\"#2a3f5f\"},\"baxis\":{\"endlinecolor\":\"#2a3f5f\",\"gridcolor\":\"white\",\"linecolor\":\"white\",\"minorgridcolor\":\"white\",\"startlinecolor\":\"#2a3f5f\"},\"type\":\"carpet\"}],\"table\":[{\"cells\":{\"fill\":{\"color\":\"#EBF0F8\"},\"line\":{\"color\":\"white\"}},\"header\":{\"fill\":{\"color\":\"#C8D4E3\"},\"line\":{\"color\":\"white\"}},\"type\":\"table\"}],\"barpolar\":[{\"marker\":{\"line\":{\"color\":\"#E5ECF6\",\"width\":0.5},\"pattern\":{\"fillmode\":\"overlay\",\"size\":10,\"solidity\":0.2}},\"type\":\"barpolar\"}],\"pie\":[{\"automargin\":true,\"type\":\"pie\"}]},\"layout\":{\"autotypenumbers\":\"strict\",\"colorway\":[\"#636efa\",\"#EF553B\",\"#00cc96\",\"#ab63fa\",\"#FFA15A\",\"#19d3f3\",\"#FF6692\",\"#B6E880\",\"#FF97FF\",\"#FECB52\"],\"font\":{\"color\":\"#2a3f5f\"},\"hovermode\":\"closest\",\"hoverlabel\":{\"align\":\"left\"},\"paper_bgcolor\":\"white\",\"plot_bgcolor\":\"#E5ECF6\",\"polar\":{\"bgcolor\":\"#E5ECF6\",\"angularaxis\":{\"gridcolor\":\"white\",\"linecolor\":\"white\",\"ticks\":\"\"},\"radialaxis\":{\"gridcolor\":\"white\",\"linecolor\":\"white\",\"ticks\":\"\"}},\"ternary\":{\"bgcolor\":\"#E5ECF6\",\"aaxis\":{\"gridcolor\":\"white\",\"linecolor\":\"white\",\"ticks\":\"\"},\"baxis\":{\"gridcolor\":\"white\",\"linecolor\":\"white\",\"ticks\":\"\"},\"caxis\":{\"gridcolor\":\"white\",\"linecolor\":\"white\",\"ticks\":\"\"}},\"coloraxis\":{\"colorbar\":{\"outlinewidth\":0,\"ticks\":\"\"}},\"colorscale\":{\"sequential\":[[0.0,\"#0d0887\"],[0.1111111111111111,\"#46039f\"],[0.2222222222222222,\"#7201a8\"],[0.3333333333333333,\"#9c179e\"],[0.4444444444444444,\"#bd3786\"],[0.5555555555555556,\"#d8576b\"],[0.6666666666666666,\"#ed7953\"],[0.7777777777777778,\"#fb9f3a\"],[0.8888888888888888,\"#fdca26\"],[1.0,\"#f0f921\"]],\"sequentialminus\":[[0.0,\"#0d0887\"],[0.1111111111111111,\"#46039f\"],[0.2222222222222222,\"#7201a8\"],[0.3333333333333333,\"#9c179e\"],[0.4444444444444444,\"#bd3786\"],[0.5555555555555556,\"#d8576b\"],[0.6666666666666666,\"#ed7953\"],[0.7777777777777778,\"#fb9f3a\"],[0.8888888888888888,\"#fdca26\"],[1.0,\"#f0f921\"]],\"diverging\":[[0,\"#8e0152\"],[0.1,\"#c51b7d\"],[0.2,\"#de77ae\"],[0.3,\"#f1b6da\"],[0.4,\"#fde0ef\"],[0.5,\"#f7f7f7\"],[0.6,\"#e6f5d0\"],[0.7,\"#b8e186\"],[0.8,\"#7fbc41\"],[0.9,\"#4d9221\"],[1,\"#276419\"]]},\"xaxis\":{\"gridcolor\":\"white\",\"linecolor\":\"white\",\"ticks\":\"\",\"title\":{\"standoff\":15},\"zerolinecolor\":\"white\",\"automargin\":true,\"zerolinewidth\":2},\"yaxis\":{\"gridcolor\":\"white\",\"linecolor\":\"white\",\"ticks\":\"\",\"title\":{\"standoff\":15},\"zerolinecolor\":\"white\",\"automargin\":true,\"zerolinewidth\":2},\"scene\":{\"xaxis\":{\"backgroundcolor\":\"#E5ECF6\",\"gridcolor\":\"white\",\"linecolor\":\"white\",\"showbackground\":true,\"ticks\":\"\",\"zerolinecolor\":\"white\",\"gridwidth\":2},\"yaxis\":{\"backgroundcolor\":\"#E5ECF6\",\"gridcolor\":\"white\",\"linecolor\":\"white\",\"showbackground\":true,\"ticks\":\"\",\"zerolinecolor\":\"white\",\"gridwidth\":2},\"zaxis\":{\"backgroundcolor\":\"#E5ECF6\",\"gridcolor\":\"white\",\"linecolor\":\"white\",\"showbackground\":true,\"ticks\":\"\",\"zerolinecolor\":\"white\",\"gridwidth\":2}},\"shapedefaults\":{\"line\":{\"color\":\"#2a3f5f\"}},\"annotationdefaults\":{\"arrowcolor\":\"#2a3f5f\",\"arrowhead\":0,\"arrowwidth\":1},\"geo\":{\"bgcolor\":\"white\",\"landcolor\":\"#E5ECF6\",\"subunitcolor\":\"white\",\"showland\":true,\"showlakes\":true,\"lakecolor\":\"white\"},\"title\":{\"x\":0.05},\"mapbox\":{\"style\":\"light\"}}},\"xaxis\":{\"anchor\":\"y\",\"domain\":[0.0,0.94]},\"yaxis\":{\"anchor\":\"x\",\"domain\":[0.0,1.0],\"title\":{\"text\":\"Doses\"}},\"yaxis2\":{\"anchor\":\"x\",\"overlaying\":\"y\",\"side\":\"right\",\"title\":{\"text\":\"Rate %\"}},\"barmode\":\"stack\",\"title\":{\"text\":\"Vaccinations & Positivity Rate %\"}},                        {\"responsive\": true}                    ).then(function(){\n",
       "                            \n",
       "var gd = document.getElementById('a9377e1d-d87d-48cf-82e0-94dac3eff9ad');\n",
       "var x = new MutationObserver(function (mutations, observer) {{\n",
       "        var display = window.getComputedStyle(gd).display;\n",
       "        if (!display || display === 'none') {{\n",
       "            console.log([gd, 'removed!']);\n",
       "            Plotly.purge(gd);\n",
       "            observer.disconnect();\n",
       "        }}\n",
       "}});\n",
       "\n",
       "// Listen for the removal of the full notebook cells\n",
       "var notebookContainer = gd.closest('#notebook-container');\n",
       "if (notebookContainer) {{\n",
       "    x.observe(notebookContainer, {childList: true});\n",
       "}}\n",
       "\n",
       "// Listen for the clearing of the current output cell\n",
       "var outputEl = gd.closest('.output');\n",
       "if (outputEl) {{\n",
       "    x.observe(outputEl, {childList: true});\n",
       "}}\n",
       "\n",
       "                        })                };                });            </script>        </div>"
      ]
     },
     "metadata": {},
     "output_type": "display_data"
    }
   ],
   "source": [
    "fig = make_subplots(specs=[[{\"secondary_y\": True}]])\n",
    "\n",
    "fig.add_traces([\n",
    "    go.Bar(name='Received One Dose', x=data_df['Date'], y=data_df['New Received one dose']),\n",
    "    go.Bar(name='Primary Vaccination', x=data_df['Date'], y=data_df['New Primary Vaccination']),\n",
    "    go.Bar(name='Booster Doses', x=data_df['Date'], y=data_df['New Booster doses']),\n",
    "    go.Bar(name='2nd Booster Doses', x=data_df['Date'], y=data_df['New 2nd Booster doses']),\n",
    "    go.Bar(name='Omicron Booster Doses', x=data_df['Date'], y=data_df['New Omicron booster doses'])\n",
    "])\n",
    "fig.update_layout(barmode='stack')\n",
    "\n",
    "fig.add_trace(\n",
    "    go.Scatter(\n",
    "        x=data_df['Date'],\n",
    "        y=data_df['Positivity Rate'],\n",
    "        mode='lines+markers',\n",
    "        name='Positivity Rate',\n",
    "        marker_color='black'\n",
    "    ),\n",
    "    secondary_y=True\n",
    ")\n",
    "\n",
    "\n",
    "fig.update_layout(\n",
    "    title_text=\"Vaccinations & Positivity Rate %\"\n",
    ")\n",
    "\n",
    "fig.update_yaxes(title_text=\"Doses\", secondary_y=False)\n",
    "fig.update_yaxes(title_text=\"Rate %\", secondary_y=True)\n",
    "\n",
    "fig.show()\n"
   ]
  },
  {
   "attachments": {},
   "cell_type": "markdown",
   "metadata": {},
   "source": [
    "### Vaccinations, Positivity Rate & Deaths"
   ]
  },
  {
   "cell_type": "code",
   "execution_count": 66,
   "metadata": {},
   "outputs": [
    {
     "data": {
      "application/vnd.plotly.v1+json": {
       "config": {
        "plotlyServerURL": "https://plot.ly"
       },
       "data": [
        {
         "name": "Received One Dose",
         "type": "bar",
         "x": [
          "03/2020",
          "04/2020",
          "05/2020",
          "06/2020",
          "07/2020",
          "08/2020",
          "09/2020",
          "10/2020",
          "11/2020",
          "12/2020",
          "01/2021",
          "02/2021",
          "03/2021",
          "04/2021",
          "05/2021",
          "06/2021",
          "07/2021",
          "08/2021",
          "09/2021",
          "10/2021",
          "11/2021",
          "12/2021",
          "01/2022",
          "02/2022",
          "03/2022",
          "04/2022",
          "05/2022",
          "06/2022",
          "07/2022",
          "08/2022",
          "09/2022",
          "10/2022",
          "11/2022",
          "12/2022",
          "01/2023"
         ],
         "y": [
          null,
          null,
          null,
          null,
          null,
          null,
          null,
          null,
          null,
          null,
          23811,
          27765,
          91229,
          86005,
          89933,
          40426,
          40521,
          14295,
          7617,
          8681,
          5492,
          8840,
          19820,
          6161,
          3249,
          1630,
          876,
          537,
          502,
          296,
          280,
          305,
          146,
          136,
          40
         ]
        },
        {
         "name": "Primary Vaccination",
         "type": "bar",
         "x": [
          "03/2020",
          "04/2020",
          "05/2020",
          "06/2020",
          "07/2020",
          "08/2020",
          "09/2020",
          "10/2020",
          "11/2020",
          "12/2020",
          "01/2021",
          "02/2021",
          "03/2021",
          "04/2021",
          "05/2021",
          "06/2021",
          "07/2021",
          "08/2021",
          "09/2021",
          "10/2021",
          "11/2021",
          "12/2021",
          "01/2022",
          "02/2022",
          "03/2022",
          "04/2022",
          "05/2022",
          "06/2022",
          "07/2022",
          "08/2022",
          "09/2022",
          "10/2022",
          "11/2022",
          "12/2022",
          "01/2023"
         ],
         "y": [
          null,
          null,
          null,
          null,
          null,
          null,
          null,
          null,
          null,
          null,
          3948,
          24100,
          26530,
          52460,
          103448,
          115405,
          56364,
          30512,
          8946,
          6620,
          4010,
          3531,
          15357,
          11952,
          3310,
          1818,
          898,
          593,
          470,
          313,
          260,
          240,
          135,
          106,
          24
         ]
        },
        {
         "name": "Booster Doses",
         "type": "bar",
         "x": [
          "03/2020",
          "04/2020",
          "05/2020",
          "06/2020",
          "07/2020",
          "08/2020",
          "09/2020",
          "10/2020",
          "11/2020",
          "12/2020",
          "01/2021",
          "02/2021",
          "03/2021",
          "04/2021",
          "05/2021",
          "06/2021",
          "07/2021",
          "08/2021",
          "09/2021",
          "10/2021",
          "11/2021",
          "12/2021",
          "01/2022",
          "02/2022",
          "03/2022",
          "04/2022",
          "05/2022",
          "06/2022",
          "07/2022",
          "08/2022",
          "09/2022",
          "10/2022",
          "11/2022",
          "12/2022",
          "01/2023"
         ],
         "y": [
          null,
          null,
          null,
          null,
          null,
          null,
          null,
          null,
          null,
          null,
          0,
          0,
          0,
          0,
          0,
          0,
          0,
          0,
          12071,
          40844,
          71029,
          100246,
          106865,
          12056,
          7598,
          4077,
          2100,
          1493,
          1073,
          493,
          341,
          519,
          435,
          192,
          66
         ]
        },
        {
         "name": "2nd Booster Doses",
         "type": "bar",
         "x": [
          "03/2020",
          "04/2020",
          "05/2020",
          "06/2020",
          "07/2020",
          "08/2020",
          "09/2020",
          "10/2020",
          "11/2020",
          "12/2020",
          "01/2021",
          "02/2021",
          "03/2021",
          "04/2021",
          "05/2021",
          "06/2021",
          "07/2021",
          "08/2021",
          "09/2021",
          "10/2021",
          "11/2021",
          "12/2021",
          "01/2022",
          "02/2022",
          "03/2022",
          "04/2022",
          "05/2022",
          "06/2022",
          "07/2022",
          "08/2022",
          "09/2022",
          "10/2022",
          "11/2022",
          "12/2022",
          "01/2023"
         ],
         "y": [
          null,
          null,
          null,
          null,
          null,
          null,
          null,
          null,
          null,
          null,
          0,
          0,
          0,
          0,
          0,
          0,
          0,
          0,
          0,
          0,
          0,
          0,
          0,
          0,
          0,
          12660,
          20064,
          13843,
          10446,
          3382,
          259,
          6742,
          6375,
          1442,
          433
         ]
        },
        {
         "name": "Omicron Booster Doses",
         "type": "bar",
         "x": [
          "03/2020",
          "04/2020",
          "05/2020",
          "06/2020",
          "07/2020",
          "08/2020",
          "09/2020",
          "10/2020",
          "11/2020",
          "12/2020",
          "01/2021",
          "02/2021",
          "03/2021",
          "04/2021",
          "05/2021",
          "06/2021",
          "07/2021",
          "08/2021",
          "09/2021",
          "10/2021",
          "11/2021",
          "12/2021",
          "01/2022",
          "02/2022",
          "03/2022",
          "04/2022",
          "05/2022",
          "06/2022",
          "07/2022",
          "08/2022",
          "09/2022",
          "10/2022",
          "11/2022",
          "12/2022",
          "01/2023"
         ],
         "y": [
          null,
          null,
          null,
          null,
          null,
          null,
          null,
          null,
          null,
          null,
          0,
          0,
          0,
          0,
          0,
          0,
          0,
          0,
          0,
          0,
          0,
          0,
          0,
          0,
          0,
          0,
          0,
          0,
          0,
          0,
          0,
          0,
          5609,
          2178,
          566
         ]
        },
        {
         "marker": {
          "color": "black"
         },
         "mode": "lines+markers",
         "name": "Positivity Rate",
         "type": "scatter",
         "x": [
          "03/2020",
          "04/2020",
          "05/2020",
          "06/2020",
          "07/2020",
          "08/2020",
          "09/2020",
          "10/2020",
          "11/2020",
          "12/2020",
          "01/2021",
          "02/2021",
          "03/2021",
          "04/2021",
          "05/2021",
          "06/2021",
          "07/2021",
          "08/2021",
          "09/2021",
          "10/2021",
          "11/2021",
          "12/2021",
          "01/2022",
          "02/2022",
          "03/2022",
          "04/2022",
          "05/2022",
          "06/2022",
          "07/2022",
          "08/2022",
          "09/2022",
          "10/2022",
          "11/2022",
          "12/2022",
          "01/2023"
         ],
         "y": [
          null,
          null,
          null,
          null,
          1.0316875460574797,
          1.8255387221228947,
          1.834561578815888,
          3.5875733384630184,
          4.207624465946908,
          3.3439380316757727,
          5.229351250497038,
          5.2940700403500855,
          6.010532883147387,
          2.1721502389537792,
          0.4068511728364056,
          0.14823049842505095,
          3.467847800013222,
          1.8701277987120444,
          1.037897038066837,
          0.9066150648606034,
          2.7616346645590215,
          8.898189365595217,
          11.410435863080757,
          6.829436830588506,
          12.374081336346899,
          15.882850634559063,
          7.301703163017032,
          20.14889529298751,
          18.420502688223113,
          4.963645964498964,
          3.722818208176283,
          4.120155524896526,
          3.8138231631382316,
          5.994280686317642,
          8.588261953319737
         ],
         "yaxis": "y2"
        },
        {
         "marker": {
          "color": "red"
         },
         "mode": "lines+markers",
         "name": "Deaths",
         "type": "scatter",
         "x": [
          "03/2020",
          "04/2020",
          "05/2020",
          "06/2020",
          "07/2020",
          "08/2020",
          "09/2020",
          "10/2020",
          "11/2020",
          "12/2020",
          "01/2021",
          "02/2021",
          "03/2021",
          "04/2021",
          "05/2021",
          "06/2021",
          "07/2021",
          "08/2021",
          "09/2021",
          "10/2021",
          "11/2021",
          "12/2021",
          "01/2022",
          "02/2022",
          "03/2022",
          "04/2022",
          "05/2022",
          "06/2022",
          "07/2022",
          "08/2022",
          "09/2022",
          "10/2022",
          "11/2022",
          "12/2022",
          "01/2023"
         ],
         "y": [
          0,
          4,
          5,
          0,
          0,
          3,
          22,
          28,
          75,
          82,
          48,
          48,
          77,
          21,
          6,
          1,
          3,
          18,
          16,
          4,
          7,
          9,
          73,
          55,
          33,
          60,
          23,
          20,
          53,
          7,
          5,
          2,
          1,
          6,
          7
         ],
         "yaxis": "y3"
        }
       ],
       "layout": {
        "barmode": "stack",
        "legend": {
         "x": 0.01,
         "xanchor": "left",
         "y": 0.99,
         "yanchor": "top"
        },
        "template": {
         "data": {
          "bar": [
           {
            "error_x": {
             "color": "#2a3f5f"
            },
            "error_y": {
             "color": "#2a3f5f"
            },
            "marker": {
             "line": {
              "color": "#E5ECF6",
              "width": 0.5
             },
             "pattern": {
              "fillmode": "overlay",
              "size": 10,
              "solidity": 0.2
             }
            },
            "type": "bar"
           }
          ],
          "barpolar": [
           {
            "marker": {
             "line": {
              "color": "#E5ECF6",
              "width": 0.5
             },
             "pattern": {
              "fillmode": "overlay",
              "size": 10,
              "solidity": 0.2
             }
            },
            "type": "barpolar"
           }
          ],
          "carpet": [
           {
            "aaxis": {
             "endlinecolor": "#2a3f5f",
             "gridcolor": "white",
             "linecolor": "white",
             "minorgridcolor": "white",
             "startlinecolor": "#2a3f5f"
            },
            "baxis": {
             "endlinecolor": "#2a3f5f",
             "gridcolor": "white",
             "linecolor": "white",
             "minorgridcolor": "white",
             "startlinecolor": "#2a3f5f"
            },
            "type": "carpet"
           }
          ],
          "choropleth": [
           {
            "colorbar": {
             "outlinewidth": 0,
             "ticks": ""
            },
            "type": "choropleth"
           }
          ],
          "contour": [
           {
            "colorbar": {
             "outlinewidth": 0,
             "ticks": ""
            },
            "colorscale": [
             [
              0,
              "#0d0887"
             ],
             [
              0.1111111111111111,
              "#46039f"
             ],
             [
              0.2222222222222222,
              "#7201a8"
             ],
             [
              0.3333333333333333,
              "#9c179e"
             ],
             [
              0.4444444444444444,
              "#bd3786"
             ],
             [
              0.5555555555555556,
              "#d8576b"
             ],
             [
              0.6666666666666666,
              "#ed7953"
             ],
             [
              0.7777777777777778,
              "#fb9f3a"
             ],
             [
              0.8888888888888888,
              "#fdca26"
             ],
             [
              1,
              "#f0f921"
             ]
            ],
            "type": "contour"
           }
          ],
          "contourcarpet": [
           {
            "colorbar": {
             "outlinewidth": 0,
             "ticks": ""
            },
            "type": "contourcarpet"
           }
          ],
          "heatmap": [
           {
            "colorbar": {
             "outlinewidth": 0,
             "ticks": ""
            },
            "colorscale": [
             [
              0,
              "#0d0887"
             ],
             [
              0.1111111111111111,
              "#46039f"
             ],
             [
              0.2222222222222222,
              "#7201a8"
             ],
             [
              0.3333333333333333,
              "#9c179e"
             ],
             [
              0.4444444444444444,
              "#bd3786"
             ],
             [
              0.5555555555555556,
              "#d8576b"
             ],
             [
              0.6666666666666666,
              "#ed7953"
             ],
             [
              0.7777777777777778,
              "#fb9f3a"
             ],
             [
              0.8888888888888888,
              "#fdca26"
             ],
             [
              1,
              "#f0f921"
             ]
            ],
            "type": "heatmap"
           }
          ],
          "heatmapgl": [
           {
            "colorbar": {
             "outlinewidth": 0,
             "ticks": ""
            },
            "colorscale": [
             [
              0,
              "#0d0887"
             ],
             [
              0.1111111111111111,
              "#46039f"
             ],
             [
              0.2222222222222222,
              "#7201a8"
             ],
             [
              0.3333333333333333,
              "#9c179e"
             ],
             [
              0.4444444444444444,
              "#bd3786"
             ],
             [
              0.5555555555555556,
              "#d8576b"
             ],
             [
              0.6666666666666666,
              "#ed7953"
             ],
             [
              0.7777777777777778,
              "#fb9f3a"
             ],
             [
              0.8888888888888888,
              "#fdca26"
             ],
             [
              1,
              "#f0f921"
             ]
            ],
            "type": "heatmapgl"
           }
          ],
          "histogram": [
           {
            "marker": {
             "pattern": {
              "fillmode": "overlay",
              "size": 10,
              "solidity": 0.2
             }
            },
            "type": "histogram"
           }
          ],
          "histogram2d": [
           {
            "colorbar": {
             "outlinewidth": 0,
             "ticks": ""
            },
            "colorscale": [
             [
              0,
              "#0d0887"
             ],
             [
              0.1111111111111111,
              "#46039f"
             ],
             [
              0.2222222222222222,
              "#7201a8"
             ],
             [
              0.3333333333333333,
              "#9c179e"
             ],
             [
              0.4444444444444444,
              "#bd3786"
             ],
             [
              0.5555555555555556,
              "#d8576b"
             ],
             [
              0.6666666666666666,
              "#ed7953"
             ],
             [
              0.7777777777777778,
              "#fb9f3a"
             ],
             [
              0.8888888888888888,
              "#fdca26"
             ],
             [
              1,
              "#f0f921"
             ]
            ],
            "type": "histogram2d"
           }
          ],
          "histogram2dcontour": [
           {
            "colorbar": {
             "outlinewidth": 0,
             "ticks": ""
            },
            "colorscale": [
             [
              0,
              "#0d0887"
             ],
             [
              0.1111111111111111,
              "#46039f"
             ],
             [
              0.2222222222222222,
              "#7201a8"
             ],
             [
              0.3333333333333333,
              "#9c179e"
             ],
             [
              0.4444444444444444,
              "#bd3786"
             ],
             [
              0.5555555555555556,
              "#d8576b"
             ],
             [
              0.6666666666666666,
              "#ed7953"
             ],
             [
              0.7777777777777778,
              "#fb9f3a"
             ],
             [
              0.8888888888888888,
              "#fdca26"
             ],
             [
              1,
              "#f0f921"
             ]
            ],
            "type": "histogram2dcontour"
           }
          ],
          "mesh3d": [
           {
            "colorbar": {
             "outlinewidth": 0,
             "ticks": ""
            },
            "type": "mesh3d"
           }
          ],
          "parcoords": [
           {
            "line": {
             "colorbar": {
              "outlinewidth": 0,
              "ticks": ""
             }
            },
            "type": "parcoords"
           }
          ],
          "pie": [
           {
            "automargin": true,
            "type": "pie"
           }
          ],
          "scatter": [
           {
            "fillpattern": {
             "fillmode": "overlay",
             "size": 10,
             "solidity": 0.2
            },
            "type": "scatter"
           }
          ],
          "scatter3d": [
           {
            "line": {
             "colorbar": {
              "outlinewidth": 0,
              "ticks": ""
             }
            },
            "marker": {
             "colorbar": {
              "outlinewidth": 0,
              "ticks": ""
             }
            },
            "type": "scatter3d"
           }
          ],
          "scattercarpet": [
           {
            "marker": {
             "colorbar": {
              "outlinewidth": 0,
              "ticks": ""
             }
            },
            "type": "scattercarpet"
           }
          ],
          "scattergeo": [
           {
            "marker": {
             "colorbar": {
              "outlinewidth": 0,
              "ticks": ""
             }
            },
            "type": "scattergeo"
           }
          ],
          "scattergl": [
           {
            "marker": {
             "colorbar": {
              "outlinewidth": 0,
              "ticks": ""
             }
            },
            "type": "scattergl"
           }
          ],
          "scattermapbox": [
           {
            "marker": {
             "colorbar": {
              "outlinewidth": 0,
              "ticks": ""
             }
            },
            "type": "scattermapbox"
           }
          ],
          "scatterpolar": [
           {
            "marker": {
             "colorbar": {
              "outlinewidth": 0,
              "ticks": ""
             }
            },
            "type": "scatterpolar"
           }
          ],
          "scatterpolargl": [
           {
            "marker": {
             "colorbar": {
              "outlinewidth": 0,
              "ticks": ""
             }
            },
            "type": "scatterpolargl"
           }
          ],
          "scatterternary": [
           {
            "marker": {
             "colorbar": {
              "outlinewidth": 0,
              "ticks": ""
             }
            },
            "type": "scatterternary"
           }
          ],
          "surface": [
           {
            "colorbar": {
             "outlinewidth": 0,
             "ticks": ""
            },
            "colorscale": [
             [
              0,
              "#0d0887"
             ],
             [
              0.1111111111111111,
              "#46039f"
             ],
             [
              0.2222222222222222,
              "#7201a8"
             ],
             [
              0.3333333333333333,
              "#9c179e"
             ],
             [
              0.4444444444444444,
              "#bd3786"
             ],
             [
              0.5555555555555556,
              "#d8576b"
             ],
             [
              0.6666666666666666,
              "#ed7953"
             ],
             [
              0.7777777777777778,
              "#fb9f3a"
             ],
             [
              0.8888888888888888,
              "#fdca26"
             ],
             [
              1,
              "#f0f921"
             ]
            ],
            "type": "surface"
           }
          ],
          "table": [
           {
            "cells": {
             "fill": {
              "color": "#EBF0F8"
             },
             "line": {
              "color": "white"
             }
            },
            "header": {
             "fill": {
              "color": "#C8D4E3"
             },
             "line": {
              "color": "white"
             }
            },
            "type": "table"
           }
          ]
         },
         "layout": {
          "annotationdefaults": {
           "arrowcolor": "#2a3f5f",
           "arrowhead": 0,
           "arrowwidth": 1
          },
          "autotypenumbers": "strict",
          "coloraxis": {
           "colorbar": {
            "outlinewidth": 0,
            "ticks": ""
           }
          },
          "colorscale": {
           "diverging": [
            [
             0,
             "#8e0152"
            ],
            [
             0.1,
             "#c51b7d"
            ],
            [
             0.2,
             "#de77ae"
            ],
            [
             0.3,
             "#f1b6da"
            ],
            [
             0.4,
             "#fde0ef"
            ],
            [
             0.5,
             "#f7f7f7"
            ],
            [
             0.6,
             "#e6f5d0"
            ],
            [
             0.7,
             "#b8e186"
            ],
            [
             0.8,
             "#7fbc41"
            ],
            [
             0.9,
             "#4d9221"
            ],
            [
             1,
             "#276419"
            ]
           ],
           "sequential": [
            [
             0,
             "#0d0887"
            ],
            [
             0.1111111111111111,
             "#46039f"
            ],
            [
             0.2222222222222222,
             "#7201a8"
            ],
            [
             0.3333333333333333,
             "#9c179e"
            ],
            [
             0.4444444444444444,
             "#bd3786"
            ],
            [
             0.5555555555555556,
             "#d8576b"
            ],
            [
             0.6666666666666666,
             "#ed7953"
            ],
            [
             0.7777777777777778,
             "#fb9f3a"
            ],
            [
             0.8888888888888888,
             "#fdca26"
            ],
            [
             1,
             "#f0f921"
            ]
           ],
           "sequentialminus": [
            [
             0,
             "#0d0887"
            ],
            [
             0.1111111111111111,
             "#46039f"
            ],
            [
             0.2222222222222222,
             "#7201a8"
            ],
            [
             0.3333333333333333,
             "#9c179e"
            ],
            [
             0.4444444444444444,
             "#bd3786"
            ],
            [
             0.5555555555555556,
             "#d8576b"
            ],
            [
             0.6666666666666666,
             "#ed7953"
            ],
            [
             0.7777777777777778,
             "#fb9f3a"
            ],
            [
             0.8888888888888888,
             "#fdca26"
            ],
            [
             1,
             "#f0f921"
            ]
           ]
          },
          "colorway": [
           "#636efa",
           "#EF553B",
           "#00cc96",
           "#ab63fa",
           "#FFA15A",
           "#19d3f3",
           "#FF6692",
           "#B6E880",
           "#FF97FF",
           "#FECB52"
          ],
          "font": {
           "color": "#2a3f5f"
          },
          "geo": {
           "bgcolor": "white",
           "lakecolor": "white",
           "landcolor": "#E5ECF6",
           "showlakes": true,
           "showland": true,
           "subunitcolor": "white"
          },
          "hoverlabel": {
           "align": "left"
          },
          "hovermode": "closest",
          "mapbox": {
           "style": "light"
          },
          "paper_bgcolor": "white",
          "plot_bgcolor": "#E5ECF6",
          "polar": {
           "angularaxis": {
            "gridcolor": "white",
            "linecolor": "white",
            "ticks": ""
           },
           "bgcolor": "#E5ECF6",
           "radialaxis": {
            "gridcolor": "white",
            "linecolor": "white",
            "ticks": ""
           }
          },
          "scene": {
           "xaxis": {
            "backgroundcolor": "#E5ECF6",
            "gridcolor": "white",
            "gridwidth": 2,
            "linecolor": "white",
            "showbackground": true,
            "ticks": "",
            "zerolinecolor": "white"
           },
           "yaxis": {
            "backgroundcolor": "#E5ECF6",
            "gridcolor": "white",
            "gridwidth": 2,
            "linecolor": "white",
            "showbackground": true,
            "ticks": "",
            "zerolinecolor": "white"
           },
           "zaxis": {
            "backgroundcolor": "#E5ECF6",
            "gridcolor": "white",
            "gridwidth": 2,
            "linecolor": "white",
            "showbackground": true,
            "ticks": "",
            "zerolinecolor": "white"
           }
          },
          "shapedefaults": {
           "line": {
            "color": "#2a3f5f"
           }
          },
          "ternary": {
           "aaxis": {
            "gridcolor": "white",
            "linecolor": "white",
            "ticks": ""
           },
           "baxis": {
            "gridcolor": "white",
            "linecolor": "white",
            "ticks": ""
           },
           "bgcolor": "#E5ECF6",
           "caxis": {
            "gridcolor": "white",
            "linecolor": "white",
            "ticks": ""
           }
          },
          "title": {
           "x": 0.05
          },
          "xaxis": {
           "automargin": true,
           "gridcolor": "white",
           "linecolor": "white",
           "ticks": "",
           "title": {
            "standoff": 15
           },
           "zerolinecolor": "white",
           "zerolinewidth": 2
          },
          "yaxis": {
           "automargin": true,
           "gridcolor": "white",
           "linecolor": "white",
           "ticks": "",
           "title": {
            "standoff": 15
           },
           "zerolinecolor": "white",
           "zerolinewidth": 2
          }
         }
        },
        "title": {
         "text": "Vaccinations, Positivity Rate % & Deaths"
        },
        "xaxis": {
         "domain": [
          0,
          0.95
         ]
        },
        "yaxis": {
         "title": {
          "text": "Doses"
         }
        },
        "yaxis2": {
         "anchor": "x",
         "overlaying": "y",
         "side": "right",
         "title": {
          "text": "Rate %"
         }
        },
        "yaxis3": {
         "anchor": "free",
         "overlaying": "y",
         "position": 1,
         "side": "right",
         "title": {
          "text": "Deaths"
         }
        }
       }
      },
      "text/html": [
       "<div>                            <div id=\"449f7798-b4d5-40c6-ae4d-ab922d1dfbcd\" class=\"plotly-graph-div\" style=\"height:525px; width:100%;\"></div>            <script type=\"text/javascript\">                require([\"plotly\"], function(Plotly) {                    window.PLOTLYENV=window.PLOTLYENV || {};                                    if (document.getElementById(\"449f7798-b4d5-40c6-ae4d-ab922d1dfbcd\")) {                    Plotly.newPlot(                        \"449f7798-b4d5-40c6-ae4d-ab922d1dfbcd\",                        [{\"name\":\"Received One Dose\",\"x\":[\"03/2020\",\"04/2020\",\"05/2020\",\"06/2020\",\"07/2020\",\"08/2020\",\"09/2020\",\"10/2020\",\"11/2020\",\"12/2020\",\"01/2021\",\"02/2021\",\"03/2021\",\"04/2021\",\"05/2021\",\"06/2021\",\"07/2021\",\"08/2021\",\"09/2021\",\"10/2021\",\"11/2021\",\"12/2021\",\"01/2022\",\"02/2022\",\"03/2022\",\"04/2022\",\"05/2022\",\"06/2022\",\"07/2022\",\"08/2022\",\"09/2022\",\"10/2022\",\"11/2022\",\"12/2022\",\"01/2023\"],\"y\":[null,null,null,null,null,null,null,null,null,null,23811.0,27765.0,91229.0,86005.0,89933.0,40426.0,40521.0,14295.0,7617.0,8681.0,5492.0,8840.0,19820.0,6161.0,3249.0,1630.0,876.0,537.0,502.0,296.0,280.0,305.0,146.0,136.0,40.0],\"type\":\"bar\"},{\"name\":\"Primary Vaccination\",\"x\":[\"03/2020\",\"04/2020\",\"05/2020\",\"06/2020\",\"07/2020\",\"08/2020\",\"09/2020\",\"10/2020\",\"11/2020\",\"12/2020\",\"01/2021\",\"02/2021\",\"03/2021\",\"04/2021\",\"05/2021\",\"06/2021\",\"07/2021\",\"08/2021\",\"09/2021\",\"10/2021\",\"11/2021\",\"12/2021\",\"01/2022\",\"02/2022\",\"03/2022\",\"04/2022\",\"05/2022\",\"06/2022\",\"07/2022\",\"08/2022\",\"09/2022\",\"10/2022\",\"11/2022\",\"12/2022\",\"01/2023\"],\"y\":[null,null,null,null,null,null,null,null,null,null,3948.0,24100.0,26530.0,52460.0,103448.0,115405.0,56364.0,30512.0,8946.0,6620.0,4010.0,3531.0,15357.0,11952.0,3310.0,1818.0,898.0,593.0,470.0,313.0,260.0,240.0,135.0,106.0,24.0],\"type\":\"bar\"},{\"name\":\"Booster Doses\",\"x\":[\"03/2020\",\"04/2020\",\"05/2020\",\"06/2020\",\"07/2020\",\"08/2020\",\"09/2020\",\"10/2020\",\"11/2020\",\"12/2020\",\"01/2021\",\"02/2021\",\"03/2021\",\"04/2021\",\"05/2021\",\"06/2021\",\"07/2021\",\"08/2021\",\"09/2021\",\"10/2021\",\"11/2021\",\"12/2021\",\"01/2022\",\"02/2022\",\"03/2022\",\"04/2022\",\"05/2022\",\"06/2022\",\"07/2022\",\"08/2022\",\"09/2022\",\"10/2022\",\"11/2022\",\"12/2022\",\"01/2023\"],\"y\":[null,null,null,null,null,null,null,null,null,null,0.0,0.0,0.0,0.0,0.0,0.0,0.0,0.0,12071.0,40844.0,71029.0,100246.0,106865.0,12056.0,7598.0,4077.0,2100.0,1493.0,1073.0,493.0,341.0,519.0,435.0,192.0,66.0],\"type\":\"bar\"},{\"name\":\"2nd Booster Doses\",\"x\":[\"03/2020\",\"04/2020\",\"05/2020\",\"06/2020\",\"07/2020\",\"08/2020\",\"09/2020\",\"10/2020\",\"11/2020\",\"12/2020\",\"01/2021\",\"02/2021\",\"03/2021\",\"04/2021\",\"05/2021\",\"06/2021\",\"07/2021\",\"08/2021\",\"09/2021\",\"10/2021\",\"11/2021\",\"12/2021\",\"01/2022\",\"02/2022\",\"03/2022\",\"04/2022\",\"05/2022\",\"06/2022\",\"07/2022\",\"08/2022\",\"09/2022\",\"10/2022\",\"11/2022\",\"12/2022\",\"01/2023\"],\"y\":[null,null,null,null,null,null,null,null,null,null,0.0,0.0,0.0,0.0,0.0,0.0,0.0,0.0,0.0,0.0,0.0,0.0,0.0,0.0,0.0,12660.0,20064.0,13843.0,10446.0,3382.0,259.0,6742.0,6375.0,1442.0,433.0],\"type\":\"bar\"},{\"name\":\"Omicron Booster Doses\",\"x\":[\"03/2020\",\"04/2020\",\"05/2020\",\"06/2020\",\"07/2020\",\"08/2020\",\"09/2020\",\"10/2020\",\"11/2020\",\"12/2020\",\"01/2021\",\"02/2021\",\"03/2021\",\"04/2021\",\"05/2021\",\"06/2021\",\"07/2021\",\"08/2021\",\"09/2021\",\"10/2021\",\"11/2021\",\"12/2021\",\"01/2022\",\"02/2022\",\"03/2022\",\"04/2022\",\"05/2022\",\"06/2022\",\"07/2022\",\"08/2022\",\"09/2022\",\"10/2022\",\"11/2022\",\"12/2022\",\"01/2023\"],\"y\":[null,null,null,null,null,null,null,null,null,null,0.0,0.0,0.0,0.0,0.0,0.0,0.0,0.0,0.0,0.0,0.0,0.0,0.0,0.0,0.0,0.0,0.0,0.0,0.0,0.0,0.0,0.0,5609.0,2178.0,566.0],\"type\":\"bar\"},{\"marker\":{\"color\":\"black\"},\"mode\":\"lines+markers\",\"name\":\"Positivity Rate\",\"x\":[\"03/2020\",\"04/2020\",\"05/2020\",\"06/2020\",\"07/2020\",\"08/2020\",\"09/2020\",\"10/2020\",\"11/2020\",\"12/2020\",\"01/2021\",\"02/2021\",\"03/2021\",\"04/2021\",\"05/2021\",\"06/2021\",\"07/2021\",\"08/2021\",\"09/2021\",\"10/2021\",\"11/2021\",\"12/2021\",\"01/2022\",\"02/2022\",\"03/2022\",\"04/2022\",\"05/2022\",\"06/2022\",\"07/2022\",\"08/2022\",\"09/2022\",\"10/2022\",\"11/2022\",\"12/2022\",\"01/2023\"],\"y\":[null,null,null,null,1.0316875460574797,1.8255387221228947,1.834561578815888,3.5875733384630184,4.207624465946908,3.3439380316757727,5.229351250497038,5.2940700403500855,6.010532883147387,2.1721502389537792,0.4068511728364056,0.14823049842505095,3.467847800013222,1.8701277987120444,1.037897038066837,0.9066150648606034,2.7616346645590215,8.898189365595217,11.410435863080757,6.829436830588506,12.374081336346899,15.882850634559063,7.301703163017032,20.14889529298751,18.420502688223113,4.963645964498964,3.722818208176283,4.120155524896526,3.8138231631382316,5.994280686317642,8.588261953319737],\"yaxis\":\"y2\",\"type\":\"scatter\"},{\"marker\":{\"color\":\"red\"},\"mode\":\"lines+markers\",\"name\":\"Deaths\",\"x\":[\"03/2020\",\"04/2020\",\"05/2020\",\"06/2020\",\"07/2020\",\"08/2020\",\"09/2020\",\"10/2020\",\"11/2020\",\"12/2020\",\"01/2021\",\"02/2021\",\"03/2021\",\"04/2021\",\"05/2021\",\"06/2021\",\"07/2021\",\"08/2021\",\"09/2021\",\"10/2021\",\"11/2021\",\"12/2021\",\"01/2022\",\"02/2022\",\"03/2022\",\"04/2022\",\"05/2022\",\"06/2022\",\"07/2022\",\"08/2022\",\"09/2022\",\"10/2022\",\"11/2022\",\"12/2022\",\"01/2023\"],\"y\":[0,4,5,0,0,3,22,28,75,82,48,48,77,21,6,1,3,18,16,4,7,9,73,55,33,60,23,20,53,7,5,2,1,6,7],\"yaxis\":\"y3\",\"type\":\"scatter\"}],                        {\"template\":{\"data\":{\"histogram2dcontour\":[{\"type\":\"histogram2dcontour\",\"colorbar\":{\"outlinewidth\":0,\"ticks\":\"\"},\"colorscale\":[[0.0,\"#0d0887\"],[0.1111111111111111,\"#46039f\"],[0.2222222222222222,\"#7201a8\"],[0.3333333333333333,\"#9c179e\"],[0.4444444444444444,\"#bd3786\"],[0.5555555555555556,\"#d8576b\"],[0.6666666666666666,\"#ed7953\"],[0.7777777777777778,\"#fb9f3a\"],[0.8888888888888888,\"#fdca26\"],[1.0,\"#f0f921\"]]}],\"choropleth\":[{\"type\":\"choropleth\",\"colorbar\":{\"outlinewidth\":0,\"ticks\":\"\"}}],\"histogram2d\":[{\"type\":\"histogram2d\",\"colorbar\":{\"outlinewidth\":0,\"ticks\":\"\"},\"colorscale\":[[0.0,\"#0d0887\"],[0.1111111111111111,\"#46039f\"],[0.2222222222222222,\"#7201a8\"],[0.3333333333333333,\"#9c179e\"],[0.4444444444444444,\"#bd3786\"],[0.5555555555555556,\"#d8576b\"],[0.6666666666666666,\"#ed7953\"],[0.7777777777777778,\"#fb9f3a\"],[0.8888888888888888,\"#fdca26\"],[1.0,\"#f0f921\"]]}],\"heatmap\":[{\"type\":\"heatmap\",\"colorbar\":{\"outlinewidth\":0,\"ticks\":\"\"},\"colorscale\":[[0.0,\"#0d0887\"],[0.1111111111111111,\"#46039f\"],[0.2222222222222222,\"#7201a8\"],[0.3333333333333333,\"#9c179e\"],[0.4444444444444444,\"#bd3786\"],[0.5555555555555556,\"#d8576b\"],[0.6666666666666666,\"#ed7953\"],[0.7777777777777778,\"#fb9f3a\"],[0.8888888888888888,\"#fdca26\"],[1.0,\"#f0f921\"]]}],\"heatmapgl\":[{\"type\":\"heatmapgl\",\"colorbar\":{\"outlinewidth\":0,\"ticks\":\"\"},\"colorscale\":[[0.0,\"#0d0887\"],[0.1111111111111111,\"#46039f\"],[0.2222222222222222,\"#7201a8\"],[0.3333333333333333,\"#9c179e\"],[0.4444444444444444,\"#bd3786\"],[0.5555555555555556,\"#d8576b\"],[0.6666666666666666,\"#ed7953\"],[0.7777777777777778,\"#fb9f3a\"],[0.8888888888888888,\"#fdca26\"],[1.0,\"#f0f921\"]]}],\"contourcarpet\":[{\"type\":\"contourcarpet\",\"colorbar\":{\"outlinewidth\":0,\"ticks\":\"\"}}],\"contour\":[{\"type\":\"contour\",\"colorbar\":{\"outlinewidth\":0,\"ticks\":\"\"},\"colorscale\":[[0.0,\"#0d0887\"],[0.1111111111111111,\"#46039f\"],[0.2222222222222222,\"#7201a8\"],[0.3333333333333333,\"#9c179e\"],[0.4444444444444444,\"#bd3786\"],[0.5555555555555556,\"#d8576b\"],[0.6666666666666666,\"#ed7953\"],[0.7777777777777778,\"#fb9f3a\"],[0.8888888888888888,\"#fdca26\"],[1.0,\"#f0f921\"]]}],\"surface\":[{\"type\":\"surface\",\"colorbar\":{\"outlinewidth\":0,\"ticks\":\"\"},\"colorscale\":[[0.0,\"#0d0887\"],[0.1111111111111111,\"#46039f\"],[0.2222222222222222,\"#7201a8\"],[0.3333333333333333,\"#9c179e\"],[0.4444444444444444,\"#bd3786\"],[0.5555555555555556,\"#d8576b\"],[0.6666666666666666,\"#ed7953\"],[0.7777777777777778,\"#fb9f3a\"],[0.8888888888888888,\"#fdca26\"],[1.0,\"#f0f921\"]]}],\"mesh3d\":[{\"type\":\"mesh3d\",\"colorbar\":{\"outlinewidth\":0,\"ticks\":\"\"}}],\"scatter\":[{\"fillpattern\":{\"fillmode\":\"overlay\",\"size\":10,\"solidity\":0.2},\"type\":\"scatter\"}],\"parcoords\":[{\"type\":\"parcoords\",\"line\":{\"colorbar\":{\"outlinewidth\":0,\"ticks\":\"\"}}}],\"scatterpolargl\":[{\"type\":\"scatterpolargl\",\"marker\":{\"colorbar\":{\"outlinewidth\":0,\"ticks\":\"\"}}}],\"bar\":[{\"error_x\":{\"color\":\"#2a3f5f\"},\"error_y\":{\"color\":\"#2a3f5f\"},\"marker\":{\"line\":{\"color\":\"#E5ECF6\",\"width\":0.5},\"pattern\":{\"fillmode\":\"overlay\",\"size\":10,\"solidity\":0.2}},\"type\":\"bar\"}],\"scattergeo\":[{\"type\":\"scattergeo\",\"marker\":{\"colorbar\":{\"outlinewidth\":0,\"ticks\":\"\"}}}],\"scatterpolar\":[{\"type\":\"scatterpolar\",\"marker\":{\"colorbar\":{\"outlinewidth\":0,\"ticks\":\"\"}}}],\"histogram\":[{\"marker\":{\"pattern\":{\"fillmode\":\"overlay\",\"size\":10,\"solidity\":0.2}},\"type\":\"histogram\"}],\"scattergl\":[{\"type\":\"scattergl\",\"marker\":{\"colorbar\":{\"outlinewidth\":0,\"ticks\":\"\"}}}],\"scatter3d\":[{\"type\":\"scatter3d\",\"line\":{\"colorbar\":{\"outlinewidth\":0,\"ticks\":\"\"}},\"marker\":{\"colorbar\":{\"outlinewidth\":0,\"ticks\":\"\"}}}],\"scattermapbox\":[{\"type\":\"scattermapbox\",\"marker\":{\"colorbar\":{\"outlinewidth\":0,\"ticks\":\"\"}}}],\"scatterternary\":[{\"type\":\"scatterternary\",\"marker\":{\"colorbar\":{\"outlinewidth\":0,\"ticks\":\"\"}}}],\"scattercarpet\":[{\"type\":\"scattercarpet\",\"marker\":{\"colorbar\":{\"outlinewidth\":0,\"ticks\":\"\"}}}],\"carpet\":[{\"aaxis\":{\"endlinecolor\":\"#2a3f5f\",\"gridcolor\":\"white\",\"linecolor\":\"white\",\"minorgridcolor\":\"white\",\"startlinecolor\":\"#2a3f5f\"},\"baxis\":{\"endlinecolor\":\"#2a3f5f\",\"gridcolor\":\"white\",\"linecolor\":\"white\",\"minorgridcolor\":\"white\",\"startlinecolor\":\"#2a3f5f\"},\"type\":\"carpet\"}],\"table\":[{\"cells\":{\"fill\":{\"color\":\"#EBF0F8\"},\"line\":{\"color\":\"white\"}},\"header\":{\"fill\":{\"color\":\"#C8D4E3\"},\"line\":{\"color\":\"white\"}},\"type\":\"table\"}],\"barpolar\":[{\"marker\":{\"line\":{\"color\":\"#E5ECF6\",\"width\":0.5},\"pattern\":{\"fillmode\":\"overlay\",\"size\":10,\"solidity\":0.2}},\"type\":\"barpolar\"}],\"pie\":[{\"automargin\":true,\"type\":\"pie\"}]},\"layout\":{\"autotypenumbers\":\"strict\",\"colorway\":[\"#636efa\",\"#EF553B\",\"#00cc96\",\"#ab63fa\",\"#FFA15A\",\"#19d3f3\",\"#FF6692\",\"#B6E880\",\"#FF97FF\",\"#FECB52\"],\"font\":{\"color\":\"#2a3f5f\"},\"hovermode\":\"closest\",\"hoverlabel\":{\"align\":\"left\"},\"paper_bgcolor\":\"white\",\"plot_bgcolor\":\"#E5ECF6\",\"polar\":{\"bgcolor\":\"#E5ECF6\",\"angularaxis\":{\"gridcolor\":\"white\",\"linecolor\":\"white\",\"ticks\":\"\"},\"radialaxis\":{\"gridcolor\":\"white\",\"linecolor\":\"white\",\"ticks\":\"\"}},\"ternary\":{\"bgcolor\":\"#E5ECF6\",\"aaxis\":{\"gridcolor\":\"white\",\"linecolor\":\"white\",\"ticks\":\"\"},\"baxis\":{\"gridcolor\":\"white\",\"linecolor\":\"white\",\"ticks\":\"\"},\"caxis\":{\"gridcolor\":\"white\",\"linecolor\":\"white\",\"ticks\":\"\"}},\"coloraxis\":{\"colorbar\":{\"outlinewidth\":0,\"ticks\":\"\"}},\"colorscale\":{\"sequential\":[[0.0,\"#0d0887\"],[0.1111111111111111,\"#46039f\"],[0.2222222222222222,\"#7201a8\"],[0.3333333333333333,\"#9c179e\"],[0.4444444444444444,\"#bd3786\"],[0.5555555555555556,\"#d8576b\"],[0.6666666666666666,\"#ed7953\"],[0.7777777777777778,\"#fb9f3a\"],[0.8888888888888888,\"#fdca26\"],[1.0,\"#f0f921\"]],\"sequentialminus\":[[0.0,\"#0d0887\"],[0.1111111111111111,\"#46039f\"],[0.2222222222222222,\"#7201a8\"],[0.3333333333333333,\"#9c179e\"],[0.4444444444444444,\"#bd3786\"],[0.5555555555555556,\"#d8576b\"],[0.6666666666666666,\"#ed7953\"],[0.7777777777777778,\"#fb9f3a\"],[0.8888888888888888,\"#fdca26\"],[1.0,\"#f0f921\"]],\"diverging\":[[0,\"#8e0152\"],[0.1,\"#c51b7d\"],[0.2,\"#de77ae\"],[0.3,\"#f1b6da\"],[0.4,\"#fde0ef\"],[0.5,\"#f7f7f7\"],[0.6,\"#e6f5d0\"],[0.7,\"#b8e186\"],[0.8,\"#7fbc41\"],[0.9,\"#4d9221\"],[1,\"#276419\"]]},\"xaxis\":{\"gridcolor\":\"white\",\"linecolor\":\"white\",\"ticks\":\"\",\"title\":{\"standoff\":15},\"zerolinecolor\":\"white\",\"automargin\":true,\"zerolinewidth\":2},\"yaxis\":{\"gridcolor\":\"white\",\"linecolor\":\"white\",\"ticks\":\"\",\"title\":{\"standoff\":15},\"zerolinecolor\":\"white\",\"automargin\":true,\"zerolinewidth\":2},\"scene\":{\"xaxis\":{\"backgroundcolor\":\"#E5ECF6\",\"gridcolor\":\"white\",\"linecolor\":\"white\",\"showbackground\":true,\"ticks\":\"\",\"zerolinecolor\":\"white\",\"gridwidth\":2},\"yaxis\":{\"backgroundcolor\":\"#E5ECF6\",\"gridcolor\":\"white\",\"linecolor\":\"white\",\"showbackground\":true,\"ticks\":\"\",\"zerolinecolor\":\"white\",\"gridwidth\":2},\"zaxis\":{\"backgroundcolor\":\"#E5ECF6\",\"gridcolor\":\"white\",\"linecolor\":\"white\",\"showbackground\":true,\"ticks\":\"\",\"zerolinecolor\":\"white\",\"gridwidth\":2}},\"shapedefaults\":{\"line\":{\"color\":\"#2a3f5f\"}},\"annotationdefaults\":{\"arrowcolor\":\"#2a3f5f\",\"arrowhead\":0,\"arrowwidth\":1},\"geo\":{\"bgcolor\":\"white\",\"landcolor\":\"#E5ECF6\",\"subunitcolor\":\"white\",\"showland\":true,\"showlakes\":true,\"lakecolor\":\"white\"},\"title\":{\"x\":0.05},\"mapbox\":{\"style\":\"light\"}}},\"barmode\":\"stack\",\"xaxis\":{\"domain\":[0,0.95]},\"yaxis2\":{\"title\":{\"text\":\"Rate %\"},\"anchor\":\"x\",\"overlaying\":\"y\",\"side\":\"right\"},\"yaxis3\":{\"title\":{\"text\":\"Deaths\"},\"anchor\":\"free\",\"overlaying\":\"y\",\"side\":\"right\",\"position\":1},\"yaxis\":{\"title\":{\"text\":\"Doses\"}},\"legend\":{\"yanchor\":\"top\",\"y\":0.99,\"xanchor\":\"left\",\"x\":0.01},\"title\":{\"text\":\"Vaccinations, Positivity Rate % & Deaths\"}},                        {\"responsive\": true}                    ).then(function(){\n",
       "                            \n",
       "var gd = document.getElementById('449f7798-b4d5-40c6-ae4d-ab922d1dfbcd');\n",
       "var x = new MutationObserver(function (mutations, observer) {{\n",
       "        var display = window.getComputedStyle(gd).display;\n",
       "        if (!display || display === 'none') {{\n",
       "            console.log([gd, 'removed!']);\n",
       "            Plotly.purge(gd);\n",
       "            observer.disconnect();\n",
       "        }}\n",
       "}});\n",
       "\n",
       "// Listen for the removal of the full notebook cells\n",
       "var notebookContainer = gd.closest('#notebook-container');\n",
       "if (notebookContainer) {{\n",
       "    x.observe(notebookContainer, {childList: true});\n",
       "}}\n",
       "\n",
       "// Listen for the clearing of the current output cell\n",
       "var outputEl = gd.closest('.output');\n",
       "if (outputEl) {{\n",
       "    x.observe(outputEl, {childList: true});\n",
       "}}\n",
       "\n",
       "                        })                };                });            </script>        </div>"
      ]
     },
     "metadata": {},
     "output_type": "display_data"
    }
   ],
   "source": [
    "fig = go.Figure()\n",
    "\n",
    "fig.add_traces([\n",
    "    go.Bar(name='Received One Dose', x=data_df['Date'], y=data_df['New Received one dose']),\n",
    "    go.Bar(name='Primary Vaccination', x=data_df['Date'], y=data_df['New Primary Vaccination']),\n",
    "    go.Bar(name='Booster Doses', x=data_df['Date'], y=data_df['New Booster doses']),\n",
    "    go.Bar(name='2nd Booster Doses', x=data_df['Date'], y=data_df['New 2nd Booster doses']),\n",
    "    go.Bar(name='Omicron Booster Doses', x=data_df['Date'], y=data_df['New Omicron booster doses'])\n",
    "])\n",
    "fig.update_layout(barmode='stack')\n",
    "\n",
    "fig.add_trace(\n",
    "    go.Scatter(\n",
    "        x=data_df['Date'],\n",
    "        y=data_df['Positivity Rate'],\n",
    "        mode='lines+markers',\n",
    "        name='Positivity Rate',\n",
    "        marker_color='black',\n",
    "        yaxis='y2'\n",
    "    )\n",
    ")\n",
    "fig.add_trace(\n",
    "    go.Scatter(\n",
    "        x=data_df['Date'],\n",
    "        y=data_df['New Deaths'],\n",
    "        mode='lines+markers',\n",
    "        name='Deaths',\n",
    "        marker_color='red',\n",
    "        yaxis='y3'\n",
    "    )\n",
    ")\n",
    "\n",
    "fig.update_layout(\n",
    "    xaxis=dict(\n",
    "        domain=[0, 0.95]\n",
    "    ),\n",
    "    yaxis=dict(\n",
    "        title='Doses'\n",
    "    ),\n",
    "    yaxis2=dict(\n",
    "        title='Rate %',\n",
    "         anchor=\"x\",\n",
    "        overlaying=\"y\",\n",
    "        side=\"right\"\n",
    "    ),\n",
    "    yaxis3=dict(\n",
    "        title='Deaths',\n",
    "         anchor=\"free\",\n",
    "        overlaying=\"y\",\n",
    "        side=\"right\",\n",
    "        position=1\n",
    "    )\n",
    ")\n",
    "\n",
    "fig.update_layout(legend=dict(\n",
    "    yanchor=\"top\",\n",
    "    y=0.99,\n",
    "    xanchor=\"left\",\n",
    "    x=0.01\n",
    "))\n",
    "\n",
    "fig.update_layout(\n",
    "    title_text=\"Vaccinations, Positivity Rate % & Deaths\"\n",
    ")\n",
    "\n",
    "fig.show()"
   ]
  },
  {
   "attachments": {},
   "cell_type": "markdown",
   "metadata": {},
   "source": [
    "### Vaccinations, Positivity Rate & Hospitalizations"
   ]
  },
  {
   "cell_type": "code",
   "execution_count": 67,
   "metadata": {},
   "outputs": [
    {
     "data": {
      "application/vnd.plotly.v1+json": {
       "config": {
        "plotlyServerURL": "https://plot.ly"
       },
       "data": [
        {
         "name": "Received One Dose",
         "type": "bar",
         "x": [
          "03/2020",
          "04/2020",
          "05/2020",
          "06/2020",
          "07/2020",
          "08/2020",
          "09/2020",
          "10/2020",
          "11/2020",
          "12/2020",
          "01/2021",
          "02/2021",
          "03/2021",
          "04/2021",
          "05/2021",
          "06/2021",
          "07/2021",
          "08/2021",
          "09/2021",
          "10/2021",
          "11/2021",
          "12/2021",
          "01/2022",
          "02/2022",
          "03/2022",
          "04/2022",
          "05/2022",
          "06/2022",
          "07/2022",
          "08/2022",
          "09/2022",
          "10/2022",
          "11/2022",
          "12/2022",
          "01/2023"
         ],
         "y": [
          null,
          null,
          null,
          null,
          null,
          null,
          null,
          null,
          null,
          null,
          23811,
          27765,
          91229,
          86005,
          89933,
          40426,
          40521,
          14295,
          7617,
          8681,
          5492,
          8840,
          19820,
          6161,
          3249,
          1630,
          876,
          537,
          502,
          296,
          280,
          305,
          146,
          136,
          40
         ]
        },
        {
         "name": "Primary Vaccination",
         "type": "bar",
         "x": [
          "03/2020",
          "04/2020",
          "05/2020",
          "06/2020",
          "07/2020",
          "08/2020",
          "09/2020",
          "10/2020",
          "11/2020",
          "12/2020",
          "01/2021",
          "02/2021",
          "03/2021",
          "04/2021",
          "05/2021",
          "06/2021",
          "07/2021",
          "08/2021",
          "09/2021",
          "10/2021",
          "11/2021",
          "12/2021",
          "01/2022",
          "02/2022",
          "03/2022",
          "04/2022",
          "05/2022",
          "06/2022",
          "07/2022",
          "08/2022",
          "09/2022",
          "10/2022",
          "11/2022",
          "12/2022",
          "01/2023"
         ],
         "y": [
          null,
          null,
          null,
          null,
          null,
          null,
          null,
          null,
          null,
          null,
          3948,
          24100,
          26530,
          52460,
          103448,
          115405,
          56364,
          30512,
          8946,
          6620,
          4010,
          3531,
          15357,
          11952,
          3310,
          1818,
          898,
          593,
          470,
          313,
          260,
          240,
          135,
          106,
          24
         ]
        },
        {
         "name": "Booster Doses",
         "type": "bar",
         "x": [
          "03/2020",
          "04/2020",
          "05/2020",
          "06/2020",
          "07/2020",
          "08/2020",
          "09/2020",
          "10/2020",
          "11/2020",
          "12/2020",
          "01/2021",
          "02/2021",
          "03/2021",
          "04/2021",
          "05/2021",
          "06/2021",
          "07/2021",
          "08/2021",
          "09/2021",
          "10/2021",
          "11/2021",
          "12/2021",
          "01/2022",
          "02/2022",
          "03/2022",
          "04/2022",
          "05/2022",
          "06/2022",
          "07/2022",
          "08/2022",
          "09/2022",
          "10/2022",
          "11/2022",
          "12/2022",
          "01/2023"
         ],
         "y": [
          null,
          null,
          null,
          null,
          null,
          null,
          null,
          null,
          null,
          null,
          0,
          0,
          0,
          0,
          0,
          0,
          0,
          0,
          12071,
          40844,
          71029,
          100246,
          106865,
          12056,
          7598,
          4077,
          2100,
          1493,
          1073,
          493,
          341,
          519,
          435,
          192,
          66
         ]
        },
        {
         "name": "2nd Booster Doses",
         "type": "bar",
         "x": [
          "03/2020",
          "04/2020",
          "05/2020",
          "06/2020",
          "07/2020",
          "08/2020",
          "09/2020",
          "10/2020",
          "11/2020",
          "12/2020",
          "01/2021",
          "02/2021",
          "03/2021",
          "04/2021",
          "05/2021",
          "06/2021",
          "07/2021",
          "08/2021",
          "09/2021",
          "10/2021",
          "11/2021",
          "12/2021",
          "01/2022",
          "02/2022",
          "03/2022",
          "04/2022",
          "05/2022",
          "06/2022",
          "07/2022",
          "08/2022",
          "09/2022",
          "10/2022",
          "11/2022",
          "12/2022",
          "01/2023"
         ],
         "y": [
          null,
          null,
          null,
          null,
          null,
          null,
          null,
          null,
          null,
          null,
          0,
          0,
          0,
          0,
          0,
          0,
          0,
          0,
          0,
          0,
          0,
          0,
          0,
          0,
          0,
          12660,
          20064,
          13843,
          10446,
          3382,
          259,
          6742,
          6375,
          1442,
          433
         ]
        },
        {
         "name": "Omicron Booster Doses",
         "type": "bar",
         "x": [
          "03/2020",
          "04/2020",
          "05/2020",
          "06/2020",
          "07/2020",
          "08/2020",
          "09/2020",
          "10/2020",
          "11/2020",
          "12/2020",
          "01/2021",
          "02/2021",
          "03/2021",
          "04/2021",
          "05/2021",
          "06/2021",
          "07/2021",
          "08/2021",
          "09/2021",
          "10/2021",
          "11/2021",
          "12/2021",
          "01/2022",
          "02/2022",
          "03/2022",
          "04/2022",
          "05/2022",
          "06/2022",
          "07/2022",
          "08/2022",
          "09/2022",
          "10/2022",
          "11/2022",
          "12/2022",
          "01/2023"
         ],
         "y": [
          null,
          null,
          null,
          null,
          null,
          null,
          null,
          null,
          null,
          null,
          0,
          0,
          0,
          0,
          0,
          0,
          0,
          0,
          0,
          0,
          0,
          0,
          0,
          0,
          0,
          0,
          0,
          0,
          0,
          0,
          0,
          0,
          5609,
          2178,
          566
         ]
        },
        {
         "marker": {
          "color": "black"
         },
         "mode": "lines+markers",
         "name": "Positivity Rate",
         "type": "scatter",
         "x": [
          "03/2020",
          "04/2020",
          "05/2020",
          "06/2020",
          "07/2020",
          "08/2020",
          "09/2020",
          "10/2020",
          "11/2020",
          "12/2020",
          "01/2021",
          "02/2021",
          "03/2021",
          "04/2021",
          "05/2021",
          "06/2021",
          "07/2021",
          "08/2021",
          "09/2021",
          "10/2021",
          "11/2021",
          "12/2021",
          "01/2022",
          "02/2022",
          "03/2022",
          "04/2022",
          "05/2022",
          "06/2022",
          "07/2022",
          "08/2022",
          "09/2022",
          "10/2022",
          "11/2022",
          "12/2022",
          "01/2023"
         ],
         "y": [
          null,
          null,
          null,
          null,
          1.0316875460574797,
          1.8255387221228947,
          1.834561578815888,
          3.5875733384630184,
          4.207624465946908,
          3.3439380316757727,
          5.229351250497038,
          5.2940700403500855,
          6.010532883147387,
          2.1721502389537792,
          0.4068511728364056,
          0.14823049842505095,
          3.467847800013222,
          1.8701277987120444,
          1.037897038066837,
          0.9066150648606034,
          2.7616346645590215,
          8.898189365595217,
          11.410435863080757,
          6.829436830588506,
          12.374081336346899,
          15.882850634559063,
          7.301703163017032,
          20.14889529298751,
          18.420502688223113,
          4.963645964498964,
          3.722818208176283,
          4.120155524896526,
          3.8138231631382316,
          5.994280686317642,
          8.588261953319737
         ],
         "yaxis": "y2"
        },
        {
         "mode": "lines+markers",
         "name": "Hospitalizations",
         "type": "scatter",
         "x": [
          "03/2020",
          "04/2020",
          "05/2020",
          "06/2020",
          "07/2020",
          "08/2020",
          "09/2020",
          "10/2020",
          "11/2020",
          "12/2020",
          "01/2021",
          "02/2021",
          "03/2021",
          "04/2021",
          "05/2021",
          "06/2021",
          "07/2021",
          "08/2021",
          "09/2021",
          "10/2021",
          "11/2021",
          "12/2021",
          "01/2022",
          "02/2022",
          "03/2022",
          "04/2022",
          "05/2022",
          "06/2022",
          "07/2022",
          "08/2022",
          "09/2022",
          "10/2022",
          "11/2022",
          "12/2022",
          "01/2023"
         ],
         "y": [
          16,
          12,
          9,
          10,
          1,
          33,
          35,
          63,
          85,
          56,
          49,
          59,
          89,
          38,
          21,
          5,
          49,
          48,
          24,
          18,
          25,
          110,
          68,
          16,
          93,
          null,
          null,
          null,
          null,
          null,
          null,
          null,
          null,
          null,
          null
         ],
         "yaxis": "y3"
        },
        {
         "mode": "lines+markers",
         "name": "ICU",
         "type": "scatter",
         "x": [
          "03/2020",
          "04/2020",
          "05/2020",
          "06/2020",
          "07/2020",
          "08/2020",
          "09/2020",
          "10/2020",
          "11/2020",
          "12/2020",
          "01/2021",
          "02/2021",
          "03/2021",
          "04/2021",
          "05/2021",
          "06/2021",
          "07/2021",
          "08/2021",
          "09/2021",
          "10/2021",
          "11/2021",
          "12/2021",
          "01/2022",
          "02/2022",
          "03/2022",
          "04/2022",
          "05/2022",
          "06/2022",
          "07/2022",
          "08/2022",
          "09/2022",
          "10/2022",
          "11/2022",
          "12/2022",
          "01/2023"
         ],
         "y": [
          4,
          2,
          3,
          0,
          0,
          0,
          5,
          3,
          20,
          3,
          17,
          13,
          4,
          7,
          2,
          0,
          2,
          5,
          0,
          5,
          1,
          6,
          0,
          1,
          3,
          4,
          3,
          3,
          4,
          1,
          0,
          2,
          1,
          1,
          0
         ],
         "yaxis": "y3"
        }
       ],
       "layout": {
        "barmode": "stack",
        "legend": {
         "x": 0.01,
         "xanchor": "left",
         "y": 0.99,
         "yanchor": "top"
        },
        "template": {
         "data": {
          "bar": [
           {
            "error_x": {
             "color": "#2a3f5f"
            },
            "error_y": {
             "color": "#2a3f5f"
            },
            "marker": {
             "line": {
              "color": "#E5ECF6",
              "width": 0.5
             },
             "pattern": {
              "fillmode": "overlay",
              "size": 10,
              "solidity": 0.2
             }
            },
            "type": "bar"
           }
          ],
          "barpolar": [
           {
            "marker": {
             "line": {
              "color": "#E5ECF6",
              "width": 0.5
             },
             "pattern": {
              "fillmode": "overlay",
              "size": 10,
              "solidity": 0.2
             }
            },
            "type": "barpolar"
           }
          ],
          "carpet": [
           {
            "aaxis": {
             "endlinecolor": "#2a3f5f",
             "gridcolor": "white",
             "linecolor": "white",
             "minorgridcolor": "white",
             "startlinecolor": "#2a3f5f"
            },
            "baxis": {
             "endlinecolor": "#2a3f5f",
             "gridcolor": "white",
             "linecolor": "white",
             "minorgridcolor": "white",
             "startlinecolor": "#2a3f5f"
            },
            "type": "carpet"
           }
          ],
          "choropleth": [
           {
            "colorbar": {
             "outlinewidth": 0,
             "ticks": ""
            },
            "type": "choropleth"
           }
          ],
          "contour": [
           {
            "colorbar": {
             "outlinewidth": 0,
             "ticks": ""
            },
            "colorscale": [
             [
              0,
              "#0d0887"
             ],
             [
              0.1111111111111111,
              "#46039f"
             ],
             [
              0.2222222222222222,
              "#7201a8"
             ],
             [
              0.3333333333333333,
              "#9c179e"
             ],
             [
              0.4444444444444444,
              "#bd3786"
             ],
             [
              0.5555555555555556,
              "#d8576b"
             ],
             [
              0.6666666666666666,
              "#ed7953"
             ],
             [
              0.7777777777777778,
              "#fb9f3a"
             ],
             [
              0.8888888888888888,
              "#fdca26"
             ],
             [
              1,
              "#f0f921"
             ]
            ],
            "type": "contour"
           }
          ],
          "contourcarpet": [
           {
            "colorbar": {
             "outlinewidth": 0,
             "ticks": ""
            },
            "type": "contourcarpet"
           }
          ],
          "heatmap": [
           {
            "colorbar": {
             "outlinewidth": 0,
             "ticks": ""
            },
            "colorscale": [
             [
              0,
              "#0d0887"
             ],
             [
              0.1111111111111111,
              "#46039f"
             ],
             [
              0.2222222222222222,
              "#7201a8"
             ],
             [
              0.3333333333333333,
              "#9c179e"
             ],
             [
              0.4444444444444444,
              "#bd3786"
             ],
             [
              0.5555555555555556,
              "#d8576b"
             ],
             [
              0.6666666666666666,
              "#ed7953"
             ],
             [
              0.7777777777777778,
              "#fb9f3a"
             ],
             [
              0.8888888888888888,
              "#fdca26"
             ],
             [
              1,
              "#f0f921"
             ]
            ],
            "type": "heatmap"
           }
          ],
          "heatmapgl": [
           {
            "colorbar": {
             "outlinewidth": 0,
             "ticks": ""
            },
            "colorscale": [
             [
              0,
              "#0d0887"
             ],
             [
              0.1111111111111111,
              "#46039f"
             ],
             [
              0.2222222222222222,
              "#7201a8"
             ],
             [
              0.3333333333333333,
              "#9c179e"
             ],
             [
              0.4444444444444444,
              "#bd3786"
             ],
             [
              0.5555555555555556,
              "#d8576b"
             ],
             [
              0.6666666666666666,
              "#ed7953"
             ],
             [
              0.7777777777777778,
              "#fb9f3a"
             ],
             [
              0.8888888888888888,
              "#fdca26"
             ],
             [
              1,
              "#f0f921"
             ]
            ],
            "type": "heatmapgl"
           }
          ],
          "histogram": [
           {
            "marker": {
             "pattern": {
              "fillmode": "overlay",
              "size": 10,
              "solidity": 0.2
             }
            },
            "type": "histogram"
           }
          ],
          "histogram2d": [
           {
            "colorbar": {
             "outlinewidth": 0,
             "ticks": ""
            },
            "colorscale": [
             [
              0,
              "#0d0887"
             ],
             [
              0.1111111111111111,
              "#46039f"
             ],
             [
              0.2222222222222222,
              "#7201a8"
             ],
             [
              0.3333333333333333,
              "#9c179e"
             ],
             [
              0.4444444444444444,
              "#bd3786"
             ],
             [
              0.5555555555555556,
              "#d8576b"
             ],
             [
              0.6666666666666666,
              "#ed7953"
             ],
             [
              0.7777777777777778,
              "#fb9f3a"
             ],
             [
              0.8888888888888888,
              "#fdca26"
             ],
             [
              1,
              "#f0f921"
             ]
            ],
            "type": "histogram2d"
           }
          ],
          "histogram2dcontour": [
           {
            "colorbar": {
             "outlinewidth": 0,
             "ticks": ""
            },
            "colorscale": [
             [
              0,
              "#0d0887"
             ],
             [
              0.1111111111111111,
              "#46039f"
             ],
             [
              0.2222222222222222,
              "#7201a8"
             ],
             [
              0.3333333333333333,
              "#9c179e"
             ],
             [
              0.4444444444444444,
              "#bd3786"
             ],
             [
              0.5555555555555556,
              "#d8576b"
             ],
             [
              0.6666666666666666,
              "#ed7953"
             ],
             [
              0.7777777777777778,
              "#fb9f3a"
             ],
             [
              0.8888888888888888,
              "#fdca26"
             ],
             [
              1,
              "#f0f921"
             ]
            ],
            "type": "histogram2dcontour"
           }
          ],
          "mesh3d": [
           {
            "colorbar": {
             "outlinewidth": 0,
             "ticks": ""
            },
            "type": "mesh3d"
           }
          ],
          "parcoords": [
           {
            "line": {
             "colorbar": {
              "outlinewidth": 0,
              "ticks": ""
             }
            },
            "type": "parcoords"
           }
          ],
          "pie": [
           {
            "automargin": true,
            "type": "pie"
           }
          ],
          "scatter": [
           {
            "fillpattern": {
             "fillmode": "overlay",
             "size": 10,
             "solidity": 0.2
            },
            "type": "scatter"
           }
          ],
          "scatter3d": [
           {
            "line": {
             "colorbar": {
              "outlinewidth": 0,
              "ticks": ""
             }
            },
            "marker": {
             "colorbar": {
              "outlinewidth": 0,
              "ticks": ""
             }
            },
            "type": "scatter3d"
           }
          ],
          "scattercarpet": [
           {
            "marker": {
             "colorbar": {
              "outlinewidth": 0,
              "ticks": ""
             }
            },
            "type": "scattercarpet"
           }
          ],
          "scattergeo": [
           {
            "marker": {
             "colorbar": {
              "outlinewidth": 0,
              "ticks": ""
             }
            },
            "type": "scattergeo"
           }
          ],
          "scattergl": [
           {
            "marker": {
             "colorbar": {
              "outlinewidth": 0,
              "ticks": ""
             }
            },
            "type": "scattergl"
           }
          ],
          "scattermapbox": [
           {
            "marker": {
             "colorbar": {
              "outlinewidth": 0,
              "ticks": ""
             }
            },
            "type": "scattermapbox"
           }
          ],
          "scatterpolar": [
           {
            "marker": {
             "colorbar": {
              "outlinewidth": 0,
              "ticks": ""
             }
            },
            "type": "scatterpolar"
           }
          ],
          "scatterpolargl": [
           {
            "marker": {
             "colorbar": {
              "outlinewidth": 0,
              "ticks": ""
             }
            },
            "type": "scatterpolargl"
           }
          ],
          "scatterternary": [
           {
            "marker": {
             "colorbar": {
              "outlinewidth": 0,
              "ticks": ""
             }
            },
            "type": "scatterternary"
           }
          ],
          "surface": [
           {
            "colorbar": {
             "outlinewidth": 0,
             "ticks": ""
            },
            "colorscale": [
             [
              0,
              "#0d0887"
             ],
             [
              0.1111111111111111,
              "#46039f"
             ],
             [
              0.2222222222222222,
              "#7201a8"
             ],
             [
              0.3333333333333333,
              "#9c179e"
             ],
             [
              0.4444444444444444,
              "#bd3786"
             ],
             [
              0.5555555555555556,
              "#d8576b"
             ],
             [
              0.6666666666666666,
              "#ed7953"
             ],
             [
              0.7777777777777778,
              "#fb9f3a"
             ],
             [
              0.8888888888888888,
              "#fdca26"
             ],
             [
              1,
              "#f0f921"
             ]
            ],
            "type": "surface"
           }
          ],
          "table": [
           {
            "cells": {
             "fill": {
              "color": "#EBF0F8"
             },
             "line": {
              "color": "white"
             }
            },
            "header": {
             "fill": {
              "color": "#C8D4E3"
             },
             "line": {
              "color": "white"
             }
            },
            "type": "table"
           }
          ]
         },
         "layout": {
          "annotationdefaults": {
           "arrowcolor": "#2a3f5f",
           "arrowhead": 0,
           "arrowwidth": 1
          },
          "autotypenumbers": "strict",
          "coloraxis": {
           "colorbar": {
            "outlinewidth": 0,
            "ticks": ""
           }
          },
          "colorscale": {
           "diverging": [
            [
             0,
             "#8e0152"
            ],
            [
             0.1,
             "#c51b7d"
            ],
            [
             0.2,
             "#de77ae"
            ],
            [
             0.3,
             "#f1b6da"
            ],
            [
             0.4,
             "#fde0ef"
            ],
            [
             0.5,
             "#f7f7f7"
            ],
            [
             0.6,
             "#e6f5d0"
            ],
            [
             0.7,
             "#b8e186"
            ],
            [
             0.8,
             "#7fbc41"
            ],
            [
             0.9,
             "#4d9221"
            ],
            [
             1,
             "#276419"
            ]
           ],
           "sequential": [
            [
             0,
             "#0d0887"
            ],
            [
             0.1111111111111111,
             "#46039f"
            ],
            [
             0.2222222222222222,
             "#7201a8"
            ],
            [
             0.3333333333333333,
             "#9c179e"
            ],
            [
             0.4444444444444444,
             "#bd3786"
            ],
            [
             0.5555555555555556,
             "#d8576b"
            ],
            [
             0.6666666666666666,
             "#ed7953"
            ],
            [
             0.7777777777777778,
             "#fb9f3a"
            ],
            [
             0.8888888888888888,
             "#fdca26"
            ],
            [
             1,
             "#f0f921"
            ]
           ],
           "sequentialminus": [
            [
             0,
             "#0d0887"
            ],
            [
             0.1111111111111111,
             "#46039f"
            ],
            [
             0.2222222222222222,
             "#7201a8"
            ],
            [
             0.3333333333333333,
             "#9c179e"
            ],
            [
             0.4444444444444444,
             "#bd3786"
            ],
            [
             0.5555555555555556,
             "#d8576b"
            ],
            [
             0.6666666666666666,
             "#ed7953"
            ],
            [
             0.7777777777777778,
             "#fb9f3a"
            ],
            [
             0.8888888888888888,
             "#fdca26"
            ],
            [
             1,
             "#f0f921"
            ]
           ]
          },
          "colorway": [
           "#636efa",
           "#EF553B",
           "#00cc96",
           "#ab63fa",
           "#FFA15A",
           "#19d3f3",
           "#FF6692",
           "#B6E880",
           "#FF97FF",
           "#FECB52"
          ],
          "font": {
           "color": "#2a3f5f"
          },
          "geo": {
           "bgcolor": "white",
           "lakecolor": "white",
           "landcolor": "#E5ECF6",
           "showlakes": true,
           "showland": true,
           "subunitcolor": "white"
          },
          "hoverlabel": {
           "align": "left"
          },
          "hovermode": "closest",
          "mapbox": {
           "style": "light"
          },
          "paper_bgcolor": "white",
          "plot_bgcolor": "#E5ECF6",
          "polar": {
           "angularaxis": {
            "gridcolor": "white",
            "linecolor": "white",
            "ticks": ""
           },
           "bgcolor": "#E5ECF6",
           "radialaxis": {
            "gridcolor": "white",
            "linecolor": "white",
            "ticks": ""
           }
          },
          "scene": {
           "xaxis": {
            "backgroundcolor": "#E5ECF6",
            "gridcolor": "white",
            "gridwidth": 2,
            "linecolor": "white",
            "showbackground": true,
            "ticks": "",
            "zerolinecolor": "white"
           },
           "yaxis": {
            "backgroundcolor": "#E5ECF6",
            "gridcolor": "white",
            "gridwidth": 2,
            "linecolor": "white",
            "showbackground": true,
            "ticks": "",
            "zerolinecolor": "white"
           },
           "zaxis": {
            "backgroundcolor": "#E5ECF6",
            "gridcolor": "white",
            "gridwidth": 2,
            "linecolor": "white",
            "showbackground": true,
            "ticks": "",
            "zerolinecolor": "white"
           }
          },
          "shapedefaults": {
           "line": {
            "color": "#2a3f5f"
           }
          },
          "ternary": {
           "aaxis": {
            "gridcolor": "white",
            "linecolor": "white",
            "ticks": ""
           },
           "baxis": {
            "gridcolor": "white",
            "linecolor": "white",
            "ticks": ""
           },
           "bgcolor": "#E5ECF6",
           "caxis": {
            "gridcolor": "white",
            "linecolor": "white",
            "ticks": ""
           }
          },
          "title": {
           "x": 0.05
          },
          "xaxis": {
           "automargin": true,
           "gridcolor": "white",
           "linecolor": "white",
           "ticks": "",
           "title": {
            "standoff": 15
           },
           "zerolinecolor": "white",
           "zerolinewidth": 2
          },
          "yaxis": {
           "automargin": true,
           "gridcolor": "white",
           "linecolor": "white",
           "ticks": "",
           "title": {
            "standoff": 15
           },
           "zerolinecolor": "white",
           "zerolinewidth": 2
          }
         }
        },
        "title": {
         "text": "Vaccinations, Positivity Rate % & Hospitalizations"
        },
        "xaxis": {
         "domain": [
          0,
          0.95
         ]
        },
        "yaxis": {
         "title": {
          "text": "Doses"
         }
        },
        "yaxis2": {
         "anchor": "x",
         "overlaying": "y",
         "side": "right",
         "title": {
          "text": "Rate %"
         }
        },
        "yaxis3": {
         "anchor": "free",
         "overlaying": "y",
         "position": 1,
         "side": "right",
         "title": {
          "text": "Hospitalizations"
         }
        }
       }
      },
      "text/html": [
       "<div>                            <div id=\"c3d1ef14-155c-4f73-bfbb-060dacc004d4\" class=\"plotly-graph-div\" style=\"height:525px; width:100%;\"></div>            <script type=\"text/javascript\">                require([\"plotly\"], function(Plotly) {                    window.PLOTLYENV=window.PLOTLYENV || {};                                    if (document.getElementById(\"c3d1ef14-155c-4f73-bfbb-060dacc004d4\")) {                    Plotly.newPlot(                        \"c3d1ef14-155c-4f73-bfbb-060dacc004d4\",                        [{\"name\":\"Received One Dose\",\"x\":[\"03/2020\",\"04/2020\",\"05/2020\",\"06/2020\",\"07/2020\",\"08/2020\",\"09/2020\",\"10/2020\",\"11/2020\",\"12/2020\",\"01/2021\",\"02/2021\",\"03/2021\",\"04/2021\",\"05/2021\",\"06/2021\",\"07/2021\",\"08/2021\",\"09/2021\",\"10/2021\",\"11/2021\",\"12/2021\",\"01/2022\",\"02/2022\",\"03/2022\",\"04/2022\",\"05/2022\",\"06/2022\",\"07/2022\",\"08/2022\",\"09/2022\",\"10/2022\",\"11/2022\",\"12/2022\",\"01/2023\"],\"y\":[null,null,null,null,null,null,null,null,null,null,23811.0,27765.0,91229.0,86005.0,89933.0,40426.0,40521.0,14295.0,7617.0,8681.0,5492.0,8840.0,19820.0,6161.0,3249.0,1630.0,876.0,537.0,502.0,296.0,280.0,305.0,146.0,136.0,40.0],\"type\":\"bar\"},{\"name\":\"Primary Vaccination\",\"x\":[\"03/2020\",\"04/2020\",\"05/2020\",\"06/2020\",\"07/2020\",\"08/2020\",\"09/2020\",\"10/2020\",\"11/2020\",\"12/2020\",\"01/2021\",\"02/2021\",\"03/2021\",\"04/2021\",\"05/2021\",\"06/2021\",\"07/2021\",\"08/2021\",\"09/2021\",\"10/2021\",\"11/2021\",\"12/2021\",\"01/2022\",\"02/2022\",\"03/2022\",\"04/2022\",\"05/2022\",\"06/2022\",\"07/2022\",\"08/2022\",\"09/2022\",\"10/2022\",\"11/2022\",\"12/2022\",\"01/2023\"],\"y\":[null,null,null,null,null,null,null,null,null,null,3948.0,24100.0,26530.0,52460.0,103448.0,115405.0,56364.0,30512.0,8946.0,6620.0,4010.0,3531.0,15357.0,11952.0,3310.0,1818.0,898.0,593.0,470.0,313.0,260.0,240.0,135.0,106.0,24.0],\"type\":\"bar\"},{\"name\":\"Booster Doses\",\"x\":[\"03/2020\",\"04/2020\",\"05/2020\",\"06/2020\",\"07/2020\",\"08/2020\",\"09/2020\",\"10/2020\",\"11/2020\",\"12/2020\",\"01/2021\",\"02/2021\",\"03/2021\",\"04/2021\",\"05/2021\",\"06/2021\",\"07/2021\",\"08/2021\",\"09/2021\",\"10/2021\",\"11/2021\",\"12/2021\",\"01/2022\",\"02/2022\",\"03/2022\",\"04/2022\",\"05/2022\",\"06/2022\",\"07/2022\",\"08/2022\",\"09/2022\",\"10/2022\",\"11/2022\",\"12/2022\",\"01/2023\"],\"y\":[null,null,null,null,null,null,null,null,null,null,0.0,0.0,0.0,0.0,0.0,0.0,0.0,0.0,12071.0,40844.0,71029.0,100246.0,106865.0,12056.0,7598.0,4077.0,2100.0,1493.0,1073.0,493.0,341.0,519.0,435.0,192.0,66.0],\"type\":\"bar\"},{\"name\":\"2nd Booster Doses\",\"x\":[\"03/2020\",\"04/2020\",\"05/2020\",\"06/2020\",\"07/2020\",\"08/2020\",\"09/2020\",\"10/2020\",\"11/2020\",\"12/2020\",\"01/2021\",\"02/2021\",\"03/2021\",\"04/2021\",\"05/2021\",\"06/2021\",\"07/2021\",\"08/2021\",\"09/2021\",\"10/2021\",\"11/2021\",\"12/2021\",\"01/2022\",\"02/2022\",\"03/2022\",\"04/2022\",\"05/2022\",\"06/2022\",\"07/2022\",\"08/2022\",\"09/2022\",\"10/2022\",\"11/2022\",\"12/2022\",\"01/2023\"],\"y\":[null,null,null,null,null,null,null,null,null,null,0.0,0.0,0.0,0.0,0.0,0.0,0.0,0.0,0.0,0.0,0.0,0.0,0.0,0.0,0.0,12660.0,20064.0,13843.0,10446.0,3382.0,259.0,6742.0,6375.0,1442.0,433.0],\"type\":\"bar\"},{\"name\":\"Omicron Booster Doses\",\"x\":[\"03/2020\",\"04/2020\",\"05/2020\",\"06/2020\",\"07/2020\",\"08/2020\",\"09/2020\",\"10/2020\",\"11/2020\",\"12/2020\",\"01/2021\",\"02/2021\",\"03/2021\",\"04/2021\",\"05/2021\",\"06/2021\",\"07/2021\",\"08/2021\",\"09/2021\",\"10/2021\",\"11/2021\",\"12/2021\",\"01/2022\",\"02/2022\",\"03/2022\",\"04/2022\",\"05/2022\",\"06/2022\",\"07/2022\",\"08/2022\",\"09/2022\",\"10/2022\",\"11/2022\",\"12/2022\",\"01/2023\"],\"y\":[null,null,null,null,null,null,null,null,null,null,0.0,0.0,0.0,0.0,0.0,0.0,0.0,0.0,0.0,0.0,0.0,0.0,0.0,0.0,0.0,0.0,0.0,0.0,0.0,0.0,0.0,0.0,5609.0,2178.0,566.0],\"type\":\"bar\"},{\"marker\":{\"color\":\"black\"},\"mode\":\"lines+markers\",\"name\":\"Positivity Rate\",\"x\":[\"03/2020\",\"04/2020\",\"05/2020\",\"06/2020\",\"07/2020\",\"08/2020\",\"09/2020\",\"10/2020\",\"11/2020\",\"12/2020\",\"01/2021\",\"02/2021\",\"03/2021\",\"04/2021\",\"05/2021\",\"06/2021\",\"07/2021\",\"08/2021\",\"09/2021\",\"10/2021\",\"11/2021\",\"12/2021\",\"01/2022\",\"02/2022\",\"03/2022\",\"04/2022\",\"05/2022\",\"06/2022\",\"07/2022\",\"08/2022\",\"09/2022\",\"10/2022\",\"11/2022\",\"12/2022\",\"01/2023\"],\"y\":[null,null,null,null,1.0316875460574797,1.8255387221228947,1.834561578815888,3.5875733384630184,4.207624465946908,3.3439380316757727,5.229351250497038,5.2940700403500855,6.010532883147387,2.1721502389537792,0.4068511728364056,0.14823049842505095,3.467847800013222,1.8701277987120444,1.037897038066837,0.9066150648606034,2.7616346645590215,8.898189365595217,11.410435863080757,6.829436830588506,12.374081336346899,15.882850634559063,7.301703163017032,20.14889529298751,18.420502688223113,4.963645964498964,3.722818208176283,4.120155524896526,3.8138231631382316,5.994280686317642,8.588261953319737],\"yaxis\":\"y2\",\"type\":\"scatter\"},{\"mode\":\"lines+markers\",\"name\":\"Hospitalizations\",\"x\":[\"03/2020\",\"04/2020\",\"05/2020\",\"06/2020\",\"07/2020\",\"08/2020\",\"09/2020\",\"10/2020\",\"11/2020\",\"12/2020\",\"01/2021\",\"02/2021\",\"03/2021\",\"04/2021\",\"05/2021\",\"06/2021\",\"07/2021\",\"08/2021\",\"09/2021\",\"10/2021\",\"11/2021\",\"12/2021\",\"01/2022\",\"02/2022\",\"03/2022\",\"04/2022\",\"05/2022\",\"06/2022\",\"07/2022\",\"08/2022\",\"09/2022\",\"10/2022\",\"11/2022\",\"12/2022\",\"01/2023\"],\"y\":[16.0,12.0,9.0,10.0,1.0,33.0,35.0,63.0,85.0,56.0,49.0,59.0,89.0,38.0,21.0,5.0,49.0,48.0,24.0,18.0,25.0,110.0,68.0,16.0,93.0,null,null,null,null,null,null,null,null,null,null],\"yaxis\":\"y3\",\"type\":\"scatter\"},{\"mode\":\"lines+markers\",\"name\":\"ICU\",\"x\":[\"03/2020\",\"04/2020\",\"05/2020\",\"06/2020\",\"07/2020\",\"08/2020\",\"09/2020\",\"10/2020\",\"11/2020\",\"12/2020\",\"01/2021\",\"02/2021\",\"03/2021\",\"04/2021\",\"05/2021\",\"06/2021\",\"07/2021\",\"08/2021\",\"09/2021\",\"10/2021\",\"11/2021\",\"12/2021\",\"01/2022\",\"02/2022\",\"03/2022\",\"04/2022\",\"05/2022\",\"06/2022\",\"07/2022\",\"08/2022\",\"09/2022\",\"10/2022\",\"11/2022\",\"12/2022\",\"01/2023\"],\"y\":[4,2,3,0,0,0,5,3,20,3,17,13,4,7,2,0,2,5,0,5,1,6,0,1,3,4,3,3,4,1,0,2,1,1,0],\"yaxis\":\"y3\",\"type\":\"scatter\"}],                        {\"template\":{\"data\":{\"histogram2dcontour\":[{\"type\":\"histogram2dcontour\",\"colorbar\":{\"outlinewidth\":0,\"ticks\":\"\"},\"colorscale\":[[0.0,\"#0d0887\"],[0.1111111111111111,\"#46039f\"],[0.2222222222222222,\"#7201a8\"],[0.3333333333333333,\"#9c179e\"],[0.4444444444444444,\"#bd3786\"],[0.5555555555555556,\"#d8576b\"],[0.6666666666666666,\"#ed7953\"],[0.7777777777777778,\"#fb9f3a\"],[0.8888888888888888,\"#fdca26\"],[1.0,\"#f0f921\"]]}],\"choropleth\":[{\"type\":\"choropleth\",\"colorbar\":{\"outlinewidth\":0,\"ticks\":\"\"}}],\"histogram2d\":[{\"type\":\"histogram2d\",\"colorbar\":{\"outlinewidth\":0,\"ticks\":\"\"},\"colorscale\":[[0.0,\"#0d0887\"],[0.1111111111111111,\"#46039f\"],[0.2222222222222222,\"#7201a8\"],[0.3333333333333333,\"#9c179e\"],[0.4444444444444444,\"#bd3786\"],[0.5555555555555556,\"#d8576b\"],[0.6666666666666666,\"#ed7953\"],[0.7777777777777778,\"#fb9f3a\"],[0.8888888888888888,\"#fdca26\"],[1.0,\"#f0f921\"]]}],\"heatmap\":[{\"type\":\"heatmap\",\"colorbar\":{\"outlinewidth\":0,\"ticks\":\"\"},\"colorscale\":[[0.0,\"#0d0887\"],[0.1111111111111111,\"#46039f\"],[0.2222222222222222,\"#7201a8\"],[0.3333333333333333,\"#9c179e\"],[0.4444444444444444,\"#bd3786\"],[0.5555555555555556,\"#d8576b\"],[0.6666666666666666,\"#ed7953\"],[0.7777777777777778,\"#fb9f3a\"],[0.8888888888888888,\"#fdca26\"],[1.0,\"#f0f921\"]]}],\"heatmapgl\":[{\"type\":\"heatmapgl\",\"colorbar\":{\"outlinewidth\":0,\"ticks\":\"\"},\"colorscale\":[[0.0,\"#0d0887\"],[0.1111111111111111,\"#46039f\"],[0.2222222222222222,\"#7201a8\"],[0.3333333333333333,\"#9c179e\"],[0.4444444444444444,\"#bd3786\"],[0.5555555555555556,\"#d8576b\"],[0.6666666666666666,\"#ed7953\"],[0.7777777777777778,\"#fb9f3a\"],[0.8888888888888888,\"#fdca26\"],[1.0,\"#f0f921\"]]}],\"contourcarpet\":[{\"type\":\"contourcarpet\",\"colorbar\":{\"outlinewidth\":0,\"ticks\":\"\"}}],\"contour\":[{\"type\":\"contour\",\"colorbar\":{\"outlinewidth\":0,\"ticks\":\"\"},\"colorscale\":[[0.0,\"#0d0887\"],[0.1111111111111111,\"#46039f\"],[0.2222222222222222,\"#7201a8\"],[0.3333333333333333,\"#9c179e\"],[0.4444444444444444,\"#bd3786\"],[0.5555555555555556,\"#d8576b\"],[0.6666666666666666,\"#ed7953\"],[0.7777777777777778,\"#fb9f3a\"],[0.8888888888888888,\"#fdca26\"],[1.0,\"#f0f921\"]]}],\"surface\":[{\"type\":\"surface\",\"colorbar\":{\"outlinewidth\":0,\"ticks\":\"\"},\"colorscale\":[[0.0,\"#0d0887\"],[0.1111111111111111,\"#46039f\"],[0.2222222222222222,\"#7201a8\"],[0.3333333333333333,\"#9c179e\"],[0.4444444444444444,\"#bd3786\"],[0.5555555555555556,\"#d8576b\"],[0.6666666666666666,\"#ed7953\"],[0.7777777777777778,\"#fb9f3a\"],[0.8888888888888888,\"#fdca26\"],[1.0,\"#f0f921\"]]}],\"mesh3d\":[{\"type\":\"mesh3d\",\"colorbar\":{\"outlinewidth\":0,\"ticks\":\"\"}}],\"scatter\":[{\"fillpattern\":{\"fillmode\":\"overlay\",\"size\":10,\"solidity\":0.2},\"type\":\"scatter\"}],\"parcoords\":[{\"type\":\"parcoords\",\"line\":{\"colorbar\":{\"outlinewidth\":0,\"ticks\":\"\"}}}],\"scatterpolargl\":[{\"type\":\"scatterpolargl\",\"marker\":{\"colorbar\":{\"outlinewidth\":0,\"ticks\":\"\"}}}],\"bar\":[{\"error_x\":{\"color\":\"#2a3f5f\"},\"error_y\":{\"color\":\"#2a3f5f\"},\"marker\":{\"line\":{\"color\":\"#E5ECF6\",\"width\":0.5},\"pattern\":{\"fillmode\":\"overlay\",\"size\":10,\"solidity\":0.2}},\"type\":\"bar\"}],\"scattergeo\":[{\"type\":\"scattergeo\",\"marker\":{\"colorbar\":{\"outlinewidth\":0,\"ticks\":\"\"}}}],\"scatterpolar\":[{\"type\":\"scatterpolar\",\"marker\":{\"colorbar\":{\"outlinewidth\":0,\"ticks\":\"\"}}}],\"histogram\":[{\"marker\":{\"pattern\":{\"fillmode\":\"overlay\",\"size\":10,\"solidity\":0.2}},\"type\":\"histogram\"}],\"scattergl\":[{\"type\":\"scattergl\",\"marker\":{\"colorbar\":{\"outlinewidth\":0,\"ticks\":\"\"}}}],\"scatter3d\":[{\"type\":\"scatter3d\",\"line\":{\"colorbar\":{\"outlinewidth\":0,\"ticks\":\"\"}},\"marker\":{\"colorbar\":{\"outlinewidth\":0,\"ticks\":\"\"}}}],\"scattermapbox\":[{\"type\":\"scattermapbox\",\"marker\":{\"colorbar\":{\"outlinewidth\":0,\"ticks\":\"\"}}}],\"scatterternary\":[{\"type\":\"scatterternary\",\"marker\":{\"colorbar\":{\"outlinewidth\":0,\"ticks\":\"\"}}}],\"scattercarpet\":[{\"type\":\"scattercarpet\",\"marker\":{\"colorbar\":{\"outlinewidth\":0,\"ticks\":\"\"}}}],\"carpet\":[{\"aaxis\":{\"endlinecolor\":\"#2a3f5f\",\"gridcolor\":\"white\",\"linecolor\":\"white\",\"minorgridcolor\":\"white\",\"startlinecolor\":\"#2a3f5f\"},\"baxis\":{\"endlinecolor\":\"#2a3f5f\",\"gridcolor\":\"white\",\"linecolor\":\"white\",\"minorgridcolor\":\"white\",\"startlinecolor\":\"#2a3f5f\"},\"type\":\"carpet\"}],\"table\":[{\"cells\":{\"fill\":{\"color\":\"#EBF0F8\"},\"line\":{\"color\":\"white\"}},\"header\":{\"fill\":{\"color\":\"#C8D4E3\"},\"line\":{\"color\":\"white\"}},\"type\":\"table\"}],\"barpolar\":[{\"marker\":{\"line\":{\"color\":\"#E5ECF6\",\"width\":0.5},\"pattern\":{\"fillmode\":\"overlay\",\"size\":10,\"solidity\":0.2}},\"type\":\"barpolar\"}],\"pie\":[{\"automargin\":true,\"type\":\"pie\"}]},\"layout\":{\"autotypenumbers\":\"strict\",\"colorway\":[\"#636efa\",\"#EF553B\",\"#00cc96\",\"#ab63fa\",\"#FFA15A\",\"#19d3f3\",\"#FF6692\",\"#B6E880\",\"#FF97FF\",\"#FECB52\"],\"font\":{\"color\":\"#2a3f5f\"},\"hovermode\":\"closest\",\"hoverlabel\":{\"align\":\"left\"},\"paper_bgcolor\":\"white\",\"plot_bgcolor\":\"#E5ECF6\",\"polar\":{\"bgcolor\":\"#E5ECF6\",\"angularaxis\":{\"gridcolor\":\"white\",\"linecolor\":\"white\",\"ticks\":\"\"},\"radialaxis\":{\"gridcolor\":\"white\",\"linecolor\":\"white\",\"ticks\":\"\"}},\"ternary\":{\"bgcolor\":\"#E5ECF6\",\"aaxis\":{\"gridcolor\":\"white\",\"linecolor\":\"white\",\"ticks\":\"\"},\"baxis\":{\"gridcolor\":\"white\",\"linecolor\":\"white\",\"ticks\":\"\"},\"caxis\":{\"gridcolor\":\"white\",\"linecolor\":\"white\",\"ticks\":\"\"}},\"coloraxis\":{\"colorbar\":{\"outlinewidth\":0,\"ticks\":\"\"}},\"colorscale\":{\"sequential\":[[0.0,\"#0d0887\"],[0.1111111111111111,\"#46039f\"],[0.2222222222222222,\"#7201a8\"],[0.3333333333333333,\"#9c179e\"],[0.4444444444444444,\"#bd3786\"],[0.5555555555555556,\"#d8576b\"],[0.6666666666666666,\"#ed7953\"],[0.7777777777777778,\"#fb9f3a\"],[0.8888888888888888,\"#fdca26\"],[1.0,\"#f0f921\"]],\"sequentialminus\":[[0.0,\"#0d0887\"],[0.1111111111111111,\"#46039f\"],[0.2222222222222222,\"#7201a8\"],[0.3333333333333333,\"#9c179e\"],[0.4444444444444444,\"#bd3786\"],[0.5555555555555556,\"#d8576b\"],[0.6666666666666666,\"#ed7953\"],[0.7777777777777778,\"#fb9f3a\"],[0.8888888888888888,\"#fdca26\"],[1.0,\"#f0f921\"]],\"diverging\":[[0,\"#8e0152\"],[0.1,\"#c51b7d\"],[0.2,\"#de77ae\"],[0.3,\"#f1b6da\"],[0.4,\"#fde0ef\"],[0.5,\"#f7f7f7\"],[0.6,\"#e6f5d0\"],[0.7,\"#b8e186\"],[0.8,\"#7fbc41\"],[0.9,\"#4d9221\"],[1,\"#276419\"]]},\"xaxis\":{\"gridcolor\":\"white\",\"linecolor\":\"white\",\"ticks\":\"\",\"title\":{\"standoff\":15},\"zerolinecolor\":\"white\",\"automargin\":true,\"zerolinewidth\":2},\"yaxis\":{\"gridcolor\":\"white\",\"linecolor\":\"white\",\"ticks\":\"\",\"title\":{\"standoff\":15},\"zerolinecolor\":\"white\",\"automargin\":true,\"zerolinewidth\":2},\"scene\":{\"xaxis\":{\"backgroundcolor\":\"#E5ECF6\",\"gridcolor\":\"white\",\"linecolor\":\"white\",\"showbackground\":true,\"ticks\":\"\",\"zerolinecolor\":\"white\",\"gridwidth\":2},\"yaxis\":{\"backgroundcolor\":\"#E5ECF6\",\"gridcolor\":\"white\",\"linecolor\":\"white\",\"showbackground\":true,\"ticks\":\"\",\"zerolinecolor\":\"white\",\"gridwidth\":2},\"zaxis\":{\"backgroundcolor\":\"#E5ECF6\",\"gridcolor\":\"white\",\"linecolor\":\"white\",\"showbackground\":true,\"ticks\":\"\",\"zerolinecolor\":\"white\",\"gridwidth\":2}},\"shapedefaults\":{\"line\":{\"color\":\"#2a3f5f\"}},\"annotationdefaults\":{\"arrowcolor\":\"#2a3f5f\",\"arrowhead\":0,\"arrowwidth\":1},\"geo\":{\"bgcolor\":\"white\",\"landcolor\":\"#E5ECF6\",\"subunitcolor\":\"white\",\"showland\":true,\"showlakes\":true,\"lakecolor\":\"white\"},\"title\":{\"x\":0.05},\"mapbox\":{\"style\":\"light\"}}},\"barmode\":\"stack\",\"xaxis\":{\"domain\":[0,0.95]},\"yaxis2\":{\"title\":{\"text\":\"Rate %\"},\"anchor\":\"x\",\"overlaying\":\"y\",\"side\":\"right\"},\"yaxis3\":{\"title\":{\"text\":\"Hospitalizations\"},\"anchor\":\"free\",\"overlaying\":\"y\",\"side\":\"right\",\"position\":1},\"yaxis\":{\"title\":{\"text\":\"Doses\"}},\"legend\":{\"yanchor\":\"top\",\"y\":0.99,\"xanchor\":\"left\",\"x\":0.01},\"title\":{\"text\":\"Vaccinations, Positivity Rate % & Hospitalizations\"}},                        {\"responsive\": true}                    ).then(function(){\n",
       "                            \n",
       "var gd = document.getElementById('c3d1ef14-155c-4f73-bfbb-060dacc004d4');\n",
       "var x = new MutationObserver(function (mutations, observer) {{\n",
       "        var display = window.getComputedStyle(gd).display;\n",
       "        if (!display || display === 'none') {{\n",
       "            console.log([gd, 'removed!']);\n",
       "            Plotly.purge(gd);\n",
       "            observer.disconnect();\n",
       "        }}\n",
       "}});\n",
       "\n",
       "// Listen for the removal of the full notebook cells\n",
       "var notebookContainer = gd.closest('#notebook-container');\n",
       "if (notebookContainer) {{\n",
       "    x.observe(notebookContainer, {childList: true});\n",
       "}}\n",
       "\n",
       "// Listen for the clearing of the current output cell\n",
       "var outputEl = gd.closest('.output');\n",
       "if (outputEl) {{\n",
       "    x.observe(outputEl, {childList: true});\n",
       "}}\n",
       "\n",
       "                        })                };                });            </script>        </div>"
      ]
     },
     "metadata": {},
     "output_type": "display_data"
    }
   ],
   "source": [
    "fig = go.Figure()\n",
    "\n",
    "fig.add_traces([\n",
    "    go.Bar(name='Received One Dose', x=data_df['Date'], y=data_df['New Received one dose']),\n",
    "    go.Bar(name='Primary Vaccination', x=data_df['Date'], y=data_df['New Primary Vaccination']),\n",
    "    go.Bar(name='Booster Doses', x=data_df['Date'], y=data_df['New Booster doses']),\n",
    "    go.Bar(name='2nd Booster Doses', x=data_df['Date'], y=data_df['New 2nd Booster doses']),\n",
    "    go.Bar(name='Omicron Booster Doses', x=data_df['Date'], y=data_df['New Omicron booster doses'])\n",
    "])\n",
    "fig.update_layout(barmode='stack')\n",
    "\n",
    "fig.add_trace(\n",
    "    go.Scatter(\n",
    "        x=data_df['Date'],\n",
    "        y=data_df['Positivity Rate'],\n",
    "        mode='lines+markers',\n",
    "        name='Positivity Rate',\n",
    "        marker_color='black',\n",
    "        yaxis='y2'\n",
    "    )\n",
    ")\n",
    "fig.add_trace(\n",
    "    go.Scatter(\n",
    "        x=data_df['Date'],\n",
    "        y=data_df['New Hospitalized'],\n",
    "        mode='lines+markers',\n",
    "        name='Hospitalizations',\n",
    "        yaxis='y3'\n",
    "    )\n",
    ")\n",
    "fig.add_trace(\n",
    "    go.Scatter(\n",
    "        x=data_df['Date'],\n",
    "        y=data_df['New ICU'],\n",
    "        mode='lines+markers',\n",
    "        name='ICU',\n",
    "        yaxis='y3'\n",
    "    )\n",
    ")\n",
    "\n",
    "fig.update_layout(\n",
    "    xaxis=dict(\n",
    "        domain=[0, 0.95]\n",
    "    ),\n",
    "    yaxis=dict(\n",
    "        title='Doses'\n",
    "    ),\n",
    "    yaxis2=dict(\n",
    "        title='Rate %',\n",
    "         anchor=\"x\",\n",
    "        overlaying=\"y\",\n",
    "        side=\"right\"\n",
    "    ),\n",
    "    yaxis3=dict(\n",
    "        title='Hospitalizations',\n",
    "         anchor=\"free\",\n",
    "        overlaying=\"y\",\n",
    "        side=\"right\",\n",
    "        position=1\n",
    "    )\n",
    ")\n",
    "\n",
    "fig.update_layout(legend=dict(\n",
    "    yanchor=\"top\",\n",
    "    y=0.99,\n",
    "    xanchor=\"left\",\n",
    "    x=0.01\n",
    "))\n",
    "\n",
    "fig.update_layout(\n",
    "    title_text=\"Vaccinations, Positivity Rate % & Hospitalizations\"\n",
    ")\n",
    "\n",
    "fig.show()"
   ]
  },
  {
   "attachments": {},
   "cell_type": "markdown",
   "metadata": {},
   "source": [
    "### Vaccinations, Recovered & Active Cases"
   ]
  },
  {
   "cell_type": "code",
   "execution_count": 68,
   "metadata": {},
   "outputs": [
    {
     "data": {
      "application/vnd.plotly.v1+json": {
       "config": {
        "plotlyServerURL": "https://plot.ly"
       },
       "data": [
        {
         "name": "Received One Dose",
         "type": "bar",
         "x": [
          "03/2020",
          "04/2020",
          "05/2020",
          "06/2020",
          "07/2020",
          "08/2020",
          "09/2020",
          "10/2020",
          "11/2020",
          "12/2020",
          "01/2021",
          "02/2021",
          "03/2021",
          "04/2021",
          "05/2021",
          "06/2021",
          "07/2021",
          "08/2021",
          "09/2021",
          "10/2021",
          "11/2021",
          "12/2021",
          "01/2022",
          "02/2022",
          "03/2022",
          "04/2022",
          "05/2022",
          "06/2022",
          "07/2022",
          "08/2022",
          "09/2022",
          "10/2022",
          "11/2022",
          "12/2022",
          "01/2023"
         ],
         "y": [
          null,
          null,
          null,
          null,
          null,
          null,
          null,
          null,
          null,
          null,
          23811,
          27765,
          91229,
          86005,
          89933,
          40426,
          40521,
          14295,
          7617,
          8681,
          5492,
          8840,
          19820,
          6161,
          3249,
          1630,
          876,
          537,
          502,
          296,
          280,
          305,
          146,
          136,
          40
         ]
        },
        {
         "name": "Primary Vaccination",
         "type": "bar",
         "x": [
          "03/2020",
          "04/2020",
          "05/2020",
          "06/2020",
          "07/2020",
          "08/2020",
          "09/2020",
          "10/2020",
          "11/2020",
          "12/2020",
          "01/2021",
          "02/2021",
          "03/2021",
          "04/2021",
          "05/2021",
          "06/2021",
          "07/2021",
          "08/2021",
          "09/2021",
          "10/2021",
          "11/2021",
          "12/2021",
          "01/2022",
          "02/2022",
          "03/2022",
          "04/2022",
          "05/2022",
          "06/2022",
          "07/2022",
          "08/2022",
          "09/2022",
          "10/2022",
          "11/2022",
          "12/2022",
          "01/2023"
         ],
         "y": [
          null,
          null,
          null,
          null,
          null,
          null,
          null,
          null,
          null,
          null,
          3948,
          24100,
          26530,
          52460,
          103448,
          115405,
          56364,
          30512,
          8946,
          6620,
          4010,
          3531,
          15357,
          11952,
          3310,
          1818,
          898,
          593,
          470,
          313,
          260,
          240,
          135,
          106,
          24
         ]
        },
        {
         "name": "Booster Doses",
         "type": "bar",
         "x": [
          "03/2020",
          "04/2020",
          "05/2020",
          "06/2020",
          "07/2020",
          "08/2020",
          "09/2020",
          "10/2020",
          "11/2020",
          "12/2020",
          "01/2021",
          "02/2021",
          "03/2021",
          "04/2021",
          "05/2021",
          "06/2021",
          "07/2021",
          "08/2021",
          "09/2021",
          "10/2021",
          "11/2021",
          "12/2021",
          "01/2022",
          "02/2022",
          "03/2022",
          "04/2022",
          "05/2022",
          "06/2022",
          "07/2022",
          "08/2022",
          "09/2022",
          "10/2022",
          "11/2022",
          "12/2022",
          "01/2023"
         ],
         "y": [
          null,
          null,
          null,
          null,
          null,
          null,
          null,
          null,
          null,
          null,
          0,
          0,
          0,
          0,
          0,
          0,
          0,
          0,
          12071,
          40844,
          71029,
          100246,
          106865,
          12056,
          7598,
          4077,
          2100,
          1493,
          1073,
          493,
          341,
          519,
          435,
          192,
          66
         ]
        },
        {
         "name": "2nd Booster Doses",
         "type": "bar",
         "x": [
          "03/2020",
          "04/2020",
          "05/2020",
          "06/2020",
          "07/2020",
          "08/2020",
          "09/2020",
          "10/2020",
          "11/2020",
          "12/2020",
          "01/2021",
          "02/2021",
          "03/2021",
          "04/2021",
          "05/2021",
          "06/2021",
          "07/2021",
          "08/2021",
          "09/2021",
          "10/2021",
          "11/2021",
          "12/2021",
          "01/2022",
          "02/2022",
          "03/2022",
          "04/2022",
          "05/2022",
          "06/2022",
          "07/2022",
          "08/2022",
          "09/2022",
          "10/2022",
          "11/2022",
          "12/2022",
          "01/2023"
         ],
         "y": [
          null,
          null,
          null,
          null,
          null,
          null,
          null,
          null,
          null,
          null,
          0,
          0,
          0,
          0,
          0,
          0,
          0,
          0,
          0,
          0,
          0,
          0,
          0,
          0,
          0,
          12660,
          20064,
          13843,
          10446,
          3382,
          259,
          6742,
          6375,
          1442,
          433
         ]
        },
        {
         "name": "Omicron Booster Doses",
         "type": "bar",
         "x": [
          "03/2020",
          "04/2020",
          "05/2020",
          "06/2020",
          "07/2020",
          "08/2020",
          "09/2020",
          "10/2020",
          "11/2020",
          "12/2020",
          "01/2021",
          "02/2021",
          "03/2021",
          "04/2021",
          "05/2021",
          "06/2021",
          "07/2021",
          "08/2021",
          "09/2021",
          "10/2021",
          "11/2021",
          "12/2021",
          "01/2022",
          "02/2022",
          "03/2022",
          "04/2022",
          "05/2022",
          "06/2022",
          "07/2022",
          "08/2022",
          "09/2022",
          "10/2022",
          "11/2022",
          "12/2022",
          "01/2023"
         ],
         "y": [
          null,
          null,
          null,
          null,
          null,
          null,
          null,
          null,
          null,
          null,
          0,
          0,
          0,
          0,
          0,
          0,
          0,
          0,
          0,
          0,
          0,
          0,
          0,
          0,
          0,
          0,
          0,
          0,
          0,
          0,
          0,
          0,
          5609,
          2178,
          566
         ]
        },
        {
         "marker": {
          "color": "black"
         },
         "mode": "lines+markers",
         "name": "Recovered",
         "type": "scatter",
         "x": [
          "03/2020",
          "04/2020",
          "05/2020",
          "06/2020",
          "07/2020",
          "08/2020",
          "09/2020",
          "10/2020",
          "11/2020",
          "12/2020",
          "01/2021",
          "02/2021",
          "03/2021",
          "04/2021",
          "05/2021",
          "06/2021",
          "07/2021",
          "08/2021",
          "09/2021",
          "10/2021",
          "11/2021",
          "12/2021",
          "01/2022",
          "02/2022",
          "03/2022",
          "04/2022",
          "05/2022",
          "06/2022",
          "07/2022",
          "08/2022",
          "09/2022",
          "10/2022",
          "11/2022",
          "12/2022",
          "01/2023"
         ],
         "xaxis": "x",
         "y": [
          2,
          349,
          183,
          106,
          25,
          735,
          1162,
          1593,
          3510,
          3456,
          3839,
          4487,
          8358,
          1743,
          502,
          108,
          1471,
          3049,
          1290,
          615,
          802,
          2771,
          23640,
          5783,
          3286,
          14254,
          5096,
          3549,
          14099,
          2863,
          489,
          594,
          635,
          445,
          229
         ],
         "yaxis": "y2"
        },
        {
         "marker": {
          "color": "blue"
         },
         "mode": "lines+markers",
         "name": "Active Cases",
         "type": "scatter",
         "x": [
          "03/2020",
          "04/2020",
          "05/2020",
          "06/2020",
          "07/2020",
          "08/2020",
          "09/2020",
          "10/2020",
          "11/2020",
          "12/2020",
          "01/2021",
          "02/2021",
          "03/2021",
          "04/2021",
          "05/2021",
          "06/2021",
          "07/2021",
          "08/2021",
          "09/2021",
          "10/2021",
          "11/2021",
          "12/2021",
          "01/2022",
          "02/2022",
          "03/2022",
          "04/2022",
          "05/2022",
          "06/2022",
          "07/2022",
          "08/2022",
          "09/2022",
          "10/2022",
          "11/2022",
          "12/2022",
          "01/2023"
         ],
         "xaxis": "x",
         "y": [
          167,
          110,
          75,
          21,
          150,
          471,
          462,
          1825,
          2071,
          1434,
          2676,
          2720,
          836,
          331,
          66,
          45,
          1847,
          656,
          328,
          215,
          1188,
          11441,
          2972,
          692,
          5640,
          3528,
          1410,
          6231,
          1775,
          127,
          275,
          336,
          190,
          284,
          427
         ],
         "yaxis": "y2"
        }
       ],
       "layout": {
        "barmode": "stack",
        "template": {
         "data": {
          "bar": [
           {
            "error_x": {
             "color": "#2a3f5f"
            },
            "error_y": {
             "color": "#2a3f5f"
            },
            "marker": {
             "line": {
              "color": "#E5ECF6",
              "width": 0.5
             },
             "pattern": {
              "fillmode": "overlay",
              "size": 10,
              "solidity": 0.2
             }
            },
            "type": "bar"
           }
          ],
          "barpolar": [
           {
            "marker": {
             "line": {
              "color": "#E5ECF6",
              "width": 0.5
             },
             "pattern": {
              "fillmode": "overlay",
              "size": 10,
              "solidity": 0.2
             }
            },
            "type": "barpolar"
           }
          ],
          "carpet": [
           {
            "aaxis": {
             "endlinecolor": "#2a3f5f",
             "gridcolor": "white",
             "linecolor": "white",
             "minorgridcolor": "white",
             "startlinecolor": "#2a3f5f"
            },
            "baxis": {
             "endlinecolor": "#2a3f5f",
             "gridcolor": "white",
             "linecolor": "white",
             "minorgridcolor": "white",
             "startlinecolor": "#2a3f5f"
            },
            "type": "carpet"
           }
          ],
          "choropleth": [
           {
            "colorbar": {
             "outlinewidth": 0,
             "ticks": ""
            },
            "type": "choropleth"
           }
          ],
          "contour": [
           {
            "colorbar": {
             "outlinewidth": 0,
             "ticks": ""
            },
            "colorscale": [
             [
              0,
              "#0d0887"
             ],
             [
              0.1111111111111111,
              "#46039f"
             ],
             [
              0.2222222222222222,
              "#7201a8"
             ],
             [
              0.3333333333333333,
              "#9c179e"
             ],
             [
              0.4444444444444444,
              "#bd3786"
             ],
             [
              0.5555555555555556,
              "#d8576b"
             ],
             [
              0.6666666666666666,
              "#ed7953"
             ],
             [
              0.7777777777777778,
              "#fb9f3a"
             ],
             [
              0.8888888888888888,
              "#fdca26"
             ],
             [
              1,
              "#f0f921"
             ]
            ],
            "type": "contour"
           }
          ],
          "contourcarpet": [
           {
            "colorbar": {
             "outlinewidth": 0,
             "ticks": ""
            },
            "type": "contourcarpet"
           }
          ],
          "heatmap": [
           {
            "colorbar": {
             "outlinewidth": 0,
             "ticks": ""
            },
            "colorscale": [
             [
              0,
              "#0d0887"
             ],
             [
              0.1111111111111111,
              "#46039f"
             ],
             [
              0.2222222222222222,
              "#7201a8"
             ],
             [
              0.3333333333333333,
              "#9c179e"
             ],
             [
              0.4444444444444444,
              "#bd3786"
             ],
             [
              0.5555555555555556,
              "#d8576b"
             ],
             [
              0.6666666666666666,
              "#ed7953"
             ],
             [
              0.7777777777777778,
              "#fb9f3a"
             ],
             [
              0.8888888888888888,
              "#fdca26"
             ],
             [
              1,
              "#f0f921"
             ]
            ],
            "type": "heatmap"
           }
          ],
          "heatmapgl": [
           {
            "colorbar": {
             "outlinewidth": 0,
             "ticks": ""
            },
            "colorscale": [
             [
              0,
              "#0d0887"
             ],
             [
              0.1111111111111111,
              "#46039f"
             ],
             [
              0.2222222222222222,
              "#7201a8"
             ],
             [
              0.3333333333333333,
              "#9c179e"
             ],
             [
              0.4444444444444444,
              "#bd3786"
             ],
             [
              0.5555555555555556,
              "#d8576b"
             ],
             [
              0.6666666666666666,
              "#ed7953"
             ],
             [
              0.7777777777777778,
              "#fb9f3a"
             ],
             [
              0.8888888888888888,
              "#fdca26"
             ],
             [
              1,
              "#f0f921"
             ]
            ],
            "type": "heatmapgl"
           }
          ],
          "histogram": [
           {
            "marker": {
             "pattern": {
              "fillmode": "overlay",
              "size": 10,
              "solidity": 0.2
             }
            },
            "type": "histogram"
           }
          ],
          "histogram2d": [
           {
            "colorbar": {
             "outlinewidth": 0,
             "ticks": ""
            },
            "colorscale": [
             [
              0,
              "#0d0887"
             ],
             [
              0.1111111111111111,
              "#46039f"
             ],
             [
              0.2222222222222222,
              "#7201a8"
             ],
             [
              0.3333333333333333,
              "#9c179e"
             ],
             [
              0.4444444444444444,
              "#bd3786"
             ],
             [
              0.5555555555555556,
              "#d8576b"
             ],
             [
              0.6666666666666666,
              "#ed7953"
             ],
             [
              0.7777777777777778,
              "#fb9f3a"
             ],
             [
              0.8888888888888888,
              "#fdca26"
             ],
             [
              1,
              "#f0f921"
             ]
            ],
            "type": "histogram2d"
           }
          ],
          "histogram2dcontour": [
           {
            "colorbar": {
             "outlinewidth": 0,
             "ticks": ""
            },
            "colorscale": [
             [
              0,
              "#0d0887"
             ],
             [
              0.1111111111111111,
              "#46039f"
             ],
             [
              0.2222222222222222,
              "#7201a8"
             ],
             [
              0.3333333333333333,
              "#9c179e"
             ],
             [
              0.4444444444444444,
              "#bd3786"
             ],
             [
              0.5555555555555556,
              "#d8576b"
             ],
             [
              0.6666666666666666,
              "#ed7953"
             ],
             [
              0.7777777777777778,
              "#fb9f3a"
             ],
             [
              0.8888888888888888,
              "#fdca26"
             ],
             [
              1,
              "#f0f921"
             ]
            ],
            "type": "histogram2dcontour"
           }
          ],
          "mesh3d": [
           {
            "colorbar": {
             "outlinewidth": 0,
             "ticks": ""
            },
            "type": "mesh3d"
           }
          ],
          "parcoords": [
           {
            "line": {
             "colorbar": {
              "outlinewidth": 0,
              "ticks": ""
             }
            },
            "type": "parcoords"
           }
          ],
          "pie": [
           {
            "automargin": true,
            "type": "pie"
           }
          ],
          "scatter": [
           {
            "fillpattern": {
             "fillmode": "overlay",
             "size": 10,
             "solidity": 0.2
            },
            "type": "scatter"
           }
          ],
          "scatter3d": [
           {
            "line": {
             "colorbar": {
              "outlinewidth": 0,
              "ticks": ""
             }
            },
            "marker": {
             "colorbar": {
              "outlinewidth": 0,
              "ticks": ""
             }
            },
            "type": "scatter3d"
           }
          ],
          "scattercarpet": [
           {
            "marker": {
             "colorbar": {
              "outlinewidth": 0,
              "ticks": ""
             }
            },
            "type": "scattercarpet"
           }
          ],
          "scattergeo": [
           {
            "marker": {
             "colorbar": {
              "outlinewidth": 0,
              "ticks": ""
             }
            },
            "type": "scattergeo"
           }
          ],
          "scattergl": [
           {
            "marker": {
             "colorbar": {
              "outlinewidth": 0,
              "ticks": ""
             }
            },
            "type": "scattergl"
           }
          ],
          "scattermapbox": [
           {
            "marker": {
             "colorbar": {
              "outlinewidth": 0,
              "ticks": ""
             }
            },
            "type": "scattermapbox"
           }
          ],
          "scatterpolar": [
           {
            "marker": {
             "colorbar": {
              "outlinewidth": 0,
              "ticks": ""
             }
            },
            "type": "scatterpolar"
           }
          ],
          "scatterpolargl": [
           {
            "marker": {
             "colorbar": {
              "outlinewidth": 0,
              "ticks": ""
             }
            },
            "type": "scatterpolargl"
           }
          ],
          "scatterternary": [
           {
            "marker": {
             "colorbar": {
              "outlinewidth": 0,
              "ticks": ""
             }
            },
            "type": "scatterternary"
           }
          ],
          "surface": [
           {
            "colorbar": {
             "outlinewidth": 0,
             "ticks": ""
            },
            "colorscale": [
             [
              0,
              "#0d0887"
             ],
             [
              0.1111111111111111,
              "#46039f"
             ],
             [
              0.2222222222222222,
              "#7201a8"
             ],
             [
              0.3333333333333333,
              "#9c179e"
             ],
             [
              0.4444444444444444,
              "#bd3786"
             ],
             [
              0.5555555555555556,
              "#d8576b"
             ],
             [
              0.6666666666666666,
              "#ed7953"
             ],
             [
              0.7777777777777778,
              "#fb9f3a"
             ],
             [
              0.8888888888888888,
              "#fdca26"
             ],
             [
              1,
              "#f0f921"
             ]
            ],
            "type": "surface"
           }
          ],
          "table": [
           {
            "cells": {
             "fill": {
              "color": "#EBF0F8"
             },
             "line": {
              "color": "white"
             }
            },
            "header": {
             "fill": {
              "color": "#C8D4E3"
             },
             "line": {
              "color": "white"
             }
            },
            "type": "table"
           }
          ]
         },
         "layout": {
          "annotationdefaults": {
           "arrowcolor": "#2a3f5f",
           "arrowhead": 0,
           "arrowwidth": 1
          },
          "autotypenumbers": "strict",
          "coloraxis": {
           "colorbar": {
            "outlinewidth": 0,
            "ticks": ""
           }
          },
          "colorscale": {
           "diverging": [
            [
             0,
             "#8e0152"
            ],
            [
             0.1,
             "#c51b7d"
            ],
            [
             0.2,
             "#de77ae"
            ],
            [
             0.3,
             "#f1b6da"
            ],
            [
             0.4,
             "#fde0ef"
            ],
            [
             0.5,
             "#f7f7f7"
            ],
            [
             0.6,
             "#e6f5d0"
            ],
            [
             0.7,
             "#b8e186"
            ],
            [
             0.8,
             "#7fbc41"
            ],
            [
             0.9,
             "#4d9221"
            ],
            [
             1,
             "#276419"
            ]
           ],
           "sequential": [
            [
             0,
             "#0d0887"
            ],
            [
             0.1111111111111111,
             "#46039f"
            ],
            [
             0.2222222222222222,
             "#7201a8"
            ],
            [
             0.3333333333333333,
             "#9c179e"
            ],
            [
             0.4444444444444444,
             "#bd3786"
            ],
            [
             0.5555555555555556,
             "#d8576b"
            ],
            [
             0.6666666666666666,
             "#ed7953"
            ],
            [
             0.7777777777777778,
             "#fb9f3a"
            ],
            [
             0.8888888888888888,
             "#fdca26"
            ],
            [
             1,
             "#f0f921"
            ]
           ],
           "sequentialminus": [
            [
             0,
             "#0d0887"
            ],
            [
             0.1111111111111111,
             "#46039f"
            ],
            [
             0.2222222222222222,
             "#7201a8"
            ],
            [
             0.3333333333333333,
             "#9c179e"
            ],
            [
             0.4444444444444444,
             "#bd3786"
            ],
            [
             0.5555555555555556,
             "#d8576b"
            ],
            [
             0.6666666666666666,
             "#ed7953"
            ],
            [
             0.7777777777777778,
             "#fb9f3a"
            ],
            [
             0.8888888888888888,
             "#fdca26"
            ],
            [
             1,
             "#f0f921"
            ]
           ]
          },
          "colorway": [
           "#636efa",
           "#EF553B",
           "#00cc96",
           "#ab63fa",
           "#FFA15A",
           "#19d3f3",
           "#FF6692",
           "#B6E880",
           "#FF97FF",
           "#FECB52"
          ],
          "font": {
           "color": "#2a3f5f"
          },
          "geo": {
           "bgcolor": "white",
           "lakecolor": "white",
           "landcolor": "#E5ECF6",
           "showlakes": true,
           "showland": true,
           "subunitcolor": "white"
          },
          "hoverlabel": {
           "align": "left"
          },
          "hovermode": "closest",
          "mapbox": {
           "style": "light"
          },
          "paper_bgcolor": "white",
          "plot_bgcolor": "#E5ECF6",
          "polar": {
           "angularaxis": {
            "gridcolor": "white",
            "linecolor": "white",
            "ticks": ""
           },
           "bgcolor": "#E5ECF6",
           "radialaxis": {
            "gridcolor": "white",
            "linecolor": "white",
            "ticks": ""
           }
          },
          "scene": {
           "xaxis": {
            "backgroundcolor": "#E5ECF6",
            "gridcolor": "white",
            "gridwidth": 2,
            "linecolor": "white",
            "showbackground": true,
            "ticks": "",
            "zerolinecolor": "white"
           },
           "yaxis": {
            "backgroundcolor": "#E5ECF6",
            "gridcolor": "white",
            "gridwidth": 2,
            "linecolor": "white",
            "showbackground": true,
            "ticks": "",
            "zerolinecolor": "white"
           },
           "zaxis": {
            "backgroundcolor": "#E5ECF6",
            "gridcolor": "white",
            "gridwidth": 2,
            "linecolor": "white",
            "showbackground": true,
            "ticks": "",
            "zerolinecolor": "white"
           }
          },
          "shapedefaults": {
           "line": {
            "color": "#2a3f5f"
           }
          },
          "ternary": {
           "aaxis": {
            "gridcolor": "white",
            "linecolor": "white",
            "ticks": ""
           },
           "baxis": {
            "gridcolor": "white",
            "linecolor": "white",
            "ticks": ""
           },
           "bgcolor": "#E5ECF6",
           "caxis": {
            "gridcolor": "white",
            "linecolor": "white",
            "ticks": ""
           }
          },
          "title": {
           "x": 0.05
          },
          "xaxis": {
           "automargin": true,
           "gridcolor": "white",
           "linecolor": "white",
           "ticks": "",
           "title": {
            "standoff": 15
           },
           "zerolinecolor": "white",
           "zerolinewidth": 2
          },
          "yaxis": {
           "automargin": true,
           "gridcolor": "white",
           "linecolor": "white",
           "ticks": "",
           "title": {
            "standoff": 15
           },
           "zerolinecolor": "white",
           "zerolinewidth": 2
          }
         }
        },
        "title": {
         "text": "Vaccinations, Recovered & Active Cases"
        },
        "xaxis": {
         "anchor": "y",
         "domain": [
          0,
          0.94
         ]
        },
        "yaxis": {
         "anchor": "x",
         "domain": [
          0,
          1
         ],
         "title": {
          "text": "Doses"
         }
        },
        "yaxis2": {
         "anchor": "x",
         "overlaying": "y",
         "side": "right",
         "title": {
          "text": "Cases"
         }
        }
       }
      },
      "text/html": [
       "<div>                            <div id=\"0d3182fc-396c-433b-b713-d4b57e2f50c7\" class=\"plotly-graph-div\" style=\"height:525px; width:100%;\"></div>            <script type=\"text/javascript\">                require([\"plotly\"], function(Plotly) {                    window.PLOTLYENV=window.PLOTLYENV || {};                                    if (document.getElementById(\"0d3182fc-396c-433b-b713-d4b57e2f50c7\")) {                    Plotly.newPlot(                        \"0d3182fc-396c-433b-b713-d4b57e2f50c7\",                        [{\"name\":\"Received One Dose\",\"x\":[\"03/2020\",\"04/2020\",\"05/2020\",\"06/2020\",\"07/2020\",\"08/2020\",\"09/2020\",\"10/2020\",\"11/2020\",\"12/2020\",\"01/2021\",\"02/2021\",\"03/2021\",\"04/2021\",\"05/2021\",\"06/2021\",\"07/2021\",\"08/2021\",\"09/2021\",\"10/2021\",\"11/2021\",\"12/2021\",\"01/2022\",\"02/2022\",\"03/2022\",\"04/2022\",\"05/2022\",\"06/2022\",\"07/2022\",\"08/2022\",\"09/2022\",\"10/2022\",\"11/2022\",\"12/2022\",\"01/2023\"],\"y\":[null,null,null,null,null,null,null,null,null,null,23811.0,27765.0,91229.0,86005.0,89933.0,40426.0,40521.0,14295.0,7617.0,8681.0,5492.0,8840.0,19820.0,6161.0,3249.0,1630.0,876.0,537.0,502.0,296.0,280.0,305.0,146.0,136.0,40.0],\"type\":\"bar\"},{\"name\":\"Primary Vaccination\",\"x\":[\"03/2020\",\"04/2020\",\"05/2020\",\"06/2020\",\"07/2020\",\"08/2020\",\"09/2020\",\"10/2020\",\"11/2020\",\"12/2020\",\"01/2021\",\"02/2021\",\"03/2021\",\"04/2021\",\"05/2021\",\"06/2021\",\"07/2021\",\"08/2021\",\"09/2021\",\"10/2021\",\"11/2021\",\"12/2021\",\"01/2022\",\"02/2022\",\"03/2022\",\"04/2022\",\"05/2022\",\"06/2022\",\"07/2022\",\"08/2022\",\"09/2022\",\"10/2022\",\"11/2022\",\"12/2022\",\"01/2023\"],\"y\":[null,null,null,null,null,null,null,null,null,null,3948.0,24100.0,26530.0,52460.0,103448.0,115405.0,56364.0,30512.0,8946.0,6620.0,4010.0,3531.0,15357.0,11952.0,3310.0,1818.0,898.0,593.0,470.0,313.0,260.0,240.0,135.0,106.0,24.0],\"type\":\"bar\"},{\"name\":\"Booster Doses\",\"x\":[\"03/2020\",\"04/2020\",\"05/2020\",\"06/2020\",\"07/2020\",\"08/2020\",\"09/2020\",\"10/2020\",\"11/2020\",\"12/2020\",\"01/2021\",\"02/2021\",\"03/2021\",\"04/2021\",\"05/2021\",\"06/2021\",\"07/2021\",\"08/2021\",\"09/2021\",\"10/2021\",\"11/2021\",\"12/2021\",\"01/2022\",\"02/2022\",\"03/2022\",\"04/2022\",\"05/2022\",\"06/2022\",\"07/2022\",\"08/2022\",\"09/2022\",\"10/2022\",\"11/2022\",\"12/2022\",\"01/2023\"],\"y\":[null,null,null,null,null,null,null,null,null,null,0.0,0.0,0.0,0.0,0.0,0.0,0.0,0.0,12071.0,40844.0,71029.0,100246.0,106865.0,12056.0,7598.0,4077.0,2100.0,1493.0,1073.0,493.0,341.0,519.0,435.0,192.0,66.0],\"type\":\"bar\"},{\"name\":\"2nd Booster Doses\",\"x\":[\"03/2020\",\"04/2020\",\"05/2020\",\"06/2020\",\"07/2020\",\"08/2020\",\"09/2020\",\"10/2020\",\"11/2020\",\"12/2020\",\"01/2021\",\"02/2021\",\"03/2021\",\"04/2021\",\"05/2021\",\"06/2021\",\"07/2021\",\"08/2021\",\"09/2021\",\"10/2021\",\"11/2021\",\"12/2021\",\"01/2022\",\"02/2022\",\"03/2022\",\"04/2022\",\"05/2022\",\"06/2022\",\"07/2022\",\"08/2022\",\"09/2022\",\"10/2022\",\"11/2022\",\"12/2022\",\"01/2023\"],\"y\":[null,null,null,null,null,null,null,null,null,null,0.0,0.0,0.0,0.0,0.0,0.0,0.0,0.0,0.0,0.0,0.0,0.0,0.0,0.0,0.0,12660.0,20064.0,13843.0,10446.0,3382.0,259.0,6742.0,6375.0,1442.0,433.0],\"type\":\"bar\"},{\"name\":\"Omicron Booster Doses\",\"x\":[\"03/2020\",\"04/2020\",\"05/2020\",\"06/2020\",\"07/2020\",\"08/2020\",\"09/2020\",\"10/2020\",\"11/2020\",\"12/2020\",\"01/2021\",\"02/2021\",\"03/2021\",\"04/2021\",\"05/2021\",\"06/2021\",\"07/2021\",\"08/2021\",\"09/2021\",\"10/2021\",\"11/2021\",\"12/2021\",\"01/2022\",\"02/2022\",\"03/2022\",\"04/2022\",\"05/2022\",\"06/2022\",\"07/2022\",\"08/2022\",\"09/2022\",\"10/2022\",\"11/2022\",\"12/2022\",\"01/2023\"],\"y\":[null,null,null,null,null,null,null,null,null,null,0.0,0.0,0.0,0.0,0.0,0.0,0.0,0.0,0.0,0.0,0.0,0.0,0.0,0.0,0.0,0.0,0.0,0.0,0.0,0.0,0.0,0.0,5609.0,2178.0,566.0],\"type\":\"bar\"},{\"marker\":{\"color\":\"black\"},\"mode\":\"lines+markers\",\"name\":\"Recovered\",\"x\":[\"03/2020\",\"04/2020\",\"05/2020\",\"06/2020\",\"07/2020\",\"08/2020\",\"09/2020\",\"10/2020\",\"11/2020\",\"12/2020\",\"01/2021\",\"02/2021\",\"03/2021\",\"04/2021\",\"05/2021\",\"06/2021\",\"07/2021\",\"08/2021\",\"09/2021\",\"10/2021\",\"11/2021\",\"12/2021\",\"01/2022\",\"02/2022\",\"03/2022\",\"04/2022\",\"05/2022\",\"06/2022\",\"07/2022\",\"08/2022\",\"09/2022\",\"10/2022\",\"11/2022\",\"12/2022\",\"01/2023\"],\"y\":[2,349,183,106,25,735,1162,1593,3510,3456,3839,4487,8358,1743,502,108,1471,3049,1290,615,802,2771,23640,5783,3286,14254,5096,3549,14099,2863,489,594,635,445,229],\"type\":\"scatter\",\"xaxis\":\"x\",\"yaxis\":\"y2\"},{\"marker\":{\"color\":\"blue\"},\"mode\":\"lines+markers\",\"name\":\"Active Cases\",\"x\":[\"03/2020\",\"04/2020\",\"05/2020\",\"06/2020\",\"07/2020\",\"08/2020\",\"09/2020\",\"10/2020\",\"11/2020\",\"12/2020\",\"01/2021\",\"02/2021\",\"03/2021\",\"04/2021\",\"05/2021\",\"06/2021\",\"07/2021\",\"08/2021\",\"09/2021\",\"10/2021\",\"11/2021\",\"12/2021\",\"01/2022\",\"02/2022\",\"03/2022\",\"04/2022\",\"05/2022\",\"06/2022\",\"07/2022\",\"08/2022\",\"09/2022\",\"10/2022\",\"11/2022\",\"12/2022\",\"01/2023\"],\"y\":[167,110,75,21,150,471,462,1825,2071,1434,2676,2720,836,331,66,45,1847,656,328,215,1188,11441,2972,692,5640,3528,1410,6231,1775,127,275,336,190,284,427],\"type\":\"scatter\",\"xaxis\":\"x\",\"yaxis\":\"y2\"}],                        {\"template\":{\"data\":{\"histogram2dcontour\":[{\"type\":\"histogram2dcontour\",\"colorbar\":{\"outlinewidth\":0,\"ticks\":\"\"},\"colorscale\":[[0.0,\"#0d0887\"],[0.1111111111111111,\"#46039f\"],[0.2222222222222222,\"#7201a8\"],[0.3333333333333333,\"#9c179e\"],[0.4444444444444444,\"#bd3786\"],[0.5555555555555556,\"#d8576b\"],[0.6666666666666666,\"#ed7953\"],[0.7777777777777778,\"#fb9f3a\"],[0.8888888888888888,\"#fdca26\"],[1.0,\"#f0f921\"]]}],\"choropleth\":[{\"type\":\"choropleth\",\"colorbar\":{\"outlinewidth\":0,\"ticks\":\"\"}}],\"histogram2d\":[{\"type\":\"histogram2d\",\"colorbar\":{\"outlinewidth\":0,\"ticks\":\"\"},\"colorscale\":[[0.0,\"#0d0887\"],[0.1111111111111111,\"#46039f\"],[0.2222222222222222,\"#7201a8\"],[0.3333333333333333,\"#9c179e\"],[0.4444444444444444,\"#bd3786\"],[0.5555555555555556,\"#d8576b\"],[0.6666666666666666,\"#ed7953\"],[0.7777777777777778,\"#fb9f3a\"],[0.8888888888888888,\"#fdca26\"],[1.0,\"#f0f921\"]]}],\"heatmap\":[{\"type\":\"heatmap\",\"colorbar\":{\"outlinewidth\":0,\"ticks\":\"\"},\"colorscale\":[[0.0,\"#0d0887\"],[0.1111111111111111,\"#46039f\"],[0.2222222222222222,\"#7201a8\"],[0.3333333333333333,\"#9c179e\"],[0.4444444444444444,\"#bd3786\"],[0.5555555555555556,\"#d8576b\"],[0.6666666666666666,\"#ed7953\"],[0.7777777777777778,\"#fb9f3a\"],[0.8888888888888888,\"#fdca26\"],[1.0,\"#f0f921\"]]}],\"heatmapgl\":[{\"type\":\"heatmapgl\",\"colorbar\":{\"outlinewidth\":0,\"ticks\":\"\"},\"colorscale\":[[0.0,\"#0d0887\"],[0.1111111111111111,\"#46039f\"],[0.2222222222222222,\"#7201a8\"],[0.3333333333333333,\"#9c179e\"],[0.4444444444444444,\"#bd3786\"],[0.5555555555555556,\"#d8576b\"],[0.6666666666666666,\"#ed7953\"],[0.7777777777777778,\"#fb9f3a\"],[0.8888888888888888,\"#fdca26\"],[1.0,\"#f0f921\"]]}],\"contourcarpet\":[{\"type\":\"contourcarpet\",\"colorbar\":{\"outlinewidth\":0,\"ticks\":\"\"}}],\"contour\":[{\"type\":\"contour\",\"colorbar\":{\"outlinewidth\":0,\"ticks\":\"\"},\"colorscale\":[[0.0,\"#0d0887\"],[0.1111111111111111,\"#46039f\"],[0.2222222222222222,\"#7201a8\"],[0.3333333333333333,\"#9c179e\"],[0.4444444444444444,\"#bd3786\"],[0.5555555555555556,\"#d8576b\"],[0.6666666666666666,\"#ed7953\"],[0.7777777777777778,\"#fb9f3a\"],[0.8888888888888888,\"#fdca26\"],[1.0,\"#f0f921\"]]}],\"surface\":[{\"type\":\"surface\",\"colorbar\":{\"outlinewidth\":0,\"ticks\":\"\"},\"colorscale\":[[0.0,\"#0d0887\"],[0.1111111111111111,\"#46039f\"],[0.2222222222222222,\"#7201a8\"],[0.3333333333333333,\"#9c179e\"],[0.4444444444444444,\"#bd3786\"],[0.5555555555555556,\"#d8576b\"],[0.6666666666666666,\"#ed7953\"],[0.7777777777777778,\"#fb9f3a\"],[0.8888888888888888,\"#fdca26\"],[1.0,\"#f0f921\"]]}],\"mesh3d\":[{\"type\":\"mesh3d\",\"colorbar\":{\"outlinewidth\":0,\"ticks\":\"\"}}],\"scatter\":[{\"fillpattern\":{\"fillmode\":\"overlay\",\"size\":10,\"solidity\":0.2},\"type\":\"scatter\"}],\"parcoords\":[{\"type\":\"parcoords\",\"line\":{\"colorbar\":{\"outlinewidth\":0,\"ticks\":\"\"}}}],\"scatterpolargl\":[{\"type\":\"scatterpolargl\",\"marker\":{\"colorbar\":{\"outlinewidth\":0,\"ticks\":\"\"}}}],\"bar\":[{\"error_x\":{\"color\":\"#2a3f5f\"},\"error_y\":{\"color\":\"#2a3f5f\"},\"marker\":{\"line\":{\"color\":\"#E5ECF6\",\"width\":0.5},\"pattern\":{\"fillmode\":\"overlay\",\"size\":10,\"solidity\":0.2}},\"type\":\"bar\"}],\"scattergeo\":[{\"type\":\"scattergeo\",\"marker\":{\"colorbar\":{\"outlinewidth\":0,\"ticks\":\"\"}}}],\"scatterpolar\":[{\"type\":\"scatterpolar\",\"marker\":{\"colorbar\":{\"outlinewidth\":0,\"ticks\":\"\"}}}],\"histogram\":[{\"marker\":{\"pattern\":{\"fillmode\":\"overlay\",\"size\":10,\"solidity\":0.2}},\"type\":\"histogram\"}],\"scattergl\":[{\"type\":\"scattergl\",\"marker\":{\"colorbar\":{\"outlinewidth\":0,\"ticks\":\"\"}}}],\"scatter3d\":[{\"type\":\"scatter3d\",\"line\":{\"colorbar\":{\"outlinewidth\":0,\"ticks\":\"\"}},\"marker\":{\"colorbar\":{\"outlinewidth\":0,\"ticks\":\"\"}}}],\"scattermapbox\":[{\"type\":\"scattermapbox\",\"marker\":{\"colorbar\":{\"outlinewidth\":0,\"ticks\":\"\"}}}],\"scatterternary\":[{\"type\":\"scatterternary\",\"marker\":{\"colorbar\":{\"outlinewidth\":0,\"ticks\":\"\"}}}],\"scattercarpet\":[{\"type\":\"scattercarpet\",\"marker\":{\"colorbar\":{\"outlinewidth\":0,\"ticks\":\"\"}}}],\"carpet\":[{\"aaxis\":{\"endlinecolor\":\"#2a3f5f\",\"gridcolor\":\"white\",\"linecolor\":\"white\",\"minorgridcolor\":\"white\",\"startlinecolor\":\"#2a3f5f\"},\"baxis\":{\"endlinecolor\":\"#2a3f5f\",\"gridcolor\":\"white\",\"linecolor\":\"white\",\"minorgridcolor\":\"white\",\"startlinecolor\":\"#2a3f5f\"},\"type\":\"carpet\"}],\"table\":[{\"cells\":{\"fill\":{\"color\":\"#EBF0F8\"},\"line\":{\"color\":\"white\"}},\"header\":{\"fill\":{\"color\":\"#C8D4E3\"},\"line\":{\"color\":\"white\"}},\"type\":\"table\"}],\"barpolar\":[{\"marker\":{\"line\":{\"color\":\"#E5ECF6\",\"width\":0.5},\"pattern\":{\"fillmode\":\"overlay\",\"size\":10,\"solidity\":0.2}},\"type\":\"barpolar\"}],\"pie\":[{\"automargin\":true,\"type\":\"pie\"}]},\"layout\":{\"autotypenumbers\":\"strict\",\"colorway\":[\"#636efa\",\"#EF553B\",\"#00cc96\",\"#ab63fa\",\"#FFA15A\",\"#19d3f3\",\"#FF6692\",\"#B6E880\",\"#FF97FF\",\"#FECB52\"],\"font\":{\"color\":\"#2a3f5f\"},\"hovermode\":\"closest\",\"hoverlabel\":{\"align\":\"left\"},\"paper_bgcolor\":\"white\",\"plot_bgcolor\":\"#E5ECF6\",\"polar\":{\"bgcolor\":\"#E5ECF6\",\"angularaxis\":{\"gridcolor\":\"white\",\"linecolor\":\"white\",\"ticks\":\"\"},\"radialaxis\":{\"gridcolor\":\"white\",\"linecolor\":\"white\",\"ticks\":\"\"}},\"ternary\":{\"bgcolor\":\"#E5ECF6\",\"aaxis\":{\"gridcolor\":\"white\",\"linecolor\":\"white\",\"ticks\":\"\"},\"baxis\":{\"gridcolor\":\"white\",\"linecolor\":\"white\",\"ticks\":\"\"},\"caxis\":{\"gridcolor\":\"white\",\"linecolor\":\"white\",\"ticks\":\"\"}},\"coloraxis\":{\"colorbar\":{\"outlinewidth\":0,\"ticks\":\"\"}},\"colorscale\":{\"sequential\":[[0.0,\"#0d0887\"],[0.1111111111111111,\"#46039f\"],[0.2222222222222222,\"#7201a8\"],[0.3333333333333333,\"#9c179e\"],[0.4444444444444444,\"#bd3786\"],[0.5555555555555556,\"#d8576b\"],[0.6666666666666666,\"#ed7953\"],[0.7777777777777778,\"#fb9f3a\"],[0.8888888888888888,\"#fdca26\"],[1.0,\"#f0f921\"]],\"sequentialminus\":[[0.0,\"#0d0887\"],[0.1111111111111111,\"#46039f\"],[0.2222222222222222,\"#7201a8\"],[0.3333333333333333,\"#9c179e\"],[0.4444444444444444,\"#bd3786\"],[0.5555555555555556,\"#d8576b\"],[0.6666666666666666,\"#ed7953\"],[0.7777777777777778,\"#fb9f3a\"],[0.8888888888888888,\"#fdca26\"],[1.0,\"#f0f921\"]],\"diverging\":[[0,\"#8e0152\"],[0.1,\"#c51b7d\"],[0.2,\"#de77ae\"],[0.3,\"#f1b6da\"],[0.4,\"#fde0ef\"],[0.5,\"#f7f7f7\"],[0.6,\"#e6f5d0\"],[0.7,\"#b8e186\"],[0.8,\"#7fbc41\"],[0.9,\"#4d9221\"],[1,\"#276419\"]]},\"xaxis\":{\"gridcolor\":\"white\",\"linecolor\":\"white\",\"ticks\":\"\",\"title\":{\"standoff\":15},\"zerolinecolor\":\"white\",\"automargin\":true,\"zerolinewidth\":2},\"yaxis\":{\"gridcolor\":\"white\",\"linecolor\":\"white\",\"ticks\":\"\",\"title\":{\"standoff\":15},\"zerolinecolor\":\"white\",\"automargin\":true,\"zerolinewidth\":2},\"scene\":{\"xaxis\":{\"backgroundcolor\":\"#E5ECF6\",\"gridcolor\":\"white\",\"linecolor\":\"white\",\"showbackground\":true,\"ticks\":\"\",\"zerolinecolor\":\"white\",\"gridwidth\":2},\"yaxis\":{\"backgroundcolor\":\"#E5ECF6\",\"gridcolor\":\"white\",\"linecolor\":\"white\",\"showbackground\":true,\"ticks\":\"\",\"zerolinecolor\":\"white\",\"gridwidth\":2},\"zaxis\":{\"backgroundcolor\":\"#E5ECF6\",\"gridcolor\":\"white\",\"linecolor\":\"white\",\"showbackground\":true,\"ticks\":\"\",\"zerolinecolor\":\"white\",\"gridwidth\":2}},\"shapedefaults\":{\"line\":{\"color\":\"#2a3f5f\"}},\"annotationdefaults\":{\"arrowcolor\":\"#2a3f5f\",\"arrowhead\":0,\"arrowwidth\":1},\"geo\":{\"bgcolor\":\"white\",\"landcolor\":\"#E5ECF6\",\"subunitcolor\":\"white\",\"showland\":true,\"showlakes\":true,\"lakecolor\":\"white\"},\"title\":{\"x\":0.05},\"mapbox\":{\"style\":\"light\"}}},\"xaxis\":{\"anchor\":\"y\",\"domain\":[0.0,0.94]},\"yaxis\":{\"anchor\":\"x\",\"domain\":[0.0,1.0],\"title\":{\"text\":\"Doses\"}},\"yaxis2\":{\"anchor\":\"x\",\"overlaying\":\"y\",\"side\":\"right\",\"title\":{\"text\":\"Cases\"}},\"barmode\":\"stack\",\"title\":{\"text\":\"Vaccinations, Recovered & Active Cases\"}},                        {\"responsive\": true}                    ).then(function(){\n",
       "                            \n",
       "var gd = document.getElementById('0d3182fc-396c-433b-b713-d4b57e2f50c7');\n",
       "var x = new MutationObserver(function (mutations, observer) {{\n",
       "        var display = window.getComputedStyle(gd).display;\n",
       "        if (!display || display === 'none') {{\n",
       "            console.log([gd, 'removed!']);\n",
       "            Plotly.purge(gd);\n",
       "            observer.disconnect();\n",
       "        }}\n",
       "}});\n",
       "\n",
       "// Listen for the removal of the full notebook cells\n",
       "var notebookContainer = gd.closest('#notebook-container');\n",
       "if (notebookContainer) {{\n",
       "    x.observe(notebookContainer, {childList: true});\n",
       "}}\n",
       "\n",
       "// Listen for the clearing of the current output cell\n",
       "var outputEl = gd.closest('.output');\n",
       "if (outputEl) {{\n",
       "    x.observe(outputEl, {childList: true});\n",
       "}}\n",
       "\n",
       "                        })                };                });            </script>        </div>"
      ]
     },
     "metadata": {},
     "output_type": "display_data"
    }
   ],
   "source": [
    "fig = make_subplots(specs=[[{\"secondary_y\": True}]])\n",
    "\n",
    "fig.add_traces([\n",
    "    go.Bar(name='Received One Dose', x=data_df['Date'], y=data_df['New Received one dose']),\n",
    "    go.Bar(name='Primary Vaccination', x=data_df['Date'], y=data_df['New Primary Vaccination']),\n",
    "    go.Bar(name='Booster Doses', x=data_df['Date'], y=data_df['New Booster doses']),\n",
    "    go.Bar(name='2nd Booster Doses', x=data_df['Date'], y=data_df['New 2nd Booster doses']),\n",
    "    go.Bar(name='Omicron Booster Doses', x=data_df['Date'], y=data_df['New Omicron booster doses'])\n",
    "])\n",
    "fig.update_layout(barmode='stack')\n",
    "\n",
    "fig.add_trace(\n",
    "    go.Scatter(\n",
    "        x=data_df['Date'],\n",
    "        y=data_df['New Recovered'],\n",
    "        mode='lines+markers',\n",
    "        name='Recovered',\n",
    "        marker_color='black'\n",
    "    ),\n",
    "    secondary_y=True\n",
    ")\n",
    "fig.add_trace(\n",
    "    go.Scatter(\n",
    "        x=data_df['Date'],\n",
    "        y=data_df['Active Cases'],\n",
    "        mode='lines+markers',\n",
    "        name='Active Cases',\n",
    "        marker_color='blue'\n",
    "    ),\n",
    "    secondary_y=True\n",
    ")\n",
    "\n",
    "fig.update_yaxes(title_text=\"Doses\", secondary_y=False)\n",
    "fig.update_yaxes(title_text=\"Cases\", secondary_y=True)\n",
    "\n",
    "fig.update_layout(\n",
    "    title_text=\"Vaccinations, Recovered & Active Cases\"\n",
    ")\n",
    "\n",
    "fig.show()"
   ]
  }
 ],
 "metadata": {
  "kernelspec": {
   "display_name": "py310",
   "language": "python",
   "name": "python3"
  },
  "language_info": {
   "codemirror_mode": {
    "name": "ipython",
    "version": 3
   },
   "file_extension": ".py",
   "mimetype": "text/x-python",
   "name": "python",
   "nbconvert_exporter": "python",
   "pygments_lexer": "ipython3",
   "version": "3.10.8"
  },
  "orig_nbformat": 4,
  "vscode": {
   "interpreter": {
    "hash": "fd73a08ebfed5433cd8e7bec8dd57f9e869d8a2ae9357aec0275b59f3995a68c"
   }
  }
 },
 "nbformat": 4,
 "nbformat_minor": 2
}
