{
 "cells": [
  {
   "attachments": {},
   "cell_type": "markdown",
   "metadata": {},
   "source": [
    "# Malta Covid Data Analysys"
   ]
  },
  {
   "attachments": {},
   "cell_type": "markdown",
   "metadata": {},
   "source": [
    "## Import Libraries"
   ]
  },
  {
   "cell_type": "code",
   "execution_count": 267,
   "metadata": {},
   "outputs": [],
   "source": [
    "import pandas as pd\n",
    "import numpy as np\n",
    "import calendar\n",
    "import plotly.express as px"
   ]
  },
  {
   "attachments": {},
   "cell_type": "markdown",
   "metadata": {},
   "source": [
    "## Load Datasets"
   ]
  },
  {
   "cell_type": "code",
   "execution_count": 298,
   "metadata": {},
   "outputs": [],
   "source": [
    "cases = pd.read_csv('../data/raw/COVID-19 Malta - Aggregate Data Set.csv')\n",
    "tests = pd.read_csv('../data/raw/COVID-19 Malta - COVID Tests.csv')\n",
    "vaccines = pd.read_csv('../data/raw/COVID-19 Malta - Vaccination Data.csv')\n",
    "hospitalized = pd.read_csv('../data/raw/COVID-19 EU - Daily Hospitalized.csv')"
   ]
  },
  {
   "attachments": {},
   "cell_type": "markdown",
   "metadata": {},
   "source": [
    "## Group Covid Cases Dataset"
   ]
  },
  {
   "cell_type": "code",
   "execution_count": 234,
   "metadata": {},
   "outputs": [
    {
     "data": {
      "text/html": [
       "<div>\n",
       "<style scoped>\n",
       "    .dataframe tbody tr th:only-of-type {\n",
       "        vertical-align: middle;\n",
       "    }\n",
       "\n",
       "    .dataframe tbody tr th {\n",
       "        vertical-align: top;\n",
       "    }\n",
       "\n",
       "    .dataframe thead th {\n",
       "        text-align: right;\n",
       "    }\n",
       "</style>\n",
       "<table border=\"1\" class=\"dataframe\">\n",
       "  <thead>\n",
       "    <tr style=\"text-align: right;\">\n",
       "      <th></th>\n",
       "      <th>Date</th>\n",
       "      <th>Year</th>\n",
       "      <th>Month</th>\n",
       "      <th>New Cases</th>\n",
       "      <th>Total Cases</th>\n",
       "      <th>Total Recovered</th>\n",
       "      <th>New Recovered</th>\n",
       "      <th>Total Deaths</th>\n",
       "      <th>New Deaths</th>\n",
       "      <th>Active Cases</th>\n",
       "    </tr>\n",
       "  </thead>\n",
       "  <tbody>\n",
       "    <tr>\n",
       "      <th>0</th>\n",
       "      <td>03/2020</td>\n",
       "      <td>2020</td>\n",
       "      <td>Mar</td>\n",
       "      <td>169</td>\n",
       "      <td>169</td>\n",
       "      <td>2</td>\n",
       "      <td>2</td>\n",
       "      <td>0</td>\n",
       "      <td>0</td>\n",
       "      <td>167</td>\n",
       "    </tr>\n",
       "    <tr>\n",
       "      <th>1</th>\n",
       "      <td>04/2020</td>\n",
       "      <td>2020</td>\n",
       "      <td>Apr</td>\n",
       "      <td>296</td>\n",
       "      <td>465</td>\n",
       "      <td>351</td>\n",
       "      <td>349</td>\n",
       "      <td>4</td>\n",
       "      <td>4</td>\n",
       "      <td>110</td>\n",
       "    </tr>\n",
       "    <tr>\n",
       "      <th>2</th>\n",
       "      <td>05/2020</td>\n",
       "      <td>2020</td>\n",
       "      <td>May</td>\n",
       "      <td>153</td>\n",
       "      <td>618</td>\n",
       "      <td>534</td>\n",
       "      <td>183</td>\n",
       "      <td>9</td>\n",
       "      <td>5</td>\n",
       "      <td>75</td>\n",
       "    </tr>\n",
       "    <tr>\n",
       "      <th>3</th>\n",
       "      <td>06/2020</td>\n",
       "      <td>2020</td>\n",
       "      <td>Jun</td>\n",
       "      <td>52</td>\n",
       "      <td>670</td>\n",
       "      <td>640</td>\n",
       "      <td>106</td>\n",
       "      <td>9</td>\n",
       "      <td>0</td>\n",
       "      <td>21</td>\n",
       "    </tr>\n",
       "    <tr>\n",
       "      <th>4</th>\n",
       "      <td>07/2020</td>\n",
       "      <td>2020</td>\n",
       "      <td>Jul</td>\n",
       "      <td>154</td>\n",
       "      <td>824</td>\n",
       "      <td>665</td>\n",
       "      <td>25</td>\n",
       "      <td>9</td>\n",
       "      <td>0</td>\n",
       "      <td>150</td>\n",
       "    </tr>\n",
       "    <tr>\n",
       "      <th>5</th>\n",
       "      <td>08/2020</td>\n",
       "      <td>2020</td>\n",
       "      <td>Aug</td>\n",
       "      <td>1164</td>\n",
       "      <td>1883</td>\n",
       "      <td>1400</td>\n",
       "      <td>735</td>\n",
       "      <td>12</td>\n",
       "      <td>3</td>\n",
       "      <td>471</td>\n",
       "    </tr>\n",
       "    <tr>\n",
       "      <th>6</th>\n",
       "      <td>09/2020</td>\n",
       "      <td>2020</td>\n",
       "      <td>Sep</td>\n",
       "      <td>1175</td>\n",
       "      <td>3058</td>\n",
       "      <td>2562</td>\n",
       "      <td>1162</td>\n",
       "      <td>34</td>\n",
       "      <td>22</td>\n",
       "      <td>462</td>\n",
       "    </tr>\n",
       "    <tr>\n",
       "      <th>7</th>\n",
       "      <td>10/2020</td>\n",
       "      <td>2020</td>\n",
       "      <td>Oct</td>\n",
       "      <td>2984</td>\n",
       "      <td>6042</td>\n",
       "      <td>4155</td>\n",
       "      <td>1593</td>\n",
       "      <td>62</td>\n",
       "      <td>28</td>\n",
       "      <td>1825</td>\n",
       "    </tr>\n",
       "    <tr>\n",
       "      <th>8</th>\n",
       "      <td>11/2020</td>\n",
       "      <td>2020</td>\n",
       "      <td>Nov</td>\n",
       "      <td>3831</td>\n",
       "      <td>9873</td>\n",
       "      <td>7665</td>\n",
       "      <td>3510</td>\n",
       "      <td>137</td>\n",
       "      <td>75</td>\n",
       "      <td>2071</td>\n",
       "    </tr>\n",
       "    <tr>\n",
       "      <th>9</th>\n",
       "      <td>12/2020</td>\n",
       "      <td>2020</td>\n",
       "      <td>Dec</td>\n",
       "      <td>2901</td>\n",
       "      <td>12774</td>\n",
       "      <td>11121</td>\n",
       "      <td>3456</td>\n",
       "      <td>219</td>\n",
       "      <td>82</td>\n",
       "      <td>1434</td>\n",
       "    </tr>\n",
       "    <tr>\n",
       "      <th>10</th>\n",
       "      <td>01/2021</td>\n",
       "      <td>2021</td>\n",
       "      <td>Jan</td>\n",
       "      <td>5129</td>\n",
       "      <td>17903</td>\n",
       "      <td>14960</td>\n",
       "      <td>3839</td>\n",
       "      <td>267</td>\n",
       "      <td>48</td>\n",
       "      <td>2676</td>\n",
       "    </tr>\n",
       "    <tr>\n",
       "      <th>11</th>\n",
       "      <td>02/2021</td>\n",
       "      <td>2021</td>\n",
       "      <td>Feb</td>\n",
       "      <td>4579</td>\n",
       "      <td>22482</td>\n",
       "      <td>19447</td>\n",
       "      <td>4487</td>\n",
       "      <td>315</td>\n",
       "      <td>48</td>\n",
       "      <td>2720</td>\n",
       "    </tr>\n",
       "    <tr>\n",
       "      <th>12</th>\n",
       "      <td>03/2021</td>\n",
       "      <td>2021</td>\n",
       "      <td>Mar</td>\n",
       "      <td>6551</td>\n",
       "      <td>29033</td>\n",
       "      <td>27805</td>\n",
       "      <td>8358</td>\n",
       "      <td>392</td>\n",
       "      <td>77</td>\n",
       "      <td>836</td>\n",
       "    </tr>\n",
       "    <tr>\n",
       "      <th>13</th>\n",
       "      <td>04/2021</td>\n",
       "      <td>2021</td>\n",
       "      <td>Apr</td>\n",
       "      <td>1259</td>\n",
       "      <td>30292</td>\n",
       "      <td>29548</td>\n",
       "      <td>1743</td>\n",
       "      <td>413</td>\n",
       "      <td>21</td>\n",
       "      <td>331</td>\n",
       "    </tr>\n",
       "    <tr>\n",
       "      <th>14</th>\n",
       "      <td>05/2021</td>\n",
       "      <td>2021</td>\n",
       "      <td>May</td>\n",
       "      <td>243</td>\n",
       "      <td>30535</td>\n",
       "      <td>30050</td>\n",
       "      <td>502</td>\n",
       "      <td>419</td>\n",
       "      <td>6</td>\n",
       "      <td>66</td>\n",
       "    </tr>\n",
       "    <tr>\n",
       "      <th>15</th>\n",
       "      <td>06/2021</td>\n",
       "      <td>2021</td>\n",
       "      <td>Jun</td>\n",
       "      <td>88</td>\n",
       "      <td>30623</td>\n",
       "      <td>30158</td>\n",
       "      <td>108</td>\n",
       "      <td>420</td>\n",
       "      <td>1</td>\n",
       "      <td>45</td>\n",
       "    </tr>\n",
       "    <tr>\n",
       "      <th>16</th>\n",
       "      <td>07/2021</td>\n",
       "      <td>2021</td>\n",
       "      <td>Jul</td>\n",
       "      <td>3672</td>\n",
       "      <td>34295</td>\n",
       "      <td>31629</td>\n",
       "      <td>1471</td>\n",
       "      <td>423</td>\n",
       "      <td>3</td>\n",
       "      <td>1847</td>\n",
       "    </tr>\n",
       "    <tr>\n",
       "      <th>17</th>\n",
       "      <td>08/2021</td>\n",
       "      <td>2021</td>\n",
       "      <td>Aug</td>\n",
       "      <td>1876</td>\n",
       "      <td>36171</td>\n",
       "      <td>34678</td>\n",
       "      <td>3049</td>\n",
       "      <td>441</td>\n",
       "      <td>18</td>\n",
       "      <td>656</td>\n",
       "    </tr>\n",
       "    <tr>\n",
       "      <th>18</th>\n",
       "      <td>09/2021</td>\n",
       "      <td>2021</td>\n",
       "      <td>Sep</td>\n",
       "      <td>978</td>\n",
       "      <td>37149</td>\n",
       "      <td>35968</td>\n",
       "      <td>1290</td>\n",
       "      <td>457</td>\n",
       "      <td>16</td>\n",
       "      <td>328</td>\n",
       "    </tr>\n",
       "    <tr>\n",
       "      <th>19</th>\n",
       "      <td>10/2021</td>\n",
       "      <td>2021</td>\n",
       "      <td>Oct</td>\n",
       "      <td>506</td>\n",
       "      <td>37655</td>\n",
       "      <td>36583</td>\n",
       "      <td>615</td>\n",
       "      <td>461</td>\n",
       "      <td>4</td>\n",
       "      <td>215</td>\n",
       "    </tr>\n",
       "    <tr>\n",
       "      <th>20</th>\n",
       "      <td>11/2021</td>\n",
       "      <td>2021</td>\n",
       "      <td>Nov</td>\n",
       "      <td>1782</td>\n",
       "      <td>39437</td>\n",
       "      <td>37385</td>\n",
       "      <td>802</td>\n",
       "      <td>468</td>\n",
       "      <td>7</td>\n",
       "      <td>1188</td>\n",
       "    </tr>\n",
       "    <tr>\n",
       "      <th>21</th>\n",
       "      <td>12/2021</td>\n",
       "      <td>2021</td>\n",
       "      <td>Dec</td>\n",
       "      <td>13033</td>\n",
       "      <td>52470</td>\n",
       "      <td>40156</td>\n",
       "      <td>2771</td>\n",
       "      <td>477</td>\n",
       "      <td>9</td>\n",
       "      <td>11441</td>\n",
       "    </tr>\n",
       "    <tr>\n",
       "      <th>22</th>\n",
       "      <td>01/2022</td>\n",
       "      <td>2022</td>\n",
       "      <td>Jan</td>\n",
       "      <td>15244</td>\n",
       "      <td>67714</td>\n",
       "      <td>63796</td>\n",
       "      <td>23640</td>\n",
       "      <td>550</td>\n",
       "      <td>73</td>\n",
       "      <td>2972</td>\n",
       "    </tr>\n",
       "    <tr>\n",
       "      <th>23</th>\n",
       "      <td>02/2022</td>\n",
       "      <td>2022</td>\n",
       "      <td>Feb</td>\n",
       "      <td>3558</td>\n",
       "      <td>71272</td>\n",
       "      <td>69579</td>\n",
       "      <td>5783</td>\n",
       "      <td>605</td>\n",
       "      <td>55</td>\n",
       "      <td>692</td>\n",
       "    </tr>\n",
       "    <tr>\n",
       "      <th>24</th>\n",
       "      <td>03/2022</td>\n",
       "      <td>2022</td>\n",
       "      <td>Mar</td>\n",
       "      <td>8267</td>\n",
       "      <td>79539</td>\n",
       "      <td>72865</td>\n",
       "      <td>3286</td>\n",
       "      <td>638</td>\n",
       "      <td>33</td>\n",
       "      <td>5640</td>\n",
       "    </tr>\n",
       "    <tr>\n",
       "      <th>25</th>\n",
       "      <td>04/2022</td>\n",
       "      <td>2022</td>\n",
       "      <td>Apr</td>\n",
       "      <td>12202</td>\n",
       "      <td>91741</td>\n",
       "      <td>87119</td>\n",
       "      <td>14254</td>\n",
       "      <td>698</td>\n",
       "      <td>60</td>\n",
       "      <td>3528</td>\n",
       "    </tr>\n",
       "    <tr>\n",
       "      <th>26</th>\n",
       "      <td>05/2022</td>\n",
       "      <td>2022</td>\n",
       "      <td>May</td>\n",
       "      <td>3001</td>\n",
       "      <td>94742</td>\n",
       "      <td>92215</td>\n",
       "      <td>5096</td>\n",
       "      <td>721</td>\n",
       "      <td>23</td>\n",
       "      <td>1410</td>\n",
       "    </tr>\n",
       "    <tr>\n",
       "      <th>27</th>\n",
       "      <td>06/2022</td>\n",
       "      <td>2022</td>\n",
       "      <td>Jun</td>\n",
       "      <td>8390</td>\n",
       "      <td>103132</td>\n",
       "      <td>95764</td>\n",
       "      <td>3549</td>\n",
       "      <td>741</td>\n",
       "      <td>20</td>\n",
       "      <td>6231</td>\n",
       "    </tr>\n",
       "    <tr>\n",
       "      <th>28</th>\n",
       "      <td>07/2022</td>\n",
       "      <td>2022</td>\n",
       "      <td>Jul</td>\n",
       "      <td>9696</td>\n",
       "      <td>112828</td>\n",
       "      <td>109863</td>\n",
       "      <td>14099</td>\n",
       "      <td>794</td>\n",
       "      <td>53</td>\n",
       "      <td>1775</td>\n",
       "    </tr>\n",
       "    <tr>\n",
       "      <th>29</th>\n",
       "      <td>08/2022</td>\n",
       "      <td>2022</td>\n",
       "      <td>Aug</td>\n",
       "      <td>1222</td>\n",
       "      <td>114050</td>\n",
       "      <td>112726</td>\n",
       "      <td>2863</td>\n",
       "      <td>801</td>\n",
       "      <td>7</td>\n",
       "      <td>127</td>\n",
       "    </tr>\n",
       "    <tr>\n",
       "      <th>30</th>\n",
       "      <td>09/2022</td>\n",
       "      <td>2022</td>\n",
       "      <td>Sep</td>\n",
       "      <td>642</td>\n",
       "      <td>114692</td>\n",
       "      <td>113215</td>\n",
       "      <td>489</td>\n",
       "      <td>806</td>\n",
       "      <td>5</td>\n",
       "      <td>275</td>\n",
       "    </tr>\n",
       "    <tr>\n",
       "      <th>31</th>\n",
       "      <td>10/2022</td>\n",
       "      <td>2022</td>\n",
       "      <td>Oct</td>\n",
       "      <td>657</td>\n",
       "      <td>115349</td>\n",
       "      <td>113809</td>\n",
       "      <td>594</td>\n",
       "      <td>808</td>\n",
       "      <td>2</td>\n",
       "      <td>336</td>\n",
       "    </tr>\n",
       "    <tr>\n",
       "      <th>32</th>\n",
       "      <td>11/2022</td>\n",
       "      <td>2022</td>\n",
       "      <td>Nov</td>\n",
       "      <td>490</td>\n",
       "      <td>115839</td>\n",
       "      <td>114444</td>\n",
       "      <td>635</td>\n",
       "      <td>809</td>\n",
       "      <td>1</td>\n",
       "      <td>190</td>\n",
       "    </tr>\n",
       "    <tr>\n",
       "      <th>33</th>\n",
       "      <td>12/2022</td>\n",
       "      <td>2022</td>\n",
       "      <td>Dec</td>\n",
       "      <td>545</td>\n",
       "      <td>116384</td>\n",
       "      <td>114889</td>\n",
       "      <td>445</td>\n",
       "      <td>815</td>\n",
       "      <td>6</td>\n",
       "      <td>284</td>\n",
       "    </tr>\n",
       "    <tr>\n",
       "      <th>34</th>\n",
       "      <td>01/2023</td>\n",
       "      <td>2023</td>\n",
       "      <td>Jan</td>\n",
       "      <td>379</td>\n",
       "      <td>116763</td>\n",
       "      <td>115118</td>\n",
       "      <td>229</td>\n",
       "      <td>822</td>\n",
       "      <td>7</td>\n",
       "      <td>427</td>\n",
       "    </tr>\n",
       "  </tbody>\n",
       "</table>\n",
       "</div>"
      ],
      "text/plain": [
       "       Date  Year Month  New Cases  Total Cases  Total Recovered  \\\n",
       "0   03/2020  2020   Mar        169          169                2   \n",
       "1   04/2020  2020   Apr        296          465              351   \n",
       "2   05/2020  2020   May        153          618              534   \n",
       "3   06/2020  2020   Jun         52          670              640   \n",
       "4   07/2020  2020   Jul        154          824              665   \n",
       "5   08/2020  2020   Aug       1164         1883             1400   \n",
       "6   09/2020  2020   Sep       1175         3058             2562   \n",
       "7   10/2020  2020   Oct       2984         6042             4155   \n",
       "8   11/2020  2020   Nov       3831         9873             7665   \n",
       "9   12/2020  2020   Dec       2901        12774            11121   \n",
       "10  01/2021  2021   Jan       5129        17903            14960   \n",
       "11  02/2021  2021   Feb       4579        22482            19447   \n",
       "12  03/2021  2021   Mar       6551        29033            27805   \n",
       "13  04/2021  2021   Apr       1259        30292            29548   \n",
       "14  05/2021  2021   May        243        30535            30050   \n",
       "15  06/2021  2021   Jun         88        30623            30158   \n",
       "16  07/2021  2021   Jul       3672        34295            31629   \n",
       "17  08/2021  2021   Aug       1876        36171            34678   \n",
       "18  09/2021  2021   Sep        978        37149            35968   \n",
       "19  10/2021  2021   Oct        506        37655            36583   \n",
       "20  11/2021  2021   Nov       1782        39437            37385   \n",
       "21  12/2021  2021   Dec      13033        52470            40156   \n",
       "22  01/2022  2022   Jan      15244        67714            63796   \n",
       "23  02/2022  2022   Feb       3558        71272            69579   \n",
       "24  03/2022  2022   Mar       8267        79539            72865   \n",
       "25  04/2022  2022   Apr      12202        91741            87119   \n",
       "26  05/2022  2022   May       3001        94742            92215   \n",
       "27  06/2022  2022   Jun       8390       103132            95764   \n",
       "28  07/2022  2022   Jul       9696       112828           109863   \n",
       "29  08/2022  2022   Aug       1222       114050           112726   \n",
       "30  09/2022  2022   Sep        642       114692           113215   \n",
       "31  10/2022  2022   Oct        657       115349           113809   \n",
       "32  11/2022  2022   Nov        490       115839           114444   \n",
       "33  12/2022  2022   Dec        545       116384           114889   \n",
       "34  01/2023  2023   Jan        379       116763           115118   \n",
       "\n",
       "    New Recovered  Total Deaths  New Deaths  Active Cases  \n",
       "0               2             0           0           167  \n",
       "1             349             4           4           110  \n",
       "2             183             9           5            75  \n",
       "3             106             9           0            21  \n",
       "4              25             9           0           150  \n",
       "5             735            12           3           471  \n",
       "6            1162            34          22           462  \n",
       "7            1593            62          28          1825  \n",
       "8            3510           137          75          2071  \n",
       "9            3456           219          82          1434  \n",
       "10           3839           267          48          2676  \n",
       "11           4487           315          48          2720  \n",
       "12           8358           392          77           836  \n",
       "13           1743           413          21           331  \n",
       "14            502           419           6            66  \n",
       "15            108           420           1            45  \n",
       "16           1471           423           3          1847  \n",
       "17           3049           441          18           656  \n",
       "18           1290           457          16           328  \n",
       "19            615           461           4           215  \n",
       "20            802           468           7          1188  \n",
       "21           2771           477           9         11441  \n",
       "22          23640           550          73          2972  \n",
       "23           5783           605          55           692  \n",
       "24           3286           638          33          5640  \n",
       "25          14254           698          60          3528  \n",
       "26           5096           721          23          1410  \n",
       "27           3549           741          20          6231  \n",
       "28          14099           794          53          1775  \n",
       "29           2863           801           7           127  \n",
       "30            489           806           5           275  \n",
       "31            594           808           2           336  \n",
       "32            635           809           1           190  \n",
       "33            445           815           6           284  \n",
       "34            229           822           7           427  "
      ]
     },
     "execution_count": 234,
     "metadata": {},
     "output_type": "execute_result"
    }
   ],
   "source": [
    "cases_df = pd.DataFrame()\n",
    "cases_df['Date'] = pd.to_datetime(cases['Date'], format='%d/%m/%Y')\n",
    "cases_df = cases.groupby(cases_df.Date.dt.to_period('M')).agg({\n",
    "    'New Cases': 'sum',\n",
    "    'Total Cases': 'last',\n",
    "    'Recovered': 'last',\n",
    "    'Deaths': 'last',\n",
    "    'Active Cases': 'last'\n",
    "})\n",
    "\n",
    "cases_df.insert(0, 'Date', cases_df.index.strftime('%m/%Y'))\n",
    "cases_df.insert(1, 'Year', cases_df.index.year)\n",
    "cases_df.insert(2, 'Month', cases_df.index.month)\n",
    "\n",
    "cases_df = cases_df.reset_index(drop=True)\n",
    "\n",
    "cases_df['Month'] = cases_df['Month'].apply(lambda x: calendar.month_abbr[x])\n",
    "\n",
    "def get_diff(row, column):\n",
    "    if row.name == 0:\n",
    "        return row[column]\n",
    "    return row[column] - cases_df.iloc[row.name - 1][column]\n",
    "\n",
    "cases_df.insert(6, 'New Recovered', cases_df.apply(get_diff, axis=1, column='Recovered'))\n",
    "cases_df.insert(8, 'New Deaths', cases_df.apply(get_diff, axis=1, column='Deaths'))\n",
    "\n",
    "cases_df.rename(columns={\n",
    "    'Recovered': 'Total Recovered',\n",
    "    'Deaths': 'Total Deaths'\n",
    "}, inplace=True)\n",
    "\n",
    "cases_df"
   ]
  },
  {
   "attachments": {},
   "cell_type": "markdown",
   "metadata": {},
   "source": [
    "## Group Tests Dataset"
   ]
  },
  {
   "cell_type": "code",
   "execution_count": 256,
   "metadata": {},
   "outputs": [
    {
     "data": {
      "text/html": [
       "<div>\n",
       "<style scoped>\n",
       "    .dataframe tbody tr th:only-of-type {\n",
       "        vertical-align: middle;\n",
       "    }\n",
       "\n",
       "    .dataframe tbody tr th {\n",
       "        vertical-align: top;\n",
       "    }\n",
       "\n",
       "    .dataframe thead th {\n",
       "        text-align: right;\n",
       "    }\n",
       "</style>\n",
       "<table border=\"1\" class=\"dataframe\">\n",
       "  <thead>\n",
       "    <tr style=\"text-align: right;\">\n",
       "      <th></th>\n",
       "      <th>Date</th>\n",
       "      <th>New Tests</th>\n",
       "      <th>Total Tests</th>\n",
       "    </tr>\n",
       "  </thead>\n",
       "  <tbody>\n",
       "    <tr>\n",
       "      <th>0</th>\n",
       "      <td>07/2020</td>\n",
       "      <td>14927</td>\n",
       "      <td>128747</td>\n",
       "    </tr>\n",
       "    <tr>\n",
       "      <th>1</th>\n",
       "      <td>08/2020</td>\n",
       "      <td>63762</td>\n",
       "      <td>192509</td>\n",
       "    </tr>\n",
       "    <tr>\n",
       "      <th>2</th>\n",
       "      <td>09/2020</td>\n",
       "      <td>64048</td>\n",
       "      <td>256557</td>\n",
       "    </tr>\n",
       "    <tr>\n",
       "      <th>3</th>\n",
       "      <td>10/2020</td>\n",
       "      <td>83176</td>\n",
       "      <td>339733</td>\n",
       "    </tr>\n",
       "    <tr>\n",
       "      <th>4</th>\n",
       "      <td>11/2020</td>\n",
       "      <td>91049</td>\n",
       "      <td>430782</td>\n",
       "    </tr>\n",
       "    <tr>\n",
       "      <th>5</th>\n",
       "      <td>12/2020</td>\n",
       "      <td>86754</td>\n",
       "      <td>517536</td>\n",
       "    </tr>\n",
       "    <tr>\n",
       "      <th>6</th>\n",
       "      <td>01/2021</td>\n",
       "      <td>98081</td>\n",
       "      <td>615617</td>\n",
       "    </tr>\n",
       "    <tr>\n",
       "      <th>7</th>\n",
       "      <td>02/2021</td>\n",
       "      <td>86493</td>\n",
       "      <td>702110</td>\n",
       "    </tr>\n",
       "    <tr>\n",
       "      <th>8</th>\n",
       "      <td>03/2021</td>\n",
       "      <td>108992</td>\n",
       "      <td>811102</td>\n",
       "    </tr>\n",
       "    <tr>\n",
       "      <th>9</th>\n",
       "      <td>04/2021</td>\n",
       "      <td>57961</td>\n",
       "      <td>869063</td>\n",
       "    </tr>\n",
       "    <tr>\n",
       "      <th>10</th>\n",
       "      <td>05/2021</td>\n",
       "      <td>59727</td>\n",
       "      <td>928790</td>\n",
       "    </tr>\n",
       "    <tr>\n",
       "      <th>11</th>\n",
       "      <td>06/2021</td>\n",
       "      <td>59367</td>\n",
       "      <td>988157</td>\n",
       "    </tr>\n",
       "    <tr>\n",
       "      <th>12</th>\n",
       "      <td>07/2021</td>\n",
       "      <td>105887</td>\n",
       "      <td>1094044</td>\n",
       "    </tr>\n",
       "    <tr>\n",
       "      <th>13</th>\n",
       "      <td>08/2021</td>\n",
       "      <td>100314</td>\n",
       "      <td>1194358</td>\n",
       "    </tr>\n",
       "    <tr>\n",
       "      <th>14</th>\n",
       "      <td>09/2021</td>\n",
       "      <td>94229</td>\n",
       "      <td>1288587</td>\n",
       "    </tr>\n",
       "    <tr>\n",
       "      <th>15</th>\n",
       "      <td>10/2021</td>\n",
       "      <td>55812</td>\n",
       "      <td>1344399</td>\n",
       "    </tr>\n",
       "    <tr>\n",
       "      <th>16</th>\n",
       "      <td>11/2021</td>\n",
       "      <td>64527</td>\n",
       "      <td>1408926</td>\n",
       "    </tr>\n",
       "    <tr>\n",
       "      <th>17</th>\n",
       "      <td>12/2021</td>\n",
       "      <td>146468</td>\n",
       "      <td>1555394</td>\n",
       "    </tr>\n",
       "    <tr>\n",
       "      <th>18</th>\n",
       "      <td>01/2022</td>\n",
       "      <td>133597</td>\n",
       "      <td>1688991</td>\n",
       "    </tr>\n",
       "    <tr>\n",
       "      <th>19</th>\n",
       "      <td>02/2022</td>\n",
       "      <td>52098</td>\n",
       "      <td>1741089</td>\n",
       "    </tr>\n",
       "    <tr>\n",
       "      <th>20</th>\n",
       "      <td>03/2022</td>\n",
       "      <td>66809</td>\n",
       "      <td>1807898</td>\n",
       "    </tr>\n",
       "    <tr>\n",
       "      <th>21</th>\n",
       "      <td>04/2022</td>\n",
       "      <td>76825</td>\n",
       "      <td>1884723</td>\n",
       "    </tr>\n",
       "    <tr>\n",
       "      <th>22</th>\n",
       "      <td>05/2022</td>\n",
       "      <td>41100</td>\n",
       "      <td>1925823</td>\n",
       "    </tr>\n",
       "    <tr>\n",
       "      <th>23</th>\n",
       "      <td>06/2022</td>\n",
       "      <td>41640</td>\n",
       "      <td>1967463</td>\n",
       "    </tr>\n",
       "    <tr>\n",
       "      <th>24</th>\n",
       "      <td>07/2022</td>\n",
       "      <td>52637</td>\n",
       "      <td>2020100</td>\n",
       "    </tr>\n",
       "    <tr>\n",
       "      <th>25</th>\n",
       "      <td>08/2022</td>\n",
       "      <td>24619</td>\n",
       "      <td>2044719</td>\n",
       "    </tr>\n",
       "    <tr>\n",
       "      <th>26</th>\n",
       "      <td>09/2022</td>\n",
       "      <td>17245</td>\n",
       "      <td>2061964</td>\n",
       "    </tr>\n",
       "    <tr>\n",
       "      <th>27</th>\n",
       "      <td>10/2022</td>\n",
       "      <td>15946</td>\n",
       "      <td>2077910</td>\n",
       "    </tr>\n",
       "    <tr>\n",
       "      <th>28</th>\n",
       "      <td>11/2022</td>\n",
       "      <td>12848</td>\n",
       "      <td>2090758</td>\n",
       "    </tr>\n",
       "    <tr>\n",
       "      <th>29</th>\n",
       "      <td>12/2022</td>\n",
       "      <td>9092</td>\n",
       "      <td>2099850</td>\n",
       "    </tr>\n",
       "    <tr>\n",
       "      <th>30</th>\n",
       "      <td>01/2023</td>\n",
       "      <td>4413</td>\n",
       "      <td>2103903</td>\n",
       "    </tr>\n",
       "  </tbody>\n",
       "</table>\n",
       "</div>"
      ],
      "text/plain": [
       "       Date New Tests Total Tests\n",
       "0   07/2020     14927      128747\n",
       "1   08/2020     63762      192509\n",
       "2   09/2020     64048      256557\n",
       "3   10/2020     83176      339733\n",
       "4   11/2020     91049      430782\n",
       "5   12/2020     86754      517536\n",
       "6   01/2021     98081      615617\n",
       "7   02/2021     86493      702110\n",
       "8   03/2021    108992      811102\n",
       "9   04/2021     57961      869063\n",
       "10  05/2021     59727      928790\n",
       "11  06/2021     59367      988157\n",
       "12  07/2021    105887     1094044\n",
       "13  08/2021    100314     1194358\n",
       "14  09/2021     94229     1288587\n",
       "15  10/2021     55812     1344399\n",
       "16  11/2021     64527     1408926\n",
       "17  12/2021    146468     1555394\n",
       "18  01/2022    133597     1688991\n",
       "19  02/2022     52098     1741089\n",
       "20  03/2022     66809     1807898\n",
       "21  04/2022     76825     1884723\n",
       "22  05/2022     41100     1925823\n",
       "23  06/2022     41640     1967463\n",
       "24  07/2022     52637     2020100\n",
       "25  08/2022     24619     2044719\n",
       "26  09/2022     17245     2061964\n",
       "27  10/2022     15946     2077910\n",
       "28  11/2022     12848     2090758\n",
       "29  12/2022      9092     2099850\n",
       "30  01/2023      4413     2103903"
      ]
     },
     "execution_count": 256,
     "metadata": {},
     "output_type": "execute_result"
    }
   ],
   "source": [
    "tests_df = pd.DataFrame({\n",
    "    'Date': tests['Publication date'],\n",
    "    'Tests in prev day': tests['NAA and rapid antigen tests in previous day'],\n",
    "    'Total Tests': tests['Total NAA and rapid antigen tests']\n",
    "})\n",
    "tests_df = tests_df.apply(\n",
    "    lambda row: \n",
    "        row if row.name == len(tests_df.index) - 1 \n",
    "            else [\n",
    "                row['Date'], \n",
    "                tests_df.iloc[row.name + 1]['Tests in prev day'], \n",
    "                tests_df.iloc[row.name + 1]['Total Tests']], \n",
    "    axis=1, \n",
    "    result_type='broadcast'\n",
    ")\n",
    "tests_df = tests_df.rename(columns={\n",
    "    'Tests in prev day': 'New Tests'\n",
    "})\n",
    "tests_df['Date'] = pd.to_datetime(tests_df['Date'], format='%d/%m/%Y')\n",
    "tests_df = tests_df.groupby(tests_df.Date.dt.to_period('M')).agg({\n",
    "    'New Tests': 'sum',\n",
    "    'Total Tests': 'last'\n",
    "})\n",
    "tests_df.insert(0, 'Date', tests_df.index.strftime('%m/%Y'))\n",
    "tests_df = tests_df.reset_index(drop=True)\n",
    "tests_df"
   ]
  },
  {
   "attachments": {},
   "cell_type": "markdown",
   "metadata": {},
   "source": [
    "## Group Vaccines Dataset"
   ]
  },
  {
   "cell_type": "code",
   "execution_count": 297,
   "metadata": {},
   "outputs": [
    {
     "data": {
      "text/html": [
       "<div>\n",
       "<style scoped>\n",
       "    .dataframe tbody tr th:only-of-type {\n",
       "        vertical-align: middle;\n",
       "    }\n",
       "\n",
       "    .dataframe tbody tr th {\n",
       "        vertical-align: top;\n",
       "    }\n",
       "\n",
       "    .dataframe thead th {\n",
       "        text-align: right;\n",
       "    }\n",
       "</style>\n",
       "<table border=\"1\" class=\"dataframe\">\n",
       "  <thead>\n",
       "    <tr style=\"text-align: right;\">\n",
       "      <th></th>\n",
       "      <th>Date</th>\n",
       "      <th>Total Vaccination Doses</th>\n",
       "      <th>New Vaccination Doses</th>\n",
       "      <th>Total Primary Vaccination</th>\n",
       "      <th>New Primary Vaccination</th>\n",
       "      <th>Total Received one dose</th>\n",
       "      <th>New Received one dose</th>\n",
       "      <th>Total Booster doses</th>\n",
       "      <th>New Booster doses</th>\n",
       "      <th>Total 2nd Booster doses</th>\n",
       "      <th>New 2nd Booster doses</th>\n",
       "      <th>Total Omicron booster doses</th>\n",
       "      <th>New Omicron booster doses</th>\n",
       "    </tr>\n",
       "  </thead>\n",
       "  <tbody>\n",
       "    <tr>\n",
       "      <th>0</th>\n",
       "      <td>01/2021</td>\n",
       "      <td>27759</td>\n",
       "      <td>27759</td>\n",
       "      <td>3948</td>\n",
       "      <td>3948</td>\n",
       "      <td>23811</td>\n",
       "      <td>23811</td>\n",
       "      <td>0</td>\n",
       "      <td>0</td>\n",
       "      <td>0</td>\n",
       "      <td>0</td>\n",
       "      <td>0</td>\n",
       "      <td>0</td>\n",
       "    </tr>\n",
       "    <tr>\n",
       "      <th>1</th>\n",
       "      <td>02/2021</td>\n",
       "      <td>79624</td>\n",
       "      <td>51865</td>\n",
       "      <td>28048</td>\n",
       "      <td>24100</td>\n",
       "      <td>51576</td>\n",
       "      <td>27765</td>\n",
       "      <td>0</td>\n",
       "      <td>0</td>\n",
       "      <td>0</td>\n",
       "      <td>0</td>\n",
       "      <td>0</td>\n",
       "      <td>0</td>\n",
       "    </tr>\n",
       "    <tr>\n",
       "      <th>2</th>\n",
       "      <td>03/2021</td>\n",
       "      <td>197383</td>\n",
       "      <td>117759</td>\n",
       "      <td>54578</td>\n",
       "      <td>26530</td>\n",
       "      <td>142805</td>\n",
       "      <td>91229</td>\n",
       "      <td>0</td>\n",
       "      <td>0</td>\n",
       "      <td>0</td>\n",
       "      <td>0</td>\n",
       "      <td>0</td>\n",
       "      <td>0</td>\n",
       "    </tr>\n",
       "    <tr>\n",
       "      <th>3</th>\n",
       "      <td>04/2021</td>\n",
       "      <td>335848</td>\n",
       "      <td>138465</td>\n",
       "      <td>107038</td>\n",
       "      <td>52460</td>\n",
       "      <td>228810</td>\n",
       "      <td>86005</td>\n",
       "      <td>0</td>\n",
       "      <td>0</td>\n",
       "      <td>0</td>\n",
       "      <td>0</td>\n",
       "      <td>0</td>\n",
       "      <td>0</td>\n",
       "    </tr>\n",
       "    <tr>\n",
       "      <th>4</th>\n",
       "      <td>05/2021</td>\n",
       "      <td>519994</td>\n",
       "      <td>184146</td>\n",
       "      <td>210486</td>\n",
       "      <td>103448</td>\n",
       "      <td>318743</td>\n",
       "      <td>89933</td>\n",
       "      <td>0</td>\n",
       "      <td>0</td>\n",
       "      <td>0</td>\n",
       "      <td>0</td>\n",
       "      <td>0</td>\n",
       "      <td>0</td>\n",
       "    </tr>\n",
       "    <tr>\n",
       "      <th>5</th>\n",
       "      <td>06/2021</td>\n",
       "      <td>670759</td>\n",
       "      <td>150765</td>\n",
       "      <td>325891</td>\n",
       "      <td>115405</td>\n",
       "      <td>359169</td>\n",
       "      <td>40426</td>\n",
       "      <td>0</td>\n",
       "      <td>0</td>\n",
       "      <td>0</td>\n",
       "      <td>0</td>\n",
       "      <td>0</td>\n",
       "      <td>0</td>\n",
       "    </tr>\n",
       "    <tr>\n",
       "      <th>6</th>\n",
       "      <td>07/2021</td>\n",
       "      <td>759818</td>\n",
       "      <td>89059</td>\n",
       "      <td>382255</td>\n",
       "      <td>56364</td>\n",
       "      <td>399690</td>\n",
       "      <td>40521</td>\n",
       "      <td>0</td>\n",
       "      <td>0</td>\n",
       "      <td>0</td>\n",
       "      <td>0</td>\n",
       "      <td>0</td>\n",
       "      <td>0</td>\n",
       "    </tr>\n",
       "    <tr>\n",
       "      <th>7</th>\n",
       "      <td>08/2021</td>\n",
       "      <td>797017</td>\n",
       "      <td>37199</td>\n",
       "      <td>412767</td>\n",
       "      <td>30512</td>\n",
       "      <td>413985</td>\n",
       "      <td>14295</td>\n",
       "      <td>0</td>\n",
       "      <td>0</td>\n",
       "      <td>0</td>\n",
       "      <td>0</td>\n",
       "      <td>0</td>\n",
       "      <td>0</td>\n",
       "    </tr>\n",
       "    <tr>\n",
       "      <th>8</th>\n",
       "      <td>09/2021</td>\n",
       "      <td>824327</td>\n",
       "      <td>27310</td>\n",
       "      <td>421713</td>\n",
       "      <td>8946</td>\n",
       "      <td>421602</td>\n",
       "      <td>7617</td>\n",
       "      <td>12071</td>\n",
       "      <td>12071</td>\n",
       "      <td>0</td>\n",
       "      <td>0</td>\n",
       "      <td>0</td>\n",
       "      <td>0</td>\n",
       "    </tr>\n",
       "    <tr>\n",
       "      <th>9</th>\n",
       "      <td>10/2021</td>\n",
       "      <td>879909</td>\n",
       "      <td>55582</td>\n",
       "      <td>428333</td>\n",
       "      <td>6620</td>\n",
       "      <td>430283</td>\n",
       "      <td>8681</td>\n",
       "      <td>52915</td>\n",
       "      <td>40844</td>\n",
       "      <td>0</td>\n",
       "      <td>0</td>\n",
       "      <td>0</td>\n",
       "      <td>0</td>\n",
       "    </tr>\n",
       "    <tr>\n",
       "      <th>10</th>\n",
       "      <td>11/2021</td>\n",
       "      <td>959906</td>\n",
       "      <td>79997</td>\n",
       "      <td>432343</td>\n",
       "      <td>4010</td>\n",
       "      <td>435775</td>\n",
       "      <td>5492</td>\n",
       "      <td>123944</td>\n",
       "      <td>71029</td>\n",
       "      <td>0</td>\n",
       "      <td>0</td>\n",
       "      <td>0</td>\n",
       "      <td>0</td>\n",
       "    </tr>\n",
       "    <tr>\n",
       "      <th>11</th>\n",
       "      <td>12/2021</td>\n",
       "      <td>1072274</td>\n",
       "      <td>112368</td>\n",
       "      <td>435874</td>\n",
       "      <td>3531</td>\n",
       "      <td>444615</td>\n",
       "      <td>8840</td>\n",
       "      <td>224190</td>\n",
       "      <td>100246</td>\n",
       "      <td>0</td>\n",
       "      <td>0</td>\n",
       "      <td>0</td>\n",
       "      <td>0</td>\n",
       "    </tr>\n",
       "    <tr>\n",
       "      <th>12</th>\n",
       "      <td>01/2022</td>\n",
       "      <td>1213371</td>\n",
       "      <td>141097</td>\n",
       "      <td>451231</td>\n",
       "      <td>15357</td>\n",
       "      <td>464435</td>\n",
       "      <td>19820</td>\n",
       "      <td>331055</td>\n",
       "      <td>106865</td>\n",
       "      <td>0</td>\n",
       "      <td>0</td>\n",
       "      <td>0</td>\n",
       "      <td>0</td>\n",
       "    </tr>\n",
       "    <tr>\n",
       "      <th>13</th>\n",
       "      <td>02/2022</td>\n",
       "      <td>1242888</td>\n",
       "      <td>29517</td>\n",
       "      <td>463183</td>\n",
       "      <td>11952</td>\n",
       "      <td>470596</td>\n",
       "      <td>6161</td>\n",
       "      <td>343111</td>\n",
       "      <td>12056</td>\n",
       "      <td>0</td>\n",
       "      <td>0</td>\n",
       "      <td>0</td>\n",
       "      <td>0</td>\n",
       "    </tr>\n",
       "    <tr>\n",
       "      <th>14</th>\n",
       "      <td>03/2022</td>\n",
       "      <td>1256770</td>\n",
       "      <td>13882</td>\n",
       "      <td>466493</td>\n",
       "      <td>3310</td>\n",
       "      <td>473845</td>\n",
       "      <td>3249</td>\n",
       "      <td>350709</td>\n",
       "      <td>7598</td>\n",
       "      <td>0</td>\n",
       "      <td>0</td>\n",
       "      <td>0</td>\n",
       "      <td>0</td>\n",
       "    </tr>\n",
       "    <tr>\n",
       "      <th>15</th>\n",
       "      <td>04/2022</td>\n",
       "      <td>1276869</td>\n",
       "      <td>20099</td>\n",
       "      <td>468311</td>\n",
       "      <td>1818</td>\n",
       "      <td>475475</td>\n",
       "      <td>1630</td>\n",
       "      <td>354786</td>\n",
       "      <td>4077</td>\n",
       "      <td>12660</td>\n",
       "      <td>12660</td>\n",
       "      <td>0</td>\n",
       "      <td>0</td>\n",
       "    </tr>\n",
       "    <tr>\n",
       "      <th>16</th>\n",
       "      <td>05/2022</td>\n",
       "      <td>1300807</td>\n",
       "      <td>23938</td>\n",
       "      <td>469209</td>\n",
       "      <td>898</td>\n",
       "      <td>476351</td>\n",
       "      <td>876</td>\n",
       "      <td>356886</td>\n",
       "      <td>2100</td>\n",
       "      <td>32724</td>\n",
       "      <td>20064</td>\n",
       "      <td>0</td>\n",
       "      <td>0</td>\n",
       "    </tr>\n",
       "    <tr>\n",
       "      <th>17</th>\n",
       "      <td>06/2022</td>\n",
       "      <td>1317273</td>\n",
       "      <td>16466</td>\n",
       "      <td>469802</td>\n",
       "      <td>593</td>\n",
       "      <td>476888</td>\n",
       "      <td>537</td>\n",
       "      <td>358379</td>\n",
       "      <td>1493</td>\n",
       "      <td>46567</td>\n",
       "      <td>13843</td>\n",
       "      <td>0</td>\n",
       "      <td>0</td>\n",
       "    </tr>\n",
       "    <tr>\n",
       "      <th>18</th>\n",
       "      <td>07/2022</td>\n",
       "      <td>1329764</td>\n",
       "      <td>12491</td>\n",
       "      <td>470272</td>\n",
       "      <td>470</td>\n",
       "      <td>477390</td>\n",
       "      <td>502</td>\n",
       "      <td>359452</td>\n",
       "      <td>1073</td>\n",
       "      <td>57013</td>\n",
       "      <td>10446</td>\n",
       "      <td>0</td>\n",
       "      <td>0</td>\n",
       "    </tr>\n",
       "    <tr>\n",
       "      <th>19</th>\n",
       "      <td>08/2022</td>\n",
       "      <td>1334248</td>\n",
       "      <td>4484</td>\n",
       "      <td>470585</td>\n",
       "      <td>313</td>\n",
       "      <td>477686</td>\n",
       "      <td>296</td>\n",
       "      <td>359945</td>\n",
       "      <td>493</td>\n",
       "      <td>60395</td>\n",
       "      <td>3382</td>\n",
       "      <td>0</td>\n",
       "      <td>0</td>\n",
       "    </tr>\n",
       "    <tr>\n",
       "      <th>20</th>\n",
       "      <td>09/2022</td>\n",
       "      <td>1335388</td>\n",
       "      <td>1140</td>\n",
       "      <td>470845</td>\n",
       "      <td>260</td>\n",
       "      <td>477966</td>\n",
       "      <td>280</td>\n",
       "      <td>360286</td>\n",
       "      <td>341</td>\n",
       "      <td>60654</td>\n",
       "      <td>259</td>\n",
       "      <td>0</td>\n",
       "      <td>0</td>\n",
       "    </tr>\n",
       "    <tr>\n",
       "      <th>21</th>\n",
       "      <td>10/2022</td>\n",
       "      <td>1343194</td>\n",
       "      <td>7806</td>\n",
       "      <td>471085</td>\n",
       "      <td>240</td>\n",
       "      <td>478271</td>\n",
       "      <td>305</td>\n",
       "      <td>360805</td>\n",
       "      <td>519</td>\n",
       "      <td>67396</td>\n",
       "      <td>6742</td>\n",
       "      <td>0</td>\n",
       "      <td>0</td>\n",
       "    </tr>\n",
       "    <tr>\n",
       "      <th>22</th>\n",
       "      <td>11/2022</td>\n",
       "      <td>1372894</td>\n",
       "      <td>29700</td>\n",
       "      <td>471220</td>\n",
       "      <td>135</td>\n",
       "      <td>478417</td>\n",
       "      <td>146</td>\n",
       "      <td>361240</td>\n",
       "      <td>435</td>\n",
       "      <td>73771</td>\n",
       "      <td>6375</td>\n",
       "      <td>22627</td>\n",
       "      <td>5609</td>\n",
       "    </tr>\n",
       "    <tr>\n",
       "      <th>23</th>\n",
       "      <td>12/2022</td>\n",
       "      <td>1376966</td>\n",
       "      <td>4072</td>\n",
       "      <td>471326</td>\n",
       "      <td>106</td>\n",
       "      <td>478553</td>\n",
       "      <td>136</td>\n",
       "      <td>361432</td>\n",
       "      <td>192</td>\n",
       "      <td>75213</td>\n",
       "      <td>1442</td>\n",
       "      <td>24823</td>\n",
       "      <td>2178</td>\n",
       "    </tr>\n",
       "    <tr>\n",
       "      <th>24</th>\n",
       "      <td>01/2023</td>\n",
       "      <td>1378095</td>\n",
       "      <td>1129</td>\n",
       "      <td>471350</td>\n",
       "      <td>24</td>\n",
       "      <td>478593</td>\n",
       "      <td>40</td>\n",
       "      <td>361498</td>\n",
       "      <td>66</td>\n",
       "      <td>75646</td>\n",
       "      <td>433</td>\n",
       "      <td>25389</td>\n",
       "      <td>566</td>\n",
       "    </tr>\n",
       "  </tbody>\n",
       "</table>\n",
       "</div>"
      ],
      "text/plain": [
       "       Date  Total Vaccination Doses  New Vaccination Doses  \\\n",
       "0   01/2021                    27759                  27759   \n",
       "1   02/2021                    79624                  51865   \n",
       "2   03/2021                   197383                 117759   \n",
       "3   04/2021                   335848                 138465   \n",
       "4   05/2021                   519994                 184146   \n",
       "5   06/2021                   670759                 150765   \n",
       "6   07/2021                   759818                  89059   \n",
       "7   08/2021                   797017                  37199   \n",
       "8   09/2021                   824327                  27310   \n",
       "9   10/2021                   879909                  55582   \n",
       "10  11/2021                   959906                  79997   \n",
       "11  12/2021                  1072274                 112368   \n",
       "12  01/2022                  1213371                 141097   \n",
       "13  02/2022                  1242888                  29517   \n",
       "14  03/2022                  1256770                  13882   \n",
       "15  04/2022                  1276869                  20099   \n",
       "16  05/2022                  1300807                  23938   \n",
       "17  06/2022                  1317273                  16466   \n",
       "18  07/2022                  1329764                  12491   \n",
       "19  08/2022                  1334248                   4484   \n",
       "20  09/2022                  1335388                   1140   \n",
       "21  10/2022                  1343194                   7806   \n",
       "22  11/2022                  1372894                  29700   \n",
       "23  12/2022                  1376966                   4072   \n",
       "24  01/2023                  1378095                   1129   \n",
       "\n",
       "    Total Primary Vaccination  New Primary Vaccination  \\\n",
       "0                        3948                     3948   \n",
       "1                       28048                    24100   \n",
       "2                       54578                    26530   \n",
       "3                      107038                    52460   \n",
       "4                      210486                   103448   \n",
       "5                      325891                   115405   \n",
       "6                      382255                    56364   \n",
       "7                      412767                    30512   \n",
       "8                      421713                     8946   \n",
       "9                      428333                     6620   \n",
       "10                     432343                     4010   \n",
       "11                     435874                     3531   \n",
       "12                     451231                    15357   \n",
       "13                     463183                    11952   \n",
       "14                     466493                     3310   \n",
       "15                     468311                     1818   \n",
       "16                     469209                      898   \n",
       "17                     469802                      593   \n",
       "18                     470272                      470   \n",
       "19                     470585                      313   \n",
       "20                     470845                      260   \n",
       "21                     471085                      240   \n",
       "22                     471220                      135   \n",
       "23                     471326                      106   \n",
       "24                     471350                       24   \n",
       "\n",
       "    Total Received one dose  New Received one dose  Total Booster doses  \\\n",
       "0                     23811                  23811                    0   \n",
       "1                     51576                  27765                    0   \n",
       "2                    142805                  91229                    0   \n",
       "3                    228810                  86005                    0   \n",
       "4                    318743                  89933                    0   \n",
       "5                    359169                  40426                    0   \n",
       "6                    399690                  40521                    0   \n",
       "7                    413985                  14295                    0   \n",
       "8                    421602                   7617                12071   \n",
       "9                    430283                   8681                52915   \n",
       "10                   435775                   5492               123944   \n",
       "11                   444615                   8840               224190   \n",
       "12                   464435                  19820               331055   \n",
       "13                   470596                   6161               343111   \n",
       "14                   473845                   3249               350709   \n",
       "15                   475475                   1630               354786   \n",
       "16                   476351                    876               356886   \n",
       "17                   476888                    537               358379   \n",
       "18                   477390                    502               359452   \n",
       "19                   477686                    296               359945   \n",
       "20                   477966                    280               360286   \n",
       "21                   478271                    305               360805   \n",
       "22                   478417                    146               361240   \n",
       "23                   478553                    136               361432   \n",
       "24                   478593                     40               361498   \n",
       "\n",
       "    New Booster doses  Total 2nd Booster doses  New 2nd Booster doses  \\\n",
       "0                   0                        0                      0   \n",
       "1                   0                        0                      0   \n",
       "2                   0                        0                      0   \n",
       "3                   0                        0                      0   \n",
       "4                   0                        0                      0   \n",
       "5                   0                        0                      0   \n",
       "6                   0                        0                      0   \n",
       "7                   0                        0                      0   \n",
       "8               12071                        0                      0   \n",
       "9               40844                        0                      0   \n",
       "10              71029                        0                      0   \n",
       "11             100246                        0                      0   \n",
       "12             106865                        0                      0   \n",
       "13              12056                        0                      0   \n",
       "14               7598                        0                      0   \n",
       "15               4077                    12660                  12660   \n",
       "16               2100                    32724                  20064   \n",
       "17               1493                    46567                  13843   \n",
       "18               1073                    57013                  10446   \n",
       "19                493                    60395                   3382   \n",
       "20                341                    60654                    259   \n",
       "21                519                    67396                   6742   \n",
       "22                435                    73771                   6375   \n",
       "23                192                    75213                   1442   \n",
       "24                 66                    75646                    433   \n",
       "\n",
       "    Total Omicron booster doses  New Omicron booster doses  \n",
       "0                             0                          0  \n",
       "1                             0                          0  \n",
       "2                             0                          0  \n",
       "3                             0                          0  \n",
       "4                             0                          0  \n",
       "5                             0                          0  \n",
       "6                             0                          0  \n",
       "7                             0                          0  \n",
       "8                             0                          0  \n",
       "9                             0                          0  \n",
       "10                            0                          0  \n",
       "11                            0                          0  \n",
       "12                            0                          0  \n",
       "13                            0                          0  \n",
       "14                            0                          0  \n",
       "15                            0                          0  \n",
       "16                            0                          0  \n",
       "17                            0                          0  \n",
       "18                            0                          0  \n",
       "19                            0                          0  \n",
       "20                            0                          0  \n",
       "21                            0                          0  \n",
       "22                        22627                       5609  \n",
       "23                        24823                       2178  \n",
       "24                        25389                        566  "
      ]
     },
     "execution_count": 297,
     "metadata": {},
     "output_type": "execute_result"
    }
   ],
   "source": [
    "vaccines_df = vaccines.rename(columns={\n",
    "    'Date of Vaccination': 'Date',\n",
    "    'Primary Vaccination': 'Total Primary Vaccination',\n",
    "    'Received one dose': 'Total Received one dose'\n",
    "})\n",
    "vaccines_df['Date'] = pd.to_datetime(vaccines_df['Date'], format='%d/%m/%Y')\n",
    "vaccines_df = vaccines_df.groupby(vaccines_df.Date.dt.to_period('M')).agg({\n",
    "    'Total Vaccination Doses': 'last',\n",
    "    'Total Primary Vaccination': 'last',\n",
    "    'Total Received one dose': 'last',\n",
    "    'Total Booster doses': 'last',\n",
    "    'Total 2nd Booster doses': 'last',\n",
    "    'Omicron booster doses': 'sum',\n",
    "    'Total Omicron booster doses': 'last'\n",
    "})\n",
    "vaccines_df = vaccines_df.replace({np.nan: 0})\n",
    "vaccines_df = vaccines_df.astype(np.int64)\n",
    "\n",
    "vaccines_df.insert(0, 'Date', vaccines_df.index.strftime('%m/%Y'))\n",
    "vaccines_df = vaccines_df.reset_index(drop=True)\n",
    "\n",
    "def get_diff(row, column):\n",
    "    if row.name == 0:\n",
    "        return row[column]\n",
    "    return row[column] - vaccines_df.iloc[row.name - 1][column]\n",
    "\n",
    "vaccines_df.insert(2, 'New Vaccination Doses', vaccines_df.apply(get_diff, axis=1, column='Total Vaccination Doses'))\n",
    "vaccines_df.insert(4, 'New Primary Vaccination', vaccines_df.apply(get_diff, axis=1, column='Total Primary Vaccination'))\n",
    "vaccines_df.insert(6, 'New Received one dose', vaccines_df.apply(get_diff, axis=1, column='Total Received one dose'))\n",
    "vaccines_df.insert(8, 'New Booster doses', vaccines_df.apply(get_diff, axis=1, column='Total Booster doses'))\n",
    "vaccines_df.insert(10, 'New 2nd Booster doses', vaccines_df.apply(get_diff, axis=1, column='Total 2nd Booster doses'))\n",
    "\n",
    "vaccines_df.insert(13, 'New Omicron booster doses', vaccines_df['Omicron booster doses'])\n",
    "vaccines_df = vaccines_df.drop(columns=['Omicron booster doses'])\n",
    "\n",
    "vaccines_df"
   ]
  },
  {
   "attachments": {},
   "cell_type": "markdown",
   "metadata": {},
   "source": [
    "## Hospital Dataset"
   ]
  },
  {
   "cell_type": "code",
   "execution_count": 351,
   "metadata": {},
   "outputs": [],
   "source": [
    "malta_hospitalized = hospitalized.loc[hospitalized['country'] == 'Malta'].drop(columns=['year_week', 'source', 'url', 'country'])\n",
    "malta_hospitalized = malta_hospitalized.rename(columns={'date': 'Date'})\n",
    "malta_hospitalized['value'] = malta_hospitalized['value'].astype(np.int64)\n",
    "malta_hospitalized['Date'] = pd.to_datetime(malta_hospitalized['Date'], format='%Y-%m-%d')"
   ]
  },
  {
   "attachments": {},
   "cell_type": "markdown",
   "metadata": {},
   "source": [
    "### Group Hosptialized Data"
   ]
  },
  {
   "cell_type": "code",
   "execution_count": 360,
   "metadata": {},
   "outputs": [
    {
     "data": {
      "text/html": [
       "<div>\n",
       "<style scoped>\n",
       "    .dataframe tbody tr th:only-of-type {\n",
       "        vertical-align: middle;\n",
       "    }\n",
       "\n",
       "    .dataframe tbody tr th {\n",
       "        vertical-align: top;\n",
       "    }\n",
       "\n",
       "    .dataframe thead th {\n",
       "        text-align: right;\n",
       "    }\n",
       "</style>\n",
       "<table border=\"1\" class=\"dataframe\">\n",
       "  <thead>\n",
       "    <tr style=\"text-align: right;\">\n",
       "      <th></th>\n",
       "      <th>Date</th>\n",
       "      <th>Hospitalized</th>\n",
       "      <th>New Hospitalized</th>\n",
       "      <th>Total Hospitalized</th>\n",
       "    </tr>\n",
       "  </thead>\n",
       "  <tbody>\n",
       "    <tr>\n",
       "      <th>0</th>\n",
       "      <td>03/2020</td>\n",
       "      <td>9</td>\n",
       "      <td>16</td>\n",
       "      <td>16</td>\n",
       "    </tr>\n",
       "    <tr>\n",
       "      <th>1</th>\n",
       "      <td>04/2020</td>\n",
       "      <td>4</td>\n",
       "      <td>12</td>\n",
       "      <td>28</td>\n",
       "    </tr>\n",
       "    <tr>\n",
       "      <th>2</th>\n",
       "      <td>05/2020</td>\n",
       "      <td>3</td>\n",
       "      <td>9</td>\n",
       "      <td>37</td>\n",
       "    </tr>\n",
       "    <tr>\n",
       "      <th>3</th>\n",
       "      <td>06/2020</td>\n",
       "      <td>0</td>\n",
       "      <td>10</td>\n",
       "      <td>47</td>\n",
       "    </tr>\n",
       "    <tr>\n",
       "      <th>4</th>\n",
       "      <td>07/2020</td>\n",
       "      <td>1</td>\n",
       "      <td>1</td>\n",
       "      <td>48</td>\n",
       "    </tr>\n",
       "    <tr>\n",
       "      <th>5</th>\n",
       "      <td>08/2020</td>\n",
       "      <td>7</td>\n",
       "      <td>33</td>\n",
       "      <td>81</td>\n",
       "    </tr>\n",
       "    <tr>\n",
       "      <th>6</th>\n",
       "      <td>09/2020</td>\n",
       "      <td>22</td>\n",
       "      <td>35</td>\n",
       "      <td>116</td>\n",
       "    </tr>\n",
       "    <tr>\n",
       "      <th>7</th>\n",
       "      <td>10/2020</td>\n",
       "      <td>53</td>\n",
       "      <td>63</td>\n",
       "      <td>179</td>\n",
       "    </tr>\n",
       "    <tr>\n",
       "      <th>8</th>\n",
       "      <td>11/2020</td>\n",
       "      <td>80</td>\n",
       "      <td>85</td>\n",
       "      <td>264</td>\n",
       "    </tr>\n",
       "    <tr>\n",
       "      <th>9</th>\n",
       "      <td>12/2020</td>\n",
       "      <td>66</td>\n",
       "      <td>56</td>\n",
       "      <td>320</td>\n",
       "    </tr>\n",
       "    <tr>\n",
       "      <th>10</th>\n",
       "      <td>01/2021</td>\n",
       "      <td>63</td>\n",
       "      <td>49</td>\n",
       "      <td>369</td>\n",
       "    </tr>\n",
       "    <tr>\n",
       "      <th>11</th>\n",
       "      <td>02/2021</td>\n",
       "      <td>80</td>\n",
       "      <td>59</td>\n",
       "      <td>428</td>\n",
       "    </tr>\n",
       "    <tr>\n",
       "      <th>12</th>\n",
       "      <td>03/2021</td>\n",
       "      <td>68</td>\n",
       "      <td>89</td>\n",
       "      <td>517</td>\n",
       "    </tr>\n",
       "    <tr>\n",
       "      <th>13</th>\n",
       "      <td>04/2021</td>\n",
       "      <td>36</td>\n",
       "      <td>38</td>\n",
       "      <td>555</td>\n",
       "    </tr>\n",
       "    <tr>\n",
       "      <th>14</th>\n",
       "      <td>05/2021</td>\n",
       "      <td>3</td>\n",
       "      <td>21</td>\n",
       "      <td>576</td>\n",
       "    </tr>\n",
       "    <tr>\n",
       "      <th>15</th>\n",
       "      <td>06/2021</td>\n",
       "      <td>3</td>\n",
       "      <td>5</td>\n",
       "      <td>581</td>\n",
       "    </tr>\n",
       "    <tr>\n",
       "      <th>16</th>\n",
       "      <td>07/2021</td>\n",
       "      <td>30</td>\n",
       "      <td>49</td>\n",
       "      <td>630</td>\n",
       "    </tr>\n",
       "    <tr>\n",
       "      <th>17</th>\n",
       "      <td>08/2021</td>\n",
       "      <td>31</td>\n",
       "      <td>48</td>\n",
       "      <td>678</td>\n",
       "    </tr>\n",
       "    <tr>\n",
       "      <th>18</th>\n",
       "      <td>09/2021</td>\n",
       "      <td>11</td>\n",
       "      <td>24</td>\n",
       "      <td>702</td>\n",
       "    </tr>\n",
       "    <tr>\n",
       "      <th>19</th>\n",
       "      <td>10/2021</td>\n",
       "      <td>13</td>\n",
       "      <td>18</td>\n",
       "      <td>720</td>\n",
       "    </tr>\n",
       "    <tr>\n",
       "      <th>20</th>\n",
       "      <td>11/2021</td>\n",
       "      <td>23</td>\n",
       "      <td>25</td>\n",
       "      <td>745</td>\n",
       "    </tr>\n",
       "    <tr>\n",
       "      <th>21</th>\n",
       "      <td>12/2021</td>\n",
       "      <td>94</td>\n",
       "      <td>110</td>\n",
       "      <td>855</td>\n",
       "    </tr>\n",
       "    <tr>\n",
       "      <th>22</th>\n",
       "      <td>01/2022</td>\n",
       "      <td>100</td>\n",
       "      <td>68</td>\n",
       "      <td>923</td>\n",
       "    </tr>\n",
       "    <tr>\n",
       "      <th>23</th>\n",
       "      <td>02/2022</td>\n",
       "      <td>36</td>\n",
       "      <td>16</td>\n",
       "      <td>939</td>\n",
       "    </tr>\n",
       "    <tr>\n",
       "      <th>24</th>\n",
       "      <td>03/2022</td>\n",
       "      <td>77</td>\n",
       "      <td>93</td>\n",
       "      <td>1032</td>\n",
       "    </tr>\n",
       "  </tbody>\n",
       "</table>\n",
       "</div>"
      ],
      "text/plain": [
       "       Date  Hospitalized  New Hospitalized  Total Hospitalized\n",
       "0   03/2020             9                16                  16\n",
       "1   04/2020             4                12                  28\n",
       "2   05/2020             3                 9                  37\n",
       "3   06/2020             0                10                  47\n",
       "4   07/2020             1                 1                  48\n",
       "5   08/2020             7                33                  81\n",
       "6   09/2020            22                35                 116\n",
       "7   10/2020            53                63                 179\n",
       "8   11/2020            80                85                 264\n",
       "9   12/2020            66                56                 320\n",
       "10  01/2021            63                49                 369\n",
       "11  02/2021            80                59                 428\n",
       "12  03/2021            68                89                 517\n",
       "13  04/2021            36                38                 555\n",
       "14  05/2021             3                21                 576\n",
       "15  06/2021             3                 5                 581\n",
       "16  07/2021            30                49                 630\n",
       "17  08/2021            31                48                 678\n",
       "18  09/2021            11                24                 702\n",
       "19  10/2021            13                18                 720\n",
       "20  11/2021            23                25                 745\n",
       "21  12/2021            94               110                 855\n",
       "22  01/2022           100                68                 923\n",
       "23  02/2022            36                16                 939\n",
       "24  03/2022            77                93                1032"
      ]
     },
     "execution_count": 360,
     "metadata": {},
     "output_type": "execute_result"
    }
   ],
   "source": [
    "hospitalized_df = malta_hospitalized.loc[malta_hospitalized['indicator'] == 'Daily hospital occupancy'].drop(columns=['indicator'])\n",
    "hospitalized_df = hospitalized_df.rename(columns={'value': 'Hospitalized'})\n",
    "hospitalized_df = hospitalized_df.reset_index(drop=True)\n",
    "\n",
    "def calc_new_hospitalized(row):\n",
    "    if row.name == 0 or hospitalized_df.iloc[row.name - 1]['Hospitalized'] >= row['Hospitalized']:\n",
    "        return 0\n",
    "    return row['Hospitalized'] - hospitalized_df.iloc[row.name - 1]['Hospitalized']\n",
    "\n",
    "hospitalized_df['New Hospitalized'] = hospitalized_df.apply(calc_new_hospitalized, axis=1)\n",
    "hospitalized_df['Total Hospitalized'] = hospitalized_df['New Hospitalized'].cumsum()\n",
    "\n",
    "hospitalized_df = hospitalized_df.groupby(hospitalized_df.Date.dt.to_period('M')).agg({\n",
    "    'Hospitalized': 'last',\n",
    "    'New Hospitalized': 'sum',\n",
    "    'Total Hospitalized': 'last'\n",
    "})\n",
    "hospitalized_df.insert(0, 'Date', hospitalized_df.index.strftime('%m/%Y'))\n",
    "hospitalized_df = hospitalized_df.reset_index(drop=True)\n",
    "hospitalized_df"
   ]
  },
  {
   "attachments": {},
   "cell_type": "markdown",
   "metadata": {},
   "source": [
    "### Group ICU Data"
   ]
  },
  {
   "cell_type": "code",
   "execution_count": 362,
   "metadata": {},
   "outputs": [
    {
     "data": {
      "text/html": [
       "<div>\n",
       "<style scoped>\n",
       "    .dataframe tbody tr th:only-of-type {\n",
       "        vertical-align: middle;\n",
       "    }\n",
       "\n",
       "    .dataframe tbody tr th {\n",
       "        vertical-align: top;\n",
       "    }\n",
       "\n",
       "    .dataframe thead th {\n",
       "        text-align: right;\n",
       "    }\n",
       "</style>\n",
       "<table border=\"1\" class=\"dataframe\">\n",
       "  <thead>\n",
       "    <tr style=\"text-align: right;\">\n",
       "      <th></th>\n",
       "      <th>Date</th>\n",
       "      <th>ICU</th>\n",
       "      <th>New ICU</th>\n",
       "      <th>Total ICU</th>\n",
       "    </tr>\n",
       "  </thead>\n",
       "  <tbody>\n",
       "    <tr>\n",
       "      <th>0</th>\n",
       "      <td>03/2020</td>\n",
       "      <td>4</td>\n",
       "      <td>4</td>\n",
       "      <td>4</td>\n",
       "    </tr>\n",
       "    <tr>\n",
       "      <th>1</th>\n",
       "      <td>04/2020</td>\n",
       "      <td>1</td>\n",
       "      <td>2</td>\n",
       "      <td>6</td>\n",
       "    </tr>\n",
       "    <tr>\n",
       "      <th>2</th>\n",
       "      <td>05/2020</td>\n",
       "      <td>2</td>\n",
       "      <td>3</td>\n",
       "      <td>9</td>\n",
       "    </tr>\n",
       "    <tr>\n",
       "      <th>3</th>\n",
       "      <td>06/2020</td>\n",
       "      <td>0</td>\n",
       "      <td>0</td>\n",
       "      <td>9</td>\n",
       "    </tr>\n",
       "    <tr>\n",
       "      <th>4</th>\n",
       "      <td>07/2020</td>\n",
       "      <td>0</td>\n",
       "      <td>0</td>\n",
       "      <td>9</td>\n",
       "    </tr>\n",
       "    <tr>\n",
       "      <th>5</th>\n",
       "      <td>08/2020</td>\n",
       "      <td>0</td>\n",
       "      <td>0</td>\n",
       "      <td>9</td>\n",
       "    </tr>\n",
       "    <tr>\n",
       "      <th>6</th>\n",
       "      <td>09/2020</td>\n",
       "      <td>5</td>\n",
       "      <td>5</td>\n",
       "      <td>14</td>\n",
       "    </tr>\n",
       "    <tr>\n",
       "      <th>7</th>\n",
       "      <td>10/2020</td>\n",
       "      <td>7</td>\n",
       "      <td>3</td>\n",
       "      <td>17</td>\n",
       "    </tr>\n",
       "    <tr>\n",
       "      <th>8</th>\n",
       "      <td>11/2020</td>\n",
       "      <td>17</td>\n",
       "      <td>20</td>\n",
       "      <td>37</td>\n",
       "    </tr>\n",
       "    <tr>\n",
       "      <th>9</th>\n",
       "      <td>12/2020</td>\n",
       "      <td>10</td>\n",
       "      <td>3</td>\n",
       "      <td>40</td>\n",
       "    </tr>\n",
       "    <tr>\n",
       "      <th>10</th>\n",
       "      <td>01/2021</td>\n",
       "      <td>10</td>\n",
       "      <td>17</td>\n",
       "      <td>57</td>\n",
       "    </tr>\n",
       "    <tr>\n",
       "      <th>11</th>\n",
       "      <td>02/2021</td>\n",
       "      <td>11</td>\n",
       "      <td>13</td>\n",
       "      <td>70</td>\n",
       "    </tr>\n",
       "    <tr>\n",
       "      <th>12</th>\n",
       "      <td>03/2021</td>\n",
       "      <td>2</td>\n",
       "      <td>4</td>\n",
       "      <td>74</td>\n",
       "    </tr>\n",
       "    <tr>\n",
       "      <th>13</th>\n",
       "      <td>04/2021</td>\n",
       "      <td>3</td>\n",
       "      <td>7</td>\n",
       "      <td>81</td>\n",
       "    </tr>\n",
       "    <tr>\n",
       "      <th>14</th>\n",
       "      <td>05/2021</td>\n",
       "      <td>0</td>\n",
       "      <td>2</td>\n",
       "      <td>83</td>\n",
       "    </tr>\n",
       "    <tr>\n",
       "      <th>15</th>\n",
       "      <td>06/2021</td>\n",
       "      <td>0</td>\n",
       "      <td>0</td>\n",
       "      <td>83</td>\n",
       "    </tr>\n",
       "    <tr>\n",
       "      <th>16</th>\n",
       "      <td>07/2021</td>\n",
       "      <td>1</td>\n",
       "      <td>2</td>\n",
       "      <td>85</td>\n",
       "    </tr>\n",
       "    <tr>\n",
       "      <th>17</th>\n",
       "      <td>08/2021</td>\n",
       "      <td>2</td>\n",
       "      <td>5</td>\n",
       "      <td>90</td>\n",
       "    </tr>\n",
       "    <tr>\n",
       "      <th>18</th>\n",
       "      <td>09/2021</td>\n",
       "      <td>1</td>\n",
       "      <td>0</td>\n",
       "      <td>90</td>\n",
       "    </tr>\n",
       "    <tr>\n",
       "      <th>19</th>\n",
       "      <td>10/2021</td>\n",
       "      <td>0</td>\n",
       "      <td>5</td>\n",
       "      <td>95</td>\n",
       "    </tr>\n",
       "    <tr>\n",
       "      <th>20</th>\n",
       "      <td>11/2021</td>\n",
       "      <td>0</td>\n",
       "      <td>1</td>\n",
       "      <td>96</td>\n",
       "    </tr>\n",
       "    <tr>\n",
       "      <th>21</th>\n",
       "      <td>12/2021</td>\n",
       "      <td>4</td>\n",
       "      <td>6</td>\n",
       "      <td>102</td>\n",
       "    </tr>\n",
       "    <tr>\n",
       "      <th>22</th>\n",
       "      <td>01/2022</td>\n",
       "      <td>0</td>\n",
       "      <td>0</td>\n",
       "      <td>102</td>\n",
       "    </tr>\n",
       "    <tr>\n",
       "      <th>23</th>\n",
       "      <td>02/2022</td>\n",
       "      <td>0</td>\n",
       "      <td>1</td>\n",
       "      <td>103</td>\n",
       "    </tr>\n",
       "    <tr>\n",
       "      <th>24</th>\n",
       "      <td>03/2022</td>\n",
       "      <td>3</td>\n",
       "      <td>3</td>\n",
       "      <td>106</td>\n",
       "    </tr>\n",
       "    <tr>\n",
       "      <th>25</th>\n",
       "      <td>04/2022</td>\n",
       "      <td>0</td>\n",
       "      <td>4</td>\n",
       "      <td>110</td>\n",
       "    </tr>\n",
       "    <tr>\n",
       "      <th>26</th>\n",
       "      <td>05/2022</td>\n",
       "      <td>1</td>\n",
       "      <td>3</td>\n",
       "      <td>113</td>\n",
       "    </tr>\n",
       "    <tr>\n",
       "      <th>27</th>\n",
       "      <td>06/2022</td>\n",
       "      <td>2</td>\n",
       "      <td>3</td>\n",
       "      <td>116</td>\n",
       "    </tr>\n",
       "    <tr>\n",
       "      <th>28</th>\n",
       "      <td>07/2022</td>\n",
       "      <td>3</td>\n",
       "      <td>4</td>\n",
       "      <td>120</td>\n",
       "    </tr>\n",
       "    <tr>\n",
       "      <th>29</th>\n",
       "      <td>08/2022</td>\n",
       "      <td>1</td>\n",
       "      <td>1</td>\n",
       "      <td>121</td>\n",
       "    </tr>\n",
       "    <tr>\n",
       "      <th>30</th>\n",
       "      <td>09/2022</td>\n",
       "      <td>0</td>\n",
       "      <td>0</td>\n",
       "      <td>121</td>\n",
       "    </tr>\n",
       "    <tr>\n",
       "      <th>31</th>\n",
       "      <td>10/2022</td>\n",
       "      <td>1</td>\n",
       "      <td>2</td>\n",
       "      <td>123</td>\n",
       "    </tr>\n",
       "    <tr>\n",
       "      <th>32</th>\n",
       "      <td>11/2022</td>\n",
       "      <td>1</td>\n",
       "      <td>1</td>\n",
       "      <td>124</td>\n",
       "    </tr>\n",
       "    <tr>\n",
       "      <th>33</th>\n",
       "      <td>12/2022</td>\n",
       "      <td>1</td>\n",
       "      <td>1</td>\n",
       "      <td>125</td>\n",
       "    </tr>\n",
       "    <tr>\n",
       "      <th>34</th>\n",
       "      <td>01/2023</td>\n",
       "      <td>0</td>\n",
       "      <td>0</td>\n",
       "      <td>125</td>\n",
       "    </tr>\n",
       "  </tbody>\n",
       "</table>\n",
       "</div>"
      ],
      "text/plain": [
       "       Date  ICU  New ICU  Total ICU\n",
       "0   03/2020    4        4          4\n",
       "1   04/2020    1        2          6\n",
       "2   05/2020    2        3          9\n",
       "3   06/2020    0        0          9\n",
       "4   07/2020    0        0          9\n",
       "5   08/2020    0        0          9\n",
       "6   09/2020    5        5         14\n",
       "7   10/2020    7        3         17\n",
       "8   11/2020   17       20         37\n",
       "9   12/2020   10        3         40\n",
       "10  01/2021   10       17         57\n",
       "11  02/2021   11       13         70\n",
       "12  03/2021    2        4         74\n",
       "13  04/2021    3        7         81\n",
       "14  05/2021    0        2         83\n",
       "15  06/2021    0        0         83\n",
       "16  07/2021    1        2         85\n",
       "17  08/2021    2        5         90\n",
       "18  09/2021    1        0         90\n",
       "19  10/2021    0        5         95\n",
       "20  11/2021    0        1         96\n",
       "21  12/2021    4        6        102\n",
       "22  01/2022    0        0        102\n",
       "23  02/2022    0        1        103\n",
       "24  03/2022    3        3        106\n",
       "25  04/2022    0        4        110\n",
       "26  05/2022    1        3        113\n",
       "27  06/2022    2        3        116\n",
       "28  07/2022    3        4        120\n",
       "29  08/2022    1        1        121\n",
       "30  09/2022    0        0        121\n",
       "31  10/2022    1        2        123\n",
       "32  11/2022    1        1        124\n",
       "33  12/2022    1        1        125\n",
       "34  01/2023    0        0        125"
      ]
     },
     "execution_count": 362,
     "metadata": {},
     "output_type": "execute_result"
    }
   ],
   "source": [
    "icu_df = malta_hospitalized.loc[malta_hospitalized['indicator'] == 'Daily ICU occupancy'].drop(columns=['indicator'])\n",
    "icu_df = icu_df.rename(columns={'value': 'ICU'})\n",
    "icu_df = icu_df.reset_index(drop=True)\n",
    "\n",
    "def calc_new_icu(row):\n",
    "    if row.name == 0 or icu_df.iloc[row.name - 1]['ICU'] >= row['ICU']:\n",
    "        return 0\n",
    "    return row['ICU'] - icu_df.iloc[row.name - 1]['ICU']\n",
    "\n",
    "icu_df['New ICU'] = icu_df.apply(calc_new_icu, axis=1)\n",
    "icu_df['Total ICU'] = icu_df['New ICU'].cumsum()\n",
    "\n",
    "icu_df = icu_df.groupby(icu_df.Date.dt.to_period('M')).agg({\n",
    "    'ICU': 'last',\n",
    "    'New ICU': 'sum',\n",
    "    'Total ICU': 'last'\n",
    "})\n",
    "icu_df.insert(0, 'Date', icu_df.index.strftime('%m/%Y'))\n",
    "icu_df = icu_df.reset_index(drop=True)\n",
    "icu_df"
   ]
  },
  {
   "attachments": {},
   "cell_type": "markdown",
   "metadata": {},
   "source": [
    "## Total Cases, Recovered & Deaths"
   ]
  },
  {
   "cell_type": "code",
   "execution_count": 202,
   "metadata": {},
   "outputs": [
    {
     "data": {
      "application/vnd.plotly.v1+json": {
       "config": {
        "plotlyServerURL": "https://plot.ly"
       },
       "data": [
        {
         "hovertemplate": "variable=Total Cases<br>Date=%{x}<br>value=%{y}<extra></extra>",
         "legendgroup": "Total Cases",
         "line": {
          "color": "#636efa",
          "dash": "solid"
         },
         "marker": {
          "symbol": "circle"
         },
         "mode": "lines",
         "name": "Total Cases",
         "orientation": "v",
         "showlegend": true,
         "type": "scatter",
         "x": [
          "03/2020",
          "04/2020",
          "05/2020",
          "06/2020",
          "07/2020",
          "08/2020",
          "09/2020",
          "10/2020",
          "11/2020",
          "12/2020",
          "01/2021",
          "02/2021",
          "03/2021",
          "04/2021",
          "05/2021",
          "06/2021",
          "07/2021",
          "08/2021",
          "09/2021",
          "10/2021",
          "11/2021",
          "12/2021",
          "01/2022",
          "02/2022",
          "03/2022",
          "04/2022",
          "05/2022",
          "06/2022",
          "07/2022",
          "08/2022",
          "09/2022",
          "10/2022",
          "11/2022",
          "12/2022"
         ],
         "xaxis": "x",
         "y": [
          169,
          465,
          618,
          670,
          824,
          1883,
          3058,
          6042,
          9873,
          12774,
          17903,
          22482,
          29033,
          30292,
          30535,
          30623,
          34295,
          36171,
          37149,
          37655,
          39437,
          52470,
          67714,
          71272,
          79539,
          91741,
          94742,
          103132,
          112828,
          114050,
          114692,
          115349,
          115839,
          116384
         ],
         "yaxis": "y"
        },
        {
         "hovertemplate": "variable=Total Recovered<br>Date=%{x}<br>value=%{y}<extra></extra>",
         "legendgroup": "Total Recovered",
         "line": {
          "color": "#EF553B",
          "dash": "solid"
         },
         "marker": {
          "symbol": "circle"
         },
         "mode": "lines",
         "name": "Total Recovered",
         "orientation": "v",
         "showlegend": true,
         "type": "scatter",
         "x": [
          "03/2020",
          "04/2020",
          "05/2020",
          "06/2020",
          "07/2020",
          "08/2020",
          "09/2020",
          "10/2020",
          "11/2020",
          "12/2020",
          "01/2021",
          "02/2021",
          "03/2021",
          "04/2021",
          "05/2021",
          "06/2021",
          "07/2021",
          "08/2021",
          "09/2021",
          "10/2021",
          "11/2021",
          "12/2021",
          "01/2022",
          "02/2022",
          "03/2022",
          "04/2022",
          "05/2022",
          "06/2022",
          "07/2022",
          "08/2022",
          "09/2022",
          "10/2022",
          "11/2022",
          "12/2022"
         ],
         "xaxis": "x",
         "y": [
          2,
          351,
          534,
          640,
          665,
          1400,
          2562,
          4155,
          7665,
          11121,
          14960,
          19447,
          27805,
          29548,
          30050,
          30158,
          31629,
          34678,
          35968,
          36583,
          37385,
          40156,
          63796,
          69579,
          72865,
          87119,
          92215,
          95764,
          109863,
          112726,
          113215,
          113809,
          114444,
          114889
         ],
         "yaxis": "y"
        },
        {
         "hovertemplate": "variable=Total Deaths<br>Date=%{x}<br>value=%{y}<extra></extra>",
         "legendgroup": "Total Deaths",
         "line": {
          "color": "#00cc96",
          "dash": "solid"
         },
         "marker": {
          "symbol": "circle"
         },
         "mode": "lines",
         "name": "Total Deaths",
         "orientation": "v",
         "showlegend": true,
         "type": "scatter",
         "x": [
          "03/2020",
          "04/2020",
          "05/2020",
          "06/2020",
          "07/2020",
          "08/2020",
          "09/2020",
          "10/2020",
          "11/2020",
          "12/2020",
          "01/2021",
          "02/2021",
          "03/2021",
          "04/2021",
          "05/2021",
          "06/2021",
          "07/2021",
          "08/2021",
          "09/2021",
          "10/2021",
          "11/2021",
          "12/2021",
          "01/2022",
          "02/2022",
          "03/2022",
          "04/2022",
          "05/2022",
          "06/2022",
          "07/2022",
          "08/2022",
          "09/2022",
          "10/2022",
          "11/2022",
          "12/2022"
         ],
         "xaxis": "x",
         "y": [
          0,
          4,
          9,
          9,
          9,
          12,
          34,
          62,
          137,
          219,
          267,
          315,
          392,
          413,
          419,
          420,
          423,
          441,
          457,
          461,
          468,
          477,
          550,
          605,
          638,
          698,
          721,
          741,
          794,
          801,
          806,
          808,
          809,
          815
         ],
         "yaxis": "y"
        }
       ],
       "layout": {
        "legend": {
         "title": {
          "text": "Legend"
         },
         "tracegroupgap": 0
        },
        "template": {
         "data": {
          "bar": [
           {
            "error_x": {
             "color": "#2a3f5f"
            },
            "error_y": {
             "color": "#2a3f5f"
            },
            "marker": {
             "line": {
              "color": "#E5ECF6",
              "width": 0.5
             },
             "pattern": {
              "fillmode": "overlay",
              "size": 10,
              "solidity": 0.2
             }
            },
            "type": "bar"
           }
          ],
          "barpolar": [
           {
            "marker": {
             "line": {
              "color": "#E5ECF6",
              "width": 0.5
             },
             "pattern": {
              "fillmode": "overlay",
              "size": 10,
              "solidity": 0.2
             }
            },
            "type": "barpolar"
           }
          ],
          "carpet": [
           {
            "aaxis": {
             "endlinecolor": "#2a3f5f",
             "gridcolor": "white",
             "linecolor": "white",
             "minorgridcolor": "white",
             "startlinecolor": "#2a3f5f"
            },
            "baxis": {
             "endlinecolor": "#2a3f5f",
             "gridcolor": "white",
             "linecolor": "white",
             "minorgridcolor": "white",
             "startlinecolor": "#2a3f5f"
            },
            "type": "carpet"
           }
          ],
          "choropleth": [
           {
            "colorbar": {
             "outlinewidth": 0,
             "ticks": ""
            },
            "type": "choropleth"
           }
          ],
          "contour": [
           {
            "colorbar": {
             "outlinewidth": 0,
             "ticks": ""
            },
            "colorscale": [
             [
              0,
              "#0d0887"
             ],
             [
              0.1111111111111111,
              "#46039f"
             ],
             [
              0.2222222222222222,
              "#7201a8"
             ],
             [
              0.3333333333333333,
              "#9c179e"
             ],
             [
              0.4444444444444444,
              "#bd3786"
             ],
             [
              0.5555555555555556,
              "#d8576b"
             ],
             [
              0.6666666666666666,
              "#ed7953"
             ],
             [
              0.7777777777777778,
              "#fb9f3a"
             ],
             [
              0.8888888888888888,
              "#fdca26"
             ],
             [
              1,
              "#f0f921"
             ]
            ],
            "type": "contour"
           }
          ],
          "contourcarpet": [
           {
            "colorbar": {
             "outlinewidth": 0,
             "ticks": ""
            },
            "type": "contourcarpet"
           }
          ],
          "heatmap": [
           {
            "colorbar": {
             "outlinewidth": 0,
             "ticks": ""
            },
            "colorscale": [
             [
              0,
              "#0d0887"
             ],
             [
              0.1111111111111111,
              "#46039f"
             ],
             [
              0.2222222222222222,
              "#7201a8"
             ],
             [
              0.3333333333333333,
              "#9c179e"
             ],
             [
              0.4444444444444444,
              "#bd3786"
             ],
             [
              0.5555555555555556,
              "#d8576b"
             ],
             [
              0.6666666666666666,
              "#ed7953"
             ],
             [
              0.7777777777777778,
              "#fb9f3a"
             ],
             [
              0.8888888888888888,
              "#fdca26"
             ],
             [
              1,
              "#f0f921"
             ]
            ],
            "type": "heatmap"
           }
          ],
          "heatmapgl": [
           {
            "colorbar": {
             "outlinewidth": 0,
             "ticks": ""
            },
            "colorscale": [
             [
              0,
              "#0d0887"
             ],
             [
              0.1111111111111111,
              "#46039f"
             ],
             [
              0.2222222222222222,
              "#7201a8"
             ],
             [
              0.3333333333333333,
              "#9c179e"
             ],
             [
              0.4444444444444444,
              "#bd3786"
             ],
             [
              0.5555555555555556,
              "#d8576b"
             ],
             [
              0.6666666666666666,
              "#ed7953"
             ],
             [
              0.7777777777777778,
              "#fb9f3a"
             ],
             [
              0.8888888888888888,
              "#fdca26"
             ],
             [
              1,
              "#f0f921"
             ]
            ],
            "type": "heatmapgl"
           }
          ],
          "histogram": [
           {
            "marker": {
             "pattern": {
              "fillmode": "overlay",
              "size": 10,
              "solidity": 0.2
             }
            },
            "type": "histogram"
           }
          ],
          "histogram2d": [
           {
            "colorbar": {
             "outlinewidth": 0,
             "ticks": ""
            },
            "colorscale": [
             [
              0,
              "#0d0887"
             ],
             [
              0.1111111111111111,
              "#46039f"
             ],
             [
              0.2222222222222222,
              "#7201a8"
             ],
             [
              0.3333333333333333,
              "#9c179e"
             ],
             [
              0.4444444444444444,
              "#bd3786"
             ],
             [
              0.5555555555555556,
              "#d8576b"
             ],
             [
              0.6666666666666666,
              "#ed7953"
             ],
             [
              0.7777777777777778,
              "#fb9f3a"
             ],
             [
              0.8888888888888888,
              "#fdca26"
             ],
             [
              1,
              "#f0f921"
             ]
            ],
            "type": "histogram2d"
           }
          ],
          "histogram2dcontour": [
           {
            "colorbar": {
             "outlinewidth": 0,
             "ticks": ""
            },
            "colorscale": [
             [
              0,
              "#0d0887"
             ],
             [
              0.1111111111111111,
              "#46039f"
             ],
             [
              0.2222222222222222,
              "#7201a8"
             ],
             [
              0.3333333333333333,
              "#9c179e"
             ],
             [
              0.4444444444444444,
              "#bd3786"
             ],
             [
              0.5555555555555556,
              "#d8576b"
             ],
             [
              0.6666666666666666,
              "#ed7953"
             ],
             [
              0.7777777777777778,
              "#fb9f3a"
             ],
             [
              0.8888888888888888,
              "#fdca26"
             ],
             [
              1,
              "#f0f921"
             ]
            ],
            "type": "histogram2dcontour"
           }
          ],
          "mesh3d": [
           {
            "colorbar": {
             "outlinewidth": 0,
             "ticks": ""
            },
            "type": "mesh3d"
           }
          ],
          "parcoords": [
           {
            "line": {
             "colorbar": {
              "outlinewidth": 0,
              "ticks": ""
             }
            },
            "type": "parcoords"
           }
          ],
          "pie": [
           {
            "automargin": true,
            "type": "pie"
           }
          ],
          "scatter": [
           {
            "fillpattern": {
             "fillmode": "overlay",
             "size": 10,
             "solidity": 0.2
            },
            "type": "scatter"
           }
          ],
          "scatter3d": [
           {
            "line": {
             "colorbar": {
              "outlinewidth": 0,
              "ticks": ""
             }
            },
            "marker": {
             "colorbar": {
              "outlinewidth": 0,
              "ticks": ""
             }
            },
            "type": "scatter3d"
           }
          ],
          "scattercarpet": [
           {
            "marker": {
             "colorbar": {
              "outlinewidth": 0,
              "ticks": ""
             }
            },
            "type": "scattercarpet"
           }
          ],
          "scattergeo": [
           {
            "marker": {
             "colorbar": {
              "outlinewidth": 0,
              "ticks": ""
             }
            },
            "type": "scattergeo"
           }
          ],
          "scattergl": [
           {
            "marker": {
             "colorbar": {
              "outlinewidth": 0,
              "ticks": ""
             }
            },
            "type": "scattergl"
           }
          ],
          "scattermapbox": [
           {
            "marker": {
             "colorbar": {
              "outlinewidth": 0,
              "ticks": ""
             }
            },
            "type": "scattermapbox"
           }
          ],
          "scatterpolar": [
           {
            "marker": {
             "colorbar": {
              "outlinewidth": 0,
              "ticks": ""
             }
            },
            "type": "scatterpolar"
           }
          ],
          "scatterpolargl": [
           {
            "marker": {
             "colorbar": {
              "outlinewidth": 0,
              "ticks": ""
             }
            },
            "type": "scatterpolargl"
           }
          ],
          "scatterternary": [
           {
            "marker": {
             "colorbar": {
              "outlinewidth": 0,
              "ticks": ""
             }
            },
            "type": "scatterternary"
           }
          ],
          "surface": [
           {
            "colorbar": {
             "outlinewidth": 0,
             "ticks": ""
            },
            "colorscale": [
             [
              0,
              "#0d0887"
             ],
             [
              0.1111111111111111,
              "#46039f"
             ],
             [
              0.2222222222222222,
              "#7201a8"
             ],
             [
              0.3333333333333333,
              "#9c179e"
             ],
             [
              0.4444444444444444,
              "#bd3786"
             ],
             [
              0.5555555555555556,
              "#d8576b"
             ],
             [
              0.6666666666666666,
              "#ed7953"
             ],
             [
              0.7777777777777778,
              "#fb9f3a"
             ],
             [
              0.8888888888888888,
              "#fdca26"
             ],
             [
              1,
              "#f0f921"
             ]
            ],
            "type": "surface"
           }
          ],
          "table": [
           {
            "cells": {
             "fill": {
              "color": "#EBF0F8"
             },
             "line": {
              "color": "white"
             }
            },
            "header": {
             "fill": {
              "color": "#C8D4E3"
             },
             "line": {
              "color": "white"
             }
            },
            "type": "table"
           }
          ]
         },
         "layout": {
          "annotationdefaults": {
           "arrowcolor": "#2a3f5f",
           "arrowhead": 0,
           "arrowwidth": 1
          },
          "autotypenumbers": "strict",
          "coloraxis": {
           "colorbar": {
            "outlinewidth": 0,
            "ticks": ""
           }
          },
          "colorscale": {
           "diverging": [
            [
             0,
             "#8e0152"
            ],
            [
             0.1,
             "#c51b7d"
            ],
            [
             0.2,
             "#de77ae"
            ],
            [
             0.3,
             "#f1b6da"
            ],
            [
             0.4,
             "#fde0ef"
            ],
            [
             0.5,
             "#f7f7f7"
            ],
            [
             0.6,
             "#e6f5d0"
            ],
            [
             0.7,
             "#b8e186"
            ],
            [
             0.8,
             "#7fbc41"
            ],
            [
             0.9,
             "#4d9221"
            ],
            [
             1,
             "#276419"
            ]
           ],
           "sequential": [
            [
             0,
             "#0d0887"
            ],
            [
             0.1111111111111111,
             "#46039f"
            ],
            [
             0.2222222222222222,
             "#7201a8"
            ],
            [
             0.3333333333333333,
             "#9c179e"
            ],
            [
             0.4444444444444444,
             "#bd3786"
            ],
            [
             0.5555555555555556,
             "#d8576b"
            ],
            [
             0.6666666666666666,
             "#ed7953"
            ],
            [
             0.7777777777777778,
             "#fb9f3a"
            ],
            [
             0.8888888888888888,
             "#fdca26"
            ],
            [
             1,
             "#f0f921"
            ]
           ],
           "sequentialminus": [
            [
             0,
             "#0d0887"
            ],
            [
             0.1111111111111111,
             "#46039f"
            ],
            [
             0.2222222222222222,
             "#7201a8"
            ],
            [
             0.3333333333333333,
             "#9c179e"
            ],
            [
             0.4444444444444444,
             "#bd3786"
            ],
            [
             0.5555555555555556,
             "#d8576b"
            ],
            [
             0.6666666666666666,
             "#ed7953"
            ],
            [
             0.7777777777777778,
             "#fb9f3a"
            ],
            [
             0.8888888888888888,
             "#fdca26"
            ],
            [
             1,
             "#f0f921"
            ]
           ]
          },
          "colorway": [
           "#636efa",
           "#EF553B",
           "#00cc96",
           "#ab63fa",
           "#FFA15A",
           "#19d3f3",
           "#FF6692",
           "#B6E880",
           "#FF97FF",
           "#FECB52"
          ],
          "font": {
           "color": "#2a3f5f"
          },
          "geo": {
           "bgcolor": "white",
           "lakecolor": "white",
           "landcolor": "#E5ECF6",
           "showlakes": true,
           "showland": true,
           "subunitcolor": "white"
          },
          "hoverlabel": {
           "align": "left"
          },
          "hovermode": "closest",
          "mapbox": {
           "style": "light"
          },
          "paper_bgcolor": "white",
          "plot_bgcolor": "#E5ECF6",
          "polar": {
           "angularaxis": {
            "gridcolor": "white",
            "linecolor": "white",
            "ticks": ""
           },
           "bgcolor": "#E5ECF6",
           "radialaxis": {
            "gridcolor": "white",
            "linecolor": "white",
            "ticks": ""
           }
          },
          "scene": {
           "xaxis": {
            "backgroundcolor": "#E5ECF6",
            "gridcolor": "white",
            "gridwidth": 2,
            "linecolor": "white",
            "showbackground": true,
            "ticks": "",
            "zerolinecolor": "white"
           },
           "yaxis": {
            "backgroundcolor": "#E5ECF6",
            "gridcolor": "white",
            "gridwidth": 2,
            "linecolor": "white",
            "showbackground": true,
            "ticks": "",
            "zerolinecolor": "white"
           },
           "zaxis": {
            "backgroundcolor": "#E5ECF6",
            "gridcolor": "white",
            "gridwidth": 2,
            "linecolor": "white",
            "showbackground": true,
            "ticks": "",
            "zerolinecolor": "white"
           }
          },
          "shapedefaults": {
           "line": {
            "color": "#2a3f5f"
           }
          },
          "ternary": {
           "aaxis": {
            "gridcolor": "white",
            "linecolor": "white",
            "ticks": ""
           },
           "baxis": {
            "gridcolor": "white",
            "linecolor": "white",
            "ticks": ""
           },
           "bgcolor": "#E5ECF6",
           "caxis": {
            "gridcolor": "white",
            "linecolor": "white",
            "ticks": ""
           }
          },
          "title": {
           "x": 0.05
          },
          "xaxis": {
           "automargin": true,
           "gridcolor": "white",
           "linecolor": "white",
           "ticks": "",
           "title": {
            "standoff": 15
           },
           "zerolinecolor": "white",
           "zerolinewidth": 2
          },
          "yaxis": {
           "automargin": true,
           "gridcolor": "white",
           "linecolor": "white",
           "ticks": "",
           "title": {
            "standoff": 15
           },
           "zerolinecolor": "white",
           "zerolinewidth": 2
          }
         }
        },
        "title": {
         "text": "Total Cases, Recovered & Deaths"
        },
        "xaxis": {
         "anchor": "y",
         "domain": [
          0,
          1
         ],
         "title": {
          "text": "Date"
         }
        },
        "yaxis": {
         "anchor": "x",
         "domain": [
          0,
          1
         ],
         "title": {
          "text": "Cases"
         }
        }
       }
      },
      "text/html": [
       "<div>                            <div id=\"d705ce84-8133-4532-85d3-287b92c46caf\" class=\"plotly-graph-div\" style=\"height:525px; width:100%;\"></div>            <script type=\"text/javascript\">                require([\"plotly\"], function(Plotly) {                    window.PLOTLYENV=window.PLOTLYENV || {};                                    if (document.getElementById(\"d705ce84-8133-4532-85d3-287b92c46caf\")) {                    Plotly.newPlot(                        \"d705ce84-8133-4532-85d3-287b92c46caf\",                        [{\"hovertemplate\":\"variable=Total Cases<br>Date=%{x}<br>value=%{y}<extra></extra>\",\"legendgroup\":\"Total Cases\",\"line\":{\"color\":\"#636efa\",\"dash\":\"solid\"},\"marker\":{\"symbol\":\"circle\"},\"mode\":\"lines\",\"name\":\"Total Cases\",\"orientation\":\"v\",\"showlegend\":true,\"x\":[\"03/2020\",\"04/2020\",\"05/2020\",\"06/2020\",\"07/2020\",\"08/2020\",\"09/2020\",\"10/2020\",\"11/2020\",\"12/2020\",\"01/2021\",\"02/2021\",\"03/2021\",\"04/2021\",\"05/2021\",\"06/2021\",\"07/2021\",\"08/2021\",\"09/2021\",\"10/2021\",\"11/2021\",\"12/2021\",\"01/2022\",\"02/2022\",\"03/2022\",\"04/2022\",\"05/2022\",\"06/2022\",\"07/2022\",\"08/2022\",\"09/2022\",\"10/2022\",\"11/2022\",\"12/2022\"],\"xaxis\":\"x\",\"y\":[169,465,618,670,824,1883,3058,6042,9873,12774,17903,22482,29033,30292,30535,30623,34295,36171,37149,37655,39437,52470,67714,71272,79539,91741,94742,103132,112828,114050,114692,115349,115839,116384],\"yaxis\":\"y\",\"type\":\"scatter\"},{\"hovertemplate\":\"variable=Total Recovered<br>Date=%{x}<br>value=%{y}<extra></extra>\",\"legendgroup\":\"Total Recovered\",\"line\":{\"color\":\"#EF553B\",\"dash\":\"solid\"},\"marker\":{\"symbol\":\"circle\"},\"mode\":\"lines\",\"name\":\"Total Recovered\",\"orientation\":\"v\",\"showlegend\":true,\"x\":[\"03/2020\",\"04/2020\",\"05/2020\",\"06/2020\",\"07/2020\",\"08/2020\",\"09/2020\",\"10/2020\",\"11/2020\",\"12/2020\",\"01/2021\",\"02/2021\",\"03/2021\",\"04/2021\",\"05/2021\",\"06/2021\",\"07/2021\",\"08/2021\",\"09/2021\",\"10/2021\",\"11/2021\",\"12/2021\",\"01/2022\",\"02/2022\",\"03/2022\",\"04/2022\",\"05/2022\",\"06/2022\",\"07/2022\",\"08/2022\",\"09/2022\",\"10/2022\",\"11/2022\",\"12/2022\"],\"xaxis\":\"x\",\"y\":[2,351,534,640,665,1400,2562,4155,7665,11121,14960,19447,27805,29548,30050,30158,31629,34678,35968,36583,37385,40156,63796,69579,72865,87119,92215,95764,109863,112726,113215,113809,114444,114889],\"yaxis\":\"y\",\"type\":\"scatter\"},{\"hovertemplate\":\"variable=Total Deaths<br>Date=%{x}<br>value=%{y}<extra></extra>\",\"legendgroup\":\"Total Deaths\",\"line\":{\"color\":\"#00cc96\",\"dash\":\"solid\"},\"marker\":{\"symbol\":\"circle\"},\"mode\":\"lines\",\"name\":\"Total Deaths\",\"orientation\":\"v\",\"showlegend\":true,\"x\":[\"03/2020\",\"04/2020\",\"05/2020\",\"06/2020\",\"07/2020\",\"08/2020\",\"09/2020\",\"10/2020\",\"11/2020\",\"12/2020\",\"01/2021\",\"02/2021\",\"03/2021\",\"04/2021\",\"05/2021\",\"06/2021\",\"07/2021\",\"08/2021\",\"09/2021\",\"10/2021\",\"11/2021\",\"12/2021\",\"01/2022\",\"02/2022\",\"03/2022\",\"04/2022\",\"05/2022\",\"06/2022\",\"07/2022\",\"08/2022\",\"09/2022\",\"10/2022\",\"11/2022\",\"12/2022\"],\"xaxis\":\"x\",\"y\":[0,4,9,9,9,12,34,62,137,219,267,315,392,413,419,420,423,441,457,461,468,477,550,605,638,698,721,741,794,801,806,808,809,815],\"yaxis\":\"y\",\"type\":\"scatter\"}],                        {\"template\":{\"data\":{\"histogram2dcontour\":[{\"type\":\"histogram2dcontour\",\"colorbar\":{\"outlinewidth\":0,\"ticks\":\"\"},\"colorscale\":[[0.0,\"#0d0887\"],[0.1111111111111111,\"#46039f\"],[0.2222222222222222,\"#7201a8\"],[0.3333333333333333,\"#9c179e\"],[0.4444444444444444,\"#bd3786\"],[0.5555555555555556,\"#d8576b\"],[0.6666666666666666,\"#ed7953\"],[0.7777777777777778,\"#fb9f3a\"],[0.8888888888888888,\"#fdca26\"],[1.0,\"#f0f921\"]]}],\"choropleth\":[{\"type\":\"choropleth\",\"colorbar\":{\"outlinewidth\":0,\"ticks\":\"\"}}],\"histogram2d\":[{\"type\":\"histogram2d\",\"colorbar\":{\"outlinewidth\":0,\"ticks\":\"\"},\"colorscale\":[[0.0,\"#0d0887\"],[0.1111111111111111,\"#46039f\"],[0.2222222222222222,\"#7201a8\"],[0.3333333333333333,\"#9c179e\"],[0.4444444444444444,\"#bd3786\"],[0.5555555555555556,\"#d8576b\"],[0.6666666666666666,\"#ed7953\"],[0.7777777777777778,\"#fb9f3a\"],[0.8888888888888888,\"#fdca26\"],[1.0,\"#f0f921\"]]}],\"heatmap\":[{\"type\":\"heatmap\",\"colorbar\":{\"outlinewidth\":0,\"ticks\":\"\"},\"colorscale\":[[0.0,\"#0d0887\"],[0.1111111111111111,\"#46039f\"],[0.2222222222222222,\"#7201a8\"],[0.3333333333333333,\"#9c179e\"],[0.4444444444444444,\"#bd3786\"],[0.5555555555555556,\"#d8576b\"],[0.6666666666666666,\"#ed7953\"],[0.7777777777777778,\"#fb9f3a\"],[0.8888888888888888,\"#fdca26\"],[1.0,\"#f0f921\"]]}],\"heatmapgl\":[{\"type\":\"heatmapgl\",\"colorbar\":{\"outlinewidth\":0,\"ticks\":\"\"},\"colorscale\":[[0.0,\"#0d0887\"],[0.1111111111111111,\"#46039f\"],[0.2222222222222222,\"#7201a8\"],[0.3333333333333333,\"#9c179e\"],[0.4444444444444444,\"#bd3786\"],[0.5555555555555556,\"#d8576b\"],[0.6666666666666666,\"#ed7953\"],[0.7777777777777778,\"#fb9f3a\"],[0.8888888888888888,\"#fdca26\"],[1.0,\"#f0f921\"]]}],\"contourcarpet\":[{\"type\":\"contourcarpet\",\"colorbar\":{\"outlinewidth\":0,\"ticks\":\"\"}}],\"contour\":[{\"type\":\"contour\",\"colorbar\":{\"outlinewidth\":0,\"ticks\":\"\"},\"colorscale\":[[0.0,\"#0d0887\"],[0.1111111111111111,\"#46039f\"],[0.2222222222222222,\"#7201a8\"],[0.3333333333333333,\"#9c179e\"],[0.4444444444444444,\"#bd3786\"],[0.5555555555555556,\"#d8576b\"],[0.6666666666666666,\"#ed7953\"],[0.7777777777777778,\"#fb9f3a\"],[0.8888888888888888,\"#fdca26\"],[1.0,\"#f0f921\"]]}],\"surface\":[{\"type\":\"surface\",\"colorbar\":{\"outlinewidth\":0,\"ticks\":\"\"},\"colorscale\":[[0.0,\"#0d0887\"],[0.1111111111111111,\"#46039f\"],[0.2222222222222222,\"#7201a8\"],[0.3333333333333333,\"#9c179e\"],[0.4444444444444444,\"#bd3786\"],[0.5555555555555556,\"#d8576b\"],[0.6666666666666666,\"#ed7953\"],[0.7777777777777778,\"#fb9f3a\"],[0.8888888888888888,\"#fdca26\"],[1.0,\"#f0f921\"]]}],\"mesh3d\":[{\"type\":\"mesh3d\",\"colorbar\":{\"outlinewidth\":0,\"ticks\":\"\"}}],\"scatter\":[{\"fillpattern\":{\"fillmode\":\"overlay\",\"size\":10,\"solidity\":0.2},\"type\":\"scatter\"}],\"parcoords\":[{\"type\":\"parcoords\",\"line\":{\"colorbar\":{\"outlinewidth\":0,\"ticks\":\"\"}}}],\"scatterpolargl\":[{\"type\":\"scatterpolargl\",\"marker\":{\"colorbar\":{\"outlinewidth\":0,\"ticks\":\"\"}}}],\"bar\":[{\"error_x\":{\"color\":\"#2a3f5f\"},\"error_y\":{\"color\":\"#2a3f5f\"},\"marker\":{\"line\":{\"color\":\"#E5ECF6\",\"width\":0.5},\"pattern\":{\"fillmode\":\"overlay\",\"size\":10,\"solidity\":0.2}},\"type\":\"bar\"}],\"scattergeo\":[{\"type\":\"scattergeo\",\"marker\":{\"colorbar\":{\"outlinewidth\":0,\"ticks\":\"\"}}}],\"scatterpolar\":[{\"type\":\"scatterpolar\",\"marker\":{\"colorbar\":{\"outlinewidth\":0,\"ticks\":\"\"}}}],\"histogram\":[{\"marker\":{\"pattern\":{\"fillmode\":\"overlay\",\"size\":10,\"solidity\":0.2}},\"type\":\"histogram\"}],\"scattergl\":[{\"type\":\"scattergl\",\"marker\":{\"colorbar\":{\"outlinewidth\":0,\"ticks\":\"\"}}}],\"scatter3d\":[{\"type\":\"scatter3d\",\"line\":{\"colorbar\":{\"outlinewidth\":0,\"ticks\":\"\"}},\"marker\":{\"colorbar\":{\"outlinewidth\":0,\"ticks\":\"\"}}}],\"scattermapbox\":[{\"type\":\"scattermapbox\",\"marker\":{\"colorbar\":{\"outlinewidth\":0,\"ticks\":\"\"}}}],\"scatterternary\":[{\"type\":\"scatterternary\",\"marker\":{\"colorbar\":{\"outlinewidth\":0,\"ticks\":\"\"}}}],\"scattercarpet\":[{\"type\":\"scattercarpet\",\"marker\":{\"colorbar\":{\"outlinewidth\":0,\"ticks\":\"\"}}}],\"carpet\":[{\"aaxis\":{\"endlinecolor\":\"#2a3f5f\",\"gridcolor\":\"white\",\"linecolor\":\"white\",\"minorgridcolor\":\"white\",\"startlinecolor\":\"#2a3f5f\"},\"baxis\":{\"endlinecolor\":\"#2a3f5f\",\"gridcolor\":\"white\",\"linecolor\":\"white\",\"minorgridcolor\":\"white\",\"startlinecolor\":\"#2a3f5f\"},\"type\":\"carpet\"}],\"table\":[{\"cells\":{\"fill\":{\"color\":\"#EBF0F8\"},\"line\":{\"color\":\"white\"}},\"header\":{\"fill\":{\"color\":\"#C8D4E3\"},\"line\":{\"color\":\"white\"}},\"type\":\"table\"}],\"barpolar\":[{\"marker\":{\"line\":{\"color\":\"#E5ECF6\",\"width\":0.5},\"pattern\":{\"fillmode\":\"overlay\",\"size\":10,\"solidity\":0.2}},\"type\":\"barpolar\"}],\"pie\":[{\"automargin\":true,\"type\":\"pie\"}]},\"layout\":{\"autotypenumbers\":\"strict\",\"colorway\":[\"#636efa\",\"#EF553B\",\"#00cc96\",\"#ab63fa\",\"#FFA15A\",\"#19d3f3\",\"#FF6692\",\"#B6E880\",\"#FF97FF\",\"#FECB52\"],\"font\":{\"color\":\"#2a3f5f\"},\"hovermode\":\"closest\",\"hoverlabel\":{\"align\":\"left\"},\"paper_bgcolor\":\"white\",\"plot_bgcolor\":\"#E5ECF6\",\"polar\":{\"bgcolor\":\"#E5ECF6\",\"angularaxis\":{\"gridcolor\":\"white\",\"linecolor\":\"white\",\"ticks\":\"\"},\"radialaxis\":{\"gridcolor\":\"white\",\"linecolor\":\"white\",\"ticks\":\"\"}},\"ternary\":{\"bgcolor\":\"#E5ECF6\",\"aaxis\":{\"gridcolor\":\"white\",\"linecolor\":\"white\",\"ticks\":\"\"},\"baxis\":{\"gridcolor\":\"white\",\"linecolor\":\"white\",\"ticks\":\"\"},\"caxis\":{\"gridcolor\":\"white\",\"linecolor\":\"white\",\"ticks\":\"\"}},\"coloraxis\":{\"colorbar\":{\"outlinewidth\":0,\"ticks\":\"\"}},\"colorscale\":{\"sequential\":[[0.0,\"#0d0887\"],[0.1111111111111111,\"#46039f\"],[0.2222222222222222,\"#7201a8\"],[0.3333333333333333,\"#9c179e\"],[0.4444444444444444,\"#bd3786\"],[0.5555555555555556,\"#d8576b\"],[0.6666666666666666,\"#ed7953\"],[0.7777777777777778,\"#fb9f3a\"],[0.8888888888888888,\"#fdca26\"],[1.0,\"#f0f921\"]],\"sequentialminus\":[[0.0,\"#0d0887\"],[0.1111111111111111,\"#46039f\"],[0.2222222222222222,\"#7201a8\"],[0.3333333333333333,\"#9c179e\"],[0.4444444444444444,\"#bd3786\"],[0.5555555555555556,\"#d8576b\"],[0.6666666666666666,\"#ed7953\"],[0.7777777777777778,\"#fb9f3a\"],[0.8888888888888888,\"#fdca26\"],[1.0,\"#f0f921\"]],\"diverging\":[[0,\"#8e0152\"],[0.1,\"#c51b7d\"],[0.2,\"#de77ae\"],[0.3,\"#f1b6da\"],[0.4,\"#fde0ef\"],[0.5,\"#f7f7f7\"],[0.6,\"#e6f5d0\"],[0.7,\"#b8e186\"],[0.8,\"#7fbc41\"],[0.9,\"#4d9221\"],[1,\"#276419\"]]},\"xaxis\":{\"gridcolor\":\"white\",\"linecolor\":\"white\",\"ticks\":\"\",\"title\":{\"standoff\":15},\"zerolinecolor\":\"white\",\"automargin\":true,\"zerolinewidth\":2},\"yaxis\":{\"gridcolor\":\"white\",\"linecolor\":\"white\",\"ticks\":\"\",\"title\":{\"standoff\":15},\"zerolinecolor\":\"white\",\"automargin\":true,\"zerolinewidth\":2},\"scene\":{\"xaxis\":{\"backgroundcolor\":\"#E5ECF6\",\"gridcolor\":\"white\",\"linecolor\":\"white\",\"showbackground\":true,\"ticks\":\"\",\"zerolinecolor\":\"white\",\"gridwidth\":2},\"yaxis\":{\"backgroundcolor\":\"#E5ECF6\",\"gridcolor\":\"white\",\"linecolor\":\"white\",\"showbackground\":true,\"ticks\":\"\",\"zerolinecolor\":\"white\",\"gridwidth\":2},\"zaxis\":{\"backgroundcolor\":\"#E5ECF6\",\"gridcolor\":\"white\",\"linecolor\":\"white\",\"showbackground\":true,\"ticks\":\"\",\"zerolinecolor\":\"white\",\"gridwidth\":2}},\"shapedefaults\":{\"line\":{\"color\":\"#2a3f5f\"}},\"annotationdefaults\":{\"arrowcolor\":\"#2a3f5f\",\"arrowhead\":0,\"arrowwidth\":1},\"geo\":{\"bgcolor\":\"white\",\"landcolor\":\"#E5ECF6\",\"subunitcolor\":\"white\",\"showland\":true,\"showlakes\":true,\"lakecolor\":\"white\"},\"title\":{\"x\":0.05},\"mapbox\":{\"style\":\"light\"}}},\"xaxis\":{\"anchor\":\"y\",\"domain\":[0.0,1.0],\"title\":{\"text\":\"Date\"}},\"yaxis\":{\"anchor\":\"x\",\"domain\":[0.0,1.0],\"title\":{\"text\":\"Cases\"}},\"legend\":{\"title\":{\"text\":\"Legend\"},\"tracegroupgap\":0},\"title\":{\"text\":\"Total Cases, Recovered & Deaths\"}},                        {\"responsive\": true}                    ).then(function(){\n",
       "                            \n",
       "var gd = document.getElementById('d705ce84-8133-4532-85d3-287b92c46caf');\n",
       "var x = new MutationObserver(function (mutations, observer) {{\n",
       "        var display = window.getComputedStyle(gd).display;\n",
       "        if (!display || display === 'none') {{\n",
       "            console.log([gd, 'removed!']);\n",
       "            Plotly.purge(gd);\n",
       "            observer.disconnect();\n",
       "        }}\n",
       "}});\n",
       "\n",
       "// Listen for the removal of the full notebook cells\n",
       "var notebookContainer = gd.closest('#notebook-container');\n",
       "if (notebookContainer) {{\n",
       "    x.observe(notebookContainer, {childList: true});\n",
       "}}\n",
       "\n",
       "// Listen for the clearing of the current output cell\n",
       "var outputEl = gd.closest('.output');\n",
       "if (outputEl) {{\n",
       "    x.observe(outputEl, {childList: true});\n",
       "}}\n",
       "\n",
       "                        })                };                });            </script>        </div>"
      ]
     },
     "metadata": {},
     "output_type": "display_data"
    }
   ],
   "source": [
    "fig = px.line(\n",
    "    cases_df, \n",
    "    x='Date', \n",
    "    y=['Total Cases', 'Total Recovered', 'Total Deaths'], \n",
    "    title='Total Cases, Recovered & Deaths'\n",
    ")\n",
    "fig.update_layout(\n",
    "    legend_title='Legend',\n",
    "    yaxis_title='Cases'\n",
    ")\n",
    "fig.show()"
   ]
  },
  {
   "attachments": {},
   "cell_type": "markdown",
   "metadata": {},
   "source": [
    "### Total Deaths"
   ]
  },
  {
   "cell_type": "code",
   "execution_count": 204,
   "metadata": {},
   "outputs": [
    {
     "data": {
      "application/vnd.plotly.v1+json": {
       "config": {
        "plotlyServerURL": "https://plot.ly"
       },
       "data": [
        {
         "hovertemplate": "Date=%{x}<br>Total Deaths=%{y}<extra></extra>",
         "legendgroup": "",
         "line": {
          "color": "#636efa",
          "dash": "solid"
         },
         "marker": {
          "symbol": "circle"
         },
         "mode": "lines",
         "name": "",
         "orientation": "v",
         "showlegend": false,
         "type": "scatter",
         "x": [
          "03/2020",
          "04/2020",
          "05/2020",
          "06/2020",
          "07/2020",
          "08/2020",
          "09/2020",
          "10/2020",
          "11/2020",
          "12/2020",
          "01/2021",
          "02/2021",
          "03/2021",
          "04/2021",
          "05/2021",
          "06/2021",
          "07/2021",
          "08/2021",
          "09/2021",
          "10/2021",
          "11/2021",
          "12/2021",
          "01/2022",
          "02/2022",
          "03/2022",
          "04/2022",
          "05/2022",
          "06/2022",
          "07/2022",
          "08/2022",
          "09/2022",
          "10/2022",
          "11/2022",
          "12/2022"
         ],
         "xaxis": "x",
         "y": [
          0,
          4,
          9,
          9,
          9,
          12,
          34,
          62,
          137,
          219,
          267,
          315,
          392,
          413,
          419,
          420,
          423,
          441,
          457,
          461,
          468,
          477,
          550,
          605,
          638,
          698,
          721,
          741,
          794,
          801,
          806,
          808,
          809,
          815
         ],
         "yaxis": "y"
        }
       ],
       "layout": {
        "legend": {
         "tracegroupgap": 0
        },
        "template": {
         "data": {
          "bar": [
           {
            "error_x": {
             "color": "#2a3f5f"
            },
            "error_y": {
             "color": "#2a3f5f"
            },
            "marker": {
             "line": {
              "color": "#E5ECF6",
              "width": 0.5
             },
             "pattern": {
              "fillmode": "overlay",
              "size": 10,
              "solidity": 0.2
             }
            },
            "type": "bar"
           }
          ],
          "barpolar": [
           {
            "marker": {
             "line": {
              "color": "#E5ECF6",
              "width": 0.5
             },
             "pattern": {
              "fillmode": "overlay",
              "size": 10,
              "solidity": 0.2
             }
            },
            "type": "barpolar"
           }
          ],
          "carpet": [
           {
            "aaxis": {
             "endlinecolor": "#2a3f5f",
             "gridcolor": "white",
             "linecolor": "white",
             "minorgridcolor": "white",
             "startlinecolor": "#2a3f5f"
            },
            "baxis": {
             "endlinecolor": "#2a3f5f",
             "gridcolor": "white",
             "linecolor": "white",
             "minorgridcolor": "white",
             "startlinecolor": "#2a3f5f"
            },
            "type": "carpet"
           }
          ],
          "choropleth": [
           {
            "colorbar": {
             "outlinewidth": 0,
             "ticks": ""
            },
            "type": "choropleth"
           }
          ],
          "contour": [
           {
            "colorbar": {
             "outlinewidth": 0,
             "ticks": ""
            },
            "colorscale": [
             [
              0,
              "#0d0887"
             ],
             [
              0.1111111111111111,
              "#46039f"
             ],
             [
              0.2222222222222222,
              "#7201a8"
             ],
             [
              0.3333333333333333,
              "#9c179e"
             ],
             [
              0.4444444444444444,
              "#bd3786"
             ],
             [
              0.5555555555555556,
              "#d8576b"
             ],
             [
              0.6666666666666666,
              "#ed7953"
             ],
             [
              0.7777777777777778,
              "#fb9f3a"
             ],
             [
              0.8888888888888888,
              "#fdca26"
             ],
             [
              1,
              "#f0f921"
             ]
            ],
            "type": "contour"
           }
          ],
          "contourcarpet": [
           {
            "colorbar": {
             "outlinewidth": 0,
             "ticks": ""
            },
            "type": "contourcarpet"
           }
          ],
          "heatmap": [
           {
            "colorbar": {
             "outlinewidth": 0,
             "ticks": ""
            },
            "colorscale": [
             [
              0,
              "#0d0887"
             ],
             [
              0.1111111111111111,
              "#46039f"
             ],
             [
              0.2222222222222222,
              "#7201a8"
             ],
             [
              0.3333333333333333,
              "#9c179e"
             ],
             [
              0.4444444444444444,
              "#bd3786"
             ],
             [
              0.5555555555555556,
              "#d8576b"
             ],
             [
              0.6666666666666666,
              "#ed7953"
             ],
             [
              0.7777777777777778,
              "#fb9f3a"
             ],
             [
              0.8888888888888888,
              "#fdca26"
             ],
             [
              1,
              "#f0f921"
             ]
            ],
            "type": "heatmap"
           }
          ],
          "heatmapgl": [
           {
            "colorbar": {
             "outlinewidth": 0,
             "ticks": ""
            },
            "colorscale": [
             [
              0,
              "#0d0887"
             ],
             [
              0.1111111111111111,
              "#46039f"
             ],
             [
              0.2222222222222222,
              "#7201a8"
             ],
             [
              0.3333333333333333,
              "#9c179e"
             ],
             [
              0.4444444444444444,
              "#bd3786"
             ],
             [
              0.5555555555555556,
              "#d8576b"
             ],
             [
              0.6666666666666666,
              "#ed7953"
             ],
             [
              0.7777777777777778,
              "#fb9f3a"
             ],
             [
              0.8888888888888888,
              "#fdca26"
             ],
             [
              1,
              "#f0f921"
             ]
            ],
            "type": "heatmapgl"
           }
          ],
          "histogram": [
           {
            "marker": {
             "pattern": {
              "fillmode": "overlay",
              "size": 10,
              "solidity": 0.2
             }
            },
            "type": "histogram"
           }
          ],
          "histogram2d": [
           {
            "colorbar": {
             "outlinewidth": 0,
             "ticks": ""
            },
            "colorscale": [
             [
              0,
              "#0d0887"
             ],
             [
              0.1111111111111111,
              "#46039f"
             ],
             [
              0.2222222222222222,
              "#7201a8"
             ],
             [
              0.3333333333333333,
              "#9c179e"
             ],
             [
              0.4444444444444444,
              "#bd3786"
             ],
             [
              0.5555555555555556,
              "#d8576b"
             ],
             [
              0.6666666666666666,
              "#ed7953"
             ],
             [
              0.7777777777777778,
              "#fb9f3a"
             ],
             [
              0.8888888888888888,
              "#fdca26"
             ],
             [
              1,
              "#f0f921"
             ]
            ],
            "type": "histogram2d"
           }
          ],
          "histogram2dcontour": [
           {
            "colorbar": {
             "outlinewidth": 0,
             "ticks": ""
            },
            "colorscale": [
             [
              0,
              "#0d0887"
             ],
             [
              0.1111111111111111,
              "#46039f"
             ],
             [
              0.2222222222222222,
              "#7201a8"
             ],
             [
              0.3333333333333333,
              "#9c179e"
             ],
             [
              0.4444444444444444,
              "#bd3786"
             ],
             [
              0.5555555555555556,
              "#d8576b"
             ],
             [
              0.6666666666666666,
              "#ed7953"
             ],
             [
              0.7777777777777778,
              "#fb9f3a"
             ],
             [
              0.8888888888888888,
              "#fdca26"
             ],
             [
              1,
              "#f0f921"
             ]
            ],
            "type": "histogram2dcontour"
           }
          ],
          "mesh3d": [
           {
            "colorbar": {
             "outlinewidth": 0,
             "ticks": ""
            },
            "type": "mesh3d"
           }
          ],
          "parcoords": [
           {
            "line": {
             "colorbar": {
              "outlinewidth": 0,
              "ticks": ""
             }
            },
            "type": "parcoords"
           }
          ],
          "pie": [
           {
            "automargin": true,
            "type": "pie"
           }
          ],
          "scatter": [
           {
            "fillpattern": {
             "fillmode": "overlay",
             "size": 10,
             "solidity": 0.2
            },
            "type": "scatter"
           }
          ],
          "scatter3d": [
           {
            "line": {
             "colorbar": {
              "outlinewidth": 0,
              "ticks": ""
             }
            },
            "marker": {
             "colorbar": {
              "outlinewidth": 0,
              "ticks": ""
             }
            },
            "type": "scatter3d"
           }
          ],
          "scattercarpet": [
           {
            "marker": {
             "colorbar": {
              "outlinewidth": 0,
              "ticks": ""
             }
            },
            "type": "scattercarpet"
           }
          ],
          "scattergeo": [
           {
            "marker": {
             "colorbar": {
              "outlinewidth": 0,
              "ticks": ""
             }
            },
            "type": "scattergeo"
           }
          ],
          "scattergl": [
           {
            "marker": {
             "colorbar": {
              "outlinewidth": 0,
              "ticks": ""
             }
            },
            "type": "scattergl"
           }
          ],
          "scattermapbox": [
           {
            "marker": {
             "colorbar": {
              "outlinewidth": 0,
              "ticks": ""
             }
            },
            "type": "scattermapbox"
           }
          ],
          "scatterpolar": [
           {
            "marker": {
             "colorbar": {
              "outlinewidth": 0,
              "ticks": ""
             }
            },
            "type": "scatterpolar"
           }
          ],
          "scatterpolargl": [
           {
            "marker": {
             "colorbar": {
              "outlinewidth": 0,
              "ticks": ""
             }
            },
            "type": "scatterpolargl"
           }
          ],
          "scatterternary": [
           {
            "marker": {
             "colorbar": {
              "outlinewidth": 0,
              "ticks": ""
             }
            },
            "type": "scatterternary"
           }
          ],
          "surface": [
           {
            "colorbar": {
             "outlinewidth": 0,
             "ticks": ""
            },
            "colorscale": [
             [
              0,
              "#0d0887"
             ],
             [
              0.1111111111111111,
              "#46039f"
             ],
             [
              0.2222222222222222,
              "#7201a8"
             ],
             [
              0.3333333333333333,
              "#9c179e"
             ],
             [
              0.4444444444444444,
              "#bd3786"
             ],
             [
              0.5555555555555556,
              "#d8576b"
             ],
             [
              0.6666666666666666,
              "#ed7953"
             ],
             [
              0.7777777777777778,
              "#fb9f3a"
             ],
             [
              0.8888888888888888,
              "#fdca26"
             ],
             [
              1,
              "#f0f921"
             ]
            ],
            "type": "surface"
           }
          ],
          "table": [
           {
            "cells": {
             "fill": {
              "color": "#EBF0F8"
             },
             "line": {
              "color": "white"
             }
            },
            "header": {
             "fill": {
              "color": "#C8D4E3"
             },
             "line": {
              "color": "white"
             }
            },
            "type": "table"
           }
          ]
         },
         "layout": {
          "annotationdefaults": {
           "arrowcolor": "#2a3f5f",
           "arrowhead": 0,
           "arrowwidth": 1
          },
          "autotypenumbers": "strict",
          "coloraxis": {
           "colorbar": {
            "outlinewidth": 0,
            "ticks": ""
           }
          },
          "colorscale": {
           "diverging": [
            [
             0,
             "#8e0152"
            ],
            [
             0.1,
             "#c51b7d"
            ],
            [
             0.2,
             "#de77ae"
            ],
            [
             0.3,
             "#f1b6da"
            ],
            [
             0.4,
             "#fde0ef"
            ],
            [
             0.5,
             "#f7f7f7"
            ],
            [
             0.6,
             "#e6f5d0"
            ],
            [
             0.7,
             "#b8e186"
            ],
            [
             0.8,
             "#7fbc41"
            ],
            [
             0.9,
             "#4d9221"
            ],
            [
             1,
             "#276419"
            ]
           ],
           "sequential": [
            [
             0,
             "#0d0887"
            ],
            [
             0.1111111111111111,
             "#46039f"
            ],
            [
             0.2222222222222222,
             "#7201a8"
            ],
            [
             0.3333333333333333,
             "#9c179e"
            ],
            [
             0.4444444444444444,
             "#bd3786"
            ],
            [
             0.5555555555555556,
             "#d8576b"
            ],
            [
             0.6666666666666666,
             "#ed7953"
            ],
            [
             0.7777777777777778,
             "#fb9f3a"
            ],
            [
             0.8888888888888888,
             "#fdca26"
            ],
            [
             1,
             "#f0f921"
            ]
           ],
           "sequentialminus": [
            [
             0,
             "#0d0887"
            ],
            [
             0.1111111111111111,
             "#46039f"
            ],
            [
             0.2222222222222222,
             "#7201a8"
            ],
            [
             0.3333333333333333,
             "#9c179e"
            ],
            [
             0.4444444444444444,
             "#bd3786"
            ],
            [
             0.5555555555555556,
             "#d8576b"
            ],
            [
             0.6666666666666666,
             "#ed7953"
            ],
            [
             0.7777777777777778,
             "#fb9f3a"
            ],
            [
             0.8888888888888888,
             "#fdca26"
            ],
            [
             1,
             "#f0f921"
            ]
           ]
          },
          "colorway": [
           "#636efa",
           "#EF553B",
           "#00cc96",
           "#ab63fa",
           "#FFA15A",
           "#19d3f3",
           "#FF6692",
           "#B6E880",
           "#FF97FF",
           "#FECB52"
          ],
          "font": {
           "color": "#2a3f5f"
          },
          "geo": {
           "bgcolor": "white",
           "lakecolor": "white",
           "landcolor": "#E5ECF6",
           "showlakes": true,
           "showland": true,
           "subunitcolor": "white"
          },
          "hoverlabel": {
           "align": "left"
          },
          "hovermode": "closest",
          "mapbox": {
           "style": "light"
          },
          "paper_bgcolor": "white",
          "plot_bgcolor": "#E5ECF6",
          "polar": {
           "angularaxis": {
            "gridcolor": "white",
            "linecolor": "white",
            "ticks": ""
           },
           "bgcolor": "#E5ECF6",
           "radialaxis": {
            "gridcolor": "white",
            "linecolor": "white",
            "ticks": ""
           }
          },
          "scene": {
           "xaxis": {
            "backgroundcolor": "#E5ECF6",
            "gridcolor": "white",
            "gridwidth": 2,
            "linecolor": "white",
            "showbackground": true,
            "ticks": "",
            "zerolinecolor": "white"
           },
           "yaxis": {
            "backgroundcolor": "#E5ECF6",
            "gridcolor": "white",
            "gridwidth": 2,
            "linecolor": "white",
            "showbackground": true,
            "ticks": "",
            "zerolinecolor": "white"
           },
           "zaxis": {
            "backgroundcolor": "#E5ECF6",
            "gridcolor": "white",
            "gridwidth": 2,
            "linecolor": "white",
            "showbackground": true,
            "ticks": "",
            "zerolinecolor": "white"
           }
          },
          "shapedefaults": {
           "line": {
            "color": "#2a3f5f"
           }
          },
          "ternary": {
           "aaxis": {
            "gridcolor": "white",
            "linecolor": "white",
            "ticks": ""
           },
           "baxis": {
            "gridcolor": "white",
            "linecolor": "white",
            "ticks": ""
           },
           "bgcolor": "#E5ECF6",
           "caxis": {
            "gridcolor": "white",
            "linecolor": "white",
            "ticks": ""
           }
          },
          "title": {
           "x": 0.05
          },
          "xaxis": {
           "automargin": true,
           "gridcolor": "white",
           "linecolor": "white",
           "ticks": "",
           "title": {
            "standoff": 15
           },
           "zerolinecolor": "white",
           "zerolinewidth": 2
          },
          "yaxis": {
           "automargin": true,
           "gridcolor": "white",
           "linecolor": "white",
           "ticks": "",
           "title": {
            "standoff": 15
           },
           "zerolinecolor": "white",
           "zerolinewidth": 2
          }
         }
        },
        "title": {
         "text": "Total Deaths"
        },
        "xaxis": {
         "anchor": "y",
         "domain": [
          0,
          1
         ],
         "title": {
          "text": "Date"
         }
        },
        "yaxis": {
         "anchor": "x",
         "domain": [
          0,
          1
         ],
         "title": {
          "text": "Deaths"
         }
        }
       }
      },
      "text/html": [
       "<div>                            <div id=\"a330115e-4f2b-4b62-ab9a-f72a6629b5ec\" class=\"plotly-graph-div\" style=\"height:525px; width:100%;\"></div>            <script type=\"text/javascript\">                require([\"plotly\"], function(Plotly) {                    window.PLOTLYENV=window.PLOTLYENV || {};                                    if (document.getElementById(\"a330115e-4f2b-4b62-ab9a-f72a6629b5ec\")) {                    Plotly.newPlot(                        \"a330115e-4f2b-4b62-ab9a-f72a6629b5ec\",                        [{\"hovertemplate\":\"Date=%{x}<br>Total Deaths=%{y}<extra></extra>\",\"legendgroup\":\"\",\"line\":{\"color\":\"#636efa\",\"dash\":\"solid\"},\"marker\":{\"symbol\":\"circle\"},\"mode\":\"lines\",\"name\":\"\",\"orientation\":\"v\",\"showlegend\":false,\"x\":[\"03/2020\",\"04/2020\",\"05/2020\",\"06/2020\",\"07/2020\",\"08/2020\",\"09/2020\",\"10/2020\",\"11/2020\",\"12/2020\",\"01/2021\",\"02/2021\",\"03/2021\",\"04/2021\",\"05/2021\",\"06/2021\",\"07/2021\",\"08/2021\",\"09/2021\",\"10/2021\",\"11/2021\",\"12/2021\",\"01/2022\",\"02/2022\",\"03/2022\",\"04/2022\",\"05/2022\",\"06/2022\",\"07/2022\",\"08/2022\",\"09/2022\",\"10/2022\",\"11/2022\",\"12/2022\"],\"xaxis\":\"x\",\"y\":[0,4,9,9,9,12,34,62,137,219,267,315,392,413,419,420,423,441,457,461,468,477,550,605,638,698,721,741,794,801,806,808,809,815],\"yaxis\":\"y\",\"type\":\"scatter\"}],                        {\"template\":{\"data\":{\"histogram2dcontour\":[{\"type\":\"histogram2dcontour\",\"colorbar\":{\"outlinewidth\":0,\"ticks\":\"\"},\"colorscale\":[[0.0,\"#0d0887\"],[0.1111111111111111,\"#46039f\"],[0.2222222222222222,\"#7201a8\"],[0.3333333333333333,\"#9c179e\"],[0.4444444444444444,\"#bd3786\"],[0.5555555555555556,\"#d8576b\"],[0.6666666666666666,\"#ed7953\"],[0.7777777777777778,\"#fb9f3a\"],[0.8888888888888888,\"#fdca26\"],[1.0,\"#f0f921\"]]}],\"choropleth\":[{\"type\":\"choropleth\",\"colorbar\":{\"outlinewidth\":0,\"ticks\":\"\"}}],\"histogram2d\":[{\"type\":\"histogram2d\",\"colorbar\":{\"outlinewidth\":0,\"ticks\":\"\"},\"colorscale\":[[0.0,\"#0d0887\"],[0.1111111111111111,\"#46039f\"],[0.2222222222222222,\"#7201a8\"],[0.3333333333333333,\"#9c179e\"],[0.4444444444444444,\"#bd3786\"],[0.5555555555555556,\"#d8576b\"],[0.6666666666666666,\"#ed7953\"],[0.7777777777777778,\"#fb9f3a\"],[0.8888888888888888,\"#fdca26\"],[1.0,\"#f0f921\"]]}],\"heatmap\":[{\"type\":\"heatmap\",\"colorbar\":{\"outlinewidth\":0,\"ticks\":\"\"},\"colorscale\":[[0.0,\"#0d0887\"],[0.1111111111111111,\"#46039f\"],[0.2222222222222222,\"#7201a8\"],[0.3333333333333333,\"#9c179e\"],[0.4444444444444444,\"#bd3786\"],[0.5555555555555556,\"#d8576b\"],[0.6666666666666666,\"#ed7953\"],[0.7777777777777778,\"#fb9f3a\"],[0.8888888888888888,\"#fdca26\"],[1.0,\"#f0f921\"]]}],\"heatmapgl\":[{\"type\":\"heatmapgl\",\"colorbar\":{\"outlinewidth\":0,\"ticks\":\"\"},\"colorscale\":[[0.0,\"#0d0887\"],[0.1111111111111111,\"#46039f\"],[0.2222222222222222,\"#7201a8\"],[0.3333333333333333,\"#9c179e\"],[0.4444444444444444,\"#bd3786\"],[0.5555555555555556,\"#d8576b\"],[0.6666666666666666,\"#ed7953\"],[0.7777777777777778,\"#fb9f3a\"],[0.8888888888888888,\"#fdca26\"],[1.0,\"#f0f921\"]]}],\"contourcarpet\":[{\"type\":\"contourcarpet\",\"colorbar\":{\"outlinewidth\":0,\"ticks\":\"\"}}],\"contour\":[{\"type\":\"contour\",\"colorbar\":{\"outlinewidth\":0,\"ticks\":\"\"},\"colorscale\":[[0.0,\"#0d0887\"],[0.1111111111111111,\"#46039f\"],[0.2222222222222222,\"#7201a8\"],[0.3333333333333333,\"#9c179e\"],[0.4444444444444444,\"#bd3786\"],[0.5555555555555556,\"#d8576b\"],[0.6666666666666666,\"#ed7953\"],[0.7777777777777778,\"#fb9f3a\"],[0.8888888888888888,\"#fdca26\"],[1.0,\"#f0f921\"]]}],\"surface\":[{\"type\":\"surface\",\"colorbar\":{\"outlinewidth\":0,\"ticks\":\"\"},\"colorscale\":[[0.0,\"#0d0887\"],[0.1111111111111111,\"#46039f\"],[0.2222222222222222,\"#7201a8\"],[0.3333333333333333,\"#9c179e\"],[0.4444444444444444,\"#bd3786\"],[0.5555555555555556,\"#d8576b\"],[0.6666666666666666,\"#ed7953\"],[0.7777777777777778,\"#fb9f3a\"],[0.8888888888888888,\"#fdca26\"],[1.0,\"#f0f921\"]]}],\"mesh3d\":[{\"type\":\"mesh3d\",\"colorbar\":{\"outlinewidth\":0,\"ticks\":\"\"}}],\"scatter\":[{\"fillpattern\":{\"fillmode\":\"overlay\",\"size\":10,\"solidity\":0.2},\"type\":\"scatter\"}],\"parcoords\":[{\"type\":\"parcoords\",\"line\":{\"colorbar\":{\"outlinewidth\":0,\"ticks\":\"\"}}}],\"scatterpolargl\":[{\"type\":\"scatterpolargl\",\"marker\":{\"colorbar\":{\"outlinewidth\":0,\"ticks\":\"\"}}}],\"bar\":[{\"error_x\":{\"color\":\"#2a3f5f\"},\"error_y\":{\"color\":\"#2a3f5f\"},\"marker\":{\"line\":{\"color\":\"#E5ECF6\",\"width\":0.5},\"pattern\":{\"fillmode\":\"overlay\",\"size\":10,\"solidity\":0.2}},\"type\":\"bar\"}],\"scattergeo\":[{\"type\":\"scattergeo\",\"marker\":{\"colorbar\":{\"outlinewidth\":0,\"ticks\":\"\"}}}],\"scatterpolar\":[{\"type\":\"scatterpolar\",\"marker\":{\"colorbar\":{\"outlinewidth\":0,\"ticks\":\"\"}}}],\"histogram\":[{\"marker\":{\"pattern\":{\"fillmode\":\"overlay\",\"size\":10,\"solidity\":0.2}},\"type\":\"histogram\"}],\"scattergl\":[{\"type\":\"scattergl\",\"marker\":{\"colorbar\":{\"outlinewidth\":0,\"ticks\":\"\"}}}],\"scatter3d\":[{\"type\":\"scatter3d\",\"line\":{\"colorbar\":{\"outlinewidth\":0,\"ticks\":\"\"}},\"marker\":{\"colorbar\":{\"outlinewidth\":0,\"ticks\":\"\"}}}],\"scattermapbox\":[{\"type\":\"scattermapbox\",\"marker\":{\"colorbar\":{\"outlinewidth\":0,\"ticks\":\"\"}}}],\"scatterternary\":[{\"type\":\"scatterternary\",\"marker\":{\"colorbar\":{\"outlinewidth\":0,\"ticks\":\"\"}}}],\"scattercarpet\":[{\"type\":\"scattercarpet\",\"marker\":{\"colorbar\":{\"outlinewidth\":0,\"ticks\":\"\"}}}],\"carpet\":[{\"aaxis\":{\"endlinecolor\":\"#2a3f5f\",\"gridcolor\":\"white\",\"linecolor\":\"white\",\"minorgridcolor\":\"white\",\"startlinecolor\":\"#2a3f5f\"},\"baxis\":{\"endlinecolor\":\"#2a3f5f\",\"gridcolor\":\"white\",\"linecolor\":\"white\",\"minorgridcolor\":\"white\",\"startlinecolor\":\"#2a3f5f\"},\"type\":\"carpet\"}],\"table\":[{\"cells\":{\"fill\":{\"color\":\"#EBF0F8\"},\"line\":{\"color\":\"white\"}},\"header\":{\"fill\":{\"color\":\"#C8D4E3\"},\"line\":{\"color\":\"white\"}},\"type\":\"table\"}],\"barpolar\":[{\"marker\":{\"line\":{\"color\":\"#E5ECF6\",\"width\":0.5},\"pattern\":{\"fillmode\":\"overlay\",\"size\":10,\"solidity\":0.2}},\"type\":\"barpolar\"}],\"pie\":[{\"automargin\":true,\"type\":\"pie\"}]},\"layout\":{\"autotypenumbers\":\"strict\",\"colorway\":[\"#636efa\",\"#EF553B\",\"#00cc96\",\"#ab63fa\",\"#FFA15A\",\"#19d3f3\",\"#FF6692\",\"#B6E880\",\"#FF97FF\",\"#FECB52\"],\"font\":{\"color\":\"#2a3f5f\"},\"hovermode\":\"closest\",\"hoverlabel\":{\"align\":\"left\"},\"paper_bgcolor\":\"white\",\"plot_bgcolor\":\"#E5ECF6\",\"polar\":{\"bgcolor\":\"#E5ECF6\",\"angularaxis\":{\"gridcolor\":\"white\",\"linecolor\":\"white\",\"ticks\":\"\"},\"radialaxis\":{\"gridcolor\":\"white\",\"linecolor\":\"white\",\"ticks\":\"\"}},\"ternary\":{\"bgcolor\":\"#E5ECF6\",\"aaxis\":{\"gridcolor\":\"white\",\"linecolor\":\"white\",\"ticks\":\"\"},\"baxis\":{\"gridcolor\":\"white\",\"linecolor\":\"white\",\"ticks\":\"\"},\"caxis\":{\"gridcolor\":\"white\",\"linecolor\":\"white\",\"ticks\":\"\"}},\"coloraxis\":{\"colorbar\":{\"outlinewidth\":0,\"ticks\":\"\"}},\"colorscale\":{\"sequential\":[[0.0,\"#0d0887\"],[0.1111111111111111,\"#46039f\"],[0.2222222222222222,\"#7201a8\"],[0.3333333333333333,\"#9c179e\"],[0.4444444444444444,\"#bd3786\"],[0.5555555555555556,\"#d8576b\"],[0.6666666666666666,\"#ed7953\"],[0.7777777777777778,\"#fb9f3a\"],[0.8888888888888888,\"#fdca26\"],[1.0,\"#f0f921\"]],\"sequentialminus\":[[0.0,\"#0d0887\"],[0.1111111111111111,\"#46039f\"],[0.2222222222222222,\"#7201a8\"],[0.3333333333333333,\"#9c179e\"],[0.4444444444444444,\"#bd3786\"],[0.5555555555555556,\"#d8576b\"],[0.6666666666666666,\"#ed7953\"],[0.7777777777777778,\"#fb9f3a\"],[0.8888888888888888,\"#fdca26\"],[1.0,\"#f0f921\"]],\"diverging\":[[0,\"#8e0152\"],[0.1,\"#c51b7d\"],[0.2,\"#de77ae\"],[0.3,\"#f1b6da\"],[0.4,\"#fde0ef\"],[0.5,\"#f7f7f7\"],[0.6,\"#e6f5d0\"],[0.7,\"#b8e186\"],[0.8,\"#7fbc41\"],[0.9,\"#4d9221\"],[1,\"#276419\"]]},\"xaxis\":{\"gridcolor\":\"white\",\"linecolor\":\"white\",\"ticks\":\"\",\"title\":{\"standoff\":15},\"zerolinecolor\":\"white\",\"automargin\":true,\"zerolinewidth\":2},\"yaxis\":{\"gridcolor\":\"white\",\"linecolor\":\"white\",\"ticks\":\"\",\"title\":{\"standoff\":15},\"zerolinecolor\":\"white\",\"automargin\":true,\"zerolinewidth\":2},\"scene\":{\"xaxis\":{\"backgroundcolor\":\"#E5ECF6\",\"gridcolor\":\"white\",\"linecolor\":\"white\",\"showbackground\":true,\"ticks\":\"\",\"zerolinecolor\":\"white\",\"gridwidth\":2},\"yaxis\":{\"backgroundcolor\":\"#E5ECF6\",\"gridcolor\":\"white\",\"linecolor\":\"white\",\"showbackground\":true,\"ticks\":\"\",\"zerolinecolor\":\"white\",\"gridwidth\":2},\"zaxis\":{\"backgroundcolor\":\"#E5ECF6\",\"gridcolor\":\"white\",\"linecolor\":\"white\",\"showbackground\":true,\"ticks\":\"\",\"zerolinecolor\":\"white\",\"gridwidth\":2}},\"shapedefaults\":{\"line\":{\"color\":\"#2a3f5f\"}},\"annotationdefaults\":{\"arrowcolor\":\"#2a3f5f\",\"arrowhead\":0,\"arrowwidth\":1},\"geo\":{\"bgcolor\":\"white\",\"landcolor\":\"#E5ECF6\",\"subunitcolor\":\"white\",\"showland\":true,\"showlakes\":true,\"lakecolor\":\"white\"},\"title\":{\"x\":0.05},\"mapbox\":{\"style\":\"light\"}}},\"xaxis\":{\"anchor\":\"y\",\"domain\":[0.0,1.0],\"title\":{\"text\":\"Date\"}},\"yaxis\":{\"anchor\":\"x\",\"domain\":[0.0,1.0],\"title\":{\"text\":\"Deaths\"}},\"legend\":{\"tracegroupgap\":0},\"title\":{\"text\":\"Total Deaths\"}},                        {\"responsive\": true}                    ).then(function(){\n",
       "                            \n",
       "var gd = document.getElementById('a330115e-4f2b-4b62-ab9a-f72a6629b5ec');\n",
       "var x = new MutationObserver(function (mutations, observer) {{\n",
       "        var display = window.getComputedStyle(gd).display;\n",
       "        if (!display || display === 'none') {{\n",
       "            console.log([gd, 'removed!']);\n",
       "            Plotly.purge(gd);\n",
       "            observer.disconnect();\n",
       "        }}\n",
       "}});\n",
       "\n",
       "// Listen for the removal of the full notebook cells\n",
       "var notebookContainer = gd.closest('#notebook-container');\n",
       "if (notebookContainer) {{\n",
       "    x.observe(notebookContainer, {childList: true});\n",
       "}}\n",
       "\n",
       "// Listen for the clearing of the current output cell\n",
       "var outputEl = gd.closest('.output');\n",
       "if (outputEl) {{\n",
       "    x.observe(outputEl, {childList: true});\n",
       "}}\n",
       "\n",
       "                        })                };                });            </script>        </div>"
      ]
     },
     "metadata": {},
     "output_type": "display_data"
    }
   ],
   "source": [
    "fig = px.line(cases_df, x='Date', y='Total Deaths', title='Total Deaths')\n",
    "fig.update_layout(\n",
    "    yaxis_title='Deaths'\n",
    ")\n",
    "fig.show()"
   ]
  }
 ],
 "metadata": {
  "kernelspec": {
   "display_name": "py310",
   "language": "python",
   "name": "python3"
  },
  "language_info": {
   "codemirror_mode": {
    "name": "ipython",
    "version": 3
   },
   "file_extension": ".py",
   "mimetype": "text/x-python",
   "name": "python",
   "nbconvert_exporter": "python",
   "pygments_lexer": "ipython3",
   "version": "3.10.8"
  },
  "orig_nbformat": 4,
  "vscode": {
   "interpreter": {
    "hash": "fd73a08ebfed5433cd8e7bec8dd57f9e869d8a2ae9357aec0275b59f3995a68c"
   }
  }
 },
 "nbformat": 4,
 "nbformat_minor": 2
}
