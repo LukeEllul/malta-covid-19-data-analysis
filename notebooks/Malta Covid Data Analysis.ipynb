{
 "cells": [
  {
   "cell_type": "code",
   "execution_count": null,
   "metadata": {},
   "outputs": [],
   "source": []
  }
 ],
 "metadata": {
  "kernelspec": {
   "display_name": "py310",
   "language": "python",
   "name": "python3"
  },
  "language_info": {
   "name": "python",
   "version": "3.10.8 | packaged by conda-forge | (main, Nov 22 2022, 08:26:04) [GCC 10.4.0]"
  },
  "orig_nbformat": 4,
  "vscode": {
   "interpreter": {
    "hash": "fd73a08ebfed5433cd8e7bec8dd57f9e869d8a2ae9357aec0275b59f3995a68c"
   }
  }
 },
 "nbformat": 4,
 "nbformat_minor": 2
}
